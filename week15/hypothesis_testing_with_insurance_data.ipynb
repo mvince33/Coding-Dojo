{
 "cells": [
  {
   "cell_type": "markdown",
   "id": "b4f38834",
   "metadata": {},
   "source": [
    "# Hypothesis Testing With Insurance Data\n",
    "- Michael Vincent\n",
    "- 9/27"
   ]
  },
  {
   "cell_type": "markdown",
   "id": "ea5b8d54",
   "metadata": {
    "heading_collapsed": true
   },
   "source": [
    "## Imports"
   ]
  },
  {
   "cell_type": "code",
   "execution_count": 1,
   "id": "ad18ff53",
   "metadata": {
    "hidden": true
   },
   "outputs": [],
   "source": [
    "# Imports\n",
    "import numpy as np\n",
    "import pandas as pd\n",
    "import matplotlib.pyplot as plt\n",
    "import seaborn as sns\n",
    "import scipy.stats as stats"
   ]
  },
  {
   "cell_type": "markdown",
   "id": "5a03e5e2",
   "metadata": {
    "heading_collapsed": true
   },
   "source": [
    "## Load the data"
   ]
  },
  {
   "cell_type": "code",
   "execution_count": 2,
   "id": "81801e60",
   "metadata": {
    "hidden": true
   },
   "outputs": [
    {
     "data": {
      "text/html": [
       "<div>\n",
       "<style scoped>\n",
       "    .dataframe tbody tr th:only-of-type {\n",
       "        vertical-align: middle;\n",
       "    }\n",
       "\n",
       "    .dataframe tbody tr th {\n",
       "        vertical-align: top;\n",
       "    }\n",
       "\n",
       "    .dataframe thead th {\n",
       "        text-align: right;\n",
       "    }\n",
       "</style>\n",
       "<table border=\"1\" class=\"dataframe\">\n",
       "  <thead>\n",
       "    <tr style=\"text-align: right;\">\n",
       "      <th></th>\n",
       "      <th>age</th>\n",
       "      <th>sex</th>\n",
       "      <th>bmi</th>\n",
       "      <th>children</th>\n",
       "      <th>smoker</th>\n",
       "      <th>region</th>\n",
       "      <th>charges</th>\n",
       "    </tr>\n",
       "  </thead>\n",
       "  <tbody>\n",
       "    <tr>\n",
       "      <th>0</th>\n",
       "      <td>19</td>\n",
       "      <td>female</td>\n",
       "      <td>27.900</td>\n",
       "      <td>0</td>\n",
       "      <td>yes</td>\n",
       "      <td>southwest</td>\n",
       "      <td>16884.92400</td>\n",
       "    </tr>\n",
       "    <tr>\n",
       "      <th>1</th>\n",
       "      <td>18</td>\n",
       "      <td>male</td>\n",
       "      <td>33.770</td>\n",
       "      <td>1</td>\n",
       "      <td>no</td>\n",
       "      <td>southeast</td>\n",
       "      <td>1725.55230</td>\n",
       "    </tr>\n",
       "    <tr>\n",
       "      <th>2</th>\n",
       "      <td>28</td>\n",
       "      <td>male</td>\n",
       "      <td>33.000</td>\n",
       "      <td>3</td>\n",
       "      <td>no</td>\n",
       "      <td>southeast</td>\n",
       "      <td>4449.46200</td>\n",
       "    </tr>\n",
       "    <tr>\n",
       "      <th>3</th>\n",
       "      <td>33</td>\n",
       "      <td>male</td>\n",
       "      <td>22.705</td>\n",
       "      <td>0</td>\n",
       "      <td>no</td>\n",
       "      <td>northwest</td>\n",
       "      <td>21984.47061</td>\n",
       "    </tr>\n",
       "    <tr>\n",
       "      <th>4</th>\n",
       "      <td>32</td>\n",
       "      <td>male</td>\n",
       "      <td>28.880</td>\n",
       "      <td>0</td>\n",
       "      <td>no</td>\n",
       "      <td>northwest</td>\n",
       "      <td>3866.85520</td>\n",
       "    </tr>\n",
       "  </tbody>\n",
       "</table>\n",
       "</div>"
      ],
      "text/plain": [
       "   age     sex     bmi  children smoker     region      charges\n",
       "0   19  female  27.900         0    yes  southwest  16884.92400\n",
       "1   18    male  33.770         1     no  southeast   1725.55230\n",
       "2   28    male  33.000         3     no  southeast   4449.46200\n",
       "3   33    male  22.705         0     no  northwest  21984.47061\n",
       "4   32    male  28.880         0     no  northwest   3866.85520"
      ]
     },
     "execution_count": 2,
     "metadata": {},
     "output_type": "execute_result"
    }
   ],
   "source": [
    "# Load the data\n",
    "df = pd.read_csv('data/insurance.csv')\n",
    "df.head()"
   ]
  },
  {
   "cell_type": "markdown",
   "id": "aad72860",
   "metadata": {},
   "source": [
    "## Question 1"
   ]
  },
  {
   "cell_type": "markdown",
   "id": "316fd94f",
   "metadata": {},
   "source": [
    "Null and alternative hypotheses:\n",
    "\n",
    "$H_0$: There is no difference in the insurance charges for smokers and nonsmokers. \n",
    "\n",
    "$H_1$: The insurance charges for smokers are higher than nonsmokers.\n",
    "\n",
    "> We have two groups being compared over a continuous variable so we will use a two sample $t$-test for this hypothesis test."
   ]
  },
  {
   "cell_type": "code",
   "execution_count": 3,
   "id": "e19d5c3c",
   "metadata": {},
   "outputs": [],
   "source": [
    "# Split the data into smokers and nonsmokers\n",
    "smokers = df[df['smoker'] == 'yes'].copy()\n",
    "nonsmokers = df[df['smoker'] == 'no'].copy()\n",
    "\n",
    "# Get the insurance charges for each group\n",
    "smokers_charges = smokers['charges']\n",
    "nonsmokers_charges = nonsmokers['charges']"
   ]
  },
  {
   "cell_type": "code",
   "execution_count": 4,
   "id": "6bb10559",
   "metadata": {},
   "outputs": [
    {
     "data": {
      "text/plain": [
       "0"
      ]
     },
     "execution_count": 4,
     "metadata": {},
     "output_type": "execute_result"
    }
   ],
   "source": [
    "# Check for outliers among the smokers\n",
    "smokers_zscores = stats.zscore(smokers_charges)\n",
    "smokers_outliers = abs(smokers_zscores) > 3\n",
    "sum(smokers_outliers)"
   ]
  },
  {
   "cell_type": "markdown",
   "id": "2731dcf2",
   "metadata": {},
   "source": [
    "> There are no outliers for the insurance charges of smokers."
   ]
  },
  {
   "cell_type": "code",
   "execution_count": 5,
   "id": "a442f2d9",
   "metadata": {},
   "outputs": [
    {
     "data": {
      "text/plain": [
       "0"
      ]
     },
     "execution_count": 5,
     "metadata": {},
     "output_type": "execute_result"
    }
   ],
   "source": [
    "# Check for outliers among the nonsmokers\n",
    "nonsmokers_zscores = stats.zscore(nonsmokers_charges)\n",
    "nonsmokers_outliers = abs(smokers_zscores) > 3\n",
    "sum(nonsmokers_outliers)"
   ]
  },
  {
   "cell_type": "markdown",
   "id": "499b4e4f",
   "metadata": {},
   "source": [
    "> There are no outliers for the insurance charges of nonsmokers"
   ]
  },
  {
   "cell_type": "code",
   "execution_count": 6,
   "id": "a8fdc0eb",
   "metadata": {},
   "outputs": [
    {
     "name": "stdout",
     "output_type": "stream",
     "text": [
      "NormaltestResult(statistic=61.03941356533816, pvalue=5.564930630036463e-14)\n",
      "NormaltestResult(statistic=316.4528082392722, pvalue=1.9193129759002216e-69)\n"
     ]
    }
   ],
   "source": [
    "# Check each group for normality\n",
    "print(stats.normaltest(smokers_charges))\n",
    "print(stats.normaltest(nonsmokers_charges))"
   ]
  },
  {
   "cell_type": "markdown",
   "id": "2cb1cf57",
   "metadata": {},
   "source": [
    "> Both tests have $p$-values less than 0.05, so we reject the null hypothesis that the each group is normal."
   ]
  },
  {
   "cell_type": "code",
   "execution_count": 7,
   "id": "78771020",
   "metadata": {},
   "outputs": [
    {
     "name": "stdout",
     "output_type": "stream",
     "text": [
      "274\n",
      "1064\n"
     ]
    }
   ],
   "source": [
    "# Check the sample sizes\n",
    "print(len(smokers_charges))\n",
    "print(len(nonsmokers_charges))"
   ]
  },
  {
   "cell_type": "markdown",
   "id": "91e4f0b4",
   "metadata": {},
   "source": [
    "> Each group has a sample size larger than 30, so we can proceed with a 2 sample $t$-test. (Provided we meet the equal variance assumption.)"
   ]
  },
  {
   "cell_type": "code",
   "execution_count": 8,
   "id": "47e2bf33",
   "metadata": {},
   "outputs": [
    {
     "data": {
      "text/plain": [
       "LeveneResult(statistic=332.6135162726081, pvalue=1.5593284881803726e-66)"
      ]
     },
     "execution_count": 8,
     "metadata": {},
     "output_type": "execute_result"
    }
   ],
   "source": [
    "# Check for equal variance\n",
    "stats.levene(smokers_charges, nonsmokers_charges)"
   ]
  },
  {
   "cell_type": "markdown",
   "id": "080e31d0",
   "metadata": {},
   "source": [
    "> Our $p$-value is less than 0.05, so we reject the null hypothesis that the samples have equal variance. We can proceed with the 2 sample $t$-test provided we pass the parameter equal_var = False."
   ]
  },
  {
   "cell_type": "code",
   "execution_count": 9,
   "id": "d0c8d2ab",
   "metadata": {},
   "outputs": [
    {
     "data": {
      "text/plain": [
       "Ttest_indResult(statistic=32.751887766341824, pvalue=5.88946444671698e-103)"
      ]
     },
     "execution_count": 9,
     "metadata": {},
     "output_type": "execute_result"
    }
   ],
   "source": [
    "# Perform the 2 sample t-test\n",
    "results = stats.ttest_ind(smokers_charges, nonsmokers_charges, \n",
    "                          equal_var = False)\n",
    "results"
   ]
  },
  {
   "cell_type": "markdown",
   "id": "703fda1a",
   "metadata": {},
   "source": [
    "> Our $p$-value is less than our $\\alpha$ of 0.05 so we reject the null hypothesis. That is, our data supports the claim that the insurance charges for smokers are higher than the insurance charges for nonsmokers."
   ]
  },
  {
   "cell_type": "code",
   "execution_count": 38,
   "id": "d4c6e40c",
   "metadata": {},
   "outputs": [
    {
     "data": {
      "image/png": "[encoded data removed]",
      "text/plain": [
       "<Figure size 640x480 with 1 Axes>"
      ]
     },
     "metadata": {},
     "output_type": "display_data"
    }
   ],
   "source": [
    "# Make histograms for the insurance charges for smokers and nonsmokers.\n",
    "sns.histplot(x = df['charges'], hue = df['smoker']);\n",
    "plt.title('Histogram of Insurance Charges for Smokers and Nonsmokers');"
   ]
  },
  {
   "cell_type": "markdown",
   "id": "97134f4b",
   "metadata": {},
   "source": [
    "> We see from these histograms that smokers do indeed accrue more of the higher insurance charges. This is not surprising. What is curious about this graph is that nonsmokers accrue more lower insurance charges. Perhaps this is because nonsmokers are more likely to be proactive with their health and are therefore more likely to make routine doctor visits."
   ]
  },
  {
   "cell_type": "markdown",
   "id": "25d86677",
   "metadata": {
    "heading_collapsed": true
   },
   "source": [
    "## Question 2"
   ]
  },
  {
   "cell_type": "markdown",
   "id": "d4c1ca99",
   "metadata": {
    "hidden": true
   },
   "source": [
    "Null and alternative hypotheses:\n",
    "\n",
    "$H_0:$ Men are just as likely to be smokers as women.\n",
    "\n",
    "$H_1:$ There are more male smokers than female smokers.\n",
    "\n",
    "> We have two groups being compared across two categories so we will use a Chi-square test."
   ]
  },
  {
   "cell_type": "code",
   "execution_count": 11,
   "id": "279e0110",
   "metadata": {
    "hidden": true
   },
   "outputs": [
    {
     "data": {
      "text/html": [
       "<div>\n",
       "<style scoped>\n",
       "    .dataframe tbody tr th:only-of-type {\n",
       "        vertical-align: middle;\n",
       "    }\n",
       "\n",
       "    .dataframe tbody tr th {\n",
       "        vertical-align: top;\n",
       "    }\n",
       "\n",
       "    .dataframe thead th {\n",
       "        text-align: right;\n",
       "    }\n",
       "</style>\n",
       "<table border=\"1\" class=\"dataframe\">\n",
       "  <thead>\n",
       "    <tr style=\"text-align: right;\">\n",
       "      <th>smoker</th>\n",
       "      <th>no</th>\n",
       "      <th>yes</th>\n",
       "    </tr>\n",
       "    <tr>\n",
       "      <th>sex</th>\n",
       "      <th></th>\n",
       "      <th></th>\n",
       "    </tr>\n",
       "  </thead>\n",
       "  <tbody>\n",
       "    <tr>\n",
       "      <th>female</th>\n",
       "      <td>547</td>\n",
       "      <td>115</td>\n",
       "    </tr>\n",
       "    <tr>\n",
       "      <th>male</th>\n",
       "      <td>517</td>\n",
       "      <td>159</td>\n",
       "    </tr>\n",
       "  </tbody>\n",
       "</table>\n",
       "</div>"
      ],
      "text/plain": [
       "smoker   no  yes\n",
       "sex             \n",
       "female  547  115\n",
       "male    517  159"
      ]
     },
     "execution_count": 11,
     "metadata": {},
     "output_type": "execute_result"
    }
   ],
   "source": [
    "# Construct the contingency table for the hypothesis test.\n",
    "table = pd.crosstab(df['sex'], df['smoker'])\n",
    "table"
   ]
  },
  {
   "cell_type": "code",
   "execution_count": 12,
   "id": "4e8e8b5a",
   "metadata": {
    "hidden": true
   },
   "outputs": [
    {
     "name": "stdout",
     "output_type": "stream",
     "text": [
      "31% of the men in our sample are smokers.\n",
      "21% of the women in our sample are smokers.\n"
     ]
    }
   ],
   "source": [
    "# Check the ratios of smokers among the genders.\n",
    "print(f'{round(159 / 517 * 100)}% of the men in our sample are smokers.')\n",
    "print(f'{round(115 / 547 * 100)}% of the women in our sample are smokers.')"
   ]
  },
  {
   "cell_type": "markdown",
   "id": "118d9cad",
   "metadata": {
    "hidden": true
   },
   "source": [
    "> Our sample data does suggest men smoke at a greater rate than women. Our hypothesis test will tell us if this result is significant."
   ]
  },
  {
   "cell_type": "code",
   "execution_count": 13,
   "id": "af50beb7",
   "metadata": {
    "hidden": true
   },
   "outputs": [
    {
     "data": {
      "text/plain": [
       "0.006548143503580696"
      ]
     },
     "execution_count": 13,
     "metadata": {},
     "output_type": "execute_result"
    }
   ],
   "source": [
    "# Perform the hypothesis test\n",
    "chi2, p, deg_free, expected_vals = stats.chi2_contingency(table)\n",
    "p"
   ]
  },
  {
   "cell_type": "markdown",
   "id": "d93fbb47",
   "metadata": {
    "hidden": true
   },
   "source": [
    "> Our $p$-value is less than our $\\alpha$ of 0.05, so our data supports the claim that men are more likely to smoke than women."
   ]
  },
  {
   "cell_type": "code",
   "execution_count": 14,
   "id": "1f56585d",
   "metadata": {
    "hidden": true
   },
   "outputs": [
    {
     "data": {
      "image/png": "[encoded data removed]",
      "text/plain": [
       "<Figure size 640x480 with 1 Axes>"
      ]
     },
     "metadata": {},
     "output_type": "display_data"
    },
    {
     "data": {
      "image/png": "[encoded data removed]",
      "text/plain": [
       "<Figure size 640x480 with 1 Axes>"
      ]
     },
     "metadata": {},
     "output_type": "display_data"
    }
   ],
   "source": [
    "smokers = df[df['smoker'] == 'yes']\n",
    "nonsmokers = df[df['smoker'] == 'no']\n",
    "sns.countplot(x = smokers['sex']);\n",
    "plt.title('Smokers by Gender');\n",
    "plt.show()\n",
    "sns.countplot(x = nonsmokers['sex']);\n",
    "plt.title('Nonsmokers by Gender');"
   ]
  },
  {
   "cell_type": "markdown",
   "id": "e589f0de",
   "metadata": {
    "heading_collapsed": true
   },
   "source": [
    "## Question 3"
   ]
  },
  {
   "cell_type": "markdown",
   "id": "b70cbc75",
   "metadata": {
    "hidden": true
   },
   "source": [
    "Null and alternative hypotheses:\n",
    "\n",
    "$H_0$: The average insurance charge is the same regardless of region.\n",
    "\n",
    "$H_1$: There are significant differences in the insurance charges across the different regions."
   ]
  },
  {
   "cell_type": "code",
   "execution_count": 15,
   "id": "4899b65c",
   "metadata": {
    "hidden": true
   },
   "outputs": [
    {
     "data": {
      "text/plain": [
       "array(['southwest', 'southeast', 'northwest', 'northeast'], dtype=object)"
      ]
     },
     "execution_count": 15,
     "metadata": {},
     "output_type": "execute_result"
    }
   ],
   "source": [
    "# Find out how many regions there are\n",
    "df['region'].unique()"
   ]
  },
  {
   "cell_type": "markdown",
   "id": "e695b616",
   "metadata": {
    "hidden": true
   },
   "source": [
    "> There are four regions, and since insurance charges are a continuous variable we will use an ANOVA test."
   ]
  },
  {
   "cell_type": "code",
   "execution_count": 16,
   "id": "bbfe2225",
   "metadata": {
    "hidden": true
   },
   "outputs": [
    {
     "data": {
      "text/plain": [
       "dict_keys(['southwest', 'southeast', 'northwest', 'northeast'])"
      ]
     },
     "execution_count": 16,
     "metadata": {},
     "output_type": "execute_result"
    }
   ],
   "source": [
    "# Make a dictionary for the different regions\n",
    "groups = {}\n",
    "for region in df['region'].unique():\n",
    "    groups[region] = df.loc[df['region'] == region, 'charges'].copy()\n",
    "groups.keys()"
   ]
  },
  {
   "cell_type": "code",
   "execution_count": 17,
   "id": "4c9c08cc",
   "metadata": {
    "hidden": true
   },
   "outputs": [
    {
     "data": {
      "text/html": [
       "<div>\n",
       "<style scoped>\n",
       "    .dataframe tbody tr th:only-of-type {\n",
       "        vertical-align: middle;\n",
       "    }\n",
       "\n",
       "    .dataframe tbody tr th {\n",
       "        vertical-align: top;\n",
       "    }\n",
       "\n",
       "    .dataframe thead th {\n",
       "        text-align: right;\n",
       "    }\n",
       "</style>\n",
       "<table border=\"1\" class=\"dataframe\">\n",
       "  <thead>\n",
       "    <tr style=\"text-align: right;\">\n",
       "      <th></th>\n",
       "      <th>n</th>\n",
       "      <th>p</th>\n",
       "      <th>test stat</th>\n",
       "      <th>is normal</th>\n",
       "    </tr>\n",
       "  </thead>\n",
       "  <tbody>\n",
       "    <tr>\n",
       "      <th>southwest</th>\n",
       "      <td>325</td>\n",
       "      <td>0.0</td>\n",
       "      <td>102.294059</td>\n",
       "      <td>False</td>\n",
       "    </tr>\n",
       "    <tr>\n",
       "      <th>southeast</th>\n",
       "      <td>364</td>\n",
       "      <td>0.0</td>\n",
       "      <td>65.877446</td>\n",
       "      <td>False</td>\n",
       "    </tr>\n",
       "    <tr>\n",
       "      <th>northwest</th>\n",
       "      <td>325</td>\n",
       "      <td>0.0</td>\n",
       "      <td>107.23285</td>\n",
       "      <td>False</td>\n",
       "    </tr>\n",
       "    <tr>\n",
       "      <th>northeast</th>\n",
       "      <td>324</td>\n",
       "      <td>0.0</td>\n",
       "      <td>86.747629</td>\n",
       "      <td>False</td>\n",
       "    </tr>\n",
       "  </tbody>\n",
       "</table>\n",
       "</div>"
      ],
      "text/plain": [
       "             n    p   test stat is normal\n",
       "southwest  325  0.0  102.294059     False\n",
       "southeast  364  0.0   65.877446     False\n",
       "northwest  325  0.0   107.23285     False\n",
       "northeast  324  0.0   86.747629     False"
      ]
     },
     "execution_count": 17,
     "metadata": {},
     "output_type": "execute_result"
    }
   ],
   "source": [
    "# Check the normality and sample size for each group\n",
    "norm_results = {}\n",
    "for region, data in groups.items():\n",
    "    stat, p = stats.normaltest(data)\n",
    "    norm_results[region] = {'n': len(data),\n",
    "                            'p': p,\n",
    "                            'test stat': stat,\n",
    "                            'is normal': p > 0.05}\n",
    "pd.DataFrame(norm_results).T"
   ]
  },
  {
   "cell_type": "markdown",
   "id": "a1a53ea2",
   "metadata": {
    "hidden": true
   },
   "source": [
    "> None of the groups are normal, however the sample size for each group is large enough that we may proceed with an ANOVA hypothesis test."
   ]
  },
  {
   "cell_type": "code",
   "execution_count": 18,
   "id": "c3813c02",
   "metadata": {
    "hidden": true
   },
   "outputs": [
    {
     "data": {
      "text/plain": [
       "LeveneResult(statistic=5.559966758410606, pvalue=0.0008610590250786703)"
      ]
     },
     "execution_count": 18,
     "metadata": {},
     "output_type": "execute_result"
    }
   ],
   "source": [
    "# Test for equal variance\n",
    "stats.levene(*groups.values())"
   ]
  },
  {
   "cell_type": "markdown",
   "id": "e5d6f1ec",
   "metadata": {
    "hidden": true
   },
   "source": [
    "> Our $p$-value is less than 0.05, so we reject the null hypothesis that the groups have the same variance. We will use the Kruskal-Wallis test since we don't have equal variance."
   ]
  },
  {
   "cell_type": "code",
   "execution_count": 21,
   "id": "6b3c3503",
   "metadata": {
    "hidden": true
   },
   "outputs": [
    {
     "data": {
      "text/plain": [
       "KruskalResult(statistic=4.734181215658743, pvalue=0.19232908072121002)"
      ]
     },
     "execution_count": 21,
     "metadata": {},
     "output_type": "execute_result"
    }
   ],
   "source": [
    "# Perform the hypothesis test.\n",
    "results = stats.kruskal(*groups.values())\n",
    "results"
   ]
  },
  {
   "cell_type": "markdown",
   "id": "1c64a767",
   "metadata": {
    "hidden": true
   },
   "source": [
    "> Our $p$-value is greater than our $\\alpha$ of 0.05 so we fail to reject the null hypothesis. That is, the evidence is not strong enough to claim there is a significant difference in the insurance charges across the different regions."
   ]
  },
  {
   "cell_type": "code",
   "execution_count": 37,
   "id": "6d0bd287",
   "metadata": {
    "hidden": true
   },
   "outputs": [
    {
     "data": {
      "image/png": "[encoded data removed]",
      "text/plain": [
       "<Figure size 640x480 with 1 Axes>"
      ]
     },
     "metadata": {},
     "output_type": "display_data"
    }
   ],
   "source": [
    "# Construct a barplot of the average insurance charge by region.\n",
    "plt.bar(x = df.groupby('region')['charges'].mean().index,\n",
    "        height = df.groupby('region')['charges'].mean().values);\n",
    "plt.title('Average Insurance Charge by Region');"
   ]
  }
 ],
 "metadata": {
  "kernelspec": {
   "display_name": "Python (dojo-env)",
   "language": "python",
   "name": "dojo-env"
  },
  "language_info": {
   "codemirror_mode": {
    "name": "ipython",
    "version": 3
   },
   "file_extension": ".py",
   "mimetype": "text/x-python",
   "name": "python",
   "nbconvert_exporter": "python",
   "pygments_lexer": "ipython3",
   "version": "3.8.13"
  },
  "toc": {
   "base_numbering": 1,
   "nav_menu": {},
   "number_sections": false,
   "sideBar": true,
   "skip_h1_title": false,
   "title_cell": "Table of Contents",
   "title_sidebar": "Contents",
   "toc_cell": false,
   "toc_position": {},
   "toc_section_display": true,
   "toc_window_display": false
  }
 },
 "nbformat": 4,
 "nbformat_minor": 5
}

{
  "nbformat": 4,
  "nbformat_minor": 0,
  "metadata": {
    "colab": {
      "name": "pipelines.ipynb",
      "provenance": [],
      "authorship_tag": "ABX9TyPjBpDp1vluK+M4Bes5qSRD",
      "include_colab_link": true
    },
    "kernelspec": {
      "name": "python3",
      "display_name": "Python 3"
    },
    "language_info": {
      "name": "python"
    }
  },
  "cells": [
    {
      "cell_type": "markdown",
      "metadata": {
        "id": "view-in-github",
        "colab_type": "text"
      },
      "source": [
        "<a href=\"https://colab.research.google.com/github/mvince33/Coding-Dojo/blob/main/pipelines.ipynb\" target=\"_parent\"><img src=\"https://colab.research.google.com/assets/colab-badge.svg\" alt=\"Open In Colab\"/></a>"
      ]
    },
    {
      "cell_type": "code",
      "execution_count": 5,
      "metadata": {
        "id": "wX0NY0tudkJn"
      },
      "outputs": [],
      "source": [
        "# Imports\n",
        "import numpy as np\n",
        "import pandas as pd\n",
        "from sklearn.pipeline import make_pipeline\n",
        "from sklearn.impute import SimpleImputer\n",
        "from sklearn.preprocessing import StandardScaler\n",
        "from sklearn.model_selection import train_test_split\n",
        "from sklearn import set_config\n",
        "set_config(display = 'diagram')"
      ]
    },
    {
      "cell_type": "code",
      "source": [
        "# Load the data\n",
        "url = 'https://docs.google.com/spreadsheets/d/e/2PACX-1vTWgxeo-6msf7S-r9plFHodzGup8gTQifOIwJ78Al9a15aWglsJCR9VcU2VwwbT7RpdozD3EV6Vwg82/pub?output=csv'\n",
        "df = pd.read_csv(url, index_col = 'CountryYear')\n",
        "df.head()"
      ],
      "metadata": {
        "colab": {
          "base_uri": "https://localhost:8080/",
          "height": 354
        },
        "id": "9MKxvbmTdn4J",
        "outputId": "72da1dbc-7b9c-4a13-ce94-2a13b46d6134"
      },
      "execution_count": 6,
      "outputs": [
        {
          "output_type": "execute_result",
          "data": {
            "text/plain": [
              "                 Status  Life expectancy  Adult Mortality  infant deaths  \\\n",
              "CountryYear                                                                \n",
              "Afghanistan2015       0             65.0              263             62   \n",
              "Afghanistan2014       0             59.9              271             64   \n",
              "Afghanistan2013       0             59.9              268             66   \n",
              "Afghanistan2012       0             59.5              272             69   \n",
              "Afghanistan2011       0             59.2              275             71   \n",
              "\n",
              "                 Alcohol  percentage expenditure  Hepatitis B  Measles   BMI  \\\n",
              "CountryYear                                                                    \n",
              "Afghanistan2015     0.01               71.279624         65.0     1154  19.1   \n",
              "Afghanistan2014     0.01               73.523582         62.0      492  18.6   \n",
              "Afghanistan2013     0.01               73.219243         64.0      430  18.1   \n",
              "Afghanistan2012     0.01               78.184215         67.0     2787  17.6   \n",
              "Afghanistan2011     0.01                7.097109         68.0     3013  17.2   \n",
              "\n",
              "                 under-five deaths  Polio  Total expenditure  Diphtheria  \\\n",
              "CountryYear                                                                \n",
              "Afghanistan2015                 83    6.0               8.16        65.0   \n",
              "Afghanistan2014                 86   58.0               8.18        62.0   \n",
              "Afghanistan2013                 89   62.0               8.13        64.0   \n",
              "Afghanistan2012                 93   67.0               8.52        67.0   \n",
              "Afghanistan2011                 97   68.0               7.87        68.0   \n",
              "\n",
              "                 HIV/AIDS         GDP  Population  thinness  1-19 years  \\\n",
              "CountryYear                                                               \n",
              "Afghanistan2015       0.1  584.259210  33736494.0                  17.2   \n",
              "Afghanistan2014       0.1  612.696514    327582.0                  17.5   \n",
              "Afghanistan2013       0.1  631.744976  31731688.0                  17.7   \n",
              "Afghanistan2012       0.1  669.959000   3696958.0                  17.9   \n",
              "Afghanistan2011       0.1   63.537231   2978599.0                  18.2   \n",
              "\n",
              "                 thinness 5-9 years  Income composition of resources  \\\n",
              "CountryYear                                                            \n",
              "Afghanistan2015                17.3                            0.479   \n",
              "Afghanistan2014                17.5                            0.476   \n",
              "Afghanistan2013                17.7                            0.470   \n",
              "Afghanistan2012                18.0                            0.463   \n",
              "Afghanistan2011                18.2                            0.454   \n",
              "\n",
              "                 Schooling  \n",
              "CountryYear                 \n",
              "Afghanistan2015       10.1  \n",
              "Afghanistan2014       10.0  \n",
              "Afghanistan2013        9.9  \n",
              "Afghanistan2012        9.8  \n",
              "Afghanistan2011        9.5  "
            ],
            "text/html": [
              "\n",
              "  <div id=\"df-46bda7e0-d2f0-49b7-badc-70ffa13fe770\">\n",
              "    <div class=\"colab-df-container\">\n",
              "      <div>\n",
              "<style scoped>\n",
              "    .dataframe tbody tr th:only-of-type {\n",
              "        vertical-align: middle;\n",
              "    }\n",
              "\n",
              "    .dataframe tbody tr th {\n",
              "        vertical-align: top;\n",
              "    }\n",
              "\n",
              "    .dataframe thead th {\n",
              "        text-align: right;\n",
              "    }\n",
              "</style>\n",
              "<table border=\"1\" class=\"dataframe\">\n",
              "  <thead>\n",
              "    <tr style=\"text-align: right;\">\n",
              "      <th></th>\n",
              "      <th>Status</th>\n",
              "      <th>Life expectancy</th>\n",
              "      <th>Adult Mortality</th>\n",
              "      <th>infant deaths</th>\n",
              "      <th>Alcohol</th>\n",
              "      <th>percentage expenditure</th>\n",
              "      <th>Hepatitis B</th>\n",
              "      <th>Measles</th>\n",
              "      <th>BMI</th>\n",
              "      <th>under-five deaths</th>\n",
              "      <th>Polio</th>\n",
              "      <th>Total expenditure</th>\n",
              "      <th>Diphtheria</th>\n",
              "      <th>HIV/AIDS</th>\n",
              "      <th>GDP</th>\n",
              "      <th>Population</th>\n",
              "      <th>thinness  1-19 years</th>\n",
              "      <th>thinness 5-9 years</th>\n",
              "      <th>Income composition of resources</th>\n",
              "      <th>Schooling</th>\n",
              "    </tr>\n",
              "    <tr>\n",
              "      <th>CountryYear</th>\n",
              "      <th></th>\n",
              "      <th></th>\n",
              "      <th></th>\n",
              "      <th></th>\n",
              "      <th></th>\n",
              "      <th></th>\n",
              "      <th></th>\n",
              "      <th></th>\n",
              "      <th></th>\n",
              "      <th></th>\n",
              "      <th></th>\n",
              "      <th></th>\n",
              "      <th></th>\n",
              "      <th></th>\n",
              "      <th></th>\n",
              "      <th></th>\n",
              "      <th></th>\n",
              "      <th></th>\n",
              "      <th></th>\n",
              "      <th></th>\n",
              "    </tr>\n",
              "  </thead>\n",
              "  <tbody>\n",
              "    <tr>\n",
              "      <th>Afghanistan2015</th>\n",
              "      <td>0</td>\n",
              "      <td>65.0</td>\n",
              "      <td>263</td>\n",
              "      <td>62</td>\n",
              "      <td>0.01</td>\n",
              "      <td>71.279624</td>\n",
              "      <td>65.0</td>\n",
              "      <td>1154</td>\n",
              "      <td>19.1</td>\n",
              "      <td>83</td>\n",
              "      <td>6.0</td>\n",
              "      <td>8.16</td>\n",
              "      <td>65.0</td>\n",
              "      <td>0.1</td>\n",
              "      <td>584.259210</td>\n",
              "      <td>33736494.0</td>\n",
              "      <td>17.2</td>\n",
              "      <td>17.3</td>\n",
              "      <td>0.479</td>\n",
              "      <td>10.1</td>\n",
              "    </tr>\n",
              "    <tr>\n",
              "      <th>Afghanistan2014</th>\n",
              "      <td>0</td>\n",
              "      <td>59.9</td>\n",
              "      <td>271</td>\n",
              "      <td>64</td>\n",
              "      <td>0.01</td>\n",
              "      <td>73.523582</td>\n",
              "      <td>62.0</td>\n",
              "      <td>492</td>\n",
              "      <td>18.6</td>\n",
              "      <td>86</td>\n",
              "      <td>58.0</td>\n",
              "      <td>8.18</td>\n",
              "      <td>62.0</td>\n",
              "      <td>0.1</td>\n",
              "      <td>612.696514</td>\n",
              "      <td>327582.0</td>\n",
              "      <td>17.5</td>\n",
              "      <td>17.5</td>\n",
              "      <td>0.476</td>\n",
              "      <td>10.0</td>\n",
              "    </tr>\n",
              "    <tr>\n",
              "      <th>Afghanistan2013</th>\n",
              "      <td>0</td>\n",
              "      <td>59.9</td>\n",
              "      <td>268</td>\n",
              "      <td>66</td>\n",
              "      <td>0.01</td>\n",
              "      <td>73.219243</td>\n",
              "      <td>64.0</td>\n",
              "      <td>430</td>\n",
              "      <td>18.1</td>\n",
              "      <td>89</td>\n",
              "      <td>62.0</td>\n",
              "      <td>8.13</td>\n",
              "      <td>64.0</td>\n",
              "      <td>0.1</td>\n",
              "      <td>631.744976</td>\n",
              "      <td>31731688.0</td>\n",
              "      <td>17.7</td>\n",
              "      <td>17.7</td>\n",
              "      <td>0.470</td>\n",
              "      <td>9.9</td>\n",
              "    </tr>\n",
              "    <tr>\n",
              "      <th>Afghanistan2012</th>\n",
              "      <td>0</td>\n",
              "      <td>59.5</td>\n",
              "      <td>272</td>\n",
              "      <td>69</td>\n",
              "      <td>0.01</td>\n",
              "      <td>78.184215</td>\n",
              "      <td>67.0</td>\n",
              "      <td>2787</td>\n",
              "      <td>17.6</td>\n",
              "      <td>93</td>\n",
              "      <td>67.0</td>\n",
              "      <td>8.52</td>\n",
              "      <td>67.0</td>\n",
              "      <td>0.1</td>\n",
              "      <td>669.959000</td>\n",
              "      <td>3696958.0</td>\n",
              "      <td>17.9</td>\n",
              "      <td>18.0</td>\n",
              "      <td>0.463</td>\n",
              "      <td>9.8</td>\n",
              "    </tr>\n",
              "    <tr>\n",
              "      <th>Afghanistan2011</th>\n",
              "      <td>0</td>\n",
              "      <td>59.2</td>\n",
              "      <td>275</td>\n",
              "      <td>71</td>\n",
              "      <td>0.01</td>\n",
              "      <td>7.097109</td>\n",
              "      <td>68.0</td>\n",
              "      <td>3013</td>\n",
              "      <td>17.2</td>\n",
              "      <td>97</td>\n",
              "      <td>68.0</td>\n",
              "      <td>7.87</td>\n",
              "      <td>68.0</td>\n",
              "      <td>0.1</td>\n",
              "      <td>63.537231</td>\n",
              "      <td>2978599.0</td>\n",
              "      <td>18.2</td>\n",
              "      <td>18.2</td>\n",
              "      <td>0.454</td>\n",
              "      <td>9.5</td>\n",
              "    </tr>\n",
              "  </tbody>\n",
              "</table>\n",
              "</div>\n",
              "      <button class=\"colab-df-convert\" onclick=\"convertToInteractive('df-46bda7e0-d2f0-49b7-badc-70ffa13fe770')\"\n",
              "              title=\"Convert this dataframe to an interactive table.\"\n",
              "              style=\"display:none;\">\n",
              "        \n",
              "  <svg xmlns=\"http://www.w3.org/2000/svg\" height=\"24px\"viewBox=\"0 0 24 24\"\n",
              "       width=\"24px\">\n",
              "    <path d=\"M0 0h24v24H0V0z\" fill=\"none\"/>\n",
              "    <path d=\"M18.56 5.44l.94 2.06.94-2.06 2.06-.94-2.06-.94-.94-2.06-.94 2.06-2.06.94zm-11 1L8.5 8.5l.94-2.06 2.06-.94-2.06-.94L8.5 2.5l-.94 2.06-2.06.94zm10 10l.94 2.06.94-2.06 2.06-.94-2.06-.94-.94-2.06-.94 2.06-2.06.94z\"/><path d=\"M17.41 7.96l-1.37-1.37c-.4-.4-.92-.59-1.43-.59-.52 0-1.04.2-1.43.59L10.3 9.45l-7.72 7.72c-.78.78-.78 2.05 0 2.83L4 21.41c.39.39.9.59 1.41.59.51 0 1.02-.2 1.41-.59l7.78-7.78 2.81-2.81c.8-.78.8-2.07 0-2.86zM5.41 20L4 18.59l7.72-7.72 1.47 1.35L5.41 20z\"/>\n",
              "  </svg>\n",
              "      </button>\n",
              "      \n",
              "  <style>\n",
              "    .colab-df-container {\n",
              "      display:flex;\n",
              "      flex-wrap:wrap;\n",
              "      gap: 12px;\n",
              "    }\n",
              "\n",
              "    .colab-df-convert {\n",
              "      background-color: #E8F0FE;\n",
              "      border: none;\n",
              "      border-radius: 50%;\n",
              "      cursor: pointer;\n",
              "      display: none;\n",
              "      fill: #1967D2;\n",
              "      height: 32px;\n",
              "      padding: 0 0 0 0;\n",
              "      width: 32px;\n",
              "    }\n",
              "\n",
              "    .colab-df-convert:hover {\n",
              "      background-color: #E2EBFA;\n",
              "      box-shadow: 0px 1px 2px rgba(60, 64, 67, 0.3), 0px 1px 3px 1px rgba(60, 64, 67, 0.15);\n",
              "      fill: #174EA6;\n",
              "    }\n",
              "\n",
              "    [theme=dark] .colab-df-convert {\n",
              "      background-color: #3B4455;\n",
              "      fill: #D2E3FC;\n",
              "    }\n",
              "\n",
              "    [theme=dark] .colab-df-convert:hover {\n",
              "      background-color: #434B5C;\n",
              "      box-shadow: 0px 1px 3px 1px rgba(0, 0, 0, 0.15);\n",
              "      filter: drop-shadow(0px 1px 2px rgba(0, 0, 0, 0.3));\n",
              "      fill: #FFFFFF;\n",
              "    }\n",
              "  </style>\n",
              "\n",
              "      <script>\n",
              "        const buttonEl =\n",
              "          document.querySelector('#df-46bda7e0-d2f0-49b7-badc-70ffa13fe770 button.colab-df-convert');\n",
              "        buttonEl.style.display =\n",
              "          google.colab.kernel.accessAllowed ? 'block' : 'none';\n",
              "\n",
              "        async function convertToInteractive(key) {\n",
              "          const element = document.querySelector('#df-46bda7e0-d2f0-49b7-badc-70ffa13fe770');\n",
              "          const dataTable =\n",
              "            await google.colab.kernel.invokeFunction('convertToInteractive',\n",
              "                                                     [key], {});\n",
              "          if (!dataTable) return;\n",
              "\n",
              "          const docLinkHtml = 'Like what you see? Visit the ' +\n",
              "            '<a target=\"_blank\" href=https://colab.research.google.com/notebooks/data_table.ipynb>data table notebook</a>'\n",
              "            + ' to learn more about interactive tables.';\n",
              "          element.innerHTML = '';\n",
              "          dataTable['output_type'] = 'display_data';\n",
              "          await google.colab.output.renderOutput(dataTable, element);\n",
              "          const docLink = document.createElement('div');\n",
              "          docLink.innerHTML = docLinkHtml;\n",
              "          element.appendChild(docLink);\n",
              "        }\n",
              "      </script>\n",
              "    </div>\n",
              "  </div>\n",
              "  "
            ]
          },
          "metadata": {},
          "execution_count": 6
        }
      ]
    },
    {
      "cell_type": "code",
      "source": [
        "# Inspect the data\n",
        "print(df.info(), '\\n')\n",
        "print(df.isna().sum())"
      ],
      "metadata": {
        "colab": {
          "base_uri": "https://localhost:8080/"
        },
        "id": "WloIYCwAgbJJ",
        "outputId": "d415a95f-5861-4b96-f242-c126234d7c97"
      },
      "execution_count": 7,
      "outputs": [
        {
          "output_type": "stream",
          "name": "stdout",
          "text": [
            "<class 'pandas.core.frame.DataFrame'>\n",
            "Index: 2928 entries, Afghanistan2015 to Zimbabwe2000\n",
            "Data columns (total 20 columns):\n",
            " #   Column                           Non-Null Count  Dtype  \n",
            "---  ------                           --------------  -----  \n",
            " 0   Status                           2928 non-null   int64  \n",
            " 1   Life expectancy                  2928 non-null   float64\n",
            " 2   Adult Mortality                  2928 non-null   int64  \n",
            " 3   infant deaths                    2928 non-null   int64  \n",
            " 4   Alcohol                          2735 non-null   float64\n",
            " 5   percentage expenditure           2928 non-null   float64\n",
            " 6   Hepatitis B                      2375 non-null   float64\n",
            " 7   Measles                          2928 non-null   int64  \n",
            " 8   BMI                              2896 non-null   float64\n",
            " 9   under-five deaths                2928 non-null   int64  \n",
            " 10  Polio                            2909 non-null   float64\n",
            " 11  Total expenditure                2702 non-null   float64\n",
            " 12  Diphtheria                       2909 non-null   float64\n",
            " 13  HIV/AIDS                         2928 non-null   float64\n",
            " 14  GDP                              2485 non-null   float64\n",
            " 15  Population                       2284 non-null   float64\n",
            " 16  thinness  1-19 years             2896 non-null   float64\n",
            " 17  thinness 5-9 years               2896 non-null   float64\n",
            " 18  Income composition of resources  2768 non-null   float64\n",
            " 19  Schooling                        2768 non-null   float64\n",
            "dtypes: float64(15), int64(5)\n",
            "memory usage: 480.4+ KB\n",
            "None \n",
            "\n",
            "Status                               0\n",
            "Life expectancy                      0\n",
            "Adult Mortality                      0\n",
            "infant deaths                        0\n",
            "Alcohol                            193\n",
            "percentage expenditure               0\n",
            "Hepatitis B                        553\n",
            "Measles                              0\n",
            "BMI                                 32\n",
            "under-five deaths                    0\n",
            "Polio                               19\n",
            "Total expenditure                  226\n",
            "Diphtheria                          19\n",
            "HIV/AIDS                             0\n",
            "GDP                                443\n",
            "Population                         644\n",
            "thinness  1-19 years                32\n",
            "thinness 5-9 years                  32\n",
            "Income composition of resources    160\n",
            "Schooling                          160\n",
            "dtype: int64\n"
          ]
        }
      ]
    },
    {
      "cell_type": "code",
      "source": [
        "# Set the features and target\n",
        "y = df['Life expectancy']\n",
        "X = df.drop(columns = 'Life expectancy')\n",
        "\n",
        "# Split the data\n",
        "X_train, X_test, y_train, y_test = train_test_split(X, y, random_state = 42)"
      ],
      "metadata": {
        "id": "cQfNUbzJgohf"
      },
      "execution_count": 8,
      "outputs": []
    },
    {
      "cell_type": "code",
      "source": [
        "# Instantiate the imputer and scaler\n",
        "median_imputer = SimpleImputer(strategy = 'median')\n",
        "scaler = StandardScaler()"
      ],
      "metadata": {
        "id": "qFVmYomYhpOC"
      },
      "execution_count": 9,
      "outputs": []
    },
    {
      "cell_type": "code",
      "source": [
        "# Instantiate the pipeline\n",
        "preprocessing_pipeline = make_pipeline(median_imputer, scaler)\n",
        "preprocessing_pipeline"
      ],
      "metadata": {
        "colab": {
          "base_uri": "https://localhost:8080/",
          "height": 126
        },
        "id": "YOOjFpceh_ts",
        "outputId": "cbbca1f7-0bd5-40aa-9cc3-90c24493b416"
      },
      "execution_count": 10,
      "outputs": [
        {
          "output_type": "execute_result",
          "data": {
            "text/plain": [
              "Pipeline(steps=[('simpleimputer', SimpleImputer(strategy='median')),\n",
              "                ('standardscaler', StandardScaler())])"
            ],
            "text/html": [
              "<style>#sk-dd1cbd18-b487-42cb-aa88-a12f7130b3bd {color: black;background-color: white;}#sk-dd1cbd18-b487-42cb-aa88-a12f7130b3bd pre{padding: 0;}#sk-dd1cbd18-b487-42cb-aa88-a12f7130b3bd div.sk-toggleable {background-color: white;}#sk-dd1cbd18-b487-42cb-aa88-a12f7130b3bd label.sk-toggleable__label {cursor: pointer;display: block;width: 100%;margin-bottom: 0;padding: 0.3em;box-sizing: border-box;text-align: center;}#sk-dd1cbd18-b487-42cb-aa88-a12f7130b3bd label.sk-toggleable__label-arrow:before {content: \"▸\";float: left;margin-right: 0.25em;color: #696969;}#sk-dd1cbd18-b487-42cb-aa88-a12f7130b3bd label.sk-toggleable__label-arrow:hover:before {color: black;}#sk-dd1cbd18-b487-42cb-aa88-a12f7130b3bd div.sk-estimator:hover label.sk-toggleable__label-arrow:before {color: black;}#sk-dd1cbd18-b487-42cb-aa88-a12f7130b3bd div.sk-toggleable__content {max-height: 0;max-width: 0;overflow: hidden;text-align: left;background-color: #f0f8ff;}#sk-dd1cbd18-b487-42cb-aa88-a12f7130b3bd div.sk-toggleable__content pre {margin: 0.2em;color: black;border-radius: 0.25em;background-color: #f0f8ff;}#sk-dd1cbd18-b487-42cb-aa88-a12f7130b3bd input.sk-toggleable__control:checked~div.sk-toggleable__content {max-height: 200px;max-width: 100%;overflow: auto;}#sk-dd1cbd18-b487-42cb-aa88-a12f7130b3bd input.sk-toggleable__control:checked~label.sk-toggleable__label-arrow:before {content: \"▾\";}#sk-dd1cbd18-b487-42cb-aa88-a12f7130b3bd div.sk-estimator input.sk-toggleable__control:checked~label.sk-toggleable__label {background-color: #d4ebff;}#sk-dd1cbd18-b487-42cb-aa88-a12f7130b3bd div.sk-label input.sk-toggleable__control:checked~label.sk-toggleable__label {background-color: #d4ebff;}#sk-dd1cbd18-b487-42cb-aa88-a12f7130b3bd input.sk-hidden--visually {border: 0;clip: rect(1px 1px 1px 1px);clip: rect(1px, 1px, 1px, 1px);height: 1px;margin: -1px;overflow: hidden;padding: 0;position: absolute;width: 1px;}#sk-dd1cbd18-b487-42cb-aa88-a12f7130b3bd div.sk-estimator {font-family: monospace;background-color: #f0f8ff;border: 1px dotted black;border-radius: 0.25em;box-sizing: border-box;margin-bottom: 0.5em;}#sk-dd1cbd18-b487-42cb-aa88-a12f7130b3bd div.sk-estimator:hover {background-color: #d4ebff;}#sk-dd1cbd18-b487-42cb-aa88-a12f7130b3bd div.sk-parallel-item::after {content: \"\";width: 100%;border-bottom: 1px solid gray;flex-grow: 1;}#sk-dd1cbd18-b487-42cb-aa88-a12f7130b3bd div.sk-label:hover label.sk-toggleable__label {background-color: #d4ebff;}#sk-dd1cbd18-b487-42cb-aa88-a12f7130b3bd div.sk-serial::before {content: \"\";position: absolute;border-left: 1px solid gray;box-sizing: border-box;top: 2em;bottom: 0;left: 50%;}#sk-dd1cbd18-b487-42cb-aa88-a12f7130b3bd div.sk-serial {display: flex;flex-direction: column;align-items: center;background-color: white;padding-right: 0.2em;padding-left: 0.2em;}#sk-dd1cbd18-b487-42cb-aa88-a12f7130b3bd div.sk-item {z-index: 1;}#sk-dd1cbd18-b487-42cb-aa88-a12f7130b3bd div.sk-parallel {display: flex;align-items: stretch;justify-content: center;background-color: white;}#sk-dd1cbd18-b487-42cb-aa88-a12f7130b3bd div.sk-parallel::before {content: \"\";position: absolute;border-left: 1px solid gray;box-sizing: border-box;top: 2em;bottom: 0;left: 50%;}#sk-dd1cbd18-b487-42cb-aa88-a12f7130b3bd div.sk-parallel-item {display: flex;flex-direction: column;position: relative;background-color: white;}#sk-dd1cbd18-b487-42cb-aa88-a12f7130b3bd div.sk-parallel-item:first-child::after {align-self: flex-end;width: 50%;}#sk-dd1cbd18-b487-42cb-aa88-a12f7130b3bd div.sk-parallel-item:last-child::after {align-self: flex-start;width: 50%;}#sk-dd1cbd18-b487-42cb-aa88-a12f7130b3bd div.sk-parallel-item:only-child::after {width: 0;}#sk-dd1cbd18-b487-42cb-aa88-a12f7130b3bd div.sk-dashed-wrapped {border: 1px dashed gray;margin: 0 0.4em 0.5em 0.4em;box-sizing: border-box;padding-bottom: 0.4em;background-color: white;position: relative;}#sk-dd1cbd18-b487-42cb-aa88-a12f7130b3bd div.sk-label label {font-family: monospace;font-weight: bold;background-color: white;display: inline-block;line-height: 1.2em;}#sk-dd1cbd18-b487-42cb-aa88-a12f7130b3bd div.sk-label-container {position: relative;z-index: 2;text-align: center;}#sk-dd1cbd18-b487-42cb-aa88-a12f7130b3bd div.sk-container {/* jupyter's `normalize.less` sets `[hidden] { display: none; }` but bootstrap.min.css set `[hidden] { display: none !important; }` so we also need the `!important` here to be able to override the default hidden behavior on the sphinx rendered scikit-learn.org. See: https://github.com/scikit-learn/scikit-learn/issues/21755 */display: inline-block !important;position: relative;}#sk-dd1cbd18-b487-42cb-aa88-a12f7130b3bd div.sk-text-repr-fallback {display: none;}</style><div id=\"sk-dd1cbd18-b487-42cb-aa88-a12f7130b3bd\" class=\"sk-top-container\"><div class=\"sk-text-repr-fallback\"><pre>Pipeline(steps=[(&#x27;simpleimputer&#x27;, SimpleImputer(strategy=&#x27;median&#x27;)),\n",
              "                (&#x27;standardscaler&#x27;, StandardScaler())])</pre><b>Please rerun this cell to show the HTML repr or trust the notebook.</b></div><div class=\"sk-container\" hidden><div class=\"sk-item sk-dashed-wrapped\"><div class=\"sk-label-container\"><div class=\"sk-label sk-toggleable\"><input class=\"sk-toggleable__control sk-hidden--visually\" id=\"5165c224-a418-43f0-ae51-d4920d73c14a\" type=\"checkbox\" ><label for=\"5165c224-a418-43f0-ae51-d4920d73c14a\" class=\"sk-toggleable__label sk-toggleable__label-arrow\">Pipeline</label><div class=\"sk-toggleable__content\"><pre>Pipeline(steps=[(&#x27;simpleimputer&#x27;, SimpleImputer(strategy=&#x27;median&#x27;)),\n",
              "                (&#x27;standardscaler&#x27;, StandardScaler())])</pre></div></div></div><div class=\"sk-serial\"><div class=\"sk-item\"><div class=\"sk-estimator sk-toggleable\"><input class=\"sk-toggleable__control sk-hidden--visually\" id=\"fbddde4e-bc0a-449f-8357-c61179f090e7\" type=\"checkbox\" ><label for=\"fbddde4e-bc0a-449f-8357-c61179f090e7\" class=\"sk-toggleable__label sk-toggleable__label-arrow\">SimpleImputer</label><div class=\"sk-toggleable__content\"><pre>SimpleImputer(strategy=&#x27;median&#x27;)</pre></div></div></div><div class=\"sk-item\"><div class=\"sk-estimator sk-toggleable\"><input class=\"sk-toggleable__control sk-hidden--visually\" id=\"873133be-4bb2-4b21-a93b-cb10955a2299\" type=\"checkbox\" ><label for=\"873133be-4bb2-4b21-a93b-cb10955a2299\" class=\"sk-toggleable__label sk-toggleable__label-arrow\">StandardScaler</label><div class=\"sk-toggleable__content\"><pre>StandardScaler()</pre></div></div></div></div></div></div></div>"
            ]
          },
          "metadata": {},
          "execution_count": 10
        }
      ]
    },
    {
      "cell_type": "code",
      "source": [
        "# Fit the pipeline on the training data\n",
        "preprocessing_pipeline.fit(X_train)"
      ],
      "metadata": {
        "colab": {
          "base_uri": "https://localhost:8080/",
          "height": 126
        },
        "id": "shrLcVHciYIk",
        "outputId": "da810b78-06d8-4f96-9e9f-ada2b6f8ec38"
      },
      "execution_count": 11,
      "outputs": [
        {
          "output_type": "execute_result",
          "data": {
            "text/plain": [
              "Pipeline(steps=[('simpleimputer', SimpleImputer(strategy='median')),\n",
              "                ('standardscaler', StandardScaler())])"
            ],
            "text/html": [
              "<style>#sk-3dd59c00-6068-49f2-8c51-81ee7a6706d9 {color: black;background-color: white;}#sk-3dd59c00-6068-49f2-8c51-81ee7a6706d9 pre{padding: 0;}#sk-3dd59c00-6068-49f2-8c51-81ee7a6706d9 div.sk-toggleable {background-color: white;}#sk-3dd59c00-6068-49f2-8c51-81ee7a6706d9 label.sk-toggleable__label {cursor: pointer;display: block;width: 100%;margin-bottom: 0;padding: 0.3em;box-sizing: border-box;text-align: center;}#sk-3dd59c00-6068-49f2-8c51-81ee7a6706d9 label.sk-toggleable__label-arrow:before {content: \"▸\";float: left;margin-right: 0.25em;color: #696969;}#sk-3dd59c00-6068-49f2-8c51-81ee7a6706d9 label.sk-toggleable__label-arrow:hover:before {color: black;}#sk-3dd59c00-6068-49f2-8c51-81ee7a6706d9 div.sk-estimator:hover label.sk-toggleable__label-arrow:before {color: black;}#sk-3dd59c00-6068-49f2-8c51-81ee7a6706d9 div.sk-toggleable__content {max-height: 0;max-width: 0;overflow: hidden;text-align: left;background-color: #f0f8ff;}#sk-3dd59c00-6068-49f2-8c51-81ee7a6706d9 div.sk-toggleable__content pre {margin: 0.2em;color: black;border-radius: 0.25em;background-color: #f0f8ff;}#sk-3dd59c00-6068-49f2-8c51-81ee7a6706d9 input.sk-toggleable__control:checked~div.sk-toggleable__content {max-height: 200px;max-width: 100%;overflow: auto;}#sk-3dd59c00-6068-49f2-8c51-81ee7a6706d9 input.sk-toggleable__control:checked~label.sk-toggleable__label-arrow:before {content: \"▾\";}#sk-3dd59c00-6068-49f2-8c51-81ee7a6706d9 div.sk-estimator input.sk-toggleable__control:checked~label.sk-toggleable__label {background-color: #d4ebff;}#sk-3dd59c00-6068-49f2-8c51-81ee7a6706d9 div.sk-label input.sk-toggleable__control:checked~label.sk-toggleable__label {background-color: #d4ebff;}#sk-3dd59c00-6068-49f2-8c51-81ee7a6706d9 input.sk-hidden--visually {border: 0;clip: rect(1px 1px 1px 1px);clip: rect(1px, 1px, 1px, 1px);height: 1px;margin: -1px;overflow: hidden;padding: 0;position: absolute;width: 1px;}#sk-3dd59c00-6068-49f2-8c51-81ee7a6706d9 div.sk-estimator {font-family: monospace;background-color: #f0f8ff;border: 1px dotted black;border-radius: 0.25em;box-sizing: border-box;margin-bottom: 0.5em;}#sk-3dd59c00-6068-49f2-8c51-81ee7a6706d9 div.sk-estimator:hover {background-color: #d4ebff;}#sk-3dd59c00-6068-49f2-8c51-81ee7a6706d9 div.sk-parallel-item::after {content: \"\";width: 100%;border-bottom: 1px solid gray;flex-grow: 1;}#sk-3dd59c00-6068-49f2-8c51-81ee7a6706d9 div.sk-label:hover label.sk-toggleable__label {background-color: #d4ebff;}#sk-3dd59c00-6068-49f2-8c51-81ee7a6706d9 div.sk-serial::before {content: \"\";position: absolute;border-left: 1px solid gray;box-sizing: border-box;top: 2em;bottom: 0;left: 50%;}#sk-3dd59c00-6068-49f2-8c51-81ee7a6706d9 div.sk-serial {display: flex;flex-direction: column;align-items: center;background-color: white;padding-right: 0.2em;padding-left: 0.2em;}#sk-3dd59c00-6068-49f2-8c51-81ee7a6706d9 div.sk-item {z-index: 1;}#sk-3dd59c00-6068-49f2-8c51-81ee7a6706d9 div.sk-parallel {display: flex;align-items: stretch;justify-content: center;background-color: white;}#sk-3dd59c00-6068-49f2-8c51-81ee7a6706d9 div.sk-parallel::before {content: \"\";position: absolute;border-left: 1px solid gray;box-sizing: border-box;top: 2em;bottom: 0;left: 50%;}#sk-3dd59c00-6068-49f2-8c51-81ee7a6706d9 div.sk-parallel-item {display: flex;flex-direction: column;position: relative;background-color: white;}#sk-3dd59c00-6068-49f2-8c51-81ee7a6706d9 div.sk-parallel-item:first-child::after {align-self: flex-end;width: 50%;}#sk-3dd59c00-6068-49f2-8c51-81ee7a6706d9 div.sk-parallel-item:last-child::after {align-self: flex-start;width: 50%;}#sk-3dd59c00-6068-49f2-8c51-81ee7a6706d9 div.sk-parallel-item:only-child::after {width: 0;}#sk-3dd59c00-6068-49f2-8c51-81ee7a6706d9 div.sk-dashed-wrapped {border: 1px dashed gray;margin: 0 0.4em 0.5em 0.4em;box-sizing: border-box;padding-bottom: 0.4em;background-color: white;position: relative;}#sk-3dd59c00-6068-49f2-8c51-81ee7a6706d9 div.sk-label label {font-family: monospace;font-weight: bold;background-color: white;display: inline-block;line-height: 1.2em;}#sk-3dd59c00-6068-49f2-8c51-81ee7a6706d9 div.sk-label-container {position: relative;z-index: 2;text-align: center;}#sk-3dd59c00-6068-49f2-8c51-81ee7a6706d9 div.sk-container {/* jupyter's `normalize.less` sets `[hidden] { display: none; }` but bootstrap.min.css set `[hidden] { display: none !important; }` so we also need the `!important` here to be able to override the default hidden behavior on the sphinx rendered scikit-learn.org. See: https://github.com/scikit-learn/scikit-learn/issues/21755 */display: inline-block !important;position: relative;}#sk-3dd59c00-6068-49f2-8c51-81ee7a6706d9 div.sk-text-repr-fallback {display: none;}</style><div id=\"sk-3dd59c00-6068-49f2-8c51-81ee7a6706d9\" class=\"sk-top-container\"><div class=\"sk-text-repr-fallback\"><pre>Pipeline(steps=[(&#x27;simpleimputer&#x27;, SimpleImputer(strategy=&#x27;median&#x27;)),\n",
              "                (&#x27;standardscaler&#x27;, StandardScaler())])</pre><b>Please rerun this cell to show the HTML repr or trust the notebook.</b></div><div class=\"sk-container\" hidden><div class=\"sk-item sk-dashed-wrapped\"><div class=\"sk-label-container\"><div class=\"sk-label sk-toggleable\"><input class=\"sk-toggleable__control sk-hidden--visually\" id=\"7628d169-b447-4c9c-8a49-e4008ba89f91\" type=\"checkbox\" ><label for=\"7628d169-b447-4c9c-8a49-e4008ba89f91\" class=\"sk-toggleable__label sk-toggleable__label-arrow\">Pipeline</label><div class=\"sk-toggleable__content\"><pre>Pipeline(steps=[(&#x27;simpleimputer&#x27;, SimpleImputer(strategy=&#x27;median&#x27;)),\n",
              "                (&#x27;standardscaler&#x27;, StandardScaler())])</pre></div></div></div><div class=\"sk-serial\"><div class=\"sk-item\"><div class=\"sk-estimator sk-toggleable\"><input class=\"sk-toggleable__control sk-hidden--visually\" id=\"307f9f5e-99c9-4f99-b5a6-550aa68a0f8e\" type=\"checkbox\" ><label for=\"307f9f5e-99c9-4f99-b5a6-550aa68a0f8e\" class=\"sk-toggleable__label sk-toggleable__label-arrow\">SimpleImputer</label><div class=\"sk-toggleable__content\"><pre>SimpleImputer(strategy=&#x27;median&#x27;)</pre></div></div></div><div class=\"sk-item\"><div class=\"sk-estimator sk-toggleable\"><input class=\"sk-toggleable__control sk-hidden--visually\" id=\"aab17daa-c008-4c2a-a0bd-892e7b2b06de\" type=\"checkbox\" ><label for=\"aab17daa-c008-4c2a-a0bd-892e7b2b06de\" class=\"sk-toggleable__label sk-toggleable__label-arrow\">StandardScaler</label><div class=\"sk-toggleable__content\"><pre>StandardScaler()</pre></div></div></div></div></div></div></div>"
            ]
          },
          "metadata": {},
          "execution_count": 11
        }
      ]
    },
    {
      "cell_type": "code",
      "source": [
        "# Transform the train and test sets\n",
        "X_train_processed = preprocessing_pipeline.transform(X_train)\n",
        "X_test_processed = preprocessing_pipeline.transform(X_test)"
      ],
      "metadata": {
        "id": "ZZBSFlaMjTM5"
      },
      "execution_count": 12,
      "outputs": []
    },
    {
      "cell_type": "code",
      "source": [
        "# Make sure there are no missing values\n",
        "np.isnan(X_train_processed).sum().sum()\n",
        "\n",
        "# Inspect the data\n",
        "X_train_processed"
      ],
      "metadata": {
        "colab": {
          "base_uri": "https://localhost:8080/"
        },
        "id": "U0dYD1rpkLYT",
        "outputId": "86c982ba-7d63-4da6-928f-3c956eb1ea89"
      },
      "execution_count": 13,
      "outputs": [
        {
          "output_type": "execute_result",
          "data": {
            "text/plain": [
              "array([[ 0.        , -0.81229166, -0.26366021, ..., -0.87868801,\n",
              "         1.19451878,  1.92222335],\n",
              "       [ 0.        ,  1.43809769,  0.15576412, ...,  0.58477555,\n",
              "         0.22791761,  0.08271906],\n",
              "       [ 0.        ,  2.02690924, -0.18501814, ...,  0.87303352,\n",
              "        -0.68443553, -0.80637468],\n",
              "       ...,\n",
              "       [ 0.        , -1.10266448, -0.11511409, ..., -0.10260885,\n",
              "        -0.88170108, -1.17427554],\n",
              "       [ 0.        , -0.73163255, -0.24618419, ..., -0.96738278,\n",
              "         0.97259504,  0.87983758],\n",
              "       [ 0.        ,  1.43003177, -0.20249416, ...,  1.07259673,\n",
              "        -3.11080174, -2.24731971]])"
            ]
          },
          "metadata": {},
          "execution_count": 13
        }
      ]
    }
  ]
}
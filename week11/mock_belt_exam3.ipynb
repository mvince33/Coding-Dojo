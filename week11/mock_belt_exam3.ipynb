{
  "nbformat": 4,
  "nbformat_minor": 0,
  "metadata": {
    "colab": {
      "provenance": [],
      "authorship_tag": "ABX9TyNZ1bnn2RAStXhU9FvlgjYh",
      "include_colab_link": true
    },
    "kernelspec": {
      "name": "python3",
      "display_name": "Python 3"
    },
    "language_info": {
      "name": "python"
    }
  },
  "cells": [
    {
      "cell_type": "markdown",
      "metadata": {
        "id": "view-in-github",
        "colab_type": "text"
      },
      "source": [
        "<a href=\"https://colab.research.google.com/github/mvince33/Coding-Dojo/blob/main/week11/mock_belt_exam3.ipynb\" target=\"_parent\"><img src=\"https://colab.research.google.com/assets/colab-badge.svg\" alt=\"Open In Colab\"/></a>"
      ]
    },
    {
      "cell_type": "markdown",
      "source": [
        "# Mock Exam"
      ],
      "metadata": {
        "id": "VMsrJ2lgr6-P"
      }
    },
    {
      "cell_type": "code",
      "execution_count": null,
      "metadata": {
        "id": "idhDIgThrrtX"
      },
      "outputs": [],
      "source": [
        "# Imports"
      ]
    },
    {
      "cell_type": "markdown",
      "source": [
        "# Checklist\n",
        "\n",
        "- [ ] Clustering data file is correctly loaded\n",
        "- [ ] Data is properly cleaned\n",
        "\n",
        "Clustering\n",
        "\n",
        "- [ ] Data is properly prepared for clustering\n",
        "- [ ] KMeans model is fit on data\n",
        "- [ ] Compare inertia over 2-10 clusters\n",
        "- [ ] Compare silhouette score over 2-10 clusters\n",
        "- [ ] Explain choice of number of clusters based on silhouette score or inertia\n",
        "- [ ] 1st explanatory visualization shows a difference between clusters\n",
        "- [ ] Interprets 1st visualization to describe a trend in clusters\n",
        "- [ ] 2nd explanatory visualization shows a difference between clusters\n",
        "- [ ] Interprets 2nd visualization to describe a trend in clusters\n",
        "\n",
        "Modeling\n",
        "\n",
        "- [ ] Modeling data file is correctly loaded\n",
        "- [ ] Train/test split is performed\n",
        "- [ ] Data is prepared for PCA without data leakage\n",
        "- [ ] PCA is performed without data leakage\n",
        "- [ ] Sequential deep learning model 1 is created and fit on data\n",
        "- [ ] Reasons for changes between models 1 and 2 are explained in text\n",
        "- [ ] Sequential deep learning model 2 is created and fit on data\n",
        "- [ ] Reasons for changes between models 2 and 3 are explained in text\n",
        "- [ ] Sequential deep learning model 3 is created and fit on data\n",
        "- [ ] Regularization is used with at least 1 model.\n",
        "- [ ] Each model's final layer is appropriate to the prediction type\n",
        "- [ ] Model loss function is appropriate to prediction type\n",
        "- [ ] Final model is chosen\n",
        "- [ ] Final model choice is justified in text.\n",
        "- [ ] Evaluates final model with multiple appropriate metrics\n",
        "- [ ] Summary relates final model performance to business problem\n",
        "\n",
        "Other\n",
        "\n",
        "- [ ] File Reqts: Python code for part 1\n",
        "- [ ] File Reqts: Python code for part 2\n",
        "- [ ] Code: Organization, structure, indentation, comments\n",
        "- [ ] Code: Unnecessary code or errors in code\n",
        "- [ ] Code: Unnecessary imports\n",
        "- [ ] Code: Unnecessary files"
      ],
      "metadata": {
        "id": "Muscmbxprwus"
      }
    }
  ]
}
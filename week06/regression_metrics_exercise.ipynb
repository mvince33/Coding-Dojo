{
  "nbformat": 4,
  "nbformat_minor": 0,
  "metadata": {
    "colab": {
      "name": "regression_metrics_exercise.ipynb",
      "provenance": [],
      "authorship_tag": "ABX9TyNV9a9KOQy8k5zpcmjMSeOs",
      "include_colab_link": true
    },
    "kernelspec": {
      "name": "python3",
      "display_name": "Python 3"
    },
    "language_info": {
      "name": "python"
    }
  },
  "cells": [
    {
      "cell_type": "markdown",
      "metadata": {
        "id": "view-in-github",
        "colab_type": "text"
      },
      "source": [
        "<a href=\"https://colab.research.google.com/github/mvince33/Coding-Dojo/blob/main/week06/regression_metrics_exercise.ipynb\" target=\"_parent\"><img src=\"https://colab.research.google.com/assets/colab-badge.svg\" alt=\"Open In Colab\"/></a>"
      ]
    },
    {
      "cell_type": "markdown",
      "source": [
        "# Regression Metrics Exercise\n",
        "- Michael Vincent\n",
        "- 7/23/22"
      ],
      "metadata": {
        "id": "5R2moefnTW82"
      }
    },
    {
      "cell_type": "markdown",
      "source": [
        "## Imports"
      ],
      "metadata": {
        "id": "5nQ4lnUZTvfN"
      }
    },
    {
      "cell_type": "code",
      "execution_count": null,
      "metadata": {
        "id": "_xnFwEDTTTRD"
      },
      "outputs": [],
      "source": [
        "# Imports\n",
        "import numpy as np\n",
        "import pandas as pd\n",
        "import matplotlib.pyplot as plt\n",
        "import seaborn as sns\n",
        "from sklearn.model_selection import train_test_split\n",
        "from sklearn.preprocessing import StandardScaler\n",
        "from sklearn.linear_model import LinearRegression\n",
        "from sklearn.pipeline import make_pipeline\n",
        "from sklearn.metrics import mean_absolute_error, mean_squared_error, r2_score"
      ]
    },
    {
      "cell_type": "markdown",
      "source": [
        "## Load the data"
      ],
      "metadata": {
        "id": "L1Ydsg9GTxBY"
      }
    },
    {
      "cell_type": "code",
      "source": [
        "# Load the data\n",
        "url = 'https://docs.google.com/spreadsheets/d/e/2PACX-1vSe42HvxZKvLbk-kdEqiGOXfjPrwv0Fjv_ZG8fqs19aPwiwn1GxKSfkcG-MeedlgXPR-SvIFPBC2xqF/pub?output=csv'\n",
        "df = pd.read_csv(url)\n",
        "df.head()"
      ],
      "metadata": {
        "colab": {
          "base_uri": "https://localhost:8080/",
          "height": 206
        },
        "id": "Vcr4PbAaTg-l",
        "outputId": "f1d6120d-5a15-47f5-dea1-4fdb9be864d9"
      },
      "execution_count": null,
      "outputs": [
        {
          "output_type": "execute_result",
          "data": {
            "text/plain": [
              "      CRIM    NOX     RM   AGE  PTRATIO  LSTAT  PRICE\n",
              "0  0.00632  0.538  6.575  65.2     15.3   4.98   24.0\n",
              "1  0.02731  0.469  6.421  78.9     17.8   9.14   21.6\n",
              "2  0.02729  0.469  7.185  61.1     17.8   4.03   34.7\n",
              "3  0.03237  0.458  6.998  45.8     18.7   2.94   33.4\n",
              "4  0.06905  0.458  7.147  54.2     18.7   5.33   36.2"
            ],
            "text/html": [
              "\n",
              "  <div id=\"df-29863ed6-8909-4769-84df-9b4fa17108d6\">\n",
              "    <div class=\"colab-df-container\">\n",
              "      <div>\n",
              "<style scoped>\n",
              "    .dataframe tbody tr th:only-of-type {\n",
              "        vertical-align: middle;\n",
              "    }\n",
              "\n",
              "    .dataframe tbody tr th {\n",
              "        vertical-align: top;\n",
              "    }\n",
              "\n",
              "    .dataframe thead th {\n",
              "        text-align: right;\n",
              "    }\n",
              "</style>\n",
              "<table border=\"1\" class=\"dataframe\">\n",
              "  <thead>\n",
              "    <tr style=\"text-align: right;\">\n",
              "      <th></th>\n",
              "      <th>CRIM</th>\n",
              "      <th>NOX</th>\n",
              "      <th>RM</th>\n",
              "      <th>AGE</th>\n",
              "      <th>PTRATIO</th>\n",
              "      <th>LSTAT</th>\n",
              "      <th>PRICE</th>\n",
              "    </tr>\n",
              "  </thead>\n",
              "  <tbody>\n",
              "    <tr>\n",
              "      <th>0</th>\n",
              "      <td>0.00632</td>\n",
              "      <td>0.538</td>\n",
              "      <td>6.575</td>\n",
              "      <td>65.2</td>\n",
              "      <td>15.3</td>\n",
              "      <td>4.98</td>\n",
              "      <td>24.0</td>\n",
              "    </tr>\n",
              "    <tr>\n",
              "      <th>1</th>\n",
              "      <td>0.02731</td>\n",
              "      <td>0.469</td>\n",
              "      <td>6.421</td>\n",
              "      <td>78.9</td>\n",
              "      <td>17.8</td>\n",
              "      <td>9.14</td>\n",
              "      <td>21.6</td>\n",
              "    </tr>\n",
              "    <tr>\n",
              "      <th>2</th>\n",
              "      <td>0.02729</td>\n",
              "      <td>0.469</td>\n",
              "      <td>7.185</td>\n",
              "      <td>61.1</td>\n",
              "      <td>17.8</td>\n",
              "      <td>4.03</td>\n",
              "      <td>34.7</td>\n",
              "    </tr>\n",
              "    <tr>\n",
              "      <th>3</th>\n",
              "      <td>0.03237</td>\n",
              "      <td>0.458</td>\n",
              "      <td>6.998</td>\n",
              "      <td>45.8</td>\n",
              "      <td>18.7</td>\n",
              "      <td>2.94</td>\n",
              "      <td>33.4</td>\n",
              "    </tr>\n",
              "    <tr>\n",
              "      <th>4</th>\n",
              "      <td>0.06905</td>\n",
              "      <td>0.458</td>\n",
              "      <td>7.147</td>\n",
              "      <td>54.2</td>\n",
              "      <td>18.7</td>\n",
              "      <td>5.33</td>\n",
              "      <td>36.2</td>\n",
              "    </tr>\n",
              "  </tbody>\n",
              "</table>\n",
              "</div>\n",
              "      <button class=\"colab-df-convert\" onclick=\"convertToInteractive('df-29863ed6-8909-4769-84df-9b4fa17108d6')\"\n",
              "              title=\"Convert this dataframe to an interactive table.\"\n",
              "              style=\"display:none;\">\n",
              "        \n",
              "  <svg xmlns=\"http://www.w3.org/2000/svg\" height=\"24px\"viewBox=\"0 0 24 24\"\n",
              "       width=\"24px\">\n",
              "    <path d=\"M0 0h24v24H0V0z\" fill=\"none\"/>\n",
              "    <path d=\"M18.56 5.44l.94 2.06.94-2.06 2.06-.94-2.06-.94-.94-2.06-.94 2.06-2.06.94zm-11 1L8.5 8.5l.94-2.06 2.06-.94-2.06-.94L8.5 2.5l-.94 2.06-2.06.94zm10 10l.94 2.06.94-2.06 2.06-.94-2.06-.94-.94-2.06-.94 2.06-2.06.94z\"/><path d=\"M17.41 7.96l-1.37-1.37c-.4-.4-.92-.59-1.43-.59-.52 0-1.04.2-1.43.59L10.3 9.45l-7.72 7.72c-.78.78-.78 2.05 0 2.83L4 21.41c.39.39.9.59 1.41.59.51 0 1.02-.2 1.41-.59l7.78-7.78 2.81-2.81c.8-.78.8-2.07 0-2.86zM5.41 20L4 18.59l7.72-7.72 1.47 1.35L5.41 20z\"/>\n",
              "  </svg>\n",
              "      </button>\n",
              "      \n",
              "  <style>\n",
              "    .colab-df-container {\n",
              "      display:flex;\n",
              "      flex-wrap:wrap;\n",
              "      gap: 12px;\n",
              "    }\n",
              "\n",
              "    .colab-df-convert {\n",
              "      background-color: #E8F0FE;\n",
              "      border: none;\n",
              "      border-radius: 50%;\n",
              "      cursor: pointer;\n",
              "      display: none;\n",
              "      fill: #1967D2;\n",
              "      height: 32px;\n",
              "      padding: 0 0 0 0;\n",
              "      width: 32px;\n",
              "    }\n",
              "\n",
              "    .colab-df-convert:hover {\n",
              "      background-color: #E2EBFA;\n",
              "      box-shadow: 0px 1px 2px rgba(60, 64, 67, 0.3), 0px 1px 3px 1px rgba(60, 64, 67, 0.15);\n",
              "      fill: #174EA6;\n",
              "    }\n",
              "\n",
              "    [theme=dark] .colab-df-convert {\n",
              "      background-color: #3B4455;\n",
              "      fill: #D2E3FC;\n",
              "    }\n",
              "\n",
              "    [theme=dark] .colab-df-convert:hover {\n",
              "      background-color: #434B5C;\n",
              "      box-shadow: 0px 1px 3px 1px rgba(0, 0, 0, 0.15);\n",
              "      filter: drop-shadow(0px 1px 2px rgba(0, 0, 0, 0.3));\n",
              "      fill: #FFFFFF;\n",
              "    }\n",
              "  </style>\n",
              "\n",
              "      <script>\n",
              "        const buttonEl =\n",
              "          document.querySelector('#df-29863ed6-8909-4769-84df-9b4fa17108d6 button.colab-df-convert');\n",
              "        buttonEl.style.display =\n",
              "          google.colab.kernel.accessAllowed ? 'block' : 'none';\n",
              "\n",
              "        async function convertToInteractive(key) {\n",
              "          const element = document.querySelector('#df-29863ed6-8909-4769-84df-9b4fa17108d6');\n",
              "          const dataTable =\n",
              "            await google.colab.kernel.invokeFunction('convertToInteractive',\n",
              "                                                     [key], {});\n",
              "          if (!dataTable) return;\n",
              "\n",
              "          const docLinkHtml = 'Like what you see? Visit the ' +\n",
              "            '<a target=\"_blank\" href=https://colab.research.google.com/notebooks/data_table.ipynb>data table notebook</a>'\n",
              "            + ' to learn more about interactive tables.';\n",
              "          element.innerHTML = '';\n",
              "          dataTable['output_type'] = 'display_data';\n",
              "          await google.colab.output.renderOutput(dataTable, element);\n",
              "          const docLink = document.createElement('div');\n",
              "          docLink.innerHTML = docLinkHtml;\n",
              "          element.appendChild(docLink);\n",
              "        }\n",
              "      </script>\n",
              "    </div>\n",
              "  </div>\n",
              "  "
            ]
          },
          "metadata": {},
          "execution_count": 20
        }
      ]
    },
    {
      "cell_type": "markdown",
      "source": [
        "## Explore the data"
      ],
      "metadata": {
        "id": "YJFzgTy4DS3A"
      }
    },
    {
      "cell_type": "code",
      "source": [
        "df.info()\n",
        "print()\n",
        "print(df.describe())\n",
        "\n",
        "print('\\nThere are', df.duplicated().sum(), 'duplicates in the data set.')"
      ],
      "metadata": {
        "id": "0g8Y3liLDZEk",
        "outputId": "ea4e1ef2-00ef-4ffe-ba75-53b6e5eae33b",
        "colab": {
          "base_uri": "https://localhost:8080/"
        }
      },
      "execution_count": null,
      "outputs": [
        {
          "output_type": "stream",
          "name": "stdout",
          "text": [
            "<class 'pandas.core.frame.DataFrame'>\n",
            "RangeIndex: 506 entries, 0 to 505\n",
            "Data columns (total 7 columns):\n",
            " #   Column   Non-Null Count  Dtype  \n",
            "---  ------   --------------  -----  \n",
            " 0   CRIM     506 non-null    float64\n",
            " 1   NOX      506 non-null    float64\n",
            " 2   RM       506 non-null    float64\n",
            " 3   AGE      506 non-null    float64\n",
            " 4   PTRATIO  506 non-null    float64\n",
            " 5   LSTAT    506 non-null    float64\n",
            " 6   PRICE    506 non-null    float64\n",
            "dtypes: float64(7)\n",
            "memory usage: 27.8 KB\n",
            "\n",
            "             CRIM         NOX          RM         AGE     PTRATIO       LSTAT  \\\n",
            "count  506.000000  506.000000  506.000000  506.000000  506.000000  506.000000   \n",
            "mean     3.613524    0.554695    6.284634   68.574901   18.455534   12.653063   \n",
            "std      8.601545    0.115878    0.702617   28.148861    2.164946    7.141062   \n",
            "min      0.006320    0.385000    3.561000    2.900000   12.600000    1.730000   \n",
            "25%      0.082045    0.449000    5.885500   45.025000   17.400000    6.950000   \n",
            "50%      0.256510    0.538000    6.208500   77.500000   19.050000   11.360000   \n",
            "75%      3.677083    0.624000    6.623500   94.075000   20.200000   16.955000   \n",
            "max     88.976200    0.871000    8.780000  100.000000   22.000000   37.970000   \n",
            "\n",
            "            PRICE  \n",
            "count  506.000000  \n",
            "mean    22.532806  \n",
            "std      9.197104  \n",
            "min      5.000000  \n",
            "25%     17.025000  \n",
            "50%     21.200000  \n",
            "75%     25.000000  \n",
            "max     50.000000  \n",
            "\n",
            "There are 0 duplicates in the data set.\n"
          ]
        }
      ]
    },
    {
      "cell_type": "markdown",
      "source": [
        "## Make a heatmap"
      ],
      "metadata": {
        "id": "QfCflLdwT5VL"
      }
    },
    {
      "cell_type": "code",
      "source": [
        "# Make the heatmap\n",
        "corr = df.corr()\n",
        "plt.figure(figsize = (8, 8))\n",
        "sns.heatmap(corr, cmap = 'Blues', annot = True)"
      ],
      "metadata": {
        "id": "YkTkF2Z5T4DF",
        "outputId": "09285439-e5ae-4234-932a-3d0bff7886cb",
        "colab": {
          "base_uri": "https://localhost:8080/",
          "height": 106
        }
      },
      "execution_count": null,
      "outputs": [
        {
          "output_type": "execute_result",
          "data": {
            "text/plain": [
              "<matplotlib.axes._subplots.AxesSubplot at 0x7f83abb02590>"
            ]
          },
          "metadata": {},
          "execution_count": 22
        },
        {
          "output_type": "display_data",
          "data": {
            "text/plain": [
              "<Figure size 576x576 with 2 Axes>"
            ],
            "image/png": "[encoded data removed]"
          },
          "metadata": {
            "needs_background": "light"
          }
        }
      ]
    },
    {
      "cell_type": "markdown",
      "source": [
        ">The following three features all have a correlation coefficient greater than or equal to 0.5 in absolute value with price.\n",
        "- RM\n",
        "- PTRATIO\n",
        "- LSTAT"
      ],
      "metadata": {
        "id": "uCwyqLjyEcv7"
      }
    },
    {
      "cell_type": "markdown",
      "source": [
        "## Decide which features to use"
      ],
      "metadata": {
        "id": "SWGTYBQeUCly"
      }
    },
    {
      "cell_type": "code",
      "source": [
        "# Set the features and target\n",
        "X = df[['RM', 'PTRATIO', 'LSTAT']]\n",
        "y = df['PRICE']"
      ],
      "metadata": {
        "id": "vPcYBJ_YUBR2"
      },
      "execution_count": null,
      "outputs": []
    },
    {
      "cell_type": "markdown",
      "source": [
        "## Split the data"
      ],
      "metadata": {
        "id": "IaehAZ60UPAt"
      }
    },
    {
      "cell_type": "code",
      "source": [
        "# Split the data\n",
        "X_train, X_test, y_train, y_test = train_test_split(X, y, random_state = 42)"
      ],
      "metadata": {
        "id": "HO0ZPjMvUP2I"
      },
      "execution_count": null,
      "outputs": []
    },
    {
      "cell_type": "markdown",
      "source": [
        "## Build the model"
      ],
      "metadata": {
        "id": "9dmxpLeiUeI3"
      }
    },
    {
      "cell_type": "code",
      "source": [
        "# Instantiate the scaler\n",
        "scaler = StandardScaler()\n",
        "# Instantiate the linear regression model\n",
        "lin_reg = LinearRegression()\n",
        "# Construct the pipeline\n",
        "reg_pipe = make_pipeline(scaler, lin_reg)\n",
        "# Fit the model to the training data\n",
        "lin_reg.fit(X_train, y_train)"
      ],
      "metadata": {
        "id": "KxokHP33USDo",
        "outputId": "c0d54d3e-23f6-4099-e263-e1fe64b30470",
        "colab": {
          "base_uri": "https://localhost:8080/"
        }
      },
      "execution_count": null,
      "outputs": [
        {
          "output_type": "execute_result",
          "data": {
            "text/plain": [
              "LinearRegression()"
            ]
          },
          "metadata": {},
          "execution_count": 25
        }
      ]
    },
    {
      "cell_type": "markdown",
      "source": [
        "## Evaluate the model"
      ],
      "metadata": {
        "id": "pLVti4tcUmGg"
      }
    },
    {
      "cell_type": "code",
      "source": [
        "# Make the predictions\n",
        "train_pred = lin_reg.predict(X_train)\n",
        "test_pred = lin_reg.predict(X_test)\n",
        "\n",
        "# Get the r2 scores\n",
        "train_r2 = r2_score(y_train, train_pred)\n",
        "test_r2 = r2_score(y_test, test_pred)\n",
        "\n",
        "# Evaluate the MAE\n",
        "X_train_MAE = mean_absolute_error(y_train, train_pred)\n",
        "X_test_MAE = mean_absolute_error(y_test, test_pred)\n",
        "\n",
        "# Evaluate the MSE\n",
        "X_train_MSE = mean_squared_error(y_train, train_pred)\n",
        "X_test_MSE = mean_squared_error(y_test, test_pred)\n",
        "\n",
        "# Display the errors\n",
        "print('The R2 score for the training set is', round(train_r2, 2))\n",
        "print('The R2 score for the test set is', round(test_r2, 2))\n",
        "print('The MAE for the training set is', round(X_train_MAE, 2))\n",
        "print('The MAE for the test set is', round(X_test_MAE, 2))\n",
        "print('The MSE for the training set is', round(X_train_MSE, 2))\n",
        "print('The MSE for the test set is', round(X_test_MSE, 2))\n",
        "print('The RMSE for the training set is', round(np.sqrt(X_train_MSE), 2))\n",
        "print('The RMSE for the test set is', round(np.sqrt(X_test_MSE), 2))\n"
      ],
      "metadata": {
        "id": "_8CJArQWUiEP",
        "outputId": "904e209e-6f8e-4d56-8862-41a1358414b4",
        "colab": {
          "base_uri": "https://localhost:8080/"
        }
      },
      "execution_count": null,
      "outputs": [
        {
          "output_type": "stream",
          "name": "stdout",
          "text": [
            "The R2 score for the training set is 0.69\n",
            "The R2 score for the test set is 0.63\n",
            "The MAE for the training set is 3.71\n",
            "The MAE for the test set is 3.39\n",
            "The MSE for the training set is 27.69\n",
            "The MSE for the test set is 25.69\n",
            "The RMSE for the training set is 5.26\n",
            "The RMSE for the test set is 5.07\n"
          ]
        }
      ]
    },
    {
      "cell_type": "markdown",
      "source": [
        "> The R2 score for the training set is 0.69 while the R2 for the test set is 0.63. This means our model says the traning set accounts for 69% of the variation of the data, while our model says that 63% of the variation in the test datavariation is accounted for by the model. The mean absolute error for the test set says we expect our model to be have an error of about \\$3400 when predicting the value of a \"typical\" house. The root mean squared error being larger than the mean absolute error suggests our model is making some large errors."
      ],
      "metadata": {
        "id": "uCog0RwdhckW"
      }
    }
  ]
}
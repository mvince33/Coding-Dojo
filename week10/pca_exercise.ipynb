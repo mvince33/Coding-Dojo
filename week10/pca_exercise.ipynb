{
  "nbformat": 4,
  "nbformat_minor": 0,
  "metadata": {
    "colab": {
      "name": "pca_exercise.ipynb",
      "provenance": [],
      "authorship_tag": "ABX9TyMdX0l6UJGLAdby67+xnhpQ",
      "include_colab_link": true
    },
    "kernelspec": {
      "name": "python3",
      "display_name": "Python 3"
    },
    "language_info": {
      "name": "python"
    }
  },
  "cells": [
    {
      "cell_type": "markdown",
      "metadata": {
        "id": "view-in-github",
        "colab_type": "text"
      },
      "source": [
        "<a href=\"https://colab.research.google.com/github/mvince33/Coding-Dojo/blob/main/week10/pca_exercise.ipynb\" target=\"_parent\"><img src=\"https://colab.research.google.com/assets/colab-badge.svg\" alt=\"Open In Colab\"/></a>"
      ]
    },
    {
      "cell_type": "markdown",
      "source": [
        "# PCA Exercise\n",
        "- Michael Vincent\n",
        "- 8/21/22\n"
      ],
      "metadata": {
        "id": "4lGRuKijAvNt"
      }
    },
    {
      "cell_type": "markdown",
      "source": [
        "## Imports"
      ],
      "metadata": {
        "id": "KeRRDVqkA2m1"
      }
    },
    {
      "cell_type": "code",
      "execution_count": 13,
      "metadata": {
        "id": "sOt4H5O2Ar_7"
      },
      "outputs": [],
      "source": [
        "# Imports\n",
        "import numpy as np\n",
        "import pandas as pd\n",
        "from sklearn.datasets import fetch_openml\n",
        "from sklearn.model_selection import train_test_split\n",
        "from sklearn.preprocessing import StandardScaler\n",
        "from sklearn.pipeline import make_pipeline\n",
        "from sklearn.decomposition import PCA\n",
        "from sklearn.neighbors import KNeighborsClassifier\n",
        "from sklearn.metrics import classification_report"
      ]
    },
    {
      "cell_type": "markdown",
      "source": [
        "## Load and prepare the data"
      ],
      "metadata": {
        "id": "suu6MXZYA7hO"
      }
    },
    {
      "cell_type": "code",
      "source": [
        "# Load the data\n",
        "mnist = fetch_openml('mnist_784')"
      ],
      "metadata": {
        "id": "9KHabVyjA6yW"
      },
      "execution_count": 14,
      "outputs": []
    },
    {
      "cell_type": "code",
      "source": [
        "# Get the features and target\n",
        "X = mnist.data\n",
        "y = mnist.target"
      ],
      "metadata": {
        "id": "sau58jZBBmf3"
      },
      "execution_count": 15,
      "outputs": []
    },
    {
      "cell_type": "code",
      "source": [
        "# Split the data\n",
        "X_train, X_test, y_train, y_test = train_test_split(X, y, random_state = 42)"
      ],
      "metadata": {
        "id": "vzPXHv8pHEM4"
      },
      "execution_count": 16,
      "outputs": []
    },
    {
      "cell_type": "code",
      "source": [
        "# Scale the data\n",
        "\n",
        "# Code has been updated. I was using \n",
        "#.fit_transform() on the test data.\n",
        "scaler = StandardScaler()\n",
        "scaler.fit(X_train)\n",
        "X_train_scaled = scaler.transform(X_train)\n",
        "X_test_scaled = scaler.transform(X_test)"
      ],
      "metadata": {
        "id": "uvow_HMgHv3Y"
      },
      "execution_count": 17,
      "outputs": []
    },
    {
      "cell_type": "markdown",
      "source": [
        "## KNN models"
      ],
      "metadata": {
        "id": "eAhUAWTJN_Kj"
      }
    },
    {
      "cell_type": "code",
      "source": [
        "# Instantiate two k-nearest neighbors model. One \n",
        "# that uses PCA, and one that doesn't\n",
        "\n",
        "# Code has been updated so that there isn't an unneccesary\n",
        "# pipeline within a pipeline.\n",
        "knn_pipe = make_pipeline(StandardScaler(), KNeighborsClassifier())\n",
        "knn_pca_pipe = make_pipeline(StandardScaler(), PCA(n_components = 0.95), KNeighborsClassifier())"
      ],
      "metadata": {
        "id": "uhKBofFRNpqp"
      },
      "execution_count": 18,
      "outputs": []
    },
    {
      "cell_type": "code",
      "source": [
        "# Train the model that doesn't use PCA\n",
        "knn_pipe.fit(X_train, y_train)"
      ],
      "metadata": {
        "colab": {
          "base_uri": "https://localhost:8080/"
        },
        "id": "-E5Hl3GwQyPB",
        "outputId": "937f16c9-5304-4844-9072-dd1beca32451"
      },
      "execution_count": 19,
      "outputs": [
        {
          "output_type": "execute_result",
          "data": {
            "text/plain": [
              "Pipeline(steps=[('standardscaler', StandardScaler()),\n",
              "                ('kneighborsclassifier', KNeighborsClassifier())])"
            ]
          },
          "metadata": {},
          "execution_count": 19
        }
      ]
    },
    {
      "cell_type": "code",
      "source": [
        "# Train the model that uses PCA\n",
        "knn_pca_pipe.fit(X_train, y_train)"
      ],
      "metadata": {
        "colab": {
          "base_uri": "https://localhost:8080/"
        },
        "id": "KoRh8qbIRD8-",
        "outputId": "797dd46c-6c8a-4e96-b414-95db56c04e65"
      },
      "execution_count": 20,
      "outputs": [
        {
          "output_type": "execute_result",
          "data": {
            "text/plain": [
              "Pipeline(steps=[('standardscaler', StandardScaler()),\n",
              "                ('pca', PCA(n_components=0.95)),\n",
              "                ('kneighborsclassifier', KNeighborsClassifier())])"
            ]
          },
          "metadata": {},
          "execution_count": 20
        }
      ]
    },
    {
      "cell_type": "code",
      "source": [
        "%%time\n",
        "# Make predictions using the model without PCA\n",
        "preds_no_pca = knn_pipe.predict(X_test)"
      ],
      "metadata": {
        "colab": {
          "base_uri": "https://localhost:8080/"
        },
        "id": "WrgJYPSnRPFB",
        "outputId": "00cd7e6e-920d-490c-e0c7-764fdb647b5f"
      },
      "execution_count": 21,
      "outputs": [
        {
          "output_type": "stream",
          "name": "stdout",
          "text": [
            "CPU times: user 1min 43s, sys: 1.72 s, total: 1min 44s\n",
            "Wall time: 1min 3s\n"
          ]
        }
      ]
    },
    {
      "cell_type": "code",
      "source": [
        "%%time\n",
        "# Make predictions using the model with PCA\n",
        "preds_pca = knn_pca_pipe.predict(X_test)"
      ],
      "metadata": {
        "colab": {
          "base_uri": "https://localhost:8080/"
        },
        "id": "NBIL-5gyRzrO",
        "outputId": "450dcc16-2f55-4a93-cf8e-9cc7a4d14f03"
      },
      "execution_count": 22,
      "outputs": [
        {
          "output_type": "stream",
          "name": "stdout",
          "text": [
            "CPU times: user 54.1 s, sys: 1.12 s, total: 55.3 s\n",
            "Wall time: 36.3 s\n"
          ]
        }
      ]
    },
    {
      "cell_type": "markdown",
      "source": [
        "> We see that the model using PCA was able to make predictions in less than half the time it took the model that didn't use PCA to make predictions."
      ],
      "metadata": {
        "id": "sE9MW2MvTrjA"
      }
    },
    {
      "cell_type": "code",
      "source": [
        "# Evaluate the models\n",
        "print('Metrics for the model without PCA')\n",
        "print(classification_report(preds_no_pca, y_test))\n",
        "print()\n",
        "print('Metrics for the model with PCA')\n",
        "print(classification_report(preds_pca, y_test))"
      ],
      "metadata": {
        "colab": {
          "base_uri": "https://localhost:8080/"
        },
        "id": "4VpCZNsoT3KS",
        "outputId": "98362728-4638-4b3c-912f-cae1fd62313f"
      },
      "execution_count": 23,
      "outputs": [
        {
          "output_type": "stream",
          "name": "stdout",
          "text": [
            "Metrics for the model without PCA\n",
            "              precision    recall  f1-score   support\n",
            "\n",
            "           0       0.98      0.96      0.97      1748\n",
            "           1       0.99      0.95      0.97      2066\n",
            "           2       0.93      0.95      0.94      1737\n",
            "           3       0.94      0.93      0.94      1824\n",
            "           4       0.93      0.94      0.94      1576\n",
            "           5       0.93      0.94      0.94      1591\n",
            "           6       0.97      0.96      0.97      1780\n",
            "           7       0.93      0.94      0.93      1864\n",
            "           8       0.89      0.97      0.93      1525\n",
            "           9       0.92      0.90      0.91      1789\n",
            "\n",
            "    accuracy                           0.94     17500\n",
            "   macro avg       0.94      0.94      0.94     17500\n",
            "weighted avg       0.94      0.94      0.94     17500\n",
            "\n",
            "\n",
            "Metrics for the model with PCA\n",
            "              precision    recall  f1-score   support\n",
            "\n",
            "           0       0.98      0.96      0.97      1748\n",
            "           1       0.99      0.96      0.97      2048\n",
            "           2       0.94      0.95      0.94      1744\n",
            "           3       0.94      0.94      0.94      1814\n",
            "           4       0.94      0.94      0.94      1591\n",
            "           5       0.93      0.95      0.94      1585\n",
            "           6       0.98      0.96      0.97      1787\n",
            "           7       0.93      0.94      0.94      1866\n",
            "           8       0.90      0.97      0.93      1541\n",
            "           9       0.93      0.91      0.92      1776\n",
            "\n",
            "    accuracy                           0.95     17500\n",
            "   macro avg       0.95      0.95      0.95     17500\n",
            "weighted avg       0.95      0.95      0.95     17500\n",
            "\n"
          ]
        }
      ]
    },
    {
      "cell_type": "markdown",
      "source": [
        "# Question Responses"
      ],
      "metadata": {
        "id": "Uk9Cm_EHVC8t"
      }
    },
    {
      "cell_type": "markdown",
      "source": [
        "a. We see from the above classification reports that the model using PCA actually performed slightly better across for the metrics precision, recall, and accuracy.\n",
        "\n",
        "b. The model using PCA was able to make predictions in less than half the time it took the model that didn't use PCA to make predictions.\n",
        "\n"
      ],
      "metadata": {
        "id": "SkrnoK9uVOig"
      }
    }
  ]
}
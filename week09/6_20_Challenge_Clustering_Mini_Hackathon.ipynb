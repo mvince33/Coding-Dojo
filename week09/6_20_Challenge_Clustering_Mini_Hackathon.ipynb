{
  "nbformat": 4,
  "nbformat_minor": 0,
  "metadata": {
    "colab": {
      "name": "6.20 Challenge Clustering Mini Hackathon.ipynb",
      "provenance": [],
      "collapsed_sections": [],
      "include_colab_link": true
    },
    "kernelspec": {
      "name": "python3",
      "display_name": "Python 3"
    },
    "language_info": {
      "name": "python"
    }
  },
  "cells": [
    {
      "cell_type": "markdown",
      "metadata": {
        "id": "view-in-github",
        "colab_type": "text"
      },
      "source": [
        "<a href=\"https://colab.research.google.com/github/mvince33/Coding-Dojo/blob/main/week09/6_20_Challenge_Clustering_Mini_Hackathon.ipynb\" target=\"_parent\"><img src=\"https://colab.research.google.com/assets/colab-badge.svg\" alt=\"Open In Colab\"/></a>"
      ]
    },
    {
      "cell_type": "markdown",
      "source": [
        "\n",
        "<center>\n",
        "<img src=\"https://course_report_production.s3.amazonaws.com/rich/rich_files/rich_files/2470/s300/cd-logo-blue-600x600.png\" alt=\"Coding Dojo Logo\" class=\"center\" height=\"50\">\n",
        "\n",
        "## Clustering - Mini Hackathon \n",
        "Make a copy of this notebook to edit!\n",
        "\n",
        "<img src=\"https://external-content.duckduckgo.com/iu/?u=https%3A%2F%2Fcdn.searchenginejournal.com%2Fwp-content%2Fuploads%2F2020%2F08%2Fcopy-the-colab-notebook-to-your-google-drive-5f2579179f746.jpg&f=1&nofb=1\" alt=\"Make a copy\" class=\"center\" height=\"200\">\n",
        "\n",
        "</center>"
      ],
      "metadata": {
        "id": "VZhoRRztKtyx"
      }
    },
    {
      "cell_type": "markdown",
      "source": [
        "\n",
        "# ⛹ Task : \n",
        "Your task is to use the same [dataset](https://docs.google.com/spreadsheets/d/e/2PACX-1vT9qetZw-uGS1u44KiW-XOJJkhmX0BKPdcsQ_X9cwTHlsTvlBHbEyA5G_D8r9knBbPOQ7My-W4pTfy2/pub?gid=2140088293&single=true&output=csv) we used in today's sample Clustering hackathon to create clusters using different features than just 'lat' and 'long' that would be useful to either \n",
        "> A) Cluster the data using most or all features and analyze those clusters to explain how the clusters are different. **(no train test split required)** OR\n",
        "\n",
        "> B) Improve a supervised learning model to predict the price of a house.  You can use any model you want, but must include cluster labels as a feature.**If you choose this option, you must train test split.**\n",
        "\n",
        "# This data is clean and all numeric, so you should be able to go straight into tuning your KMeans model.\n",
        "\n",
        "The data given is adapted from [Kaggle](https://www.kaggle.com/anthonypino/melbourne-housing-market?select=Melbourne_housing_FULL.csv).The data dictionary is given below:\n",
        "- price: selling price of home\n",
        "- rooms: number of rooms other than bedrooms and bathrooms  \n",
        "- bed: number of bedrooms\n",
        "- bath: number of bathrooms\n",
        "- car: number of car spots\n",
        "- land: land size in meters\n",
        "- lat: Latitude\n",
        "- long: Longitude\n",
        "\n",
        "## In 2 minutes report: \n",
        "1. Which task did you choose, a or b?\n",
        "2. Which features did you use?\n",
        "3. How many clusters did you make?\n",
        "4. How are the clusters different? \n",
        "  **OR**   \n",
        "Did they improve your supervised learning model vs not using them?"
      ],
      "metadata": {
        "id": "mq_mivzeMS7u"
      }
    },
    {
      "cell_type": "code",
      "source": [
        "# Imports\n",
        "import pandas as pd\n",
        "import numpy as np\n",
        "import matplotlib.pyplot as plt\n",
        "from sklearn.model_selection import train_test_split\n",
        "from sklearn.cluster import KMeans\n",
        "from sklearn.metrics import silhouette_score\n",
        "from sklearn.preprocessing import StandardScaler\n",
        "from sklearn.linear_model import LinearRegression"
      ],
      "metadata": {
        "id": "VnhQM-2YLgYn"
      },
      "execution_count": 54,
      "outputs": []
    },
    {
      "cell_type": "code",
      "execution_count": 55,
      "metadata": {
        "ExecuteTime": {
          "end_time": "2021-12-16T00:02:11.695774Z",
          "start_time": "2021-12-16T00:02:11.666645Z"
        },
        "id": "x0N_O7tr5WV8",
        "colab": {
          "base_uri": "https://localhost:8080/",
          "height": 206
        },
        "outputId": "ceb3586b-2323-4b11-adb1-131af56ff1f6"
      },
      "outputs": [
        {
          "output_type": "execute_result",
          "data": {
            "text/plain": [
              "     price  rooms  bed  bath  car  land      lat      long\n",
              "0  1480000      2    2     1    1   202 -37.7996  144.9984\n",
              "1  1035000      2    2     1    0   156 -37.8079  144.9934\n",
              "2  1465000      3    3     2    0   134 -37.8093  144.9944\n",
              "3   850000      3    3     2    1    94 -37.7969  144.9969\n",
              "4  1600000      4    3     1    2   120 -37.8072  144.9941"
            ],
            "text/html": [
              "\n",
              "  <div id=\"df-12fc5cab-c7e6-47d1-a740-b5ca8bf27210\">\n",
              "    <div class=\"colab-df-container\">\n",
              "      <div>\n",
              "<style scoped>\n",
              "    .dataframe tbody tr th:only-of-type {\n",
              "        vertical-align: middle;\n",
              "    }\n",
              "\n",
              "    .dataframe tbody tr th {\n",
              "        vertical-align: top;\n",
              "    }\n",
              "\n",
              "    .dataframe thead th {\n",
              "        text-align: right;\n",
              "    }\n",
              "</style>\n",
              "<table border=\"1\" class=\"dataframe\">\n",
              "  <thead>\n",
              "    <tr style=\"text-align: right;\">\n",
              "      <th></th>\n",
              "      <th>price</th>\n",
              "      <th>rooms</th>\n",
              "      <th>bed</th>\n",
              "      <th>bath</th>\n",
              "      <th>car</th>\n",
              "      <th>land</th>\n",
              "      <th>lat</th>\n",
              "      <th>long</th>\n",
              "    </tr>\n",
              "  </thead>\n",
              "  <tbody>\n",
              "    <tr>\n",
              "      <th>0</th>\n",
              "      <td>1480000</td>\n",
              "      <td>2</td>\n",
              "      <td>2</td>\n",
              "      <td>1</td>\n",
              "      <td>1</td>\n",
              "      <td>202</td>\n",
              "      <td>-37.7996</td>\n",
              "      <td>144.9984</td>\n",
              "    </tr>\n",
              "    <tr>\n",
              "      <th>1</th>\n",
              "      <td>1035000</td>\n",
              "      <td>2</td>\n",
              "      <td>2</td>\n",
              "      <td>1</td>\n",
              "      <td>0</td>\n",
              "      <td>156</td>\n",
              "      <td>-37.8079</td>\n",
              "      <td>144.9934</td>\n",
              "    </tr>\n",
              "    <tr>\n",
              "      <th>2</th>\n",
              "      <td>1465000</td>\n",
              "      <td>3</td>\n",
              "      <td>3</td>\n",
              "      <td>2</td>\n",
              "      <td>0</td>\n",
              "      <td>134</td>\n",
              "      <td>-37.8093</td>\n",
              "      <td>144.9944</td>\n",
              "    </tr>\n",
              "    <tr>\n",
              "      <th>3</th>\n",
              "      <td>850000</td>\n",
              "      <td>3</td>\n",
              "      <td>3</td>\n",
              "      <td>2</td>\n",
              "      <td>1</td>\n",
              "      <td>94</td>\n",
              "      <td>-37.7969</td>\n",
              "      <td>144.9969</td>\n",
              "    </tr>\n",
              "    <tr>\n",
              "      <th>4</th>\n",
              "      <td>1600000</td>\n",
              "      <td>4</td>\n",
              "      <td>3</td>\n",
              "      <td>1</td>\n",
              "      <td>2</td>\n",
              "      <td>120</td>\n",
              "      <td>-37.8072</td>\n",
              "      <td>144.9941</td>\n",
              "    </tr>\n",
              "  </tbody>\n",
              "</table>\n",
              "</div>\n",
              "      <button class=\"colab-df-convert\" onclick=\"convertToInteractive('df-12fc5cab-c7e6-47d1-a740-b5ca8bf27210')\"\n",
              "              title=\"Convert this dataframe to an interactive table.\"\n",
              "              style=\"display:none;\">\n",
              "        \n",
              "  <svg xmlns=\"http://www.w3.org/2000/svg\" height=\"24px\"viewBox=\"0 0 24 24\"\n",
              "       width=\"24px\">\n",
              "    <path d=\"M0 0h24v24H0V0z\" fill=\"none\"/>\n",
              "    <path d=\"M18.56 5.44l.94 2.06.94-2.06 2.06-.94-2.06-.94-.94-2.06-.94 2.06-2.06.94zm-11 1L8.5 8.5l.94-2.06 2.06-.94-2.06-.94L8.5 2.5l-.94 2.06-2.06.94zm10 10l.94 2.06.94-2.06 2.06-.94-2.06-.94-.94-2.06-.94 2.06-2.06.94z\"/><path d=\"M17.41 7.96l-1.37-1.37c-.4-.4-.92-.59-1.43-.59-.52 0-1.04.2-1.43.59L10.3 9.45l-7.72 7.72c-.78.78-.78 2.05 0 2.83L4 21.41c.39.39.9.59 1.41.59.51 0 1.02-.2 1.41-.59l7.78-7.78 2.81-2.81c.8-.78.8-2.07 0-2.86zM5.41 20L4 18.59l7.72-7.72 1.47 1.35L5.41 20z\"/>\n",
              "  </svg>\n",
              "      </button>\n",
              "      \n",
              "  <style>\n",
              "    .colab-df-container {\n",
              "      display:flex;\n",
              "      flex-wrap:wrap;\n",
              "      gap: 12px;\n",
              "    }\n",
              "\n",
              "    .colab-df-convert {\n",
              "      background-color: #E8F0FE;\n",
              "      border: none;\n",
              "      border-radius: 50%;\n",
              "      cursor: pointer;\n",
              "      display: none;\n",
              "      fill: #1967D2;\n",
              "      height: 32px;\n",
              "      padding: 0 0 0 0;\n",
              "      width: 32px;\n",
              "    }\n",
              "\n",
              "    .colab-df-convert:hover {\n",
              "      background-color: #E2EBFA;\n",
              "      box-shadow: 0px 1px 2px rgba(60, 64, 67, 0.3), 0px 1px 3px 1px rgba(60, 64, 67, 0.15);\n",
              "      fill: #174EA6;\n",
              "    }\n",
              "\n",
              "    [theme=dark] .colab-df-convert {\n",
              "      background-color: #3B4455;\n",
              "      fill: #D2E3FC;\n",
              "    }\n",
              "\n",
              "    [theme=dark] .colab-df-convert:hover {\n",
              "      background-color: #434B5C;\n",
              "      box-shadow: 0px 1px 3px 1px rgba(0, 0, 0, 0.15);\n",
              "      filter: drop-shadow(0px 1px 2px rgba(0, 0, 0, 0.3));\n",
              "      fill: #FFFFFF;\n",
              "    }\n",
              "  </style>\n",
              "\n",
              "      <script>\n",
              "        const buttonEl =\n",
              "          document.querySelector('#df-12fc5cab-c7e6-47d1-a740-b5ca8bf27210 button.colab-df-convert');\n",
              "        buttonEl.style.display =\n",
              "          google.colab.kernel.accessAllowed ? 'block' : 'none';\n",
              "\n",
              "        async function convertToInteractive(key) {\n",
              "          const element = document.querySelector('#df-12fc5cab-c7e6-47d1-a740-b5ca8bf27210');\n",
              "          const dataTable =\n",
              "            await google.colab.kernel.invokeFunction('convertToInteractive',\n",
              "                                                     [key], {});\n",
              "          if (!dataTable) return;\n",
              "\n",
              "          const docLinkHtml = 'Like what you see? Visit the ' +\n",
              "            '<a target=\"_blank\" href=https://colab.research.google.com/notebooks/data_table.ipynb>data table notebook</a>'\n",
              "            + ' to learn more about interactive tables.';\n",
              "          element.innerHTML = '';\n",
              "          dataTable['output_type'] = 'display_data';\n",
              "          await google.colab.output.renderOutput(dataTable, element);\n",
              "          const docLink = document.createElement('div');\n",
              "          docLink.innerHTML = docLinkHtml;\n",
              "          element.appendChild(docLink);\n",
              "        }\n",
              "      </script>\n",
              "    </div>\n",
              "  </div>\n",
              "  "
            ]
          },
          "metadata": {},
          "execution_count": 55
        }
      ],
      "source": [
        "# Load Data\n",
        "df = pd.read_csv('https://docs.google.com/spreadsheets/d/e/2PACX-1vT9qetZw-uGS1u44KiW-XOJJkhmX0BKPdcsQ_X9cwTHlsTvlBHbEyA5G_D8r9knBbPOQ7My-W4pTfy2/pub?gid=2140088293&single=true&output=csv')\n",
        "df.head()"
      ]
    },
    {
      "cell_type": "code",
      "source": [
        "df.duplicated().sum()"
      ],
      "metadata": {
        "id": "ZsUP6scMS8hO",
        "colab": {
          "base_uri": "https://localhost:8080/"
        },
        "outputId": "1247959d-72ae-4e2c-dcfa-5a28671d992c"
      },
      "execution_count": 56,
      "outputs": [
        {
          "output_type": "execute_result",
          "data": {
            "text/plain": [
              "22"
            ]
          },
          "metadata": {},
          "execution_count": 56
        }
      ]
    },
    {
      "cell_type": "code",
      "source": [
        "df.drop_duplicates(inplace=True)"
      ],
      "metadata": {
        "id": "BytDW-sJTYoF"
      },
      "execution_count": 57,
      "outputs": []
    },
    {
      "cell_type": "code",
      "execution_count": 58,
      "metadata": {
        "ExecuteTime": {
          "end_time": "2021-12-16T00:02:11.711658Z",
          "start_time": "2021-12-16T00:02:11.696695Z"
        },
        "id": "fFfZCHeH6fS4",
        "colab": {
          "base_uri": "https://localhost:8080/"
        },
        "outputId": "43477bf7-7349-4f96-9cfb-bdc56f32cf0c"
      },
      "outputs": [
        {
          "output_type": "stream",
          "name": "stdout",
          "text": [
            "<class 'pandas.core.frame.DataFrame'>\n",
            "Int64Index: 17479 entries, 0 to 17500\n",
            "Data columns (total 8 columns):\n",
            " #   Column  Non-Null Count  Dtype  \n",
            "---  ------  --------------  -----  \n",
            " 0   price   17479 non-null  int64  \n",
            " 1   rooms   17479 non-null  int64  \n",
            " 2   bed     17479 non-null  int64  \n",
            " 3   bath    17479 non-null  int64  \n",
            " 4   car     17479 non-null  int64  \n",
            " 5   land    17479 non-null  int64  \n",
            " 6   lat     17479 non-null  float64\n",
            " 7   long    17479 non-null  float64\n",
            "dtypes: float64(2), int64(6)\n",
            "memory usage: 1.2 MB\n"
          ]
        }
      ],
      "source": [
        "df.info()"
      ]
    },
    {
      "cell_type": "code",
      "execution_count": 59,
      "metadata": {
        "ExecuteTime": {
          "end_time": "2021-12-16T00:02:11.741593Z",
          "start_time": "2021-12-16T00:02:11.712652Z"
        },
        "id": "p9sbiIlf6hYu",
        "colab": {
          "base_uri": "https://localhost:8080/",
          "height": 300
        },
        "outputId": "5f634c63-6668-4a14-ab92-1287bc010d52"
      },
      "outputs": [
        {
          "output_type": "execute_result",
          "data": {
            "text/plain": [
              "              price         rooms           bed          bath           car  \\\n",
              "count  1.747900e+04  17479.000000  17479.000000  17479.000000  17479.000000   \n",
              "mean   1.061880e+06      3.041593      3.024544      1.571143      1.690028   \n",
              "std    5.601807e+05      0.936683      0.949957      0.688174      0.991686   \n",
              "min    8.500000e+04      1.000000      0.000000      0.000000      0.000000   \n",
              "25%    6.570000e+05      2.000000      2.000000      1.000000      1.000000   \n",
              "50%    9.100000e+05      3.000000      3.000000      1.000000      2.000000   \n",
              "75%    1.326000e+06      4.000000      4.000000      2.000000      2.000000   \n",
              "max    3.450000e+06     12.000000     20.000000      9.000000     18.000000   \n",
              "\n",
              "                land           lat          long  \n",
              "count   17479.000000  17479.000000  17479.000000  \n",
              "mean      592.575319    -37.806108    144.996018  \n",
              "std      3807.574687      0.089590      0.117446  \n",
              "min         0.000000    -38.190430    144.423790  \n",
              "25%       220.000000    -37.859200    144.924300  \n",
              "50%       512.000000    -37.798590    145.002430  \n",
              "75%       662.000000    -37.749000    145.067600  \n",
              "max    433014.000000    -37.399460    145.526350  "
            ],
            "text/html": [
              "\n",
              "  <div id=\"df-15179c86-04ff-4052-924b-7f9eaf0c3233\">\n",
              "    <div class=\"colab-df-container\">\n",
              "      <div>\n",
              "<style scoped>\n",
              "    .dataframe tbody tr th:only-of-type {\n",
              "        vertical-align: middle;\n",
              "    }\n",
              "\n",
              "    .dataframe tbody tr th {\n",
              "        vertical-align: top;\n",
              "    }\n",
              "\n",
              "    .dataframe thead th {\n",
              "        text-align: right;\n",
              "    }\n",
              "</style>\n",
              "<table border=\"1\" class=\"dataframe\">\n",
              "  <thead>\n",
              "    <tr style=\"text-align: right;\">\n",
              "      <th></th>\n",
              "      <th>price</th>\n",
              "      <th>rooms</th>\n",
              "      <th>bed</th>\n",
              "      <th>bath</th>\n",
              "      <th>car</th>\n",
              "      <th>land</th>\n",
              "      <th>lat</th>\n",
              "      <th>long</th>\n",
              "    </tr>\n",
              "  </thead>\n",
              "  <tbody>\n",
              "    <tr>\n",
              "      <th>count</th>\n",
              "      <td>1.747900e+04</td>\n",
              "      <td>17479.000000</td>\n",
              "      <td>17479.000000</td>\n",
              "      <td>17479.000000</td>\n",
              "      <td>17479.000000</td>\n",
              "      <td>17479.000000</td>\n",
              "      <td>17479.000000</td>\n",
              "      <td>17479.000000</td>\n",
              "    </tr>\n",
              "    <tr>\n",
              "      <th>mean</th>\n",
              "      <td>1.061880e+06</td>\n",
              "      <td>3.041593</td>\n",
              "      <td>3.024544</td>\n",
              "      <td>1.571143</td>\n",
              "      <td>1.690028</td>\n",
              "      <td>592.575319</td>\n",
              "      <td>-37.806108</td>\n",
              "      <td>144.996018</td>\n",
              "    </tr>\n",
              "    <tr>\n",
              "      <th>std</th>\n",
              "      <td>5.601807e+05</td>\n",
              "      <td>0.936683</td>\n",
              "      <td>0.949957</td>\n",
              "      <td>0.688174</td>\n",
              "      <td>0.991686</td>\n",
              "      <td>3807.574687</td>\n",
              "      <td>0.089590</td>\n",
              "      <td>0.117446</td>\n",
              "    </tr>\n",
              "    <tr>\n",
              "      <th>min</th>\n",
              "      <td>8.500000e+04</td>\n",
              "      <td>1.000000</td>\n",
              "      <td>0.000000</td>\n",
              "      <td>0.000000</td>\n",
              "      <td>0.000000</td>\n",
              "      <td>0.000000</td>\n",
              "      <td>-38.190430</td>\n",
              "      <td>144.423790</td>\n",
              "    </tr>\n",
              "    <tr>\n",
              "      <th>25%</th>\n",
              "      <td>6.570000e+05</td>\n",
              "      <td>2.000000</td>\n",
              "      <td>2.000000</td>\n",
              "      <td>1.000000</td>\n",
              "      <td>1.000000</td>\n",
              "      <td>220.000000</td>\n",
              "      <td>-37.859200</td>\n",
              "      <td>144.924300</td>\n",
              "    </tr>\n",
              "    <tr>\n",
              "      <th>50%</th>\n",
              "      <td>9.100000e+05</td>\n",
              "      <td>3.000000</td>\n",
              "      <td>3.000000</td>\n",
              "      <td>1.000000</td>\n",
              "      <td>2.000000</td>\n",
              "      <td>512.000000</td>\n",
              "      <td>-37.798590</td>\n",
              "      <td>145.002430</td>\n",
              "    </tr>\n",
              "    <tr>\n",
              "      <th>75%</th>\n",
              "      <td>1.326000e+06</td>\n",
              "      <td>4.000000</td>\n",
              "      <td>4.000000</td>\n",
              "      <td>2.000000</td>\n",
              "      <td>2.000000</td>\n",
              "      <td>662.000000</td>\n",
              "      <td>-37.749000</td>\n",
              "      <td>145.067600</td>\n",
              "    </tr>\n",
              "    <tr>\n",
              "      <th>max</th>\n",
              "      <td>3.450000e+06</td>\n",
              "      <td>12.000000</td>\n",
              "      <td>20.000000</td>\n",
              "      <td>9.000000</td>\n",
              "      <td>18.000000</td>\n",
              "      <td>433014.000000</td>\n",
              "      <td>-37.399460</td>\n",
              "      <td>145.526350</td>\n",
              "    </tr>\n",
              "  </tbody>\n",
              "</table>\n",
              "</div>\n",
              "      <button class=\"colab-df-convert\" onclick=\"convertToInteractive('df-15179c86-04ff-4052-924b-7f9eaf0c3233')\"\n",
              "              title=\"Convert this dataframe to an interactive table.\"\n",
              "              style=\"display:none;\">\n",
              "        \n",
              "  <svg xmlns=\"http://www.w3.org/2000/svg\" height=\"24px\"viewBox=\"0 0 24 24\"\n",
              "       width=\"24px\">\n",
              "    <path d=\"M0 0h24v24H0V0z\" fill=\"none\"/>\n",
              "    <path d=\"M18.56 5.44l.94 2.06.94-2.06 2.06-.94-2.06-.94-.94-2.06-.94 2.06-2.06.94zm-11 1L8.5 8.5l.94-2.06 2.06-.94-2.06-.94L8.5 2.5l-.94 2.06-2.06.94zm10 10l.94 2.06.94-2.06 2.06-.94-2.06-.94-.94-2.06-.94 2.06-2.06.94z\"/><path d=\"M17.41 7.96l-1.37-1.37c-.4-.4-.92-.59-1.43-.59-.52 0-1.04.2-1.43.59L10.3 9.45l-7.72 7.72c-.78.78-.78 2.05 0 2.83L4 21.41c.39.39.9.59 1.41.59.51 0 1.02-.2 1.41-.59l7.78-7.78 2.81-2.81c.8-.78.8-2.07 0-2.86zM5.41 20L4 18.59l7.72-7.72 1.47 1.35L5.41 20z\"/>\n",
              "  </svg>\n",
              "      </button>\n",
              "      \n",
              "  <style>\n",
              "    .colab-df-container {\n",
              "      display:flex;\n",
              "      flex-wrap:wrap;\n",
              "      gap: 12px;\n",
              "    }\n",
              "\n",
              "    .colab-df-convert {\n",
              "      background-color: #E8F0FE;\n",
              "      border: none;\n",
              "      border-radius: 50%;\n",
              "      cursor: pointer;\n",
              "      display: none;\n",
              "      fill: #1967D2;\n",
              "      height: 32px;\n",
              "      padding: 0 0 0 0;\n",
              "      width: 32px;\n",
              "    }\n",
              "\n",
              "    .colab-df-convert:hover {\n",
              "      background-color: #E2EBFA;\n",
              "      box-shadow: 0px 1px 2px rgba(60, 64, 67, 0.3), 0px 1px 3px 1px rgba(60, 64, 67, 0.15);\n",
              "      fill: #174EA6;\n",
              "    }\n",
              "\n",
              "    [theme=dark] .colab-df-convert {\n",
              "      background-color: #3B4455;\n",
              "      fill: #D2E3FC;\n",
              "    }\n",
              "\n",
              "    [theme=dark] .colab-df-convert:hover {\n",
              "      background-color: #434B5C;\n",
              "      box-shadow: 0px 1px 3px 1px rgba(0, 0, 0, 0.15);\n",
              "      filter: drop-shadow(0px 1px 2px rgba(0, 0, 0, 0.3));\n",
              "      fill: #FFFFFF;\n",
              "    }\n",
              "  </style>\n",
              "\n",
              "      <script>\n",
              "        const buttonEl =\n",
              "          document.querySelector('#df-15179c86-04ff-4052-924b-7f9eaf0c3233 button.colab-df-convert');\n",
              "        buttonEl.style.display =\n",
              "          google.colab.kernel.accessAllowed ? 'block' : 'none';\n",
              "\n",
              "        async function convertToInteractive(key) {\n",
              "          const element = document.querySelector('#df-15179c86-04ff-4052-924b-7f9eaf0c3233');\n",
              "          const dataTable =\n",
              "            await google.colab.kernel.invokeFunction('convertToInteractive',\n",
              "                                                     [key], {});\n",
              "          if (!dataTable) return;\n",
              "\n",
              "          const docLinkHtml = 'Like what you see? Visit the ' +\n",
              "            '<a target=\"_blank\" href=https://colab.research.google.com/notebooks/data_table.ipynb>data table notebook</a>'\n",
              "            + ' to learn more about interactive tables.';\n",
              "          element.innerHTML = '';\n",
              "          dataTable['output_type'] = 'display_data';\n",
              "          await google.colab.output.renderOutput(dataTable, element);\n",
              "          const docLink = document.createElement('div');\n",
              "          docLink.innerHTML = docLinkHtml;\n",
              "          element.appendChild(docLink);\n",
              "        }\n",
              "      </script>\n",
              "    </div>\n",
              "  </div>\n",
              "  "
            ]
          },
          "metadata": {},
          "execution_count": 59
        }
      ],
      "source": [
        "df.describe()"
      ]
    },
    {
      "cell_type": "markdown",
      "source": [
        "# Task A: Analysis"
      ],
      "metadata": {
        "id": "hFFJQHsSlJCr"
      }
    },
    {
      "cell_type": "markdown",
      "source": [
        "* Cluster the houses \n",
        "* Explain how the clusters are different. (no train test split required)\n",
        "\n"
      ],
      "metadata": {
        "id": "ps1nBckEL72B"
      }
    },
    {
      "cell_type": "code",
      "source": [
        "inertias = []\n",
        "sils = []\n",
        "ks = range(2, 11)\n",
        "for k in ks:\n",
        "  kmeans = KMeans(n_clusters = k)\n",
        "  kmeans.fit(df)\n",
        "  inertias.append(kmeans.inertia_)\n",
        "  sils.append(silhouette_score(df, kmeans.labels_))"
      ],
      "metadata": {
        "id": "8v6Dh0pbRSso"
      },
      "execution_count": 60,
      "outputs": []
    },
    {
      "cell_type": "code",
      "source": [
        "plt.figure(figsize = (8, 5))\n",
        "plt.plot(ks, inertias, marker = '.')"
      ],
      "metadata": {
        "id": "Y68A3bSZbVwn",
        "outputId": "068f1b00-b465-45cc-f6f8-eb332c1ded90",
        "colab": {
          "base_uri": "https://localhost:8080/",
          "height": 348
        }
      },
      "execution_count": 62,
      "outputs": [
        {
          "output_type": "execute_result",
          "data": {
            "text/plain": [
              "[<matplotlib.lines.Line2D at 0x7f7354b7f290>]"
            ]
          },
          "metadata": {},
          "execution_count": 62
        },
        {
          "output_type": "display_data",
          "data": {
            "text/plain": [
              "<Figure size 576x360 with 1 Axes>"
            ],
            "image/png": "[encoded data removed]"
          },
          "metadata": {
            "needs_background": "light"
          }
        }
      ]
    },
    {
      "cell_type": "code",
      "source": [
        "plt.figure(figsize = (8, 5))\n",
        "plt.plot(ks, sils, marker = '.')"
      ],
      "metadata": {
        "id": "y26TBdAJbc0F",
        "outputId": "3ea11bda-04e4-4a2f-8278-d4e6dc173572",
        "colab": {
          "base_uri": "https://localhost:8080/",
          "height": 337
        }
      },
      "execution_count": 63,
      "outputs": [
        {
          "output_type": "execute_result",
          "data": {
            "text/plain": [
              "[<matplotlib.lines.Line2D at 0x7f7354b71690>]"
            ]
          },
          "metadata": {},
          "execution_count": 63
        },
        {
          "output_type": "display_data",
          "data": {
            "text/plain": [
              "<Figure size 576x360 with 1 Axes>"
            ],
            "image/png": "[encoded data removed]"
          },
          "metadata": {
            "needs_background": "light"
          }
        }
      ]
    },
    {
      "cell_type": "code",
      "source": [
        "kmeans2 = KMeans(n_clusters = 2)\n",
        "kmeans3 = KMeans(n_clusters = 3)\n",
        "kmeans4 = KMeans(n_clusters = 4)\n",
        "kmeans2.fit(df)\n",
        "kmeans3.fit(df)\n",
        "kmeans4.fit(df)\n",
        "df2 = df.copy()\n",
        "df2['clusters'] = kmeans2.labels_\n",
        "df3 = df.copy()\n",
        "df3['clusters'] = kmeans3.labels_\n",
        "df4 = df.copy()\n",
        "df4['clusters'] = kmeans4.labels_\n",
        "df2['clusters']"
      ],
      "metadata": {
        "id": "EIVEKI10b2jk",
        "outputId": "b80579ab-08b4-4898-899d-1446582eab8a",
        "colab": {
          "base_uri": "https://localhost:8080/"
        }
      },
      "execution_count": 71,
      "outputs": [
        {
          "output_type": "execute_result",
          "data": {
            "text/plain": [
              "0        1\n",
              "1        0\n",
              "2        1\n",
              "3        0\n",
              "4        1\n",
              "        ..\n",
              "17496    0\n",
              "17497    1\n",
              "17498    0\n",
              "17499    0\n",
              "17500    0\n",
              "Name: clusters, Length: 17479, dtype: int32"
            ]
          },
          "metadata": {},
          "execution_count": 71
        }
      ]
    },
    {
      "cell_type": "code",
      "source": [
        "cols = df2.columns.drop(['clusters', 'lat', 'long'])\n",
        "\n",
        "fig, axes = plt.subplots(nrows = 2, ncols = 3, figsize = (26, 16));\n",
        "axes = axes.ravel()\n",
        "for i, col in enumerate(cols):\n",
        "  axes[i].bar(x = df2['clusters'].value_counts().index,\n",
        "              height = df2.groupby('clusters')[col].mean())\n",
        "  axes[i].set_title(col)"
      ],
      "metadata": {
        "id": "PI9OePkicY4a",
        "outputId": "5b2c658f-f9f9-4c34-fde4-cab2563cf3ce",
        "colab": {
          "base_uri": "https://localhost:8080/",
          "height": 934
        }
      },
      "execution_count": 77,
      "outputs": [
        {
          "output_type": "display_data",
          "data": {
            "text/plain": [
              "<Figure size 1872x1152 with 6 Axes>"
            ],
            "image/png": "[encoded data removed]"
          },
          "metadata": {
            "needs_background": "light"
          }
        }
      ]
    },
    {
      "cell_type": "code",
      "source": [
        "cols = df3.columns.drop(['clusters', 'lat', 'long'])\n",
        "\n",
        "fig, axes = plt.subplots(nrows = 2, ncols = 3, figsize = (26, 16));\n",
        "axes = axes.ravel()\n",
        "for i, col in enumerate(cols):\n",
        "  axes[i].bar(x = df3['clusters'].value_counts().index,\n",
        "              height = df3.groupby('clusters')[col].mean())\n",
        "  axes[i].set_title(col)"
      ],
      "metadata": {
        "id": "RfwTi37ZhRx1",
        "outputId": "21751975-2f5b-4644-ea51-89f9c40e523c",
        "colab": {
          "base_uri": "https://localhost:8080/",
          "height": 934
        }
      },
      "execution_count": 78,
      "outputs": [
        {
          "output_type": "display_data",
          "data": {
            "text/plain": [
              "<Figure size 1872x1152 with 6 Axes>"
            ],
            "image/png": "[encoded data removed]"
          },
          "metadata": {
            "needs_background": "light"
          }
        }
      ]
    },
    {
      "cell_type": "code",
      "source": [
        "cols = df4.columns.drop(['clusters', 'lat', 'long'])\n",
        "\n",
        "fig, axes = plt.subplots(nrows = 2, ncols = 3, figsize = (26, 16));\n",
        "axes = axes.ravel()\n",
        "for i, col in enumerate(cols):\n",
        "  axes[i].bar(x = df4['clusters'].value_counts().index,\n",
        "              height = df4.groupby('clusters')[col].mean())\n",
        "  axes[i].set_title(col)"
      ],
      "metadata": {
        "id": "m9Ptl_1fhz8q",
        "outputId": "ecf5fd55-c414-491b-8e62-ece53d8b6d5a",
        "colab": {
          "base_uri": "https://localhost:8080/",
          "height": 934
        }
      },
      "execution_count": 79,
      "outputs": [
        {
          "output_type": "display_data",
          "data": {
            "text/plain": [
              "<Figure size 1872x1152 with 6 Axes>"
            ],
            "image/png": "[encoded data removed]"
          },
          "metadata": {
            "needs_background": "light"
          }
        }
      ]
    },
    {
      "cell_type": "markdown",
      "source": [
        "# Task B: Prediction"
      ],
      "metadata": {
        "id": "jXppz-udlLES"
      }
    },
    {
      "cell_type": "markdown",
      "source": [
        "## **If you choose this option, you must train test split before clustering.**\n",
        "\n",
        "\n",
        "* Use KMeans clustering to create a new feature for supervised learning\n",
        "* Improve a supervised learning model to predict the price of a house. \n",
        "* You can use any model you want, but must include cluster labels as a feature. \n",
        "\n",
        "\n"
      ],
      "metadata": {
        "id": "V-t9VBwtQFvL"
      }
    },
    {
      "cell_type": "code",
      "source": [
        ""
      ],
      "metadata": {
        "id": "SQ9zusQ4QFpD"
      },
      "execution_count": null,
      "outputs": []
    },
    {
      "cell_type": "code",
      "source": [
        ""
      ],
      "metadata": {
        "id": "nPIqZS-pQFmi"
      },
      "execution_count": null,
      "outputs": []
    }
  ]
}
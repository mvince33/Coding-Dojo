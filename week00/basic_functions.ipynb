{
  "nbformat": 4,
  "nbformat_minor": 0,
  "metadata": {
    "colab": {
      "name": "Untitled3.ipynb",
      "provenance": []
    },
    "kernelspec": {
      "name": "python3",
      "display_name": "Python 3"
    },
    "language_info": {
      "name": "python"
    }
  },
  "cells": [
    {
      "cell_type": "code",
      "source": [
        "def countdown(n):\n",
        "    return [n - i for i in range(n + 1)]\n",
        "\n",
        "def print_and_return(a):\n",
        "    print(a[0])\n",
        "    return(a[1])\n",
        "\n",
        "def print_and_length(a):\n",
        "    return a[0] + len(a)\n",
        "\n",
        "def length_and_value(size, value):\n",
        "    return [value for i in range(size)]\n",
        "\n",
        "def values_greater_than_second(a):\n",
        "    if len(a) < 2:\n",
        "        return False\n",
        "    else:\n",
        "        return [a[i] for i in range(len(a)) if a[i] > a[1]]\n"
      ],
      "metadata": {
        "id": "1voCpKfUgTyS"
      },
      "execution_count": null,
      "outputs": []
    }
  ]
}

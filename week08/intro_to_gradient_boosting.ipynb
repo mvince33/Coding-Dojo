{
  "nbformat": 4,
  "nbformat_minor": 0,
  "metadata": {
    "colab": {
      "name": "intro_to_gradient_boosting.ipynb",
      "provenance": [],
      "collapsed_sections": [],
      "authorship_tag": "ABX9TyMq+19QyBYwUgS/p6ms6g04",
      "include_colab_link": true
    },
    "kernelspec": {
      "name": "python3",
      "display_name": "Python 3"
    },
    "language_info": {
      "name": "python"
    }
  },
  "cells": [
    {
      "cell_type": "markdown",
      "metadata": {
        "id": "view-in-github",
        "colab_type": "text"
      },
      "source": [
        "<a href=\"https://colab.research.google.com/github/mvince33/Coding-Dojo/blob/main/week08/intro_to_gradient_boosting.ipynb\" target=\"_parent\"><img src=\"https://colab.research.google.com/assets/colab-badge.svg\" alt=\"Open In Colab\"/></a>"
      ]
    },
    {
      "cell_type": "code",
      "execution_count": 63,
      "metadata": {
        "id": "hydI8bFEkRpt"
      },
      "outputs": [],
      "source": [
        "# Imports\n",
        "import numpy as np\n",
        "import pandas as pd\n",
        "import matplotlib.pyplot as plt\n",
        "from sklearn.model_selection import train_test_split\n",
        "from sklearn.tree import DecisionTreeRegressor\n",
        "from sklearn.dummy import DummyRegressor\n",
        "from sklearn.datasets import make_regression\n",
        "from sklearn.metrics import r2_score"
      ]
    },
    {
      "cell_type": "code",
      "source": [
        "# Custom function to plot predictions and evaluate a model.\n",
        "def plot_r2(X, y, y_pred):\n",
        "  # Plot true labels\n",
        "  plt.scatter(X, y, label = 'True Values');\n",
        "  # Plot predicted labels\n",
        "  plt.scatter(X, y_pred, label = 'Predicted Values');\n",
        "  plt.legend();\n",
        "  plt.xlabel('X');\n",
        "  plt.ylabel('y');\n",
        "  plt.show();\n",
        "  # Print r2 score\n",
        "  print('\\nR2 Score:', r2_score(y, y_pred))"
      ],
      "metadata": {
        "id": "Ew0v971IlAyJ"
      },
      "execution_count": 64,
      "outputs": []
    },
    {
      "cell_type": "code",
      "source": [
        "# Create data\n",
        "df = make_regression(n_features = 1,\n",
        "                     n_informative = 1,\n",
        "                     n_targets = 1,\n",
        "                     n_samples = 1000,\n",
        "                     random_state = 42)"
      ],
      "metadata": {
        "id": "oBva0YJollxI"
      },
      "execution_count": 65,
      "outputs": []
    },
    {
      "cell_type": "code",
      "source": [
        "X = df[0]\n",
        "y = df[1]\n",
        "y = y ** 3\n",
        "\n",
        "plt.scatter(X, y)\n",
        "plt.xlabel('x')\n",
        "plt.ylabel('y')"
      ],
      "metadata": {
        "colab": {
          "base_uri": "https://localhost:8080/",
          "height": 296
        },
        "id": "2CjSljqml3ai",
        "outputId": "03cf6487-9bb3-48c4-9939-8d3ce245cbb4"
      },
      "execution_count": 66,
      "outputs": [
        {
          "output_type": "execute_result",
          "data": {
            "text/plain": [
              "Text(0, 0.5, 'y')"
            ]
          },
          "metadata": {},
          "execution_count": 66
        },
        {
          "output_type": "display_data",
          "data": {
            "text/plain": [
              "<Figure size 432x288 with 1 Axes>"
            ],
            "image/png": "[encoded data removed]"
          },
          "metadata": {
            "needs_background": "light"
          }
        }
      ]
    },
    {
      "cell_type": "code",
      "source": [
        "# Validation split\n",
        "X_train, X_test, y_train, y_test = train_test_split(X, y, random_state = 42)"
      ],
      "metadata": {
        "id": "9joAT5mdnU68"
      },
      "execution_count": 67,
      "outputs": []
    },
    {
      "cell_type": "code",
      "source": [
        "# Create a baseline regressor. Use the mean\n",
        "baseline = DummyRegressor(strategy = 'mean')\n",
        "baseline.fit(X_train, y_train)\n",
        "y_pred_1 = baseline.predict(X_train)\n",
        "plot_r2(X_train, y_train, y_pred_1)"
      ],
      "metadata": {
        "colab": {
          "base_uri": "https://localhost:8080/",
          "height": 314
        },
        "id": "zhAesU8Pnb_1",
        "outputId": "38f4e6f6-53f3-4c79-eaec-eb757d1c43cb"
      },
      "execution_count": 68,
      "outputs": [
        {
          "output_type": "display_data",
          "data": {
            "text/plain": [
              "<Figure size 432x288 with 1 Axes>"
            ],
            "image/png": "[encoded data removed]"
          },
          "metadata": {
            "needs_background": "light"
          }
        },
        {
          "output_type": "stream",
          "name": "stdout",
          "text": [
            "\n",
            "R2 Score: 0.0\n"
          ]
        }
      ]
    },
    {
      "cell_type": "code",
      "source": [
        "# Create pseudo-residuals\n",
        "resid_1 = y_train - y_pred_1"
      ],
      "metadata": {
        "id": "g88OWAtQn6eO"
      },
      "execution_count": 69,
      "outputs": []
    },
    {
      "cell_type": "code",
      "source": [
        "# Weak tree 1\n",
        "tree_1 = DecisionTreeRegressor(max_depth = 1)\n",
        "tree_1.fit(X_train, resid_1)\n",
        "y_pred_2 = tree_1.predict(X_train)\n",
        "\n",
        "# Add the predictions\n",
        "pred = y_pred_1 + y_pred_2\n",
        "\n",
        "plot_r2(X_train, y_train, pred)"
      ],
      "metadata": {
        "colab": {
          "base_uri": "https://localhost:8080/",
          "height": 314
        },
        "id": "8G32FosDoQ-q",
        "outputId": "1e14d497-f6ee-456c-d951-9ee63d6369a6"
      },
      "execution_count": 70,
      "outputs": [
        {
          "output_type": "display_data",
          "data": {
            "text/plain": [
              "<Figure size 432x288 with 1 Axes>"
            ],
            "image/png": "[encoded data removed]"
          },
          "metadata": {
            "needs_background": "light"
          }
        },
        {
          "output_type": "stream",
          "name": "stdout",
          "text": [
            "\n",
            "R2 Score: 0.3853730211307187\n"
          ]
        }
      ]
    },
    {
      "cell_type": "code",
      "source": [
        "# Second residuals\n",
        "resid_2 = resid_1 - y_pred_2"
      ],
      "metadata": {
        "id": "U9c-tb_Fovzu"
      },
      "execution_count": 71,
      "outputs": []
    },
    {
      "cell_type": "code",
      "source": [
        "# Second Weak Tree\n",
        "tree_2 = DecisionTreeRegressor(max_depth = 1)\n",
        "tree_2.fit(X_train, resid_2)\n",
        "y_pred_3 = tree_2.predict(X_train)\n",
        "\n",
        "pred = y_pred_1 + y_pred_2 + y_pred_3\n",
        "plot_r2(X_train, y_train, pred)"
      ],
      "metadata": {
        "colab": {
          "base_uri": "https://localhost:8080/",
          "height": 314
        },
        "id": "nw4_CoSqo6aH",
        "outputId": "6e52249f-1d43-45f0-c00c-47de9e696706"
      },
      "execution_count": 72,
      "outputs": [
        {
          "output_type": "display_data",
          "data": {
            "text/plain": [
              "<Figure size 432x288 with 1 Axes>"
            ],
            "image/png": "[encoded data removed]"
          },
          "metadata": {
            "needs_background": "light"
          }
        },
        {
          "output_type": "stream",
          "name": "stdout",
          "text": [
            "\n",
            "R2 Score: 0.5839918105519601\n"
          ]
        }
      ]
    },
    {
      "cell_type": "code",
      "source": [
        "# Third residuals\n",
        "resid_3 = resid_2 - y_pred_3"
      ],
      "metadata": {
        "id": "zUOLL2gSrHRB"
      },
      "execution_count": 73,
      "outputs": []
    },
    {
      "cell_type": "code",
      "source": [
        "# Third Weak Tree\n",
        "tree_3 = DecisionTreeRegressor(max_depth = 1)\n",
        "tree_3.fit(X_train, resid_3)\n",
        "y_pred_4 = tree_3.predict(X_train)\n",
        "\n",
        "pred = y_pred_1 + y_pred_2 + y_pred_3 + y_pred_4\n",
        "plot_r2(X_train, y_train, pred)"
      ],
      "metadata": {
        "colab": {
          "base_uri": "https://localhost:8080/",
          "height": 314
        },
        "id": "XG48AgW_rMZJ",
        "outputId": "3940c320-b07e-4bf1-b2dd-6a03c109da70"
      },
      "execution_count": 75,
      "outputs": [
        {
          "output_type": "display_data",
          "data": {
            "text/plain": [
              "<Figure size 432x288 with 1 Axes>"
            ],
            "image/png": "[encoded data removed]"
          },
          "metadata": {
            "needs_background": "light"
          }
        },
        {
          "output_type": "stream",
          "name": "stdout",
          "text": [
            "\n",
            "R2 Score: 0.7190134633329139\n"
          ]
        }
      ]
    },
    {
      "cell_type": "code",
      "source": [
        "# Use XGBoost\n",
        "from xgboost import XGBRegressor\n",
        "xgb = XGBRegressor(n_estimators = 300, random_state = 42)\n",
        "xgb.fit(X_train, y_train)\n",
        "\n",
        "preds = xgb.predict(X_test)\n",
        "\n",
        "plot_r2(X_test, y_test, preds)"
      ],
      "metadata": {
        "colab": {
          "base_uri": "https://localhost:8080/",
          "height": 331
        },
        "id": "F-lN3Af92cdm",
        "outputId": "08308d1f-d5d2-4db5-e223-824a21bcc847"
      },
      "execution_count": 80,
      "outputs": [
        {
          "output_type": "stream",
          "name": "stdout",
          "text": [
            "[19:50:16] WARNING: /workspace/src/objective/regression_obj.cu:152: reg:linear is now deprecated in favor of reg:squarederror.\n"
          ]
        },
        {
          "output_type": "display_data",
          "data": {
            "text/plain": [
              "<Figure size 432x288 with 1 Axes>"
            ],
            "image/png": "[encoded data removed]"
          },
          "metadata": {
            "needs_background": "light"
          }
        },
        {
          "output_type": "stream",
          "name": "stdout",
          "text": [
            "\n",
            "R2 Score: 0.9969380020108349\n"
          ]
        }
      ]
    }
  ]
}
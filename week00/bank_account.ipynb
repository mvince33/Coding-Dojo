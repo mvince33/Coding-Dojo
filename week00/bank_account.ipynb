{
  "nbformat": 4,
  "nbformat_minor": 0,
  "metadata": {
    "colab": {
      "name": "Untitled3.ipynb",
      "provenance": []
    },
    "kernelspec": {
      "name": "python3",
      "display_name": "Python 3"
    },
    "language_info": {
      "name": "python"
    }
  },
  "cells": [
    {
      "cell_type": "code",
      "source": [
        "class BankAccount:\n",
        "    def __init__(self, int_rate, balance='0'): \n",
        "        self.int_rate = int_rate / 100\n",
        "        self.balance = balance\n",
        "\n",
        "    def deposit(self, amount):\n",
        "\t      self.balance += amount\n",
        "\n",
        "    def withdraw(self, amount):\n",
        "        if amount > self.balance:\n",
        "            print('Insufficient funds. Charing a $5 fee.')\n",
        "            self.balance -= 5\n",
        "        else:\n",
        "            self.balance -= amount\n",
        "\n",
        "    def display_account_info(self):\n",
        "\t      print(self.balance)\n",
        "\n",
        "    def yield_interest(self):\n",
        "        if self.balance > 0:\n",
        "      \t    self.balance *= 1 + self.int_rate\n",
        "\n",
        "# Create the accounts\n",
        "ren_accnt = BankAccount(0.02, 0)\n",
        "stimpy_accnt = BankAccount(0.03, 0)\n",
        "\n",
        "# Make the required deposits and withdrawals to the first account\n",
        "ren_accnt.deposit(100)\n",
        "ren_accnt.deposit(50)\n",
        "ren_accnt.deposit(250)\n",
        "ren_accnt.withdraw(20)\n",
        "ren_accnt.display_account_info()\n",
        "\n",
        "# Make the required deposits and withdrawals to the second account\n",
        "stimpy_accnt.deposit(5000)\n",
        "stimpy_accnt.deposit(3500)\n",
        "stimpy_accnt.withdraw(250)\n",
        "stimpy_accnt.withdraw(500)\n",
        "stimpy_accnt.withdraw(1500)\n",
        "stimpy_accnt.withdraw(1200)\n",
        "stimpy_accnt.yield_interest()\n",
        "stimpy_accnt.display_account_info()\n"
      ],
      "metadata": {
        "colab": {
          "base_uri": "https://localhost:8080/"
        },
        "id": "6-EYmxj_zqy-",
        "outputId": "e9b8924c-a62d-416f-ebf5-92936b4ec338"
      },
      "execution_count": 28,
      "outputs": [
        {
          "output_type": "stream",
          "name": "stdout",
          "text": [
            "380\n",
            "5051.514999999999\n"
          ]
        }
      ]
    }
  ]
}

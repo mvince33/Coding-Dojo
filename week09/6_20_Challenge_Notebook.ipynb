{
  "nbformat": 4,
  "nbformat_minor": 0,
  "metadata": {
    "colab": {
      "name": "6.20 Challenge Notebook.ipynb",
      "provenance": [],
      "collapsed_sections": [],
      "include_colab_link": true
    },
    "kernelspec": {
      "name": "python3",
      "display_name": "Python 3"
    },
    "language_info": {
      "name": "python"
    }
  },
  "cells": [
    {
      "cell_type": "markdown",
      "metadata": {
        "id": "view-in-github",
        "colab_type": "text"
      },
      "source": [
        "<a href=\"https://colab.research.google.com/github/mvince33/Coding-Dojo/blob/main/week09/6_20_Challenge_Notebook.ipynb\" target=\"_parent\"><img src=\"https://colab.research.google.com/assets/colab-badge.svg\" alt=\"Open In Colab\"/></a>"
      ]
    },
    {
      "cell_type": "markdown",
      "source": [
        "# Customer Segmentation"
      ],
      "metadata": {
        "id": "LgHW-R4PimMB"
      }
    },
    {
      "cell_type": "markdown",
      "source": [
        "## Import Libraries"
      ],
      "metadata": {
        "id": "t5DEtkohixV6"
      }
    },
    {
      "cell_type": "code",
      "metadata": {
        "id": "4KQNGPQ3bhWk"
      },
      "source": [
        "#import libraries\n",
        "import pandas as pd\n",
        "import matplotlib.pyplot as plt\n",
        "from sklearn.preprocessing import StandardScaler\n",
        "\n",
        "# new libraries\n",
        "from sklearn.cluster import KMeans\n",
        "from sklearn.metrics import silhouette_score"
      ],
      "execution_count": null,
      "outputs": []
    },
    {
      "cell_type": "markdown",
      "source": [
        "## Load the Dataset\n",
        "\n",
        "\n",
        "This dataset is about customers and spending habits.  The problem we are solving is how to group similar customers together and understand the different groups.  This is a common clustering problem called Customer Segmentation.\n",
        "\n",
        "Link to Dataset:\n",
        "\n",
        "https://docs.google.com/spreadsheets/d/e/2PACX-1vQGG95zRf7Hmos7Gx7VqpJmksOos3bgxr73KYfmc8soEnvk_L4rVcNPcUHDpmNMDnRyof6UPlm-DTEp/pub?gid=1011669702&single=true&output=csv"
      ],
      "metadata": {
        "id": "v1iyxJKuRuH9"
      }
    },
    {
      "cell_type": "code",
      "metadata": {
        "id": "2DDrtLyzbq_G"
      },
      "source": [
        "#Load in data\n",
        "df = pd.read_csv('https://docs.google.com/spreadsheets/d/e/2PACX-1vQGG95zRf7Hmos7Gx7VqpJmksOos3bgxr73KYfmc8soEnvk_L4rVcNPcUHDpmNMDnRyof6UPlm-DTEp/pub?gid=1011669702&single=true&output=csv')"
      ],
      "execution_count": null,
      "outputs": []
    },
    {
      "cell_type": "markdown",
      "source": [
        "## The Project Challenge\n",
        "\n",
        "This is a the .head() from a dataset for mall customers and this is the [original source](https://www.kaggle.com/vjchoudhary7/customer-segmentation-tutorial-in-python).\n",
        "\n",
        "Our challenge is to provide a meaningful analysis of customer groups based on the data.\n",
        "\n",
        "This is a business analyst task that can be improved with unsupervised learning.  "
      ],
      "metadata": {
        "id": "uusUEykNv6Nw"
      }
    },
    {
      "cell_type": "code",
      "source": [
        "df.head()"
      ],
      "metadata": {
        "id": "Ps4zYpgBjxE2",
        "outputId": "71383c0c-506b-42b2-8249-d1ddfca4a2ca",
        "colab": {
          "base_uri": "https://localhost:8080/",
          "height": 221
        }
      },
      "execution_count": null,
      "outputs": [
        {
          "output_type": "execute_result",
          "data": {
            "text/plain": [
              "   Gender  Age  Annual Income (k$)  Spending Score (1-100)\n",
              "0    Male   19                  15                      39\n",
              "1    Male   21                  15                      81\n",
              "2  Female   20                  16                       6\n",
              "3  Female   23                  16                      77\n",
              "4  Female   31                  17                      40"
            ],
            "text/html": [
              "\n",
              "  <div id=\"df-8491d4db-380b-471e-93b3-6d14b775bd5f\">\n",
              "    <div class=\"colab-df-container\">\n",
              "      <div>\n",
              "<style scoped>\n",
              "    .dataframe tbody tr th:only-of-type {\n",
              "        vertical-align: middle;\n",
              "    }\n",
              "\n",
              "    .dataframe tbody tr th {\n",
              "        vertical-align: top;\n",
              "    }\n",
              "\n",
              "    .dataframe thead th {\n",
              "        text-align: right;\n",
              "    }\n",
              "</style>\n",
              "<table border=\"1\" class=\"dataframe\">\n",
              "  <thead>\n",
              "    <tr style=\"text-align: right;\">\n",
              "      <th></th>\n",
              "      <th>Gender</th>\n",
              "      <th>Age</th>\n",
              "      <th>Annual Income (k$)</th>\n",
              "      <th>Spending Score (1-100)</th>\n",
              "    </tr>\n",
              "  </thead>\n",
              "  <tbody>\n",
              "    <tr>\n",
              "      <th>0</th>\n",
              "      <td>Male</td>\n",
              "      <td>19</td>\n",
              "      <td>15</td>\n",
              "      <td>39</td>\n",
              "    </tr>\n",
              "    <tr>\n",
              "      <th>1</th>\n",
              "      <td>Male</td>\n",
              "      <td>21</td>\n",
              "      <td>15</td>\n",
              "      <td>81</td>\n",
              "    </tr>\n",
              "    <tr>\n",
              "      <th>2</th>\n",
              "      <td>Female</td>\n",
              "      <td>20</td>\n",
              "      <td>16</td>\n",
              "      <td>6</td>\n",
              "    </tr>\n",
              "    <tr>\n",
              "      <th>3</th>\n",
              "      <td>Female</td>\n",
              "      <td>23</td>\n",
              "      <td>16</td>\n",
              "      <td>77</td>\n",
              "    </tr>\n",
              "    <tr>\n",
              "      <th>4</th>\n",
              "      <td>Female</td>\n",
              "      <td>31</td>\n",
              "      <td>17</td>\n",
              "      <td>40</td>\n",
              "    </tr>\n",
              "  </tbody>\n",
              "</table>\n",
              "</div>\n",
              "      <button class=\"colab-df-convert\" onclick=\"convertToInteractive('df-8491d4db-380b-471e-93b3-6d14b775bd5f')\"\n",
              "              title=\"Convert this dataframe to an interactive table.\"\n",
              "              style=\"display:none;\">\n",
              "        \n",
              "  <svg xmlns=\"http://www.w3.org/2000/svg\" height=\"24px\"viewBox=\"0 0 24 24\"\n",
              "       width=\"24px\">\n",
              "    <path d=\"M0 0h24v24H0V0z\" fill=\"none\"/>\n",
              "    <path d=\"M18.56 5.44l.94 2.06.94-2.06 2.06-.94-2.06-.94-.94-2.06-.94 2.06-2.06.94zm-11 1L8.5 8.5l.94-2.06 2.06-.94-2.06-.94L8.5 2.5l-.94 2.06-2.06.94zm10 10l.94 2.06.94-2.06 2.06-.94-2.06-.94-.94-2.06-.94 2.06-2.06.94z\"/><path d=\"M17.41 7.96l-1.37-1.37c-.4-.4-.92-.59-1.43-.59-.52 0-1.04.2-1.43.59L10.3 9.45l-7.72 7.72c-.78.78-.78 2.05 0 2.83L4 21.41c.39.39.9.59 1.41.59.51 0 1.02-.2 1.41-.59l7.78-7.78 2.81-2.81c.8-.78.8-2.07 0-2.86zM5.41 20L4 18.59l7.72-7.72 1.47 1.35L5.41 20z\"/>\n",
              "  </svg>\n",
              "      </button>\n",
              "      \n",
              "  <style>\n",
              "    .colab-df-container {\n",
              "      display:flex;\n",
              "      flex-wrap:wrap;\n",
              "      gap: 12px;\n",
              "    }\n",
              "\n",
              "    .colab-df-convert {\n",
              "      background-color: #E8F0FE;\n",
              "      border: none;\n",
              "      border-radius: 50%;\n",
              "      cursor: pointer;\n",
              "      display: none;\n",
              "      fill: #1967D2;\n",
              "      height: 32px;\n",
              "      padding: 0 0 0 0;\n",
              "      width: 32px;\n",
              "    }\n",
              "\n",
              "    .colab-df-convert:hover {\n",
              "      background-color: #E2EBFA;\n",
              "      box-shadow: 0px 1px 2px rgba(60, 64, 67, 0.3), 0px 1px 3px 1px rgba(60, 64, 67, 0.15);\n",
              "      fill: #174EA6;\n",
              "    }\n",
              "\n",
              "    [theme=dark] .colab-df-convert {\n",
              "      background-color: #3B4455;\n",
              "      fill: #D2E3FC;\n",
              "    }\n",
              "\n",
              "    [theme=dark] .colab-df-convert:hover {\n",
              "      background-color: #434B5C;\n",
              "      box-shadow: 0px 1px 3px 1px rgba(0, 0, 0, 0.15);\n",
              "      filter: drop-shadow(0px 1px 2px rgba(0, 0, 0, 0.3));\n",
              "      fill: #FFFFFF;\n",
              "    }\n",
              "  </style>\n",
              "\n",
              "      <script>\n",
              "        const buttonEl =\n",
              "          document.querySelector('#df-8491d4db-380b-471e-93b3-6d14b775bd5f button.colab-df-convert');\n",
              "        buttonEl.style.display =\n",
              "          google.colab.kernel.accessAllowed ? 'block' : 'none';\n",
              "\n",
              "        async function convertToInteractive(key) {\n",
              "          const element = document.querySelector('#df-8491d4db-380b-471e-93b3-6d14b775bd5f');\n",
              "          const dataTable =\n",
              "            await google.colab.kernel.invokeFunction('convertToInteractive',\n",
              "                                                     [key], {});\n",
              "          if (!dataTable) return;\n",
              "\n",
              "          const docLinkHtml = 'Like what you see? Visit the ' +\n",
              "            '<a target=\"_blank\" href=https://colab.research.google.com/notebooks/data_table.ipynb>data table notebook</a>'\n",
              "            + ' to learn more about interactive tables.';\n",
              "          element.innerHTML = '';\n",
              "          dataTable['output_type'] = 'display_data';\n",
              "          await google.colab.output.renderOutput(dataTable, element);\n",
              "          const docLink = document.createElement('div');\n",
              "          docLink.innerHTML = docLinkHtml;\n",
              "          element.appendChild(docLink);\n",
              "        }\n",
              "      </script>\n",
              "    </div>\n",
              "  </div>\n",
              "  "
            ]
          },
          "metadata": {},
          "execution_count": 3
        }
      ]
    },
    {
      "cell_type": "markdown",
      "source": [
        "### Task 1 :\n",
        "\n",
        "(a) Use  Kmeans to establish clusters based on age and the spending score.  Set a random_state of 42.\n",
        "\n",
        "(b) How many clusters seems optimal?\n",
        "\n",
        "(c) Make a scatterplot with these features and color code it based on the cluster.\n",
        "\n",
        "\n"
      ],
      "metadata": {
        "id": "lZoqnbZ94oCl"
      }
    },
    {
      "cell_type": "markdown",
      "metadata": {
        "id": "Oe1aOdPKb355"
      },
      "source": [
        "##### (a) Use  Kmeans to establish clusters based on 'Age' and 'Spending Score (1-100)'.  Remember that you must use scaled data for Kmeans.\n",
        "\n",
        "\n"
      ]
    },
    {
      "cell_type": "code",
      "metadata": {
        "id": "UWoBKGU3bvYR"
      },
      "source": [
        "# define the columns you want to use (X is fine, but remember there isn't an X and y)\n",
        "\n",
        "\n"
      ],
      "execution_count": null,
      "outputs": []
    },
    {
      "cell_type": "markdown",
      "source": [
        "##### Remember: Do NOT train/test split"
      ],
      "metadata": {
        "id": "Gby5zDxu5oMd"
      }
    },
    {
      "cell_type": "code",
      "source": [
        "# check head of new data\n"
      ],
      "metadata": {
        "id": "dMPbaTyB65-C"
      },
      "execution_count": null,
      "outputs": []
    },
    {
      "cell_type": "code",
      "metadata": {
        "id": "0cw2cVLLpbmQ"
      },
      "source": [
        "# scale the data\n",
        "\n"
      ],
      "execution_count": null,
      "outputs": []
    },
    {
      "cell_type": "markdown",
      "source": [
        "## (b) What value for k seems optimal?"
      ],
      "metadata": {
        "id": "bIpwrBRZmcdj"
      }
    },
    {
      "cell_type": "markdown",
      "source": [
        "### Inertia"
      ],
      "metadata": {
        "id": "ptKRF0j0qDEJ"
      }
    },
    {
      "cell_type": "code",
      "metadata": {
        "id": "fkPwaHfTpfLg"
      },
      "source": [
        "# define a range of values for k to evaluate for inertia, fit and run the model, and plot the results\n",
        "\n",
        "\n",
        "\n",
        "# plot no of cluster and inertia\n",
        "\n",
        "\n"
      ],
      "execution_count": null,
      "outputs": []
    },
    {
      "cell_type": "markdown",
      "source": [
        "### Silhouette Score\n"
      ],
      "metadata": {
        "id": "DMWIo5yxz-s0"
      }
    },
    {
      "cell_type": "code",
      "metadata": {
        "id": "A6LgXxuvpkBa"
      },
      "source": [
        "# define a range of values of k to evaluate for silhouette score, fit and run the model, and plot the results\n",
        "\n",
        "\n",
        "# plot no of cluster and inertia\n",
        "\n",
        "\n",
        "\n"
      ],
      "execution_count": null,
      "outputs": []
    },
    {
      "cell_type": "markdown",
      "source": [
        "##### Final Model and Clustering the Dataset"
      ],
      "metadata": {
        "id": "i3OODqG9zi8l"
      }
    },
    {
      "cell_type": "code",
      "metadata": {
        "id": "M5GcSkPlqCvS"
      },
      "source": [
        "# instantiate a Kmeans model with the value for k based on elbow plot method and silhouette score\n",
        "\n"
      ],
      "execution_count": null,
      "outputs": []
    },
    {
      "cell_type": "code",
      "metadata": {
        "id": "27Fpq9nsqTBG"
      },
      "source": [
        "# fit your model on your scaled data\n",
        "\n",
        "# add the cluster labels as a column in df (NOT x). \n"
      ],
      "execution_count": null,
      "outputs": []
    },
    {
      "cell_type": "code",
      "metadata": {
        "id": "Iv_6DOvyriuz"
      },
      "source": [
        "# examine your dataframe with .head() to make sure the clusters are there\n"
      ],
      "execution_count": null,
      "outputs": []
    },
    {
      "cell_type": "markdown",
      "source": [
        "#### (c) Make a scatterplot of 'Age' and 'Spending Score (1-100)'. Color code it based on the cluster."
      ],
      "metadata": {
        "id": "xa4APKtTntOu"
      }
    },
    {
      "cell_type": "code",
      "metadata": {
        "id": "0R-JZHBHcBBW"
      },
      "source": [
        "# Make a scatterplot and color code it based on the cluster.\n",
        "\n",
        "\n"
      ],
      "execution_count": null,
      "outputs": []
    },
    {
      "cell_type": "markdown",
      "source": [
        "##### Investigate each of the clusters. \n",
        "\n",
        "For example: What is the minimum and maximum income for each cluster? Hint: use grouby to group by cluster and investigate summary statistics for each cluster."
      ],
      "metadata": {
        "id": "ma5E-aLScJHi"
      }
    },
    {
      "cell_type": "code",
      "source": [
        "# Use .groupby() to investigate the minimum, maximum, and mean value for each feature in each cluster.\n"
      ],
      "metadata": {
        "id": "IYTbKkmO1uI6"
      },
      "execution_count": null,
      "outputs": []
    },
    {
      "cell_type": "code",
      "source": [
        ""
      ],
      "metadata": {
        "id": "3tObojcCf6Xi"
      },
      "execution_count": null,
      "outputs": []
    },
    {
      "cell_type": "code",
      "source": [
        ""
      ],
      "metadata": {
        "id": "NQ66YZ3Iffmh"
      },
      "execution_count": null,
      "outputs": []
    },
    {
      "cell_type": "code",
      "source": [
        ""
      ],
      "metadata": {
        "id": "d2ULvbyP-07C"
      },
      "execution_count": null,
      "outputs": []
    },
    {
      "cell_type": "markdown",
      "source": [
        "### Task 2:\n",
        "\n",
        "What happens when you combine all three features? (age, income, and spending?)\n",
        "\tAs a challenge make a 3D scatterplot!  See [link here](https://plotly.com/python-api-reference/generated/plotly.express.scatter_3d) for info on 3D scatterplot\n",
        "\n"
      ],
      "metadata": {
        "id": "Oek_9q1xqbh5"
      }
    },
    {
      "cell_type": "code",
      "source": [
        ""
      ],
      "metadata": {
        "id": "6DyiJCKVv7jQ"
      },
      "execution_count": null,
      "outputs": []
    }
  ]
}
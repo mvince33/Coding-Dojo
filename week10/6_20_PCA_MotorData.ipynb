{
  "nbformat": 4,
  "nbformat_minor": 0,
  "metadata": {
    "colab": {
      "name": "6.20 PCA_MotorData.ipynb",
      "provenance": [],
      "collapsed_sections": [],
      "include_colab_link": true
    },
    "kernelspec": {
      "name": "python3",
      "display_name": "Python 3"
    },
    "language_info": {
      "name": "python"
    }
  },
  "cells": [
    {
      "cell_type": "markdown",
      "metadata": {
        "id": "view-in-github",
        "colab_type": "text"
      },
      "source": [
        "<a href=\"https://colab.research.google.com/github/mvince33/Coding-Dojo/blob/main/week10/6_20_PCA_MotorData.ipynb\" target=\"_parent\"><img src=\"https://colab.research.google.com/assets/colab-badge.svg\" alt=\"Open In Colab\"/></a>"
      ]
    },
    {
      "cell_type": "markdown",
      "metadata": {
        "id": "X2Ns7BSwdsxq"
      },
      "source": [
        "# Predict Machine Failure\n",
        "\n",
        "The task is to predict the condition of a motor based on the features provided.\n",
        "\n",
        "This is ultimately a supervised learning task, but we will add PCA to our pre-processing step.\n",
        "\n",
        "The goal here is to get the highest overall accuracy."
      ]
    },
    {
      "cell_type": "code",
      "metadata": {
        "id": "c31c29a5"
      },
      "source": [
        "import pandas as pd\n",
        "from seaborn import heatmap\n",
        "from sklearn.decomposition import PCA\n",
        "from sklearn.preprocessing import StandardScaler\n",
        "from sklearn.model_selection import train_test_split\n",
        "from sklearn.pipeline import make_pipeline\n",
        "from sklearn.neighbors import KNeighborsClassifier\n",
        "from sklearn.metrics import classification_report\n",
        "import matplotlib.pyplot as plt"
      ],
      "execution_count": 1,
      "outputs": []
    },
    {
      "cell_type": "code",
      "metadata": {
        "id": "xfJGnI6dotaV",
        "colab": {
          "base_uri": "https://localhost:8080/",
          "height": 299
        },
        "outputId": "cd18f37d-c97b-40ed-ee0e-a7be126dd520"
      },
      "source": [
        "# load data\n",
        "df = pd.read_csv('https://raw.githubusercontent.com/ninja-josh/image-storage/da58a7aa38dccd3ea96dc2e8eac658d99d928625/Sensorless_RAW%20(1).csv')\n",
        "df.head()"
      ],
      "execution_count": 2,
      "outputs": [
        {
          "output_type": "execute_result",
          "data": {
            "text/plain": [
              "        Column1       Column2   Column3   Column4       Column5   Column6  \\\n",
              "0 -3.014600e-07  8.260300e-06 -0.000012 -0.000002 -1.438600e-06 -0.000021   \n",
              "1  2.913200e-06 -5.247700e-06  0.000003 -0.000006  2.778900e-06 -0.000004   \n",
              "2 -2.951700e-06 -3.184000e-06 -0.000016 -0.000001 -1.575300e-06  0.000017   \n",
              "3 -1.322600e-06  8.820100e-06 -0.000016 -0.000005 -7.282900e-07  0.000004   \n",
              "4 -6.836600e-08  5.666300e-07 -0.000026 -0.000006 -7.940600e-07  0.000013   \n",
              "\n",
              "    Column7   Column8   Column9  Column10  ...  Column40  Column41  Column42  \\\n",
              "0  0.031718  0.031710  0.031721 -0.032963  ...  -0.63308    2.9646    8.1198   \n",
              "1  0.030804  0.030810  0.030806 -0.033520  ...  -0.59314    7.6252    6.1690   \n",
              "2  0.032877  0.032880  0.032896 -0.029834  ...  -0.63252    2.7784    5.3017   \n",
              "3  0.029410  0.029401  0.029417 -0.030156  ...  -0.62289    6.5534    6.2606   \n",
              "4  0.030119  0.030119  0.030145 -0.031393  ...  -0.63010    4.5155    9.5231   \n",
              "\n",
              "   Column43  Column44  Column45  Column46  Column47  Column48  Column49  \n",
              "0   -1.4961   -1.4961   -1.4961   -1.4996   -1.4996   -1.4996         1  \n",
              "1   -1.4967   -1.4967   -1.4967   -1.5005   -1.5005   -1.5005         1  \n",
              "2   -1.4983   -1.4983   -1.4982   -1.4985   -1.4985   -1.4985         1  \n",
              "3   -1.4963   -1.4963   -1.4963   -1.4975   -1.4975   -1.4976         1  \n",
              "4   -1.4958   -1.4958   -1.4958   -1.4959   -1.4959   -1.4959         1  \n",
              "\n",
              "[5 rows x 49 columns]"
            ],
            "text/html": [
              "\n",
              "  <div id=\"df-1691f566-fccb-440e-a57d-89b783f1c403\">\n",
              "    <div class=\"colab-df-container\">\n",
              "      <div>\n",
              "<style scoped>\n",
              "    .dataframe tbody tr th:only-of-type {\n",
              "        vertical-align: middle;\n",
              "    }\n",
              "\n",
              "    .dataframe tbody tr th {\n",
              "        vertical-align: top;\n",
              "    }\n",
              "\n",
              "    .dataframe thead th {\n",
              "        text-align: right;\n",
              "    }\n",
              "</style>\n",
              "<table border=\"1\" class=\"dataframe\">\n",
              "  <thead>\n",
              "    <tr style=\"text-align: right;\">\n",
              "      <th></th>\n",
              "      <th>Column1</th>\n",
              "      <th>Column2</th>\n",
              "      <th>Column3</th>\n",
              "      <th>Column4</th>\n",
              "      <th>Column5</th>\n",
              "      <th>Column6</th>\n",
              "      <th>Column7</th>\n",
              "      <th>Column8</th>\n",
              "      <th>Column9</th>\n",
              "      <th>Column10</th>\n",
              "      <th>...</th>\n",
              "      <th>Column40</th>\n",
              "      <th>Column41</th>\n",
              "      <th>Column42</th>\n",
              "      <th>Column43</th>\n",
              "      <th>Column44</th>\n",
              "      <th>Column45</th>\n",
              "      <th>Column46</th>\n",
              "      <th>Column47</th>\n",
              "      <th>Column48</th>\n",
              "      <th>Column49</th>\n",
              "    </tr>\n",
              "  </thead>\n",
              "  <tbody>\n",
              "    <tr>\n",
              "      <th>0</th>\n",
              "      <td>-3.014600e-07</td>\n",
              "      <td>8.260300e-06</td>\n",
              "      <td>-0.000012</td>\n",
              "      <td>-0.000002</td>\n",
              "      <td>-1.438600e-06</td>\n",
              "      <td>-0.000021</td>\n",
              "      <td>0.031718</td>\n",
              "      <td>0.031710</td>\n",
              "      <td>0.031721</td>\n",
              "      <td>-0.032963</td>\n",
              "      <td>...</td>\n",
              "      <td>-0.63308</td>\n",
              "      <td>2.9646</td>\n",
              "      <td>8.1198</td>\n",
              "      <td>-1.4961</td>\n",
              "      <td>-1.4961</td>\n",
              "      <td>-1.4961</td>\n",
              "      <td>-1.4996</td>\n",
              "      <td>-1.4996</td>\n",
              "      <td>-1.4996</td>\n",
              "      <td>1</td>\n",
              "    </tr>\n",
              "    <tr>\n",
              "      <th>1</th>\n",
              "      <td>2.913200e-06</td>\n",
              "      <td>-5.247700e-06</td>\n",
              "      <td>0.000003</td>\n",
              "      <td>-0.000006</td>\n",
              "      <td>2.778900e-06</td>\n",
              "      <td>-0.000004</td>\n",
              "      <td>0.030804</td>\n",
              "      <td>0.030810</td>\n",
              "      <td>0.030806</td>\n",
              "      <td>-0.033520</td>\n",
              "      <td>...</td>\n",
              "      <td>-0.59314</td>\n",
              "      <td>7.6252</td>\n",
              "      <td>6.1690</td>\n",
              "      <td>-1.4967</td>\n",
              "      <td>-1.4967</td>\n",
              "      <td>-1.4967</td>\n",
              "      <td>-1.5005</td>\n",
              "      <td>-1.5005</td>\n",
              "      <td>-1.5005</td>\n",
              "      <td>1</td>\n",
              "    </tr>\n",
              "    <tr>\n",
              "      <th>2</th>\n",
              "      <td>-2.951700e-06</td>\n",
              "      <td>-3.184000e-06</td>\n",
              "      <td>-0.000016</td>\n",
              "      <td>-0.000001</td>\n",
              "      <td>-1.575300e-06</td>\n",
              "      <td>0.000017</td>\n",
              "      <td>0.032877</td>\n",
              "      <td>0.032880</td>\n",
              "      <td>0.032896</td>\n",
              "      <td>-0.029834</td>\n",
              "      <td>...</td>\n",
              "      <td>-0.63252</td>\n",
              "      <td>2.7784</td>\n",
              "      <td>5.3017</td>\n",
              "      <td>-1.4983</td>\n",
              "      <td>-1.4983</td>\n",
              "      <td>-1.4982</td>\n",
              "      <td>-1.4985</td>\n",
              "      <td>-1.4985</td>\n",
              "      <td>-1.4985</td>\n",
              "      <td>1</td>\n",
              "    </tr>\n",
              "    <tr>\n",
              "      <th>3</th>\n",
              "      <td>-1.322600e-06</td>\n",
              "      <td>8.820100e-06</td>\n",
              "      <td>-0.000016</td>\n",
              "      <td>-0.000005</td>\n",
              "      <td>-7.282900e-07</td>\n",
              "      <td>0.000004</td>\n",
              "      <td>0.029410</td>\n",
              "      <td>0.029401</td>\n",
              "      <td>0.029417</td>\n",
              "      <td>-0.030156</td>\n",
              "      <td>...</td>\n",
              "      <td>-0.62289</td>\n",
              "      <td>6.5534</td>\n",
              "      <td>6.2606</td>\n",
              "      <td>-1.4963</td>\n",
              "      <td>-1.4963</td>\n",
              "      <td>-1.4963</td>\n",
              "      <td>-1.4975</td>\n",
              "      <td>-1.4975</td>\n",
              "      <td>-1.4976</td>\n",
              "      <td>1</td>\n",
              "    </tr>\n",
              "    <tr>\n",
              "      <th>4</th>\n",
              "      <td>-6.836600e-08</td>\n",
              "      <td>5.666300e-07</td>\n",
              "      <td>-0.000026</td>\n",
              "      <td>-0.000006</td>\n",
              "      <td>-7.940600e-07</td>\n",
              "      <td>0.000013</td>\n",
              "      <td>0.030119</td>\n",
              "      <td>0.030119</td>\n",
              "      <td>0.030145</td>\n",
              "      <td>-0.031393</td>\n",
              "      <td>...</td>\n",
              "      <td>-0.63010</td>\n",
              "      <td>4.5155</td>\n",
              "      <td>9.5231</td>\n",
              "      <td>-1.4958</td>\n",
              "      <td>-1.4958</td>\n",
              "      <td>-1.4958</td>\n",
              "      <td>-1.4959</td>\n",
              "      <td>-1.4959</td>\n",
              "      <td>-1.4959</td>\n",
              "      <td>1</td>\n",
              "    </tr>\n",
              "  </tbody>\n",
              "</table>\n",
              "<p>5 rows × 49 columns</p>\n",
              "</div>\n",
              "      <button class=\"colab-df-convert\" onclick=\"convertToInteractive('df-1691f566-fccb-440e-a57d-89b783f1c403')\"\n",
              "              title=\"Convert this dataframe to an interactive table.\"\n",
              "              style=\"display:none;\">\n",
              "        \n",
              "  <svg xmlns=\"http://www.w3.org/2000/svg\" height=\"24px\"viewBox=\"0 0 24 24\"\n",
              "       width=\"24px\">\n",
              "    <path d=\"M0 0h24v24H0V0z\" fill=\"none\"/>\n",
              "    <path d=\"M18.56 5.44l.94 2.06.94-2.06 2.06-.94-2.06-.94-.94-2.06-.94 2.06-2.06.94zm-11 1L8.5 8.5l.94-2.06 2.06-.94-2.06-.94L8.5 2.5l-.94 2.06-2.06.94zm10 10l.94 2.06.94-2.06 2.06-.94-2.06-.94-.94-2.06-.94 2.06-2.06.94z\"/><path d=\"M17.41 7.96l-1.37-1.37c-.4-.4-.92-.59-1.43-.59-.52 0-1.04.2-1.43.59L10.3 9.45l-7.72 7.72c-.78.78-.78 2.05 0 2.83L4 21.41c.39.39.9.59 1.41.59.51 0 1.02-.2 1.41-.59l7.78-7.78 2.81-2.81c.8-.78.8-2.07 0-2.86zM5.41 20L4 18.59l7.72-7.72 1.47 1.35L5.41 20z\"/>\n",
              "  </svg>\n",
              "      </button>\n",
              "      \n",
              "  <style>\n",
              "    .colab-df-container {\n",
              "      display:flex;\n",
              "      flex-wrap:wrap;\n",
              "      gap: 12px;\n",
              "    }\n",
              "\n",
              "    .colab-df-convert {\n",
              "      background-color: #E8F0FE;\n",
              "      border: none;\n",
              "      border-radius: 50%;\n",
              "      cursor: pointer;\n",
              "      display: none;\n",
              "      fill: #1967D2;\n",
              "      height: 32px;\n",
              "      padding: 0 0 0 0;\n",
              "      width: 32px;\n",
              "    }\n",
              "\n",
              "    .colab-df-convert:hover {\n",
              "      background-color: #E2EBFA;\n",
              "      box-shadow: 0px 1px 2px rgba(60, 64, 67, 0.3), 0px 1px 3px 1px rgba(60, 64, 67, 0.15);\n",
              "      fill: #174EA6;\n",
              "    }\n",
              "\n",
              "    [theme=dark] .colab-df-convert {\n",
              "      background-color: #3B4455;\n",
              "      fill: #D2E3FC;\n",
              "    }\n",
              "\n",
              "    [theme=dark] .colab-df-convert:hover {\n",
              "      background-color: #434B5C;\n",
              "      box-shadow: 0px 1px 3px 1px rgba(0, 0, 0, 0.15);\n",
              "      filter: drop-shadow(0px 1px 2px rgba(0, 0, 0, 0.3));\n",
              "      fill: #FFFFFF;\n",
              "    }\n",
              "  </style>\n",
              "\n",
              "      <script>\n",
              "        const buttonEl =\n",
              "          document.querySelector('#df-1691f566-fccb-440e-a57d-89b783f1c403 button.colab-df-convert');\n",
              "        buttonEl.style.display =\n",
              "          google.colab.kernel.accessAllowed ? 'block' : 'none';\n",
              "\n",
              "        async function convertToInteractive(key) {\n",
              "          const element = document.querySelector('#df-1691f566-fccb-440e-a57d-89b783f1c403');\n",
              "          const dataTable =\n",
              "            await google.colab.kernel.invokeFunction('convertToInteractive',\n",
              "                                                     [key], {});\n",
              "          if (!dataTable) return;\n",
              "\n",
              "          const docLinkHtml = 'Like what you see? Visit the ' +\n",
              "            '<a target=\"_blank\" href=https://colab.research.google.com/notebooks/data_table.ipynb>data table notebook</a>'\n",
              "            + ' to learn more about interactive tables.';\n",
              "          element.innerHTML = '';\n",
              "          dataTable['output_type'] = 'display_data';\n",
              "          await google.colab.output.renderOutput(dataTable, element);\n",
              "          const docLink = document.createElement('div');\n",
              "          docLink.innerHTML = docLinkHtml;\n",
              "          element.appendChild(docLink);\n",
              "        }\n",
              "      </script>\n",
              "    </div>\n",
              "  </div>\n",
              "  "
            ]
          },
          "metadata": {},
          "execution_count": 2
        }
      ]
    },
    {
      "cell_type": "code",
      "source": [
        "# Check for duplicates\n",
        "df.duplicated().sum()"
      ],
      "metadata": {
        "id": "_wFR0e3v9iIo",
        "colab": {
          "base_uri": "https://localhost:8080/"
        },
        "outputId": "968c4461-09dc-44ce-d304-55c6d9952d2c"
      },
      "execution_count": 3,
      "outputs": [
        {
          "output_type": "execute_result",
          "data": {
            "text/plain": [
              "0"
            ]
          },
          "metadata": {},
          "execution_count": 3
        }
      ]
    },
    {
      "cell_type": "code",
      "metadata": {
        "id": "LU03v_ZmpQEB",
        "colab": {
          "base_uri": "https://localhost:8080/"
        },
        "outputId": "ceeca115-4595-4a43-f4f1-3f506393fff5"
      },
      "source": [
        "# Explore shape and datatypes of the data\n",
        "df.info()\n"
      ],
      "execution_count": 4,
      "outputs": [
        {
          "output_type": "stream",
          "name": "stdout",
          "text": [
            "<class 'pandas.core.frame.DataFrame'>\n",
            "RangeIndex: 58509 entries, 0 to 58508\n",
            "Data columns (total 49 columns):\n",
            " #   Column    Non-Null Count  Dtype  \n",
            "---  ------    --------------  -----  \n",
            " 0   Column1   58509 non-null  float64\n",
            " 1   Column2   58509 non-null  float64\n",
            " 2   Column3   58509 non-null  float64\n",
            " 3   Column4   58509 non-null  float64\n",
            " 4   Column5   58509 non-null  float64\n",
            " 5   Column6   58509 non-null  float64\n",
            " 6   Column7   58509 non-null  float64\n",
            " 7   Column8   58509 non-null  float64\n",
            " 8   Column9   58509 non-null  float64\n",
            " 9   Column10  58509 non-null  float64\n",
            " 10  Column11  58509 non-null  float64\n",
            " 11  Column12  58509 non-null  float64\n",
            " 12  Column13  58509 non-null  float64\n",
            " 13  Column14  58509 non-null  float64\n",
            " 14  Column15  58509 non-null  float64\n",
            " 15  Column16  58509 non-null  float64\n",
            " 16  Column17  58509 non-null  float64\n",
            " 17  Column18  58509 non-null  float64\n",
            " 18  Column19  58509 non-null  float64\n",
            " 19  Column20  58509 non-null  float64\n",
            " 20  Column21  58509 non-null  float64\n",
            " 21  Column22  58509 non-null  float64\n",
            " 22  Column23  58509 non-null  float64\n",
            " 23  Column24  58509 non-null  float64\n",
            " 24  Column25  58509 non-null  float64\n",
            " 25  Column26  58509 non-null  float64\n",
            " 26  Column27  58509 non-null  float64\n",
            " 27  Column28  58509 non-null  float64\n",
            " 28  Column29  58509 non-null  float64\n",
            " 29  Column30  58509 non-null  float64\n",
            " 30  Column31  58509 non-null  float64\n",
            " 31  Column32  58509 non-null  float64\n",
            " 32  Column33  58509 non-null  float64\n",
            " 33  Column34  58509 non-null  float64\n",
            " 34  Column35  58509 non-null  float64\n",
            " 35  Column36  58509 non-null  float64\n",
            " 36  Column37  58509 non-null  float64\n",
            " 37  Column38  58509 non-null  float64\n",
            " 38  Column39  58509 non-null  float64\n",
            " 39  Column40  58509 non-null  float64\n",
            " 40  Column41  58509 non-null  float64\n",
            " 41  Column42  58509 non-null  float64\n",
            " 42  Column43  58509 non-null  float64\n",
            " 43  Column44  58509 non-null  float64\n",
            " 44  Column45  58509 non-null  float64\n",
            " 45  Column46  58509 non-null  float64\n",
            " 46  Column47  58509 non-null  float64\n",
            " 47  Column48  58509 non-null  float64\n",
            " 48  Column49  58509 non-null  int64  \n",
            "dtypes: float64(48), int64(1)\n",
            "memory usage: 21.9 MB\n"
          ]
        }
      ]
    },
    {
      "cell_type": "code",
      "metadata": {
        "id": "2oL-6yL-pSy7",
        "colab": {
          "base_uri": "https://localhost:8080/"
        },
        "outputId": "ad4e10d2-b6c0-4987-e706-4b58739c4bcb"
      },
      "source": [
        "# Check for missing values\n",
        "df.isna().sum()"
      ],
      "execution_count": 5,
      "outputs": [
        {
          "output_type": "execute_result",
          "data": {
            "text/plain": [
              "Column1     0\n",
              "Column2     0\n",
              "Column3     0\n",
              "Column4     0\n",
              "Column5     0\n",
              "Column6     0\n",
              "Column7     0\n",
              "Column8     0\n",
              "Column9     0\n",
              "Column10    0\n",
              "Column11    0\n",
              "Column12    0\n",
              "Column13    0\n",
              "Column14    0\n",
              "Column15    0\n",
              "Column16    0\n",
              "Column17    0\n",
              "Column18    0\n",
              "Column19    0\n",
              "Column20    0\n",
              "Column21    0\n",
              "Column22    0\n",
              "Column23    0\n",
              "Column24    0\n",
              "Column25    0\n",
              "Column26    0\n",
              "Column27    0\n",
              "Column28    0\n",
              "Column29    0\n",
              "Column30    0\n",
              "Column31    0\n",
              "Column32    0\n",
              "Column33    0\n",
              "Column34    0\n",
              "Column35    0\n",
              "Column36    0\n",
              "Column37    0\n",
              "Column38    0\n",
              "Column39    0\n",
              "Column40    0\n",
              "Column41    0\n",
              "Column42    0\n",
              "Column43    0\n",
              "Column44    0\n",
              "Column45    0\n",
              "Column46    0\n",
              "Column47    0\n",
              "Column48    0\n",
              "Column49    0\n",
              "dtype: int64"
            ]
          },
          "metadata": {},
          "execution_count": 5
        }
      ]
    },
    {
      "cell_type": "code",
      "metadata": {
        "id": "ner4WW2ua12m",
        "colab": {
          "base_uri": "https://localhost:8080/"
        },
        "outputId": "bad4222a-7443-4da4-9733-142c62730e1c"
      },
      "source": [
        "# Explore the class balance in the target column.\n",
        "# The last column (Column 49) is the target and is an integer (This is a classification task)\n",
        "df['Column49'].value_counts()"
      ],
      "execution_count": 6,
      "outputs": [
        {
          "output_type": "execute_result",
          "data": {
            "text/plain": [
              "1     5319\n",
              "2     5319\n",
              "3     5319\n",
              "4     5319\n",
              "5     5319\n",
              "6     5319\n",
              "7     5319\n",
              "8     5319\n",
              "9     5319\n",
              "10    5319\n",
              "11    5319\n",
              "Name: Column49, dtype: int64"
            ]
          },
          "metadata": {},
          "execution_count": 6
        }
      ]
    },
    {
      "cell_type": "code",
      "metadata": {
        "id": "zwGjBhirqfey"
      },
      "source": [
        "# Separate the target and features.  \n",
        "X = df.drop(columns='Column49')\n",
        "y = df['Column49']\n"
      ],
      "execution_count": 7,
      "outputs": []
    },
    {
      "cell_type": "code",
      "metadata": {
        "id": "m1Ly6WbIqSbg"
      },
      "source": [
        "# Train test split\n",
        "X_train, X_test, y_train, y_test = train_test_split(X, y, random_state=42)"
      ],
      "execution_count": 8,
      "outputs": []
    },
    {
      "cell_type": "code",
      "source": [
        "X_train.describe()"
      ],
      "metadata": {
        "id": "06oRCBsv5SR8",
        "colab": {
          "base_uri": "https://localhost:8080/",
          "height": 394
        },
        "outputId": "3b1b4d3b-f966-4b87-d125-1ac256b6b6db"
      },
      "execution_count": 9,
      "outputs": [
        {
          "output_type": "execute_result",
          "data": {
            "text/plain": [
              "            Column1       Column2       Column3       Column4       Column5  \\\n",
              "count  43881.000000  4.388100e+04  4.388100e+04  43881.000000  4.388100e+04   \n",
              "mean      -0.000003  1.427072e-06  1.013350e-07     -0.000001  1.282729e-06   \n",
              "std        0.000072  5.340336e-05  2.370628e-04      0.000062  5.728528e-05   \n",
              "min       -0.013721 -3.956100e-03 -1.358000e-02     -0.012787 -8.355900e-03   \n",
              "25%       -0.000007 -1.447700e-05 -7.341600e-05     -0.000005 -1.467900e-05   \n",
              "50%       -0.000003  8.402200e-07  2.135800e-07     -0.000001  7.515400e-07   \n",
              "75%        0.000002  1.864600e-05  7.413100e-05      0.000004  1.897100e-05   \n",
              "max        0.005784  4.525300e-03  5.237700e-03      0.000622  4.905300e-04   \n",
              "\n",
              "            Column6       Column7       Column8       Column9      Column10  \\\n",
              "count  4.388100e+04  43881.000000  43881.000000  43881.000000  43881.000000   \n",
              "mean  -1.960034e-07      0.001970      0.001969      0.001969     -0.011824   \n",
              "std    2.242847e-04      0.036346      0.036344      0.036349      0.066168   \n",
              "min   -9.741300e-03     -0.139890     -0.135940     -0.130860     -0.218640   \n",
              "25%   -7.378500e-05     -0.019621     -0.019642     -0.019648     -0.032054   \n",
              "50%   -2.718900e-07      0.013213      0.013214      0.013239     -0.015604   \n",
              "75%    7.170300e-05      0.024703      0.024706      0.024715      0.020565   \n",
              "max    2.395600e-03      0.069125      0.069130      0.069131      0.352580   \n",
              "\n",
              "       ...      Column39      Column40      Column41      Column42  \\\n",
              "count  ...  43881.000000  43881.000000  43881.000000  43881.000000   \n",
              "mean   ...      8.383915     -0.425689      7.290038      8.291361   \n",
              "std    ...      6.758397     24.069049     12.658098      6.599908   \n",
              "min    ...      0.522180     -0.891000     -0.594710      0.320660   \n",
              "25%    ...      4.457100     -0.715300      1.450200      4.447200   \n",
              "50%    ...      6.565400     -0.661340      3.293400      6.480300   \n",
              "75%    ...      9.943400     -0.574470      8.286000      9.876300   \n",
              "max    ...    125.490000   3670.800000    889.930000    153.150000   \n",
              "\n",
              "           Column43      Column44      Column45      Column46      Column47  \\\n",
              "count  43881.000000  43881.000000  43881.000000  43881.000000  43881.000000   \n",
              "mean      -1.500878     -1.500903     -1.500795     -1.497776     -1.497798   \n",
              "std        0.003652      0.003662      0.003628      0.003180      0.003183   \n",
              "min       -1.525500     -1.526200     -1.523700     -1.519900     -1.520000   \n",
              "25%       -1.503300     -1.503300     -1.503200     -1.499600     -1.499600   \n",
              "50%       -1.500300     -1.500300     -1.500200     -1.498100     -1.498100   \n",
              "75%       -1.498200     -1.498200     -1.498200     -1.496200     -1.496300   \n",
              "max       -1.457600     -1.456100     -1.455500     -1.337200     -1.337200   \n",
              "\n",
              "           Column48  \n",
              "count  43881.000000  \n",
              "mean      -1.497691  \n",
              "std        0.003193  \n",
              "min       -1.519500  \n",
              "25%       -1.499600  \n",
              "50%       -1.498000  \n",
              "75%       -1.496200  \n",
              "max       -1.337100  \n",
              "\n",
              "[8 rows x 48 columns]"
            ],
            "text/html": [
              "\n",
              "  <div id=\"df-ab00a3fc-4853-476b-b474-c0cab6b3d014\">\n",
              "    <div class=\"colab-df-container\">\n",
              "      <div>\n",
              "<style scoped>\n",
              "    .dataframe tbody tr th:only-of-type {\n",
              "        vertical-align: middle;\n",
              "    }\n",
              "\n",
              "    .dataframe tbody tr th {\n",
              "        vertical-align: top;\n",
              "    }\n",
              "\n",
              "    .dataframe thead th {\n",
              "        text-align: right;\n",
              "    }\n",
              "</style>\n",
              "<table border=\"1\" class=\"dataframe\">\n",
              "  <thead>\n",
              "    <tr style=\"text-align: right;\">\n",
              "      <th></th>\n",
              "      <th>Column1</th>\n",
              "      <th>Column2</th>\n",
              "      <th>Column3</th>\n",
              "      <th>Column4</th>\n",
              "      <th>Column5</th>\n",
              "      <th>Column6</th>\n",
              "      <th>Column7</th>\n",
              "      <th>Column8</th>\n",
              "      <th>Column9</th>\n",
              "      <th>Column10</th>\n",
              "      <th>...</th>\n",
              "      <th>Column39</th>\n",
              "      <th>Column40</th>\n",
              "      <th>Column41</th>\n",
              "      <th>Column42</th>\n",
              "      <th>Column43</th>\n",
              "      <th>Column44</th>\n",
              "      <th>Column45</th>\n",
              "      <th>Column46</th>\n",
              "      <th>Column47</th>\n",
              "      <th>Column48</th>\n",
              "    </tr>\n",
              "  </thead>\n",
              "  <tbody>\n",
              "    <tr>\n",
              "      <th>count</th>\n",
              "      <td>43881.000000</td>\n",
              "      <td>4.388100e+04</td>\n",
              "      <td>4.388100e+04</td>\n",
              "      <td>43881.000000</td>\n",
              "      <td>4.388100e+04</td>\n",
              "      <td>4.388100e+04</td>\n",
              "      <td>43881.000000</td>\n",
              "      <td>43881.000000</td>\n",
              "      <td>43881.000000</td>\n",
              "      <td>43881.000000</td>\n",
              "      <td>...</td>\n",
              "      <td>43881.000000</td>\n",
              "      <td>43881.000000</td>\n",
              "      <td>43881.000000</td>\n",
              "      <td>43881.000000</td>\n",
              "      <td>43881.000000</td>\n",
              "      <td>43881.000000</td>\n",
              "      <td>43881.000000</td>\n",
              "      <td>43881.000000</td>\n",
              "      <td>43881.000000</td>\n",
              "      <td>43881.000000</td>\n",
              "    </tr>\n",
              "    <tr>\n",
              "      <th>mean</th>\n",
              "      <td>-0.000003</td>\n",
              "      <td>1.427072e-06</td>\n",
              "      <td>1.013350e-07</td>\n",
              "      <td>-0.000001</td>\n",
              "      <td>1.282729e-06</td>\n",
              "      <td>-1.960034e-07</td>\n",
              "      <td>0.001970</td>\n",
              "      <td>0.001969</td>\n",
              "      <td>0.001969</td>\n",
              "      <td>-0.011824</td>\n",
              "      <td>...</td>\n",
              "      <td>8.383915</td>\n",
              "      <td>-0.425689</td>\n",
              "      <td>7.290038</td>\n",
              "      <td>8.291361</td>\n",
              "      <td>-1.500878</td>\n",
              "      <td>-1.500903</td>\n",
              "      <td>-1.500795</td>\n",
              "      <td>-1.497776</td>\n",
              "      <td>-1.497798</td>\n",
              "      <td>-1.497691</td>\n",
              "    </tr>\n",
              "    <tr>\n",
              "      <th>std</th>\n",
              "      <td>0.000072</td>\n",
              "      <td>5.340336e-05</td>\n",
              "      <td>2.370628e-04</td>\n",
              "      <td>0.000062</td>\n",
              "      <td>5.728528e-05</td>\n",
              "      <td>2.242847e-04</td>\n",
              "      <td>0.036346</td>\n",
              "      <td>0.036344</td>\n",
              "      <td>0.036349</td>\n",
              "      <td>0.066168</td>\n",
              "      <td>...</td>\n",
              "      <td>6.758397</td>\n",
              "      <td>24.069049</td>\n",
              "      <td>12.658098</td>\n",
              "      <td>6.599908</td>\n",
              "      <td>0.003652</td>\n",
              "      <td>0.003662</td>\n",
              "      <td>0.003628</td>\n",
              "      <td>0.003180</td>\n",
              "      <td>0.003183</td>\n",
              "      <td>0.003193</td>\n",
              "    </tr>\n",
              "    <tr>\n",
              "      <th>min</th>\n",
              "      <td>-0.013721</td>\n",
              "      <td>-3.956100e-03</td>\n",
              "      <td>-1.358000e-02</td>\n",
              "      <td>-0.012787</td>\n",
              "      <td>-8.355900e-03</td>\n",
              "      <td>-9.741300e-03</td>\n",
              "      <td>-0.139890</td>\n",
              "      <td>-0.135940</td>\n",
              "      <td>-0.130860</td>\n",
              "      <td>-0.218640</td>\n",
              "      <td>...</td>\n",
              "      <td>0.522180</td>\n",
              "      <td>-0.891000</td>\n",
              "      <td>-0.594710</td>\n",
              "      <td>0.320660</td>\n",
              "      <td>-1.525500</td>\n",
              "      <td>-1.526200</td>\n",
              "      <td>-1.523700</td>\n",
              "      <td>-1.519900</td>\n",
              "      <td>-1.520000</td>\n",
              "      <td>-1.519500</td>\n",
              "    </tr>\n",
              "    <tr>\n",
              "      <th>25%</th>\n",
              "      <td>-0.000007</td>\n",
              "      <td>-1.447700e-05</td>\n",
              "      <td>-7.341600e-05</td>\n",
              "      <td>-0.000005</td>\n",
              "      <td>-1.467900e-05</td>\n",
              "      <td>-7.378500e-05</td>\n",
              "      <td>-0.019621</td>\n",
              "      <td>-0.019642</td>\n",
              "      <td>-0.019648</td>\n",
              "      <td>-0.032054</td>\n",
              "      <td>...</td>\n",
              "      <td>4.457100</td>\n",
              "      <td>-0.715300</td>\n",
              "      <td>1.450200</td>\n",
              "      <td>4.447200</td>\n",
              "      <td>-1.503300</td>\n",
              "      <td>-1.503300</td>\n",
              "      <td>-1.503200</td>\n",
              "      <td>-1.499600</td>\n",
              "      <td>-1.499600</td>\n",
              "      <td>-1.499600</td>\n",
              "    </tr>\n",
              "    <tr>\n",
              "      <th>50%</th>\n",
              "      <td>-0.000003</td>\n",
              "      <td>8.402200e-07</td>\n",
              "      <td>2.135800e-07</td>\n",
              "      <td>-0.000001</td>\n",
              "      <td>7.515400e-07</td>\n",
              "      <td>-2.718900e-07</td>\n",
              "      <td>0.013213</td>\n",
              "      <td>0.013214</td>\n",
              "      <td>0.013239</td>\n",
              "      <td>-0.015604</td>\n",
              "      <td>...</td>\n",
              "      <td>6.565400</td>\n",
              "      <td>-0.661340</td>\n",
              "      <td>3.293400</td>\n",
              "      <td>6.480300</td>\n",
              "      <td>-1.500300</td>\n",
              "      <td>-1.500300</td>\n",
              "      <td>-1.500200</td>\n",
              "      <td>-1.498100</td>\n",
              "      <td>-1.498100</td>\n",
              "      <td>-1.498000</td>\n",
              "    </tr>\n",
              "    <tr>\n",
              "      <th>75%</th>\n",
              "      <td>0.000002</td>\n",
              "      <td>1.864600e-05</td>\n",
              "      <td>7.413100e-05</td>\n",
              "      <td>0.000004</td>\n",
              "      <td>1.897100e-05</td>\n",
              "      <td>7.170300e-05</td>\n",
              "      <td>0.024703</td>\n",
              "      <td>0.024706</td>\n",
              "      <td>0.024715</td>\n",
              "      <td>0.020565</td>\n",
              "      <td>...</td>\n",
              "      <td>9.943400</td>\n",
              "      <td>-0.574470</td>\n",
              "      <td>8.286000</td>\n",
              "      <td>9.876300</td>\n",
              "      <td>-1.498200</td>\n",
              "      <td>-1.498200</td>\n",
              "      <td>-1.498200</td>\n",
              "      <td>-1.496200</td>\n",
              "      <td>-1.496300</td>\n",
              "      <td>-1.496200</td>\n",
              "    </tr>\n",
              "    <tr>\n",
              "      <th>max</th>\n",
              "      <td>0.005784</td>\n",
              "      <td>4.525300e-03</td>\n",
              "      <td>5.237700e-03</td>\n",
              "      <td>0.000622</td>\n",
              "      <td>4.905300e-04</td>\n",
              "      <td>2.395600e-03</td>\n",
              "      <td>0.069125</td>\n",
              "      <td>0.069130</td>\n",
              "      <td>0.069131</td>\n",
              "      <td>0.352580</td>\n",
              "      <td>...</td>\n",
              "      <td>125.490000</td>\n",
              "      <td>3670.800000</td>\n",
              "      <td>889.930000</td>\n",
              "      <td>153.150000</td>\n",
              "      <td>-1.457600</td>\n",
              "      <td>-1.456100</td>\n",
              "      <td>-1.455500</td>\n",
              "      <td>-1.337200</td>\n",
              "      <td>-1.337200</td>\n",
              "      <td>-1.337100</td>\n",
              "    </tr>\n",
              "  </tbody>\n",
              "</table>\n",
              "<p>8 rows × 48 columns</p>\n",
              "</div>\n",
              "      <button class=\"colab-df-convert\" onclick=\"convertToInteractive('df-ab00a3fc-4853-476b-b474-c0cab6b3d014')\"\n",
              "              title=\"Convert this dataframe to an interactive table.\"\n",
              "              style=\"display:none;\">\n",
              "        \n",
              "  <svg xmlns=\"http://www.w3.org/2000/svg\" height=\"24px\"viewBox=\"0 0 24 24\"\n",
              "       width=\"24px\">\n",
              "    <path d=\"M0 0h24v24H0V0z\" fill=\"none\"/>\n",
              "    <path d=\"M18.56 5.44l.94 2.06.94-2.06 2.06-.94-2.06-.94-.94-2.06-.94 2.06-2.06.94zm-11 1L8.5 8.5l.94-2.06 2.06-.94-2.06-.94L8.5 2.5l-.94 2.06-2.06.94zm10 10l.94 2.06.94-2.06 2.06-.94-2.06-.94-.94-2.06-.94 2.06-2.06.94z\"/><path d=\"M17.41 7.96l-1.37-1.37c-.4-.4-.92-.59-1.43-.59-.52 0-1.04.2-1.43.59L10.3 9.45l-7.72 7.72c-.78.78-.78 2.05 0 2.83L4 21.41c.39.39.9.59 1.41.59.51 0 1.02-.2 1.41-.59l7.78-7.78 2.81-2.81c.8-.78.8-2.07 0-2.86zM5.41 20L4 18.59l7.72-7.72 1.47 1.35L5.41 20z\"/>\n",
              "  </svg>\n",
              "      </button>\n",
              "      \n",
              "  <style>\n",
              "    .colab-df-container {\n",
              "      display:flex;\n",
              "      flex-wrap:wrap;\n",
              "      gap: 12px;\n",
              "    }\n",
              "\n",
              "    .colab-df-convert {\n",
              "      background-color: #E8F0FE;\n",
              "      border: none;\n",
              "      border-radius: 50%;\n",
              "      cursor: pointer;\n",
              "      display: none;\n",
              "      fill: #1967D2;\n",
              "      height: 32px;\n",
              "      padding: 0 0 0 0;\n",
              "      width: 32px;\n",
              "    }\n",
              "\n",
              "    .colab-df-convert:hover {\n",
              "      background-color: #E2EBFA;\n",
              "      box-shadow: 0px 1px 2px rgba(60, 64, 67, 0.3), 0px 1px 3px 1px rgba(60, 64, 67, 0.15);\n",
              "      fill: #174EA6;\n",
              "    }\n",
              "\n",
              "    [theme=dark] .colab-df-convert {\n",
              "      background-color: #3B4455;\n",
              "      fill: #D2E3FC;\n",
              "    }\n",
              "\n",
              "    [theme=dark] .colab-df-convert:hover {\n",
              "      background-color: #434B5C;\n",
              "      box-shadow: 0px 1px 3px 1px rgba(0, 0, 0, 0.15);\n",
              "      filter: drop-shadow(0px 1px 2px rgba(0, 0, 0, 0.3));\n",
              "      fill: #FFFFFF;\n",
              "    }\n",
              "  </style>\n",
              "\n",
              "      <script>\n",
              "        const buttonEl =\n",
              "          document.querySelector('#df-ab00a3fc-4853-476b-b474-c0cab6b3d014 button.colab-df-convert');\n",
              "        buttonEl.style.display =\n",
              "          google.colab.kernel.accessAllowed ? 'block' : 'none';\n",
              "\n",
              "        async function convertToInteractive(key) {\n",
              "          const element = document.querySelector('#df-ab00a3fc-4853-476b-b474-c0cab6b3d014');\n",
              "          const dataTable =\n",
              "            await google.colab.kernel.invokeFunction('convertToInteractive',\n",
              "                                                     [key], {});\n",
              "          if (!dataTable) return;\n",
              "\n",
              "          const docLinkHtml = 'Like what you see? Visit the ' +\n",
              "            '<a target=\"_blank\" href=https://colab.research.google.com/notebooks/data_table.ipynb>data table notebook</a>'\n",
              "            + ' to learn more about interactive tables.';\n",
              "          element.innerHTML = '';\n",
              "          dataTable['output_type'] = 'display_data';\n",
              "          await google.colab.output.renderOutput(dataTable, element);\n",
              "          const docLink = document.createElement('div');\n",
              "          docLink.innerHTML = docLinkHtml;\n",
              "          element.appendChild(docLink);\n",
              "        }\n",
              "      </script>\n",
              "    </div>\n",
              "  </div>\n",
              "  "
            ]
          },
          "metadata": {},
          "execution_count": 9
        }
      ]
    },
    {
      "cell_type": "code",
      "metadata": {
        "id": "v1jeDDh5qLYK"
      },
      "source": [
        "# Prepare preprocessing pipeline (What kinds of processing does this data need?)\n",
        "# Remember, you MUST scale and center the data for use in PCA (it is distance based)\n",
        "preprocessing_pipe = make_pipeline(StandardScaler())"
      ],
      "execution_count": 11,
      "outputs": []
    },
    {
      "cell_type": "code",
      "source": [
        "# Create a PCA object that will retain 95% of the variance when transforming\n",
        "pca = PCA(n_components = 0.95)\n",
        "# Check shape of new features after applying PCA\n"
      ],
      "metadata": {
        "id": "80N90m9c3box"
      },
      "execution_count": 10,
      "outputs": []
    },
    {
      "cell_type": "markdown",
      "source": [
        "# Create a KNN classification model **WITHOUT** PCA and check the accuracy\n"
      ],
      "metadata": {
        "id": "7A5m_ZBpuMcm"
      }
    },
    {
      "cell_type": "code",
      "source": [
        "%%time\n",
        "# Create and fit a KNN model WITHOUT PCA.\n",
        "knn = make_pipeline(preprocessing_pipe, KNeighborsClassifier())\n",
        "knn.fit(X_train, y_train)"
      ],
      "metadata": {
        "id": "cG7XTevFA3eV",
        "colab": {
          "base_uri": "https://localhost:8080/"
        },
        "outputId": "9e287b1a-aceb-43d9-ff6e-82dda5764042"
      },
      "execution_count": 14,
      "outputs": [
        {
          "output_type": "stream",
          "name": "stdout",
          "text": [
            "CPU times: user 43.5 ms, sys: 7.77 ms, total: 51.2 ms\n",
            "Wall time: 115 ms\n"
          ]
        },
        {
          "output_type": "execute_result",
          "data": {
            "text/plain": [
              "Pipeline(steps=[('pipeline',\n",
              "                 Pipeline(steps=[('standardscaler', StandardScaler())])),\n",
              "                ('kneighborsclassifier', KNeighborsClassifier())])"
            ]
          },
          "metadata": {},
          "execution_count": 14
        }
      ]
    },
    {
      "cell_type": "code",
      "source": [
        "%%time\n",
        "predictions = knn.predict(X_test)\n",
        "print(classification_report(y_test, predictions))"
      ],
      "metadata": {
        "id": "1JZyvoLp20u0",
        "colab": {
          "base_uri": "https://localhost:8080/"
        },
        "outputId": "8c014561-5672-49ce-e851-40f1bf579703"
      },
      "execution_count": 19,
      "outputs": [
        {
          "output_type": "stream",
          "name": "stdout",
          "text": [
            "              precision    recall  f1-score   support\n",
            "\n",
            "           1       0.72      0.78      0.75      1345\n",
            "           2       0.79      0.80      0.79      1367\n",
            "           3       0.81      0.87      0.84      1304\n",
            "           4       0.82      0.89      0.85      1327\n",
            "           5       0.71      0.70      0.71      1317\n",
            "           6       0.70      0.71      0.71      1324\n",
            "           7       0.99      0.99      0.99      1379\n",
            "           8       0.82      0.72      0.76      1300\n",
            "           9       0.88      0.80      0.84      1254\n",
            "          10       0.82      0.79      0.80      1341\n",
            "          11       1.00      1.00      1.00      1370\n",
            "\n",
            "    accuracy                           0.82     14628\n",
            "   macro avg       0.82      0.82      0.82     14628\n",
            "weighted avg       0.82      0.82      0.82     14628\n",
            "\n",
            "CPU times: user 16.4 s, sys: 659 ms, total: 17.1 s\n",
            "Wall time: 14.9 s\n"
          ]
        }
      ]
    },
    {
      "cell_type": "markdown",
      "source": [
        ""
      ],
      "metadata": {
        "id": "nkaNmerH20Gq"
      }
    },
    {
      "cell_type": "markdown",
      "source": [
        "# Create a KNN classification model **WITH** PCA and check the accuracy"
      ],
      "metadata": {
        "id": "h8GXAAvtA1TI"
      }
    },
    {
      "cell_type": "code",
      "source": [
        "%%time\n",
        "# Create and fit a KNN model WITH PCA.\n",
        "# Make predictions and evaluate the model using classification_report\n",
        "knn_pca = make_pipeline(StandardScaler(), pca, KNeighborsClassifier())\n",
        "knn_pca.fit(X_train, y_train)"
      ],
      "metadata": {
        "id": "Sz0jJy4-2_Kh",
        "colab": {
          "base_uri": "https://localhost:8080/"
        },
        "outputId": "49e822f7-efe6-4a2f-dedf-b883d4fa9563"
      },
      "execution_count": 24,
      "outputs": [
        {
          "output_type": "stream",
          "name": "stdout",
          "text": [
            "CPU times: user 263 ms, sys: 21.1 ms, total: 284 ms\n",
            "Wall time: 177 ms\n"
          ]
        },
        {
          "output_type": "execute_result",
          "data": {
            "text/plain": [
              "Pipeline(steps=[('standardscaler', StandardScaler()),\n",
              "                ('pca', PCA(n_components=0.95)),\n",
              "                ('kneighborsclassifier', KNeighborsClassifier())])"
            ]
          },
          "metadata": {},
          "execution_count": 24
        }
      ]
    },
    {
      "cell_type": "code",
      "source": [
        "%%time\n",
        "# Make predictions and evaluate the model using classification_report\n",
        "pca_preds = knn_pca.predict(X_test)\n",
        "print(classification_report(y_test, predictions))"
      ],
      "metadata": {
        "id": "5qNozC652_Ki",
        "colab": {
          "base_uri": "https://localhost:8080/"
        },
        "outputId": "9c0eb10e-690c-4c84-fabb-b603df43babb"
      },
      "execution_count": 25,
      "outputs": [
        {
          "output_type": "stream",
          "name": "stdout",
          "text": [
            "              precision    recall  f1-score   support\n",
            "\n",
            "           1       0.72      0.78      0.75      1345\n",
            "           2       0.79      0.80      0.79      1367\n",
            "           3       0.81      0.87      0.84      1304\n",
            "           4       0.82      0.89      0.85      1327\n",
            "           5       0.71      0.70      0.71      1317\n",
            "           6       0.70      0.71      0.71      1324\n",
            "           7       0.99      0.99      0.99      1379\n",
            "           8       0.82      0.72      0.76      1300\n",
            "           9       0.88      0.80      0.84      1254\n",
            "          10       0.82      0.79      0.80      1341\n",
            "          11       1.00      1.00      1.00      1370\n",
            "\n",
            "    accuracy                           0.82     14628\n",
            "   macro avg       0.82      0.82      0.82     14628\n",
            "weighted avg       0.82      0.82      0.82     14628\n",
            "\n",
            "CPU times: user 14.4 s, sys: 602 ms, total: 15 s\n",
            "Wall time: 13.1 s\n"
          ]
        }
      ]
    },
    {
      "cell_type": "markdown",
      "source": [
        "# Discuss:\n",
        "\n",
        "1. What were the benefits of using PCA for this dataset?\n",
        "- We saw no major improvement in using PCA\n",
        "\n",
        "2. What were the drawbacks?\n",
        "- \n",
        "\n",
        "3. Which model took longer to train?  \n",
        "  \n",
        "  - Which took longer to predict?  \n",
        "  \n",
        "  - Why might this be?  \n",
        "  \n",
        "  - What does this tell you about using PCA in a pipeline?"
      ],
      "metadata": {
        "id": "n1Qng8s4byll"
      }
    },
    {
      "cell_type": "markdown",
      "source": [
        "## Bonus! \n",
        "\n",
        "This is just a default model, but you could try a gridsearch or other classifier algorithms to reduce overfitting and see if we could get a better result!"
      ],
      "metadata": {
        "id": "zCqP-S5pen_n"
      }
    },
    {
      "cell_type": "code",
      "source": [
        ""
      ],
      "metadata": {
        "id": "U6LJCyhs4Y2R"
      },
      "execution_count": null,
      "outputs": []
    },
    {
      "cell_type": "code",
      "source": [
        ""
      ],
      "metadata": {
        "id": "YUJUvhZls6PE"
      },
      "execution_count": null,
      "outputs": []
    }
  ]
}
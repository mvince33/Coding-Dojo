{
 "cells": [
  {
   "cell_type": "code",
   "execution_count": 1,
   "id": "410401fd",
   "metadata": {},
   "outputs": [
    {
     "data": {
      "text/plain": [
       "[1,\n",
       " 5,\n",
       " 82,\n",
       " 94,\n",
       " 'twenty-four',\n",
       " 82,\n",
       " 94,\n",
       " 'pi',\n",
       " 27,\n",
       " 32,\n",
       " 'four',\n",
       " {'#': 42},\n",
       " [],\n",
       " [[1, 2]],\n",
       " 'seven',\n",
       " 384,\n",
       " 1.92,\n",
       " True,\n",
       " 'thirty-nine',\n",
       " 3.14]"
      ]
     },
     "execution_count": 1,
     "metadata": {},
     "output_type": "execute_result"
    }
   ],
   "source": [
    "data = [1,5,82,94,'twenty-four',82,94,'pi',27,32,'four',{'#':42},[],[[1,2]],'seven',384,1.92,\n",
    "        True, 'thirty-nine', 3.14]\n",
    "data"
   ]
  },
  {
   "cell_type": "code",
   "execution_count": 8,
   "id": "3f962c4f",
   "metadata": {},
   "outputs": [
    {
     "name": "stdout",
     "output_type": "stream",
     "text": [
      "0.05\n",
      "0.25\n",
      "4.1\n",
      "4.7\n",
      "Error unsupported operand type(s) for /: 'str' and 'int'\n",
      "4.1\n",
      "4.7\n",
      "Error unsupported operand type(s) for /: 'str' and 'int'\n",
      "1.35\n",
      "1.6\n",
      "Error unsupported operand type(s) for /: 'str' and 'int'\n",
      "Error unsupported operand type(s) for /: 'dict' and 'int'\n",
      "Error unsupported operand type(s) for /: 'list' and 'int'\n",
      "Error unsupported operand type(s) for /: 'list' and 'int'\n",
      "Error unsupported operand type(s) for /: 'str' and 'int'\n",
      "19.2\n",
      "0.096\n",
      "0.05\n",
      "Error unsupported operand type(s) for /: 'str' and 'int'\n",
      "0.157\n"
     ]
    }
   ],
   "source": [
    "for num in data:\n",
    "    try:\n",
    "        print(num / 20)\n",
    "    except Exception as e:\n",
    "        print(f'Error {e}')"
   ]
  },
  {
   "cell_type": "code",
   "execution_count": 10,
   "id": "b3c60e9d",
   "metadata": {},
   "outputs": [
    {
     "name": "stdout",
     "output_type": "stream",
     "text": [
      "1 / 20 =  0.05\n",
      "5 / 20 =  0.25\n",
      "82 / 20 =  4.1\n",
      "94 / 20 =  4.7\n",
      "twenty-four / 20 =  NaN!\n",
      "82 / 20 =  4.1\n",
      "94 / 20 =  4.7\n",
      "pi / 20 =  NaN!\n",
      "27 / 20 =  1.35\n",
      "32 / 20 =  1.6\n",
      "four / 20 =  NaN!\n",
      "{'#': 42} / 20 =  NaN!\n",
      "[] / 20 =  NaN!\n",
      "[[1, 2]] / 20 =  NaN!\n",
      "seven / 20 =  NaN!\n",
      "384 / 20 =  19.2\n",
      "1.92 / 20 =  0.096\n",
      "True / 20 =  0.05\n",
      "thirty-nine / 20 =  NaN!\n",
      "3.14 / 20 =  0.157\n"
     ]
    }
   ],
   "source": [
    "good_data = []\n",
    "bad_data = []\n",
    "\n",
    "for num in data:\n",
    "    try:\n",
    "        res = num / 20\n",
    "    except:\n",
    "        res = 'NaN!'\n",
    "        bad_data.append(num)\n",
    "    else:\n",
    "        good_data.append(num)\n",
    "    finally:\n",
    "        print(num, '/ 20 = ', res)"
   ]
  },
  {
   "cell_type": "code",
   "execution_count": 11,
   "id": "ed44a4e1",
   "metadata": {},
   "outputs": [
    {
     "data": {
      "text/plain": [
       "[1, 5, 82, 94, 82, 94, 27, 32, 384, 1.92, True, 3.14]"
      ]
     },
     "execution_count": 11,
     "metadata": {},
     "output_type": "execute_result"
    }
   ],
   "source": [
    "good_data"
   ]
  },
  {
   "cell_type": "code",
   "execution_count": 12,
   "id": "2b1d3042",
   "metadata": {},
   "outputs": [
    {
     "data": {
      "text/plain": [
       "['twenty-four', 'pi', 'four', {'#': 42}, [], [[1, 2]], 'seven', 'thirty-nine']"
      ]
     },
     "execution_count": 12,
     "metadata": {},
     "output_type": "execute_result"
    }
   ],
   "source": [
    "bad_data"
   ]
  },
  {
   "cell_type": "code",
   "execution_count": 20,
   "id": "cc1e4239",
   "metadata": {},
   "outputs": [
    {
     "ename": "SyntaxError",
     "evalue": "invalid syntax (609404762.py, line 2)",
     "output_type": "error",
     "traceback": [
      "\u001b[0;36m  Input \u001b[0;32mIn [20]\u001b[0;36m\u001b[0m\n\u001b[0;31m    =keyword from-rainbow> if (isinstance(x,int)==True) | (isinstance(x,float)==True) :\u001b[0m\n\u001b[0m    ^\u001b[0m\n\u001b[0;31mSyntaxError\u001b[0m\u001b[0;31m:\u001b[0m invalid syntax\n"
     ]
    }
   ],
   "source": []
  },
  {
   "cell_type": "code",
   "execution_count": null,
   "id": "f5a8c4ea",
   "metadata": {},
   "outputs": [],
   "source": []
  }
 ],
 "metadata": {
  "kernelspec": {
   "display_name": "Python (dojo-env)",
   "language": "python",
   "name": "dojo-env"
  },
  "language_info": {
   "codemirror_mode": {
    "name": "ipython",
    "version": 3
   },
   "file_extension": ".py",
   "mimetype": "text/x-python",
   "name": "python",
   "nbconvert_exporter": "python",
   "pygments_lexer": "ipython3",
   "version": "3.8.13"
  },
  "toc": {
   "base_numbering": 1,
   "nav_menu": {},
   "number_sections": false,
   "sideBar": true,
   "skip_h1_title": false,
   "title_cell": "Table of Contents",
   "title_sidebar": "Contents",
   "toc_cell": false,
   "toc_position": {},
   "toc_section_display": true,
   "toc_window_display": false
  }
 },
 "nbformat": 4,
 "nbformat_minor": 5
}

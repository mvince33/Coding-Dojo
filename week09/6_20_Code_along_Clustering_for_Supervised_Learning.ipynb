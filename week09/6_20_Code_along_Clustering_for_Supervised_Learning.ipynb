{
  "cells": [
    {
      "cell_type": "markdown",
      "metadata": {
        "id": "view-in-github",
        "colab_type": "text"
      },
      "source": [
        "<a href=\"https://colab.research.google.com/github/mvince33/Coding-Dojo/blob/main/week09/6_20_Code_along_Clustering_for_Supervised_Learning.ipynb\" target=\"_parent\"><img src=\"https://colab.research.google.com/assets/colab-badge.svg\" alt=\"Open In Colab\"/></a>"
      ]
    },
    {
      "cell_type": "markdown",
      "source": [
        "# Task: Cluster Houses\n",
        "\n",
        "In this project we will:\n",
        "\n",
        "1. Cluster houses by neighborhood\n",
        "2. Visualize the neighborhood clusters\n",
        "3. Use neighborhood clusters as a new feature for predictive modeling\n",
        "4. Compare model evaluation with and without clusters as a feature.\n",
        "\n"
      ],
      "metadata": {
        "id": "IM7FjcyEqurO"
      }
    },
    {
      "cell_type": "code",
      "execution_count": null,
      "metadata": {
        "ExecuteTime": {
          "end_time": "2021-12-16T00:02:11.665648Z",
          "start_time": "2021-12-16T00:02:11.651686Z"
        },
        "id": "1qqHcPH56CaM"
      },
      "outputs": [],
      "source": [
        "# Imports\n",
        "import pandas as pd\n",
        "import numpy as np\n",
        "import matplotlib.pyplot as plt\n",
        "from sklearn.model_selection import train_test_split\n",
        "from sklearn.cluster import KMeans\n",
        "from sklearn.metrics import silhouette_score, mean_squared_error, \\\n",
        "mean_absolute_error, r2_score\n",
        "from sklearn.linear_model import LinearRegression\n",
        "from sklearn.preprocessing import StandardScaler"
      ]
    },
    {
      "cell_type": "markdown",
      "source": [
        "# Useful Functions"
      ],
      "metadata": {
        "id": "7JhhivHmcz7E"
      }
    },
    {
      "cell_type": "code",
      "source": [
        "def plot_2d_clusters(data, clusters, random_state=42):\n",
        "  \"\"\"Uses 2d data and number of clusters to fit a kmeans and plot the clusters\"\"\"\n",
        "\n",
        "  # kmeans\n",
        "  km = KMeans(n_clusters=clusters, random_state=random_state)\n",
        "  km.fit(data)\n",
        "\n",
        "  # plot clusters\n",
        "  plt.figure(figsize=(10,8))\n",
        "  plt.scatter( x=data.iloc[:,0], y=data.iloc[:,1], c=km.labels_, \n",
        "          cmap = 'tab20', s=2)\n",
        "  ticks = np.sort(np.unique(km.labels_))\n",
        "  plt.xlabel(data.columns[0])\n",
        "  plt.ylabel(data.columns[1])\n",
        "  plt.colorbar(ticks=ticks)\n",
        "  plt.show();\n",
        "\n",
        "# Function to calculate and plot the silhouette score and inertia of a KMeans model for various values of k\n",
        "\n",
        "def plot_k_values(data, ks, random_state=42):\n",
        "  \"\"\"plot the silhouette score and inertia \n",
        "  of a KMeans model for various k values\"\"\"\n",
        "\n",
        "  sils = []\n",
        "  inertias = []\n",
        "\n",
        "  for k in ks:\n",
        "    km = KMeans(n_clusters=k, random_state=random_state)\n",
        "    km.fit(data)\n",
        "    sils.append(silhouette_score(data, km.labels_))\n",
        "    inertias.append(km.inertia_)\n",
        "      \n",
        "  # plot inertia and silhouette score\n",
        "  fig, axes = plt.subplots(2,1, figsize=(9,7))\n",
        "  axes[0].set_xlabel('number of clusters')\n",
        "  axes[0].set_ylabel('Inertia', color = 'blue')\n",
        "  axes[0].plot(ks, inertias, color = 'blue', label='inertia', marker ='o')\n",
        "  axes[0].grid()\n",
        "\n",
        "  axes[1].plot(ks, sils, color = 'red', label='silhouette score', marker='+')\n",
        "  axes[1].set_ylabel('Silhouette Score', color = 'red')\n",
        "  axes[1].set_xlabel('Number of Clusters')\n",
        "  axes[1].grid()\n",
        "\n",
        "  # plt.grid()\n",
        "  plt.show()\n",
        "\n",
        "def evaluate_regression(y_true, y_pred, name='model'):\n",
        "  scores = pd.DataFrame(index=['R2','MAE','RMSE'],\n",
        "                        columns=[name])\n",
        "  scores.loc['R2', name] = r2_score(y_true, y_pred)\n",
        "  scores.loc['MAE', name] = mean_absolute_error(y_true, y_pred)\n",
        "  scores.loc['RMSE', name] = np.sqrt(mean_squared_error(y_true, y_pred))\n",
        "  return scores\n"
      ],
      "metadata": {
        "id": "6fKd6Mmkcyas"
      },
      "execution_count": null,
      "outputs": []
    },
    {
      "cell_type": "code",
      "execution_count": null,
      "metadata": {
        "ExecuteTime": {
          "end_time": "2021-12-16T00:02:11.695774Z",
          "start_time": "2021-12-16T00:02:11.666645Z"
        },
        "id": "x0N_O7tr5WV8"
      },
      "outputs": [],
      "source": [
        "# Load Data\n",
        "df = pd.read_csv('https://docs.google.com/spreadsheets/d/e/2PACX-1vT9qetZw-uGS1u44KiW-XOJJkhmX0BKPdcsQ_X9cwTHlsTvlBHbEyA5G_D8r9knBbPOQ7My-W4pTfy2/pub?gid=2140088293&single=true&output=csv')\n",
        "df.head()"
      ]
    },
    {
      "cell_type": "code",
      "source": [
        "df.duplicated().sum()"
      ],
      "metadata": {
        "id": "ZsUP6scMS8hO"
      },
      "execution_count": null,
      "outputs": []
    },
    {
      "cell_type": "code",
      "source": [
        "df.drop_duplicates(inplace=True)"
      ],
      "metadata": {
        "id": "BytDW-sJTYoF"
      },
      "execution_count": null,
      "outputs": []
    },
    {
      "cell_type": "code",
      "execution_count": null,
      "metadata": {
        "ExecuteTime": {
          "end_time": "2021-12-16T00:02:11.711658Z",
          "start_time": "2021-12-16T00:02:11.696695Z"
        },
        "id": "fFfZCHeH6fS4"
      },
      "outputs": [],
      "source": [
        "df.info()"
      ]
    },
    {
      "cell_type": "code",
      "execution_count": null,
      "metadata": {
        "ExecuteTime": {
          "end_time": "2021-12-16T00:02:11.741593Z",
          "start_time": "2021-12-16T00:02:11.712652Z"
        },
        "id": "p9sbiIlf6hYu"
      },
      "outputs": [],
      "source": [
        "df.describe()"
      ]
    },
    {
      "cell_type": "code",
      "source": [
        "df.corr()"
      ],
      "metadata": {
        "id": "Ad5q0QAKHOgV"
      },
      "execution_count": null,
      "outputs": []
    },
    {
      "cell_type": "markdown",
      "source": [
        "### Lets compare the location of the houses with their price.\n",
        "\n",
        "We can do this with some beautiful graphics using Plotly's `scatter_mapbox()`, ([documenation](https://plotly.github.io/plotly.py-docs/generated/plotly.express.scatter_mapbox.html))"
      ],
      "metadata": {
        "id": "bNkp3cUyG5NU"
      }
    },
    {
      "cell_type": "code",
      "source": [
        "# Lets use plotly as cool way to show houses on a map\n",
        "import plotly.express as px\n",
        "\n",
        "px.scatter_mapbox(df, lat='lat', lon='long', color='price',\n",
        "                  mapbox_style=\"open-street-map\", width=1000, height=800)"
      ],
      "metadata": {
        "id": "BzGdSWdgHm_g"
      },
      "execution_count": null,
      "outputs": []
    },
    {
      "cell_type": "markdown",
      "source": [
        "#### To use our data for clustering we consider target is not known \n",
        "- lets split the data and use it as unlabeled data (without target)\n"
      ],
      "metadata": {
        "id": "qNER8sf_QVEc"
      }
    },
    {
      "cell_type": "markdown",
      "source": [
        "## Using KMeans Cluster for modeling by adding cluster as a feature in data"
      ],
      "metadata": {
        "id": "i5a-LYNHWi-6"
      }
    },
    {
      "cell_type": "markdown",
      "source": [
        "# Validation Split"
      ],
      "metadata": {
        "id": "3jay09gGjtyM"
      }
    },
    {
      "cell_type": "code",
      "source": [
        "# validation split\n",
        "X = df.drop(columns = ['price'])\n",
        "y = df['price']\n",
        "\n",
        "X_train, X_test, y_train, y_test = train_test_split(X, y, random_state=42, test_size=0.3)"
      ],
      "metadata": {
        "id": "KuIp-_thSP1h"
      },
      "execution_count": null,
      "outputs": []
    },
    {
      "cell_type": "code",
      "source": [
        "# Scale the data\n"
      ],
      "metadata": {
        "id": "ms8N82p5SxiE"
      },
      "execution_count": null,
      "outputs": []
    },
    {
      "cell_type": "markdown",
      "source": [
        "# Tune K"
      ],
      "metadata": {
        "id": "nkuclLgdkhrT"
      }
    },
    {
      "cell_type": "markdown",
      "source": [
        "### Lets form a cluster based on only location (lat & long)"
      ],
      "metadata": {
        "id": "nS3OIdrNIWsi"
      }
    },
    {
      "cell_type": "markdown",
      "source": [
        "## Tune K Using Only Location Data"
      ],
      "metadata": {
        "id": "bo2wco9jj2mk"
      }
    },
    {
      "cell_type": "code",
      "source": [
        "# Silhouette and Inertia Plots\n"
      ],
      "metadata": {
        "id": "_7qrT2qd8Btk"
      },
      "execution_count": null,
      "outputs": []
    },
    {
      "cell_type": "markdown",
      "source": [
        "- No clear elbow\n",
        "- Silhouette score is high for k =2 and 11 \n",
        "- we will try first no of clusters = 11 and then for the highest score of 2\n"
      ],
      "metadata": {
        "id": "mpvT2ijUL0CO"
      }
    },
    {
      "cell_type": "markdown",
      "source": [
        "## Plot 2 Clusters"
      ],
      "metadata": {
        "id": "hlLmr5Klj8GT"
      }
    },
    {
      "cell_type": "code",
      "source": [
        "# Scatter Plot of Neighborhood in 2 Clusters\n"
      ],
      "metadata": {
        "id": "MKFw79lbkXsk"
      },
      "execution_count": null,
      "outputs": []
    },
    {
      "cell_type": "markdown",
      "source": [
        "# Plot 4 clusters"
      ],
      "metadata": {
        "id": "AZtgUzxj3A1x"
      }
    },
    {
      "cell_type": "code",
      "source": [
        "# Scatter Plot of Neighborhoods in 4 clusters\n"
      ],
      "metadata": {
        "id": "G7fjGf-n9oYl"
      },
      "execution_count": null,
      "outputs": []
    },
    {
      "cell_type": "markdown",
      "source": [
        "# Modeling"
      ],
      "metadata": {
        "id": "jVwq3BJld5DM"
      }
    },
    {
      "cell_type": "markdown",
      "source": [
        "## Linear Regression Baseline without Clusters"
      ],
      "metadata": {
        "id": "CVg3Is_WWFyr"
      }
    },
    {
      "cell_type": "code",
      "source": [
        "# Without clusters\n"
      ],
      "metadata": {
        "id": "sg6qacH0WOGf"
      },
      "execution_count": null,
      "outputs": []
    },
    {
      "cell_type": "markdown",
      "metadata": {
        "id": "zVn3GoObjmFo"
      },
      "source": [
        "## Linear Regression Model with Clustering as Feature Extraction\n",
        "\n"
      ]
    },
    {
      "cell_type": "markdown",
      "source": [
        "## 2 clusters"
      ],
      "metadata": {
        "id": "s6u4I-o02eqz"
      }
    },
    {
      "cell_type": "code",
      "execution_count": null,
      "metadata": {
        "ExecuteTime": {
          "end_time": "2021-12-16T00:02:28.162533Z",
          "start_time": "2021-12-16T00:02:27.831419Z"
        },
        "id": "i7v2QMEZjmFp"
      },
      "outputs": [],
      "source": [
        "# Let's see what adding the Kmeans clusters does!\n",
        "\n",
        "# make copies of the data to add cluster feature to\n",
        "\n",
        "\n",
        "# create subset of data with only latitude and longitude\n",
        "\n",
        "\n",
        "# fit a kmeans model on just the training location data\n",
        "\n",
        "\n",
        "# add clusters as a new feature in the training and testing\n",
        "\n",
        "# create a new model to fit on the data with the cluster feature\n",
        "\n",
        "\n",
        "# evaluate the new model on the training and testing data\n",
        "\n",
        "\n",
        "# combine the training and testing scores into one dataframe\n"
      ]
    },
    {
      "cell_type": "markdown",
      "source": [
        "## 4 clusters"
      ],
      "metadata": {
        "id": "zfOVRmTp2gJi"
      }
    },
    {
      "cell_type": "code",
      "source": [
        "# Let's see what adding the Kmeans clusters does!\n",
        "\n",
        "# make copies of the data to add cluster feature to\n",
        "\n",
        "\n",
        "# create subset of data with only latitude and longitude\n",
        "\n",
        "\n",
        "# fit a kmeans model on just the training location data\n",
        "\n",
        "\n",
        "# add clusters as a new feature in the training and testing\n",
        "\n",
        "# create a new model to fit on the data with the cluster feature\n",
        "\n",
        "\n",
        "# evaluate the new model on the training and testing data\n",
        "\n",
        "\n",
        "# combine the training and testing scores into one dataframe\n"
      ],
      "metadata": {
        "id": "c0l56-97ATmY"
      },
      "execution_count": null,
      "outputs": []
    },
    {
      "cell_type": "markdown",
      "metadata": {
        "ExecuteTime": {
          "end_time": "2021-12-15T21:51:09.595300Z",
          "start_time": "2021-12-15T21:51:09.590325Z"
        },
        "id": "UeooE3tCppaA"
      },
      "source": [
        "# Results\n",
        "\n",
        "Our neighborhood clusters improved our model performance!"
      ]
    },
    {
      "cell_type": "markdown",
      "source": [
        "# Next Steps: How could we continue to improve this model?\n",
        "* Further tune K\n",
        "* Use Ridge/Lasso/ElasticNet to add regularization\n",
        "* Try other models than LinearRegression"
      ],
      "metadata": {
        "id": "cb5zWxjthr6j"
      }
    },
    {
      "cell_type": "markdown",
      "source": [
        "# Limitations:\n",
        "\n",
        "To put KMeans into a pipeline as a transformer, we would have to create a custom transformer.  Otherwise we can't use this technique with GridSearchCV without some amount of data leakage between folds.  The leakage is small, but it will result in some slight loss of confidence in the scores produced by GridSearchCV"
      ],
      "metadata": {
        "id": "hw24eSU9s73e"
      }
    },
    {
      "cell_type": "markdown",
      "source": [
        "# Bonus, if there is extra time: \n",
        "\n",
        "Another way to make latitude and longitude non-linear would be to raise them to a higher power.  What if we added new features that were the latitude and longitude each squared?  How would that affect our model?"
      ],
      "metadata": {
        "id": "ydRq0vV8zQkj"
      }
    },
    {
      "cell_type": "code",
      "source": [
        ""
      ],
      "metadata": {
        "id": "x2NrI3xZzRMh"
      },
      "execution_count": null,
      "outputs": []
    }
  ],
  "metadata": {
    "colab": {
      "collapsed_sections": [],
      "name": "6.20 Code-along  Clustering for Supervised Learning.ipynb",
      "provenance": [],
      "include_colab_link": true
    },
    "kernelspec": {
      "display_name": "Python 3",
      "language": "python",
      "name": "python3"
    },
    "language_info": {
      "codemirror_mode": {
        "name": "ipython",
        "version": 3
      },
      "file_extension": ".py",
      "mimetype": "text/x-python",
      "name": "python",
      "nbconvert_exporter": "python",
      "pygments_lexer": "ipython3",
      "version": "3.8.8"
    },
    "toc": {
      "base_numbering": 1,
      "nav_menu": {},
      "number_sections": true,
      "sideBar": true,
      "skip_h1_title": false,
      "title_cell": "Table of Contents",
      "title_sidebar": "Contents",
      "toc_cell": false,
      "toc_position": {},
      "toc_section_display": true,
      "toc_window_display": false
    }
  },
  "nbformat": 4,
  "nbformat_minor": 0
}
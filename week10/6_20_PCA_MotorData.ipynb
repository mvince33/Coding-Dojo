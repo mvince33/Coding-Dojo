{
  "nbformat": 4,
  "nbformat_minor": 0,
  "metadata": {
    "colab": {
      "name": "6.20 PCA_MotorData.ipynb",
      "provenance": [],
      "collapsed_sections": [],
      "include_colab_link": true
    },
    "kernelspec": {
      "name": "python3",
      "display_name": "Python 3"
    },
    "language_info": {
      "name": "python"
    }
  },
  "cells": [
    {
      "cell_type": "markdown",
      "metadata": {
        "id": "view-in-github",
        "colab_type": "text"
      },
      "source": [
        "<a href=\"https://colab.research.google.com/github/mvince33/Coding-Dojo/blob/main/week10/6_20_PCA_MotorData.ipynb\" target=\"_parent\"><img src=\"https://colab.research.google.com/assets/colab-badge.svg\" alt=\"Open In Colab\"/></a>"
      ]
    },
    {
      "cell_type": "markdown",
      "metadata": {
        "id": "X2Ns7BSwdsxq"
      },
      "source": [
        "# Predict Machine Failure\n",
        "\n",
        "The task is to predict the condition of a motor based on the features provided.\n",
        "\n",
        "This is ultimately a supervised learning task, but we will add PCA to our pre-processing step.\n",
        "\n",
        "The goal here is to get the highest overall accuracy."
      ]
    },
    {
      "cell_type": "code",
      "metadata": {
        "id": "c31c29a5"
      },
      "source": [
        "import pandas as pd\n",
        "from seaborn import heatmap\n",
        "from sklearn.decomposition import PCA\n",
        "from sklearn.preprocessing import StandardScaler\n",
        "from sklearn.model_selection import train_test_split\n",
        "from sklearn.pipeline import make_pipeline\n",
        "from sklearn.neighbors import KNeighborsClassifier\n",
        "from sklearn.metrics import classification_report\n",
        "import matplotlib.pyplot as plt"
      ],
      "execution_count": null,
      "outputs": []
    },
    {
      "cell_type": "code",
      "metadata": {
        "id": "xfJGnI6dotaV"
      },
      "source": [
        "# load data\n",
        "df = pd.read_csv('https://raw.githubusercontent.com/ninja-josh/image-storage/da58a7aa38dccd3ea96dc2e8eac658d99d928625/Sensorless_RAW%20(1).csv')\n",
        "df.head()"
      ],
      "execution_count": null,
      "outputs": []
    },
    {
      "cell_type": "code",
      "source": [
        "# Check for duplicates\n",
        "df.duplicated().sum()"
      ],
      "metadata": {
        "id": "_wFR0e3v9iIo"
      },
      "execution_count": null,
      "outputs": []
    },
    {
      "cell_type": "code",
      "metadata": {
        "id": "LU03v_ZmpQEB"
      },
      "source": [
        "# Explore shape and datatypes of the data\n",
        "df.info()\n"
      ],
      "execution_count": null,
      "outputs": []
    },
    {
      "cell_type": "code",
      "metadata": {
        "id": "2oL-6yL-pSy7"
      },
      "source": [
        "# Check for missing values\n",
        "df.isna().sum()"
      ],
      "execution_count": null,
      "outputs": []
    },
    {
      "cell_type": "code",
      "metadata": {
        "id": "ner4WW2ua12m"
      },
      "source": [
        "# Explore the class balance in the target column.\n",
        "# The last column (Column 49) is the target and is an integer (This is a classification task)\n",
        "df['Column49'].value_counts()"
      ],
      "execution_count": null,
      "outputs": []
    },
    {
      "cell_type": "code",
      "metadata": {
        "id": "zwGjBhirqfey"
      },
      "source": [
        "# Separate the target and features.  \n",
        "X = df.drop(columns='Column49')\n",
        "y = df['Column49']\n"
      ],
      "execution_count": null,
      "outputs": []
    },
    {
      "cell_type": "code",
      "metadata": {
        "id": "m1Ly6WbIqSbg"
      },
      "source": [
        "# Train test split\n",
        "X_train, X_test, y_train, y_test = train_test_split(X, y, random_state=42)"
      ],
      "execution_count": null,
      "outputs": []
    },
    {
      "cell_type": "code",
      "source": [
        "X_train.describe()"
      ],
      "metadata": {
        "id": "06oRCBsv5SR8"
      },
      "execution_count": null,
      "outputs": []
    },
    {
      "cell_type": "code",
      "metadata": {
        "id": "v1jeDDh5qLYK"
      },
      "source": [
        "# Prepare preprocessing pipeline (What kinds of processing does this data need?)\n",
        "# Remember, you MUST scale and center the data for use in PCA (it is distance based)\n",
        "\n",
        "\n"
      ],
      "execution_count": null,
      "outputs": []
    },
    {
      "cell_type": "code",
      "source": [
        "# Create a PCA object that will retain 95% of the variance when transforming\n",
        "\n",
        "# Check shape of new features after applying PCA\n"
      ],
      "metadata": {
        "id": "80N90m9c3box"
      },
      "execution_count": null,
      "outputs": []
    },
    {
      "cell_type": "markdown",
      "source": [
        "# Create a KNN classification model **WITHOUT** PCA and check the accuracy\n"
      ],
      "metadata": {
        "id": "7A5m_ZBpuMcm"
      }
    },
    {
      "cell_type": "code",
      "source": [
        "%%time\n",
        "# Create and fit a KNN model WITHOUT PCA.\n"
      ],
      "metadata": {
        "id": "cG7XTevFA3eV"
      },
      "execution_count": null,
      "outputs": []
    },
    {
      "cell_type": "code",
      "source": [
        "%%time\n",
        "# Make predictions and evaluate the model using classification_report\n"
      ],
      "metadata": {
        "id": "1JZyvoLp20u0"
      },
      "execution_count": null,
      "outputs": []
    },
    {
      "cell_type": "markdown",
      "source": [
        ""
      ],
      "metadata": {
        "id": "nkaNmerH20Gq"
      }
    },
    {
      "cell_type": "markdown",
      "source": [
        "# Create a KNN classification model **WITH** PCA and check the accuracy"
      ],
      "metadata": {
        "id": "h8GXAAvtA1TI"
      }
    },
    {
      "cell_type": "code",
      "source": [
        "%%time\n",
        "# Create and fit a KNN model WITH PCA.\n"
      ],
      "metadata": {
        "id": "Sz0jJy4-2_Kh"
      },
      "execution_count": null,
      "outputs": []
    },
    {
      "cell_type": "code",
      "source": [
        "%%time\n",
        "# Make predictions and evaluate the model using classification_report\n"
      ],
      "metadata": {
        "id": "5qNozC652_Ki"
      },
      "execution_count": null,
      "outputs": []
    },
    {
      "cell_type": "markdown",
      "source": [
        "# Discuss:\n",
        "\n",
        "1. What were the benefits of using PCA for this dataset?\n",
        "\n",
        "2. What were the drawbacks?\n",
        "\n",
        "3. Which model took longer to train?  \n",
        "  \n",
        "  - Which took longer to predict?  \n",
        "  \n",
        "  - Why might this be?  \n",
        "  \n",
        "  - What does this tell you about using PCA in a pipeline?"
      ],
      "metadata": {
        "id": "n1Qng8s4byll"
      }
    },
    {
      "cell_type": "markdown",
      "source": [
        "## Bonus! \n",
        "\n",
        "This is just a default model, but you could try a gridsearch or other classifier algorithms to reduce overfitting and see if we could get a better result!"
      ],
      "metadata": {
        "id": "zCqP-S5pen_n"
      }
    },
    {
      "cell_type": "code",
      "source": [
        ""
      ],
      "metadata": {
        "id": "U6LJCyhs4Y2R"
      },
      "execution_count": null,
      "outputs": []
    },
    {
      "cell_type": "code",
      "source": [
        ""
      ],
      "metadata": {
        "id": "YUJUvhZls6PE"
      },
      "execution_count": null,
      "outputs": []
    }
  ]
}
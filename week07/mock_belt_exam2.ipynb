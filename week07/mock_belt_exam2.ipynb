{
  "nbformat": 4,
  "nbformat_minor": 0,
  "metadata": {
    "colab": {
      "name": "mock_belt_exam2.ipynb",
      "provenance": [],
      "collapsed_sections": [],
      "authorship_tag": "ABX9TyPruJR8V6zUaP06JMCNvmrC",
      "include_colab_link": true
    },
    "kernelspec": {
      "name": "python3",
      "display_name": "Python 3"
    },
    "language_info": {
      "name": "python"
    }
  },
  "cells": [
    {
      "cell_type": "markdown",
      "metadata": {
        "id": "view-in-github",
        "colab_type": "text"
      },
      "source": [
        "<a href=\"https://colab.research.google.com/github/mvince33/Coding-Dojo/blob/main/week07/mock_belt_exam2.ipynb\" target=\"_parent\"><img src=\"https://colab.research.google.com/assets/colab-badge.svg\" alt=\"Open In Colab\"/></a>"
      ]
    },
    {
      "cell_type": "markdown",
      "source": [
        "# Imports"
      ],
      "metadata": {
        "id": "EjDiEUZFvwzP"
      }
    },
    {
      "cell_type": "code",
      "execution_count": 190,
      "metadata": {
        "id": "oVwe6ixEmCT0"
      },
      "outputs": [],
      "source": [
        "# Imports\n",
        "import pandas as pd\n",
        "import seaborn as sns\n",
        "from sklearn.model_selection import train_test_split, GridSearchCV\n",
        "from sklearn.pipeline import make_pipeline\n",
        "from sklearn.preprocessing import StandardScaler, OneHotEncoder\n",
        "from sklearn.impute import SimpleImputer\n",
        "from sklearn.compose import make_column_selector, make_column_transformer\n",
        "from sklearn.tree import DecisionTreeRegressor\n",
        "from sklearn.ensemble import RandomForestRegressor\n",
        "from sklearn.metrics import mean_absolute_error, mean_squared_error, r2_score"
      ]
    },
    {
      "cell_type": "markdown",
      "source": [
        "# Load the data"
      ],
      "metadata": {
        "id": "eXna4KFyvzyH"
      }
    },
    {
      "cell_type": "code",
      "source": [
        "# Load the data\n",
        "url = 'https://docs.google.com/spreadsheets/d/e/2PACX-1vR_KGkBJ2SVLehdDAVli_xW-dyLeOdClGm15iksUQO62Sre6il85nVfLJVyVJwDGj7o1Fej-r0ZdVdq/pub?output=csv'\n",
        "df = pd.read_csv(url)\n",
        "df.head()"
      ],
      "metadata": {
        "colab": {
          "base_uri": "https://localhost:8080/",
          "height": 270
        },
        "id": "Dq7FWi-PmcHf",
        "outputId": "9e94649a-7329-46e2-b72d-36d7854a9693"
      },
      "execution_count": 27,
      "outputs": [
        {
          "output_type": "execute_result",
          "data": {
            "text/plain": [
              "  Species  Weight  Length1  Length2  Length3   Height   Width\n",
              "0   Bream   242.0     23.2     25.4     30.0  11.5200  4.0200\n",
              "1   Bream   290.0     24.0     26.3     31.2  12.4800  4.3056\n",
              "2   Bream   340.0     23.9     26.5     31.1  12.3778  4.6961\n",
              "3   Bream   363.0     26.3     29.0     33.5  12.7300  4.4555\n",
              "4   Bream   430.0     26.5     29.0     34.0  12.4440  5.1340"
            ],
            "text/html": [
              "\n",
              "  <div id=\"df-eed004a4-13a0-4fb5-89bd-ad0bf37d4b28\">\n",
              "    <div class=\"colab-df-container\">\n",
              "      <div>\n",
              "<style scoped>\n",
              "    .dataframe tbody tr th:only-of-type {\n",
              "        vertical-align: middle;\n",
              "    }\n",
              "\n",
              "    .dataframe tbody tr th {\n",
              "        vertical-align: top;\n",
              "    }\n",
              "\n",
              "    .dataframe thead th {\n",
              "        text-align: right;\n",
              "    }\n",
              "</style>\n",
              "<table border=\"1\" class=\"dataframe\">\n",
              "  <thead>\n",
              "    <tr style=\"text-align: right;\">\n",
              "      <th></th>\n",
              "      <th>Species</th>\n",
              "      <th>Weight</th>\n",
              "      <th>Length1</th>\n",
              "      <th>Length2</th>\n",
              "      <th>Length3</th>\n",
              "      <th>Height</th>\n",
              "      <th>Width</th>\n",
              "    </tr>\n",
              "  </thead>\n",
              "  <tbody>\n",
              "    <tr>\n",
              "      <th>0</th>\n",
              "      <td>Bream</td>\n",
              "      <td>242.0</td>\n",
              "      <td>23.2</td>\n",
              "      <td>25.4</td>\n",
              "      <td>30.0</td>\n",
              "      <td>11.5200</td>\n",
              "      <td>4.0200</td>\n",
              "    </tr>\n",
              "    <tr>\n",
              "      <th>1</th>\n",
              "      <td>Bream</td>\n",
              "      <td>290.0</td>\n",
              "      <td>24.0</td>\n",
              "      <td>26.3</td>\n",
              "      <td>31.2</td>\n",
              "      <td>12.4800</td>\n",
              "      <td>4.3056</td>\n",
              "    </tr>\n",
              "    <tr>\n",
              "      <th>2</th>\n",
              "      <td>Bream</td>\n",
              "      <td>340.0</td>\n",
              "      <td>23.9</td>\n",
              "      <td>26.5</td>\n",
              "      <td>31.1</td>\n",
              "      <td>12.3778</td>\n",
              "      <td>4.6961</td>\n",
              "    </tr>\n",
              "    <tr>\n",
              "      <th>3</th>\n",
              "      <td>Bream</td>\n",
              "      <td>363.0</td>\n",
              "      <td>26.3</td>\n",
              "      <td>29.0</td>\n",
              "      <td>33.5</td>\n",
              "      <td>12.7300</td>\n",
              "      <td>4.4555</td>\n",
              "    </tr>\n",
              "    <tr>\n",
              "      <th>4</th>\n",
              "      <td>Bream</td>\n",
              "      <td>430.0</td>\n",
              "      <td>26.5</td>\n",
              "      <td>29.0</td>\n",
              "      <td>34.0</td>\n",
              "      <td>12.4440</td>\n",
              "      <td>5.1340</td>\n",
              "    </tr>\n",
              "  </tbody>\n",
              "</table>\n",
              "</div>\n",
              "      <button class=\"colab-df-convert\" onclick=\"convertToInteractive('df-eed004a4-13a0-4fb5-89bd-ad0bf37d4b28')\"\n",
              "              title=\"Convert this dataframe to an interactive table.\"\n",
              "              style=\"display:none;\">\n",
              "        \n",
              "  <svg xmlns=\"http://www.w3.org/2000/svg\" height=\"24px\"viewBox=\"0 0 24 24\"\n",
              "       width=\"24px\">\n",
              "    <path d=\"M0 0h24v24H0V0z\" fill=\"none\"/>\n",
              "    <path d=\"M18.56 5.44l.94 2.06.94-2.06 2.06-.94-2.06-.94-.94-2.06-.94 2.06-2.06.94zm-11 1L8.5 8.5l.94-2.06 2.06-.94-2.06-.94L8.5 2.5l-.94 2.06-2.06.94zm10 10l.94 2.06.94-2.06 2.06-.94-2.06-.94-.94-2.06-.94 2.06-2.06.94z\"/><path d=\"M17.41 7.96l-1.37-1.37c-.4-.4-.92-.59-1.43-.59-.52 0-1.04.2-1.43.59L10.3 9.45l-7.72 7.72c-.78.78-.78 2.05 0 2.83L4 21.41c.39.39.9.59 1.41.59.51 0 1.02-.2 1.41-.59l7.78-7.78 2.81-2.81c.8-.78.8-2.07 0-2.86zM5.41 20L4 18.59l7.72-7.72 1.47 1.35L5.41 20z\"/>\n",
              "  </svg>\n",
              "      </button>\n",
              "      \n",
              "  <style>\n",
              "    .colab-df-container {\n",
              "      display:flex;\n",
              "      flex-wrap:wrap;\n",
              "      gap: 12px;\n",
              "    }\n",
              "\n",
              "    .colab-df-convert {\n",
              "      background-color: #E8F0FE;\n",
              "      border: none;\n",
              "      border-radius: 50%;\n",
              "      cursor: pointer;\n",
              "      display: none;\n",
              "      fill: #1967D2;\n",
              "      height: 32px;\n",
              "      padding: 0 0 0 0;\n",
              "      width: 32px;\n",
              "    }\n",
              "\n",
              "    .colab-df-convert:hover {\n",
              "      background-color: #E2EBFA;\n",
              "      box-shadow: 0px 1px 2px rgba(60, 64, 67, 0.3), 0px 1px 3px 1px rgba(60, 64, 67, 0.15);\n",
              "      fill: #174EA6;\n",
              "    }\n",
              "\n",
              "    [theme=dark] .colab-df-convert {\n",
              "      background-color: #3B4455;\n",
              "      fill: #D2E3FC;\n",
              "    }\n",
              "\n",
              "    [theme=dark] .colab-df-convert:hover {\n",
              "      background-color: #434B5C;\n",
              "      box-shadow: 0px 1px 3px 1px rgba(0, 0, 0, 0.15);\n",
              "      filter: drop-shadow(0px 1px 2px rgba(0, 0, 0, 0.3));\n",
              "      fill: #FFFFFF;\n",
              "    }\n",
              "  </style>\n",
              "\n",
              "      <script>\n",
              "        const buttonEl =\n",
              "          document.querySelector('#df-eed004a4-13a0-4fb5-89bd-ad0bf37d4b28 button.colab-df-convert');\n",
              "        buttonEl.style.display =\n",
              "          google.colab.kernel.accessAllowed ? 'block' : 'none';\n",
              "\n",
              "        async function convertToInteractive(key) {\n",
              "          const element = document.querySelector('#df-eed004a4-13a0-4fb5-89bd-ad0bf37d4b28');\n",
              "          const dataTable =\n",
              "            await google.colab.kernel.invokeFunction('convertToInteractive',\n",
              "                                                     [key], {});\n",
              "          if (!dataTable) return;\n",
              "\n",
              "          const docLinkHtml = 'Like what you see? Visit the ' +\n",
              "            '<a target=\"_blank\" href=https://colab.research.google.com/notebooks/data_table.ipynb>data table notebook</a>'\n",
              "            + ' to learn more about interactive tables.';\n",
              "          element.innerHTML = '';\n",
              "          dataTable['output_type'] = 'display_data';\n",
              "          await google.colab.output.renderOutput(dataTable, element);\n",
              "          const docLink = document.createElement('div');\n",
              "          docLink.innerHTML = docLinkHtml;\n",
              "          element.appendChild(docLink);\n",
              "        }\n",
              "      </script>\n",
              "    </div>\n",
              "  </div>\n",
              "  "
            ]
          },
          "metadata": {},
          "execution_count": 27
        }
      ]
    },
    {
      "cell_type": "markdown",
      "source": [
        "# Clean the data"
      ],
      "metadata": {
        "id": "-tngViTDv3VN"
      }
    },
    {
      "cell_type": "code",
      "source": [
        "# Explore the data\n",
        "print('Duplicates:', df.duplicated().sum())\n",
        "print('Missing Values:', df.isna().sum().sum())\n",
        "\n",
        "# Explore the missing values more carefully\n",
        "print(df.isna().sum())\n",
        "\n",
        "print('\\nDescriptive Statistics with species restricted to perch\\n')\n",
        "print(df[df['Species'] == 'Perch'].describe())\n",
        "print('\\nThe DataFrame where the species column has missing values.\\n')\n",
        "df[df['Species'].isna()]"
      ],
      "metadata": {
        "colab": {
          "base_uri": "https://localhost:8080/",
          "height": 609
        },
        "id": "QOrcCDkOnLWD",
        "outputId": "f792ed54-638c-4fe8-a065-4222d6613b06"
      },
      "execution_count": 38,
      "outputs": [
        {
          "output_type": "stream",
          "name": "stdout",
          "text": [
            "Duplicates: 0\n",
            "Missing Values: 22\n",
            "Species    4\n",
            "Weight     0\n",
            "Length1    2\n",
            "Length2    2\n",
            "Length3    9\n",
            "Height     3\n",
            "Width      2\n",
            "dtype: int64\n",
            "\n",
            "Descriptive Statistics with species restricted to perch\n",
            "\n",
            "            Weight    Length1    Length2    Length3     Height      Width\n",
            "count    53.000000  53.000000  53.000000  48.000000  53.000000  53.000000\n",
            "mean    387.271698  25.820755  27.981132  30.070833   7.882938   4.771904\n",
            "std     351.638269   8.538878   9.008651   8.841896   2.891737   1.797841\n",
            "min       5.900000   7.500000   8.400000  14.700000   2.112000   1.408000\n",
            "25%     120.000000  20.000000  22.000000  23.500000   5.692500   3.534000\n",
            "50%     218.000000  23.500000  25.600000  27.500000   7.051600   4.165800\n",
            "75%     700.000000  34.000000  36.500000  39.075000  10.835000   6.630000\n",
            "max    1100.000000  41.100000  44.000000  46.600000  12.800200   8.142000\n",
            "\n",
            "The DataFrame where the species column has missing values.\n",
            "\n"
          ]
        },
        {
          "output_type": "execute_result",
          "data": {
            "text/plain": [
              "    Species  Weight  Length1  Length2  Length3   Height   Width\n",
              "46      NaN   140.0     21.0     22.5     25.0   6.5500  3.3250\n",
              "77      NaN   100.0     16.2     18.0     19.2   5.2224  3.3216\n",
              "88      NaN   130.0     20.0     22.0     23.5   6.1100  3.5250\n",
              "117     NaN   650.0     36.5     39.0     41.4  11.1366  6.0030"
            ],
            "text/html": [
              "\n",
              "  <div id=\"df-2ea628de-46f6-432f-b2b2-76537a10dba1\">\n",
              "    <div class=\"colab-df-container\">\n",
              "      <div>\n",
              "<style scoped>\n",
              "    .dataframe tbody tr th:only-of-type {\n",
              "        vertical-align: middle;\n",
              "    }\n",
              "\n",
              "    .dataframe tbody tr th {\n",
              "        vertical-align: top;\n",
              "    }\n",
              "\n",
              "    .dataframe thead th {\n",
              "        text-align: right;\n",
              "    }\n",
              "</style>\n",
              "<table border=\"1\" class=\"dataframe\">\n",
              "  <thead>\n",
              "    <tr style=\"text-align: right;\">\n",
              "      <th></th>\n",
              "      <th>Species</th>\n",
              "      <th>Weight</th>\n",
              "      <th>Length1</th>\n",
              "      <th>Length2</th>\n",
              "      <th>Length3</th>\n",
              "      <th>Height</th>\n",
              "      <th>Width</th>\n",
              "    </tr>\n",
              "  </thead>\n",
              "  <tbody>\n",
              "    <tr>\n",
              "      <th>46</th>\n",
              "      <td>NaN</td>\n",
              "      <td>140.0</td>\n",
              "      <td>21.0</td>\n",
              "      <td>22.5</td>\n",
              "      <td>25.0</td>\n",
              "      <td>6.5500</td>\n",
              "      <td>3.3250</td>\n",
              "    </tr>\n",
              "    <tr>\n",
              "      <th>77</th>\n",
              "      <td>NaN</td>\n",
              "      <td>100.0</td>\n",
              "      <td>16.2</td>\n",
              "      <td>18.0</td>\n",
              "      <td>19.2</td>\n",
              "      <td>5.2224</td>\n",
              "      <td>3.3216</td>\n",
              "    </tr>\n",
              "    <tr>\n",
              "      <th>88</th>\n",
              "      <td>NaN</td>\n",
              "      <td>130.0</td>\n",
              "      <td>20.0</td>\n",
              "      <td>22.0</td>\n",
              "      <td>23.5</td>\n",
              "      <td>6.1100</td>\n",
              "      <td>3.5250</td>\n",
              "    </tr>\n",
              "    <tr>\n",
              "      <th>117</th>\n",
              "      <td>NaN</td>\n",
              "      <td>650.0</td>\n",
              "      <td>36.5</td>\n",
              "      <td>39.0</td>\n",
              "      <td>41.4</td>\n",
              "      <td>11.1366</td>\n",
              "      <td>6.0030</td>\n",
              "    </tr>\n",
              "  </tbody>\n",
              "</table>\n",
              "</div>\n",
              "      <button class=\"colab-df-convert\" onclick=\"convertToInteractive('df-2ea628de-46f6-432f-b2b2-76537a10dba1')\"\n",
              "              title=\"Convert this dataframe to an interactive table.\"\n",
              "              style=\"display:none;\">\n",
              "        \n",
              "  <svg xmlns=\"http://www.w3.org/2000/svg\" height=\"24px\"viewBox=\"0 0 24 24\"\n",
              "       width=\"24px\">\n",
              "    <path d=\"M0 0h24v24H0V0z\" fill=\"none\"/>\n",
              "    <path d=\"M18.56 5.44l.94 2.06.94-2.06 2.06-.94-2.06-.94-.94-2.06-.94 2.06-2.06.94zm-11 1L8.5 8.5l.94-2.06 2.06-.94-2.06-.94L8.5 2.5l-.94 2.06-2.06.94zm10 10l.94 2.06.94-2.06 2.06-.94-2.06-.94-.94-2.06-.94 2.06-2.06.94z\"/><path d=\"M17.41 7.96l-1.37-1.37c-.4-.4-.92-.59-1.43-.59-.52 0-1.04.2-1.43.59L10.3 9.45l-7.72 7.72c-.78.78-.78 2.05 0 2.83L4 21.41c.39.39.9.59 1.41.59.51 0 1.02-.2 1.41-.59l7.78-7.78 2.81-2.81c.8-.78.8-2.07 0-2.86zM5.41 20L4 18.59l7.72-7.72 1.47 1.35L5.41 20z\"/>\n",
              "  </svg>\n",
              "      </button>\n",
              "      \n",
              "  <style>\n",
              "    .colab-df-container {\n",
              "      display:flex;\n",
              "      flex-wrap:wrap;\n",
              "      gap: 12px;\n",
              "    }\n",
              "\n",
              "    .colab-df-convert {\n",
              "      background-color: #E8F0FE;\n",
              "      border: none;\n",
              "      border-radius: 50%;\n",
              "      cursor: pointer;\n",
              "      display: none;\n",
              "      fill: #1967D2;\n",
              "      height: 32px;\n",
              "      padding: 0 0 0 0;\n",
              "      width: 32px;\n",
              "    }\n",
              "\n",
              "    .colab-df-convert:hover {\n",
              "      background-color: #E2EBFA;\n",
              "      box-shadow: 0px 1px 2px rgba(60, 64, 67, 0.3), 0px 1px 3px 1px rgba(60, 64, 67, 0.15);\n",
              "      fill: #174EA6;\n",
              "    }\n",
              "\n",
              "    [theme=dark] .colab-df-convert {\n",
              "      background-color: #3B4455;\n",
              "      fill: #D2E3FC;\n",
              "    }\n",
              "\n",
              "    [theme=dark] .colab-df-convert:hover {\n",
              "      background-color: #434B5C;\n",
              "      box-shadow: 0px 1px 3px 1px rgba(0, 0, 0, 0.15);\n",
              "      filter: drop-shadow(0px 1px 2px rgba(0, 0, 0, 0.3));\n",
              "      fill: #FFFFFF;\n",
              "    }\n",
              "  </style>\n",
              "\n",
              "      <script>\n",
              "        const buttonEl =\n",
              "          document.querySelector('#df-2ea628de-46f6-432f-b2b2-76537a10dba1 button.colab-df-convert');\n",
              "        buttonEl.style.display =\n",
              "          google.colab.kernel.accessAllowed ? 'block' : 'none';\n",
              "\n",
              "        async function convertToInteractive(key) {\n",
              "          const element = document.querySelector('#df-2ea628de-46f6-432f-b2b2-76537a10dba1');\n",
              "          const dataTable =\n",
              "            await google.colab.kernel.invokeFunction('convertToInteractive',\n",
              "                                                     [key], {});\n",
              "          if (!dataTable) return;\n",
              "\n",
              "          const docLinkHtml = 'Like what you see? Visit the ' +\n",
              "            '<a target=\"_blank\" href=https://colab.research.google.com/notebooks/data_table.ipynb>data table notebook</a>'\n",
              "            + ' to learn more about interactive tables.';\n",
              "          element.innerHTML = '';\n",
              "          dataTable['output_type'] = 'display_data';\n",
              "          await google.colab.output.renderOutput(dataTable, element);\n",
              "          const docLink = document.createElement('div');\n",
              "          docLink.innerHTML = docLinkHtml;\n",
              "          element.appendChild(docLink);\n",
              "        }\n",
              "      </script>\n",
              "    </div>\n",
              "  </div>\n",
              "  "
            ]
          },
          "metadata": {},
          "execution_count": 38
        }
      ]
    },
    {
      "cell_type": "markdown",
      "source": [
        "> The missing value for 'Species' will be imputed using the most frequent value \"Perch\". This is reasonable since the features for the missing values all fall within the ranges of the features for the species Perch. The remaining missing values are all quantitative. With the exception of 'Weight' the median and mean are similar for all quanitative features. Because of this we think it will be reasonable to impute the missing values with a median strategy for quantitative features."
      ],
      "metadata": {
        "id": "U0p0pYFpvfgy"
      }
    },
    {
      "cell_type": "code",
      "source": [
        "# Check for inconsistent labels\n",
        "print(df['Species'].value_counts())\n",
        "print()\n",
        "# Check for outliers\n",
        "print(df.describe())"
      ],
      "metadata": {
        "colab": {
          "base_uri": "https://localhost:8080/"
        },
        "id": "sox2IWCyvu6Z",
        "outputId": "91e4719c-48ce-4676-8b97-b2d0069c5a6a"
      },
      "execution_count": 41,
      "outputs": [
        {
          "output_type": "stream",
          "name": "stdout",
          "text": [
            "Perch        53\n",
            "Bream        33\n",
            "Roach        19\n",
            "Pike         17\n",
            "Smelt        14\n",
            "Parkki       11\n",
            "Whitefish     6\n",
            "Beam          2\n",
            "Name: Species, dtype: int64\n",
            "\n",
            "            Weight     Length1     Length2     Length3      Height       Width\n",
            "count   159.000000  157.000000  157.000000  150.000000  156.000000  157.000000\n",
            "mean    398.326415   26.080255   28.168153   31.196000    8.907132    4.416820\n",
            "std     357.978317    9.939357   10.407117   11.071718    4.250476    1.695044\n",
            "min       0.000000    7.500000    8.400000   10.800000    1.728400    1.047600\n",
            "25%     120.000000   19.000000   21.000000   23.275000    5.949000    3.375600\n",
            "50%     273.000000   25.000000   27.000000   29.700000    7.733000    4.248500\n",
            "75%     650.000000   32.500000   35.000000   39.575000   12.038100    5.589000\n",
            "max    1650.000000   59.000000   60.000000   64.000000   18.957000    8.142000\n"
          ]
        }
      ]
    },
    {
      "cell_type": "markdown",
      "source": [
        "> All quantitative values are roughly within three standard deviations of the mean, so no values jump out to us as outliers. There were no inconsistent labels in the categorical feature."
      ],
      "metadata": {
        "id": "mDmmvU3XzKrw"
      }
    },
    {
      "cell_type": "markdown",
      "source": [
        "# Data exploration"
      ],
      "metadata": {
        "id": "CSBSiLO30R_0"
      }
    },
    {
      "cell_type": "code",
      "source": [
        "# Create histograms \n",
        "df.hist(figsize = (10, 10), grid = False, edgecolor = 'k', bins = 7);"
      ],
      "metadata": {
        "colab": {
          "base_uri": "https://localhost:8080/",
          "height": 607
        },
        "id": "cwvFPsVH0Xse",
        "outputId": "dd2207a2-52cd-4101-c0c0-7cee1d1a487f"
      },
      "execution_count": 56,
      "outputs": [
        {
          "output_type": "display_data",
          "data": {
            "text/plain": [
              "<Figure size 720x720 with 6 Axes>"
            ],
            "image/png": "[encoded data removed]"
          },
          "metadata": {
            "needs_background": "light"
          }
        }
      ]
    },
    {
      "cell_type": "markdown",
      "source": [
        "> The quantitative data appears to be mostly right skewed. The 'Length3' features looks to be bimodal"
      ],
      "metadata": {
        "id": "6evqAHxx0tct"
      }
    },
    {
      "cell_type": "code",
      "source": [
        "# Construct a heatmap\n",
        "corr = df.corr()\n",
        "sns.heatmap(corr, cmap = 'Blues', annot = True);"
      ],
      "metadata": {
        "colab": {
          "base_uri": "https://localhost:8080/",
          "height": 269
        },
        "id": "jP1nGBjJ2D7h",
        "outputId": "a2cf2a04-a985-468a-ee3d-fd31b9cc37fc"
      },
      "execution_count": 62,
      "outputs": [
        {
          "output_type": "display_data",
          "data": {
            "text/plain": [
              "<Figure size 432x288 with 2 Axes>"
            ],
            "image/png": "[encoded data removed]"
          },
          "metadata": {
            "needs_background": "light"
          }
        }
      ]
    },
    {
      "cell_type": "markdown",
      "source": [
        "> This heatmap shows high linear correlation between a number of the features. This suggests that a linear regression model may perform well on this data."
      ],
      "metadata": {
        "id": "8VYmz8tV2Wqs"
      }
    },
    {
      "cell_type": "markdown",
      "source": [
        "# Split the data"
      ],
      "metadata": {
        "id": "mNfHbiPFziFv"
      }
    },
    {
      "cell_type": "code",
      "source": [
        "# Set the features and target\n",
        "X = df.drop(columns = 'Weight')\n",
        "y = df['Weight']"
      ],
      "metadata": {
        "id": "jder-30Vzgu-"
      },
      "execution_count": 43,
      "outputs": []
    },
    {
      "cell_type": "code",
      "source": [
        "# Split the data\n",
        "X_train, X_test, y_train, y_test = train_test_split(X, y, random_state = 42)"
      ],
      "metadata": {
        "id": "_NSXVjBJztLN"
      },
      "execution_count": 45,
      "outputs": []
    },
    {
      "cell_type": "markdown",
      "source": [
        "# Construct a preprocessing pipeline"
      ],
      "metadata": {
        "id": "M0i3Rlch3e-y"
      }
    },
    {
      "cell_type": "code",
      "source": [
        "# Construct column selectors\n",
        "cat_selector = make_column_selector(dtype_include = 'object')\n",
        "num_selector = make_column_selector(dtype_include = 'number')"
      ],
      "metadata": {
        "id": "9ZoWy0x3z3M9"
      },
      "execution_count": 73,
      "outputs": []
    },
    {
      "cell_type": "code",
      "source": [
        "# Instantiate imputers\n",
        "med_imputer = SimpleImputer(strategy = 'median')\n",
        "freq_imputer = SimpleImputer(strategy = 'most_frequent')"
      ],
      "metadata": {
        "id": "2raQe2mU3gim"
      },
      "execution_count": 79,
      "outputs": []
    },
    {
      "cell_type": "code",
      "source": [
        "# Construct pipelines\n",
        "num_pipe = make_pipeline(med_imputer, StandardScaler())\n",
        "cat_pipe = make_pipeline(freq_imputer, OneHotEncoder(sparse = False, handle_unknown = 'ignore'))"
      ],
      "metadata": {
        "id": "3Nl0dLOy8IZ3"
      },
      "execution_count": 80,
      "outputs": []
    },
    {
      "cell_type": "markdown",
      "source": [
        "> We decided the median was a more appropriate choice since the data is skewed. Since our numeric data have different ranges we use a scaler\n",
        "> Since the ranges of numeric data for the missing data fit within the ranges for the most frequent, we used a most_frequent strategy for imputing species names. Since the species names are not ordered, we will encode the species names using one hot encoding."
      ],
      "metadata": {
        "id": "eJrsuWy2BcNt"
      }
    },
    {
      "cell_type": "code",
      "source": [
        "# Build tuples for a column transformer\n",
        "cat_tuple = (cat_pipe, cat_selector)\n",
        "num_tuple = (num_pipe, num_selector)"
      ],
      "metadata": {
        "id": "ApcGwAXICGn8"
      },
      "execution_count": 81,
      "outputs": []
    },
    {
      "cell_type": "code",
      "source": [
        "# Put the pipelines in a column transformer\n",
        "col_transformer = make_column_transformer(cat_tuple, num_tuple, remainder = 'passthrough')"
      ],
      "metadata": {
        "id": "wZNthgs47x0R"
      },
      "execution_count": 84,
      "outputs": []
    },
    {
      "cell_type": "code",
      "source": [
        "# Fit the column transformer using the traning data\n",
        "col_transformer.fit(X_train)"
      ],
      "metadata": {
        "colab": {
          "base_uri": "https://localhost:8080/"
        },
        "id": "GtvhSWQpChlx",
        "outputId": "d494f342-f089-48af-db95-89da796daf14"
      },
      "execution_count": 86,
      "outputs": [
        {
          "output_type": "execute_result",
          "data": {
            "text/plain": [
              "ColumnTransformer(remainder='passthrough',\n",
              "                  transformers=[('pipeline-1',\n",
              "                                 Pipeline(steps=[('simpleimputer',\n",
              "                                                  SimpleImputer(strategy='most_frequent')),\n",
              "                                                 ('onehotencoder',\n",
              "                                                  OneHotEncoder(handle_unknown='ignore',\n",
              "                                                                sparse=False))]),\n",
              "                                 <sklearn.compose._column_transformer.make_column_selector object at 0x7f9bc6c917d0>),\n",
              "                                ('pipeline-2',\n",
              "                                 Pipeline(steps=[('simpleimputer',\n",
              "                                                  SimpleImputer(strategy='median')),\n",
              "                                                 ('standardscaler',\n",
              "                                                  StandardScaler())]),\n",
              "                                 <sklearn.compose._column_transformer.make_column_selector object at 0x7f9bc6c91d50>)])"
            ]
          },
          "metadata": {},
          "execution_count": 86
        }
      ]
    },
    {
      "cell_type": "code",
      "source": [
        "# Process the data\n",
        "X_train_processed = col_transformer.transform(X_train)\n",
        "X_test_processed = col_transformer.transform(X_test)"
      ],
      "metadata": {
        "id": "ZHbhgioCCvvg"
      },
      "execution_count": 87,
      "outputs": []
    },
    {
      "cell_type": "markdown",
      "source": [
        "# Construct models"
      ],
      "metadata": {
        "id": "aMbecVFyDVs0"
      }
    },
    {
      "cell_type": "markdown",
      "source": [
        "## DecisionTree"
      ],
      "metadata": {
        "id": "ohbITjhSDbmp"
      }
    },
    {
      "cell_type": "code",
      "source": [
        "# Construct a default decision tree model\n",
        "dec_tree = DecisionTreeRegressor()\n",
        "# Fit the decision tree to the processed traning data\n",
        "dec_tree.fit(X_train_processed, y_train)\n",
        "# Score the dufault model\n",
        "print('Test Score:', dec_tree.score(X_test_processed, y_test))\n",
        "print('Traning Score:', dec_tree.score(X_train_processed, y_train))"
      ],
      "metadata": {
        "colab": {
          "base_uri": "https://localhost:8080/"
        },
        "id": "8rimf7wIDaiC",
        "outputId": "88753f0d-8205-47fd-aa8f-a95d606273a3"
      },
      "execution_count": 102,
      "outputs": [
        {
          "output_type": "stream",
          "name": "stdout",
          "text": [
            "Test Score: 0.9418838504499577\n",
            "Traning Score: 0.9999167769564986\n"
          ]
        }
      ]
    },
    {
      "cell_type": "code",
      "source": [
        "# Get the hyperparameters\n",
        "dec_tree.get_params()"
      ],
      "metadata": {
        "colab": {
          "base_uri": "https://localhost:8080/"
        },
        "id": "CKpkTowvFW1q",
        "outputId": "0b4aeb9b-edb8-4e43-8f27-6195c7071940"
      },
      "execution_count": 104,
      "outputs": [
        {
          "output_type": "execute_result",
          "data": {
            "text/plain": [
              "{'ccp_alpha': 0.0,\n",
              " 'criterion': 'squared_error',\n",
              " 'max_depth': None,\n",
              " 'max_features': None,\n",
              " 'max_leaf_nodes': None,\n",
              " 'min_impurity_decrease': 0.0,\n",
              " 'min_samples_leaf': 1,\n",
              " 'min_samples_split': 2,\n",
              " 'min_weight_fraction_leaf': 0.0,\n",
              " 'random_state': None,\n",
              " 'splitter': 'best'}"
            ]
          },
          "metadata": {},
          "execution_count": 104
        }
      ]
    },
    {
      "cell_type": "code",
      "source": [
        "# Construct param_grid for grid search\n",
        "param_grid_dt = {'max_depth': range(1, 10),\n",
        "                 'min_samples_leaf': range(1, 5),\n",
        "                 'min_samples_split': range(2, 10)}"
      ],
      "metadata": {
        "id": "zTuO_i0xFvVA"
      },
      "execution_count": 172,
      "outputs": []
    },
    {
      "cell_type": "code",
      "source": [
        "# Tune the decision tree\n",
        "dt_grid_search = GridSearchCV(dec_tree, param_grid_dt)\n",
        "dt_grid_search.fit(X_train_processed, y_train)"
      ],
      "metadata": {
        "colab": {
          "base_uri": "https://localhost:8080/"
        },
        "id": "XxEiNTlsGH8U",
        "outputId": "5e76087e-5993-45e1-d2bb-e2b6af47cf67"
      },
      "execution_count": 176,
      "outputs": [
        {
          "output_type": "execute_result",
          "data": {
            "text/plain": [
              "GridSearchCV(estimator=DecisionTreeRegressor(),\n",
              "             param_grid={'max_depth': range(1, 10),\n",
              "                         'min_samples_leaf': range(1, 5),\n",
              "                         'min_samples_split': range(2, 10)})"
            ]
          },
          "metadata": {},
          "execution_count": 176
        }
      ]
    },
    {
      "cell_type": "code",
      "source": [
        "# Get the best parametirs\n",
        "dt_grid_search.best_params_\n",
        "# Get the best model\n",
        "best_dt = dt_grid_search.best_estimator_"
      ],
      "metadata": {
        "id": "8MqIA-9wHKvl"
      },
      "execution_count": 179,
      "outputs": []
    },
    {
      "cell_type": "markdown",
      "source": [
        "> Tuning our model is actually decreasing performance. This is okay since we are using cross-validation with grid search. "
      ],
      "metadata": {
        "id": "pyAnAINFIXIR"
      }
    },
    {
      "cell_type": "code",
      "source": [
        "# Evaluate the best model\n",
        "dt_test_pred = best_dt.predict(X_test_processed)\n",
        "dt_train_pred = best_dt.predict(X_train_processed)\n",
        "print('Test MAE:', mean_absolute_error(y_test, dt_test_pred))\n",
        "print('Train MAE:', mean_absolute_error(y_train, dt_train_pred))\n",
        "print('Test MSE:', mean_squared_error(y_test, dt_test_pred))\n",
        "print('Train_MSE:', mean_squared_error(y_train, dt_train_pred))\n",
        "print('Test R2:', r2_score(y_test, dt_test_pred))\n",
        "print('Train R2:', r2_score(y_train, dt_train_pred))"
      ],
      "metadata": {
        "colab": {
          "base_uri": "https://localhost:8080/"
        },
        "id": "rhxhp3_FId8D",
        "outputId": "fc7fd193-543d-4753-f6c9-6417f9f7967d"
      },
      "execution_count": 189,
      "outputs": [
        {
          "output_type": "stream",
          "name": "stdout",
          "text": [
            "Test MAE: 55.87836309523809\n",
            "Train MAE: 19.583373349339738\n",
            "Test MSE: 8815.079438385772\n",
            "Train_MSE: 863.2043077230892\n",
            "Test R2: 0.9323931838406123\n",
            "Train R2: 0.9931609757851122\n"
          ]
        }
      ]
    },
    {
      "cell_type": "markdown",
      "source": [
        "The r2 score tells us our model accounts for about 93% of the variation of the data. Our MAE says a typical prediction is off by about 55 pounds. The RMSE is about 94 pounds, so our model is likely making some large errors."
      ],
      "metadata": {
        "id": "SPftPhkmKS9m"
      }
    },
    {
      "cell_type": "markdown",
      "source": [
        "## Random Forest"
      ],
      "metadata": {
        "id": "FmznSUrRKpF2"
      }
    },
    {
      "cell_type": "code",
      "source": [
        "# Build a default random forest model\n",
        "rf = RandomForestRegressor()\n",
        "rf.fit(X_train_processed, y_train)\n",
        "# Score the default model\n",
        "print(rf.score(X_train_processed, y_train))\n",
        "print(rf.score(X_test_processed, y_test))"
      ],
      "metadata": {
        "colab": {
          "base_uri": "https://localhost:8080/"
        },
        "id": "waMSIvTZKrBv",
        "outputId": "7c7cdef6-d9ce-4d10-84fe-1bd4a455ddec"
      },
      "execution_count": 194,
      "outputs": [
        {
          "output_type": "stream",
          "name": "stdout",
          "text": [
            "0.9911730309810279\n",
            "0.9648790977882088\n"
          ]
        }
      ]
    },
    {
      "cell_type": "code",
      "source": [
        "# Get the hyperparameters of the default random forest\n",
        "rf.get_params()"
      ],
      "metadata": {
        "colab": {
          "base_uri": "https://localhost:8080/"
        },
        "id": "JFlRHSpMLOJg",
        "outputId": "728cd744-8659-4eb1-ba05-e07414a807e8"
      },
      "execution_count": 196,
      "outputs": [
        {
          "output_type": "execute_result",
          "data": {
            "text/plain": [
              "{'bootstrap': True,\n",
              " 'ccp_alpha': 0.0,\n",
              " 'criterion': 'squared_error',\n",
              " 'max_depth': None,\n",
              " 'max_features': 'auto',\n",
              " 'max_leaf_nodes': None,\n",
              " 'max_samples': None,\n",
              " 'min_impurity_decrease': 0.0,\n",
              " 'min_samples_leaf': 1,\n",
              " 'min_samples_split': 2,\n",
              " 'min_weight_fraction_leaf': 0.0,\n",
              " 'n_estimators': 100,\n",
              " 'n_jobs': None,\n",
              " 'oob_score': False,\n",
              " 'random_state': None,\n",
              " 'verbose': 0,\n",
              " 'warm_start': False}"
            ]
          },
          "metadata": {},
          "execution_count": 196
        }
      ]
    },
    {
      "cell_type": "code",
      "source": [
        "# Build a param_grid for grid search\n",
        "param_grid_rf = {'max_depth': range(1, 5),\n",
        "                 'min_samples_leaf': range(1, 5),\n",
        "                 'min_samples_split': range(2, 5)}"
      ],
      "metadata": {
        "id": "497A2kL-LUC1"
      },
      "execution_count": 198,
      "outputs": []
    },
    {
      "cell_type": "code",
      "source": [
        "# Tune the random forest using grid search\n",
        "grid_search_rf = GridSearchCV(rf, param_grid_rf)\n",
        "grid_search_rf.fit(X_train_processed, y_train)"
      ],
      "metadata": {
        "colab": {
          "base_uri": "https://localhost:8080/"
        },
        "id": "c8soo7mqLlH6",
        "outputId": "c887dcf0-5e0c-4c64-f08c-3655eef9e854"
      },
      "execution_count": 201,
      "outputs": [
        {
          "output_type": "execute_result",
          "data": {
            "text/plain": [
              "GridSearchCV(estimator=RandomForestRegressor(),\n",
              "             param_grid={'max_depth': range(1, 5),\n",
              "                         'min_samples_leaf': range(1, 5),\n",
              "                         'min_samples_split': range(2, 5)})"
            ]
          },
          "metadata": {},
          "execution_count": 201
        }
      ]
    },
    {
      "cell_type": "code",
      "source": [
        "# Get the best parameters\n",
        "grid_search_rf.best_params_"
      ],
      "metadata": {
        "colab": {
          "base_uri": "https://localhost:8080/"
        },
        "id": "jXue-l5fL5sB",
        "outputId": "d20c30b7-46e8-4f93-abac-8b1c3bba5909"
      },
      "execution_count": 203,
      "outputs": [
        {
          "output_type": "execute_result",
          "data": {
            "text/plain": [
              "{'max_depth': 4, 'min_samples_leaf': 1, 'min_samples_split': 3}"
            ]
          },
          "metadata": {},
          "execution_count": 203
        }
      ]
    },
    {
      "cell_type": "code",
      "source": [
        "# Get the best model\n",
        "best_rf = grid_search_rf.best_estimator_"
      ],
      "metadata": {
        "id": "Fm4cP5DGMErz"
      },
      "execution_count": 205,
      "outputs": []
    },
    {
      "cell_type": "code",
      "source": [
        "# Evaluate the tuned model\n",
        "rf_test_pred = best_rf.predict(X_test_processed)\n",
        "rf_train_pred = best_rf.predict(X_train_processed)\n",
        "print('Test MAE:', mean_absolute_error(y_test, rf_test_pred))\n",
        "print('Train MAE:', mean_absolute_error(y_train, rf_train_pred))\n",
        "print('Test MSE:', mean_squared_error(y_test, rf_test_pred))\n",
        "print('Train_MSE:', mean_squared_error(y_train, rf_train_pred))\n",
        "print('Test R2:', r2_score(y_test, rf_test_pred))\n",
        "print('Train R2:', r2_score(y_train, rf_train_pred))"
      ],
      "metadata": {
        "colab": {
          "base_uri": "https://localhost:8080/"
        },
        "id": "0dDuxDqAMIlq",
        "outputId": "41a37044-7228-4016-b087-d2cbea6e4de8"
      },
      "execution_count": 210,
      "outputs": [
        {
          "output_type": "stream",
          "name": "stdout",
          "text": [
            "Test MAE: 52.73998671549324\n",
            "Train MAE: 28.22951052747197\n",
            "Test MSE: 5987.758493785872\n",
            "Train_MSE: 1852.9331627593667\n",
            "Test R2: 0.9540771821143879\n",
            "Train R2: 0.9853195186176652\n"
          ]
        }
      ]
    },
    {
      "cell_type": "markdown",
      "source": [
        "> Our random forest model is able to explain about 95.4% of the data. We expect a typcial prediction to be off by about 53 pounds. Our RMSE of about 77 pounds shows our random forest is not making as many large errors as the decision tree."
      ],
      "metadata": {
        "id": "6XOF5rRkM6sz"
      }
    },
    {
      "cell_type": "markdown",
      "source": [
        "# Final model"
      ],
      "metadata": {
        "id": "XBhGt3-GNTTP"
      }
    },
    {
      "cell_type": "code",
      "source": [
        "# Make the final model\n",
        "final_model = best_rf"
      ],
      "metadata": {
        "id": "FjTEoxSmNVWE"
      },
      "execution_count": 212,
      "outputs": []
    },
    {
      "cell_type": "markdown",
      "source": [
        "> We choose the random forest as our final model. It performed better on all metrics considered. It was able to explain 2% more of the variation and made fewer large errors. "
      ],
      "metadata": {
        "id": "XaHLnkfKNdvA"
      }
    }
  ]
}
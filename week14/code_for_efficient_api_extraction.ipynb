{
 "cells": [
  {
   "cell_type": "code",
   "execution_count": 1,
   "id": "3236cc3f",
   "metadata": {},
   "outputs": [],
   "source": [
    "# Imports\n",
    "import numpy as np\n",
    "import pandas as pd\n",
    "import matplotlib.pyplot as plt\n",
    "import seaborn as sns\n",
    "import os, math, json, time\n",
    "from yelpapi import YelpAPI\n",
    "from tqdm.notebook import tqdm_notebook"
   ]
  },
  {
   "cell_type": "code",
   "execution_count": 2,
   "id": "e0e75945",
   "metadata": {},
   "outputs": [],
   "source": [
    "# Load API credentials\n",
    "with open('yelp_api.json') as f:\n",
    "    login = json.load(f)\n",
    "yelp_api = YelpAPI(login['api-key'], timeout_s = 5.0)"
   ]
  },
  {
   "cell_type": "code",
   "execution_count": 3,
   "id": "2a94e110",
   "metadata": {},
   "outputs": [
    {
     "data": {
      "text/plain": [
       "'yelp_records.json'"
      ]
     },
     "execution_count": 3,
     "metadata": {},
     "output_type": "execute_result"
    }
   ],
   "source": [
    "# Specify the file name\n",
    "json_file = f'yelp_records.json'\n",
    "json_file"
   ]
  },
  {
   "cell_type": "code",
   "execution_count": 4,
   "id": "1bca623c",
   "metadata": {},
   "outputs": [],
   "source": [
    "def create_json_file(json_file, delete_if_exists = False):\n",
    "    \n",
    "    # Check if the file exists\n",
    "    file_exists = os.path.isfile(json_file)\n",
    "    \n",
    "    # If the file does NOT exist\n",
    "    if file_exists:\n",
    "        # Check if the user wants to delete the file\n",
    "        if delete_if_exists:\n",
    "            print(f'[!] {json_file} already exists. Deleting the previous file.')\n",
    "            os.remove(json_file)\n",
    "        else:\n",
    "            print(f'[i] {json_file} alread exsist.')\n",
    "    # If the file does exist\n",
    "    else:\n",
    "        # Inform user and save empty list\n",
    "        print(f'[i] {json_file} not found. Saving empty list to new file.')\n",
    "        \n",
    "        # Create any needed folders\n",
    "        folder = os.path.dirname(json_file)\n",
    "        \n",
    "        # If json_file included a folder\n",
    "        if len(folder) > 0:\n",
    "            os.makedirs(foldel, exist_ok = True)\n",
    "            \n",
    "        # Save the empty list to start the file\n",
    "        with open(json_file, 'w') as f:\n",
    "            json.dump([], f)"
   ]
  },
  {
   "cell_type": "code",
   "execution_count": 5,
   "id": "8b081e9f",
   "metadata": {},
   "outputs": [
    {
     "name": "stdout",
     "output_type": "stream",
     "text": [
      "[i] yelp_records.json not found. Saving empty list to new file.\n"
     ]
    }
   ],
   "source": [
    "create_json_file(json_file, True)"
   ]
  },
  {
   "cell_type": "code",
   "execution_count": 6,
   "id": "40f1f87e",
   "metadata": {},
   "outputs": [
    {
     "name": "stdout",
     "output_type": "stream",
     "text": [
      "- 0 previous results found.\n"
     ]
    }
   ],
   "source": [
    "# Determine the number of results already in the file\n",
    "with open(json_file) as f:\n",
    "    previous_results = json.load(f)\n",
    "    \n",
    "# Set offset based on previous results\n",
    "n_results = len(previous_results)\n",
    "print(f'- {n_results} previous results found.')"
   ]
  },
  {
   "cell_type": "code",
   "execution_count": 7,
   "id": "dcc0c6f9",
   "metadata": {},
   "outputs": [
    {
     "data": {
      "text/plain": [
       "dict_keys(['businesses', 'total', 'region'])"
      ]
     },
     "execution_count": 7,
     "metadata": {},
     "output_type": "execute_result"
    }
   ],
   "source": [
    "# Make a query\n",
    "results = yelp_api.search_query(location = 'Seattle, WA',\n",
    "                                term = 'Vegetarian',\n",
    "                                offset = n_results)\n",
    "\n",
    "results.keys()"
   ]
  },
  {
   "cell_type": "code",
   "execution_count": 8,
   "id": "b9bf424a",
   "metadata": {},
   "outputs": [
    {
     "data": {
      "text/plain": [
       "4300"
      ]
     },
     "execution_count": 8,
     "metadata": {},
     "output_type": "execute_result"
    }
   ],
   "source": [
    "# See how many results there are\n",
    "total_results = results['total']\n",
    "total_results"
   ]
  },
  {
   "cell_type": "code",
   "execution_count": 9,
   "id": "0f1564ac",
   "metadata": {},
   "outputs": [
    {
     "data": {
      "text/plain": [
       "20"
      ]
     },
     "execution_count": 9,
     "metadata": {},
     "output_type": "execute_result"
    }
   ],
   "source": [
    "# Find how many results we get per page\n",
    "results_per_page = len(results['businesses'])\n",
    "results_per_page"
   ]
  },
  {
   "cell_type": "code",
   "execution_count": 10,
   "id": "250e6697",
   "metadata": {},
   "outputs": [
    {
     "data": {
      "text/plain": [
       "215"
      ]
     },
     "execution_count": 10,
     "metadata": {},
     "output_type": "execute_result"
    }
   ],
   "source": [
    "# Find how many pages we need for our search\n",
    "n_pages = math.ceil((results['total'] - n_results) / results_per_page)\n",
    "n_pages"
   ]
  },
  {
   "cell_type": "code",
   "execution_count": 11,
   "id": "ac4a8d64",
   "metadata": {},
   "outputs": [],
   "source": [
    "# Add the query to the previous results list\n",
    "previous_results.extend(results['businesses'])\n",
    "with open(json_file, 'w') as f:\n",
    "    json.dump(previous_results, f)"
   ]
  },
  {
   "cell_type": "code",
   "execution_count": 12,
   "id": "1d0f4ec2",
   "metadata": {},
   "outputs": [
    {
     "data": {
      "text/plain": [
       "20"
      ]
     },
     "execution_count": 12,
     "metadata": {},
     "output_type": "execute_result"
    }
   ],
   "source": [
    "len(previous_results)"
   ]
  },
  {
   "cell_type": "code",
   "execution_count": 13,
   "id": "99a0344f",
   "metadata": {},
   "outputs": [
    {
     "data": {
      "application/json": {
       "ascii": false,
       "bar_format": null,
       "colour": null,
       "elapsed": 0.017615079879760742,
       "initial": 0,
       "n": 0,
       "ncols": null,
       "nrows": 43,
       "postfix": null,
       "prefix": "",
       "rate": null,
       "total": 215,
       "unit": "it",
       "unit_divisor": 1000,
       "unit_scale": false
      },
      "application/vnd.jupyter.widget-view+json": {
       "model_id": "f67aa4eb201040449f5abb516c2c7d3f",
       "version_major": 2,
       "version_minor": 0
      },
      "text/plain": [
       "  0%|          | 0/215 [00:00<?, ?it/s]"
      ]
     },
     "metadata": {},
     "output_type": "display_data"
    },
    {
     "name": "stdout",
     "output_type": "stream",
     "text": [
      "Exceeded 1000 API calls. Terminating loop.\n"
     ]
    }
   ],
   "source": [
    "# Make a loop to get all of our queries\n",
    "for i in tqdm_notebook(range(1, n_pages + 1)):\n",
    "    # Get the results so far\n",
    "    with open(json_file, 'r') as f:\n",
    "        previous_results = json.load(f)\n",
    "    n_results = len(previous_results)\n",
    "    if (n_results + results_per_page) > 1000:\n",
    "        print('Exceeded 1000 API calls. Terminating loop.')\n",
    "        break\n",
    "    # Use n_results as the offset\n",
    "    results = yelp_api.search_query(location = 'Seattle, WA',\n",
    "                                    term = 'Vegetarian',\n",
    "                                    offset = n_results)\n",
    "    # Append the new results and save the file\n",
    "    previous_results.extend(results['businesses'])\n",
    "    with open(json_file, 'w') as f:\n",
    "        json.dump(previous_results, f)\n",
    "        \n",
    "    # Add a 200 ms pause\n",
    "    time.sleep(0.2)"
   ]
  },
  {
   "cell_type": "code",
   "execution_count": 18,
   "id": "8fd0e12f",
   "metadata": {},
   "outputs": [
    {
     "data": {
      "text/html": [
       "<div>\n",
       "<style scoped>\n",
       "    .dataframe tbody tr th:only-of-type {\n",
       "        vertical-align: middle;\n",
       "    }\n",
       "\n",
       "    .dataframe tbody tr th {\n",
       "        vertical-align: top;\n",
       "    }\n",
       "\n",
       "    .dataframe thead th {\n",
       "        text-align: right;\n",
       "    }\n",
       "</style>\n",
       "<table border=\"1\" class=\"dataframe\">\n",
       "  <thead>\n",
       "    <tr style=\"text-align: right;\">\n",
       "      <th></th>\n",
       "      <th>id</th>\n",
       "      <th>alias</th>\n",
       "      <th>name</th>\n",
       "      <th>image_url</th>\n",
       "      <th>is_closed</th>\n",
       "      <th>url</th>\n",
       "      <th>review_count</th>\n",
       "      <th>categories</th>\n",
       "      <th>rating</th>\n",
       "      <th>coordinates</th>\n",
       "      <th>transactions</th>\n",
       "      <th>price</th>\n",
       "      <th>location</th>\n",
       "      <th>phone</th>\n",
       "      <th>display_phone</th>\n",
       "      <th>distance</th>\n",
       "    </tr>\n",
       "  </thead>\n",
       "  <tbody>\n",
       "    <tr>\n",
       "      <th>0</th>\n",
       "      <td>djjEdAZkY4eyzI3_8TBLVA</td>\n",
       "      <td>plum-bistro-seattle-2</td>\n",
       "      <td>Plum Bistro</td>\n",
       "      <td>https://s3-media3.fl.yelpcdn.com/bphoto/DlnguN...</td>\n",
       "      <td>False</td>\n",
       "      <td>https://www.yelp.com/biz/plum-bistro-seattle-2...</td>\n",
       "      <td>1802</td>\n",
       "      <td>[{'alias': 'vegan', 'title': 'Vegan'}]</td>\n",
       "      <td>4.0</td>\n",
       "      <td>{'latitude': 47.6137675, 'longitude': -122.317...</td>\n",
       "      <td>[delivery, pickup]</td>\n",
       "      <td>$$</td>\n",
       "      <td>{'address1': '1429 12th Ave', 'address2': '', ...</td>\n",
       "      <td>+12068385333</td>\n",
       "      <td>(206) 838-5333</td>\n",
       "      <td>1888.191530</td>\n",
       "    </tr>\n",
       "    <tr>\n",
       "      <th>1</th>\n",
       "      <td>9nJlVsm9GEz6DFhK5ckaYA</td>\n",
       "      <td>cafe-flora-seattle</td>\n",
       "      <td>Cafe Flora</td>\n",
       "      <td>https://s3-media1.fl.yelpcdn.com/bphoto/M33I7s...</td>\n",
       "      <td>False</td>\n",
       "      <td>https://www.yelp.com/biz/cafe-flora-seattle?ad...</td>\n",
       "      <td>1433</td>\n",
       "      <td>[{'alias': 'vegetarian', 'title': 'Vegetarian'...</td>\n",
       "      <td>4.0</td>\n",
       "      <td>{'latitude': 47.62397, 'longitude': -122.29521}</td>\n",
       "      <td>[delivery]</td>\n",
       "      <td>$$</td>\n",
       "      <td>{'address1': '2901 E Madison St', 'address2': ...</td>\n",
       "      <td>+12063259100</td>\n",
       "      <td>(206) 325-9100</td>\n",
       "      <td>3033.471253</td>\n",
       "    </tr>\n",
       "    <tr>\n",
       "      <th>2</th>\n",
       "      <td>0jZIOA_9H3YOsbiyoyRWrA</td>\n",
       "      <td>seattle-lotus-vegetarian-restaurant-seattle</td>\n",
       "      <td>Seattle Lotus Vegetarian Restaurant</td>\n",
       "      <td>https://s3-media1.fl.yelpcdn.com/bphoto/GWvM2a...</td>\n",
       "      <td>False</td>\n",
       "      <td>https://www.yelp.com/biz/seattle-lotus-vegetar...</td>\n",
       "      <td>176</td>\n",
       "      <td>[{'alias': 'vegetarian', 'title': 'Vegetarian'...</td>\n",
       "      <td>4.5</td>\n",
       "      <td>{'latitude': 47.5088066528403, 'longitude': -1...</td>\n",
       "      <td>[pickup]</td>\n",
       "      <td>$$</td>\n",
       "      <td>{'address1': '10439 16th Ave SW', 'address2': ...</td>\n",
       "      <td>+12064666345</td>\n",
       "      <td>(206) 466-6345</td>\n",
       "      <td>13054.220036</td>\n",
       "    </tr>\n",
       "    <tr>\n",
       "      <th>3</th>\n",
       "      <td>mOybprI4rEcRQUxBqAhupw</td>\n",
       "      <td>harvest-beat-seattle</td>\n",
       "      <td>Harvest Beat</td>\n",
       "      <td>https://s3-media3.fl.yelpcdn.com/bphoto/KVq5tn...</td>\n",
       "      <td>False</td>\n",
       "      <td>https://www.yelp.com/biz/harvest-beat-seattle?...</td>\n",
       "      <td>230</td>\n",
       "      <td>[{'alias': 'vegetarian', 'title': 'Vegetarian'...</td>\n",
       "      <td>4.5</td>\n",
       "      <td>{'latitude': 47.66115, 'longitude': -122.33678}</td>\n",
       "      <td>[]</td>\n",
       "      <td>$$$</td>\n",
       "      <td>{'address1': '1711 N 45th St', 'address2': '',...</td>\n",
       "      <td>+12065471348</td>\n",
       "      <td>(206) 547-1348</td>\n",
       "      <td>3976.167517</td>\n",
       "    </tr>\n",
       "    <tr>\n",
       "      <th>4</th>\n",
       "      <td>7eoMEbus8ANI15VuYzUNkQ</td>\n",
       "      <td>moonlight-cafe-seattle</td>\n",
       "      <td>Moonlight Cafe</td>\n",
       "      <td>https://s3-media4.fl.yelpcdn.com/bphoto/J2m1Jy...</td>\n",
       "      <td>False</td>\n",
       "      <td>https://www.yelp.com/biz/moonlight-cafe-seattl...</td>\n",
       "      <td>451</td>\n",
       "      <td>[{'alias': 'vegetarian', 'title': 'Vegetarian'...</td>\n",
       "      <td>4.0</td>\n",
       "      <td>{'latitude': 47.59901, 'longitude': -122.30672}</td>\n",
       "      <td>[delivery, pickup]</td>\n",
       "      <td>$</td>\n",
       "      <td>{'address1': '1919 S Jackson St', 'address2': ...</td>\n",
       "      <td>+12064857313</td>\n",
       "      <td>(206) 485-7313</td>\n",
       "      <td>3654.663113</td>\n",
       "    </tr>\n",
       "  </tbody>\n",
       "</table>\n",
       "</div>"
      ],
      "text/plain": [
       "                       id                                        alias  \\\n",
       "0  djjEdAZkY4eyzI3_8TBLVA                        plum-bistro-seattle-2   \n",
       "1  9nJlVsm9GEz6DFhK5ckaYA                           cafe-flora-seattle   \n",
       "2  0jZIOA_9H3YOsbiyoyRWrA  seattle-lotus-vegetarian-restaurant-seattle   \n",
       "3  mOybprI4rEcRQUxBqAhupw                         harvest-beat-seattle   \n",
       "4  7eoMEbus8ANI15VuYzUNkQ                       moonlight-cafe-seattle   \n",
       "\n",
       "                                  name  \\\n",
       "0                          Plum Bistro   \n",
       "1                           Cafe Flora   \n",
       "2  Seattle Lotus Vegetarian Restaurant   \n",
       "3                         Harvest Beat   \n",
       "4                       Moonlight Cafe   \n",
       "\n",
       "                                           image_url  is_closed  \\\n",
       "0  https://s3-media3.fl.yelpcdn.com/bphoto/DlnguN...      False   \n",
       "1  https://s3-media1.fl.yelpcdn.com/bphoto/M33I7s...      False   \n",
       "2  https://s3-media1.fl.yelpcdn.com/bphoto/GWvM2a...      False   \n",
       "3  https://s3-media3.fl.yelpcdn.com/bphoto/KVq5tn...      False   \n",
       "4  https://s3-media4.fl.yelpcdn.com/bphoto/J2m1Jy...      False   \n",
       "\n",
       "                                                 url  review_count  \\\n",
       "0  https://www.yelp.com/biz/plum-bistro-seattle-2...          1802   \n",
       "1  https://www.yelp.com/biz/cafe-flora-seattle?ad...          1433   \n",
       "2  https://www.yelp.com/biz/seattle-lotus-vegetar...           176   \n",
       "3  https://www.yelp.com/biz/harvest-beat-seattle?...           230   \n",
       "4  https://www.yelp.com/biz/moonlight-cafe-seattl...           451   \n",
       "\n",
       "                                          categories  rating  \\\n",
       "0             [{'alias': 'vegan', 'title': 'Vegan'}]     4.0   \n",
       "1  [{'alias': 'vegetarian', 'title': 'Vegetarian'...     4.0   \n",
       "2  [{'alias': 'vegetarian', 'title': 'Vegetarian'...     4.5   \n",
       "3  [{'alias': 'vegetarian', 'title': 'Vegetarian'...     4.5   \n",
       "4  [{'alias': 'vegetarian', 'title': 'Vegetarian'...     4.0   \n",
       "\n",
       "                                         coordinates        transactions  \\\n",
       "0  {'latitude': 47.6137675, 'longitude': -122.317...  [delivery, pickup]   \n",
       "1    {'latitude': 47.62397, 'longitude': -122.29521}          [delivery]   \n",
       "2  {'latitude': 47.5088066528403, 'longitude': -1...            [pickup]   \n",
       "3    {'latitude': 47.66115, 'longitude': -122.33678}                  []   \n",
       "4    {'latitude': 47.59901, 'longitude': -122.30672}  [delivery, pickup]   \n",
       "\n",
       "  price                                           location         phone  \\\n",
       "0    $$  {'address1': '1429 12th Ave', 'address2': '', ...  +12068385333   \n",
       "1    $$  {'address1': '2901 E Madison St', 'address2': ...  +12063259100   \n",
       "2    $$  {'address1': '10439 16th Ave SW', 'address2': ...  +12064666345   \n",
       "3   $$$  {'address1': '1711 N 45th St', 'address2': '',...  +12065471348   \n",
       "4     $  {'address1': '1919 S Jackson St', 'address2': ...  +12064857313   \n",
       "\n",
       "    display_phone      distance  \n",
       "0  (206) 838-5333   1888.191530  \n",
       "1  (206) 325-9100   3033.471253  \n",
       "2  (206) 466-6345  13054.220036  \n",
       "3  (206) 547-1348   3976.167517  \n",
       "4  (206) 485-7313   3654.663113  "
      ]
     },
     "metadata": {},
     "output_type": "display_data"
    },
    {
     "data": {
      "text/html": [
       "<div>\n",
       "<style scoped>\n",
       "    .dataframe tbody tr th:only-of-type {\n",
       "        vertical-align: middle;\n",
       "    }\n",
       "\n",
       "    .dataframe tbody tr th {\n",
       "        vertical-align: top;\n",
       "    }\n",
       "\n",
       "    .dataframe thead th {\n",
       "        text-align: right;\n",
       "    }\n",
       "</style>\n",
       "<table border=\"1\" class=\"dataframe\">\n",
       "  <thead>\n",
       "    <tr style=\"text-align: right;\">\n",
       "      <th></th>\n",
       "      <th>id</th>\n",
       "      <th>alias</th>\n",
       "      <th>name</th>\n",
       "      <th>image_url</th>\n",
       "      <th>is_closed</th>\n",
       "      <th>url</th>\n",
       "      <th>review_count</th>\n",
       "      <th>categories</th>\n",
       "      <th>rating</th>\n",
       "      <th>coordinates</th>\n",
       "      <th>transactions</th>\n",
       "      <th>price</th>\n",
       "      <th>location</th>\n",
       "      <th>phone</th>\n",
       "      <th>display_phone</th>\n",
       "      <th>distance</th>\n",
       "    </tr>\n",
       "  </thead>\n",
       "  <tbody>\n",
       "    <tr>\n",
       "      <th>995</th>\n",
       "      <td>wOzJie9tDawjt52-Tc4i5A</td>\n",
       "      <td>mammoth-seattle-4</td>\n",
       "      <td>Mammoth</td>\n",
       "      <td>https://s3-media3.fl.yelpcdn.com/bphoto/V22hJ7...</td>\n",
       "      <td>False</td>\n",
       "      <td>https://www.yelp.com/biz/mammoth-seattle-4?adj...</td>\n",
       "      <td>13</td>\n",
       "      <td>[{'alias': 'sandwiches', 'title': 'Sandwiches'...</td>\n",
       "      <td>4.5</td>\n",
       "      <td>{'latitude': 47.66622504829018, 'longitude': -...</td>\n",
       "      <td>[delivery]</td>\n",
       "      <td>NaN</td>\n",
       "      <td>{'address1': '5239 Ballard Ave NW', 'address2'...</td>\n",
       "      <td>+12069461065</td>\n",
       "      <td>(206) 946-1065</td>\n",
       "      <td>5780.690653</td>\n",
       "    </tr>\n",
       "    <tr>\n",
       "      <th>996</th>\n",
       "      <td>_4rv6ssRb9RpYdXQZgEQOw</td>\n",
       "      <td>spice-king-renton</td>\n",
       "      <td>Spice King</td>\n",
       "      <td>https://s3-media2.fl.yelpcdn.com/bphoto/BrfnJ1...</td>\n",
       "      <td>False</td>\n",
       "      <td>https://www.yelp.com/biz/spice-king-renton?adj...</td>\n",
       "      <td>486</td>\n",
       "      <td>[{'alias': 'indpak', 'title': 'Indian'}]</td>\n",
       "      <td>4.0</td>\n",
       "      <td>{'latitude': 47.47316, 'longitude': -122.22257}</td>\n",
       "      <td>[pickup]</td>\n",
       "      <td>$</td>\n",
       "      <td>{'address1': '720 Lind Ave SW', 'address2': ''...</td>\n",
       "      <td>+14252266700</td>\n",
       "      <td>(425) 226-6700</td>\n",
       "      <td>18930.939469</td>\n",
       "    </tr>\n",
       "    <tr>\n",
       "      <th>997</th>\n",
       "      <td>Bc0odaNt6wsRPzRQQ63QEw</td>\n",
       "      <td>bakery-nouveau-seattle</td>\n",
       "      <td>Bakery Nouveau</td>\n",
       "      <td>https://s3-media2.fl.yelpcdn.com/bphoto/JizGW2...</td>\n",
       "      <td>False</td>\n",
       "      <td>https://www.yelp.com/biz/bakery-nouveau-seattl...</td>\n",
       "      <td>1575</td>\n",
       "      <td>[{'alias': 'bakeries', 'title': 'Bakeries'}, {...</td>\n",
       "      <td>4.5</td>\n",
       "      <td>{'latitude': 47.5600625713343, 'longitude': -1...</td>\n",
       "      <td>[delivery]</td>\n",
       "      <td>$</td>\n",
       "      <td>{'address1': '4737 California Ave SW', 'addres...</td>\n",
       "      <td>+12069230534</td>\n",
       "      <td>(206) 923-0534</td>\n",
       "      <td>8227.186162</td>\n",
       "    </tr>\n",
       "    <tr>\n",
       "      <th>998</th>\n",
       "      <td>ngmgbNUMBO576sbYiH5v0w</td>\n",
       "      <td>salt-district-seattle-3</td>\n",
       "      <td>Salt District</td>\n",
       "      <td>https://s3-media3.fl.yelpcdn.com/bphoto/ZmWq2r...</td>\n",
       "      <td>False</td>\n",
       "      <td>https://www.yelp.com/biz/salt-district-seattle...</td>\n",
       "      <td>37</td>\n",
       "      <td>[{'alias': 'italian', 'title': 'Italian'}]</td>\n",
       "      <td>3.5</td>\n",
       "      <td>{'latitude': 47.60454, 'longitude': -122.33901}</td>\n",
       "      <td>[]</td>\n",
       "      <td>NaN</td>\n",
       "      <td>{'address1': '1101 Alaskan Way', 'address2': N...</td>\n",
       "      <td>+12067095763</td>\n",
       "      <td>(206) 709-5763</td>\n",
       "      <td>2317.428864</td>\n",
       "    </tr>\n",
       "    <tr>\n",
       "      <th>999</th>\n",
       "      <td>vKgyKPKRuveMB23UPwk97Q</td>\n",
       "      <td>leenas-cafe-shoreline</td>\n",
       "      <td>Leena's Cafe</td>\n",
       "      <td>https://s3-media3.fl.yelpcdn.com/bphoto/M_L6Kr...</td>\n",
       "      <td>False</td>\n",
       "      <td>https://www.yelp.com/biz/leenas-cafe-shoreline...</td>\n",
       "      <td>328</td>\n",
       "      <td>[{'alias': 'breakfast_brunch', 'title': 'Break...</td>\n",
       "      <td>3.5</td>\n",
       "      <td>{'latitude': 47.75846, 'longitude': -122.3131}</td>\n",
       "      <td>[delivery]</td>\n",
       "      <td>$$</td>\n",
       "      <td>{'address1': '17732 15th Ave NE', 'address2': ...</td>\n",
       "      <td>+12063644919</td>\n",
       "      <td>(206) 364-4919</td>\n",
       "      <td>14887.447557</td>\n",
       "    </tr>\n",
       "  </tbody>\n",
       "</table>\n",
       "</div>"
      ],
      "text/plain": [
       "                         id                    alias            name  \\\n",
       "995  wOzJie9tDawjt52-Tc4i5A        mammoth-seattle-4         Mammoth   \n",
       "996  _4rv6ssRb9RpYdXQZgEQOw        spice-king-renton      Spice King   \n",
       "997  Bc0odaNt6wsRPzRQQ63QEw   bakery-nouveau-seattle  Bakery Nouveau   \n",
       "998  ngmgbNUMBO576sbYiH5v0w  salt-district-seattle-3   Salt District   \n",
       "999  vKgyKPKRuveMB23UPwk97Q    leenas-cafe-shoreline    Leena's Cafe   \n",
       "\n",
       "                                             image_url  is_closed  \\\n",
       "995  https://s3-media3.fl.yelpcdn.com/bphoto/V22hJ7...      False   \n",
       "996  https://s3-media2.fl.yelpcdn.com/bphoto/BrfnJ1...      False   \n",
       "997  https://s3-media2.fl.yelpcdn.com/bphoto/JizGW2...      False   \n",
       "998  https://s3-media3.fl.yelpcdn.com/bphoto/ZmWq2r...      False   \n",
       "999  https://s3-media3.fl.yelpcdn.com/bphoto/M_L6Kr...      False   \n",
       "\n",
       "                                                   url  review_count  \\\n",
       "995  https://www.yelp.com/biz/mammoth-seattle-4?adj...            13   \n",
       "996  https://www.yelp.com/biz/spice-king-renton?adj...           486   \n",
       "997  https://www.yelp.com/biz/bakery-nouveau-seattl...          1575   \n",
       "998  https://www.yelp.com/biz/salt-district-seattle...            37   \n",
       "999  https://www.yelp.com/biz/leenas-cafe-shoreline...           328   \n",
       "\n",
       "                                            categories  rating  \\\n",
       "995  [{'alias': 'sandwiches', 'title': 'Sandwiches'...     4.5   \n",
       "996           [{'alias': 'indpak', 'title': 'Indian'}]     4.0   \n",
       "997  [{'alias': 'bakeries', 'title': 'Bakeries'}, {...     4.5   \n",
       "998         [{'alias': 'italian', 'title': 'Italian'}]     3.5   \n",
       "999  [{'alias': 'breakfast_brunch', 'title': 'Break...     3.5   \n",
       "\n",
       "                                           coordinates transactions price  \\\n",
       "995  {'latitude': 47.66622504829018, 'longitude': -...   [delivery]   NaN   \n",
       "996    {'latitude': 47.47316, 'longitude': -122.22257}     [pickup]     $   \n",
       "997  {'latitude': 47.5600625713343, 'longitude': -1...   [delivery]     $   \n",
       "998    {'latitude': 47.60454, 'longitude': -122.33901}           []   NaN   \n",
       "999     {'latitude': 47.75846, 'longitude': -122.3131}   [delivery]    $$   \n",
       "\n",
       "                                              location         phone  \\\n",
       "995  {'address1': '5239 Ballard Ave NW', 'address2'...  +12069461065   \n",
       "996  {'address1': '720 Lind Ave SW', 'address2': ''...  +14252266700   \n",
       "997  {'address1': '4737 California Ave SW', 'addres...  +12069230534   \n",
       "998  {'address1': '1101 Alaskan Way', 'address2': N...  +12067095763   \n",
       "999  {'address1': '17732 15th Ave NE', 'address2': ...  +12063644919   \n",
       "\n",
       "      display_phone      distance  \n",
       "995  (206) 946-1065   5780.690653  \n",
       "996  (425) 226-6700  18930.939469  \n",
       "997  (206) 923-0534   8227.186162  \n",
       "998  (206) 709-5763   2317.428864  \n",
       "999  (206) 364-4919  14887.447557  "
      ]
     },
     "metadata": {},
     "output_type": "display_data"
    }
   ],
   "source": [
    "# Put the results into a data frame\n",
    "df = pd.read_json(json_file)\n",
    "display(df.head(), df.tail())"
   ]
  },
  {
   "cell_type": "code",
   "execution_count": 21,
   "id": "b1609ac5",
   "metadata": {},
   "outputs": [
    {
     "data": {
      "text/plain": [
       "10"
      ]
     },
     "execution_count": 21,
     "metadata": {},
     "output_type": "execute_result"
    }
   ],
   "source": [
    "# Check for duplicates\n",
    "df.duplicated(subset = 'id').sum()"
   ]
  },
  {
   "cell_type": "code",
   "execution_count": 24,
   "id": "9f760a9e",
   "metadata": {},
   "outputs": [
    {
     "data": {
      "text/plain": [
       "0"
      ]
     },
     "execution_count": 24,
     "metadata": {},
     "output_type": "execute_result"
    }
   ],
   "source": [
    "# Drop the duplicates\n",
    "df.drop_duplicates(subset = 'id', inplace = True)\n",
    "\n",
    "# Confirm the duplicates were dropped\n",
    "df.duplicated(subset = 'id').sum()"
   ]
  },
  {
   "cell_type": "code",
   "execution_count": 26,
   "id": "5ddf718d",
   "metadata": {},
   "outputs": [],
   "source": [
    "# Save the data frame to a compressed csv file\n",
    "df.to_csv('final_results_seattle_vegetarian.csv.gz',\n",
    "          compression = 'gzip',\n",
    "          index = False)"
   ]
  }
 ],
 "metadata": {
  "kernelspec": {
   "display_name": "Python (dojo-env)",
   "language": "python",
   "name": "dojo-env"
  },
  "language_info": {
   "codemirror_mode": {
    "name": "ipython",
    "version": 3
   },
   "file_extension": ".py",
   "mimetype": "text/x-python",
   "name": "python",
   "nbconvert_exporter": "python",
   "pygments_lexer": "ipython3",
   "version": "3.8.13"
  },
  "toc": {
   "base_numbering": 1,
   "nav_menu": {},
   "number_sections": false,
   "sideBar": true,
   "skip_h1_title": false,
   "title_cell": "Table of Contents",
   "title_sidebar": "Contents",
   "toc_cell": false,
   "toc_position": {},
   "toc_section_display": true,
   "toc_window_display": false
  }
 },
 "nbformat": 4,
 "nbformat_minor": 5
}

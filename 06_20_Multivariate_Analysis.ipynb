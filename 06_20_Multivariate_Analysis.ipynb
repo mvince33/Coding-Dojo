{
  "nbformat": 4,
  "nbformat_minor": 0,
  "metadata": {
    "colab": {
      "name": "06.20 Multivariate Analysis.ipynb",
      "provenance": [],
      "collapsed_sections": [],
      "include_colab_link": true
    },
    "kernelspec": {
      "name": "python3",
      "display_name": "Python 3"
    },
    "language_info": {
      "name": "python"
    }
  },
  "cells": [
    {
      "cell_type": "markdown",
      "metadata": {
        "id": "view-in-github",
        "colab_type": "text"
      },
      "source": [
        "<a href=\"https://colab.research.google.com/github/mvince33/Coding-Dojo/blob/main/06_20_Multivariate_Analysis.ipynb\" target=\"_parent\"><img src=\"https://colab.research.google.com/assets/colab-badge.svg\" alt=\"Open In Colab\"/></a>"
      ]
    },
    {
      "cell_type": "markdown",
      "metadata": {
        "id": "MOwe48pFQgUW"
      },
      "source": [
        "# Multivariate Analysis & Visualizations"
      ]
    },
    {
      "cell_type": "code",
      "source": [
        "from google.colab import drive\n",
        "drive.mount('/content/drive')"
      ],
      "metadata": {
        "colab": {
          "base_uri": "https://localhost:8080/"
        },
        "id": "fkorRvwtqs8C",
        "outputId": "6fd74f94-2985-4359-b166-883a62263552"
      },
      "execution_count": null,
      "outputs": [
        {
          "output_type": "stream",
          "name": "stdout",
          "text": [
            "Mounted at /content/drive\n"
          ]
        }
      ]
    },
    {
      "cell_type": "markdown",
      "metadata": {
        "id": "iC8V1_7ZRDOG"
      },
      "source": [
        "Load the [cleaned medical data](https://drive.google.com/file/d/15QvGnjlYvVd8bxl-Fl_EPVgmfvgATGZB/view?usp=sharing) using the url in the cell below:"
      ]
    },
    {
      "cell_type": "code",
      "metadata": {
        "id": "B2D-LPkcQj01"
      },
      "source": [
        "## excel file url\n",
        "url =\"https://docs.google.com/spreadsheets/d/e/2PACX-1vRUYiMWJ3WI6lrrG8rdRFy49aaKSqtlZhbqHodoJfQeDnWj1bgvdSCVM0tnlTkExjhSv7f0LSfIiTVU/pub?output=xlsx\""
      ],
      "execution_count": null,
      "outputs": []
    },
    {
      "cell_type": "code",
      "metadata": {
        "id": "KlJ03CAGSg-j"
      },
      "source": [
        "import pandas as pd\n",
        "import numpy as np\n",
        "import matplotlib.pyplot as plt\n",
        "import seaborn as sns"
      ],
      "execution_count": null,
      "outputs": []
    },
    {
      "cell_type": "code",
      "source": [
        "df = pd.read_excel(url)\n",
        "df.head()"
      ],
      "metadata": {
        "colab": {
          "base_uri": "https://localhost:8080/",
          "height": 317
        },
        "id": "4Q0cp6t0q7Uc",
        "outputId": "bd715d92-e179-44a4-829f-8a7bb27d4854"
      },
      "execution_count": null,
      "outputs": [
        {
          "output_type": "execute_result",
          "data": {
            "text/plain": [
              "  State       Lat       Lng      Area  Children   Age    Income  \\\n",
              "0    AL  34.34960 -86.72508  Suburban       1.0  53.0  86575.93   \n",
              "1    FL  30.84513 -85.22907     Urban       3.0  51.0  46805.99   \n",
              "2    SD  43.54321 -96.63772  Suburban       3.0  53.0  14370.14   \n",
              "3    MN  43.89744 -93.51479  Suburban       0.0  78.0  39741.49   \n",
              "4    OK  35.67302 -95.19180     Urban       3.0  76.0  81999.88   \n",
              "\n",
              "         Marital  Gender  ReAdmis  ...  Hyperlipidemia  BackPain  Anxiety  \\\n",
              "0       Divorced    Male      0.0  ...             0.0       1.0      1.0   \n",
              "1        Married  Female      0.0  ...             0.0       0.0      0.0   \n",
              "2        Widowed  Female      0.0  ...             0.0       0.0      0.0   \n",
              "3        Married    Male      0.0  ...             0.0       0.0      0.0   \n",
              "4  Never Married    Male      0.0  ...             0.0       1.0      0.0   \n",
              "\n",
              "   Allergic_rhinitis  Reflux_esophagitis Asthma     Services  Initial_days  \\\n",
              "0                1.0                 0.0    1.0   Blood Work     10.585770   \n",
              "1                0.0                 1.0    0.0  Intravenous     15.129562   \n",
              "2                0.0                 0.0    0.0   Blood Work      4.772177   \n",
              "3                0.0                 1.0    1.0   Blood Work      1.714879   \n",
              "4                1.0                 0.0    0.0   Blood Work      5.957250   \n",
              "\n",
              "   Base_charge  Additional_charges  \n",
              "0  3726.702860         17939.40342  \n",
              "1  4193.190458         17612.99812  \n",
              "2  2434.234222         17505.19246  \n",
              "3  2127.830423         12993.43735  \n",
              "4  2636.691180         12742.58991  \n",
              "\n",
              "[5 rows x 32 columns]"
            ],
            "text/html": [
              "\n",
              "  <div id=\"df-7467aaf2-c454-42b9-9e19-6f78f42ba58e\">\n",
              "    <div class=\"colab-df-container\">\n",
              "      <div>\n",
              "<style scoped>\n",
              "    .dataframe tbody tr th:only-of-type {\n",
              "        vertical-align: middle;\n",
              "    }\n",
              "\n",
              "    .dataframe tbody tr th {\n",
              "        vertical-align: top;\n",
              "    }\n",
              "\n",
              "    .dataframe thead th {\n",
              "        text-align: right;\n",
              "    }\n",
              "</style>\n",
              "<table border=\"1\" class=\"dataframe\">\n",
              "  <thead>\n",
              "    <tr style=\"text-align: right;\">\n",
              "      <th></th>\n",
              "      <th>State</th>\n",
              "      <th>Lat</th>\n",
              "      <th>Lng</th>\n",
              "      <th>Area</th>\n",
              "      <th>Children</th>\n",
              "      <th>Age</th>\n",
              "      <th>Income</th>\n",
              "      <th>Marital</th>\n",
              "      <th>Gender</th>\n",
              "      <th>ReAdmis</th>\n",
              "      <th>...</th>\n",
              "      <th>Hyperlipidemia</th>\n",
              "      <th>BackPain</th>\n",
              "      <th>Anxiety</th>\n",
              "      <th>Allergic_rhinitis</th>\n",
              "      <th>Reflux_esophagitis</th>\n",
              "      <th>Asthma</th>\n",
              "      <th>Services</th>\n",
              "      <th>Initial_days</th>\n",
              "      <th>Base_charge</th>\n",
              "      <th>Additional_charges</th>\n",
              "    </tr>\n",
              "  </thead>\n",
              "  <tbody>\n",
              "    <tr>\n",
              "      <th>0</th>\n",
              "      <td>AL</td>\n",
              "      <td>34.34960</td>\n",
              "      <td>-86.72508</td>\n",
              "      <td>Suburban</td>\n",
              "      <td>1.0</td>\n",
              "      <td>53.0</td>\n",
              "      <td>86575.93</td>\n",
              "      <td>Divorced</td>\n",
              "      <td>Male</td>\n",
              "      <td>0.0</td>\n",
              "      <td>...</td>\n",
              "      <td>0.0</td>\n",
              "      <td>1.0</td>\n",
              "      <td>1.0</td>\n",
              "      <td>1.0</td>\n",
              "      <td>0.0</td>\n",
              "      <td>1.0</td>\n",
              "      <td>Blood Work</td>\n",
              "      <td>10.585770</td>\n",
              "      <td>3726.702860</td>\n",
              "      <td>17939.40342</td>\n",
              "    </tr>\n",
              "    <tr>\n",
              "      <th>1</th>\n",
              "      <td>FL</td>\n",
              "      <td>30.84513</td>\n",
              "      <td>-85.22907</td>\n",
              "      <td>Urban</td>\n",
              "      <td>3.0</td>\n",
              "      <td>51.0</td>\n",
              "      <td>46805.99</td>\n",
              "      <td>Married</td>\n",
              "      <td>Female</td>\n",
              "      <td>0.0</td>\n",
              "      <td>...</td>\n",
              "      <td>0.0</td>\n",
              "      <td>0.0</td>\n",
              "      <td>0.0</td>\n",
              "      <td>0.0</td>\n",
              "      <td>1.0</td>\n",
              "      <td>0.0</td>\n",
              "      <td>Intravenous</td>\n",
              "      <td>15.129562</td>\n",
              "      <td>4193.190458</td>\n",
              "      <td>17612.99812</td>\n",
              "    </tr>\n",
              "    <tr>\n",
              "      <th>2</th>\n",
              "      <td>SD</td>\n",
              "      <td>43.54321</td>\n",
              "      <td>-96.63772</td>\n",
              "      <td>Suburban</td>\n",
              "      <td>3.0</td>\n",
              "      <td>53.0</td>\n",
              "      <td>14370.14</td>\n",
              "      <td>Widowed</td>\n",
              "      <td>Female</td>\n",
              "      <td>0.0</td>\n",
              "      <td>...</td>\n",
              "      <td>0.0</td>\n",
              "      <td>0.0</td>\n",
              "      <td>0.0</td>\n",
              "      <td>0.0</td>\n",
              "      <td>0.0</td>\n",
              "      <td>0.0</td>\n",
              "      <td>Blood Work</td>\n",
              "      <td>4.772177</td>\n",
              "      <td>2434.234222</td>\n",
              "      <td>17505.19246</td>\n",
              "    </tr>\n",
              "    <tr>\n",
              "      <th>3</th>\n",
              "      <td>MN</td>\n",
              "      <td>43.89744</td>\n",
              "      <td>-93.51479</td>\n",
              "      <td>Suburban</td>\n",
              "      <td>0.0</td>\n",
              "      <td>78.0</td>\n",
              "      <td>39741.49</td>\n",
              "      <td>Married</td>\n",
              "      <td>Male</td>\n",
              "      <td>0.0</td>\n",
              "      <td>...</td>\n",
              "      <td>0.0</td>\n",
              "      <td>0.0</td>\n",
              "      <td>0.0</td>\n",
              "      <td>0.0</td>\n",
              "      <td>1.0</td>\n",
              "      <td>1.0</td>\n",
              "      <td>Blood Work</td>\n",
              "      <td>1.714879</td>\n",
              "      <td>2127.830423</td>\n",
              "      <td>12993.43735</td>\n",
              "    </tr>\n",
              "    <tr>\n",
              "      <th>4</th>\n",
              "      <td>OK</td>\n",
              "      <td>35.67302</td>\n",
              "      <td>-95.19180</td>\n",
              "      <td>Urban</td>\n",
              "      <td>3.0</td>\n",
              "      <td>76.0</td>\n",
              "      <td>81999.88</td>\n",
              "      <td>Never Married</td>\n",
              "      <td>Male</td>\n",
              "      <td>0.0</td>\n",
              "      <td>...</td>\n",
              "      <td>0.0</td>\n",
              "      <td>1.0</td>\n",
              "      <td>0.0</td>\n",
              "      <td>1.0</td>\n",
              "      <td>0.0</td>\n",
              "      <td>0.0</td>\n",
              "      <td>Blood Work</td>\n",
              "      <td>5.957250</td>\n",
              "      <td>2636.691180</td>\n",
              "      <td>12742.58991</td>\n",
              "    </tr>\n",
              "  </tbody>\n",
              "</table>\n",
              "<p>5 rows × 32 columns</p>\n",
              "</div>\n",
              "      <button class=\"colab-df-convert\" onclick=\"convertToInteractive('df-7467aaf2-c454-42b9-9e19-6f78f42ba58e')\"\n",
              "              title=\"Convert this dataframe to an interactive table.\"\n",
              "              style=\"display:none;\">\n",
              "        \n",
              "  <svg xmlns=\"http://www.w3.org/2000/svg\" height=\"24px\"viewBox=\"0 0 24 24\"\n",
              "       width=\"24px\">\n",
              "    <path d=\"M0 0h24v24H0V0z\" fill=\"none\"/>\n",
              "    <path d=\"M18.56 5.44l.94 2.06.94-2.06 2.06-.94-2.06-.94-.94-2.06-.94 2.06-2.06.94zm-11 1L8.5 8.5l.94-2.06 2.06-.94-2.06-.94L8.5 2.5l-.94 2.06-2.06.94zm10 10l.94 2.06.94-2.06 2.06-.94-2.06-.94-.94-2.06-.94 2.06-2.06.94z\"/><path d=\"M17.41 7.96l-1.37-1.37c-.4-.4-.92-.59-1.43-.59-.52 0-1.04.2-1.43.59L10.3 9.45l-7.72 7.72c-.78.78-.78 2.05 0 2.83L4 21.41c.39.39.9.59 1.41.59.51 0 1.02-.2 1.41-.59l7.78-7.78 2.81-2.81c.8-.78.8-2.07 0-2.86zM5.41 20L4 18.59l7.72-7.72 1.47 1.35L5.41 20z\"/>\n",
              "  </svg>\n",
              "      </button>\n",
              "      \n",
              "  <style>\n",
              "    .colab-df-container {\n",
              "      display:flex;\n",
              "      flex-wrap:wrap;\n",
              "      gap: 12px;\n",
              "    }\n",
              "\n",
              "    .colab-df-convert {\n",
              "      background-color: #E8F0FE;\n",
              "      border: none;\n",
              "      border-radius: 50%;\n",
              "      cursor: pointer;\n",
              "      display: none;\n",
              "      fill: #1967D2;\n",
              "      height: 32px;\n",
              "      padding: 0 0 0 0;\n",
              "      width: 32px;\n",
              "    }\n",
              "\n",
              "    .colab-df-convert:hover {\n",
              "      background-color: #E2EBFA;\n",
              "      box-shadow: 0px 1px 2px rgba(60, 64, 67, 0.3), 0px 1px 3px 1px rgba(60, 64, 67, 0.15);\n",
              "      fill: #174EA6;\n",
              "    }\n",
              "\n",
              "    [theme=dark] .colab-df-convert {\n",
              "      background-color: #3B4455;\n",
              "      fill: #D2E3FC;\n",
              "    }\n",
              "\n",
              "    [theme=dark] .colab-df-convert:hover {\n",
              "      background-color: #434B5C;\n",
              "      box-shadow: 0px 1px 3px 1px rgba(0, 0, 0, 0.15);\n",
              "      filter: drop-shadow(0px 1px 2px rgba(0, 0, 0, 0.3));\n",
              "      fill: #FFFFFF;\n",
              "    }\n",
              "  </style>\n",
              "\n",
              "      <script>\n",
              "        const buttonEl =\n",
              "          document.querySelector('#df-7467aaf2-c454-42b9-9e19-6f78f42ba58e button.colab-df-convert');\n",
              "        buttonEl.style.display =\n",
              "          google.colab.kernel.accessAllowed ? 'block' : 'none';\n",
              "\n",
              "        async function convertToInteractive(key) {\n",
              "          const element = document.querySelector('#df-7467aaf2-c454-42b9-9e19-6f78f42ba58e');\n",
              "          const dataTable =\n",
              "            await google.colab.kernel.invokeFunction('convertToInteractive',\n",
              "                                                     [key], {});\n",
              "          if (!dataTable) return;\n",
              "\n",
              "          const docLinkHtml = 'Like what you see? Visit the ' +\n",
              "            '<a target=\"_blank\" href=https://colab.research.google.com/notebooks/data_table.ipynb>data table notebook</a>'\n",
              "            + ' to learn more about interactive tables.';\n",
              "          element.innerHTML = '';\n",
              "          dataTable['output_type'] = 'display_data';\n",
              "          await google.colab.output.renderOutput(dataTable, element);\n",
              "          const docLink = document.createElement('div');\n",
              "          docLink.innerHTML = docLinkHtml;\n",
              "          element.appendChild(docLink);\n",
              "        }\n",
              "      </script>\n",
              "    </div>\n",
              "  </div>\n",
              "  "
            ]
          },
          "metadata": {},
          "execution_count": 4
        }
      ]
    },
    {
      "cell_type": "markdown",
      "metadata": {
        "id": "-r-S_llERcx0"
      },
      "source": [
        "1) This is a fun place to start!  Make a scatterplot with Lng on the x axis and Lat on the y axis. \n",
        "- You can use plt.scatter() or sns.scatterplot(). \n",
        "- I recommend looking up the documentation to see how to use these functions."
      ]
    },
    {
      "cell_type": "code",
      "metadata": {
        "id": "GoazgpexgZo8"
      },
      "source": [
        "# matplotlib"
      ],
      "execution_count": null,
      "outputs": []
    },
    {
      "cell_type": "code",
      "source": [
        "# seaborn"
      ],
      "metadata": {
        "id": "Jl1b4jxprRO-"
      },
      "execution_count": null,
      "outputs": []
    },
    {
      "cell_type": "markdown",
      "metadata": {
        "id": "ckzNYi78P2R5"
      },
      "source": [
        "2a) Make a scatterplot that shows the Base_charge vs. Initial_days\n",
        "- Use plt.scatter() or sns.scatterplot()\n",
        "\n",
        "- Is there a relationship between Base_charge and Initial_days?"
      ]
    },
    {
      "cell_type": "code",
      "metadata": {
        "id": "a1pHY0fGggy9"
      },
      "source": [
        "# There is a positive correlation between initial days and base charge\n",
        "# matplotlib\n"
      ],
      "execution_count": null,
      "outputs": []
    },
    {
      "cell_type": "code",
      "source": [
        "# seaborn\n"
      ],
      "metadata": {
        "id": "NiskGJWhrvst"
      },
      "execution_count": null,
      "outputs": []
    },
    {
      "cell_type": "markdown",
      "source": [
        "2a-Alternative) Make a [seaborn regplot](https://seaborn.pydata.org/generated/seaborn.regplot.html) that shows the Base_charge vs. Initial_days. \n",
        "What advantage does the regplot have over the scatterplot, in terms of identifying relationships?\n",
        "- Use sns.regplot(data=df, x=column name, y=column name, line_kws={'color':'black', 'ls': '--'})"
      ],
      "metadata": {
        "id": "LDFyqL4MocAw"
      }
    },
    {
      "cell_type": "code",
      "source": [
        ""
      ],
      "metadata": {
        "id": "zchtmLtCowWE"
      },
      "execution_count": null,
      "outputs": []
    },
    {
      "cell_type": "markdown",
      "metadata": {
        "id": "WPfW3h6voTnW"
      },
      "source": [
        "2b) Make a scatterplot that shows the Base_charge vs. Initial days that is color-coded based on the complication risk. \n",
        "What have you learned about complication risk, days and charge?\n",
        "- Use sns.scatterplot() using the hue argument for the third variable."
      ]
    },
    {
      "cell_type": "code",
      "metadata": {
        "id": "N-vo9bSOp57F"
      },
      "source": [
        ""
      ],
      "execution_count": null,
      "outputs": []
    },
    {
      "cell_type": "markdown",
      "source": [
        "2b) Make an lmplot that shows the Base_charge vs. Initial days that is color-coded based on the complication risk. \n",
        "- Use sns.lmplot() using the hue argument for the third variable.\n",
        "- Does this graph have any advantage over the previous scatterplot graph?\n"
      ],
      "metadata": {
        "id": "tdCyj-kyvYek"
      }
    },
    {
      "cell_type": "code",
      "source": [
        ""
      ],
      "metadata": {
        "id": "xAqxoy6-s4Uz"
      },
      "execution_count": null,
      "outputs": []
    },
    {
      "cell_type": "markdown",
      "metadata": {
        "id": "KqWpVFHFQHbT"
      },
      "source": [
        "3) Make a barchart to show the average initial days for those with each level of complication risk. (hint: use groupby to groupby the Complication Risk and find the average of the initial days.) \n",
        "- If you need help with this, refer to slides 24 and 25 in the presentation."
      ]
    },
    {
      "cell_type": "code",
      "metadata": {
        "id": "n1fq2CawUGIE"
      },
      "source": [
        ""
      ],
      "execution_count": null,
      "outputs": []
    },
    {
      "cell_type": "code",
      "metadata": {
        "id": "g_9MEuEPOeye"
      },
      "source": [
        ""
      ],
      "execution_count": null,
      "outputs": []
    },
    {
      "cell_type": "markdown",
      "source": [
        "Make the same barchart from 3) using seaborn. Set x equal to complication risk, y equal to initial days and use the order argument for low, medium, high\n",
        "- sns.barplot(data=df, x=column name, y=column name, order=['Low', 'Medium', 'High'])"
      ],
      "metadata": {
        "id": "TVTau3QPwPfC"
      }
    },
    {
      "cell_type": "code",
      "source": [
        "#seaborn\n"
      ],
      "metadata": {
        "id": "YVGzrxB_tehN"
      },
      "execution_count": null,
      "outputs": []
    },
    {
      "cell_type": "markdown",
      "metadata": {
        "id": "o5CjSLBTONRj"
      },
      "source": [
        "4a) Create a filter to limit the dataset to only those who have high blood pressure (1 = yes, 0 = no).  \n",
        "\n",
        "How many people have high blood pressure? (Hint: Find the length of your filter)\n"
      ]
    },
    {
      "cell_type": "code",
      "metadata": {
        "id": "eHSjxGGqONCV"
      },
      "source": [
        ""
      ],
      "execution_count": null,
      "outputs": []
    },
    {
      "cell_type": "markdown",
      "metadata": {
        "id": "sQPgn-kHR7eM"
      },
      "source": [
        "\n",
        "4b) Now create a bar chart that shows the service received for only those who have high blood pressure.  \n",
        "- filter['Column name'].value_counts().plot(kind='bar')"
      ]
    },
    {
      "cell_type": "code",
      "metadata": {
        "id": "qzd8YZ0BWXbS"
      },
      "source": [
        ""
      ],
      "execution_count": null,
      "outputs": []
    },
    {
      "cell_type": "markdown",
      "source": [
        "Now create the same graph using seaborn.\n",
        "- sns.countplot(data=filter, x='column name')"
      ],
      "metadata": {
        "id": "y6V-LheW19dt"
      }
    },
    {
      "cell_type": "code",
      "source": [
        "# seaborn\n"
      ],
      "metadata": {
        "id": "D6GUWcNuuKfm"
      },
      "execution_count": null,
      "outputs": []
    },
    {
      "cell_type": "markdown",
      "metadata": {
        "id": "LUoxgZJRQe4B"
      },
      "source": [
        "5) Create a heatmap to show any potential correlations in this data\n",
        "- If you need assistance with this, refer to slide 20 in the presentation"
      ]
    },
    {
      "cell_type": "code",
      "metadata": {
        "id": "JQ5G87W2OnIF"
      },
      "source": [
        ""
      ],
      "execution_count": null,
      "outputs": []
    },
    {
      "cell_type": "markdown",
      "metadata": {
        "id": "UgPuFIRuqfQd"
      },
      "source": [
        "6) Make a multivariate boxplot graph to compare the distribution of income by gender.\n",
        "- Use pandas to create the boxplot.\n",
        "- df.boxplot(by='column name', column = 'column name', grid = False)"
      ]
    },
    {
      "cell_type": "code",
      "metadata": {
        "id": "0GWSbB7vvht5"
      },
      "source": [
        "# pandas \n"
      ],
      "execution_count": null,
      "outputs": []
    },
    {
      "cell_type": "markdown",
      "metadata": {
        "id": "E6VFDx8qrdma"
      },
      "source": [
        "Now create a boxplot using seaborn.\n",
        "- sns.boxplot()"
      ]
    },
    {
      "cell_type": "code",
      "metadata": {
        "id": "k-Yb7_xK66yH"
      },
      "source": [
        "# seaborn"
      ],
      "execution_count": null,
      "outputs": []
    },
    {
      "cell_type": "code",
      "source": [
        ""
      ],
      "metadata": {
        "id": "Cxu8YxTsu_fP"
      },
      "execution_count": null,
      "outputs": []
    }
  ]
}
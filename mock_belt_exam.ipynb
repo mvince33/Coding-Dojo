{
  "nbformat": 4,
  "nbformat_minor": 0,
  "metadata": {
    "colab": {
      "name": "mock_belt_exam.ipynb",
      "provenance": [],
      "mount_file_id": "https://github.com/mvince33/Coding-Dojo/blob/main/mock_belt_exam.ipynb",
      "authorship_tag": "ABX9TyOAbrMSFF6S23Vv/kFb87Yn",
      "include_colab_link": true
    },
    "kernelspec": {
      "name": "python3",
      "display_name": "Python 3"
    },
    "language_info": {
      "name": "python"
    }
  },
  "cells": [
    {
      "cell_type": "markdown",
      "metadata": {
        "id": "view-in-github",
        "colab_type": "text"
      },
      "source": [
        "<a href=\"https://colab.research.google.com/github/mvince33/Coding-Dojo/blob/main/mock_belt_exam.ipynb\" target=\"_parent\"><img src=\"https://colab.research.google.com/assets/colab-badge.svg\" alt=\"Open In Colab\"/></a>"
      ]
    },
    {
      "cell_type": "code",
      "execution_count": 12,
      "metadata": {
        "id": "c1rKl_dk8V3r"
      },
      "outputs": [],
      "source": [
        "from google.colab import drive\n",
        "import numpy as np\n",
        "import pandas as pd\n",
        "import matplotlib.pyplot as plt"
      ]
    },
    {
      "cell_type": "code",
      "source": [
        "path = '/content/drive/MyDrive/Coding Dojo/03 Week 3: Exploratory Viz/literacy_rates_updated.csv'\n",
        "df = pd.read_csv(path)\n",
        "df.head()"
      ],
      "metadata": {
        "colab": {
          "base_uri": "https://localhost:8080/",
          "height": 206
        },
        "id": "j2qmltnaBglm",
        "outputId": "ae4a5b79-8470-4791-fc34-813188502b79"
      },
      "execution_count": 13,
      "outputs": [
        {
          "output_type": "execute_result",
          "data": {
            "text/plain": [
              "                      Region      Country  Year    Age  Gender Literacy rate\n",
              "0  Central and Southern Asia  Afghanistan  2011    <15  female     0.1761206\n",
              "1  Central and Southern Asia  Afghanistan  2011    <15    male      0.454171\n",
              "2                        NaN  Afghanistan  2011  15-24  female     0.3211322\n",
              "3                        NaN  Afghanistan  2011  15-24    male     0.6187907\n",
              "4  Central and Southern Asia  Afghanistan  2011  25-64  female     0.0841276"
            ],
            "text/html": [
              "\n",
              "  <div id=\"df-daa609a6-99e7-434f-9015-b0e647ef5c6a\">\n",
              "    <div class=\"colab-df-container\">\n",
              "      <div>\n",
              "<style scoped>\n",
              "    .dataframe tbody tr th:only-of-type {\n",
              "        vertical-align: middle;\n",
              "    }\n",
              "\n",
              "    .dataframe tbody tr th {\n",
              "        vertical-align: top;\n",
              "    }\n",
              "\n",
              "    .dataframe thead th {\n",
              "        text-align: right;\n",
              "    }\n",
              "</style>\n",
              "<table border=\"1\" class=\"dataframe\">\n",
              "  <thead>\n",
              "    <tr style=\"text-align: right;\">\n",
              "      <th></th>\n",
              "      <th>Region</th>\n",
              "      <th>Country</th>\n",
              "      <th>Year</th>\n",
              "      <th>Age</th>\n",
              "      <th>Gender</th>\n",
              "      <th>Literacy rate</th>\n",
              "    </tr>\n",
              "  </thead>\n",
              "  <tbody>\n",
              "    <tr>\n",
              "      <th>0</th>\n",
              "      <td>Central and Southern Asia</td>\n",
              "      <td>Afghanistan</td>\n",
              "      <td>2011</td>\n",
              "      <td>&lt;15</td>\n",
              "      <td>female</td>\n",
              "      <td>0.1761206</td>\n",
              "    </tr>\n",
              "    <tr>\n",
              "      <th>1</th>\n",
              "      <td>Central and Southern Asia</td>\n",
              "      <td>Afghanistan</td>\n",
              "      <td>2011</td>\n",
              "      <td>&lt;15</td>\n",
              "      <td>male</td>\n",
              "      <td>0.454171</td>\n",
              "    </tr>\n",
              "    <tr>\n",
              "      <th>2</th>\n",
              "      <td>NaN</td>\n",
              "      <td>Afghanistan</td>\n",
              "      <td>2011</td>\n",
              "      <td>15-24</td>\n",
              "      <td>female</td>\n",
              "      <td>0.3211322</td>\n",
              "    </tr>\n",
              "    <tr>\n",
              "      <th>3</th>\n",
              "      <td>NaN</td>\n",
              "      <td>Afghanistan</td>\n",
              "      <td>2011</td>\n",
              "      <td>15-24</td>\n",
              "      <td>male</td>\n",
              "      <td>0.6187907</td>\n",
              "    </tr>\n",
              "    <tr>\n",
              "      <th>4</th>\n",
              "      <td>Central and Southern Asia</td>\n",
              "      <td>Afghanistan</td>\n",
              "      <td>2011</td>\n",
              "      <td>25-64</td>\n",
              "      <td>female</td>\n",
              "      <td>0.0841276</td>\n",
              "    </tr>\n",
              "  </tbody>\n",
              "</table>\n",
              "</div>\n",
              "      <button class=\"colab-df-convert\" onclick=\"convertToInteractive('df-daa609a6-99e7-434f-9015-b0e647ef5c6a')\"\n",
              "              title=\"Convert this dataframe to an interactive table.\"\n",
              "              style=\"display:none;\">\n",
              "        \n",
              "  <svg xmlns=\"http://www.w3.org/2000/svg\" height=\"24px\"viewBox=\"0 0 24 24\"\n",
              "       width=\"24px\">\n",
              "    <path d=\"M0 0h24v24H0V0z\" fill=\"none\"/>\n",
              "    <path d=\"M18.56 5.44l.94 2.06.94-2.06 2.06-.94-2.06-.94-.94-2.06-.94 2.06-2.06.94zm-11 1L8.5 8.5l.94-2.06 2.06-.94-2.06-.94L8.5 2.5l-.94 2.06-2.06.94zm10 10l.94 2.06.94-2.06 2.06-.94-2.06-.94-.94-2.06-.94 2.06-2.06.94z\"/><path d=\"M17.41 7.96l-1.37-1.37c-.4-.4-.92-.59-1.43-.59-.52 0-1.04.2-1.43.59L10.3 9.45l-7.72 7.72c-.78.78-.78 2.05 0 2.83L4 21.41c.39.39.9.59 1.41.59.51 0 1.02-.2 1.41-.59l7.78-7.78 2.81-2.81c.8-.78.8-2.07 0-2.86zM5.41 20L4 18.59l7.72-7.72 1.47 1.35L5.41 20z\"/>\n",
              "  </svg>\n",
              "      </button>\n",
              "      \n",
              "  <style>\n",
              "    .colab-df-container {\n",
              "      display:flex;\n",
              "      flex-wrap:wrap;\n",
              "      gap: 12px;\n",
              "    }\n",
              "\n",
              "    .colab-df-convert {\n",
              "      background-color: #E8F0FE;\n",
              "      border: none;\n",
              "      border-radius: 50%;\n",
              "      cursor: pointer;\n",
              "      display: none;\n",
              "      fill: #1967D2;\n",
              "      height: 32px;\n",
              "      padding: 0 0 0 0;\n",
              "      width: 32px;\n",
              "    }\n",
              "\n",
              "    .colab-df-convert:hover {\n",
              "      background-color: #E2EBFA;\n",
              "      box-shadow: 0px 1px 2px rgba(60, 64, 67, 0.3), 0px 1px 3px 1px rgba(60, 64, 67, 0.15);\n",
              "      fill: #174EA6;\n",
              "    }\n",
              "\n",
              "    [theme=dark] .colab-df-convert {\n",
              "      background-color: #3B4455;\n",
              "      fill: #D2E3FC;\n",
              "    }\n",
              "\n",
              "    [theme=dark] .colab-df-convert:hover {\n",
              "      background-color: #434B5C;\n",
              "      box-shadow: 0px 1px 3px 1px rgba(0, 0, 0, 0.15);\n",
              "      filter: drop-shadow(0px 1px 2px rgba(0, 0, 0, 0.3));\n",
              "      fill: #FFFFFF;\n",
              "    }\n",
              "  </style>\n",
              "\n",
              "      <script>\n",
              "        const buttonEl =\n",
              "          document.querySelector('#df-daa609a6-99e7-434f-9015-b0e647ef5c6a button.colab-df-convert');\n",
              "        buttonEl.style.display =\n",
              "          google.colab.kernel.accessAllowed ? 'block' : 'none';\n",
              "\n",
              "        async function convertToInteractive(key) {\n",
              "          const element = document.querySelector('#df-daa609a6-99e7-434f-9015-b0e647ef5c6a');\n",
              "          const dataTable =\n",
              "            await google.colab.kernel.invokeFunction('convertToInteractive',\n",
              "                                                     [key], {});\n",
              "          if (!dataTable) return;\n",
              "\n",
              "          const docLinkHtml = 'Like what you see? Visit the ' +\n",
              "            '<a target=\"_blank\" href=https://colab.research.google.com/notebooks/data_table.ipynb>data table notebook</a>'\n",
              "            + ' to learn more about interactive tables.';\n",
              "          element.innerHTML = '';\n",
              "          dataTable['output_type'] = 'display_data';\n",
              "          await google.colab.output.renderOutput(dataTable, element);\n",
              "          const docLink = document.createElement('div');\n",
              "          docLink.innerHTML = docLinkHtml;\n",
              "          element.appendChild(docLink);\n",
              "        }\n",
              "      </script>\n",
              "    </div>\n",
              "  </div>\n",
              "  "
            ]
          },
          "metadata": {},
          "execution_count": 13
        }
      ]
    },
    {
      "cell_type": "code",
      "source": [
        "# Check for duplicates\n",
        "df.duplicated().sum()\n",
        "df[df.duplicated(keep = False)]\n",
        "df.drop_duplicates(inplace = True)\n",
        "df.duplicated().sum()"
      ],
      "metadata": {
        "colab": {
          "base_uri": "https://localhost:8080/"
        },
        "id": "8-tCsu6jB2MJ",
        "outputId": "c233fb96-9e33-4aba-fc23-f2e31e59f633"
      },
      "execution_count": 14,
      "outputs": [
        {
          "output_type": "execute_result",
          "data": {
            "text/plain": [
              "0"
            ]
          },
          "metadata": {},
          "execution_count": 14
        }
      ]
    },
    {
      "cell_type": "code",
      "source": [
        "# Check for missing values\n",
        "df.isna()\n",
        "df.info()\n",
        "df[df.isna().any(axis = 1)]"
      ],
      "metadata": {
        "colab": {
          "base_uri": "https://localhost:8080/",
          "height": 557
        },
        "id": "pVzOLenWG-9_",
        "outputId": "50320f7d-edc9-49bd-bb24-bfef89a974bc"
      },
      "execution_count": 15,
      "outputs": [
        {
          "output_type": "stream",
          "name": "stdout",
          "text": [
            "<class 'pandas.core.frame.DataFrame'>\n",
            "Int64Index: 3303 entries, 0 to 3312\n",
            "Data columns (total 6 columns):\n",
            " #   Column         Non-Null Count  Dtype \n",
            "---  ------         --------------  ----- \n",
            " 0   Region         3299 non-null   object\n",
            " 1   Country        3303 non-null   object\n",
            " 2   Year           3303 non-null   object\n",
            " 3   Age            3303 non-null   object\n",
            " 4   Gender         3303 non-null   object\n",
            " 5   Literacy rate  3298 non-null   object\n",
            "dtypes: object(6)\n",
            "memory usage: 180.6+ KB\n"
          ]
        },
        {
          "output_type": "execute_result",
          "data": {
            "text/plain": [
              "                             Region      Country  Year    Age  Gender  \\\n",
              "2                               NaN  Afghanistan  2011  15-24  female   \n",
              "3                               NaN  Afghanistan  2011  15-24    male   \n",
              "312                             NaN   Uzbekistan  2016    65+  female   \n",
              "313                             NaN   Uzbekistan  2016    65+    male   \n",
              "498  Eastern and South-Eastern Asia    Singapore  2010    65+    male   \n",
              "608     Europe and Northern America      Albania  2012  15-24  female   \n",
              "753     Europe and Northern America     Portugal  2011  15-24    male   \n",
              "855     Europe and Northern America        Spain  2010    <15  female   \n",
              "884     Europe and Northern America        Spain  2013  25-64    male   \n",
              "\n",
              "    Literacy rate  \n",
              "2       0.3211322  \n",
              "3       0.6187907  \n",
              "312     0.9966975  \n",
              "313     0.9990176  \n",
              "498           NaN  \n",
              "608           NaN  \n",
              "753           NaN  \n",
              "855           NaN  \n",
              "884           NaN  "
            ],
            "text/html": [
              "\n",
              "  <div id=\"df-04e0c4c5-40c0-4351-b1f2-30db4036e219\">\n",
              "    <div class=\"colab-df-container\">\n",
              "      <div>\n",
              "<style scoped>\n",
              "    .dataframe tbody tr th:only-of-type {\n",
              "        vertical-align: middle;\n",
              "    }\n",
              "\n",
              "    .dataframe tbody tr th {\n",
              "        vertical-align: top;\n",
              "    }\n",
              "\n",
              "    .dataframe thead th {\n",
              "        text-align: right;\n",
              "    }\n",
              "</style>\n",
              "<table border=\"1\" class=\"dataframe\">\n",
              "  <thead>\n",
              "    <tr style=\"text-align: right;\">\n",
              "      <th></th>\n",
              "      <th>Region</th>\n",
              "      <th>Country</th>\n",
              "      <th>Year</th>\n",
              "      <th>Age</th>\n",
              "      <th>Gender</th>\n",
              "      <th>Literacy rate</th>\n",
              "    </tr>\n",
              "  </thead>\n",
              "  <tbody>\n",
              "    <tr>\n",
              "      <th>2</th>\n",
              "      <td>NaN</td>\n",
              "      <td>Afghanistan</td>\n",
              "      <td>2011</td>\n",
              "      <td>15-24</td>\n",
              "      <td>female</td>\n",
              "      <td>0.3211322</td>\n",
              "    </tr>\n",
              "    <tr>\n",
              "      <th>3</th>\n",
              "      <td>NaN</td>\n",
              "      <td>Afghanistan</td>\n",
              "      <td>2011</td>\n",
              "      <td>15-24</td>\n",
              "      <td>male</td>\n",
              "      <td>0.6187907</td>\n",
              "    </tr>\n",
              "    <tr>\n",
              "      <th>312</th>\n",
              "      <td>NaN</td>\n",
              "      <td>Uzbekistan</td>\n",
              "      <td>2016</td>\n",
              "      <td>65+</td>\n",
              "      <td>female</td>\n",
              "      <td>0.9966975</td>\n",
              "    </tr>\n",
              "    <tr>\n",
              "      <th>313</th>\n",
              "      <td>NaN</td>\n",
              "      <td>Uzbekistan</td>\n",
              "      <td>2016</td>\n",
              "      <td>65+</td>\n",
              "      <td>male</td>\n",
              "      <td>0.9990176</td>\n",
              "    </tr>\n",
              "    <tr>\n",
              "      <th>498</th>\n",
              "      <td>Eastern and South-Eastern Asia</td>\n",
              "      <td>Singapore</td>\n",
              "      <td>2010</td>\n",
              "      <td>65+</td>\n",
              "      <td>male</td>\n",
              "      <td>NaN</td>\n",
              "    </tr>\n",
              "    <tr>\n",
              "      <th>608</th>\n",
              "      <td>Europe and Northern America</td>\n",
              "      <td>Albania</td>\n",
              "      <td>2012</td>\n",
              "      <td>15-24</td>\n",
              "      <td>female</td>\n",
              "      <td>NaN</td>\n",
              "    </tr>\n",
              "    <tr>\n",
              "      <th>753</th>\n",
              "      <td>Europe and Northern America</td>\n",
              "      <td>Portugal</td>\n",
              "      <td>2011</td>\n",
              "      <td>15-24</td>\n",
              "      <td>male</td>\n",
              "      <td>NaN</td>\n",
              "    </tr>\n",
              "    <tr>\n",
              "      <th>855</th>\n",
              "      <td>Europe and Northern America</td>\n",
              "      <td>Spain</td>\n",
              "      <td>2010</td>\n",
              "      <td>&lt;15</td>\n",
              "      <td>female</td>\n",
              "      <td>NaN</td>\n",
              "    </tr>\n",
              "    <tr>\n",
              "      <th>884</th>\n",
              "      <td>Europe and Northern America</td>\n",
              "      <td>Spain</td>\n",
              "      <td>2013</td>\n",
              "      <td>25-64</td>\n",
              "      <td>male</td>\n",
              "      <td>NaN</td>\n",
              "    </tr>\n",
              "  </tbody>\n",
              "</table>\n",
              "</div>\n",
              "      <button class=\"colab-df-convert\" onclick=\"convertToInteractive('df-04e0c4c5-40c0-4351-b1f2-30db4036e219')\"\n",
              "              title=\"Convert this dataframe to an interactive table.\"\n",
              "              style=\"display:none;\">\n",
              "        \n",
              "  <svg xmlns=\"http://www.w3.org/2000/svg\" height=\"24px\"viewBox=\"0 0 24 24\"\n",
              "       width=\"24px\">\n",
              "    <path d=\"M0 0h24v24H0V0z\" fill=\"none\"/>\n",
              "    <path d=\"M18.56 5.44l.94 2.06.94-2.06 2.06-.94-2.06-.94-.94-2.06-.94 2.06-2.06.94zm-11 1L8.5 8.5l.94-2.06 2.06-.94-2.06-.94L8.5 2.5l-.94 2.06-2.06.94zm10 10l.94 2.06.94-2.06 2.06-.94-2.06-.94-.94-2.06-.94 2.06-2.06.94z\"/><path d=\"M17.41 7.96l-1.37-1.37c-.4-.4-.92-.59-1.43-.59-.52 0-1.04.2-1.43.59L10.3 9.45l-7.72 7.72c-.78.78-.78 2.05 0 2.83L4 21.41c.39.39.9.59 1.41.59.51 0 1.02-.2 1.41-.59l7.78-7.78 2.81-2.81c.8-.78.8-2.07 0-2.86zM5.41 20L4 18.59l7.72-7.72 1.47 1.35L5.41 20z\"/>\n",
              "  </svg>\n",
              "      </button>\n",
              "      \n",
              "  <style>\n",
              "    .colab-df-container {\n",
              "      display:flex;\n",
              "      flex-wrap:wrap;\n",
              "      gap: 12px;\n",
              "    }\n",
              "\n",
              "    .colab-df-convert {\n",
              "      background-color: #E8F0FE;\n",
              "      border: none;\n",
              "      border-radius: 50%;\n",
              "      cursor: pointer;\n",
              "      display: none;\n",
              "      fill: #1967D2;\n",
              "      height: 32px;\n",
              "      padding: 0 0 0 0;\n",
              "      width: 32px;\n",
              "    }\n",
              "\n",
              "    .colab-df-convert:hover {\n",
              "      background-color: #E2EBFA;\n",
              "      box-shadow: 0px 1px 2px rgba(60, 64, 67, 0.3), 0px 1px 3px 1px rgba(60, 64, 67, 0.15);\n",
              "      fill: #174EA6;\n",
              "    }\n",
              "\n",
              "    [theme=dark] .colab-df-convert {\n",
              "      background-color: #3B4455;\n",
              "      fill: #D2E3FC;\n",
              "    }\n",
              "\n",
              "    [theme=dark] .colab-df-convert:hover {\n",
              "      background-color: #434B5C;\n",
              "      box-shadow: 0px 1px 3px 1px rgba(0, 0, 0, 0.15);\n",
              "      filter: drop-shadow(0px 1px 2px rgba(0, 0, 0, 0.3));\n",
              "      fill: #FFFFFF;\n",
              "    }\n",
              "  </style>\n",
              "\n",
              "      <script>\n",
              "        const buttonEl =\n",
              "          document.querySelector('#df-04e0c4c5-40c0-4351-b1f2-30db4036e219 button.colab-df-convert');\n",
              "        buttonEl.style.display =\n",
              "          google.colab.kernel.accessAllowed ? 'block' : 'none';\n",
              "\n",
              "        async function convertToInteractive(key) {\n",
              "          const element = document.querySelector('#df-04e0c4c5-40c0-4351-b1f2-30db4036e219');\n",
              "          const dataTable =\n",
              "            await google.colab.kernel.invokeFunction('convertToInteractive',\n",
              "                                                     [key], {});\n",
              "          if (!dataTable) return;\n",
              "\n",
              "          const docLinkHtml = 'Like what you see? Visit the ' +\n",
              "            '<a target=\"_blank\" href=https://colab.research.google.com/notebooks/data_table.ipynb>data table notebook</a>'\n",
              "            + ' to learn more about interactive tables.';\n",
              "          element.innerHTML = '';\n",
              "          dataTable['output_type'] = 'display_data';\n",
              "          await google.colab.output.renderOutput(dataTable, element);\n",
              "          const docLink = document.createElement('div');\n",
              "          docLink.innerHTML = docLinkHtml;\n",
              "          element.appendChild(docLink);\n",
              "        }\n",
              "      </script>\n",
              "    </div>\n",
              "  </div>\n",
              "  "
            ]
          },
          "metadata": {},
          "execution_count": 15
        }
      ]
    },
    {
      "cell_type": "code",
      "source": [
        "# Check the Region column.\n",
        "df.loc[df['Region'].isna(), :]\n",
        "\n",
        "# We can use the entry in 'Country' to determine\n",
        "# what to use for 'Region' for missing values.\n",
        "# All the missing entries in 'Region' should be\n",
        "# 'Central and Southern Asia'\n",
        "df['Region'] = df['Region'].fillna('Central and Southern Asia')\n",
        "df['Region'].isna().sum()"
      ],
      "metadata": {
        "colab": {
          "base_uri": "https://localhost:8080/"
        },
        "id": "4aDstJUla0nH",
        "outputId": "9c7f811e-0e8b-403f-c4e2-ec76808d3e7b"
      },
      "execution_count": 16,
      "outputs": [
        {
          "output_type": "execute_result",
          "data": {
            "text/plain": [
              "0"
            ]
          },
          "metadata": {},
          "execution_count": 16
        }
      ]
    },
    {
      "cell_type": "code",
      "source": [
        "# Check the 'Literacy rate' column\n",
        "print(df.loc[df['Literacy rate'].isna(), :])\n",
        "\n",
        "# Check the literacy rates of people in Spain less than 65 years old\n",
        "df.loc[(df['Country'] == 'Spain') & (df['Age'] != '65+'), 'Literacy rate'].sort_values()\n",
        "\n",
        "# Check the literacy rates of Europeans between 15 and 64.\n",
        "df.loc[(df['Region'] == 'Europe and Northern America') & (df['Age'] == '15-24'), 'Literacy rate'].sort_values()\n",
        "\n",
        "# Check the literacy rates of people over 65 in Singapore\n",
        "df.loc[(df['Country'] == 'Singapore') & (df['Age'] == '65+'), :].sort_values(by = 'Literacy rate')\n",
        "\n",
        "# The literacy rate in Spain for those under 65 is between 97% and 100%\n",
        "# The literacy rate in Europe and North America for people between 15 and 24 is also between 97% and 100%\n",
        "# So we will impute the missing values in Europe with the average of the literacy\n",
        "# rates in Spain for those under 65 and the average literacy for 15-24 year olds in\n",
        "# Europe and North America.\n",
        "\n",
        "# In 2010 the literace rate for men over 65 was about 94.6% The value in 2015 for men\n",
        "# over 65 in Singapore is missing. The literacy rate for women over 65 in Singapore\n",
        "# increased by about 12%. We will assume that \"the rising tide lifts all boats\" so men\n",
        "# over 65 also enjoyed a significant increase in literacy.\n",
        "\n",
        "# Based on the above observations we will impute the missing values for literacy rates \n",
        "# with the average literacy rate for the region 'Europe and Northern America.'\n",
        "\n",
        "# Get the average literacy rate for the region 'Europe and Northern America'.\n",
        "avg_lit_rate = df.loc[df['Region'] == 'Europe and Northern America', 'Literacy rate'].dropna().astype(float)\n",
        "print()\n",
        "avg_lit_rate = avg_lit_rate.mean()\n",
        "avg_lit_rate\n",
        "\n",
        "# Fill the missing values.\n",
        "df.fillna(avg_lit_rate, inplace = True)"
      ],
      "metadata": {
        "colab": {
          "base_uri": "https://localhost:8080/"
        },
        "id": "cEK3vLxaeLTb",
        "outputId": "c4996166-1c1d-474b-e8b0-ae1a704c7fac"
      },
      "execution_count": 17,
      "outputs": [
        {
          "output_type": "stream",
          "name": "stdout",
          "text": [
            "                             Region    Country  Year    Age  Gender  \\\n",
            "498  Eastern and South-Eastern Asia  Singapore  2010    65+    male   \n",
            "608     Europe and Northern America    Albania  2012  15-24  female   \n",
            "753     Europe and Northern America   Portugal  2011  15-24    male   \n",
            "855     Europe and Northern America      Spain  2010    <15  female   \n",
            "884     Europe and Northern America      Spain  2013  25-64    male   \n",
            "\n",
            "    Literacy rate  \n",
            "498           NaN  \n",
            "608           NaN  \n",
            "753           NaN  \n",
            "855           NaN  \n",
            "884           NaN  \n",
            "\n"
          ]
        }
      ]
    },
    {
      "cell_type": "code",
      "source": [
        "# Confirm there are no missing values\n",
        "df.isna().sum()"
      ],
      "metadata": {
        "id": "by4SbjqlnZou",
        "colab": {
          "base_uri": "https://localhost:8080/"
        },
        "outputId": "252baf90-b2fa-4d37-99a3-bbf766f54efa"
      },
      "execution_count": 18,
      "outputs": [
        {
          "output_type": "execute_result",
          "data": {
            "text/plain": [
              "Region           0\n",
              "Country          0\n",
              "Year             0\n",
              "Age              0\n",
              "Gender           0\n",
              "Literacy rate    0\n",
              "dtype: int64"
            ]
          },
          "metadata": {},
          "execution_count": 18
        }
      ]
    },
    {
      "cell_type": "code",
      "source": [
        "# We now ensure each column is of the correct data type\n",
        "df.info()\n",
        "\n",
        "# Fix the literacy rate column.\n",
        "#df['Literacy rate'].astype(float)\n",
        "\n",
        "# In the above step we found an inconsistency in the literacy rate column.\n",
        "filter = df['Literacy rate'].str.contains('%').astype(bool)\n",
        "df[filter]\n",
        "\n",
        "# Not sure why .str.contains('%') included rows without percent signs.\n",
        "# There seems to be only one offending row so we will adjust it manually.\n",
        "df.loc[12, 'Literacy rate'] = 0.4538\n",
        "\n",
        "# Now fix the literacy rate column\n",
        "df['Literacy rate'] = df['Literacy rate'].astype(float)"
      ],
      "metadata": {
        "colab": {
          "base_uri": "https://localhost:8080/"
        },
        "id": "l6N59dhOn0cu",
        "outputId": "502a5795-cbd0-433e-9300-51a3474d8f04"
      },
      "execution_count": 19,
      "outputs": [
        {
          "output_type": "stream",
          "name": "stdout",
          "text": [
            "<class 'pandas.core.frame.DataFrame'>\n",
            "Int64Index: 3303 entries, 0 to 3312\n",
            "Data columns (total 6 columns):\n",
            " #   Column         Non-Null Count  Dtype \n",
            "---  ------         --------------  ----- \n",
            " 0   Region         3303 non-null   object\n",
            " 1   Country        3303 non-null   object\n",
            " 2   Year           3303 non-null   object\n",
            " 3   Age            3303 non-null   object\n",
            " 4   Gender         3303 non-null   object\n",
            " 5   Literacy rate  3303 non-null   object\n",
            "dtypes: object(6)\n",
            "memory usage: 180.6+ KB\n"
          ]
        }
      ]
    },
    {
      "cell_type": "code",
      "source": [
        "# Check that the Literacy rate column has been fixed\n",
        "df.info()\n",
        "\n",
        "# We need to fix the year column now.\n",
        "#df['Year'] = df['Year'].astype(int)\n",
        "\n",
        "# The above step revealed a year with an inderscore\n",
        "filter = df['Year'].str.contains('_')\n",
        "df.loc[filter, 'Year']\n",
        "\n",
        "# Replace the underscore with an empyt space\n",
        "df['Year'] = df['Year'].str.replace('_', '')\n",
        "\n",
        "# Now convert years to ints\n",
        "df['Year'] = df['Year'].astype(int)"
      ],
      "metadata": {
        "colab": {
          "base_uri": "https://localhost:8080/"
        },
        "id": "LsHu5CsHQn2A",
        "outputId": "30aa9300-f54e-4c52-d08b-63b51a0cd126"
      },
      "execution_count": 20,
      "outputs": [
        {
          "output_type": "stream",
          "name": "stdout",
          "text": [
            "<class 'pandas.core.frame.DataFrame'>\n",
            "Int64Index: 3303 entries, 0 to 3312\n",
            "Data columns (total 6 columns):\n",
            " #   Column         Non-Null Count  Dtype  \n",
            "---  ------         --------------  -----  \n",
            " 0   Region         3303 non-null   object \n",
            " 1   Country        3303 non-null   object \n",
            " 2   Year           3303 non-null   object \n",
            " 3   Age            3303 non-null   object \n",
            " 4   Gender         3303 non-null   object \n",
            " 5   Literacy rate  3303 non-null   float64\n",
            "dtypes: float64(1), object(5)\n",
            "memory usage: 309.7+ KB\n"
          ]
        }
      ]
    },
    {
      "cell_type": "code",
      "source": [
        "# Check that the columns match the data dictionary\n",
        "df.info()\n",
        "\n",
        "# They do, so on to the next step!"
      ],
      "metadata": {
        "colab": {
          "base_uri": "https://localhost:8080/"
        },
        "id": "17wZI22uR-mx",
        "outputId": "d350c3eb-6603-45b7-b71f-dc07bd7bd609"
      },
      "execution_count": 21,
      "outputs": [
        {
          "output_type": "stream",
          "name": "stdout",
          "text": [
            "<class 'pandas.core.frame.DataFrame'>\n",
            "Int64Index: 3303 entries, 0 to 3312\n",
            "Data columns (total 6 columns):\n",
            " #   Column         Non-Null Count  Dtype  \n",
            "---  ------         --------------  -----  \n",
            " 0   Region         3303 non-null   object \n",
            " 1   Country        3303 non-null   object \n",
            " 2   Year           3303 non-null   int64  \n",
            " 3   Age            3303 non-null   object \n",
            " 4   Gender         3303 non-null   object \n",
            " 5   Literacy rate  3303 non-null   float64\n",
            "dtypes: float64(1), int64(1), object(4)\n",
            "memory usage: 309.7+ KB\n"
          ]
        }
      ]
    },
    {
      "cell_type": "code",
      "source": [
        "# Check for inconsistenties in the categorical values\n",
        "df.nunique()\n",
        "\n",
        "# Check the regions first\n",
        "df['Region'].value_counts()"
      ],
      "metadata": {
        "colab": {
          "base_uri": "https://localhost:8080/"
        },
        "id": "rx8LgEUESRSp",
        "outputId": "0216a765-d70d-4f96-bfd3-994d4268515d"
      },
      "execution_count": 22,
      "outputs": [
        {
          "output_type": "execute_result",
          "data": {
            "text/plain": [
              "Latin America and the Caribbean     940\n",
              "Sub-Saharan Africa                  770\n",
              "Northern Africa and Western Asia    568\n",
              "Europe and Northern America         336\n",
              "Central and Southern Asia           311\n",
              "Eastern and South-Eastern Asia      282\n",
              "Oceania                              96\n",
              "Name: Region, dtype: int64"
            ]
          },
          "metadata": {},
          "execution_count": 22
        }
      ]
    },
    {
      "cell_type": "code",
      "source": [
        "# Check the countries next\n",
        "df['Country'].str.upper().value_counts()\n",
        "df['Country'].str.lower().value_counts()\n",
        "df['Country'].value_counts()\n",
        "\n",
        "# All the above commands give a dataframe with 155 rows\n",
        "# so there are no case errors in the country names.\n",
        "\n",
        "# At this point in the course I don't think we would \n",
        "# be expected to deal with more subtle cases such as \n",
        "# a spelling error or extra character when .value_counts()\n",
        "# has dozens of values so on to the next task!"
      ],
      "metadata": {
        "colab": {
          "base_uri": "https://localhost:8080/"
        },
        "id": "zsp7pQCsSjgJ",
        "outputId": "3ef886a0-6ac1-4583-d527-d86f3d2964b9"
      },
      "execution_count": 23,
      "outputs": [
        {
          "output_type": "execute_result",
          "data": {
            "text/plain": [
              "Mexico                 72\n",
              "Uruguay                72\n",
              "Brazil                 72\n",
              "Palestine              64\n",
              "Turkey                 64\n",
              "                       ..\n",
              "Trinidad and Tobago     8\n",
              "Greece                  8\n",
              "Estonia                 8\n",
              "Hungary                 8\n",
              "Antigua and Barbuda     4\n",
              "Name: Country, Length: 155, dtype: int64"
            ]
          },
          "metadata": {},
          "execution_count": 23
        }
      ]
    },
    {
      "cell_type": "code",
      "source": [
        "# We already converted years to ints so there shouldn't\n",
        "# be any strange characters showing up. We check the\n",
        "# number of values to be sure.\n",
        "df['Year'].value_counts()\n",
        "\n",
        "# Good think we looked! It seems reasonable to conclud that \n",
        "# 3014 should be 2014\n",
        "df['Year'].replace(3014, 2014, inplace = True)\n",
        "\n",
        "# Confirm the Years column has been fixed.\n",
        "df['Year'].value_counts()"
      ],
      "metadata": {
        "colab": {
          "base_uri": "https://localhost:8080/"
        },
        "id": "jXsToJE9Vbjr",
        "outputId": "516c4053-c2ca-403d-a0c7-d50cfa9de698"
      },
      "execution_count": 24,
      "outputs": [
        {
          "output_type": "execute_result",
          "data": {
            "text/plain": [
              "2018    574\n",
              "2011    455\n",
              "2014    440\n",
              "2010    400\n",
              "2012    344\n",
              "2015    316\n",
              "2013    264\n",
              "2016    264\n",
              "2017    246\n",
              "Name: Year, dtype: int64"
            ]
          },
          "metadata": {},
          "execution_count": 24
        }
      ]
    },
    {
      "cell_type": "code",
      "source": [
        "# Now we check the 'Gender' column.\n",
        "df['Gender'].value_counts()\n",
        "\n",
        "# Clearly F is for female and M is for male\n",
        "df['Gender'].replace('F', 'female', inplace = True)\n",
        "df['Gender'].replace('M', 'male', inplace = True)\n",
        "\n",
        "# Confirm we made the changes\n",
        "df['Gender'].value_counts()"
      ],
      "metadata": {
        "colab": {
          "base_uri": "https://localhost:8080/"
        },
        "id": "ZvC84y2BWFLK",
        "outputId": "af9a9b3d-693f-4fd3-e242-d0dbe1240da9"
      },
      "execution_count": 25,
      "outputs": [
        {
          "output_type": "execute_result",
          "data": {
            "text/plain": [
              "female    1652\n",
              "male      1651\n",
              "Name: Gender, dtype: int64"
            ]
          },
          "metadata": {},
          "execution_count": 25
        }
      ]
    },
    {
      "cell_type": "code",
      "source": [
        "# Check the 'Age' column.\n",
        "df['Age'].value_counts()\n",
        "\n",
        "# Looks good so we can move on."
      ],
      "metadata": {
        "colab": {
          "base_uri": "https://localhost:8080/"
        },
        "id": "wUb1vDJqZZDY",
        "outputId": "e84901fb-31aa-4aba-fbf7-e04868ee58fd"
      },
      "execution_count": 26,
      "outputs": [
        {
          "output_type": "execute_result",
          "data": {
            "text/plain": [
              "<15      840\n",
              "15-24    826\n",
              "25-64    826\n",
              "65+      811\n",
              "Name: Age, dtype: int64"
            ]
          },
          "metadata": {},
          "execution_count": 26
        }
      ]
    },
    {
      "cell_type": "code",
      "source": [
        "# Check the literacy rate column to make \n",
        "# sure the values are between 0 and 1.\n",
        "(df['Literacy rate'] < 0).sum()\n",
        "(df['Literacy rate'] > 1).sum()\n",
        "# Probably better to just use the .describe() \n",
        "# method for the above.\n",
        "\n",
        "# Check the info method one more time\n",
        "df.info()"
      ],
      "metadata": {
        "colab": {
          "base_uri": "https://localhost:8080/"
        },
        "id": "ipI13GyXY8V9",
        "outputId": "0ae047ee-5232-4ac2-f050-2cb2e1465521"
      },
      "execution_count": 27,
      "outputs": [
        {
          "output_type": "stream",
          "name": "stdout",
          "text": [
            "<class 'pandas.core.frame.DataFrame'>\n",
            "Int64Index: 3303 entries, 0 to 3312\n",
            "Data columns (total 6 columns):\n",
            " #   Column         Non-Null Count  Dtype  \n",
            "---  ------         --------------  -----  \n",
            " 0   Region         3303 non-null   object \n",
            " 1   Country        3303 non-null   object \n",
            " 2   Year           3303 non-null   int64  \n",
            " 3   Age            3303 non-null   object \n",
            " 4   Gender         3303 non-null   object \n",
            " 5   Literacy rate  3303 non-null   float64\n",
            "dtypes: float64(1), int64(1), object(4)\n",
            "memory usage: 309.7+ KB\n"
          ]
        }
      ]
    },
    {
      "cell_type": "code",
      "source": [
        "# Make a histogram for literacy rates\n",
        "df['Literacy rate'].hist(bins = 5, edgecolor = 'k')\n",
        "plt.title('Histogram for Literacy Rates', fontsize = 20)\n",
        "plt.xlabel('Literacy Rate', fontsize = 16)\n",
        "\n",
        "# This is a left-skewed histogram. It shows us that the \n",
        "# about 2300 nations have literacy rates between 80% \n",
        "# and 100%. It also shows us that low literacy rates \n",
        "# are rare, but still significant."
      ],
      "metadata": {
        "colab": {
          "base_uri": "https://localhost:8080/",
          "height": 322
        },
        "id": "7G_yJagnZi6F",
        "outputId": "d6ae7f85-c962-4a21-8253-9a9548cc7b18"
      },
      "execution_count": 28,
      "outputs": [
        {
          "output_type": "execute_result",
          "data": {
            "text/plain": [
              "Text(0.5, 0, 'Literacy Rate')"
            ]
          },
          "metadata": {},
          "execution_count": 28
        },
        {
          "output_type": "display_data",
          "data": {
            "text/plain": [
              "<Figure size 432x288 with 1 Axes>"
            ],
            "image/png": "[encoded data removed]"
          },
          "metadata": {
            "needs_background": "light"
          }
        }
      ]
    },
    {
      "cell_type": "code",
      "source": [
        "# Make a boxplot for the literacy rates\n",
        "fig, ax = plt.subplots(nrows = 1, ncols = 1, figsize = (13, 5));\n",
        "ax.boxplot(df['Literacy rate'],\n",
        "           vert = False,\n",
        "           patch_artist = True,\n",
        "           notch = True);\n",
        "ax.set_title('Boxplot for Literacy Rates', fontsize = 20);\n",
        "plt.xlabel('Literacy Rate in Decimal Form', fontsize = 16)\n",
        "plt.yticks([]);\n",
        "\n",
        "# The boxplot tells us that half the nations in the world have \n",
        "# literacy rates above 92% or so. 75% of nations have literacy \n",
        "# rates above 70%. "
      ],
      "metadata": {
        "colab": {
          "base_uri": "https://localhost:8080/",
          "height": 360
        },
        "id": "w1iHtlDMdvfQ",
        "outputId": "8036b1fe-549f-4d2e-cc38-681561983fd7"
      },
      "execution_count": 29,
      "outputs": [
        {
          "output_type": "display_data",
          "data": {
            "text/plain": [
              "<Figure size 936x360 with 1 Axes>"
            ],
            "image/png": "[encoded data removed]"
          },
          "metadata": {
            "needs_background": "light"
          }
        }
      ]
    },
    {
      "cell_type": "code",
      "source": [
        "# We make boxplots for literacy by age group\n",
        "fig, ax = plt.subplots(nrows = 1, ncols = 1, figsize = (13, 8));\n",
        "ages = df['Age'].value_counts().index\n",
        "literacy_by_age = [df.loc[df['Age'] == age, 'Literacy rate'] for age in ages]\n",
        "ax.boxplot(literacy_by_age,\n",
        "           labels = ages,\n",
        "           patch_artist = True,\n",
        "           notch = True);\n",
        "plt.xlabel('Ages', fontsize = 16);\n",
        "plt.ylabel('Literacy Rate', fontsize = 16);\n",
        "plt.title('Literacy Rates by Age', fontsize = 20);\n",
        "\n",
        "# These boxplots tell us that the top 75% of literacy rates for those under 65\n",
        "# is around 80%, and that the \"standard\" definition of outlier suggests that \n",
        "# illiteracy is uncommon in much of the world. While the IQR is greater for those\n",
        "# over 65, we still have that the literacy rate is above 70% for people over 65 in \n",
        "# the top 50% of nations."
      ],
      "metadata": {
        "colab": {
          "base_uri": "https://localhost:8080/",
          "height": 578
        },
        "id": "lQk5qhpahbua",
        "outputId": "bad295df-7102-4f76-8c09-8cd8c9cdaa5e"
      },
      "execution_count": 30,
      "outputs": [
        {
          "output_type": "stream",
          "name": "stderr",
          "text": [
            "/usr/local/lib/python3.7/dist-packages/matplotlib/cbook/__init__.py:1376: VisibleDeprecationWarning: Creating an ndarray from ragged nested sequences (which is a list-or-tuple of lists-or-tuples-or ndarrays with different lengths or shapes) is deprecated. If you meant to do this, you must specify 'dtype=object' when creating the ndarray.\n",
            "  X = np.atleast_1d(X.T if isinstance(X, np.ndarray) else np.asarray(X))\n"
          ]
        },
        {
          "output_type": "display_data",
          "data": {
            "text/plain": [
              "<Figure size 936x576 with 1 Axes>"
            ],
            "image/png": "[encoded data removed]"
          },
          "metadata": {
            "needs_background": "light"
          }
        }
      ]
    },
    {
      "cell_type": "code",
      "source": [
        "# We now construct boxplots for literacy rate by gender\n",
        "\n",
        "# Format the data for the boxplots\n",
        "genders = df['Gender'].value_counts().index\n",
        "lit_rate_by_gender = [df.loc[df['Gender'] == gender, 'Literacy rate'] for gender in genders]\n",
        "\n",
        "# Construct the boxplots\n",
        "fig, ax = plt.subplots(nrows = 1, ncols = 1, figsize = (12, 10));\n",
        "ax.boxplot(lit_rate_by_gender,\n",
        "           labels = ['Female', 'Male'],\n",
        "           patch_artist = True,\n",
        "           notch = True);\n",
        "plt.xlabel('Genders', fontsize = 16);\n",
        "plt.ylabel('Literacy Rate', fontsize = 16);\n",
        "plt.title('Literacy Rate by Gender', fontsize = 20);\n",
        "\n",
        "# These boxplots tell us that while illiteracy is more common among women,\n",
        "# the top 50% of nations all have similar literacy rates for men and women.\n",
        "# We also see that the top 75% of nations have literacy rates for women above 65%\n",
        "# and literacy rates for men above 78% or so."
      ],
      "metadata": {
        "colab": {
          "base_uri": "https://localhost:8080/",
          "height": 687
        },
        "id": "m3ZhDpLew4yb",
        "outputId": "cde99a7c-cd81-485e-e8c1-8c3a0201cdf1"
      },
      "execution_count": 31,
      "outputs": [
        {
          "output_type": "stream",
          "name": "stderr",
          "text": [
            "/usr/local/lib/python3.7/dist-packages/matplotlib/cbook/__init__.py:1376: VisibleDeprecationWarning: Creating an ndarray from ragged nested sequences (which is a list-or-tuple of lists-or-tuples-or ndarrays with different lengths or shapes) is deprecated. If you meant to do this, you must specify 'dtype=object' when creating the ndarray.\n",
            "  X = np.atleast_1d(X.T if isinstance(X, np.ndarray) else np.asarray(X))\n"
          ]
        },
        {
          "output_type": "display_data",
          "data": {
            "text/plain": [
              "<Figure size 864x720 with 1 Axes>"
            ],
            "image/png": "[encoded data removed]"
          },
          "metadata": {
            "needs_background": "light"
          }
        }
      ]
    }
  ]
}
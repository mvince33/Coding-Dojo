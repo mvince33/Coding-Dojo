{
  "nbformat": 4,
  "nbformat_minor": 0,
  "metadata": {
    "colab": {
      "name": "distance_and_time.ipynb",
      "provenance": [],
      "collapsed_sections": [],
      "include_colab_link": true
    },
    "kernelspec": {
      "name": "python3",
      "display_name": "Python 3"
    },
    "language_info": {
      "name": "python"
    }
  },
  "cells": [
    {
      "cell_type": "markdown",
      "metadata": {
        "id": "view-in-github",
        "colab_type": "text"
      },
      "source": [
        "<a href=\"https://colab.research.google.com/github/mvince33/Coding-Dojo/blob/main/week01/distance_and_time.ipynb\" target=\"_parent\"><img src=\"https://colab.research.google.com/assets/colab-badge.svg\" alt=\"Open In Colab\"/></a>"
      ]
    },
    {
      "cell_type": "markdown",
      "metadata": {
        "id": "FM-AQ_LY7Ec_"
      },
      "source": [
        "# Starter Code\n",
        "\n",
        "# Exploring NumPy Arrays: Distance and Time"
      ]
    },
    {
      "cell_type": "markdown",
      "metadata": {
        "id": "KFL-xYXw9hPp"
      },
      "source": [
        "1) Import the numpy library"
      ]
    },
    {
      "cell_type": "code",
      "metadata": {
        "id": "KfK86qGd6_sF"
      },
      "source": [
        "import numpy as np"
      ],
      "execution_count": null,
      "outputs": []
    },
    {
      "cell_type": "markdown",
      "metadata": {
        "id": "t9qEeja29wDt"
      },
      "source": [
        "2) Create a numpy array called \"distance\" that includes the following distances (in meters): 100, 200, 400, 800, 1500, 3000, 5000, 10000"
      ]
    },
    {
      "cell_type": "code",
      "metadata": {
        "id": "yffkXrYSdvpt"
      },
      "source": [
        "distance = np.array([100, 200, 400, 800, 1500, 3000, 5000, 10000])"
      ],
      "execution_count": null,
      "outputs": []
    },
    {
      "cell_type": "markdown",
      "metadata": {
        "id": "yJJj_-PS9-84"
      },
      "source": [
        "3) Use the np.min() and np.max() functions to find the minimum and maximum distances"
      ]
    },
    {
      "cell_type": "code",
      "metadata": {
        "id": "Cm0h775W7j1I",
        "colab": {
          "base_uri": "https://localhost:8080/"
        },
        "outputId": "add6441f-1962-4dfc-9639-5b8141b514ed"
      },
      "source": [
        "m = distance.min()\n",
        "M = distance.max()\n",
        "print(str(m) + ', ' + str(M))"
      ],
      "execution_count": null,
      "outputs": [
        {
          "output_type": "stream",
          "name": "stdout",
          "text": [
            "100, 10000\n"
          ]
        }
      ]
    },
    {
      "cell_type": "markdown",
      "metadata": {
        "id": "1GKAMKM4-D4n"
      },
      "source": [
        "4) To find the average distance, use the np.mean() function"
      ]
    },
    {
      "cell_type": "code",
      "metadata": {
        "id": "eMVVUS7D7qzi",
        "colab": {
          "base_uri": "https://localhost:8080/"
        },
        "outputId": "a32f4a74-2f0c-4862-ccab-e4f2a90da05e"
      },
      "source": [
        "avg = distance.mean()\n",
        "print(avg)"
      ],
      "execution_count": null,
      "outputs": [
        {
          "output_type": "stream",
          "name": "stdout",
          "text": [
            "2625.0\n"
          ]
        }
      ]
    },
    {
      "cell_type": "markdown",
      "metadata": {
        "id": "jrsIZDBN-Lwg"
      },
      "source": [
        "5) use the np.sum() function to find the total distance"
      ]
    },
    {
      "cell_type": "code",
      "metadata": {
        "id": "hrlC2Z8Q7vFD",
        "colab": {
          "base_uri": "https://localhost:8080/"
        },
        "outputId": "624cec81-5b1d-4d27-da0b-b8facb7dcb7e"
      },
      "source": [
        "s = distance.sum()\n",
        "print(s)"
      ],
      "execution_count": null,
      "outputs": [
        {
          "output_type": "stream",
          "name": "stdout",
          "text": [
            "21000\n"
          ]
        }
      ]
    },
    {
      "cell_type": "markdown",
      "metadata": {
        "id": "TZh6JLbu-Qt_"
      },
      "source": [
        "6) Another valuable function is the np.cumsum() function which outputs the cumulative sum...notice the output will be 100, 300, 700 as it adds each new distance"
      ]
    },
    {
      "cell_type": "code",
      "metadata": {
        "id": "zE035Xl574vz",
        "colab": {
          "base_uri": "https://localhost:8080/"
        },
        "outputId": "b08af00f-43e3-4a73-b215-1a93243f0c14"
      },
      "source": [
        "csum = distance.cumsum()\n",
        "print(csum)"
      ],
      "execution_count": null,
      "outputs": [
        {
          "output_type": "stream",
          "name": "stdout",
          "text": [
            "[  100   300   700  1500  3000  6000 11000 21000]\n"
          ]
        }
      ]
    },
    {
      "cell_type": "markdown",
      "metadata": {
        "id": "XlxjutTF-XSf"
      },
      "source": [
        "7) To round all of the values in an array, use np.round()"
      ]
    },
    {
      "cell_type": "code",
      "metadata": {
        "id": "hrBA_Qqt8E3V",
        "colab": {
          "base_uri": "https://localhost:8080/"
        },
        "outputId": "edc2441a-e096-4509-f115-7c2d56f846e6"
      },
      "source": [
        "print(distance.round())"
      ],
      "execution_count": null,
      "outputs": [
        {
          "output_type": "stream",
          "name": "stdout",
          "text": [
            "[    0     0     0     0     0     0     0 10000]\n"
          ]
        }
      ]
    },
    {
      "cell_type": "markdown",
      "metadata": {
        "id": "-wL-9Gl0-eSo"
      },
      "source": [
        "8) Create a numpy array called time that includes the following times (in seconds):  10.62, 21.34, 48.25, 113.43, 233.96, 506.53, 866.17, 1757.45"
      ]
    },
    {
      "cell_type": "code",
      "metadata": {
        "id": "KFwp2lb88KgE",
        "colab": {
          "base_uri": "https://localhost:8080/"
        },
        "outputId": "137b1352-a8cb-47df-f7e6-6d5ca30eaf68"
      },
      "source": [
        "time = np.array([10.62, 21.34, 48.25, 113.43, 233.96, 506.53, 866.17, 1757.45])\n",
        "print(time)"
      ],
      "execution_count": null,
      "outputs": [
        {
          "output_type": "stream",
          "name": "stdout",
          "text": [
            "[  10.62   21.34   48.25  113.43  233.96  506.53  866.17 1757.45]\n"
          ]
        }
      ]
    },
    {
      "cell_type": "markdown",
      "metadata": {
        "id": "MFspcIAi-kJY"
      },
      "source": [
        "9) the values in your time array correspond to olympic records for running the corresponding distances.  Perform the calculation needed to find the speed (in m/s) for each record distance.  Note that speed is distance divided by time."
      ]
    },
    {
      "cell_type": "code",
      "metadata": {
        "id": "VacJ48K3-jwq",
        "colab": {
          "base_uri": "https://localhost:8080/"
        },
        "outputId": "13a9963a-4fb2-4567-c838-de566b5ce0a5"
      },
      "source": [
        "speed = distance / time\n",
        "print(speed)"
      ],
      "execution_count": null,
      "outputs": [
        {
          "output_type": "stream",
          "name": "stdout",
          "text": [
            "[9.41619586 9.37207123 8.29015544 7.0528079  6.41135237 5.92265019\n",
            " 5.77253888 5.69006231]\n"
          ]
        }
      ]
    },
    {
      "cell_type": "markdown",
      "source": [
        ""
      ],
      "metadata": {
        "id": "1_muoiVRmzAx"
      }
    },
    {
      "cell_type": "markdown",
      "metadata": {
        "id": "BRURQ2P3-oXv"
      },
      "source": [
        "10) One common problem data scientists run into is that we are given information in units that are not consistent.  \n",
        "For example, we might want to compare data that is given in meters to second to data that is given in miles per hour. A cheetah is the fastest land animal which can reach speeds of 75.0 miles per hour.  \n",
        "In order to compare our olympians to a cheetah, we need to be able to convert from one unit to another.\n",
        "Perform calculations to convert the olympic record speeds from meters/second into miles per hour.  Note: 1 meter = 0.00062 miles\n",
        "\n",
        "How do our olympians compare to the cheetah?\n",
        "\n",
        "(Hint: Speed in m/s multiplied by 0.00062 and multiplied by 3600 will give speed in miles per hour)"
      ]
    },
    {
      "cell_type": "code",
      "metadata": {
        "id": "8LehjzOx8YY0",
        "colab": {
          "base_uri": "https://localhost:8080/"
        },
        "outputId": "742cff0d-4886-4b26-b00f-e19b3222ccdf"
      },
      "source": [
        "speed_mph = 0.062 * 36 * speed\n",
        "print(speed_mph)"
      ],
      "execution_count": null,
      "outputs": [
        {
          "output_type": "stream",
          "name": "stdout",
          "text": [
            "[21.01694915 20.91846298 18.50362694 15.74186723 14.31013849 13.21935522\n",
            " 12.88430678 12.70021907]\n"
          ]
        }
      ]
    }
  ]
}
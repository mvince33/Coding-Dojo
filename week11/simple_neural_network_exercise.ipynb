{
  "nbformat": 4,
  "nbformat_minor": 0,
  "metadata": {
    "colab": {
      "name": "simple_neural_network_exercise.ipynb",
      "provenance": [],
      "authorship_tag": "ABX9TyOVXACb/x6Rwi5RDqBbM1yO",
      "include_colab_link": true
    },
    "kernelspec": {
      "name": "python3",
      "display_name": "Python 3"
    },
    "language_info": {
      "name": "python"
    }
  },
  "cells": [
    {
      "cell_type": "markdown",
      "metadata": {
        "id": "view-in-github",
        "colab_type": "text"
      },
      "source": [
        "<a href=\"https://colab.research.google.com/github/mvince33/Coding-Dojo/blob/main/week11/simple_neural_network_exercise.ipynb\" target=\"_parent\"><img src=\"https://colab.research.google.com/assets/colab-badge.svg\" alt=\"Open In Colab\"/></a>"
      ]
    },
    {
      "cell_type": "markdown",
      "source": [
        "# Simple Neural Network Exercise\n",
        "- Michael Vincent\n",
        "- 8/25"
      ],
      "metadata": {
        "id": "pdxYNfZZeLqZ"
      }
    },
    {
      "cell_type": "markdown",
      "source": [
        "## Imports"
      ],
      "metadata": {
        "id": "swDzm83ZeR4V"
      }
    },
    {
      "cell_type": "code",
      "execution_count": 233,
      "metadata": {
        "id": "-OcVxf3oeEWQ"
      },
      "outputs": [],
      "source": [
        "# Imports\n",
        "import numpy as np\n",
        "import pandas as pd\n",
        "import matplotlib.pyplot as plt\n",
        "from sklearn.model_selection import train_test_split\n",
        "from sklearn.preprocessing import StandardScaler, OneHotEncoder\n",
        "from sklearn.compose import make_column_selector, make_column_transformer\n",
        "from sklearn.metrics import classification_report\n",
        "from tensorflow.keras.models import Sequential\n",
        "from tensorflow.keras.layers import Dense"
      ]
    },
    {
      "cell_type": "markdown",
      "source": [
        "## Load the data"
      ],
      "metadata": {
        "id": "5PHCZ44seW91"
      }
    },
    {
      "cell_type": "code",
      "source": [
        "# Load the data\n",
        "url = 'https://docs.google.com/spreadsheets/d/e/2PACX-1vQPIHj2zduhCmXT44ZMBjUJ6d0CaFmEIheo4D0k-4jJGD-po7W-mebgUCYxxzVfpi3qLI_vKwOp4U3F/pub?output=csv'\n",
        "df = pd.read_csv(url)\n",
        "df.head()"
      ],
      "metadata": {
        "colab": {
          "base_uri": "https://localhost:8080/",
          "height": 270
        },
        "id": "_K5z9MF8eRIC",
        "outputId": "8b18fa96-6f79-4d88-a0a7-634b1f52c3f1"
      },
      "execution_count": 234,
      "outputs": [
        {
          "output_type": "execute_result",
          "data": {
            "text/plain": [
              "   Age Sex ChestPainType  RestingBP  Cholesterol  FastingBS RestingECG  MaxHR  \\\n",
              "0   40   M           ATA        140          289          0     Normal    172   \n",
              "1   49   F           NAP        160          180          0     Normal    156   \n",
              "2   37   M           ATA        130          283          0         ST     98   \n",
              "3   48   F           ASY        138          214          0     Normal    108   \n",
              "4   54   M           NAP        150          195          0     Normal    122   \n",
              "\n",
              "  ExerciseAngina  Oldpeak ST_Slope  HeartDisease  \n",
              "0              N      0.0       Up             0  \n",
              "1              N      1.0     Flat             1  \n",
              "2              N      0.0       Up             0  \n",
              "3              Y      1.5     Flat             1  \n",
              "4              N      0.0       Up             0  "
            ],
            "text/html": [
              "\n",
              "  <div id=\"df-28ea8f53-3307-4c5d-9b76-4718829dcab2\">\n",
              "    <div class=\"colab-df-container\">\n",
              "      <div>\n",
              "<style scoped>\n",
              "    .dataframe tbody tr th:only-of-type {\n",
              "        vertical-align: middle;\n",
              "    }\n",
              "\n",
              "    .dataframe tbody tr th {\n",
              "        vertical-align: top;\n",
              "    }\n",
              "\n",
              "    .dataframe thead th {\n",
              "        text-align: right;\n",
              "    }\n",
              "</style>\n",
              "<table border=\"1\" class=\"dataframe\">\n",
              "  <thead>\n",
              "    <tr style=\"text-align: right;\">\n",
              "      <th></th>\n",
              "      <th>Age</th>\n",
              "      <th>Sex</th>\n",
              "      <th>ChestPainType</th>\n",
              "      <th>RestingBP</th>\n",
              "      <th>Cholesterol</th>\n",
              "      <th>FastingBS</th>\n",
              "      <th>RestingECG</th>\n",
              "      <th>MaxHR</th>\n",
              "      <th>ExerciseAngina</th>\n",
              "      <th>Oldpeak</th>\n",
              "      <th>ST_Slope</th>\n",
              "      <th>HeartDisease</th>\n",
              "    </tr>\n",
              "  </thead>\n",
              "  <tbody>\n",
              "    <tr>\n",
              "      <th>0</th>\n",
              "      <td>40</td>\n",
              "      <td>M</td>\n",
              "      <td>ATA</td>\n",
              "      <td>140</td>\n",
              "      <td>289</td>\n",
              "      <td>0</td>\n",
              "      <td>Normal</td>\n",
              "      <td>172</td>\n",
              "      <td>N</td>\n",
              "      <td>0.0</td>\n",
              "      <td>Up</td>\n",
              "      <td>0</td>\n",
              "    </tr>\n",
              "    <tr>\n",
              "      <th>1</th>\n",
              "      <td>49</td>\n",
              "      <td>F</td>\n",
              "      <td>NAP</td>\n",
              "      <td>160</td>\n",
              "      <td>180</td>\n",
              "      <td>0</td>\n",
              "      <td>Normal</td>\n",
              "      <td>156</td>\n",
              "      <td>N</td>\n",
              "      <td>1.0</td>\n",
              "      <td>Flat</td>\n",
              "      <td>1</td>\n",
              "    </tr>\n",
              "    <tr>\n",
              "      <th>2</th>\n",
              "      <td>37</td>\n",
              "      <td>M</td>\n",
              "      <td>ATA</td>\n",
              "      <td>130</td>\n",
              "      <td>283</td>\n",
              "      <td>0</td>\n",
              "      <td>ST</td>\n",
              "      <td>98</td>\n",
              "      <td>N</td>\n",
              "      <td>0.0</td>\n",
              "      <td>Up</td>\n",
              "      <td>0</td>\n",
              "    </tr>\n",
              "    <tr>\n",
              "      <th>3</th>\n",
              "      <td>48</td>\n",
              "      <td>F</td>\n",
              "      <td>ASY</td>\n",
              "      <td>138</td>\n",
              "      <td>214</td>\n",
              "      <td>0</td>\n",
              "      <td>Normal</td>\n",
              "      <td>108</td>\n",
              "      <td>Y</td>\n",
              "      <td>1.5</td>\n",
              "      <td>Flat</td>\n",
              "      <td>1</td>\n",
              "    </tr>\n",
              "    <tr>\n",
              "      <th>4</th>\n",
              "      <td>54</td>\n",
              "      <td>M</td>\n",
              "      <td>NAP</td>\n",
              "      <td>150</td>\n",
              "      <td>195</td>\n",
              "      <td>0</td>\n",
              "      <td>Normal</td>\n",
              "      <td>122</td>\n",
              "      <td>N</td>\n",
              "      <td>0.0</td>\n",
              "      <td>Up</td>\n",
              "      <td>0</td>\n",
              "    </tr>\n",
              "  </tbody>\n",
              "</table>\n",
              "</div>\n",
              "      <button class=\"colab-df-convert\" onclick=\"convertToInteractive('df-28ea8f53-3307-4c5d-9b76-4718829dcab2')\"\n",
              "              title=\"Convert this dataframe to an interactive table.\"\n",
              "              style=\"display:none;\">\n",
              "        \n",
              "  <svg xmlns=\"http://www.w3.org/2000/svg\" height=\"24px\"viewBox=\"0 0 24 24\"\n",
              "       width=\"24px\">\n",
              "    <path d=\"M0 0h24v24H0V0z\" fill=\"none\"/>\n",
              "    <path d=\"M18.56 5.44l.94 2.06.94-2.06 2.06-.94-2.06-.94-.94-2.06-.94 2.06-2.06.94zm-11 1L8.5 8.5l.94-2.06 2.06-.94-2.06-.94L8.5 2.5l-.94 2.06-2.06.94zm10 10l.94 2.06.94-2.06 2.06-.94-2.06-.94-.94-2.06-.94 2.06-2.06.94z\"/><path d=\"M17.41 7.96l-1.37-1.37c-.4-.4-.92-.59-1.43-.59-.52 0-1.04.2-1.43.59L10.3 9.45l-7.72 7.72c-.78.78-.78 2.05 0 2.83L4 21.41c.39.39.9.59 1.41.59.51 0 1.02-.2 1.41-.59l7.78-7.78 2.81-2.81c.8-.78.8-2.07 0-2.86zM5.41 20L4 18.59l7.72-7.72 1.47 1.35L5.41 20z\"/>\n",
              "  </svg>\n",
              "      </button>\n",
              "      \n",
              "  <style>\n",
              "    .colab-df-container {\n",
              "      display:flex;\n",
              "      flex-wrap:wrap;\n",
              "      gap: 12px;\n",
              "    }\n",
              "\n",
              "    .colab-df-convert {\n",
              "      background-color: #E8F0FE;\n",
              "      border: none;\n",
              "      border-radius: 50%;\n",
              "      cursor: pointer;\n",
              "      display: none;\n",
              "      fill: #1967D2;\n",
              "      height: 32px;\n",
              "      padding: 0 0 0 0;\n",
              "      width: 32px;\n",
              "    }\n",
              "\n",
              "    .colab-df-convert:hover {\n",
              "      background-color: #E2EBFA;\n",
              "      box-shadow: 0px 1px 2px rgba(60, 64, 67, 0.3), 0px 1px 3px 1px rgba(60, 64, 67, 0.15);\n",
              "      fill: #174EA6;\n",
              "    }\n",
              "\n",
              "    [theme=dark] .colab-df-convert {\n",
              "      background-color: #3B4455;\n",
              "      fill: #D2E3FC;\n",
              "    }\n",
              "\n",
              "    [theme=dark] .colab-df-convert:hover {\n",
              "      background-color: #434B5C;\n",
              "      box-shadow: 0px 1px 3px 1px rgba(0, 0, 0, 0.15);\n",
              "      filter: drop-shadow(0px 1px 2px rgba(0, 0, 0, 0.3));\n",
              "      fill: #FFFFFF;\n",
              "    }\n",
              "  </style>\n",
              "\n",
              "      <script>\n",
              "        const buttonEl =\n",
              "          document.querySelector('#df-28ea8f53-3307-4c5d-9b76-4718829dcab2 button.colab-df-convert');\n",
              "        buttonEl.style.display =\n",
              "          google.colab.kernel.accessAllowed ? 'block' : 'none';\n",
              "\n",
              "        async function convertToInteractive(key) {\n",
              "          const element = document.querySelector('#df-28ea8f53-3307-4c5d-9b76-4718829dcab2');\n",
              "          const dataTable =\n",
              "            await google.colab.kernel.invokeFunction('convertToInteractive',\n",
              "                                                     [key], {});\n",
              "          if (!dataTable) return;\n",
              "\n",
              "          const docLinkHtml = 'Like what you see? Visit the ' +\n",
              "            '<a target=\"_blank\" href=https://colab.research.google.com/notebooks/data_table.ipynb>data table notebook</a>'\n",
              "            + ' to learn more about interactive tables.';\n",
              "          element.innerHTML = '';\n",
              "          dataTable['output_type'] = 'display_data';\n",
              "          await google.colab.output.renderOutput(dataTable, element);\n",
              "          const docLink = document.createElement('div');\n",
              "          docLink.innerHTML = docLinkHtml;\n",
              "          element.appendChild(docLink);\n",
              "        }\n",
              "      </script>\n",
              "    </div>\n",
              "  </div>\n",
              "  "
            ]
          },
          "metadata": {},
          "execution_count": 234
        }
      ]
    },
    {
      "cell_type": "markdown",
      "source": [
        "## Clean the data"
      ],
      "metadata": {
        "id": "9FjeM5aRjA9j"
      }
    },
    {
      "cell_type": "code",
      "source": [
        "# Check for duplicates and missing values\n",
        "print('Duplicates:', df.duplicated().sum())\n",
        "print('Missing Values:', df.isna().sum().sum())"
      ],
      "metadata": {
        "id": "AdMZLEX4ebaO",
        "outputId": "095e3d77-c213-4465-ef17-8e512bbaf94c",
        "colab": {
          "base_uri": "https://localhost:8080/"
        }
      },
      "execution_count": 235,
      "outputs": [
        {
          "output_type": "stream",
          "name": "stdout",
          "text": [
            "Duplicates: 0\n",
            "Missing Values: 0\n"
          ]
        }
      ]
    },
    {
      "cell_type": "code",
      "source": [
        "# Check for inconsistent labels\n",
        "cat_cols = df.select_dtypes(include = 'object')\n",
        "for col in cat_cols:\n",
        "  print(col)\n",
        "  print(df[col].value_counts())"
      ],
      "metadata": {
        "id": "Pp0L9LoijMJ8",
        "outputId": "c97689be-4a88-4c6e-af3e-da73711e8c10",
        "colab": {
          "base_uri": "https://localhost:8080/"
        }
      },
      "execution_count": 236,
      "outputs": [
        {
          "output_type": "stream",
          "name": "stdout",
          "text": [
            "Sex\n",
            "M    725\n",
            "F    193\n",
            "Name: Sex, dtype: int64\n",
            "ChestPainType\n",
            "ASY    496\n",
            "NAP    203\n",
            "ATA    173\n",
            "TA      46\n",
            "Name: ChestPainType, dtype: int64\n",
            "RestingECG\n",
            "Normal    552\n",
            "LVH       188\n",
            "ST        178\n",
            "Name: RestingECG, dtype: int64\n",
            "ExerciseAngina\n",
            "N    547\n",
            "Y    371\n",
            "Name: ExerciseAngina, dtype: int64\n",
            "ST_Slope\n",
            "Flat    460\n",
            "Up      395\n",
            "Down     63\n",
            "Name: ST_Slope, dtype: int64\n"
          ]
        }
      ]
    },
    {
      "cell_type": "code",
      "source": [
        "# Check the balance\n",
        "df['HeartDisease'].mean()"
      ],
      "metadata": {
        "id": "tSr_J_pIj28j",
        "outputId": "7889dabb-f3c2-4ebf-ed17-0bf1a8d36f84",
        "colab": {
          "base_uri": "https://localhost:8080/"
        }
      },
      "execution_count": 237,
      "outputs": [
        {
          "output_type": "execute_result",
          "data": {
            "text/plain": [
              "0.5533769063180828"
            ]
          },
          "metadata": {},
          "execution_count": 237
        }
      ]
    },
    {
      "cell_type": "markdown",
      "source": [
        "> Data looks reasonably clean. We will move on to modeling."
      ],
      "metadata": {
        "id": "aNLdT6sWkAgt"
      }
    },
    {
      "cell_type": "markdown",
      "source": [
        "## Process the data"
      ],
      "metadata": {
        "id": "DL6oYQLEkILY"
      }
    },
    {
      "cell_type": "code",
      "source": [
        "# Set the features and target\n",
        "X = df.drop(columns = 'HeartDisease')\n",
        "y = df['HeartDisease']"
      ],
      "metadata": {
        "id": "Wh_nGg2AkGdY"
      },
      "execution_count": 238,
      "outputs": []
    },
    {
      "cell_type": "code",
      "source": [
        "# Split the data\n",
        "X_train, X_test, y_train, y_test = train_test_split(X, y, random_state = 42)"
      ],
      "metadata": {
        "id": "J1IfLZS-kRDB"
      },
      "execution_count": 239,
      "outputs": []
    },
    {
      "cell_type": "markdown",
      "source": [
        "## Column Transformer"
      ],
      "metadata": {
        "id": "Q3KYyXSNl4MG"
      }
    },
    {
      "cell_type": "code",
      "source": [
        "# Make column selectors\n",
        "cat_selector = make_column_selector(dtype_include = 'object')\n",
        "num_selector = make_column_selector(dtype_include = 'number')"
      ],
      "metadata": {
        "id": "hEXUSDghkmUL"
      },
      "execution_count": 240,
      "outputs": []
    },
    {
      "cell_type": "code",
      "source": [
        "# Make tuples for the column selector\n",
        "cat_tuple = (OneHotEncoder(sparse = False, handle_unknown = 'ignore'), cat_selector)\n",
        "num_tuple = (StandardScaler(), num_selector)"
      ],
      "metadata": {
        "id": "W1O_wgV8mFaV"
      },
      "execution_count": 241,
      "outputs": []
    },
    {
      "cell_type": "code",
      "source": [
        "# Construct the column transformer\n",
        "col_transformer = make_column_transformer(cat_tuple, num_tuple, remainder = 'passthrough')"
      ],
      "metadata": {
        "id": "W7R9gn72mYG_"
      },
      "execution_count": 242,
      "outputs": []
    },
    {
      "cell_type": "code",
      "source": [
        "# Transform the data\n",
        "X_train = col_transformer.fit_transform(X_train)\n",
        "X_test = col_transformer.fit_transform(X_test)"
      ],
      "metadata": {
        "id": "RQlMAnYLq6TW"
      },
      "execution_count": 243,
      "outputs": []
    },
    {
      "cell_type": "markdown",
      "source": [
        "## Model Construction"
      ],
      "metadata": {
        "id": "-b4SrAAkmhgO"
      }
    },
    {
      "cell_type": "code",
      "source": [
        "# Get the number of nodes for the input layer\n",
        "input_nodes = X_train.shape[1]\n",
        "input_nodes"
      ],
      "metadata": {
        "id": "f2Vbjfgwmg2E",
        "outputId": "62990546-ed93-4598-f55c-4610eb94669e",
        "colab": {
          "base_uri": "https://localhost:8080/"
        }
      },
      "execution_count": 244,
      "outputs": [
        {
          "output_type": "execute_result",
          "data": {
            "text/plain": [
              "20"
            ]
          },
          "metadata": {},
          "execution_count": 244
        }
      ]
    },
    {
      "cell_type": "code",
      "source": [
        "# Instantiate a model\n",
        "model = Sequential()"
      ],
      "metadata": {
        "id": "czBhNqmdpdwO"
      },
      "execution_count": 245,
      "outputs": []
    },
    {
      "cell_type": "code",
      "source": [
        "# Add the first hidden layer\n",
        "model.add(Dense(10, \n",
        "                input_dim = input_nodes,\n",
        "                activation = 'relu'))"
      ],
      "metadata": {
        "id": "VLZgA-flpgRj"
      },
      "execution_count": 246,
      "outputs": []
    },
    {
      "cell_type": "code",
      "source": [
        "# Add another hidder layer\n",
        "model.add(Dense(10, activation = 'relu'))"
      ],
      "metadata": {
        "id": "ivcFsdUxp67L"
      },
      "execution_count": 247,
      "outputs": []
    },
    {
      "cell_type": "code",
      "source": [
        "# Add the output layer\n",
        "model.add(Dense(1, activation = 'sigmoid'))"
      ],
      "metadata": {
        "id": "kXUPrCgeqArY"
      },
      "execution_count": 248,
      "outputs": []
    },
    {
      "cell_type": "code",
      "source": [
        "# Compile the model\n",
        "model.compile(loss = 'bce', optimizer = 'adam')"
      ],
      "metadata": {
        "id": "eiAD7OWdqIYI"
      },
      "execution_count": 249,
      "outputs": []
    },
    {
      "cell_type": "code",
      "source": [
        "# Fit the model\n",
        "history = model.fit(X_train, y_train,\n",
        "                    validation_data = (X_test, y_test), \n",
        "                    epochs = 10)"
      ],
      "metadata": {
        "id": "oM5JaoIvqVid",
        "outputId": "5bf427fc-cf0c-44f9-db62-959861c0f38c",
        "colab": {
          "base_uri": "https://localhost:8080/"
        }
      },
      "execution_count": 250,
      "outputs": [
        {
          "output_type": "stream",
          "name": "stdout",
          "text": [
            "Epoch 1/10\n",
            "22/22 [==============================] - 1s 11ms/step - loss: 0.6427 - val_loss: 0.6081\n",
            "Epoch 2/10\n",
            "22/22 [==============================] - 0s 3ms/step - loss: 0.5722 - val_loss: 0.5479\n",
            "Epoch 3/10\n",
            "22/22 [==============================] - 0s 3ms/step - loss: 0.5206 - val_loss: 0.5008\n",
            "Epoch 4/10\n",
            "22/22 [==============================] - 0s 3ms/step - loss: 0.4767 - val_loss: 0.4613\n",
            "Epoch 5/10\n",
            "22/22 [==============================] - 0s 3ms/step - loss: 0.4392 - val_loss: 0.4272\n",
            "Epoch 6/10\n",
            "22/22 [==============================] - 0s 3ms/step - loss: 0.4087 - val_loss: 0.4038\n",
            "Epoch 7/10\n",
            "22/22 [==============================] - 0s 3ms/step - loss: 0.3861 - val_loss: 0.3836\n",
            "Epoch 8/10\n",
            "22/22 [==============================] - 0s 4ms/step - loss: 0.3722 - val_loss: 0.3706\n",
            "Epoch 9/10\n",
            "22/22 [==============================] - 0s 4ms/step - loss: 0.3608 - val_loss: 0.3647\n",
            "Epoch 10/10\n",
            "22/22 [==============================] - 0s 4ms/step - loss: 0.3529 - val_loss: 0.3589\n"
          ]
        }
      ]
    },
    {
      "cell_type": "code",
      "source": [
        "# Plot the history\n",
        "plt.plot(history.history['loss'], label = 'Train Loss')\n",
        "plt.plot(history.history['val_loss'], label = 'Test Loss')\n",
        "plt.legend()"
      ],
      "metadata": {
        "id": "TXeN3gKgqg1g",
        "outputId": "ea56aecf-75ff-4801-c6a0-565d6d38ec69",
        "colab": {
          "base_uri": "https://localhost:8080/",
          "height": 282
        }
      },
      "execution_count": 251,
      "outputs": [
        {
          "output_type": "execute_result",
          "data": {
            "text/plain": [
              "<matplotlib.legend.Legend at 0x7fe322f02990>"
            ]
          },
          "metadata": {},
          "execution_count": 251
        },
        {
          "output_type": "display_data",
          "data": {
            "text/plain": [
              "<Figure size 432x288 with 1 Axes>"
            ],
            "image/png": "[encoded data removed]"
          },
          "metadata": {
            "needs_background": "light"
          }
        }
      ]
    },
    {
      "cell_type": "markdown",
      "source": [
        "## Evaluate the model"
      ],
      "metadata": {
        "id": "HUde8_-LCnY4"
      }
    },
    {
      "cell_type": "code",
      "source": [
        "# Get the classification report\n",
        "train_preds = (model.predict(X_train) >= 0.5).astype(float)\n",
        "test_preds = (model.predict(X_test) >= 0.5).astype(float)\n",
        "print('-'*19 + ' Train Metrics ' + '-'*19)\n",
        "print(classification_report(train_preds, y_train))\n",
        "print('\\n' + '-'*20 + ' Test Metrics ' + '-'*19)\n",
        "print(classification_report(test_preds, y_test))"
      ],
      "metadata": {
        "colab": {
          "base_uri": "https://localhost:8080/"
        },
        "id": "laIrLQrzCpqT",
        "outputId": "a454ddbd-fc2b-4389-c317-5fa7c8b177e3"
      },
      "execution_count": 252,
      "outputs": [
        {
          "output_type": "stream",
          "name": "stdout",
          "text": [
            "------------------- Train Metrics -------------------\n",
            "              precision    recall  f1-score   support\n",
            "\n",
            "         0.0       0.80      0.86      0.83       291\n",
            "         1.0       0.89      0.84      0.87       397\n",
            "\n",
            "    accuracy                           0.85       688\n",
            "   macro avg       0.85      0.85      0.85       688\n",
            "weighted avg       0.85      0.85      0.85       688\n",
            "\n",
            "\n",
            "-------------------- Test Metrics -------------------\n",
            "              precision    recall  f1-score   support\n",
            "\n",
            "         0.0       0.86      0.81      0.83       104\n",
            "         1.0       0.85      0.89      0.87       126\n",
            "\n",
            "    accuracy                           0.85       230\n",
            "   macro avg       0.85      0.85      0.85       230\n",
            "weighted avg       0.85      0.85      0.85       230\n",
            "\n"
          ]
        }
      ]
    },
    {
      "cell_type": "markdown",
      "source": [
        "## Tuned Model"
      ],
      "metadata": {
        "id": "jMKP8x5xOvir"
      }
    },
    {
      "cell_type": "code",
      "source": [
        "# Instantiate another model\n",
        "model2 = Sequential()"
      ],
      "metadata": {
        "id": "F656ZPcCC1P5"
      },
      "execution_count": 253,
      "outputs": []
    },
    {
      "cell_type": "code",
      "source": [
        "# Add some hidden layers\n",
        "model2.add(Dense(20, input_dim = input_nodes, activation = 'tanh'))\n",
        "model2.add(Dense(20, activation = 'tanh'))\n",
        "model2.add(Dense(20, activation = 'tanh'))\n",
        "model2.add(Dense(1, activation = 'sigmoid'))"
      ],
      "metadata": {
        "id": "dNbW7YMOPQLj"
      },
      "execution_count": 254,
      "outputs": []
    },
    {
      "cell_type": "code",
      "source": [
        "# Compile the model\n",
        "model2.compile(loss = 'bce', optimizer = 'adam')"
      ],
      "metadata": {
        "id": "3EIRUCZxRxWd"
      },
      "execution_count": 255,
      "outputs": []
    },
    {
      "cell_type": "code",
      "source": [
        "# Train the model\n",
        "history = model2.fit(X_train, y_train, \n",
        "                    validation_data = (X_test, y_test),\n",
        "                    epochs = 5)"
      ],
      "metadata": {
        "colab": {
          "base_uri": "https://localhost:8080/"
        },
        "id": "cBVLmtHjR6sz",
        "outputId": "215a2a3d-6ba7-48fa-fbf2-2cd184c993a6"
      },
      "execution_count": 256,
      "outputs": [
        {
          "output_type": "stream",
          "name": "stdout",
          "text": [
            "Epoch 1/5\n",
            "22/22 [==============================] - 1s 10ms/step - loss: 0.8104 - val_loss: 0.6627\n",
            "Epoch 2/5\n",
            "22/22 [==============================] - 0s 3ms/step - loss: 0.5863 - val_loss: 0.5082\n",
            "Epoch 3/5\n",
            "22/22 [==============================] - 0s 4ms/step - loss: 0.4578 - val_loss: 0.4143\n",
            "Epoch 4/5\n",
            "22/22 [==============================] - 0s 4ms/step - loss: 0.3884 - val_loss: 0.3754\n",
            "Epoch 5/5\n",
            "22/22 [==============================] - 0s 3ms/step - loss: 0.3622 - val_loss: 0.3632\n"
          ]
        }
      ]
    },
    {
      "cell_type": "code",
      "source": [
        "plt.plot(history.history['loss'], label = 'Train Loss')\n",
        "plt.plot(history.history['val_loss'], label = 'Test Loss')\n",
        "plt.legend()"
      ],
      "metadata": {
        "colab": {
          "base_uri": "https://localhost:8080/",
          "height": 282
        },
        "id": "ToKjto72SE91",
        "outputId": "8f6f0718-3368-4251-b10d-2f9a8a4646b5"
      },
      "execution_count": 257,
      "outputs": [
        {
          "output_type": "execute_result",
          "data": {
            "text/plain": [
              "<matplotlib.legend.Legend at 0x7fe322d39d90>"
            ]
          },
          "metadata": {},
          "execution_count": 257
        },
        {
          "output_type": "display_data",
          "data": {
            "text/plain": [
              "<Figure size 432x288 with 1 Axes>"
            ],
            "image/png": "[encoded data removed]"
          },
          "metadata": {
            "needs_background": "light"
          }
        }
      ]
    },
    {
      "cell_type": "code",
      "source": [
        "# Evaluate the models\n",
        "# Get the classification report\n",
        "train_preds = (model2.predict(X_train) >= 0.5).astype(float)\n",
        "test_preds = (model2.predict(X_test) >= 0.5).astype(float)\n",
        "print('-'*19 + ' Train Metrics ' + '-'*19)\n",
        "print(classification_report(train_preds, y_train))\n",
        "print('\\n' + '-'*20 + ' Test Metrics ' + '-'*19)\n",
        "print(classification_report(test_preds, y_test))"
      ],
      "metadata": {
        "colab": {
          "base_uri": "https://localhost:8080/"
        },
        "id": "OZMw7yDcSkuG",
        "outputId": "0cbac362-d00b-4237-9749-4a28493f49b1"
      },
      "execution_count": 258,
      "outputs": [
        {
          "output_type": "stream",
          "name": "stdout",
          "text": [
            "------------------- Train Metrics -------------------\n",
            "              precision    recall  f1-score   support\n",
            "\n",
            "         0.0       0.83      0.85      0.84       304\n",
            "         1.0       0.88      0.86      0.87       384\n",
            "\n",
            "    accuracy                           0.85       688\n",
            "   macro avg       0.85      0.85      0.85       688\n",
            "weighted avg       0.86      0.85      0.85       688\n",
            "\n",
            "\n",
            "-------------------- Test Metrics -------------------\n",
            "              precision    recall  f1-score   support\n",
            "\n",
            "         0.0       0.87      0.79      0.83       107\n",
            "         1.0       0.83      0.89      0.86       123\n",
            "\n",
            "    accuracy                           0.85       230\n",
            "   macro avg       0.85      0.84      0.85       230\n",
            "weighted avg       0.85      0.85      0.85       230\n",
            "\n"
          ]
        }
      ]
    },
    {
      "cell_type": "markdown",
      "source": [
        "## Another Tuned Model"
      ],
      "metadata": {
        "id": "UVCI6u8QS040"
      }
    },
    {
      "cell_type": "code",
      "source": [
        "# Instantiate the model\n",
        "model3 = Sequential()"
      ],
      "metadata": {
        "id": "_NK9s0z5S2rw"
      },
      "execution_count": 259,
      "outputs": []
    },
    {
      "cell_type": "code",
      "source": [
        "# Add the layers\n",
        "model3.add(Dense(30, input_dim = input_nodes, activation = 'linear'))\n",
        "model3.add(Dense(30, activation = 'linear'))\n",
        "model3.add(Dense(30, activation = 'linear'))\n",
        "model3.add(Dense(30, activation = 'linear'))\n",
        "model3.add(Dense(1, activation = 'sigmoid'))"
      ],
      "metadata": {
        "id": "6n4SZameS4DH"
      },
      "execution_count": 260,
      "outputs": []
    },
    {
      "cell_type": "code",
      "source": [
        "# Compile the model\n",
        "model3.compile(loss = 'bce', optimizer = 'adam')"
      ],
      "metadata": {
        "id": "FAY_p_1iTK8_"
      },
      "execution_count": 261,
      "outputs": []
    },
    {
      "cell_type": "code",
      "source": [
        "# Train the model\n",
        "history = model3.fit(X_train, y_train,\n",
        "           validation_data = (X_test, y_test),\n",
        "           epochs = 10)"
      ],
      "metadata": {
        "id": "8N-JmizxTWcD",
        "outputId": "6ed57ccb-bdc9-41af-d64f-596060db5c6d",
        "colab": {
          "base_uri": "https://localhost:8080/"
        }
      },
      "execution_count": 262,
      "outputs": [
        {
          "output_type": "stream",
          "name": "stdout",
          "text": [
            "Epoch 1/10\n",
            "22/22 [==============================] - 1s 10ms/step - loss: 0.5438 - val_loss: 0.3677\n",
            "Epoch 2/10\n",
            "22/22 [==============================] - 0s 3ms/step - loss: 0.3603 - val_loss: 0.3491\n",
            "Epoch 3/10\n",
            "22/22 [==============================] - 0s 3ms/step - loss: 0.3454 - val_loss: 0.3473\n",
            "Epoch 4/10\n",
            "22/22 [==============================] - 0s 4ms/step - loss: 0.3378 - val_loss: 0.3564\n",
            "Epoch 5/10\n",
            "22/22 [==============================] - 0s 4ms/step - loss: 0.3388 - val_loss: 0.3398\n",
            "Epoch 6/10\n",
            "22/22 [==============================] - 0s 5ms/step - loss: 0.3361 - val_loss: 0.3404\n",
            "Epoch 7/10\n",
            "22/22 [==============================] - 0s 4ms/step - loss: 0.3376 - val_loss: 0.3482\n",
            "Epoch 8/10\n",
            "22/22 [==============================] - 0s 5ms/step - loss: 0.3324 - val_loss: 0.3353\n",
            "Epoch 9/10\n",
            "22/22 [==============================] - 0s 4ms/step - loss: 0.3347 - val_loss: 0.3421\n",
            "Epoch 10/10\n",
            "22/22 [==============================] - 0s 4ms/step - loss: 0.3345 - val_loss: 0.3302\n"
          ]
        }
      ]
    },
    {
      "cell_type": "code",
      "source": [
        "# Graph the history\n",
        "plt.plot(history.history['loss'], label = 'Train Loss')\n",
        "plt.plot(history.history['val_loss'], label = 'Test Loss')\n",
        "plt.legend()"
      ],
      "metadata": {
        "id": "SBhZd06RTf3m",
        "outputId": "841ea230-c10c-4830-d54e-a11d60526c21",
        "colab": {
          "base_uri": "https://localhost:8080/",
          "height": 282
        }
      },
      "execution_count": 263,
      "outputs": [
        {
          "output_type": "execute_result",
          "data": {
            "text/plain": [
              "<matplotlib.legend.Legend at 0x7fe329a2c650>"
            ]
          },
          "metadata": {},
          "execution_count": 263
        },
        {
          "output_type": "display_data",
          "data": {
            "text/plain": [
              "<Figure size 432x288 with 1 Axes>"
            ],
            "image/png": "[encoded data removed]"
          },
          "metadata": {
            "needs_background": "light"
          }
        }
      ]
    },
    {
      "cell_type": "code",
      "source": [
        "# Get the classification report\n",
        "train_preds = (model3.predict(X_train) >= 0.5).astype(float)\n",
        "test_preds = (model3.predict(X_test) >= 0.5).astype(float)\n",
        "print('-'*19 + ' Train Metrics ' + '-'*19)\n",
        "print(classification_report(train_preds, y_train))\n",
        "print('\\n' + '-'*20 + ' Test Metrics ' + '-'*19)\n",
        "print(classification_report(test_preds, y_test))"
      ],
      "metadata": {
        "id": "my0duU-HT7-k",
        "outputId": "ede2edbc-5f41-458e-af1a-b1ed2fa96bdb",
        "colab": {
          "base_uri": "https://localhost:8080/"
        }
      },
      "execution_count": 264,
      "outputs": [
        {
          "output_type": "stream",
          "name": "stdout",
          "text": [
            "------------------- Train Metrics -------------------\n",
            "              precision    recall  f1-score   support\n",
            "\n",
            "         0.0       0.82      0.88      0.85       291\n",
            "         1.0       0.91      0.86      0.88       397\n",
            "\n",
            "    accuracy                           0.87       688\n",
            "   macro avg       0.87      0.87      0.87       688\n",
            "weighted avg       0.87      0.87      0.87       688\n",
            "\n",
            "\n",
            "-------------------- Test Metrics -------------------\n",
            "              precision    recall  f1-score   support\n",
            "\n",
            "         0.0       0.88      0.83      0.86       103\n",
            "         1.0       0.87      0.91      0.89       127\n",
            "\n",
            "    accuracy                           0.87       230\n",
            "   macro avg       0.87      0.87      0.87       230\n",
            "weighted avg       0.87      0.87      0.87       230\n",
            "\n"
          ]
        }
      ]
    }
  ]
}
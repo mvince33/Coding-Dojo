{
  "nbformat": 4,
  "nbformat_minor": 0,
  "metadata": {
    "colab": {
      "name": "Challenge Week 2, Day 2.ipynb",
      "provenance": [],
      "collapsed_sections": [],
      "include_colab_link": true
    },
    "kernelspec": {
      "name": "python3",
      "display_name": "Python 3"
    }
  },
  "cells": [
    {
      "cell_type": "markdown",
      "metadata": {
        "id": "view-in-github",
        "colab_type": "text"
      },
      "source": [
        "<a href=\"https://colab.research.google.com/github/mvince33/Coding-Dojo/blob/main/Challenge_Week_2%2C_Day_2.ipynb\" target=\"_parent\"><img src=\"https://colab.research.google.com/assets/colab-badge.svg\" alt=\"Open In Colab\"/></a>"
      ]
    },
    {
      "cell_type": "markdown",
      "metadata": {
        "id": "W126R0Qz5QNm"
      },
      "source": [
        "<center>\n",
        "<img src=\"https://course_report_production.s3.amazonaws.com/rich/rich_files/rich_files/2470/s300/cd-logo-blue-600x600.png\" alt=\"Coding Dojo Logo\" class=\"center\" height=\"50\">\n",
        "\n",
        "# Data Cleaning\n",
        "\n",
        "*Make a copy of this notebook to edit!*\n",
        "```\n",
        "File > Save a copy in Drive\n",
        "```\n",
        "\n",
        "We will use data on the Super Bowls. You can download the data [here](https://drive.google.com/file/d/1kWqIFO9LgVlMsYG9M9boRKCFiizpUB5o/view?usp=sharing).\n",
        "\n",
        "</center>\n",
        "\n",
        "**Why do we need to clean our data?**\n",
        "\n",
        "> Garbage in, garbage out.\n",
        "\n",
        "> Quality data beats fancy algorithms.\n",
        "\n",
        "Overall, incorrect data is either removed, corrected, or imputed. ([*source*](https://towardsdatascience.com/the-ultimate-guide-to-data-cleaning-3969843991d4))\n",
        "\n"
      ]
    },
    {
      "cell_type": "markdown",
      "metadata": {
        "id": "M3wwYi6u_VU3"
      },
      "source": [
        "Mount Data \n",
        "- Use the file URL below instead of mounting google drive. "
      ]
    },
    {
      "cell_type": "code",
      "source": [
        "from google.colab import drive\n",
        "drive.mount('/content/drive')"
      ],
      "metadata": {
        "id": "pFTKcFa0JnMn",
        "colab": {
          "base_uri": "https://localhost:8080/"
        },
        "outputId": "ccc9220f-170e-45fe-9523-59ef85341752"
      },
      "execution_count": 62,
      "outputs": [
        {
          "output_type": "stream",
          "name": "stdout",
          "text": [
            "Drive already mounted at /content/drive; to attempt to forcibly remount, call drive.mount(\"/content/drive\", force_remount=True).\n"
          ]
        }
      ]
    },
    {
      "cell_type": "code",
      "metadata": {
        "id": "DEpgQ9ta4BBH"
      },
      "source": [
        "file_url = \"https://docs.google.com/spreadsheets/d/e/2PACX-1vSAwjsA-rwGlz_Bb0yIgC13scmhxQCjayvh-sp0v3lRMxejeem8ntBBcDpr4xbNNMiGzB8VGPKJzGJv/pub?output=csv\""
      ],
      "execution_count": 63,
      "outputs": []
    },
    {
      "cell_type": "markdown",
      "metadata": {
        "id": "_A7msLwr_4TA"
      },
      "source": [
        "**Import Libraries**"
      ]
    },
    {
      "cell_type": "code",
      "metadata": {
        "id": "1qqHcPH56CaM"
      },
      "source": [
        "# Imports\n",
        "import pandas as pd\n",
        "import numpy as np"
      ],
      "execution_count": 64,
      "outputs": []
    },
    {
      "cell_type": "markdown",
      "metadata": {
        "id": "7Djq4Nz1_5dD"
      },
      "source": [
        "**Load Data & view first 5 rows**"
      ]
    },
    {
      "cell_type": "code",
      "metadata": {
        "id": "x0N_O7tr5WV8",
        "colab": {
          "base_uri": "https://localhost:8080/",
          "height": 384
        },
        "outputId": "bbdaeb82-07ad-428c-9edf-7f99e97485ca"
      },
      "source": [
        "# Load Data\n",
        "df = pd.read_csv(file_url)\n",
        "df.head()"
      ],
      "execution_count": 65,
      "outputs": [
        {
          "output_type": "execute_result",
          "data": {
            "text/plain": [
              "   Unnamed: 0       Date   SB  Attendance                    QB  Winner  \\\n",
              "0           0  15-Jan-67    I       61946                    Bart Starr   \n",
              "1           1  14-Jan-68   II       75546                    Bart Starr   \n",
              "2           2  12-Jan-69  III       75389                    Joe Namath   \n",
              "3           3  11-Jan-70   IV       80562   Len Dawson, Mike Livingston   \n",
              "4           4  17-Jan-71    V       79204  Earl Morrall , Johnny Unitas   \n",
              "\n",
              "     Coach Winner              Winner  Winning Pts  \\\n",
              "0  Vince Lombardi   Green Bay Packers           35   \n",
              "1  Vince Lombardi   Green Bay Packers           33   \n",
              "2     Weeb Ewbank       New York Jets           16   \n",
              "3      Hank Stram  Kansas City Chiefs           23   \n",
              "4  Don McCafferty     Baltimore Colts           16   \n",
              "\n",
              "                      QB Loser Coach Loser  ...         City       State  \\\n",
              "0                   Len Dawson  Hank Stram  ...  Los Angeles  California   \n",
              "1              Daryle Lamonica  John Rauch  ...        Miami     Florida   \n",
              "2  Earl Morrall, Johnny Unitas   Don Shula  ...        Miami     Florida   \n",
              "3                     Joe Kapp   Bud Grant  ...  New Orleans   Louisiana   \n",
              "4                 Craig Morton  Tom Landry  ...        Miami          FL   \n",
              "\n",
              "  Point Difference         Referee          Umpire Head Linesman  Line Judge  \\\n",
              "0               25             NaN             NaN           NaN         NaN   \n",
              "1               19             NaN             NaN           NaN         NaN   \n",
              "2                9             NaN             NaN           NaN         NaN   \n",
              "3               16             NaN             NaN           NaN         NaN   \n",
              "4                3  Norm Schachter  Paul Trepinski     Ed Marion  Jack Fette   \n",
              "\n",
              "  Field Judge   Back Judge Side Judge  \n",
              "0         NaN          NaN        NaN  \n",
              "1         NaN          NaN        NaN  \n",
              "2         NaN          NaN        NaN  \n",
              "3         NaN          NaN        NaN  \n",
              "4  Fritz Graf  Hugh Gamber        NaN  \n",
              "\n",
              "[5 rows x 24 columns]"
            ],
            "text/html": [
              "\n",
              "  <div id=\"df-9cbe33dc-a6ee-4c1a-bad2-aa2c4f85a4b2\">\n",
              "    <div class=\"colab-df-container\">\n",
              "      <div>\n",
              "<style scoped>\n",
              "    .dataframe tbody tr th:only-of-type {\n",
              "        vertical-align: middle;\n",
              "    }\n",
              "\n",
              "    .dataframe tbody tr th {\n",
              "        vertical-align: top;\n",
              "    }\n",
              "\n",
              "    .dataframe thead th {\n",
              "        text-align: right;\n",
              "    }\n",
              "</style>\n",
              "<table border=\"1\" class=\"dataframe\">\n",
              "  <thead>\n",
              "    <tr style=\"text-align: right;\">\n",
              "      <th></th>\n",
              "      <th>Unnamed: 0</th>\n",
              "      <th>Date</th>\n",
              "      <th>SB</th>\n",
              "      <th>Attendance</th>\n",
              "      <th>QB  Winner</th>\n",
              "      <th>Coach Winner</th>\n",
              "      <th>Winner</th>\n",
              "      <th>Winning Pts</th>\n",
              "      <th>QB Loser</th>\n",
              "      <th>Coach Loser</th>\n",
              "      <th>...</th>\n",
              "      <th>City</th>\n",
              "      <th>State</th>\n",
              "      <th>Point Difference</th>\n",
              "      <th>Referee</th>\n",
              "      <th>Umpire</th>\n",
              "      <th>Head Linesman</th>\n",
              "      <th>Line Judge</th>\n",
              "      <th>Field Judge</th>\n",
              "      <th>Back Judge</th>\n",
              "      <th>Side Judge</th>\n",
              "    </tr>\n",
              "  </thead>\n",
              "  <tbody>\n",
              "    <tr>\n",
              "      <th>0</th>\n",
              "      <td>0</td>\n",
              "      <td>15-Jan-67</td>\n",
              "      <td>I</td>\n",
              "      <td>61946</td>\n",
              "      <td>Bart Starr</td>\n",
              "      <td>Vince Lombardi</td>\n",
              "      <td>Green Bay Packers</td>\n",
              "      <td>35</td>\n",
              "      <td>Len Dawson</td>\n",
              "      <td>Hank Stram</td>\n",
              "      <td>...</td>\n",
              "      <td>Los Angeles</td>\n",
              "      <td>California</td>\n",
              "      <td>25</td>\n",
              "      <td>NaN</td>\n",
              "      <td>NaN</td>\n",
              "      <td>NaN</td>\n",
              "      <td>NaN</td>\n",
              "      <td>NaN</td>\n",
              "      <td>NaN</td>\n",
              "      <td>NaN</td>\n",
              "    </tr>\n",
              "    <tr>\n",
              "      <th>1</th>\n",
              "      <td>1</td>\n",
              "      <td>14-Jan-68</td>\n",
              "      <td>II</td>\n",
              "      <td>75546</td>\n",
              "      <td>Bart Starr</td>\n",
              "      <td>Vince Lombardi</td>\n",
              "      <td>Green Bay Packers</td>\n",
              "      <td>33</td>\n",
              "      <td>Daryle Lamonica</td>\n",
              "      <td>John Rauch</td>\n",
              "      <td>...</td>\n",
              "      <td>Miami</td>\n",
              "      <td>Florida</td>\n",
              "      <td>19</td>\n",
              "      <td>NaN</td>\n",
              "      <td>NaN</td>\n",
              "      <td>NaN</td>\n",
              "      <td>NaN</td>\n",
              "      <td>NaN</td>\n",
              "      <td>NaN</td>\n",
              "      <td>NaN</td>\n",
              "    </tr>\n",
              "    <tr>\n",
              "      <th>2</th>\n",
              "      <td>2</td>\n",
              "      <td>12-Jan-69</td>\n",
              "      <td>III</td>\n",
              "      <td>75389</td>\n",
              "      <td>Joe Namath</td>\n",
              "      <td>Weeb Ewbank</td>\n",
              "      <td>New York Jets</td>\n",
              "      <td>16</td>\n",
              "      <td>Earl Morrall, Johnny Unitas</td>\n",
              "      <td>Don Shula</td>\n",
              "      <td>...</td>\n",
              "      <td>Miami</td>\n",
              "      <td>Florida</td>\n",
              "      <td>9</td>\n",
              "      <td>NaN</td>\n",
              "      <td>NaN</td>\n",
              "      <td>NaN</td>\n",
              "      <td>NaN</td>\n",
              "      <td>NaN</td>\n",
              "      <td>NaN</td>\n",
              "      <td>NaN</td>\n",
              "    </tr>\n",
              "    <tr>\n",
              "      <th>3</th>\n",
              "      <td>3</td>\n",
              "      <td>11-Jan-70</td>\n",
              "      <td>IV</td>\n",
              "      <td>80562</td>\n",
              "      <td>Len Dawson, Mike Livingston</td>\n",
              "      <td>Hank Stram</td>\n",
              "      <td>Kansas City Chiefs</td>\n",
              "      <td>23</td>\n",
              "      <td>Joe Kapp</td>\n",
              "      <td>Bud Grant</td>\n",
              "      <td>...</td>\n",
              "      <td>New Orleans</td>\n",
              "      <td>Louisiana</td>\n",
              "      <td>16</td>\n",
              "      <td>NaN</td>\n",
              "      <td>NaN</td>\n",
              "      <td>NaN</td>\n",
              "      <td>NaN</td>\n",
              "      <td>NaN</td>\n",
              "      <td>NaN</td>\n",
              "      <td>NaN</td>\n",
              "    </tr>\n",
              "    <tr>\n",
              "      <th>4</th>\n",
              "      <td>4</td>\n",
              "      <td>17-Jan-71</td>\n",
              "      <td>V</td>\n",
              "      <td>79204</td>\n",
              "      <td>Earl Morrall , Johnny Unitas</td>\n",
              "      <td>Don McCafferty</td>\n",
              "      <td>Baltimore Colts</td>\n",
              "      <td>16</td>\n",
              "      <td>Craig Morton</td>\n",
              "      <td>Tom Landry</td>\n",
              "      <td>...</td>\n",
              "      <td>Miami</td>\n",
              "      <td>FL</td>\n",
              "      <td>3</td>\n",
              "      <td>Norm Schachter</td>\n",
              "      <td>Paul Trepinski</td>\n",
              "      <td>Ed Marion</td>\n",
              "      <td>Jack Fette</td>\n",
              "      <td>Fritz Graf</td>\n",
              "      <td>Hugh Gamber</td>\n",
              "      <td>NaN</td>\n",
              "    </tr>\n",
              "  </tbody>\n",
              "</table>\n",
              "<p>5 rows × 24 columns</p>\n",
              "</div>\n",
              "      <button class=\"colab-df-convert\" onclick=\"convertToInteractive('df-9cbe33dc-a6ee-4c1a-bad2-aa2c4f85a4b2')\"\n",
              "              title=\"Convert this dataframe to an interactive table.\"\n",
              "              style=\"display:none;\">\n",
              "        \n",
              "  <svg xmlns=\"http://www.w3.org/2000/svg\" height=\"24px\"viewBox=\"0 0 24 24\"\n",
              "       width=\"24px\">\n",
              "    <path d=\"M0 0h24v24H0V0z\" fill=\"none\"/>\n",
              "    <path d=\"M18.56 5.44l.94 2.06.94-2.06 2.06-.94-2.06-.94-.94-2.06-.94 2.06-2.06.94zm-11 1L8.5 8.5l.94-2.06 2.06-.94-2.06-.94L8.5 2.5l-.94 2.06-2.06.94zm10 10l.94 2.06.94-2.06 2.06-.94-2.06-.94-.94-2.06-.94 2.06-2.06.94z\"/><path d=\"M17.41 7.96l-1.37-1.37c-.4-.4-.92-.59-1.43-.59-.52 0-1.04.2-1.43.59L10.3 9.45l-7.72 7.72c-.78.78-.78 2.05 0 2.83L4 21.41c.39.39.9.59 1.41.59.51 0 1.02-.2 1.41-.59l7.78-7.78 2.81-2.81c.8-.78.8-2.07 0-2.86zM5.41 20L4 18.59l7.72-7.72 1.47 1.35L5.41 20z\"/>\n",
              "  </svg>\n",
              "      </button>\n",
              "      \n",
              "  <style>\n",
              "    .colab-df-container {\n",
              "      display:flex;\n",
              "      flex-wrap:wrap;\n",
              "      gap: 12px;\n",
              "    }\n",
              "\n",
              "    .colab-df-convert {\n",
              "      background-color: #E8F0FE;\n",
              "      border: none;\n",
              "      border-radius: 50%;\n",
              "      cursor: pointer;\n",
              "      display: none;\n",
              "      fill: #1967D2;\n",
              "      height: 32px;\n",
              "      padding: 0 0 0 0;\n",
              "      width: 32px;\n",
              "    }\n",
              "\n",
              "    .colab-df-convert:hover {\n",
              "      background-color: #E2EBFA;\n",
              "      box-shadow: 0px 1px 2px rgba(60, 64, 67, 0.3), 0px 1px 3px 1px rgba(60, 64, 67, 0.15);\n",
              "      fill: #174EA6;\n",
              "    }\n",
              "\n",
              "    [theme=dark] .colab-df-convert {\n",
              "      background-color: #3B4455;\n",
              "      fill: #D2E3FC;\n",
              "    }\n",
              "\n",
              "    [theme=dark] .colab-df-convert:hover {\n",
              "      background-color: #434B5C;\n",
              "      box-shadow: 0px 1px 3px 1px rgba(0, 0, 0, 0.15);\n",
              "      filter: drop-shadow(0px 1px 2px rgba(0, 0, 0, 0.3));\n",
              "      fill: #FFFFFF;\n",
              "    }\n",
              "  </style>\n",
              "\n",
              "      <script>\n",
              "        const buttonEl =\n",
              "          document.querySelector('#df-9cbe33dc-a6ee-4c1a-bad2-aa2c4f85a4b2 button.colab-df-convert');\n",
              "        buttonEl.style.display =\n",
              "          google.colab.kernel.accessAllowed ? 'block' : 'none';\n",
              "\n",
              "        async function convertToInteractive(key) {\n",
              "          const element = document.querySelector('#df-9cbe33dc-a6ee-4c1a-bad2-aa2c4f85a4b2');\n",
              "          const dataTable =\n",
              "            await google.colab.kernel.invokeFunction('convertToInteractive',\n",
              "                                                     [key], {});\n",
              "          if (!dataTable) return;\n",
              "\n",
              "          const docLinkHtml = 'Like what you see? Visit the ' +\n",
              "            '<a target=\"_blank\" href=https://colab.research.google.com/notebooks/data_table.ipynb>data table notebook</a>'\n",
              "            + ' to learn more about interactive tables.';\n",
              "          element.innerHTML = '';\n",
              "          dataTable['output_type'] = 'display_data';\n",
              "          await google.colab.output.renderOutput(dataTable, element);\n",
              "          const docLink = document.createElement('div');\n",
              "          docLink.innerHTML = docLinkHtml;\n",
              "          element.appendChild(docLink);\n",
              "        }\n",
              "      </script>\n",
              "    </div>\n",
              "  </div>\n",
              "  "
            ]
          },
          "metadata": {},
          "execution_count": 65
        }
      ]
    },
    {
      "cell_type": "markdown",
      "metadata": {
        "id": "rR37lF3KUAps"
      },
      "source": [
        "## Irrelevant data\n",
        "\n",
        "Irrelevant data is information that is unnecessary or unrelated to our task.\n",
        "\n",
        "Typically, we want to remove this data - but **only if you are absolutely sure it is irrelevant**. When in doubt, consult a subject matter expert.\n",
        "\n",
        "**What column seems unnecessary in this dataset? Drop it.**"
      ]
    },
    {
      "cell_type": "code",
      "metadata": {
        "id": "wLAFlsWE3K0K",
        "colab": {
          "base_uri": "https://localhost:8080/"
        },
        "outputId": "b8a13ec9-c7cb-497a-df2f-18239b960c51"
      },
      "source": [
        "# List the columns\n",
        "df.columns\n",
        "del_cols = ['Unnamed: 0',\n",
        "            'Referee',\n",
        "            'Umpire',\n",
        "            'Head Linesman',\n",
        "            'Line Judge',\n",
        "            'Field Judge',\n",
        "            'Back Judge',\n",
        "            'Side Judge']\n",
        "df.drop(columns = del_cols, inplace = True)\n",
        "df.info()"
      ],
      "execution_count": 66,
      "outputs": [
        {
          "output_type": "stream",
          "name": "stdout",
          "text": [
            "<class 'pandas.core.frame.DataFrame'>\n",
            "RangeIndex: 53 entries, 0 to 52\n",
            "Data columns (total 16 columns):\n",
            " #   Column            Non-Null Count  Dtype \n",
            "---  ------            --------------  ----- \n",
            " 0   Date              53 non-null     object\n",
            " 1   SB                53 non-null     object\n",
            " 2   Attendance        53 non-null     int64 \n",
            " 3   QB  Winner        53 non-null     object\n",
            " 4   Coach Winner      53 non-null     object\n",
            " 5   Winner            53 non-null     object\n",
            " 6   Winning Pts       53 non-null     int64 \n",
            " 7   QB Loser          53 non-null     object\n",
            " 8   Coach Loser       53 non-null     object\n",
            " 9   Loser             53 non-null     object\n",
            " 10  Losing Pts        53 non-null     int64 \n",
            " 11  MVP               53 non-null     object\n",
            " 12  Stadium           53 non-null     object\n",
            " 13  City              53 non-null     object\n",
            " 14  State             53 non-null     object\n",
            " 15  Point Difference  53 non-null     int64 \n",
            "dtypes: int64(4), object(12)\n",
            "memory usage: 6.8+ KB\n"
          ]
        }
      ]
    },
    {
      "cell_type": "markdown",
      "metadata": {
        "id": "RYke0g8ZVyeM"
      },
      "source": [
        "## Duplicate data\n",
        "\n",
        "It is common that your data has data points that are repeated. Duplicates should be removed.\n",
        "\n",
        "**Check for and remove any duplicates in this data.**"
      ]
    },
    {
      "cell_type": "code",
      "metadata": {
        "id": "eDeWDzH55SU5",
        "colab": {
          "base_uri": "https://localhost:8080/"
        },
        "outputId": "cb262c03-ae14-4669-b38f-b5906f462d35"
      },
      "source": [
        "df.duplicated().sum()"
      ],
      "execution_count": 67,
      "outputs": [
        {
          "output_type": "execute_result",
          "data": {
            "text/plain": [
              "1"
            ]
          },
          "metadata": {},
          "execution_count": 67
        }
      ]
    },
    {
      "cell_type": "code",
      "metadata": {
        "id": "4DAHTWio5kBo",
        "colab": {
          "base_uri": "https://localhost:8080/",
          "height": 263
        },
        "outputId": "043c7855-2ed3-40ca-f6bb-e51f96db0be1"
      },
      "source": [
        "df[df.duplicated(keep = False)]"
      ],
      "execution_count": 68,
      "outputs": [
        {
          "output_type": "execute_result",
          "data": {
            "text/plain": [
              "         Date   SB  Attendance  QB  Winner   Coach Winner           Winner  \\\n",
              "20  25-Jan-87  XXI      101063  Phil Simms  Bill Parcells  New York Giants   \n",
              "52  25-Jan-87  XXI      101063  Phil Simms  Bill Parcells  New York Giants   \n",
              "\n",
              "    Winning Pts    QB Loser Coach Loser           Loser  Losing Pts  \\\n",
              "20           39  John Elway  Dan Reeves  Denver Broncos          20   \n",
              "52           39  John Elway  Dan Reeves  Denver Broncos          20   \n",
              "\n",
              "           MVP    Stadium      City       State  Point Difference  \n",
              "20  Phil Simms  Rose Bowl  Pasadena  California                19  \n",
              "52  Phil Simms  Rose Bowl  Pasadena  California                19  "
            ],
            "text/html": [
              "\n",
              "  <div id=\"df-2483adca-7d49-432e-894d-4aadc12010e8\">\n",
              "    <div class=\"colab-df-container\">\n",
              "      <div>\n",
              "<style scoped>\n",
              "    .dataframe tbody tr th:only-of-type {\n",
              "        vertical-align: middle;\n",
              "    }\n",
              "\n",
              "    .dataframe tbody tr th {\n",
              "        vertical-align: top;\n",
              "    }\n",
              "\n",
              "    .dataframe thead th {\n",
              "        text-align: right;\n",
              "    }\n",
              "</style>\n",
              "<table border=\"1\" class=\"dataframe\">\n",
              "  <thead>\n",
              "    <tr style=\"text-align: right;\">\n",
              "      <th></th>\n",
              "      <th>Date</th>\n",
              "      <th>SB</th>\n",
              "      <th>Attendance</th>\n",
              "      <th>QB  Winner</th>\n",
              "      <th>Coach Winner</th>\n",
              "      <th>Winner</th>\n",
              "      <th>Winning Pts</th>\n",
              "      <th>QB Loser</th>\n",
              "      <th>Coach Loser</th>\n",
              "      <th>Loser</th>\n",
              "      <th>Losing Pts</th>\n",
              "      <th>MVP</th>\n",
              "      <th>Stadium</th>\n",
              "      <th>City</th>\n",
              "      <th>State</th>\n",
              "      <th>Point Difference</th>\n",
              "    </tr>\n",
              "  </thead>\n",
              "  <tbody>\n",
              "    <tr>\n",
              "      <th>20</th>\n",
              "      <td>25-Jan-87</td>\n",
              "      <td>XXI</td>\n",
              "      <td>101063</td>\n",
              "      <td>Phil Simms</td>\n",
              "      <td>Bill Parcells</td>\n",
              "      <td>New York Giants</td>\n",
              "      <td>39</td>\n",
              "      <td>John Elway</td>\n",
              "      <td>Dan Reeves</td>\n",
              "      <td>Denver Broncos</td>\n",
              "      <td>20</td>\n",
              "      <td>Phil Simms</td>\n",
              "      <td>Rose Bowl</td>\n",
              "      <td>Pasadena</td>\n",
              "      <td>California</td>\n",
              "      <td>19</td>\n",
              "    </tr>\n",
              "    <tr>\n",
              "      <th>52</th>\n",
              "      <td>25-Jan-87</td>\n",
              "      <td>XXI</td>\n",
              "      <td>101063</td>\n",
              "      <td>Phil Simms</td>\n",
              "      <td>Bill Parcells</td>\n",
              "      <td>New York Giants</td>\n",
              "      <td>39</td>\n",
              "      <td>John Elway</td>\n",
              "      <td>Dan Reeves</td>\n",
              "      <td>Denver Broncos</td>\n",
              "      <td>20</td>\n",
              "      <td>Phil Simms</td>\n",
              "      <td>Rose Bowl</td>\n",
              "      <td>Pasadena</td>\n",
              "      <td>California</td>\n",
              "      <td>19</td>\n",
              "    </tr>\n",
              "  </tbody>\n",
              "</table>\n",
              "</div>\n",
              "      <button class=\"colab-df-convert\" onclick=\"convertToInteractive('df-2483adca-7d49-432e-894d-4aadc12010e8')\"\n",
              "              title=\"Convert this dataframe to an interactive table.\"\n",
              "              style=\"display:none;\">\n",
              "        \n",
              "  <svg xmlns=\"http://www.w3.org/2000/svg\" height=\"24px\"viewBox=\"0 0 24 24\"\n",
              "       width=\"24px\">\n",
              "    <path d=\"M0 0h24v24H0V0z\" fill=\"none\"/>\n",
              "    <path d=\"M18.56 5.44l.94 2.06.94-2.06 2.06-.94-2.06-.94-.94-2.06-.94 2.06-2.06.94zm-11 1L8.5 8.5l.94-2.06 2.06-.94-2.06-.94L8.5 2.5l-.94 2.06-2.06.94zm10 10l.94 2.06.94-2.06 2.06-.94-2.06-.94-.94-2.06-.94 2.06-2.06.94z\"/><path d=\"M17.41 7.96l-1.37-1.37c-.4-.4-.92-.59-1.43-.59-.52 0-1.04.2-1.43.59L10.3 9.45l-7.72 7.72c-.78.78-.78 2.05 0 2.83L4 21.41c.39.39.9.59 1.41.59.51 0 1.02-.2 1.41-.59l7.78-7.78 2.81-2.81c.8-.78.8-2.07 0-2.86zM5.41 20L4 18.59l7.72-7.72 1.47 1.35L5.41 20z\"/>\n",
              "  </svg>\n",
              "      </button>\n",
              "      \n",
              "  <style>\n",
              "    .colab-df-container {\n",
              "      display:flex;\n",
              "      flex-wrap:wrap;\n",
              "      gap: 12px;\n",
              "    }\n",
              "\n",
              "    .colab-df-convert {\n",
              "      background-color: #E8F0FE;\n",
              "      border: none;\n",
              "      border-radius: 50%;\n",
              "      cursor: pointer;\n",
              "      display: none;\n",
              "      fill: #1967D2;\n",
              "      height: 32px;\n",
              "      padding: 0 0 0 0;\n",
              "      width: 32px;\n",
              "    }\n",
              "\n",
              "    .colab-df-convert:hover {\n",
              "      background-color: #E2EBFA;\n",
              "      box-shadow: 0px 1px 2px rgba(60, 64, 67, 0.3), 0px 1px 3px 1px rgba(60, 64, 67, 0.15);\n",
              "      fill: #174EA6;\n",
              "    }\n",
              "\n",
              "    [theme=dark] .colab-df-convert {\n",
              "      background-color: #3B4455;\n",
              "      fill: #D2E3FC;\n",
              "    }\n",
              "\n",
              "    [theme=dark] .colab-df-convert:hover {\n",
              "      background-color: #434B5C;\n",
              "      box-shadow: 0px 1px 3px 1px rgba(0, 0, 0, 0.15);\n",
              "      filter: drop-shadow(0px 1px 2px rgba(0, 0, 0, 0.3));\n",
              "      fill: #FFFFFF;\n",
              "    }\n",
              "  </style>\n",
              "\n",
              "      <script>\n",
              "        const buttonEl =\n",
              "          document.querySelector('#df-2483adca-7d49-432e-894d-4aadc12010e8 button.colab-df-convert');\n",
              "        buttonEl.style.display =\n",
              "          google.colab.kernel.accessAllowed ? 'block' : 'none';\n",
              "\n",
              "        async function convertToInteractive(key) {\n",
              "          const element = document.querySelector('#df-2483adca-7d49-432e-894d-4aadc12010e8');\n",
              "          const dataTable =\n",
              "            await google.colab.kernel.invokeFunction('convertToInteractive',\n",
              "                                                     [key], {});\n",
              "          if (!dataTable) return;\n",
              "\n",
              "          const docLinkHtml = 'Like what you see? Visit the ' +\n",
              "            '<a target=\"_blank\" href=https://colab.research.google.com/notebooks/data_table.ipynb>data table notebook</a>'\n",
              "            + ' to learn more about interactive tables.';\n",
              "          element.innerHTML = '';\n",
              "          dataTable['output_type'] = 'display_data';\n",
              "          await google.colab.output.renderOutput(dataTable, element);\n",
              "          const docLink = document.createElement('div');\n",
              "          docLink.innerHTML = docLinkHtml;\n",
              "          element.appendChild(docLink);\n",
              "        }\n",
              "      </script>\n",
              "    </div>\n",
              "  </div>\n",
              "  "
            ]
          },
          "metadata": {},
          "execution_count": 68
        }
      ]
    },
    {
      "cell_type": "code",
      "source": [
        "df.drop_duplicates(inplace = True)"
      ],
      "metadata": {
        "id": "zlPh9F3PYR5k"
      },
      "execution_count": 69,
      "outputs": []
    },
    {
      "cell_type": "code",
      "source": [
        "df.duplicated().sum()"
      ],
      "metadata": {
        "id": "BtvkZrhEYj7t",
        "colab": {
          "base_uri": "https://localhost:8080/"
        },
        "outputId": "6dcfcef0-4f36-4a30-c562-9cbce9da2cb8"
      },
      "execution_count": 70,
      "outputs": [
        {
          "output_type": "execute_result",
          "data": {
            "text/plain": [
              "0"
            ]
          },
          "metadata": {},
          "execution_count": 70
        }
      ]
    },
    {
      "cell_type": "markdown",
      "metadata": {
        "id": "9-4hHazWVybE"
      },
      "source": [
        "## Data types\n",
        "\n",
        "You want your data to all be correct data types. There may be errors in your data causing numeric types to be read in as objects or dates that need to be converted to datetime objects. Additionally, we may want to convert our categorical variables to numbers.\n",
        "\n",
        "**Check the datatypes & validate that they are what they should be. The `Date` column should be a DateTime type - fix this using `df['Date'] = pd.to_datetime(df['Date'])` if is not the case!**"
      ]
    },
    {
      "cell_type": "code",
      "metadata": {
        "id": "-0XIQ7N16EtE",
        "colab": {
          "base_uri": "https://localhost:8080/"
        },
        "outputId": "a8a63a7b-0c75-4fb0-f99e-0961d8854a3b"
      },
      "source": [
        "df.info()"
      ],
      "execution_count": 71,
      "outputs": [
        {
          "output_type": "stream",
          "name": "stdout",
          "text": [
            "<class 'pandas.core.frame.DataFrame'>\n",
            "Int64Index: 52 entries, 0 to 51\n",
            "Data columns (total 16 columns):\n",
            " #   Column            Non-Null Count  Dtype \n",
            "---  ------            --------------  ----- \n",
            " 0   Date              52 non-null     object\n",
            " 1   SB                52 non-null     object\n",
            " 2   Attendance        52 non-null     int64 \n",
            " 3   QB  Winner        52 non-null     object\n",
            " 4   Coach Winner      52 non-null     object\n",
            " 5   Winner            52 non-null     object\n",
            " 6   Winning Pts       52 non-null     int64 \n",
            " 7   QB Loser          52 non-null     object\n",
            " 8   Coach Loser       52 non-null     object\n",
            " 9   Loser             52 non-null     object\n",
            " 10  Losing Pts        52 non-null     int64 \n",
            " 11  MVP               52 non-null     object\n",
            " 12  Stadium           52 non-null     object\n",
            " 13  City              52 non-null     object\n",
            " 14  State             52 non-null     object\n",
            " 15  Point Difference  52 non-null     int64 \n",
            "dtypes: int64(4), object(12)\n",
            "memory usage: 6.9+ KB\n"
          ]
        }
      ]
    },
    {
      "cell_type": "code",
      "source": [
        "df['Date'] = pd.to_datetime(df['Date'])\n",
        "date_filter = df['Date'] >= np.datetime64('2020-01-01')\n",
        "df.loc[date_filter, 'Date']\n",
        "\n",
        "# This is not the most elegant solution to this problem\n",
        "# I would like to find a better way to handle this as I \n",
        "# think this is probably a fairly common problem in data science.\n",
        "for i in df['Date'].index:\n",
        "  if df.loc[i, 'Date'] > np.datetime64('2020-01-01'):\n",
        "    df.loc[i, 'Date'] = np.datetime64('19' + str(df.loc[i, 'Date'])[2:])\n",
        "df['Date']"
      ],
      "metadata": {
        "id": "tXHoUSOtYvkS",
        "colab": {
          "base_uri": "https://localhost:8080/"
        },
        "outputId": "9a40a1a2-5163-4be2-8ee1-f3b4bf734367"
      },
      "execution_count": 72,
      "outputs": [
        {
          "output_type": "execute_result",
          "data": {
            "text/plain": [
              "0    1967-01-15\n",
              "1    1968-01-14\n",
              "2    1969-01-12\n",
              "3    1970-01-11\n",
              "4    1971-01-17\n",
              "5    1972-01-16\n",
              "6    1973-01-14\n",
              "7    1974-01-13\n",
              "8    1975-01-12\n",
              "9    1976-01-18\n",
              "10   1977-01-09\n",
              "11   1978-01-15\n",
              "12   1979-01-21\n",
              "13   1980-01-20\n",
              "14   1981-01-25\n",
              "15   1982-01-24\n",
              "16   1983-01-30\n",
              "17   1984-01-22\n",
              "18   1985-01-20\n",
              "19   1986-01-26\n",
              "20   1987-01-25\n",
              "21   1988-01-31\n",
              "22   1989-01-22\n",
              "23   1990-01-28\n",
              "24   1991-01-27\n",
              "25   1992-01-26\n",
              "26   1993-01-31\n",
              "27   1994-01-30\n",
              "28   1995-01-29\n",
              "29   1996-01-28\n",
              "30   1997-01-26\n",
              "31   1998-01-25\n",
              "32   1999-01-31\n",
              "33   2000-01-30\n",
              "34   2001-01-28\n",
              "35   2002-02-03\n",
              "36   2003-01-26\n",
              "37   2004-02-01\n",
              "38   2005-02-06\n",
              "39   2006-02-05\n",
              "40   2007-02-04\n",
              "41   2008-02-03\n",
              "42   2009-02-01\n",
              "43   2010-02-07\n",
              "44   2011-02-06\n",
              "45   2012-02-05\n",
              "46   2013-02-03\n",
              "47   2014-02-02\n",
              "48   2015-02-01\n",
              "49   2016-02-07\n",
              "50   2017-02-05\n",
              "51   2018-02-04\n",
              "Name: Date, dtype: datetime64[ns]"
            ]
          },
          "metadata": {},
          "execution_count": 72
        }
      ]
    },
    {
      "cell_type": "markdown",
      "metadata": {
        "id": "6hN8XvTIDaPf"
      },
      "source": [
        "Pandas is usually pretty good at converting date times.  However, when the year is 2 digits it can be ambiguous and Pandas may choose the wrong century.   \n",
        "\n",
        "Check if this happened and if so, fix it.  Don't forget the `df.loc()` method.\n",
        "\n",
        "You may have to convert it to a datetime again.\n",
        "\n",
        "Hint: `df.loc[0, 'Date'] = '1967-01-15'`"
      ]
    },
    {
      "cell_type": "markdown",
      "metadata": {
        "id": "CpoTTA5QVyYY"
      },
      "source": [
        "## Syntax or spelling errors\n",
        "\n",
        "Common syntax errors include extra white spaces at the beginning or end of strings or column names.\n",
        "\n",
        "There may also be typos or inconsistencies in strings that need to be fixed. For example, if a state name is spelled out in one row and the abbreviation is used in another, we need to ensure consistency.\n",
        "\n",
        "**Check for any inconsistencies in the strings of the `State` column and fix them.**\n",
        "\n",
        "Don't forget the `df.replace()` method"
      ]
    },
    {
      "cell_type": "code",
      "source": [
        "# Here is a way in which you can store your string columns in a variable to use later in a for loop\n",
        "# This code filters out the object type columns and creates a list of each of the column names as an index\n",
        "data_types = df.dtypes\n",
        "str_cols = data_types[data_types=='object'].index\n",
        "str_cols"
      ],
      "metadata": {
        "id": "ZQVcFyzfhyw9",
        "colab": {
          "base_uri": "https://localhost:8080/"
        },
        "outputId": "6a447fe6-cb70-463d-845a-3a0d6bf1b137"
      },
      "execution_count": 73,
      "outputs": [
        {
          "output_type": "execute_result",
          "data": {
            "text/plain": [
              "Index(['SB', 'QB  Winner', 'Coach Winner', 'Winner', 'QB Loser', 'Coach Loser',\n",
              "       'Loser', 'MVP', 'Stadium', 'City', 'State'],\n",
              "      dtype='object')"
            ]
          },
          "metadata": {},
          "execution_count": 73
        }
      ]
    },
    {
      "cell_type": "code",
      "metadata": {
        "id": "et8lpoGd81Eh",
        "colab": {
          "base_uri": "https://localhost:8080/"
        },
        "outputId": "871b3a46-0785-4609-d63e-b4e851e8232f"
      },
      "source": [
        "# This for loop prints out each column name and then lists each category\n",
        "# in the column along with the counts of each category\n",
        "# I added sort_index to make it easier to find the inconsistencies.\n",
        "for col in str_cols:\n",
        "  print(f'- {col}:')\n",
        "  print(df[col].value_counts(dropna=False).sort_index())\n",
        "  print('\\n\\n')"
      ],
      "execution_count": 74,
      "outputs": [
        {
          "output_type": "stream",
          "name": "stdout",
          "text": [
            "- SB:\n",
            "I          1\n",
            "II         1\n",
            "III        1\n",
            "IV         1\n",
            "IX         1\n",
            "L          1\n",
            "LI         1\n",
            "LII        1\n",
            "V          1\n",
            "VI         1\n",
            "VII        1\n",
            "VIII       1\n",
            "X          1\n",
            "XI         1\n",
            "XII        1\n",
            "XIII       1\n",
            "XIV        1\n",
            "XIX        1\n",
            "XL         1\n",
            "XLI        1\n",
            "XLII       1\n",
            "XLIII      1\n",
            "XLIV       1\n",
            "XLIX       1\n",
            "XLV        1\n",
            "XLVI       1\n",
            "XLVII      1\n",
            "XLVIII     1\n",
            "XV         1\n",
            "XVI        1\n",
            "XVII       1\n",
            "XVIII      1\n",
            "XX         1\n",
            "XXI        1\n",
            "XXII       1\n",
            "XXIII      1\n",
            "XXIV       1\n",
            "XXIX       1\n",
            "XXV        1\n",
            "XXVI       1\n",
            "XXVII      1\n",
            "XXVIII     1\n",
            "XXX        1\n",
            "XXXI       1\n",
            "XXXII      1\n",
            "XXXIII     1\n",
            "XXXIV      1\n",
            "XXXIX      1\n",
            "XXXV       1\n",
            "XXXVI      1\n",
            "XXXVII     1\n",
            "XXXVIII    1\n",
            "Name: SB, dtype: int64\n",
            "\n",
            "\n",
            "\n",
            "- QB  Winner:\n",
            "Aaron Rodgers                   1\n",
            "Bart Starr                      2\n",
            "Ben Roethlisberger              2\n",
            "Bob Griese                      2\n",
            "Brad Johnson                    1\n",
            "Brett Favre                     1\n",
            "Doug Williams                   1\n",
            "Drew Brees                      1\n",
            "Earl Morrall , Johnny Unitas    1\n",
            "Eli Manning                     2\n",
            "Jeff Hostetler                  1\n",
            "Jim McMahon                     1\n",
            "Jim Plunkett                    2\n",
            "Joe Flacco                      1\n",
            "Joe Montana                     3\n",
            "Joe Montano                     1\n",
            "Joe Namath                      1\n",
            "Joe Theismann                   1\n",
            "John Elway                      2\n",
            "Kenny Stabler                   1\n",
            "Kurt Warner                     1\n",
            "Len Dawson, Mike Livingston     1\n",
            "Mark Rypien                     1\n",
            "Nick Foles                      1\n",
            "Peyton Manning                  2\n",
            "Phil Simms                      1\n",
            "Roger Staubach                  2\n",
            "Russell Wilson                  1\n",
            "Steve Young                     1\n",
            "Terry Bradshaw                  4\n",
            "Tom Brady                       5\n",
            "Trent Dilfer                    1\n",
            "Troy Aikman                     3\n",
            "Name: QB  Winner, dtype: int64\n",
            "\n",
            "\n",
            "\n",
            "- Coach Winner:\n",
            "Barry Switzer      1\n",
            "Bill Belichick     1\n",
            "Bill Belichick_    4\n",
            "Bill Cowher        1\n",
            "Bill Parcells      1\n",
            "Bill Parcells_     1\n",
            "Bill Walsh         2\n",
            "Bill Walsh_        1\n",
            "Brian Billick      1\n",
            "Chuck Noll         4\n",
            "Dick Vermeil       1\n",
            "Don McCafferty     1\n",
            "Don Shula          2\n",
            "Doug Pederson      1\n",
            "Gary Kubiak        1\n",
            "George Seifert     1\n",
            "George Seifert_    1\n",
            "Hank Stram         1\n",
            "Jimmy Johnson      1\n",
            "Jimmy Johnson_     1\n",
            "Joe Gibbs          1\n",
            "Joe Gibbs_         2\n",
            "John Harbaugh      1\n",
            "John Madden        1\n",
            "Jon Gruden         1\n",
            "Mike Ditka         1\n",
            "Mike Holmgren      1\n",
            "Mike McCarthy      1\n",
            "Mike Shanahan      1\n",
            "Mike Shanahan_     1\n",
            "Mike Tomlin        1\n",
            "Pete Carroll       1\n",
            "Sean Payton        1\n",
            "Tom Coughlin       1\n",
            "Tom Coughlin_      1\n",
            "Tom Flores         2\n",
            "Tom Landry         2\n",
            "Tony Dungy         1\n",
            "Vince Lombardi     2\n",
            "Weeb Ewbank        1\n",
            "Name: Coach Winner, dtype: int64\n",
            "\n",
            "\n",
            "\n",
            "- Winner:\n",
            "Baltimore Colts         1\n",
            "Baltimore Ravens        2\n",
            "Chicago Bears           1\n",
            "Dallas Cowboys          5\n",
            "Denver Broncos          3\n",
            "Green Bay Packers       4\n",
            "Indianapolis Colts      1\n",
            "Kansas City Chiefs      1\n",
            "Los Angeles Raiders     1\n",
            "Miami Dolphins          2\n",
            "New England Patriots    5\n",
            "New Orleans Saints      1\n",
            "New York Giants         4\n",
            "New York Jets           1\n",
            "Oakland Raiders         2\n",
            "Philadelphia Eagles     1\n",
            "Pittsburgh Steelers     6\n",
            "San Francisco 49ers     5\n",
            "Seattle Seahawks        1\n",
            "St. Louis Rams          1\n",
            "Tampa Bay Buccaneers    1\n",
            "Washington Redskins     3\n",
            "Name: Winner, dtype: int64\n",
            "\n",
            "\n",
            "\n",
            "- QB Loser:\n",
            "Ben Roethlisberger             1\n",
            "Bill Kilmer                    1\n",
            "Bob Griese                     1\n",
            "Boomer Esiason                 1\n",
            "Brett Favre                    1\n",
            "Cam Newton                     1\n",
            "Chris Chandler                 1\n",
            "Colin Kaepernick               1\n",
            "Craig Morton                   2\n",
            "Dan Marino                     1\n",
            "Daryle Lamonica                1\n",
            "David Woodley                  1\n",
            "Donovan McNabb                 1\n",
            "Drew Bledsoe                   1\n",
            "Earl Morrall, Johnny Unitas    1\n",
            "Fran Tarkenton                 3\n",
            "Jake Delhomme                  1\n",
            "Jim Kelly                      3\n",
            "Jim Kelly, Frank Reich         1\n",
            "Joe Kapp                       1\n",
            "Joe Theismann                  1\n",
            "John Elway                     3\n",
            "Ken Anderson                   1\n",
            "Kerry Collins                  1\n",
            "Kurt Warner                    2\n",
            "Len Dawson                     1\n",
            "Matt Hasselbeck                1\n",
            "Matt Ryan                      1\n",
            "Neil O'Donnell                 1\n",
            "Peyton Manning                 2\n",
            "Rex Grossman                   1\n",
            "Rich Gannon                    1\n",
            "Roger Staubach                 2\n",
            "Ron Jaworski                   1\n",
            "Russell Wilson                 1\n",
            "Stan Humphreys                 1\n",
            "Steve McNair                   1\n",
            "Tom Brady                      3\n",
            "Tony Eason, Steve Grogan       1\n",
            "Vince Ferragamo                1\n",
            "Name: QB Loser, dtype: int64\n",
            "\n",
            "\n",
            "\n",
            "- Coach Loser:\n",
            "Andy Reid          1\n",
            "Bill Belichick     1\n",
            "Bill Belichick_    2\n",
            "Bill Callahan      1\n",
            "Bill Cowher        1\n",
            "Bill Parcells      1\n",
            "Bobby Ross         1\n",
            "Bud Grant          4\n",
            "Dan Quinn          1\n",
            "Dan Reeves         1\n",
            "Dan Reeves_        3\n",
            "Dick Vermeil       1\n",
            "Don Shula          4\n",
            "Forrest Gregg      1\n",
            "George Allen       1\n",
            "Hank Stram         1\n",
            "Jeff Fisher        1\n",
            "Jim Caldwell       1\n",
            "Jim Fassel         1\n",
            "Jim Harbaugh       1\n",
            "Joe Gibbs          1\n",
            "John Fox           1\n",
            "John Fox_          1\n",
            "John Rauch         1\n",
            "Ken Whisenhunt     1\n",
            "Lovie Smith        1\n",
            "Marv Levy          1\n",
            "Marv Levy_         3\n",
            "Mike Holmgren      1\n",
            "Mike Holmgren_     1\n",
            "Mike Martz         1\n",
            "Mike Tomlin        1\n",
            "Pete Carroll       1\n",
            "Ray Malavasi       1\n",
            "Raymond Berry      1\n",
            "Red Miller         1\n",
            "Ron Rivera         1\n",
            "Sam Wyche          1\n",
            "Tom Landry         3\n",
            "Name: Coach Loser, dtype: int64\n",
            "\n",
            "\n",
            "\n",
            "- Loser:\n",
            "Arizona Cardinals       1\n",
            "Atlanta Falcons         2\n",
            "Baltimore Colts         1\n",
            "Buffalo Bills           4\n",
            "Carolina Panthers       2\n",
            "Chicago Bears           1\n",
            "Cincinnati Bengals      2\n",
            "Dallas Cowboys          3\n",
            "Denver Broncos          5\n",
            "Green Bay Packers       1\n",
            "Indianapolis Colts      1\n",
            "Kansas City Chiefs      1\n",
            "Los Angeles Rams        1\n",
            "Miami Dolphins          3\n",
            "Minnesota Vikings       4\n",
            "New England Patriots    5\n",
            "New York Giants         1\n",
            "Oakland Raiders         2\n",
            "Philadelphia Eagles     2\n",
            "Pittsburgh Steelers     2\n",
            "San Diego Chargers      1\n",
            "San Francisco 49ers     1\n",
            "Seattle Seahawks        2\n",
            "St. Louis Rams          1\n",
            "Tennessee Titans        1\n",
            "Washington Redskins     2\n",
            "Name: Loser, dtype: int64\n",
            "\n",
            "\n",
            "\n",
            "- MVP:\n",
            "Aaron Rodgers                 1\n",
            "Bart Starr                    2\n",
            "Chuck Howley                  1\n",
            "Deion Branch                  1\n",
            "Desmond Howard                1\n",
            "Dexter Jackson                1\n",
            "Doug Williams                 1\n",
            "Drew Brees                    1\n",
            "Eli Manning                   2\n",
            "Emmitt Smith                  1\n",
            "Franco Harris                 1\n",
            "Fred Biletnikoff              1\n",
            "Harvey Martin, Randy White    1\n",
            "Hines Ward                    1\n",
            "Jake Scott                    1\n",
            "Jerry Rice                    1\n",
            "Jim Plunkett                  1\n",
            "Joe Flacco                    1\n",
            "Joe Montana                   3\n",
            "Joe Namath                    1\n",
            "John Elway                    1\n",
            "John Riggins                  1\n",
            "Kurt Warner                   1\n",
            "Larry Brown                   1\n",
            "Larry Csonka                  1\n",
            "Len Dawson                    1\n",
            "Lynn Swann                    1\n",
            "Malcolm Smith                 1\n",
            "Marcus Allen                  1\n",
            "Mark Rypien                   1\n",
            "Nick Foles                    1\n",
            "Ottis Anderson                1\n",
            "Peyton Manning                1\n",
            "Phil Simms                    1\n",
            "Ray Lewis                     1\n",
            "Richard Dent                  1\n",
            "Roger Staubach                1\n",
            "Santonio Holmes               1\n",
            "Steve Young                   1\n",
            "Terrell Davis                 1\n",
            "Terry Bradshaw                2\n",
            "Tom Brady                     4\n",
            "Troy Aikman                   1\n",
            "Von Miller                    1\n",
            "Name: MVP, dtype: int64\n",
            "\n",
            "\n",
            "\n",
            "- Stadium:\n",
            "Alltel Stadium                   1\n",
            "Cowboys Stadium                  1\n",
            "Dolphin Stadium                  1\n",
            "Ford Field                       1\n",
            "Georgia Dome                     2\n",
            "Jack Murphy Stadium              1\n",
            "Joe Robbie Stadium               2\n",
            "Levi's Stadium                   1\n",
            "Louisiana Superdome              5\n",
            "Lucas Oil Stadium                1\n",
            "Memorial Coliseum                2\n",
            "Mercedes-Benz Superdome          1\n",
            "MetLife Stadium                  1\n",
            "Metrodome                        1\n",
            "NRG Stadium                      1\n",
            "Orange Bowl                      5\n",
            "Pontiac Silverdome               1\n",
            "Pro Player Stadium               1\n",
            "Qualcomm Stadium                 2\n",
            "Raymond James Stadium            2\n",
            "Reliant Stadium                  1\n",
            "Rice Stadium                     1\n",
            "Rose Bowl                        5\n",
            "Stanford Stadium                 1\n",
            "Sun Devil Stadium                1\n",
            "Sun Life Stadium                 1\n",
            "Superdome                        1\n",
            "Tampa Stadium                    2\n",
            "Tulane Stadium                   3\n",
            "U.S. Bank Stadium                1\n",
            "University of Phoenix Stadium    2\n",
            "Name: Stadium, dtype: int64\n",
            "\n",
            "\n",
            "\n",
            "- City:\n",
            "Arlington           1\n",
            "Atlanta             2\n",
            "Detroit             1\n",
            "East Rutherford     1\n",
            "Glendale            2\n",
            "Houston             3\n",
            "Indianapolis        1\n",
            "Jacksonville        1\n",
            "Los Angeles         2\n",
            "Miami               5\n",
            "Miami Gardens       5\n",
            "Minneapolis         2\n",
            "New Orleans        10\n",
            "Palo Alto           1\n",
            "Pasadena            5\n",
            "Pontiac             1\n",
            "San Diego           3\n",
            "Santa Clara         1\n",
            "Tampa               4\n",
            "Tempe               1\n",
            "Name: City, dtype: int64\n",
            "\n",
            "\n",
            "\n",
            "- State:\n",
            "Arizona        3\n",
            "California    12\n",
            "FL             1\n",
            "Florida       14\n",
            "Georgia        2\n",
            "Indiana        1\n",
            "Louisiana     10\n",
            "Michigan       2\n",
            "Minnesota      2\n",
            "New Jersey     1\n",
            "Texas          4\n",
            "Name: State, dtype: int64\n",
            "\n",
            "\n",
            "\n"
          ]
        }
      ]
    },
    {
      "cell_type": "code",
      "metadata": {
        "id": "pkEVrLUL8hj9",
        "colab": {
          "base_uri": "https://localhost:8080/"
        },
        "outputId": "490d5138-f90a-403c-b05c-037f3eb7d25a"
      },
      "source": [
        "# Fix inconsistencies in the QB Winner column\n",
        "df.replace('Joe Montano', 'Joe Montana', inplace = True)\n",
        "df.replace('Earl Morrall , Johnny Unitas', 'Earl Morrall, Johnny Unitas', inplace = True)\n",
        "# We discovered an extra space in the column name 'QB Winner'\n",
        "df.rename(columns = {'QB  Winner': 'QB Winner'}, inplace = True)\n",
        "df['QB Winner'].value_counts()"
      ],
      "execution_count": 75,
      "outputs": [
        {
          "output_type": "execute_result",
          "data": {
            "text/plain": [
              "Tom Brady                      5\n",
              "Joe Montana                    4\n",
              "Terry Bradshaw                 4\n",
              "Troy Aikman                    3\n",
              "Eli Manning                    2\n",
              "Peyton Manning                 2\n",
              "Ben Roethlisberger             2\n",
              "John Elway                     2\n",
              "Bart Starr                     2\n",
              "Jim Plunkett                   2\n",
              "Roger Staubach                 2\n",
              "Bob Griese                     2\n",
              "Trent Dilfer                   1\n",
              "Russell Wilson                 1\n",
              "Joe Flacco                     1\n",
              "Aaron Rodgers                  1\n",
              "Drew Brees                     1\n",
              "Len Dawson, Mike Livingston    1\n",
              "Earl Morrall, Johnny Unitas    1\n",
              "Brad Johnson                   1\n",
              "Kurt Warner                    1\n",
              "Joe Theismann                  1\n",
              "Kenny Stabler                  1\n",
              "Brett Favre                    1\n",
              "Steve Young                    1\n",
              "Joe Namath                     1\n",
              "Mark Rypien                    1\n",
              "Jeff Hostetler                 1\n",
              "Doug Williams                  1\n",
              "Phil Simms                     1\n",
              "Jim McMahon                    1\n",
              "Nick Foles                     1\n",
              "Name: QB Winner, dtype: int64"
            ]
          },
          "metadata": {},
          "execution_count": 75
        }
      ]
    },
    {
      "cell_type": "code",
      "source": [
        "# Remove the underscore in the 'Coach Winner' and 'Coach Loser' columns.\n",
        "df['Coach Winner'] = df['Coach Winner'].str.replace('_', '')\n",
        "df['Coach Winner'].value_counts()\n",
        "\n",
        "df['Coach Loser'] = df['Coach Loser'].str.replace('_', '')\n",
        "df['Coach Loser'].value_counts()"
      ],
      "metadata": {
        "id": "NzKrQC0TciPX",
        "colab": {
          "base_uri": "https://localhost:8080/"
        },
        "outputId": "60e0bcd2-22fc-4b4a-b4a3-e642f50c7339"
      },
      "execution_count": 76,
      "outputs": [
        {
          "output_type": "execute_result",
          "data": {
            "text/plain": [
              "Dan Reeves        4\n",
              "Don Shula         4\n",
              "Bud Grant         4\n",
              "Marv Levy         4\n",
              "Tom Landry        3\n",
              "Bill Belichick    3\n",
              "Mike Holmgren     2\n",
              "John Fox          2\n",
              "Hank Stram        1\n",
              "Bill Callahan     1\n",
              "Andy Reid         1\n",
              "Lovie Smith       1\n",
              "Ken Whisenhunt    1\n",
              "Jim Fassel        1\n",
              "Jim Caldwell      1\n",
              "Mike Tomlin       1\n",
              "Jim Harbaugh      1\n",
              "Pete Carroll      1\n",
              "Ron Rivera        1\n",
              "Mike Martz        1\n",
              "Bill Parcells     1\n",
              "Jeff Fisher       1\n",
              "John Rauch        1\n",
              "Bill Cowher       1\n",
              "Bobby Ross        1\n",
              "Sam Wyche         1\n",
              "Raymond Berry     1\n",
              "Joe Gibbs         1\n",
              "Forrest Gregg     1\n",
              "Dick Vermeil      1\n",
              "Ray Malavasi      1\n",
              "Red Miller        1\n",
              "George Allen      1\n",
              "Dan Quinn         1\n",
              "Name: Coach Loser, dtype: int64"
            ]
          },
          "metadata": {},
          "execution_count": 76
        }
      ]
    },
    {
      "cell_type": "markdown",
      "metadata": {
        "id": "plbqf-7JVyR5"
      },
      "source": [
        "## Missing values\n",
        "\n",
        "Missing values are very common and problematic in our data. There is no one right way to handle missing data. A few strategies include:\n",
        "- Drop\n",
        "- Impute\n",
        "\n",
        "### Dropping missing values\n",
        "\n",
        "If there are not very many missing values and they are missing completely at random, the fastest and easiest solution is to drop the rows with missing values.\n",
        "\n",
        "Similarly, if most of a column is missing data and the data is missing completely at random, it may be okay to drop the entire column\n",
        "\n",
        "### Imputing missing values\n",
        "\n",
        "Imputing means filling in the missing values based on some criterion. There are many methods to do this:\n",
        "- Simple imputation including mean, median, or mode, or a specific constant value.\n",
        "\n",
        "### Make sure to explain why you chose the method you did in a text cell.\n",
        "\n",
        "**Check for missing data. Determine the best way to deal with this.**"
      ]
    },
    {
      "cell_type": "code",
      "metadata": {
        "id": "bKsrcdFy__RP",
        "colab": {
          "base_uri": "https://localhost:8080/"
        },
        "outputId": "d42048b0-2872-46c3-f539-e36d04e85ea4"
      },
      "source": [
        "# Check for missing values\n",
        "df.isna().sum()\n",
        "\n",
        "# There do not appear to be any missing values."
      ],
      "execution_count": 77,
      "outputs": [
        {
          "output_type": "execute_result",
          "data": {
            "text/plain": [
              "Date                0\n",
              "SB                  0\n",
              "Attendance          0\n",
              "QB Winner           0\n",
              "Coach Winner        0\n",
              "Winner              0\n",
              "Winning Pts         0\n",
              "QB Loser            0\n",
              "Coach Loser         0\n",
              "Loser               0\n",
              "Losing Pts          0\n",
              "MVP                 0\n",
              "Stadium             0\n",
              "City                0\n",
              "State               0\n",
              "Point Difference    0\n",
              "dtype: int64"
            ]
          },
          "metadata": {},
          "execution_count": 77
        }
      ]
    },
    {
      "cell_type": "code",
      "source": [
        "import missingno\n",
        "# This output shows you were the missing data is in the dataframe.\n",
        "# This white space represents data that is missing\n",
        "missingno.matrix(df)"
      ],
      "metadata": {
        "id": "3_vjfHs6e_EJ",
        "colab": {
          "base_uri": "https://localhost:8080/",
          "height": 106
        },
        "outputId": "0d9bbbb3-f343-4759-d214-395d33ee4428"
      },
      "execution_count": 78,
      "outputs": [
        {
          "output_type": "execute_result",
          "data": {
            "text/plain": [
              "<matplotlib.axes._subplots.AxesSubplot at 0x7fd3ffc1d490>"
            ]
          },
          "metadata": {},
          "execution_count": 78
        },
        {
          "output_type": "display_data",
          "data": {
            "text/plain": [
              "<Figure size 1800x720 with 2 Axes>"
            ],
            "image/png": "[encoded data removed]"
          },
          "metadata": {
            "needs_background": "light"
          }
        }
      ]
    },
    {
      "cell_type": "code",
      "source": [
        ""
      ],
      "metadata": {
        "id": "sKJGRXoUfYlU"
      },
      "execution_count": 78,
      "outputs": []
    },
    {
      "cell_type": "markdown",
      "source": [
        "To drop a subset of your data, you may want to use `df2 = df.dropna(subset=['column names'], how = 'all')` to drop a subset of your data."
      ],
      "metadata": {
        "id": "q8JQWnZw0TLO"
      }
    },
    {
      "cell_type": "code",
      "source": [
        ""
      ],
      "metadata": {
        "id": "jZS1u_0hfWUg"
      },
      "execution_count": 78,
      "outputs": []
    },
    {
      "cell_type": "markdown",
      "metadata": {
        "id": "ueroRuuAVyO_"
      },
      "source": [
        "## Outliers\n",
        "\n",
        "Outliers are values that are extremely higher or lower than all of the other values in that feature. In general, outliers should not be removed unless you have reason to believe it is an error in the dataset. It is important to investigate outliers, as some models are very sensitive to outliers.\n",
        "\n",
        "**Check for outliers in the numeric columns using df.describe().**\n"
      ]
    },
    {
      "cell_type": "code",
      "metadata": {
        "id": "Q9VQYpfyVgNe",
        "colab": {
          "base_uri": "https://localhost:8080/",
          "height": 382
        },
        "outputId": "7afc7019-e049-412d-ca0f-1497a1dd0499"
      },
      "source": [
        "df.describe()"
      ],
      "execution_count": 79,
      "outputs": [
        {
          "output_type": "execute_result",
          "data": {
            "text/plain": [
              "          Attendance  Winning Pts  Losing Pts  Point Difference\n",
              "count      52.000000    52.000000   52.000000         52.000000\n",
              "mean    77455.942308    30.423077   16.384615         14.038462\n",
              "std     10373.651925     9.657561    7.306065         10.491755\n",
              "min     61946.000000    14.000000    3.000000          1.000000\n",
              "25%     71419.000000    23.750000   10.000000          4.750000\n",
              "50%     74083.000000    30.500000   17.000000         12.000000\n",
              "75%     80280.750000    35.000000   21.000000         19.000000\n",
              "max    103985.000000    55.000000   33.000000         45.000000"
            ],
            "text/html": [
              "\n",
              "  <div id=\"df-7070ed32-d0b5-40bd-833c-330d16bea1b4\">\n",
              "    <div class=\"colab-df-container\">\n",
              "      <div>\n",
              "<style scoped>\n",
              "    .dataframe tbody tr th:only-of-type {\n",
              "        vertical-align: middle;\n",
              "    }\n",
              "\n",
              "    .dataframe tbody tr th {\n",
              "        vertical-align: top;\n",
              "    }\n",
              "\n",
              "    .dataframe thead th {\n",
              "        text-align: right;\n",
              "    }\n",
              "</style>\n",
              "<table border=\"1\" class=\"dataframe\">\n",
              "  <thead>\n",
              "    <tr style=\"text-align: right;\">\n",
              "      <th></th>\n",
              "      <th>Attendance</th>\n",
              "      <th>Winning Pts</th>\n",
              "      <th>Losing Pts</th>\n",
              "      <th>Point Difference</th>\n",
              "    </tr>\n",
              "  </thead>\n",
              "  <tbody>\n",
              "    <tr>\n",
              "      <th>count</th>\n",
              "      <td>52.000000</td>\n",
              "      <td>52.000000</td>\n",
              "      <td>52.000000</td>\n",
              "      <td>52.000000</td>\n",
              "    </tr>\n",
              "    <tr>\n",
              "      <th>mean</th>\n",
              "      <td>77455.942308</td>\n",
              "      <td>30.423077</td>\n",
              "      <td>16.384615</td>\n",
              "      <td>14.038462</td>\n",
              "    </tr>\n",
              "    <tr>\n",
              "      <th>std</th>\n",
              "      <td>10373.651925</td>\n",
              "      <td>9.657561</td>\n",
              "      <td>7.306065</td>\n",
              "      <td>10.491755</td>\n",
              "    </tr>\n",
              "    <tr>\n",
              "      <th>min</th>\n",
              "      <td>61946.000000</td>\n",
              "      <td>14.000000</td>\n",
              "      <td>3.000000</td>\n",
              "      <td>1.000000</td>\n",
              "    </tr>\n",
              "    <tr>\n",
              "      <th>25%</th>\n",
              "      <td>71419.000000</td>\n",
              "      <td>23.750000</td>\n",
              "      <td>10.000000</td>\n",
              "      <td>4.750000</td>\n",
              "    </tr>\n",
              "    <tr>\n",
              "      <th>50%</th>\n",
              "      <td>74083.000000</td>\n",
              "      <td>30.500000</td>\n",
              "      <td>17.000000</td>\n",
              "      <td>12.000000</td>\n",
              "    </tr>\n",
              "    <tr>\n",
              "      <th>75%</th>\n",
              "      <td>80280.750000</td>\n",
              "      <td>35.000000</td>\n",
              "      <td>21.000000</td>\n",
              "      <td>19.000000</td>\n",
              "    </tr>\n",
              "    <tr>\n",
              "      <th>max</th>\n",
              "      <td>103985.000000</td>\n",
              "      <td>55.000000</td>\n",
              "      <td>33.000000</td>\n",
              "      <td>45.000000</td>\n",
              "    </tr>\n",
              "  </tbody>\n",
              "</table>\n",
              "</div>\n",
              "      <button class=\"colab-df-convert\" onclick=\"convertToInteractive('df-7070ed32-d0b5-40bd-833c-330d16bea1b4')\"\n",
              "              title=\"Convert this dataframe to an interactive table.\"\n",
              "              style=\"display:none;\">\n",
              "        \n",
              "  <svg xmlns=\"http://www.w3.org/2000/svg\" height=\"24px\"viewBox=\"0 0 24 24\"\n",
              "       width=\"24px\">\n",
              "    <path d=\"M0 0h24v24H0V0z\" fill=\"none\"/>\n",
              "    <path d=\"M18.56 5.44l.94 2.06.94-2.06 2.06-.94-2.06-.94-.94-2.06-.94 2.06-2.06.94zm-11 1L8.5 8.5l.94-2.06 2.06-.94-2.06-.94L8.5 2.5l-.94 2.06-2.06.94zm10 10l.94 2.06.94-2.06 2.06-.94-2.06-.94-.94-2.06-.94 2.06-2.06.94z\"/><path d=\"M17.41 7.96l-1.37-1.37c-.4-.4-.92-.59-1.43-.59-.52 0-1.04.2-1.43.59L10.3 9.45l-7.72 7.72c-.78.78-.78 2.05 0 2.83L4 21.41c.39.39.9.59 1.41.59.51 0 1.02-.2 1.41-.59l7.78-7.78 2.81-2.81c.8-.78.8-2.07 0-2.86zM5.41 20L4 18.59l7.72-7.72 1.47 1.35L5.41 20z\"/>\n",
              "  </svg>\n",
              "      </button>\n",
              "      \n",
              "  <style>\n",
              "    .colab-df-container {\n",
              "      display:flex;\n",
              "      flex-wrap:wrap;\n",
              "      gap: 12px;\n",
              "    }\n",
              "\n",
              "    .colab-df-convert {\n",
              "      background-color: #E8F0FE;\n",
              "      border: none;\n",
              "      border-radius: 50%;\n",
              "      cursor: pointer;\n",
              "      display: none;\n",
              "      fill: #1967D2;\n",
              "      height: 32px;\n",
              "      padding: 0 0 0 0;\n",
              "      width: 32px;\n",
              "    }\n",
              "\n",
              "    .colab-df-convert:hover {\n",
              "      background-color: #E2EBFA;\n",
              "      box-shadow: 0px 1px 2px rgba(60, 64, 67, 0.3), 0px 1px 3px 1px rgba(60, 64, 67, 0.15);\n",
              "      fill: #174EA6;\n",
              "    }\n",
              "\n",
              "    [theme=dark] .colab-df-convert {\n",
              "      background-color: #3B4455;\n",
              "      fill: #D2E3FC;\n",
              "    }\n",
              "\n",
              "    [theme=dark] .colab-df-convert:hover {\n",
              "      background-color: #434B5C;\n",
              "      box-shadow: 0px 1px 3px 1px rgba(0, 0, 0, 0.15);\n",
              "      filter: drop-shadow(0px 1px 2px rgba(0, 0, 0, 0.3));\n",
              "      fill: #FFFFFF;\n",
              "    }\n",
              "  </style>\n",
              "\n",
              "      <script>\n",
              "        const buttonEl =\n",
              "          document.querySelector('#df-7070ed32-d0b5-40bd-833c-330d16bea1b4 button.colab-df-convert');\n",
              "        buttonEl.style.display =\n",
              "          google.colab.kernel.accessAllowed ? 'block' : 'none';\n",
              "\n",
              "        async function convertToInteractive(key) {\n",
              "          const element = document.querySelector('#df-7070ed32-d0b5-40bd-833c-330d16bea1b4');\n",
              "          const dataTable =\n",
              "            await google.colab.kernel.invokeFunction('convertToInteractive',\n",
              "                                                     [key], {});\n",
              "          if (!dataTable) return;\n",
              "\n",
              "          const docLinkHtml = 'Like what you see? Visit the ' +\n",
              "            '<a target=\"_blank\" href=https://colab.research.google.com/notebooks/data_table.ipynb>data table notebook</a>'\n",
              "            + ' to learn more about interactive tables.';\n",
              "          element.innerHTML = '';\n",
              "          dataTable['output_type'] = 'display_data';\n",
              "          await google.colab.output.renderOutput(dataTable, element);\n",
              "          const docLink = document.createElement('div');\n",
              "          docLink.innerHTML = docLinkHtml;\n",
              "          element.appendChild(docLink);\n",
              "        }\n",
              "      </script>\n",
              "    </div>\n",
              "  </div>\n",
              "  "
            ]
          },
          "metadata": {},
          "execution_count": 79
        }
      ]
    },
    {
      "cell_type": "code",
      "metadata": {
        "id": "LpORv_9LFGR5"
      },
      "source": [
        ""
      ],
      "execution_count": 79,
      "outputs": []
    },
    {
      "cell_type": "markdown",
      "source": [
        "# Exploratory Data Analysis - Questions to Answer"
      ],
      "metadata": {
        "id": "I2RkCwSge7l2"
      }
    },
    {
      "cell_type": "markdown",
      "source": [
        "- For each question, display on the columns required to answer the question."
      ],
      "metadata": {
        "id": "MLVLYQ_4gQbm"
      }
    },
    {
      "cell_type": "markdown",
      "source": [
        "### Q1. Which 3 Superbowl #'s/years had the largest attendance?\n"
      ],
      "metadata": {
        "id": "1eGD2iLWjj7Y"
      }
    },
    {
      "cell_type": "code",
      "source": [
        "df[['Date', 'Attendance', 'SB']].sort_values(by = 'Attendance', ascending = False).head(3)\n",
        "\n",
        "# Superbowls 14, 17, and 11 had the highest attendance. They occurred in \n",
        "# the years 1980, 1983, and 1977 respectively."
      ],
      "metadata": {
        "id": "Ek6bycZEj85D",
        "colab": {
          "base_uri": "https://localhost:8080/",
          "height": 143
        },
        "outputId": "80e7365a-5542-4196-a076-c6f11272d34d"
      },
      "execution_count": 84,
      "outputs": [
        {
          "output_type": "execute_result",
          "data": {
            "text/plain": [
              "         Date  Attendance    SB\n",
              "13 1980-01-20      103985   XIV\n",
              "16 1983-01-30      103667  XVII\n",
              "10 1977-01-09      103438    XI"
            ],
            "text/html": [
              "\n",
              "  <div id=\"df-0e4c5bc4-423a-4d6c-acef-b6a620270993\">\n",
              "    <div class=\"colab-df-container\">\n",
              "      <div>\n",
              "<style scoped>\n",
              "    .dataframe tbody tr th:only-of-type {\n",
              "        vertical-align: middle;\n",
              "    }\n",
              "\n",
              "    .dataframe tbody tr th {\n",
              "        vertical-align: top;\n",
              "    }\n",
              "\n",
              "    .dataframe thead th {\n",
              "        text-align: right;\n",
              "    }\n",
              "</style>\n",
              "<table border=\"1\" class=\"dataframe\">\n",
              "  <thead>\n",
              "    <tr style=\"text-align: right;\">\n",
              "      <th></th>\n",
              "      <th>Date</th>\n",
              "      <th>Attendance</th>\n",
              "      <th>SB</th>\n",
              "    </tr>\n",
              "  </thead>\n",
              "  <tbody>\n",
              "    <tr>\n",
              "      <th>13</th>\n",
              "      <td>1980-01-20</td>\n",
              "      <td>103985</td>\n",
              "      <td>XIV</td>\n",
              "    </tr>\n",
              "    <tr>\n",
              "      <th>16</th>\n",
              "      <td>1983-01-30</td>\n",
              "      <td>103667</td>\n",
              "      <td>XVII</td>\n",
              "    </tr>\n",
              "    <tr>\n",
              "      <th>10</th>\n",
              "      <td>1977-01-09</td>\n",
              "      <td>103438</td>\n",
              "      <td>XI</td>\n",
              "    </tr>\n",
              "  </tbody>\n",
              "</table>\n",
              "</div>\n",
              "      <button class=\"colab-df-convert\" onclick=\"convertToInteractive('df-0e4c5bc4-423a-4d6c-acef-b6a620270993')\"\n",
              "              title=\"Convert this dataframe to an interactive table.\"\n",
              "              style=\"display:none;\">\n",
              "        \n",
              "  <svg xmlns=\"http://www.w3.org/2000/svg\" height=\"24px\"viewBox=\"0 0 24 24\"\n",
              "       width=\"24px\">\n",
              "    <path d=\"M0 0h24v24H0V0z\" fill=\"none\"/>\n",
              "    <path d=\"M18.56 5.44l.94 2.06.94-2.06 2.06-.94-2.06-.94-.94-2.06-.94 2.06-2.06.94zm-11 1L8.5 8.5l.94-2.06 2.06-.94-2.06-.94L8.5 2.5l-.94 2.06-2.06.94zm10 10l.94 2.06.94-2.06 2.06-.94-2.06-.94-.94-2.06-.94 2.06-2.06.94z\"/><path d=\"M17.41 7.96l-1.37-1.37c-.4-.4-.92-.59-1.43-.59-.52 0-1.04.2-1.43.59L10.3 9.45l-7.72 7.72c-.78.78-.78 2.05 0 2.83L4 21.41c.39.39.9.59 1.41.59.51 0 1.02-.2 1.41-.59l7.78-7.78 2.81-2.81c.8-.78.8-2.07 0-2.86zM5.41 20L4 18.59l7.72-7.72 1.47 1.35L5.41 20z\"/>\n",
              "  </svg>\n",
              "      </button>\n",
              "      \n",
              "  <style>\n",
              "    .colab-df-container {\n",
              "      display:flex;\n",
              "      flex-wrap:wrap;\n",
              "      gap: 12px;\n",
              "    }\n",
              "\n",
              "    .colab-df-convert {\n",
              "      background-color: #E8F0FE;\n",
              "      border: none;\n",
              "      border-radius: 50%;\n",
              "      cursor: pointer;\n",
              "      display: none;\n",
              "      fill: #1967D2;\n",
              "      height: 32px;\n",
              "      padding: 0 0 0 0;\n",
              "      width: 32px;\n",
              "    }\n",
              "\n",
              "    .colab-df-convert:hover {\n",
              "      background-color: #E2EBFA;\n",
              "      box-shadow: 0px 1px 2px rgba(60, 64, 67, 0.3), 0px 1px 3px 1px rgba(60, 64, 67, 0.15);\n",
              "      fill: #174EA6;\n",
              "    }\n",
              "\n",
              "    [theme=dark] .colab-df-convert {\n",
              "      background-color: #3B4455;\n",
              "      fill: #D2E3FC;\n",
              "    }\n",
              "\n",
              "    [theme=dark] .colab-df-convert:hover {\n",
              "      background-color: #434B5C;\n",
              "      box-shadow: 0px 1px 3px 1px rgba(0, 0, 0, 0.15);\n",
              "      filter: drop-shadow(0px 1px 2px rgba(0, 0, 0, 0.3));\n",
              "      fill: #FFFFFF;\n",
              "    }\n",
              "  </style>\n",
              "\n",
              "      <script>\n",
              "        const buttonEl =\n",
              "          document.querySelector('#df-0e4c5bc4-423a-4d6c-acef-b6a620270993 button.colab-df-convert');\n",
              "        buttonEl.style.display =\n",
              "          google.colab.kernel.accessAllowed ? 'block' : 'none';\n",
              "\n",
              "        async function convertToInteractive(key) {\n",
              "          const element = document.querySelector('#df-0e4c5bc4-423a-4d6c-acef-b6a620270993');\n",
              "          const dataTable =\n",
              "            await google.colab.kernel.invokeFunction('convertToInteractive',\n",
              "                                                     [key], {});\n",
              "          if (!dataTable) return;\n",
              "\n",
              "          const docLinkHtml = 'Like what you see? Visit the ' +\n",
              "            '<a target=\"_blank\" href=https://colab.research.google.com/notebooks/data_table.ipynb>data table notebook</a>'\n",
              "            + ' to learn more about interactive tables.';\n",
              "          element.innerHTML = '';\n",
              "          dataTable['output_type'] = 'display_data';\n",
              "          await google.colab.output.renderOutput(dataTable, element);\n",
              "          const docLink = document.createElement('div');\n",
              "          docLink.innerHTML = docLinkHtml;\n",
              "          element.appendChild(docLink);\n",
              "        }\n",
              "      </script>\n",
              "    </div>\n",
              "  </div>\n",
              "  "
            ]
          },
          "metadata": {},
          "execution_count": 84
        }
      ]
    },
    {
      "cell_type": "markdown",
      "source": [
        "\n",
        "### Q2. Which Stadiums hosted the Superbowl with the largest attendance?"
      ],
      "metadata": {
        "id": "fe-x4h3xf34N"
      }
    },
    {
      "cell_type": "code",
      "source": [
        "df[['Stadium', 'Attendance']].sort_values(by = 'Attendance', ascending = False).head(1)\n",
        "\n",
        "# The Rose Bowl was the hosted tho Super Bowl with the largest attendance."
      ],
      "metadata": {
        "id": "RpmxWR_Uj9Zx",
        "colab": {
          "base_uri": "https://localhost:8080/",
          "height": 81
        },
        "outputId": "a190d9c7-f811-45eb-ff24-fd5ac3d68f23"
      },
      "execution_count": 83,
      "outputs": [
        {
          "output_type": "execute_result",
          "data": {
            "text/plain": [
              "      Stadium  Attendance\n",
              "13  Rose Bowl      103985"
            ],
            "text/html": [
              "\n",
              "  <div id=\"df-aa0e61af-46ed-4dc5-acbd-c8d61d6b6d90\">\n",
              "    <div class=\"colab-df-container\">\n",
              "      <div>\n",
              "<style scoped>\n",
              "    .dataframe tbody tr th:only-of-type {\n",
              "        vertical-align: middle;\n",
              "    }\n",
              "\n",
              "    .dataframe tbody tr th {\n",
              "        vertical-align: top;\n",
              "    }\n",
              "\n",
              "    .dataframe thead th {\n",
              "        text-align: right;\n",
              "    }\n",
              "</style>\n",
              "<table border=\"1\" class=\"dataframe\">\n",
              "  <thead>\n",
              "    <tr style=\"text-align: right;\">\n",
              "      <th></th>\n",
              "      <th>Stadium</th>\n",
              "      <th>Attendance</th>\n",
              "    </tr>\n",
              "  </thead>\n",
              "  <tbody>\n",
              "    <tr>\n",
              "      <th>13</th>\n",
              "      <td>Rose Bowl</td>\n",
              "      <td>103985</td>\n",
              "    </tr>\n",
              "  </tbody>\n",
              "</table>\n",
              "</div>\n",
              "      <button class=\"colab-df-convert\" onclick=\"convertToInteractive('df-aa0e61af-46ed-4dc5-acbd-c8d61d6b6d90')\"\n",
              "              title=\"Convert this dataframe to an interactive table.\"\n",
              "              style=\"display:none;\">\n",
              "        \n",
              "  <svg xmlns=\"http://www.w3.org/2000/svg\" height=\"24px\"viewBox=\"0 0 24 24\"\n",
              "       width=\"24px\">\n",
              "    <path d=\"M0 0h24v24H0V0z\" fill=\"none\"/>\n",
              "    <path d=\"M18.56 5.44l.94 2.06.94-2.06 2.06-.94-2.06-.94-.94-2.06-.94 2.06-2.06.94zm-11 1L8.5 8.5l.94-2.06 2.06-.94-2.06-.94L8.5 2.5l-.94 2.06-2.06.94zm10 10l.94 2.06.94-2.06 2.06-.94-2.06-.94-.94-2.06-.94 2.06-2.06.94z\"/><path d=\"M17.41 7.96l-1.37-1.37c-.4-.4-.92-.59-1.43-.59-.52 0-1.04.2-1.43.59L10.3 9.45l-7.72 7.72c-.78.78-.78 2.05 0 2.83L4 21.41c.39.39.9.59 1.41.59.51 0 1.02-.2 1.41-.59l7.78-7.78 2.81-2.81c.8-.78.8-2.07 0-2.86zM5.41 20L4 18.59l7.72-7.72 1.47 1.35L5.41 20z\"/>\n",
              "  </svg>\n",
              "      </button>\n",
              "      \n",
              "  <style>\n",
              "    .colab-df-container {\n",
              "      display:flex;\n",
              "      flex-wrap:wrap;\n",
              "      gap: 12px;\n",
              "    }\n",
              "\n",
              "    .colab-df-convert {\n",
              "      background-color: #E8F0FE;\n",
              "      border: none;\n",
              "      border-radius: 50%;\n",
              "      cursor: pointer;\n",
              "      display: none;\n",
              "      fill: #1967D2;\n",
              "      height: 32px;\n",
              "      padding: 0 0 0 0;\n",
              "      width: 32px;\n",
              "    }\n",
              "\n",
              "    .colab-df-convert:hover {\n",
              "      background-color: #E2EBFA;\n",
              "      box-shadow: 0px 1px 2px rgba(60, 64, 67, 0.3), 0px 1px 3px 1px rgba(60, 64, 67, 0.15);\n",
              "      fill: #174EA6;\n",
              "    }\n",
              "\n",
              "    [theme=dark] .colab-df-convert {\n",
              "      background-color: #3B4455;\n",
              "      fill: #D2E3FC;\n",
              "    }\n",
              "\n",
              "    [theme=dark] .colab-df-convert:hover {\n",
              "      background-color: #434B5C;\n",
              "      box-shadow: 0px 1px 3px 1px rgba(0, 0, 0, 0.15);\n",
              "      filter: drop-shadow(0px 1px 2px rgba(0, 0, 0, 0.3));\n",
              "      fill: #FFFFFF;\n",
              "    }\n",
              "  </style>\n",
              "\n",
              "      <script>\n",
              "        const buttonEl =\n",
              "          document.querySelector('#df-aa0e61af-46ed-4dc5-acbd-c8d61d6b6d90 button.colab-df-convert');\n",
              "        buttonEl.style.display =\n",
              "          google.colab.kernel.accessAllowed ? 'block' : 'none';\n",
              "\n",
              "        async function convertToInteractive(key) {\n",
              "          const element = document.querySelector('#df-aa0e61af-46ed-4dc5-acbd-c8d61d6b6d90');\n",
              "          const dataTable =\n",
              "            await google.colab.kernel.invokeFunction('convertToInteractive',\n",
              "                                                     [key], {});\n",
              "          if (!dataTable) return;\n",
              "\n",
              "          const docLinkHtml = 'Like what you see? Visit the ' +\n",
              "            '<a target=\"_blank\" href=https://colab.research.google.com/notebooks/data_table.ipynb>data table notebook</a>'\n",
              "            + ' to learn more about interactive tables.';\n",
              "          element.innerHTML = '';\n",
              "          dataTable['output_type'] = 'display_data';\n",
              "          await google.colab.output.renderOutput(dataTable, element);\n",
              "          const docLink = document.createElement('div');\n",
              "          docLink.innerHTML = docLinkHtml;\n",
              "          element.appendChild(docLink);\n",
              "        }\n",
              "      </script>\n",
              "    </div>\n",
              "  </div>\n",
              "  "
            ]
          },
          "metadata": {},
          "execution_count": 83
        }
      ]
    },
    {
      "cell_type": "markdown",
      "source": [
        "### Q3: What city has hosted the most number of superbowls? How many?"
      ],
      "metadata": {
        "id": "Lg2pfbs9gfEA"
      }
    },
    {
      "cell_type": "code",
      "source": [
        "df['City'].value_counts()\n",
        "\n",
        "# New Orleans has hosted 10 Super Bowls. That is more than any other city."
      ],
      "metadata": {
        "id": "026w_f29j9uV",
        "colab": {
          "base_uri": "https://localhost:8080/"
        },
        "outputId": "324b3922-1200-49e2-9d7c-4f0e0261ae93"
      },
      "execution_count": 87,
      "outputs": [
        {
          "output_type": "execute_result",
          "data": {
            "text/plain": [
              "New Orleans        10\n",
              "Miami               5\n",
              "Pasadena            5\n",
              "Miami Gardens       5\n",
              "Tampa               4\n",
              "Houston             3\n",
              "San Diego           3\n",
              "Los Angeles         2\n",
              "Glendale            2\n",
              "Atlanta             2\n",
              "Minneapolis         2\n",
              "Palo Alto           1\n",
              "Tempe               1\n",
              "Jacksonville        1\n",
              "Detroit             1\n",
              "Pontiac             1\n",
              "Arlington           1\n",
              "Indianapolis        1\n",
              "East Rutherford     1\n",
              "Santa Clara         1\n",
              "Name: City, dtype: int64"
            ]
          },
          "metadata": {},
          "execution_count": 87
        }
      ]
    },
    {
      "cell_type": "markdown",
      "source": [
        "### Q4: Of all of the superbowls hosted in the city from Q3, which SB # had the lowest attendance?"
      ],
      "metadata": {
        "id": "yOeqcLrHh_wW"
      }
    },
    {
      "cell_type": "code",
      "source": [
        "df.groupby('City')['Attendance'].min()\n",
        "\n",
        "# 71,024 people attended the Super Bowl with the lowest \n",
        "# attendance in New Orleans."
      ],
      "metadata": {
        "id": "CrYQKfuvj-CH",
        "colab": {
          "base_uri": "https://localhost:8080/"
        },
        "outputId": "fce57edf-fb74-4af4-f0ce-63d71280e036"
      },
      "execution_count": 91,
      "outputs": [
        {
          "output_type": "execute_result",
          "data": {
            "text/plain": [
              "City\n",
              "Arlington          103219\n",
              "Atlanta             72625\n",
              "Detroit             68206\n",
              "East Rutherford     82529\n",
              "Glendale            70288\n",
              "Houston             70807\n",
              "Indianapolis        68658\n",
              "Jacksonville        78125\n",
              "Los Angeles         61946\n",
              "Miami               75389\n",
              "Miami Gardens       74059\n",
              "Minneapolis         63130\n",
              "New Orleans         71024\n",
              "Palo Alto           84059\n",
              "Pasadena            98374\n",
              "Pontiac             81270\n",
              "San Diego           67603\n",
              "Santa Clara         71088\n",
              "Tampa               70774\n",
              "Tempe               76347\n",
              "Name: Attendance, dtype: int64"
            ]
          },
          "metadata": {},
          "execution_count": 91
        }
      ]
    },
    {
      "cell_type": "markdown",
      "source": [
        "### Q5: What is the average point difference between teams, for each City? Which city has the highest average Point Difference?"
      ],
      "metadata": {
        "id": "Tz0SEOaThCvf"
      }
    },
    {
      "cell_type": "code",
      "source": [
        "df.groupby('City')['Point Difference'].mean()\n",
        "\n",
        "# The city with the highest average point difference was East Rutherford.\n",
        "# See below for the average point difference by city."
      ],
      "metadata": {
        "id": "yxMPg1cZghYA",
        "colab": {
          "base_uri": "https://localhost:8080/"
        },
        "outputId": "921e9f18-3536-4cea-abd9-d00c55a37ae3"
      },
      "execution_count": 92,
      "outputs": [
        {
          "output_type": "execute_result",
          "data": {
            "text/plain": [
              "City\n",
              "Arlington           6.000000\n",
              "Atlanta            12.000000\n",
              "Detroit            11.000000\n",
              "East Rutherford    35.000000\n",
              "Glendale            3.500000\n",
              "Houston             8.666667\n",
              "Indianapolis        4.000000\n",
              "Jacksonville        3.000000\n",
              "Los Angeles        16.000000\n",
              "Miami               7.800000\n",
              "Miami Gardens      13.600000\n",
              "Minneapolis        10.500000\n",
              "New Orleans        18.200000\n",
              "Palo Alto          22.000000\n",
              "Pasadena           18.800000\n",
              "Pontiac             5.000000\n",
              "San Diego          22.000000\n",
              "Santa Clara        14.000000\n",
              "Tampa              15.250000\n",
              "Tempe              10.000000\n",
              "Name: Point Difference, dtype: float64"
            ]
          },
          "metadata": {},
          "execution_count": 92
        }
      ]
    }
  ]
}
{
  "nbformat": 4,
  "nbformat_minor": 0,
  "metadata": {
    "colab": {
      "name": "gridsearchcv.ipynb",
      "provenance": [],
      "authorship_tag": "ABX9TyOO6elpPPPl75XeKERyKl+F",
      "include_colab_link": true
    },
    "kernelspec": {
      "name": "python3",
      "display_name": "Python 3"
    },
    "language_info": {
      "name": "python"
    }
  },
  "cells": [
    {
      "cell_type": "markdown",
      "metadata": {
        "id": "view-in-github",
        "colab_type": "text"
      },
      "source": [
        "<a href=\"https://colab.research.google.com/github/mvince33/Coding-Dojo/blob/main/week07/gridsearchcv.ipynb\" target=\"_parent\"><img src=\"https://colab.research.google.com/assets/colab-badge.svg\" alt=\"Open In Colab\"/></a>"
      ]
    },
    {
      "cell_type": "code",
      "execution_count": 9,
      "metadata": {
        "id": "KUXdibkncnNq"
      },
      "outputs": [],
      "source": [
        "# Imports\n",
        "import pandas as pd\n",
        "from sklearn.tree import DecisionTreeClassifier\n",
        "from sklearn.neighbors import KNeighborsClassifier\n",
        "from sklearn.pipeline import make_pipeline\n",
        "from sklearn.preprocessing import StandardScaler\n",
        "from sklearn.datasets import load_iris\n",
        "from sklearn.model_selection import train_test_split, GridSearchCV"
      ]
    },
    {
      "cell_type": "code",
      "source": [
        "# Load the data\n",
        "iris = load_iris()\n",
        "\n",
        "X = iris.data\n",
        "y = iris.target\n",
        "\n",
        "X_train, X_test, y_train, y_test = train_test_split(X, y, random_state = 42)"
      ],
      "metadata": {
        "id": "dYV_e2jCdByV"
      },
      "execution_count": 10,
      "outputs": []
    },
    {
      "cell_type": "code",
      "source": [
        "# Make a dictionary of parameters to tune\n",
        "param_grid = {'max_depth': [1, 2, 3],\n",
        "              'min_samples_leaf': [3, 15, 20],\n",
        "              'min_samples_split': [2, 10, 100]}"
      ],
      "metadata": {
        "colab": {
          "base_uri": "https://localhost:8080/"
        },
        "id": "qDnZLKtQdljX",
        "outputId": "a3f786c7-6fc6-47dc-9516-25eb8103109c"
      },
      "execution_count": 15,
      "outputs": [
        {
          "output_type": "execute_result",
          "data": {
            "text/plain": [
              "[1, 2, 3]"
            ]
          },
          "metadata": {},
          "execution_count": 15
        }
      ]
    },
    {
      "cell_type": "code",
      "source": [
        "# Tune a model using a for loop\n",
        "scores = {}\n",
        "\n",
        "for d in param_grid['max_depth']:\n",
        "  for l in param_grid['min_samples_leaf']:\n",
        "    for s in param_grid['min_samples_split']:\n",
        "      model = DecisionTreeClassifier(max_depth = d,\n",
        "                                     min_samples_leaf = l,\n",
        "                                     min_samples_split = s)\n",
        "      model.fit(X_train, y_train)\n",
        "      score = model.score(X_test, y_test)\n",
        "      scores[f'max_depth {d}, min_samples_leaf {l}, min_samples_split {s}, accuracy'] = score.round(6) * 100\n",
        "scores"
      ],
      "metadata": {
        "colab": {
          "base_uri": "https://localhost:8080/"
        },
        "id": "EicjG2uZ4s9l",
        "outputId": "91ffe5e3-d9bc-4005-c2cd-e874bb2595f0"
      },
      "execution_count": 17,
      "outputs": [
        {
          "output_type": "execute_result",
          "data": {
            "text/plain": [
              "{'max_depth 1, min_samples_leaf 15, min_samples_split 10, accuracy': 68.4211,\n",
              " 'max_depth 1, min_samples_leaf 15, min_samples_split 100, accuracy': 68.4211,\n",
              " 'max_depth 1, min_samples_leaf 15, min_samples_split 2, accuracy': 68.4211,\n",
              " 'max_depth 1, min_samples_leaf 20, min_samples_split 10, accuracy': 68.4211,\n",
              " 'max_depth 1, min_samples_leaf 20, min_samples_split 100, accuracy': 68.4211,\n",
              " 'max_depth 1, min_samples_leaf 20, min_samples_split 2, accuracy': 68.4211,\n",
              " 'max_depth 1, min_samples_leaf 3, min_samples_split 10, accuracy': 68.4211,\n",
              " 'max_depth 1, min_samples_leaf 3, min_samples_split 100, accuracy': 68.4211,\n",
              " 'max_depth 1, min_samples_leaf 3, min_samples_split 2, accuracy': 68.4211,\n",
              " 'max_depth 2, min_samples_leaf 15, min_samples_split 10, accuracy': 97.3684,\n",
              " 'max_depth 2, min_samples_leaf 15, min_samples_split 100, accuracy': 68.4211,\n",
              " 'max_depth 2, min_samples_leaf 15, min_samples_split 2, accuracy': 97.3684,\n",
              " 'max_depth 2, min_samples_leaf 20, min_samples_split 10, accuracy': 97.3684,\n",
              " 'max_depth 2, min_samples_leaf 20, min_samples_split 100, accuracy': 68.4211,\n",
              " 'max_depth 2, min_samples_leaf 20, min_samples_split 2, accuracy': 97.3684,\n",
              " 'max_depth 2, min_samples_leaf 3, min_samples_split 10, accuracy': 97.3684,\n",
              " 'max_depth 2, min_samples_leaf 3, min_samples_split 100, accuracy': 68.4211,\n",
              " 'max_depth 2, min_samples_leaf 3, min_samples_split 2, accuracy': 97.3684,\n",
              " 'max_depth 3, min_samples_leaf 15, min_samples_split 10, accuracy': 97.3684,\n",
              " 'max_depth 3, min_samples_leaf 15, min_samples_split 100, accuracy': 68.4211,\n",
              " 'max_depth 3, min_samples_leaf 15, min_samples_split 2, accuracy': 97.3684,\n",
              " 'max_depth 3, min_samples_leaf 20, min_samples_split 10, accuracy': 97.3684,\n",
              " 'max_depth 3, min_samples_leaf 20, min_samples_split 100, accuracy': 68.4211,\n",
              " 'max_depth 3, min_samples_leaf 20, min_samples_split 2, accuracy': 97.3684,\n",
              " 'max_depth 3, min_samples_leaf 3, min_samples_split 10, accuracy': 100.0,\n",
              " 'max_depth 3, min_samples_leaf 3, min_samples_split 100, accuracy': 68.4211,\n",
              " 'max_depth 3, min_samples_leaf 3, min_samples_split 2, accuracy': 100.0}"
            ]
          },
          "metadata": {},
          "execution_count": 17
        }
      ]
    },
    {
      "cell_type": "code",
      "source": [
        "# Tune the model using GridSearchCV\n",
        "model = DecisionTreeClassifier()\n",
        "\n",
        "param_grid = {'max_depth': [1, 2, 3],\n",
        "              'min_samples_leaf': [3, 15, 20],\n",
        "              'min_samples_split': [2, 10, 100]}\n",
        "\n",
        "dt_grid_search = GridSearchCV(model, param_grid)\n",
        "dt_grid_search.fit(X_train, y_train)"
      ],
      "metadata": {
        "colab": {
          "base_uri": "https://localhost:8080/"
        },
        "id": "wTNkgw1Q6M9u",
        "outputId": "3c2559ff-72dd-4d74-83b8-9ecb9fad8eed"
      },
      "execution_count": 22,
      "outputs": [
        {
          "output_type": "execute_result",
          "data": {
            "text/plain": [
              "GridSearchCV(estimator=DecisionTreeClassifier(),\n",
              "             param_grid={'max_depth': [1, 2, 3],\n",
              "                         'min_samples_leaf': [3, 15, 20],\n",
              "                         'min_samples_split': [2, 10, 100]})"
            ]
          },
          "metadata": {},
          "execution_count": 22
        }
      ]
    },
    {
      "cell_type": "code",
      "source": [
        "# Find the best parameters\n",
        "dt_grid_search.best_params_"
      ],
      "metadata": {
        "colab": {
          "base_uri": "https://localhost:8080/"
        },
        "id": "XI74RcW66xtw",
        "outputId": "11844bbb-1c26-4604-a98d-1ffba56ccab4"
      },
      "execution_count": 25,
      "outputs": [
        {
          "output_type": "execute_result",
          "data": {
            "text/plain": [
              "{'max_depth': 3, 'min_samples_leaf': 3, 'min_samples_split': 2}"
            ]
          },
          "metadata": {},
          "execution_count": 25
        }
      ]
    },
    {
      "cell_type": "code",
      "source": [
        "# Tune the model again\n",
        "param_grid2 = {'max_depth': [3, 5, 10],\n",
        "               'min_samples_leaf': [1, 2, 3],\n",
        "               'min_samples_split': [2, 4, 7]}\n",
        "dt_grid_search2 = GridSearchCV(model, param_grid2)\n",
        "dt_grid_search2.fit(X_train, y_train)\n",
        "dt_grid_search2.best_params_"
      ],
      "metadata": {
        "colab": {
          "base_uri": "https://localhost:8080/"
        },
        "id": "DIMuVUFg6-BP",
        "outputId": "d9ba42b2-de19-46c1-807e-bfc1ddfb22d3"
      },
      "execution_count": 27,
      "outputs": [
        {
          "output_type": "execute_result",
          "data": {
            "text/plain": [
              "{'max_depth': 5, 'min_samples_leaf': 3, 'min_samples_split': 7}"
            ]
          },
          "metadata": {},
          "execution_count": 27
        }
      ]
    },
    {
      "cell_type": "code",
      "source": [
        "# Get the best model\n",
        "best_model = dt_grid_search2.best_estimator_\n",
        "# Train the model\n",
        "best_model.fit(X_train, y_train)\n",
        "# Score the model on the test set\n",
        "best_model.score(X_test, y_test)"
      ],
      "metadata": {
        "colab": {
          "base_uri": "https://localhost:8080/"
        },
        "id": "Ld8p0-f2-jwK",
        "outputId": "24f15d0f-e24b-4024-9607-b713b229917e"
      },
      "execution_count": 32,
      "outputs": [
        {
          "output_type": "execute_result",
          "data": {
            "text/plain": [
              "1.0"
            ]
          },
          "metadata": {},
          "execution_count": 32
        }
      ]
    },
    {
      "cell_type": "code",
      "source": [
        "# Using a pipelin with GridSearchCV\n",
        "knn_pipe = make_pipeline(StandardScaler(), KNeighborsClassifier())\n",
        "knn_pipe.get_params()"
      ],
      "metadata": {
        "colab": {
          "base_uri": "https://localhost:8080/"
        },
        "id": "_Tqno5Qz_fHF",
        "outputId": "bd560198-15a6-4f42-c6da-774e3236337d"
      },
      "execution_count": 37,
      "outputs": [
        {
          "output_type": "execute_result",
          "data": {
            "text/plain": [
              "{'kneighborsclassifier': KNeighborsClassifier(),\n",
              " 'kneighborsclassifier__algorithm': 'auto',\n",
              " 'kneighborsclassifier__leaf_size': 30,\n",
              " 'kneighborsclassifier__metric': 'minkowski',\n",
              " 'kneighborsclassifier__metric_params': None,\n",
              " 'kneighborsclassifier__n_jobs': None,\n",
              " 'kneighborsclassifier__n_neighbors': 5,\n",
              " 'kneighborsclassifier__p': 2,\n",
              " 'kneighborsclassifier__weights': 'uniform',\n",
              " 'memory': None,\n",
              " 'standardscaler': StandardScaler(),\n",
              " 'standardscaler__copy': True,\n",
              " 'standardscaler__with_mean': True,\n",
              " 'standardscaler__with_std': True,\n",
              " 'steps': [('standardscaler', StandardScaler()),\n",
              "  ('kneighborsclassifier', KNeighborsClassifier())],\n",
              " 'verbose': False}"
            ]
          },
          "metadata": {},
          "execution_count": 37
        }
      ]
    },
    {
      "cell_type": "code",
      "source": [
        "# Make the parameters grid\n",
        "pipe_param_grid = {'kneighborsclassifier__n_neighbors': range(1, 10),\n",
        "                   'kneighborsclassifier__p': range(1, 5),\n",
        "                   'kneighborsclassifier__weights': ['distance', 'uniform']}"
      ],
      "metadata": {
        "id": "Mcvp9RU4_ug-"
      },
      "execution_count": 38,
      "outputs": []
    },
    {
      "cell_type": "code",
      "source": [
        "# Tune the model\n",
        "knn_pipe_gs = GridSearchCV(knn_pipe, pipe_param_grid)\n",
        "knn_pipe_gs.fit(X_train, y_train)\n",
        "print('Best KNN parameters')\n",
        "print(knn_pipe_gs.best_params_)\n",
        "best_pipe = knn_pipe_gs.best_estimator_\n",
        "print(f'Accuracy of the best model is: {best_pipe.score(X_test, y_test)}')"
      ],
      "metadata": {
        "colab": {
          "base_uri": "https://localhost:8080/"
        },
        "id": "xR0nH3HhCKMW",
        "outputId": "a79828c0-73ba-4745-cc18-0e6920cdfe0f"
      },
      "execution_count": 41,
      "outputs": [
        {
          "output_type": "stream",
          "name": "stdout",
          "text": [
            "Best KNN parameters\n",
            "{'kneighborsclassifier__n_neighbors': 9, 'kneighborsclassifier__p': 2, 'kneighborsclassifier__weights': 'distance'}\n",
            "Accuracy of the best model is: 1.0\n"
          ]
        }
      ]
    },
    {
      "cell_type": "code",
      "source": [
        ""
      ],
      "metadata": {
        "id": "IltZglwjCtpW"
      },
      "execution_count": null,
      "outputs": []
    }
  ]
}
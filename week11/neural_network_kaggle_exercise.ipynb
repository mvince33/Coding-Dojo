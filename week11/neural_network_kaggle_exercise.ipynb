{
  "nbformat": 4,
  "nbformat_minor": 0,
  "metadata": {
    "colab": {
      "name": "neural_network_kaggle_exercise.ipynb",
      "provenance": [],
      "mount_file_id": "1TzrdOjn_w55YMSBimqwiRFDdWbD6sqds",
      "authorship_tag": "ABX9TyN9skYg9rg/WLKLFXs+KP7x",
      "include_colab_link": true
    },
    "kernelspec": {
      "name": "python3",
      "display_name": "Python 3"
    },
    "language_info": {
      "name": "python"
    }
  },
  "cells": [
    {
      "cell_type": "markdown",
      "metadata": {
        "id": "view-in-github",
        "colab_type": "text"
      },
      "source": [
        "<a href=\"https://colab.research.google.com/github/mvince33/Coding-Dojo/blob/main/week11/neural_network_kaggle_exercise.ipynb\" target=\"_parent\"><img src=\"https://colab.research.google.com/assets/colab-badge.svg\" alt=\"Open In Colab\"/></a>"
      ]
    },
    {
      "cell_type": "markdown",
      "source": [
        "# Neural Network Kaggle Exercise\n",
        "- Michael Vincent\n",
        "- 8/28"
      ],
      "metadata": {
        "id": "kuL7k_joFqrt"
      }
    },
    {
      "cell_type": "markdown",
      "source": [
        "## Imports"
      ],
      "metadata": {
        "id": "IZssPCP9Fw8Z"
      }
    },
    {
      "cell_type": "code",
      "execution_count": 45,
      "metadata": {
        "id": "7Tu0izLRFnIY"
      },
      "outputs": [],
      "source": [
        "# Imports\n",
        "import numpy as np\n",
        "import pandas as pd\n",
        "import matplotlib.pyplot as plt\n",
        "\n",
        "# Keras\n",
        "from tensorflow.keras import Sequential\n",
        "from tensorflow.keras import metrics\n",
        "from tensorflow.keras.layers import Dense, Dropout\n",
        "\n",
        "# Sci-kit learn\n",
        "from sklearn.model_selection import train_test_split\n",
        "from sklearn.preprocessing import StandardScaler, OneHotEncoder\n",
        "from sklearn.impute import SimpleImputer\n",
        "from sklearn.pipeline import make_pipeline\n",
        "from sklearn.compose import make_column_selector, make_column_transformer\n",
        "from sklearn.metrics import mean_absolute_error, mean_squared_error, r2_score"
      ]
    },
    {
      "cell_type": "markdown",
      "source": [
        "## Helper function"
      ],
      "metadata": {
        "id": "VevPaeAHL-28"
      }
    },
    {
      "cell_type": "code",
      "source": [
        "# Helper function from the Coding Dojo learning platform to help visualize the \n",
        "# metrics of our models\n",
        "# Learning history plotting function\n",
        "def plot_history(history):\n",
        "  \"\"\"Takes a keras model learning history and plots each metric\"\"\"\n",
        "  \n",
        "  metrics = history.history.keys()\n",
        "  \n",
        "  for metric in metrics:\n",
        "      if not 'val' in metric:\n",
        "        plt.plot(history.history[f'{metric}'], label=f'{metric}')\n",
        "        if f'val_{metric}' in metrics:\n",
        "          plt.plot(history.history[f'val_{metric}'], label=f'val_{metric}')\n",
        "        plt.legend()\n",
        "        plt.title(f'{metric}')\n",
        "        plt.show()"
      ],
      "metadata": {
        "id": "BPvxKuqfMBLQ"
      },
      "execution_count": 46,
      "outputs": []
    },
    {
      "cell_type": "markdown",
      "source": [
        "## Load the data"
      ],
      "metadata": {
        "id": "merWNr1EF3z-"
      }
    },
    {
      "cell_type": "code",
      "source": [
        "# Load the data\n",
        "\n",
        "# Note that this data comes from a Kaggle competition. We will be performoing\n",
        "# a validation split on the train.csv file, and make final predictions for\n",
        "# the competition useng the teste.csv file.\n",
        "url = 'https://docs.google.com/spreadsheets/d/e/2PACX-1vQdDRUum294FpjaKz_oYlB-mnC1Pu3EE6hB7EbsQmPgQdhJyi16ZbBAwIHcQov8I5MQHOIhXRo7xkl2/pub?output=csv'\n",
        "df = pd.read_csv(url, index_col = 'Id')\n",
        "df.head()"
      ],
      "metadata": {
        "colab": {
          "base_uri": "https://localhost:8080/",
          "height": 331
        },
        "id": "zeRRdBYaF26n",
        "outputId": "ea916533-3ff3-4a1b-dea7-2b67b4f000bd"
      },
      "execution_count": 47,
      "outputs": [
        {
          "output_type": "execute_result",
          "data": {
            "text/plain": [
              "    MSSubClass MSZoning  LotFrontage  LotArea Street Alley LotShape  \\\n",
              "Id                                                                    \n",
              "1           60       RL         65.0     8450   Pave   NaN      Reg   \n",
              "2           20       RL         80.0     9600   Pave   NaN      Reg   \n",
              "3           60       RL         68.0    11250   Pave   NaN      IR1   \n",
              "4           70       RL         60.0     9550   Pave   NaN      IR1   \n",
              "5           60       RL         84.0    14260   Pave   NaN      IR1   \n",
              "\n",
              "   LandContour Utilities LotConfig  ... PoolArea PoolQC Fence MiscFeature  \\\n",
              "Id                                  ...                                     \n",
              "1          Lvl    AllPub    Inside  ...        0    NaN   NaN         NaN   \n",
              "2          Lvl    AllPub       FR2  ...        0    NaN   NaN         NaN   \n",
              "3          Lvl    AllPub    Inside  ...        0    NaN   NaN         NaN   \n",
              "4          Lvl    AllPub    Corner  ...        0    NaN   NaN         NaN   \n",
              "5          Lvl    AllPub       FR2  ...        0    NaN   NaN         NaN   \n",
              "\n",
              "   MiscVal MoSold  YrSold  SaleType  SaleCondition  SalePrice  \n",
              "Id                                                             \n",
              "1        0      2    2008        WD         Normal     208500  \n",
              "2        0      5    2007        WD         Normal     181500  \n",
              "3        0      9    2008        WD         Normal     223500  \n",
              "4        0      2    2006        WD        Abnorml     140000  \n",
              "5        0     12    2008        WD         Normal     250000  \n",
              "\n",
              "[5 rows x 80 columns]"
            ],
            "text/html": [
              "\n",
              "  <div id=\"df-d89f8ca0-e998-4f5a-bbed-22a5b94019ad\">\n",
              "    <div class=\"colab-df-container\">\n",
              "      <div>\n",
              "<style scoped>\n",
              "    .dataframe tbody tr th:only-of-type {\n",
              "        vertical-align: middle;\n",
              "    }\n",
              "\n",
              "    .dataframe tbody tr th {\n",
              "        vertical-align: top;\n",
              "    }\n",
              "\n",
              "    .dataframe thead th {\n",
              "        text-align: right;\n",
              "    }\n",
              "</style>\n",
              "<table border=\"1\" class=\"dataframe\">\n",
              "  <thead>\n",
              "    <tr style=\"text-align: right;\">\n",
              "      <th></th>\n",
              "      <th>MSSubClass</th>\n",
              "      <th>MSZoning</th>\n",
              "      <th>LotFrontage</th>\n",
              "      <th>LotArea</th>\n",
              "      <th>Street</th>\n",
              "      <th>Alley</th>\n",
              "      <th>LotShape</th>\n",
              "      <th>LandContour</th>\n",
              "      <th>Utilities</th>\n",
              "      <th>LotConfig</th>\n",
              "      <th>...</th>\n",
              "      <th>PoolArea</th>\n",
              "      <th>PoolQC</th>\n",
              "      <th>Fence</th>\n",
              "      <th>MiscFeature</th>\n",
              "      <th>MiscVal</th>\n",
              "      <th>MoSold</th>\n",
              "      <th>YrSold</th>\n",
              "      <th>SaleType</th>\n",
              "      <th>SaleCondition</th>\n",
              "      <th>SalePrice</th>\n",
              "    </tr>\n",
              "    <tr>\n",
              "      <th>Id</th>\n",
              "      <th></th>\n",
              "      <th></th>\n",
              "      <th></th>\n",
              "      <th></th>\n",
              "      <th></th>\n",
              "      <th></th>\n",
              "      <th></th>\n",
              "      <th></th>\n",
              "      <th></th>\n",
              "      <th></th>\n",
              "      <th></th>\n",
              "      <th></th>\n",
              "      <th></th>\n",
              "      <th></th>\n",
              "      <th></th>\n",
              "      <th></th>\n",
              "      <th></th>\n",
              "      <th></th>\n",
              "      <th></th>\n",
              "      <th></th>\n",
              "      <th></th>\n",
              "    </tr>\n",
              "  </thead>\n",
              "  <tbody>\n",
              "    <tr>\n",
              "      <th>1</th>\n",
              "      <td>60</td>\n",
              "      <td>RL</td>\n",
              "      <td>65.0</td>\n",
              "      <td>8450</td>\n",
              "      <td>Pave</td>\n",
              "      <td>NaN</td>\n",
              "      <td>Reg</td>\n",
              "      <td>Lvl</td>\n",
              "      <td>AllPub</td>\n",
              "      <td>Inside</td>\n",
              "      <td>...</td>\n",
              "      <td>0</td>\n",
              "      <td>NaN</td>\n",
              "      <td>NaN</td>\n",
              "      <td>NaN</td>\n",
              "      <td>0</td>\n",
              "      <td>2</td>\n",
              "      <td>2008</td>\n",
              "      <td>WD</td>\n",
              "      <td>Normal</td>\n",
              "      <td>208500</td>\n",
              "    </tr>\n",
              "    <tr>\n",
              "      <th>2</th>\n",
              "      <td>20</td>\n",
              "      <td>RL</td>\n",
              "      <td>80.0</td>\n",
              "      <td>9600</td>\n",
              "      <td>Pave</td>\n",
              "      <td>NaN</td>\n",
              "      <td>Reg</td>\n",
              "      <td>Lvl</td>\n",
              "      <td>AllPub</td>\n",
              "      <td>FR2</td>\n",
              "      <td>...</td>\n",
              "      <td>0</td>\n",
              "      <td>NaN</td>\n",
              "      <td>NaN</td>\n",
              "      <td>NaN</td>\n",
              "      <td>0</td>\n",
              "      <td>5</td>\n",
              "      <td>2007</td>\n",
              "      <td>WD</td>\n",
              "      <td>Normal</td>\n",
              "      <td>181500</td>\n",
              "    </tr>\n",
              "    <tr>\n",
              "      <th>3</th>\n",
              "      <td>60</td>\n",
              "      <td>RL</td>\n",
              "      <td>68.0</td>\n",
              "      <td>11250</td>\n",
              "      <td>Pave</td>\n",
              "      <td>NaN</td>\n",
              "      <td>IR1</td>\n",
              "      <td>Lvl</td>\n",
              "      <td>AllPub</td>\n",
              "      <td>Inside</td>\n",
              "      <td>...</td>\n",
              "      <td>0</td>\n",
              "      <td>NaN</td>\n",
              "      <td>NaN</td>\n",
              "      <td>NaN</td>\n",
              "      <td>0</td>\n",
              "      <td>9</td>\n",
              "      <td>2008</td>\n",
              "      <td>WD</td>\n",
              "      <td>Normal</td>\n",
              "      <td>223500</td>\n",
              "    </tr>\n",
              "    <tr>\n",
              "      <th>4</th>\n",
              "      <td>70</td>\n",
              "      <td>RL</td>\n",
              "      <td>60.0</td>\n",
              "      <td>9550</td>\n",
              "      <td>Pave</td>\n",
              "      <td>NaN</td>\n",
              "      <td>IR1</td>\n",
              "      <td>Lvl</td>\n",
              "      <td>AllPub</td>\n",
              "      <td>Corner</td>\n",
              "      <td>...</td>\n",
              "      <td>0</td>\n",
              "      <td>NaN</td>\n",
              "      <td>NaN</td>\n",
              "      <td>NaN</td>\n",
              "      <td>0</td>\n",
              "      <td>2</td>\n",
              "      <td>2006</td>\n",
              "      <td>WD</td>\n",
              "      <td>Abnorml</td>\n",
              "      <td>140000</td>\n",
              "    </tr>\n",
              "    <tr>\n",
              "      <th>5</th>\n",
              "      <td>60</td>\n",
              "      <td>RL</td>\n",
              "      <td>84.0</td>\n",
              "      <td>14260</td>\n",
              "      <td>Pave</td>\n",
              "      <td>NaN</td>\n",
              "      <td>IR1</td>\n",
              "      <td>Lvl</td>\n",
              "      <td>AllPub</td>\n",
              "      <td>FR2</td>\n",
              "      <td>...</td>\n",
              "      <td>0</td>\n",
              "      <td>NaN</td>\n",
              "      <td>NaN</td>\n",
              "      <td>NaN</td>\n",
              "      <td>0</td>\n",
              "      <td>12</td>\n",
              "      <td>2008</td>\n",
              "      <td>WD</td>\n",
              "      <td>Normal</td>\n",
              "      <td>250000</td>\n",
              "    </tr>\n",
              "  </tbody>\n",
              "</table>\n",
              "<p>5 rows × 80 columns</p>\n",
              "</div>\n",
              "      <button class=\"colab-df-convert\" onclick=\"convertToInteractive('df-d89f8ca0-e998-4f5a-bbed-22a5b94019ad')\"\n",
              "              title=\"Convert this dataframe to an interactive table.\"\n",
              "              style=\"display:none;\">\n",
              "        \n",
              "  <svg xmlns=\"http://www.w3.org/2000/svg\" height=\"24px\"viewBox=\"0 0 24 24\"\n",
              "       width=\"24px\">\n",
              "    <path d=\"M0 0h24v24H0V0z\" fill=\"none\"/>\n",
              "    <path d=\"M18.56 5.44l.94 2.06.94-2.06 2.06-.94-2.06-.94-.94-2.06-.94 2.06-2.06.94zm-11 1L8.5 8.5l.94-2.06 2.06-.94-2.06-.94L8.5 2.5l-.94 2.06-2.06.94zm10 10l.94 2.06.94-2.06 2.06-.94-2.06-.94-.94-2.06-.94 2.06-2.06.94z\"/><path d=\"M17.41 7.96l-1.37-1.37c-.4-.4-.92-.59-1.43-.59-.52 0-1.04.2-1.43.59L10.3 9.45l-7.72 7.72c-.78.78-.78 2.05 0 2.83L4 21.41c.39.39.9.59 1.41.59.51 0 1.02-.2 1.41-.59l7.78-7.78 2.81-2.81c.8-.78.8-2.07 0-2.86zM5.41 20L4 18.59l7.72-7.72 1.47 1.35L5.41 20z\"/>\n",
              "  </svg>\n",
              "      </button>\n",
              "      \n",
              "  <style>\n",
              "    .colab-df-container {\n",
              "      display:flex;\n",
              "      flex-wrap:wrap;\n",
              "      gap: 12px;\n",
              "    }\n",
              "\n",
              "    .colab-df-convert {\n",
              "      background-color: #E8F0FE;\n",
              "      border: none;\n",
              "      border-radius: 50%;\n",
              "      cursor: pointer;\n",
              "      display: none;\n",
              "      fill: #1967D2;\n",
              "      height: 32px;\n",
              "      padding: 0 0 0 0;\n",
              "      width: 32px;\n",
              "    }\n",
              "\n",
              "    .colab-df-convert:hover {\n",
              "      background-color: #E2EBFA;\n",
              "      box-shadow: 0px 1px 2px rgba(60, 64, 67, 0.3), 0px 1px 3px 1px rgba(60, 64, 67, 0.15);\n",
              "      fill: #174EA6;\n",
              "    }\n",
              "\n",
              "    [theme=dark] .colab-df-convert {\n",
              "      background-color: #3B4455;\n",
              "      fill: #D2E3FC;\n",
              "    }\n",
              "\n",
              "    [theme=dark] .colab-df-convert:hover {\n",
              "      background-color: #434B5C;\n",
              "      box-shadow: 0px 1px 3px 1px rgba(0, 0, 0, 0.15);\n",
              "      filter: drop-shadow(0px 1px 2px rgba(0, 0, 0, 0.3));\n",
              "      fill: #FFFFFF;\n",
              "    }\n",
              "  </style>\n",
              "\n",
              "      <script>\n",
              "        const buttonEl =\n",
              "          document.querySelector('#df-d89f8ca0-e998-4f5a-bbed-22a5b94019ad button.colab-df-convert');\n",
              "        buttonEl.style.display =\n",
              "          google.colab.kernel.accessAllowed ? 'block' : 'none';\n",
              "\n",
              "        async function convertToInteractive(key) {\n",
              "          const element = document.querySelector('#df-d89f8ca0-e998-4f5a-bbed-22a5b94019ad');\n",
              "          const dataTable =\n",
              "            await google.colab.kernel.invokeFunction('convertToInteractive',\n",
              "                                                     [key], {});\n",
              "          if (!dataTable) return;\n",
              "\n",
              "          const docLinkHtml = 'Like what you see? Visit the ' +\n",
              "            '<a target=\"_blank\" href=https://colab.research.google.com/notebooks/data_table.ipynb>data table notebook</a>'\n",
              "            + ' to learn more about interactive tables.';\n",
              "          element.innerHTML = '';\n",
              "          dataTable['output_type'] = 'display_data';\n",
              "          await google.colab.output.renderOutput(dataTable, element);\n",
              "          const docLink = document.createElement('div');\n",
              "          docLink.innerHTML = docLinkHtml;\n",
              "          element.appendChild(docLink);\n",
              "        }\n",
              "      </script>\n",
              "    </div>\n",
              "  </div>\n",
              "  "
            ]
          },
          "metadata": {},
          "execution_count": 47
        }
      ]
    },
    {
      "cell_type": "markdown",
      "source": [
        "## Clean the data"
      ],
      "metadata": {
        "id": "XXGoDeC0GIGj"
      }
    },
    {
      "cell_type": "code",
      "source": [
        "# Check for duplicates and missing values\n",
        "print('Duplicates:', df.duplicated().sum())\n",
        "print('Missing Values:', df.isna().sum().sum())"
      ],
      "metadata": {
        "colab": {
          "base_uri": "https://localhost:8080/"
        },
        "id": "HXhrp5CtGG4L",
        "outputId": "f133e394-2130-4434-f4d1-f4e47be2dd88"
      },
      "execution_count": 48,
      "outputs": [
        {
          "output_type": "stream",
          "name": "stdout",
          "text": [
            "Duplicates: 0\n",
            "Missing Values: 6965\n"
          ]
        }
      ]
    },
    {
      "cell_type": "code",
      "source": [
        "# Drop the columns that are missing less than 5% of their values\n",
        "filter = (df.isna().sum() / df.shape[0] < 0.05) & (df.isna().sum() > 0)\n",
        "cols = df.loc[:, filter].columns\n",
        "df.drop(columns = cols, inplace = True)"
      ],
      "metadata": {
        "id": "6_ZRZCbmGQql"
      },
      "execution_count": 49,
      "outputs": []
    },
    {
      "cell_type": "code",
      "source": [
        "# Examine the reamining features with missing data\n",
        "filter = df.isna().sum() > 0\n",
        "df.loc[:, filter].info()\n",
        "print()\n",
        "df.loc[:, filter].describe()"
      ],
      "metadata": {
        "colab": {
          "base_uri": "https://localhost:8080/",
          "height": 694
        },
        "id": "8DurKrPyHVly",
        "outputId": "a867bc82-1c7c-4519-f411-be4a1ab7e4ae"
      },
      "execution_count": 50,
      "outputs": [
        {
          "output_type": "stream",
          "name": "stdout",
          "text": [
            "<class 'pandas.core.frame.DataFrame'>\n",
            "Int64Index: 1460 entries, 1 to 1460\n",
            "Data columns (total 11 columns):\n",
            " #   Column        Non-Null Count  Dtype  \n",
            "---  ------        --------------  -----  \n",
            " 0   LotFrontage   1201 non-null   float64\n",
            " 1   Alley         91 non-null     object \n",
            " 2   FireplaceQu   770 non-null    object \n",
            " 3   GarageType    1379 non-null   object \n",
            " 4   GarageYrBlt   1379 non-null   float64\n",
            " 5   GarageFinish  1379 non-null   object \n",
            " 6   GarageQual    1379 non-null   object \n",
            " 7   GarageCond    1379 non-null   object \n",
            " 8   PoolQC        7 non-null      object \n",
            " 9   Fence         281 non-null    object \n",
            " 10  MiscFeature   54 non-null     object \n",
            "dtypes: float64(2), object(9)\n",
            "memory usage: 136.9+ KB\n",
            "\n"
          ]
        },
        {
          "output_type": "execute_result",
          "data": {
            "text/plain": [
              "       LotFrontage  GarageYrBlt\n",
              "count  1201.000000  1379.000000\n",
              "mean     70.049958  1978.506164\n",
              "std      24.284752    24.689725\n",
              "min      21.000000  1900.000000\n",
              "25%      59.000000  1961.000000\n",
              "50%      69.000000  1980.000000\n",
              "75%      80.000000  2002.000000\n",
              "max     313.000000  2010.000000"
            ],
            "text/html": [
              "\n",
              "  <div id=\"df-fcbea543-8320-48a8-8ed6-7c62ada4a6fc\">\n",
              "    <div class=\"colab-df-container\">\n",
              "      <div>\n",
              "<style scoped>\n",
              "    .dataframe tbody tr th:only-of-type {\n",
              "        vertical-align: middle;\n",
              "    }\n",
              "\n",
              "    .dataframe tbody tr th {\n",
              "        vertical-align: top;\n",
              "    }\n",
              "\n",
              "    .dataframe thead th {\n",
              "        text-align: right;\n",
              "    }\n",
              "</style>\n",
              "<table border=\"1\" class=\"dataframe\">\n",
              "  <thead>\n",
              "    <tr style=\"text-align: right;\">\n",
              "      <th></th>\n",
              "      <th>LotFrontage</th>\n",
              "      <th>GarageYrBlt</th>\n",
              "    </tr>\n",
              "  </thead>\n",
              "  <tbody>\n",
              "    <tr>\n",
              "      <th>count</th>\n",
              "      <td>1201.000000</td>\n",
              "      <td>1379.000000</td>\n",
              "    </tr>\n",
              "    <tr>\n",
              "      <th>mean</th>\n",
              "      <td>70.049958</td>\n",
              "      <td>1978.506164</td>\n",
              "    </tr>\n",
              "    <tr>\n",
              "      <th>std</th>\n",
              "      <td>24.284752</td>\n",
              "      <td>24.689725</td>\n",
              "    </tr>\n",
              "    <tr>\n",
              "      <th>min</th>\n",
              "      <td>21.000000</td>\n",
              "      <td>1900.000000</td>\n",
              "    </tr>\n",
              "    <tr>\n",
              "      <th>25%</th>\n",
              "      <td>59.000000</td>\n",
              "      <td>1961.000000</td>\n",
              "    </tr>\n",
              "    <tr>\n",
              "      <th>50%</th>\n",
              "      <td>69.000000</td>\n",
              "      <td>1980.000000</td>\n",
              "    </tr>\n",
              "    <tr>\n",
              "      <th>75%</th>\n",
              "      <td>80.000000</td>\n",
              "      <td>2002.000000</td>\n",
              "    </tr>\n",
              "    <tr>\n",
              "      <th>max</th>\n",
              "      <td>313.000000</td>\n",
              "      <td>2010.000000</td>\n",
              "    </tr>\n",
              "  </tbody>\n",
              "</table>\n",
              "</div>\n",
              "      <button class=\"colab-df-convert\" onclick=\"convertToInteractive('df-fcbea543-8320-48a8-8ed6-7c62ada4a6fc')\"\n",
              "              title=\"Convert this dataframe to an interactive table.\"\n",
              "              style=\"display:none;\">\n",
              "        \n",
              "  <svg xmlns=\"http://www.w3.org/2000/svg\" height=\"24px\"viewBox=\"0 0 24 24\"\n",
              "       width=\"24px\">\n",
              "    <path d=\"M0 0h24v24H0V0z\" fill=\"none\"/>\n",
              "    <path d=\"M18.56 5.44l.94 2.06.94-2.06 2.06-.94-2.06-.94-.94-2.06-.94 2.06-2.06.94zm-11 1L8.5 8.5l.94-2.06 2.06-.94-2.06-.94L8.5 2.5l-.94 2.06-2.06.94zm10 10l.94 2.06.94-2.06 2.06-.94-2.06-.94-.94-2.06-.94 2.06-2.06.94z\"/><path d=\"M17.41 7.96l-1.37-1.37c-.4-.4-.92-.59-1.43-.59-.52 0-1.04.2-1.43.59L10.3 9.45l-7.72 7.72c-.78.78-.78 2.05 0 2.83L4 21.41c.39.39.9.59 1.41.59.51 0 1.02-.2 1.41-.59l7.78-7.78 2.81-2.81c.8-.78.8-2.07 0-2.86zM5.41 20L4 18.59l7.72-7.72 1.47 1.35L5.41 20z\"/>\n",
              "  </svg>\n",
              "      </button>\n",
              "      \n",
              "  <style>\n",
              "    .colab-df-container {\n",
              "      display:flex;\n",
              "      flex-wrap:wrap;\n",
              "      gap: 12px;\n",
              "    }\n",
              "\n",
              "    .colab-df-convert {\n",
              "      background-color: #E8F0FE;\n",
              "      border: none;\n",
              "      border-radius: 50%;\n",
              "      cursor: pointer;\n",
              "      display: none;\n",
              "      fill: #1967D2;\n",
              "      height: 32px;\n",
              "      padding: 0 0 0 0;\n",
              "      width: 32px;\n",
              "    }\n",
              "\n",
              "    .colab-df-convert:hover {\n",
              "      background-color: #E2EBFA;\n",
              "      box-shadow: 0px 1px 2px rgba(60, 64, 67, 0.3), 0px 1px 3px 1px rgba(60, 64, 67, 0.15);\n",
              "      fill: #174EA6;\n",
              "    }\n",
              "\n",
              "    [theme=dark] .colab-df-convert {\n",
              "      background-color: #3B4455;\n",
              "      fill: #D2E3FC;\n",
              "    }\n",
              "\n",
              "    [theme=dark] .colab-df-convert:hover {\n",
              "      background-color: #434B5C;\n",
              "      box-shadow: 0px 1px 3px 1px rgba(0, 0, 0, 0.15);\n",
              "      filter: drop-shadow(0px 1px 2px rgba(0, 0, 0, 0.3));\n",
              "      fill: #FFFFFF;\n",
              "    }\n",
              "  </style>\n",
              "\n",
              "      <script>\n",
              "        const buttonEl =\n",
              "          document.querySelector('#df-fcbea543-8320-48a8-8ed6-7c62ada4a6fc button.colab-df-convert');\n",
              "        buttonEl.style.display =\n",
              "          google.colab.kernel.accessAllowed ? 'block' : 'none';\n",
              "\n",
              "        async function convertToInteractive(key) {\n",
              "          const element = document.querySelector('#df-fcbea543-8320-48a8-8ed6-7c62ada4a6fc');\n",
              "          const dataTable =\n",
              "            await google.colab.kernel.invokeFunction('convertToInteractive',\n",
              "                                                     [key], {});\n",
              "          if (!dataTable) return;\n",
              "\n",
              "          const docLinkHtml = 'Like what you see? Visit the ' +\n",
              "            '<a target=\"_blank\" href=https://colab.research.google.com/notebooks/data_table.ipynb>data table notebook</a>'\n",
              "            + ' to learn more about interactive tables.';\n",
              "          element.innerHTML = '';\n",
              "          dataTable['output_type'] = 'display_data';\n",
              "          await google.colab.output.renderOutput(dataTable, element);\n",
              "          const docLink = document.createElement('div');\n",
              "          docLink.innerHTML = docLinkHtml;\n",
              "          element.appendChild(docLink);\n",
              "        }\n",
              "      </script>\n",
              "    </div>\n",
              "  </div>\n",
              "  "
            ]
          },
          "metadata": {},
          "execution_count": 50
        }
      ]
    },
    {
      "cell_type": "markdown",
      "source": [
        "> We will impute the missing values in the categorical columns with the label \"missing.\" There is no significant difference in the mean and median for the quantitative data so we will impute missing values with the median."
      ],
      "metadata": {
        "id": "8uezjz2jjf05"
      }
    },
    {
      "cell_type": "markdown",
      "source": [
        "## Preprocessing"
      ],
      "metadata": {
        "id": "cZkj33ivEkbq"
      }
    },
    {
      "cell_type": "code",
      "source": [
        "# Set the target and features\n",
        "X = df.drop(columns = 'SalePrice')\n",
        "y = df['SalePrice']"
      ],
      "metadata": {
        "id": "LsFYiUzgEnCW"
      },
      "execution_count": 51,
      "outputs": []
    },
    {
      "cell_type": "code",
      "source": [
        "# Split the data\n",
        "X_train, X_test, y_train, y_test = train_test_split(X, y, random_state = 42)"
      ],
      "metadata": {
        "id": "GY9gxA4VEzkE"
      },
      "execution_count": 52,
      "outputs": []
    },
    {
      "cell_type": "code",
      "source": [
        "# Build a column transformer\n",
        "\n",
        "# Make column selectors\n",
        "cat_selector = make_column_selector(dtype_include = 'object')\n",
        "num_selector = make_column_selector(dtype_include = 'number')\n",
        "\n",
        "# Make the imputers\n",
        "missing_imputer = SimpleImputer(strategy = 'constant', fill_value = 'Missing')\n",
        "median_imputer = SimpleImputer(strategy = 'median')\n",
        "\n",
        "# Make pipelines for the categorical and numerical data\n",
        "cat_pipe = make_pipeline(missing_imputer, \n",
        "                         OneHotEncoder(sparse = False, \n",
        "                                       handle_unknown = 'ignore'))\n",
        "num_pipe = make_pipeline(median_imputer, StandardScaler())\n",
        "# Make tuples\n",
        "cat_tuple = (cat_pipe, cat_selector)\n",
        "num_tuple = (num_pipe, num_selector)\n",
        "\n",
        "# Make the column transformer\n",
        "col_transformer = make_column_transformer(cat_tuple,\n",
        "                                          num_tuple,\n",
        "                                          remainder = 'passthrough')"
      ],
      "metadata": {
        "id": "Ll7Y2I7CE4Tg"
      },
      "execution_count": 53,
      "outputs": []
    },
    {
      "cell_type": "code",
      "source": [
        "# Process the data\n",
        "X_train_proc = col_transformer.fit_transform(X_train)\n",
        "X_test_proc = col_transformer.transform(X_test)"
      ],
      "metadata": {
        "id": "cxFFrWHSIfyN"
      },
      "execution_count": 54,
      "outputs": []
    },
    {
      "cell_type": "markdown",
      "source": [
        "## Neural Networks"
      ],
      "metadata": {
        "id": "tLzyyh3JKFNf"
      }
    },
    {
      "cell_type": "markdown",
      "source": [
        "### First Model"
      ],
      "metadata": {
        "id": "o-XrrWJRKbS2"
      }
    },
    {
      "cell_type": "code",
      "source": [
        "# This first model will be a simple neural network with two hidden layers. The \n",
        "# first will have 266 nodes, the second will have 133. We will not use \n",
        "# regularization for this model.\n",
        "\n",
        "# Instantiate a model \n",
        "model1 = Sequential()\n",
        "\n",
        "# Get the number of nodes for the input layer\n",
        "input_dim = X_train_proc.shape[1]"
      ],
      "metadata": {
        "id": "uSWCoA6CKH_Y"
      },
      "execution_count": 55,
      "outputs": []
    },
    {
      "cell_type": "code",
      "source": [
        "# Add layers to the model\n",
        "model1.add(Dense(266, input_dim = input_dim, activation = 'relu'))\n",
        "model1.add(Dense(133, activation = 'relu'))\n",
        "model1.add(Dense(1, activation = 'linear'))\n",
        "model1.summary()"
      ],
      "metadata": {
        "colab": {
          "base_uri": "https://localhost:8080/"
        },
        "id": "X279c5TCKfY4",
        "outputId": "a5d5c7db-d32c-46e3-bda2-92d049983784"
      },
      "execution_count": 56,
      "outputs": [
        {
          "output_type": "stream",
          "name": "stdout",
          "text": [
            "Model: \"sequential_5\"\n",
            "_________________________________________________________________\n",
            " Layer (type)                Output Shape              Param #   \n",
            "=================================================================\n",
            " dense_18 (Dense)            (None, 266)               69426     \n",
            "                                                                 \n",
            " dense_19 (Dense)            (None, 133)               35511     \n",
            "                                                                 \n",
            " dense_20 (Dense)            (None, 1)                 134       \n",
            "                                                                 \n",
            "=================================================================\n",
            "Total params: 105,071\n",
            "Trainable params: 105,071\n",
            "Non-trainable params: 0\n",
            "_________________________________________________________________\n"
          ]
        }
      ]
    },
    {
      "cell_type": "code",
      "source": [
        "# Compile the model\n",
        "model1.compile(loss = 'mse', optimizer = 'adam')"
      ],
      "metadata": {
        "id": "dwD6C2iPN-0H"
      },
      "execution_count": 57,
      "outputs": []
    },
    {
      "cell_type": "code",
      "source": [
        "# Train the model\n",
        "history1 = model1.fit(X_train_proc, y_train,\n",
        "                     validation_data = (X_test_proc, y_test),\n",
        "                     epochs = 20,\n",
        "                     verbose = 0)"
      ],
      "metadata": {
        "id": "sDiicPi5OWhl"
      },
      "execution_count": 58,
      "outputs": []
    },
    {
      "cell_type": "code",
      "source": [
        "# Evaluate the model\n",
        "plot_history(history1)"
      ],
      "metadata": {
        "colab": {
          "base_uri": "https://localhost:8080/",
          "height": 54
        },
        "id": "Hm2qu4cBOg6T",
        "outputId": "4f74454f-5b84-4298-a6d0-f4854c3ba4cf"
      },
      "execution_count": 59,
      "outputs": [
        {
          "output_type": "display_data",
          "data": {
            "text/plain": [
              "<Figure size 432x288 with 1 Axes>"
            ],
            "image/png": "[encoded data removed]"
          },
          "metadata": {
            "needs_background": "light"
          }
        }
      ]
    },
    {
      "cell_type": "markdown",
      "source": [
        "### Second Model"
      ],
      "metadata": {
        "id": "4zIH5c5aPGtD"
      }
    },
    {
      "cell_type": "code",
      "source": [
        "# We will only make slight modifications to the first model for our second\n",
        "# neural network. We will see how changing the actiavtion functions affects\n",
        "# the model\n",
        "\n",
        "# Instantiate a model\n",
        "model2 = Sequential()"
      ],
      "metadata": {
        "id": "zyCB71u7PKr-"
      },
      "execution_count": 60,
      "outputs": []
    },
    {
      "cell_type": "code",
      "source": [
        "# Add layers to the model\n",
        "model2.add(Dense(266, input_dim = input_dim, activation = 'linear'))\n",
        "model2.add(Dense(133, activation = 'linear'))\n",
        "model2.add(Dense(1, activation = 'linear'))\n",
        "model2.summary()"
      ],
      "metadata": {
        "colab": {
          "base_uri": "https://localhost:8080/"
        },
        "id": "yqKwokuQPb5-",
        "outputId": "6cba2852-abac-4608-96a1-cd3d9d5a8ff9"
      },
      "execution_count": 61,
      "outputs": [
        {
          "output_type": "stream",
          "name": "stdout",
          "text": [
            "Model: \"sequential_6\"\n",
            "_________________________________________________________________\n",
            " Layer (type)                Output Shape              Param #   \n",
            "=================================================================\n",
            " dense_21 (Dense)            (None, 266)               69426     \n",
            "                                                                 \n",
            " dense_22 (Dense)            (None, 133)               35511     \n",
            "                                                                 \n",
            " dense_23 (Dense)            (None, 1)                 134       \n",
            "                                                                 \n",
            "=================================================================\n",
            "Total params: 105,071\n",
            "Trainable params: 105,071\n",
            "Non-trainable params: 0\n",
            "_________________________________________________________________\n"
          ]
        }
      ]
    },
    {
      "cell_type": "code",
      "source": [
        "# Compile the model\n",
        "model2.compile(loss = 'mse', optimizer = 'adam')"
      ],
      "metadata": {
        "id": "fxM2aOqfPisp"
      },
      "execution_count": 62,
      "outputs": []
    },
    {
      "cell_type": "code",
      "source": [
        "# Train the model\n",
        "history2 = model2.fit(X_train_proc, y_train,\n",
        "                      validation_data = (X_test_proc, y_test),\n",
        "                      epochs = 20,\n",
        "                      verbose = 0)"
      ],
      "metadata": {
        "id": "1fvA7JipPyHD"
      },
      "execution_count": 63,
      "outputs": []
    },
    {
      "cell_type": "code",
      "source": [
        "# Plot the history\n",
        "plot_history(history2)"
      ],
      "metadata": {
        "colab": {
          "base_uri": "https://localhost:8080/",
          "height": 54
        },
        "id": "WesF18D6P6Dv",
        "outputId": "009c5e57-f7af-43ad-efdb-c47e4c5fc057"
      },
      "execution_count": 64,
      "outputs": [
        {
          "output_type": "display_data",
          "data": {
            "text/plain": [
              "<Figure size 432x288 with 1 Axes>"
            ],
            "image/png": "[encoded data removed]"
          },
          "metadata": {
            "needs_background": "light"
          }
        }
      ]
    },
    {
      "cell_type": "markdown",
      "source": [
        "> Changing the activation function gave us a neglible improvment. We will add dropout to the next model in the hope of reducing the training time."
      ],
      "metadata": {
        "id": "uTP8Wg1PSRop"
      }
    },
    {
      "cell_type": "markdown",
      "source": [
        "### Third Model"
      ],
      "metadata": {
        "id": "DZ4QO69XSwvX"
      }
    },
    {
      "cell_type": "code",
      "source": [
        "# Our third model will use a linear activation function and add dropout in an \n",
        "# attempt to reduce training time.\n",
        "\n",
        "# Instantiate a model\n",
        "model3 = Sequential()"
      ],
      "metadata": {
        "id": "DwzYF_gTSuvL"
      },
      "execution_count": 65,
      "outputs": []
    },
    {
      "cell_type": "code",
      "source": [
        "# Add layers to the model\n",
        "model3.add(Dense(266, input_dim = input_dim, activation = 'linear'))\n",
        "model3.add(Dropout(0.3))\n",
        "model3.add(Dense(133, activation = 'linear'))\n",
        "model3.add(Dropout(0.3))\n",
        "model3.add(Dense(1, activation = 'linear'))\n",
        "model3.summary()"
      ],
      "metadata": {
        "colab": {
          "base_uri": "https://localhost:8080/"
        },
        "id": "UV0qr2UJSyZs",
        "outputId": "c355c652-c8cd-448f-de76-abed8fd9e356"
      },
      "execution_count": 66,
      "outputs": [
        {
          "output_type": "stream",
          "name": "stdout",
          "text": [
            "Model: \"sequential_7\"\n",
            "_________________________________________________________________\n",
            " Layer (type)                Output Shape              Param #   \n",
            "=================================================================\n",
            " dense_24 (Dense)            (None, 266)               69426     \n",
            "                                                                 \n",
            " dropout_2 (Dropout)         (None, 266)               0         \n",
            "                                                                 \n",
            " dense_25 (Dense)            (None, 133)               35511     \n",
            "                                                                 \n",
            " dropout_3 (Dropout)         (None, 133)               0         \n",
            "                                                                 \n",
            " dense_26 (Dense)            (None, 1)                 134       \n",
            "                                                                 \n",
            "=================================================================\n",
            "Total params: 105,071\n",
            "Trainable params: 105,071\n",
            "Non-trainable params: 0\n",
            "_________________________________________________________________\n"
          ]
        }
      ]
    },
    {
      "cell_type": "code",
      "source": [
        "# Compile the model\n",
        "model3.compile(loss = 'mse', optimizer = 'adam')"
      ],
      "metadata": {
        "id": "Vk_GbjfJTJkw"
      },
      "execution_count": 67,
      "outputs": []
    },
    {
      "cell_type": "code",
      "source": [
        "# Train the model\n",
        "history3 = model3.fit(X_train_proc, y_train,\n",
        "                      validation_data = (X_test_proc, y_test),\n",
        "                      epochs = 20,\n",
        "                      verbose = 0)"
      ],
      "metadata": {
        "id": "YFDT1ZhnTPcD"
      },
      "execution_count": 68,
      "outputs": []
    },
    {
      "cell_type": "code",
      "source": [
        "# Plot the history\n",
        "plot_history(history3)"
      ],
      "metadata": {
        "colab": {
          "base_uri": "https://localhost:8080/",
          "height": 54
        },
        "id": "bgv6lBeJTZsH",
        "outputId": "9273d735-4a16-4d7a-a14f-1a2d3e95e578"
      },
      "execution_count": 69,
      "outputs": [
        {
          "output_type": "display_data",
          "data": {
            "text/plain": [
              "<Figure size 432x288 with 1 Axes>"
            ],
            "image/png": "[encoded data removed]"
          },
          "metadata": {
            "needs_background": "light"
          }
        }
      ]
    },
    {
      "cell_type": "markdown",
      "source": [
        "> Regularizing our model with dropout did not appear to improve our model, nor did it reduce training time. Our next model will add a hidden layer and more nodes."
      ],
      "metadata": {
        "id": "LMlPf7izTl4E"
      }
    },
    {
      "cell_type": "markdown",
      "source": [
        "### Fourth Model"
      ],
      "metadata": {
        "id": "bfrqDoD7T290"
      }
    },
    {
      "cell_type": "code",
      "source": [
        "# We will increase the number of nodes in this model and add an additional \n",
        "# hidden layer to the model\n",
        "\n",
        "# Instantiate the model\n",
        "model4 = Sequential()"
      ],
      "metadata": {
        "id": "cAA17xIvTlpm"
      },
      "execution_count": 70,
      "outputs": []
    },
    {
      "cell_type": "code",
      "source": [
        "# Add layers to the model\n",
        "model4.add(Dense(500, input_dim = input_dim, activation = 'linear'))\n",
        "model4.add(Dense(500, activation = 'linear'))\n",
        "model4.add(Dense(250, activation = 'linear'))\n",
        "model4.add(Dense(1, activation = 'linear'))\n",
        "model4.summary()"
      ],
      "metadata": {
        "colab": {
          "base_uri": "https://localhost:8080/"
        },
        "id": "L49SZwYiUJhV",
        "outputId": "2e5cac76-f1d8-439e-e56f-004478584f40"
      },
      "execution_count": 71,
      "outputs": [
        {
          "output_type": "stream",
          "name": "stdout",
          "text": [
            "Model: \"sequential_8\"\n",
            "_________________________________________________________________\n",
            " Layer (type)                Output Shape              Param #   \n",
            "=================================================================\n",
            " dense_27 (Dense)            (None, 500)               130500    \n",
            "                                                                 \n",
            " dense_28 (Dense)            (None, 500)               250500    \n",
            "                                                                 \n",
            " dense_29 (Dense)            (None, 250)               125250    \n",
            "                                                                 \n",
            " dense_30 (Dense)            (None, 1)                 251       \n",
            "                                                                 \n",
            "=================================================================\n",
            "Total params: 506,501\n",
            "Trainable params: 506,501\n",
            "Non-trainable params: 0\n",
            "_________________________________________________________________\n"
          ]
        }
      ]
    },
    {
      "cell_type": "code",
      "source": [
        "# Compile the model\n",
        "model4.compile(loss = 'mse', optimizer = 'adam')"
      ],
      "metadata": {
        "id": "trsyM4HRUR8a"
      },
      "execution_count": 72,
      "outputs": []
    },
    {
      "cell_type": "code",
      "source": [
        "# Train the model\n",
        "history4 = model4.fit(X_train_proc, y_train,\n",
        "                      validation_data = (X_test_proc, y_test),\n",
        "                      epochs = 20,\n",
        "                      verbose = 0)"
      ],
      "metadata": {
        "id": "sYxWcM_tUWPB"
      },
      "execution_count": 73,
      "outputs": []
    },
    {
      "cell_type": "code",
      "source": [
        "# Plot the history\n",
        "plot_history(history4)"
      ],
      "metadata": {
        "colab": {
          "base_uri": "https://localhost:8080/",
          "height": 54
        },
        "id": "62Nn3CAuUfYt",
        "outputId": "40079e57-2569-4d8d-b160-e51ee5f7bb71"
      },
      "execution_count": 74,
      "outputs": [
        {
          "output_type": "display_data",
          "data": {
            "text/plain": [
              "<Figure size 432x288 with 1 Axes>"
            ],
            "image/png": "[encoded data removed]"
          },
          "metadata": {
            "needs_background": "light"
          }
        }
      ]
    },
    {
      "cell_type": "code",
      "source": [
        "# Compare the loss for the test data for each model\n",
        "plt.plot(history1.history['val_loss'], label = 'Model 1 Validation Loss')\n",
        "plt.plot(history2.history['val_loss'], label = 'Model 2 Validation Loss')\n",
        "plt.plot(history3.history['val_loss'], label = 'Model 3 Validation Loss')\n",
        "plt.plot(history4.history['val_loss'], label = 'Model 4 Validation Loss')\n",
        "plt.legend()"
      ],
      "metadata": {
        "colab": {
          "base_uri": "https://localhost:8080/",
          "height": 106
        },
        "id": "K8f52AStUinm",
        "outputId": "509d1eec-3223-4738-9bea-52130eb0dff6"
      },
      "execution_count": 75,
      "outputs": [
        {
          "output_type": "execute_result",
          "data": {
            "text/plain": [
              "<matplotlib.legend.Legend at 0x7fd52ba921d0>"
            ]
          },
          "metadata": {},
          "execution_count": 75
        },
        {
          "output_type": "display_data",
          "data": {
            "text/plain": [
              "<Figure size 432x288 with 1 Axes>"
            ],
            "image/png": "[encoded data removed]"
          },
          "metadata": {
            "needs_background": "light"
          }
        }
      ]
    },
    {
      "cell_type": "markdown",
      "source": [
        "> We see from the above that each successive model gives slight improvements to the mean squared error. The extra hidden layer and increased nodes gave us a model that needed fewer epochs."
      ],
      "metadata": {
        "id": "DKcz1lVhW9kQ"
      }
    },
    {
      "cell_type": "markdown",
      "source": [
        "### Fifth Model"
      ],
      "metadata": {
        "id": "aNJqO93HxPQU"
      }
    },
    {
      "cell_type": "code",
      "source": [
        "# We will try an additional hidden layer for this model\n",
        "\n",
        "# Instantiate the model\n",
        "model5 = Sequential()"
      ],
      "metadata": {
        "id": "mP6ru5WjxTgn"
      },
      "execution_count": 76,
      "outputs": []
    },
    {
      "cell_type": "code",
      "source": [
        "# Add layers to the model\n",
        "model5.add(Dense(500, input_dim = input_dim, activation = 'linear'))\n",
        "model5.add(Dense(500, activation = 'linear'))\n",
        "model5.add(Dense(250, activation = 'linear'))\n",
        "model5.add(Dense(250, activation = 'linear'))\n",
        "model5.add(Dense(1, activation = 'linear'))\n",
        "model5.summary()"
      ],
      "metadata": {
        "id": "mdy4qJNNxcBX",
        "outputId": "c63dd8c1-4134-4e42-90a9-4a3e8bf3d8a1",
        "colab": {
          "base_uri": "https://localhost:8080/"
        }
      },
      "execution_count": 77,
      "outputs": [
        {
          "output_type": "stream",
          "name": "stdout",
          "text": [
            "Model: \"sequential_9\"\n",
            "_________________________________________________________________\n",
            " Layer (type)                Output Shape              Param #   \n",
            "=================================================================\n",
            " dense_31 (Dense)            (None, 500)               130500    \n",
            "                                                                 \n",
            " dense_32 (Dense)            (None, 500)               250500    \n",
            "                                                                 \n",
            " dense_33 (Dense)            (None, 250)               125250    \n",
            "                                                                 \n",
            " dense_34 (Dense)            (None, 250)               62750     \n",
            "                                                                 \n",
            " dense_35 (Dense)            (None, 1)                 251       \n",
            "                                                                 \n",
            "=================================================================\n",
            "Total params: 569,251\n",
            "Trainable params: 569,251\n",
            "Non-trainable params: 0\n",
            "_________________________________________________________________\n"
          ]
        }
      ]
    },
    {
      "cell_type": "code",
      "source": [
        "# Compile the model\n",
        "model5.compile(loss = 'mse', optimizer = 'adam')"
      ],
      "metadata": {
        "id": "OeSkTvpJxnFw"
      },
      "execution_count": 78,
      "outputs": []
    },
    {
      "cell_type": "code",
      "source": [
        "# Train the model\n",
        "history5 = model5.fit(X_train_proc, y_train,\n",
        "                      validation_data = (X_test_proc, y_test),\n",
        "                      epochs = 20,\n",
        "                      verbose = 0)"
      ],
      "metadata": {
        "id": "3r1n_c5uxsPx"
      },
      "execution_count": 79,
      "outputs": []
    },
    {
      "cell_type": "code",
      "source": [
        "# Plot the history\n",
        "plot_history(history4)"
      ],
      "metadata": {
        "id": "W20_-DGZxyR6",
        "outputId": "f767df33-a222-43f8-ac6c-2d2b7d62dccb",
        "colab": {
          "base_uri": "https://localhost:8080/",
          "height": 281
        }
      },
      "execution_count": 80,
      "outputs": [
        {
          "output_type": "display_data",
          "data": {
            "text/plain": [
              "<Figure size 432x288 with 1 Axes>"
            ],
            "image/png": "[encoded data removed]"
          },
          "metadata": {
            "needs_background": "light"
          }
        }
      ]
    },
    {
      "cell_type": "code",
      "source": [
        "# Compare the loss for the test data for each model\n",
        "plt.plot(history1.history['val_loss'], label = 'Model 1 Validation Loss')\n",
        "plt.plot(history2.history['val_loss'], label = 'Model 2 Validation Loss')\n",
        "plt.plot(history3.history['val_loss'], label = 'Model 3 Validation Loss')\n",
        "plt.plot(history4.history['val_loss'], label = 'Model 4 Validation Loss')\n",
        "plt.plot(history5.history['val_loss'], label = 'Model 5 Validation Loss')\n",
        "plt.legend()"
      ],
      "metadata": {
        "id": "g1uk6kqzx8pT",
        "outputId": "6852bfcd-bed7-49b2-b137-9acfcf046290",
        "colab": {
          "base_uri": "https://localhost:8080/",
          "height": 293
        }
      },
      "execution_count": 81,
      "outputs": [
        {
          "output_type": "execute_result",
          "data": {
            "text/plain": [
              "<matplotlib.legend.Legend at 0x7fd52b7ca250>"
            ]
          },
          "metadata": {},
          "execution_count": 81
        },
        {
          "output_type": "display_data",
          "data": {
            "text/plain": [
              "<Figure size 432x288 with 1 Axes>"
            ],
            "image/png": "[encoded data removed]"
          },
          "metadata": {
            "needs_background": "light"
          }
        }
      ]
    },
    {
      "cell_type": "markdown",
      "source": [
        "## Final Model"
      ],
      "metadata": {
        "id": "8XcXqhnrXbZz"
      }
    },
    {
      "cell_type": "code",
      "source": [
        "# We choose our fourth model to be our final model\n",
        "final_model = model5"
      ],
      "metadata": {
        "id": "jCAxNLytXNxj"
      },
      "execution_count": 82,
      "outputs": []
    },
    {
      "cell_type": "code",
      "source": [
        "# Evaluate the final model\n",
        "train_preds = final_model.predict(X_train_proc)\n",
        "test_preds = final_model.predict(X_test_proc)\n",
        "\n",
        "# Metrics for the training data\n",
        "train_mae = mean_absolute_error(train_preds, y_train)\n",
        "train_mse = mean_squared_error(train_preds, y_train)\n",
        "train_rmse = np.sqrt(train_mse)\n",
        "train_r2 = r2_score(train_preds, y_train)\n",
        "\n",
        "# Metrcis for the test data\n",
        "test_mae = mean_absolute_error(test_preds, y_test)\n",
        "test_mse = mean_squared_error(test_preds, y_test)\n",
        "test_rmse = np.sqrt(test_mse)\n",
        "test_r2 = r2_score(test_preds, y_test)\n",
        "\n",
        "# Display the data\n",
        "model_metrics = pd.DataFrame({'MAE': [train_mae, test_mae],\n",
        "                              'MSE': [train_mse, test_mse],\n",
        "                              'RMSE': [train_rmse, test_rmse],\n",
        "                              'R2': [train_r2, test_r2]},\n",
        "                             index = ['Train', 'Test'])\n",
        "model_metrics.round(4)"
      ],
      "metadata": {
        "colab": {
          "base_uri": "https://localhost:8080/",
          "height": 112
        },
        "id": "3nL86MOoXvMk",
        "outputId": "a953da95-5d66-4aab-8c8a-fe1688b81064"
      },
      "execution_count": 83,
      "outputs": [
        {
          "output_type": "execute_result",
          "data": {
            "text/plain": [
              "              MAE           MSE        RMSE      R2\n",
              "Train  16768.0962  7.852332e+08  28022.0133  0.8533\n",
              "Test   18997.8562  9.176198e+08  30292.2407  0.8384"
            ],
            "text/html": [
              "\n",
              "  <div id=\"df-4064ac75-b496-4271-9342-2f7dc2637eea\">\n",
              "    <div class=\"colab-df-container\">\n",
              "      <div>\n",
              "<style scoped>\n",
              "    .dataframe tbody tr th:only-of-type {\n",
              "        vertical-align: middle;\n",
              "    }\n",
              "\n",
              "    .dataframe tbody tr th {\n",
              "        vertical-align: top;\n",
              "    }\n",
              "\n",
              "    .dataframe thead th {\n",
              "        text-align: right;\n",
              "    }\n",
              "</style>\n",
              "<table border=\"1\" class=\"dataframe\">\n",
              "  <thead>\n",
              "    <tr style=\"text-align: right;\">\n",
              "      <th></th>\n",
              "      <th>MAE</th>\n",
              "      <th>MSE</th>\n",
              "      <th>RMSE</th>\n",
              "      <th>R2</th>\n",
              "    </tr>\n",
              "  </thead>\n",
              "  <tbody>\n",
              "    <tr>\n",
              "      <th>Train</th>\n",
              "      <td>16768.0962</td>\n",
              "      <td>7.852332e+08</td>\n",
              "      <td>28022.0133</td>\n",
              "      <td>0.8533</td>\n",
              "    </tr>\n",
              "    <tr>\n",
              "      <th>Test</th>\n",
              "      <td>18997.8562</td>\n",
              "      <td>9.176198e+08</td>\n",
              "      <td>30292.2407</td>\n",
              "      <td>0.8384</td>\n",
              "    </tr>\n",
              "  </tbody>\n",
              "</table>\n",
              "</div>\n",
              "      <button class=\"colab-df-convert\" onclick=\"convertToInteractive('df-4064ac75-b496-4271-9342-2f7dc2637eea')\"\n",
              "              title=\"Convert this dataframe to an interactive table.\"\n",
              "              style=\"display:none;\">\n",
              "        \n",
              "  <svg xmlns=\"http://www.w3.org/2000/svg\" height=\"24px\"viewBox=\"0 0 24 24\"\n",
              "       width=\"24px\">\n",
              "    <path d=\"M0 0h24v24H0V0z\" fill=\"none\"/>\n",
              "    <path d=\"M18.56 5.44l.94 2.06.94-2.06 2.06-.94-2.06-.94-.94-2.06-.94 2.06-2.06.94zm-11 1L8.5 8.5l.94-2.06 2.06-.94-2.06-.94L8.5 2.5l-.94 2.06-2.06.94zm10 10l.94 2.06.94-2.06 2.06-.94-2.06-.94-.94-2.06-.94 2.06-2.06.94z\"/><path d=\"M17.41 7.96l-1.37-1.37c-.4-.4-.92-.59-1.43-.59-.52 0-1.04.2-1.43.59L10.3 9.45l-7.72 7.72c-.78.78-.78 2.05 0 2.83L4 21.41c.39.39.9.59 1.41.59.51 0 1.02-.2 1.41-.59l7.78-7.78 2.81-2.81c.8-.78.8-2.07 0-2.86zM5.41 20L4 18.59l7.72-7.72 1.47 1.35L5.41 20z\"/>\n",
              "  </svg>\n",
              "      </button>\n",
              "      \n",
              "  <style>\n",
              "    .colab-df-container {\n",
              "      display:flex;\n",
              "      flex-wrap:wrap;\n",
              "      gap: 12px;\n",
              "    }\n",
              "\n",
              "    .colab-df-convert {\n",
              "      background-color: #E8F0FE;\n",
              "      border: none;\n",
              "      border-radius: 50%;\n",
              "      cursor: pointer;\n",
              "      display: none;\n",
              "      fill: #1967D2;\n",
              "      height: 32px;\n",
              "      padding: 0 0 0 0;\n",
              "      width: 32px;\n",
              "    }\n",
              "\n",
              "    .colab-df-convert:hover {\n",
              "      background-color: #E2EBFA;\n",
              "      box-shadow: 0px 1px 2px rgba(60, 64, 67, 0.3), 0px 1px 3px 1px rgba(60, 64, 67, 0.15);\n",
              "      fill: #174EA6;\n",
              "    }\n",
              "\n",
              "    [theme=dark] .colab-df-convert {\n",
              "      background-color: #3B4455;\n",
              "      fill: #D2E3FC;\n",
              "    }\n",
              "\n",
              "    [theme=dark] .colab-df-convert:hover {\n",
              "      background-color: #434B5C;\n",
              "      box-shadow: 0px 1px 3px 1px rgba(0, 0, 0, 0.15);\n",
              "      filter: drop-shadow(0px 1px 2px rgba(0, 0, 0, 0.3));\n",
              "      fill: #FFFFFF;\n",
              "    }\n",
              "  </style>\n",
              "\n",
              "      <script>\n",
              "        const buttonEl =\n",
              "          document.querySelector('#df-4064ac75-b496-4271-9342-2f7dc2637eea button.colab-df-convert');\n",
              "        buttonEl.style.display =\n",
              "          google.colab.kernel.accessAllowed ? 'block' : 'none';\n",
              "\n",
              "        async function convertToInteractive(key) {\n",
              "          const element = document.querySelector('#df-4064ac75-b496-4271-9342-2f7dc2637eea');\n",
              "          const dataTable =\n",
              "            await google.colab.kernel.invokeFunction('convertToInteractive',\n",
              "                                                     [key], {});\n",
              "          if (!dataTable) return;\n",
              "\n",
              "          const docLinkHtml = 'Like what you see? Visit the ' +\n",
              "            '<a target=\"_blank\" href=https://colab.research.google.com/notebooks/data_table.ipynb>data table notebook</a>'\n",
              "            + ' to learn more about interactive tables.';\n",
              "          element.innerHTML = '';\n",
              "          dataTable['output_type'] = 'display_data';\n",
              "          await google.colab.output.renderOutput(dataTable, element);\n",
              "          const docLink = document.createElement('div');\n",
              "          docLink.innerHTML = docLinkHtml;\n",
              "          element.appendChild(docLink);\n",
              "        }\n",
              "      </script>\n",
              "    </div>\n",
              "  </div>\n",
              "  "
            ]
          },
          "metadata": {},
          "execution_count": 83
        }
      ]
    },
    {
      "cell_type": "markdown",
      "source": [
        "> Our metrics tell us our model is able to explain about 85% of the variance in our data. A typical prediction is off by about \\$19,000. Our root mean squared error of about \\$30,000 tells us our model is making some larger errors."
      ],
      "metadata": {
        "id": "Qie6utTFZZsW"
      }
    },
    {
      "cell_type": "code",
      "source": [
        "# Load the test.csv file so we can make predictions for the Kaggle competition.\n",
        "url = 'https://docs.google.com/spreadsheets/d/e/2PACX-1vRNru042_rhJ7yt3PPH3kJ_Y7Qg6RbGgABLNKowxojEuzxuLf7lyciKmz-M5q0ObJW3KJnDOLrYoKAD/pub?output=csv'\n",
        "pred_df = pd.read_csv(url, index_col = 'Id')\n",
        "pred_df.head()"
      ],
      "metadata": {
        "colab": {
          "base_uri": "https://localhost:8080/",
          "height": 331
        },
        "id": "JZqhJQ8QZqCy",
        "outputId": "ddb4b6ba-c3a0-4265-f864-7771d7e19ef0"
      },
      "execution_count": 84,
      "outputs": [
        {
          "output_type": "execute_result",
          "data": {
            "text/plain": [
              "      MSSubClass MSZoning  LotFrontage  LotArea Street Alley LotShape  \\\n",
              "Id                                                                      \n",
              "1461          20       RH         80.0    11622   Pave   NaN      Reg   \n",
              "1462          20       RL         81.0    14267   Pave   NaN      IR1   \n",
              "1463          60       RL         74.0    13830   Pave   NaN      IR1   \n",
              "1464          60       RL         78.0     9978   Pave   NaN      IR1   \n",
              "1465         120       RL         43.0     5005   Pave   NaN      IR1   \n",
              "\n",
              "     LandContour Utilities LotConfig  ... ScreenPorch PoolArea PoolQC  Fence  \\\n",
              "Id                                    ...                                      \n",
              "1461         Lvl    AllPub    Inside  ...         120        0    NaN  MnPrv   \n",
              "1462         Lvl    AllPub    Corner  ...           0        0    NaN    NaN   \n",
              "1463         Lvl    AllPub    Inside  ...           0        0    NaN  MnPrv   \n",
              "1464         Lvl    AllPub    Inside  ...           0        0    NaN    NaN   \n",
              "1465         HLS    AllPub    Inside  ...         144        0    NaN    NaN   \n",
              "\n",
              "     MiscFeature MiscVal  MoSold  YrSold  SaleType  SaleCondition  \n",
              "Id                                                                 \n",
              "1461         NaN       0       6    2010        WD         Normal  \n",
              "1462        Gar2   12500       6    2010        WD         Normal  \n",
              "1463         NaN       0       3    2010        WD         Normal  \n",
              "1464         NaN       0       6    2010        WD         Normal  \n",
              "1465         NaN       0       1    2010        WD         Normal  \n",
              "\n",
              "[5 rows x 79 columns]"
            ],
            "text/html": [
              "\n",
              "  <div id=\"df-1356e0ec-6278-49b0-a2c7-29cebafe28f6\">\n",
              "    <div class=\"colab-df-container\">\n",
              "      <div>\n",
              "<style scoped>\n",
              "    .dataframe tbody tr th:only-of-type {\n",
              "        vertical-align: middle;\n",
              "    }\n",
              "\n",
              "    .dataframe tbody tr th {\n",
              "        vertical-align: top;\n",
              "    }\n",
              "\n",
              "    .dataframe thead th {\n",
              "        text-align: right;\n",
              "    }\n",
              "</style>\n",
              "<table border=\"1\" class=\"dataframe\">\n",
              "  <thead>\n",
              "    <tr style=\"text-align: right;\">\n",
              "      <th></th>\n",
              "      <th>MSSubClass</th>\n",
              "      <th>MSZoning</th>\n",
              "      <th>LotFrontage</th>\n",
              "      <th>LotArea</th>\n",
              "      <th>Street</th>\n",
              "      <th>Alley</th>\n",
              "      <th>LotShape</th>\n",
              "      <th>LandContour</th>\n",
              "      <th>Utilities</th>\n",
              "      <th>LotConfig</th>\n",
              "      <th>...</th>\n",
              "      <th>ScreenPorch</th>\n",
              "      <th>PoolArea</th>\n",
              "      <th>PoolQC</th>\n",
              "      <th>Fence</th>\n",
              "      <th>MiscFeature</th>\n",
              "      <th>MiscVal</th>\n",
              "      <th>MoSold</th>\n",
              "      <th>YrSold</th>\n",
              "      <th>SaleType</th>\n",
              "      <th>SaleCondition</th>\n",
              "    </tr>\n",
              "    <tr>\n",
              "      <th>Id</th>\n",
              "      <th></th>\n",
              "      <th></th>\n",
              "      <th></th>\n",
              "      <th></th>\n",
              "      <th></th>\n",
              "      <th></th>\n",
              "      <th></th>\n",
              "      <th></th>\n",
              "      <th></th>\n",
              "      <th></th>\n",
              "      <th></th>\n",
              "      <th></th>\n",
              "      <th></th>\n",
              "      <th></th>\n",
              "      <th></th>\n",
              "      <th></th>\n",
              "      <th></th>\n",
              "      <th></th>\n",
              "      <th></th>\n",
              "      <th></th>\n",
              "      <th></th>\n",
              "    </tr>\n",
              "  </thead>\n",
              "  <tbody>\n",
              "    <tr>\n",
              "      <th>1461</th>\n",
              "      <td>20</td>\n",
              "      <td>RH</td>\n",
              "      <td>80.0</td>\n",
              "      <td>11622</td>\n",
              "      <td>Pave</td>\n",
              "      <td>NaN</td>\n",
              "      <td>Reg</td>\n",
              "      <td>Lvl</td>\n",
              "      <td>AllPub</td>\n",
              "      <td>Inside</td>\n",
              "      <td>...</td>\n",
              "      <td>120</td>\n",
              "      <td>0</td>\n",
              "      <td>NaN</td>\n",
              "      <td>MnPrv</td>\n",
              "      <td>NaN</td>\n",
              "      <td>0</td>\n",
              "      <td>6</td>\n",
              "      <td>2010</td>\n",
              "      <td>WD</td>\n",
              "      <td>Normal</td>\n",
              "    </tr>\n",
              "    <tr>\n",
              "      <th>1462</th>\n",
              "      <td>20</td>\n",
              "      <td>RL</td>\n",
              "      <td>81.0</td>\n",
              "      <td>14267</td>\n",
              "      <td>Pave</td>\n",
              "      <td>NaN</td>\n",
              "      <td>IR1</td>\n",
              "      <td>Lvl</td>\n",
              "      <td>AllPub</td>\n",
              "      <td>Corner</td>\n",
              "      <td>...</td>\n",
              "      <td>0</td>\n",
              "      <td>0</td>\n",
              "      <td>NaN</td>\n",
              "      <td>NaN</td>\n",
              "      <td>Gar2</td>\n",
              "      <td>12500</td>\n",
              "      <td>6</td>\n",
              "      <td>2010</td>\n",
              "      <td>WD</td>\n",
              "      <td>Normal</td>\n",
              "    </tr>\n",
              "    <tr>\n",
              "      <th>1463</th>\n",
              "      <td>60</td>\n",
              "      <td>RL</td>\n",
              "      <td>74.0</td>\n",
              "      <td>13830</td>\n",
              "      <td>Pave</td>\n",
              "      <td>NaN</td>\n",
              "      <td>IR1</td>\n",
              "      <td>Lvl</td>\n",
              "      <td>AllPub</td>\n",
              "      <td>Inside</td>\n",
              "      <td>...</td>\n",
              "      <td>0</td>\n",
              "      <td>0</td>\n",
              "      <td>NaN</td>\n",
              "      <td>MnPrv</td>\n",
              "      <td>NaN</td>\n",
              "      <td>0</td>\n",
              "      <td>3</td>\n",
              "      <td>2010</td>\n",
              "      <td>WD</td>\n",
              "      <td>Normal</td>\n",
              "    </tr>\n",
              "    <tr>\n",
              "      <th>1464</th>\n",
              "      <td>60</td>\n",
              "      <td>RL</td>\n",
              "      <td>78.0</td>\n",
              "      <td>9978</td>\n",
              "      <td>Pave</td>\n",
              "      <td>NaN</td>\n",
              "      <td>IR1</td>\n",
              "      <td>Lvl</td>\n",
              "      <td>AllPub</td>\n",
              "      <td>Inside</td>\n",
              "      <td>...</td>\n",
              "      <td>0</td>\n",
              "      <td>0</td>\n",
              "      <td>NaN</td>\n",
              "      <td>NaN</td>\n",
              "      <td>NaN</td>\n",
              "      <td>0</td>\n",
              "      <td>6</td>\n",
              "      <td>2010</td>\n",
              "      <td>WD</td>\n",
              "      <td>Normal</td>\n",
              "    </tr>\n",
              "    <tr>\n",
              "      <th>1465</th>\n",
              "      <td>120</td>\n",
              "      <td>RL</td>\n",
              "      <td>43.0</td>\n",
              "      <td>5005</td>\n",
              "      <td>Pave</td>\n",
              "      <td>NaN</td>\n",
              "      <td>IR1</td>\n",
              "      <td>HLS</td>\n",
              "      <td>AllPub</td>\n",
              "      <td>Inside</td>\n",
              "      <td>...</td>\n",
              "      <td>144</td>\n",
              "      <td>0</td>\n",
              "      <td>NaN</td>\n",
              "      <td>NaN</td>\n",
              "      <td>NaN</td>\n",
              "      <td>0</td>\n",
              "      <td>1</td>\n",
              "      <td>2010</td>\n",
              "      <td>WD</td>\n",
              "      <td>Normal</td>\n",
              "    </tr>\n",
              "  </tbody>\n",
              "</table>\n",
              "<p>5 rows × 79 columns</p>\n",
              "</div>\n",
              "      <button class=\"colab-df-convert\" onclick=\"convertToInteractive('df-1356e0ec-6278-49b0-a2c7-29cebafe28f6')\"\n",
              "              title=\"Convert this dataframe to an interactive table.\"\n",
              "              style=\"display:none;\">\n",
              "        \n",
              "  <svg xmlns=\"http://www.w3.org/2000/svg\" height=\"24px\"viewBox=\"0 0 24 24\"\n",
              "       width=\"24px\">\n",
              "    <path d=\"M0 0h24v24H0V0z\" fill=\"none\"/>\n",
              "    <path d=\"M18.56 5.44l.94 2.06.94-2.06 2.06-.94-2.06-.94-.94-2.06-.94 2.06-2.06.94zm-11 1L8.5 8.5l.94-2.06 2.06-.94-2.06-.94L8.5 2.5l-.94 2.06-2.06.94zm10 10l.94 2.06.94-2.06 2.06-.94-2.06-.94-.94-2.06-.94 2.06-2.06.94z\"/><path d=\"M17.41 7.96l-1.37-1.37c-.4-.4-.92-.59-1.43-.59-.52 0-1.04.2-1.43.59L10.3 9.45l-7.72 7.72c-.78.78-.78 2.05 0 2.83L4 21.41c.39.39.9.59 1.41.59.51 0 1.02-.2 1.41-.59l7.78-7.78 2.81-2.81c.8-.78.8-2.07 0-2.86zM5.41 20L4 18.59l7.72-7.72 1.47 1.35L5.41 20z\"/>\n",
              "  </svg>\n",
              "      </button>\n",
              "      \n",
              "  <style>\n",
              "    .colab-df-container {\n",
              "      display:flex;\n",
              "      flex-wrap:wrap;\n",
              "      gap: 12px;\n",
              "    }\n",
              "\n",
              "    .colab-df-convert {\n",
              "      background-color: #E8F0FE;\n",
              "      border: none;\n",
              "      border-radius: 50%;\n",
              "      cursor: pointer;\n",
              "      display: none;\n",
              "      fill: #1967D2;\n",
              "      height: 32px;\n",
              "      padding: 0 0 0 0;\n",
              "      width: 32px;\n",
              "    }\n",
              "\n",
              "    .colab-df-convert:hover {\n",
              "      background-color: #E2EBFA;\n",
              "      box-shadow: 0px 1px 2px rgba(60, 64, 67, 0.3), 0px 1px 3px 1px rgba(60, 64, 67, 0.15);\n",
              "      fill: #174EA6;\n",
              "    }\n",
              "\n",
              "    [theme=dark] .colab-df-convert {\n",
              "      background-color: #3B4455;\n",
              "      fill: #D2E3FC;\n",
              "    }\n",
              "\n",
              "    [theme=dark] .colab-df-convert:hover {\n",
              "      background-color: #434B5C;\n",
              "      box-shadow: 0px 1px 3px 1px rgba(0, 0, 0, 0.15);\n",
              "      filter: drop-shadow(0px 1px 2px rgba(0, 0, 0, 0.3));\n",
              "      fill: #FFFFFF;\n",
              "    }\n",
              "  </style>\n",
              "\n",
              "      <script>\n",
              "        const buttonEl =\n",
              "          document.querySelector('#df-1356e0ec-6278-49b0-a2c7-29cebafe28f6 button.colab-df-convert');\n",
              "        buttonEl.style.display =\n",
              "          google.colab.kernel.accessAllowed ? 'block' : 'none';\n",
              "\n",
              "        async function convertToInteractive(key) {\n",
              "          const element = document.querySelector('#df-1356e0ec-6278-49b0-a2c7-29cebafe28f6');\n",
              "          const dataTable =\n",
              "            await google.colab.kernel.invokeFunction('convertToInteractive',\n",
              "                                                     [key], {});\n",
              "          if (!dataTable) return;\n",
              "\n",
              "          const docLinkHtml = 'Like what you see? Visit the ' +\n",
              "            '<a target=\"_blank\" href=https://colab.research.google.com/notebooks/data_table.ipynb>data table notebook</a>'\n",
              "            + ' to learn more about interactive tables.';\n",
              "          element.innerHTML = '';\n",
              "          dataTable['output_type'] = 'display_data';\n",
              "          await google.colab.output.renderOutput(dataTable, element);\n",
              "          const docLink = document.createElement('div');\n",
              "          docLink.innerHTML = docLinkHtml;\n",
              "          element.appendChild(docLink);\n",
              "        }\n",
              "      </script>\n",
              "    </div>\n",
              "  </div>\n",
              "  "
            ]
          },
          "metadata": {},
          "execution_count": 84
        }
      ]
    },
    {
      "cell_type": "code",
      "source": [
        "# Process the pred_df for use with the model\n",
        "X_pred_df_proc = col_transformer.transform(pred_df)"
      ],
      "metadata": {
        "id": "NWraArhjaKVe"
      },
      "execution_count": 85,
      "outputs": []
    },
    {
      "cell_type": "code",
      "source": [
        "# Construct the csv for the Kaggle submission\n",
        "y_df = pd.DataFrame(final_model.predict(X_pred_df_proc), \n",
        "                    index = pred_df.index,\n",
        "                    columns = ['SalePrice'])\n",
        "#y_df['SalePrice'] = list(final_model.predict(X_pred_df_proc))\n",
        "y_df"
      ],
      "metadata": {
        "colab": {
          "base_uri": "https://localhost:8080/",
          "height": 455
        },
        "id": "W4a-hZc2bGXE",
        "outputId": "8b9079d6-4064-44db-bfe7-d8da162b8143"
      },
      "execution_count": 86,
      "outputs": [
        {
          "output_type": "execute_result",
          "data": {
            "text/plain": [
              "          SalePrice\n",
              "Id                 \n",
              "1461  118961.828125\n",
              "1462  159613.343750\n",
              "1463  179313.546875\n",
              "1464  201466.265625\n",
              "1465  215474.265625\n",
              "...             ...\n",
              "2915   70836.132812\n",
              "2916   69784.562500\n",
              "2917  180833.000000\n",
              "2918  106940.289062\n",
              "2919  248855.625000\n",
              "\n",
              "[1459 rows x 1 columns]"
            ],
            "text/html": [
              "\n",
              "  <div id=\"df-2f277794-4584-4cc4-9cd7-7d2e41b76b55\">\n",
              "    <div class=\"colab-df-container\">\n",
              "      <div>\n",
              "<style scoped>\n",
              "    .dataframe tbody tr th:only-of-type {\n",
              "        vertical-align: middle;\n",
              "    }\n",
              "\n",
              "    .dataframe tbody tr th {\n",
              "        vertical-align: top;\n",
              "    }\n",
              "\n",
              "    .dataframe thead th {\n",
              "        text-align: right;\n",
              "    }\n",
              "</style>\n",
              "<table border=\"1\" class=\"dataframe\">\n",
              "  <thead>\n",
              "    <tr style=\"text-align: right;\">\n",
              "      <th></th>\n",
              "      <th>SalePrice</th>\n",
              "    </tr>\n",
              "    <tr>\n",
              "      <th>Id</th>\n",
              "      <th></th>\n",
              "    </tr>\n",
              "  </thead>\n",
              "  <tbody>\n",
              "    <tr>\n",
              "      <th>1461</th>\n",
              "      <td>118961.828125</td>\n",
              "    </tr>\n",
              "    <tr>\n",
              "      <th>1462</th>\n",
              "      <td>159613.343750</td>\n",
              "    </tr>\n",
              "    <tr>\n",
              "      <th>1463</th>\n",
              "      <td>179313.546875</td>\n",
              "    </tr>\n",
              "    <tr>\n",
              "      <th>1464</th>\n",
              "      <td>201466.265625</td>\n",
              "    </tr>\n",
              "    <tr>\n",
              "      <th>1465</th>\n",
              "      <td>215474.265625</td>\n",
              "    </tr>\n",
              "    <tr>\n",
              "      <th>...</th>\n",
              "      <td>...</td>\n",
              "    </tr>\n",
              "    <tr>\n",
              "      <th>2915</th>\n",
              "      <td>70836.132812</td>\n",
              "    </tr>\n",
              "    <tr>\n",
              "      <th>2916</th>\n",
              "      <td>69784.562500</td>\n",
              "    </tr>\n",
              "    <tr>\n",
              "      <th>2917</th>\n",
              "      <td>180833.000000</td>\n",
              "    </tr>\n",
              "    <tr>\n",
              "      <th>2918</th>\n",
              "      <td>106940.289062</td>\n",
              "    </tr>\n",
              "    <tr>\n",
              "      <th>2919</th>\n",
              "      <td>248855.625000</td>\n",
              "    </tr>\n",
              "  </tbody>\n",
              "</table>\n",
              "<p>1459 rows × 1 columns</p>\n",
              "</div>\n",
              "      <button class=\"colab-df-convert\" onclick=\"convertToInteractive('df-2f277794-4584-4cc4-9cd7-7d2e41b76b55')\"\n",
              "              title=\"Convert this dataframe to an interactive table.\"\n",
              "              style=\"display:none;\">\n",
              "        \n",
              "  <svg xmlns=\"http://www.w3.org/2000/svg\" height=\"24px\"viewBox=\"0 0 24 24\"\n",
              "       width=\"24px\">\n",
              "    <path d=\"M0 0h24v24H0V0z\" fill=\"none\"/>\n",
              "    <path d=\"M18.56 5.44l.94 2.06.94-2.06 2.06-.94-2.06-.94-.94-2.06-.94 2.06-2.06.94zm-11 1L8.5 8.5l.94-2.06 2.06-.94-2.06-.94L8.5 2.5l-.94 2.06-2.06.94zm10 10l.94 2.06.94-2.06 2.06-.94-2.06-.94-.94-2.06-.94 2.06-2.06.94z\"/><path d=\"M17.41 7.96l-1.37-1.37c-.4-.4-.92-.59-1.43-.59-.52 0-1.04.2-1.43.59L10.3 9.45l-7.72 7.72c-.78.78-.78 2.05 0 2.83L4 21.41c.39.39.9.59 1.41.59.51 0 1.02-.2 1.41-.59l7.78-7.78 2.81-2.81c.8-.78.8-2.07 0-2.86zM5.41 20L4 18.59l7.72-7.72 1.47 1.35L5.41 20z\"/>\n",
              "  </svg>\n",
              "      </button>\n",
              "      \n",
              "  <style>\n",
              "    .colab-df-container {\n",
              "      display:flex;\n",
              "      flex-wrap:wrap;\n",
              "      gap: 12px;\n",
              "    }\n",
              "\n",
              "    .colab-df-convert {\n",
              "      background-color: #E8F0FE;\n",
              "      border: none;\n",
              "      border-radius: 50%;\n",
              "      cursor: pointer;\n",
              "      display: none;\n",
              "      fill: #1967D2;\n",
              "      height: 32px;\n",
              "      padding: 0 0 0 0;\n",
              "      width: 32px;\n",
              "    }\n",
              "\n",
              "    .colab-df-convert:hover {\n",
              "      background-color: #E2EBFA;\n",
              "      box-shadow: 0px 1px 2px rgba(60, 64, 67, 0.3), 0px 1px 3px 1px rgba(60, 64, 67, 0.15);\n",
              "      fill: #174EA6;\n",
              "    }\n",
              "\n",
              "    [theme=dark] .colab-df-convert {\n",
              "      background-color: #3B4455;\n",
              "      fill: #D2E3FC;\n",
              "    }\n",
              "\n",
              "    [theme=dark] .colab-df-convert:hover {\n",
              "      background-color: #434B5C;\n",
              "      box-shadow: 0px 1px 3px 1px rgba(0, 0, 0, 0.15);\n",
              "      filter: drop-shadow(0px 1px 2px rgba(0, 0, 0, 0.3));\n",
              "      fill: #FFFFFF;\n",
              "    }\n",
              "  </style>\n",
              "\n",
              "      <script>\n",
              "        const buttonEl =\n",
              "          document.querySelector('#df-2f277794-4584-4cc4-9cd7-7d2e41b76b55 button.colab-df-convert');\n",
              "        buttonEl.style.display =\n",
              "          google.colab.kernel.accessAllowed ? 'block' : 'none';\n",
              "\n",
              "        async function convertToInteractive(key) {\n",
              "          const element = document.querySelector('#df-2f277794-4584-4cc4-9cd7-7d2e41b76b55');\n",
              "          const dataTable =\n",
              "            await google.colab.kernel.invokeFunction('convertToInteractive',\n",
              "                                                     [key], {});\n",
              "          if (!dataTable) return;\n",
              "\n",
              "          const docLinkHtml = 'Like what you see? Visit the ' +\n",
              "            '<a target=\"_blank\" href=https://colab.research.google.com/notebooks/data_table.ipynb>data table notebook</a>'\n",
              "            + ' to learn more about interactive tables.';\n",
              "          element.innerHTML = '';\n",
              "          dataTable['output_type'] = 'display_data';\n",
              "          await google.colab.output.renderOutput(dataTable, element);\n",
              "          const docLink = document.createElement('div');\n",
              "          docLink.innerHTML = docLinkHtml;\n",
              "          element.appendChild(docLink);\n",
              "        }\n",
              "      </script>\n",
              "    </div>\n",
              "  </div>\n",
              "  "
            ]
          },
          "metadata": {},
          "execution_count": 86
        }
      ]
    },
    {
      "cell_type": "code",
      "source": [
        "# Make the csv file\n",
        "y_df.to_csv('submission.csv')"
      ],
      "metadata": {
        "id": "3uTk6Vfqbc-4"
      },
      "execution_count": 87,
      "outputs": []
    },
    {
      "cell_type": "markdown",
      "source": [
        "> Screenshot of Kaggle Submission\n",
        "![Screenshot of Kaggle Submission](data:image/png;base64,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)"
      ],
      "metadata": {
        "id": "sHLr3BPXhLz3"
      }
    },
    {
      "cell_type": "markdown",
      "source": [
        "![](https://github.com/mvince33/Coding-Dojo/blob/main/week11/path?raw=1)"
      ],
      "metadata": {
        "id": "FKrRsvyBhIex"
      }
    }
  ]
}
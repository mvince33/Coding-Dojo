{
  "nbformat": 4,
  "nbformat_minor": 0,
  "metadata": {
    "colab": {
      "name": "analysis_of_kmeans.ipynb",
      "provenance": [],
      "authorship_tag": "ABX9TyPYfhyrvi+7rYh3ELl6LSB5",
      "include_colab_link": true
    },
    "kernelspec": {
      "name": "python3",
      "display_name": "Python 3"
    },
    "language_info": {
      "name": "python"
    }
  },
  "cells": [
    {
      "cell_type": "markdown",
      "metadata": {
        "id": "view-in-github",
        "colab_type": "text"
      },
      "source": [
        "<a href=\"https://colab.research.google.com/github/mvince33/Coding-Dojo/blob/main/week09/analysis_of_kmeans.ipynb\" target=\"_parent\"><img src=\"https://colab.research.google.com/assets/colab-badge.svg\" alt=\"Open In Colab\"/></a>"
      ]
    },
    {
      "cell_type": "markdown",
      "source": [
        "Analysis of KMeans\n",
        "- Michael Vincent\n",
        "- 8/15\n",
        "\n",
        "Note: We were not able to find a data dictionary, so we made the assumption that income, card debt, and other debt were all in units of thousands of US dollars."
      ],
      "metadata": {
        "id": "gOn_tmLTRQsJ"
      }
    },
    {
      "cell_type": "markdown",
      "source": [
        "## Code From Previous Exercise\n"
      ],
      "metadata": {
        "id": "Dx4m_vs15uVw"
      }
    },
    {
      "cell_type": "markdown",
      "source": [
        "### Imports"
      ],
      "metadata": {
        "id": "_MLJ9GbmRgxu"
      }
    },
    {
      "cell_type": "code",
      "execution_count": 47,
      "metadata": {
        "id": "h3CeWhOmRPyw"
      },
      "outputs": [],
      "source": [
        "# Imports\n",
        "import numpy as np\n",
        "import pandas as pd\n",
        "import matplotlib.pyplot as plt\n",
        "from sklearn.preprocessing import StandardScaler\n",
        "from sklearn.cluster import KMeans\n",
        "from sklearn.metrics import silhouette_score"
      ]
    },
    {
      "cell_type": "markdown",
      "source": [
        "### Load the data"
      ],
      "metadata": {
        "id": "qzWjEXmVSCG2"
      }
    },
    {
      "cell_type": "code",
      "source": [
        "# Load the data\n",
        "url = 'https://docs.google.com/spreadsheets/d/e/2PACX-1vQAN-9j-p2mev8feKxRp9l8cfRjisQwl39X31e7iRtYLy0ICRk0harNzLHreWiDJMHqucLfGCYSZlR6/pub?output=csv'\n",
        "df = pd.read_csv(url)\n",
        "df.head()"
      ],
      "metadata": {
        "colab": {
          "base_uri": "https://localhost:8080/",
          "height": 206
        },
        "id": "rPqhRtamSDwj",
        "outputId": "4861db3f-c804-46c0-95dc-3a36cef9be7a"
      },
      "execution_count": 48,
      "outputs": [
        {
          "output_type": "execute_result",
          "data": {
            "text/plain": [
              "   Unnamed: 0  Customer Id  Age  Edu  Years Employed  Income  Card Debt  \\\n",
              "0           0            1   41    2               6      19      0.124   \n",
              "1           1            2   47    1              26     100      4.582   \n",
              "2           2            3   33    2              10      57      6.111   \n",
              "3           3            4   29    2               4      19      0.681   \n",
              "4           4            5   47    1              31     253      9.308   \n",
              "\n",
              "   Other Debt  Defaulted  DebtIncomeRatio  \n",
              "0       1.073        0.0              6.3  \n",
              "1       8.218        0.0             12.8  \n",
              "2       5.802        1.0             20.9  \n",
              "3       0.516        0.0              6.3  \n",
              "4       8.908        0.0              7.2  "
            ],
            "text/html": [
              "\n",
              "  <div id=\"df-c5f55fbd-cd54-4679-81d2-b7389d8451c0\">\n",
              "    <div class=\"colab-df-container\">\n",
              "      <div>\n",
              "<style scoped>\n",
              "    .dataframe tbody tr th:only-of-type {\n",
              "        vertical-align: middle;\n",
              "    }\n",
              "\n",
              "    .dataframe tbody tr th {\n",
              "        vertical-align: top;\n",
              "    }\n",
              "\n",
              "    .dataframe thead th {\n",
              "        text-align: right;\n",
              "    }\n",
              "</style>\n",
              "<table border=\"1\" class=\"dataframe\">\n",
              "  <thead>\n",
              "    <tr style=\"text-align: right;\">\n",
              "      <th></th>\n",
              "      <th>Unnamed: 0</th>\n",
              "      <th>Customer Id</th>\n",
              "      <th>Age</th>\n",
              "      <th>Edu</th>\n",
              "      <th>Years Employed</th>\n",
              "      <th>Income</th>\n",
              "      <th>Card Debt</th>\n",
              "      <th>Other Debt</th>\n",
              "      <th>Defaulted</th>\n",
              "      <th>DebtIncomeRatio</th>\n",
              "    </tr>\n",
              "  </thead>\n",
              "  <tbody>\n",
              "    <tr>\n",
              "      <th>0</th>\n",
              "      <td>0</td>\n",
              "      <td>1</td>\n",
              "      <td>41</td>\n",
              "      <td>2</td>\n",
              "      <td>6</td>\n",
              "      <td>19</td>\n",
              "      <td>0.124</td>\n",
              "      <td>1.073</td>\n",
              "      <td>0.0</td>\n",
              "      <td>6.3</td>\n",
              "    </tr>\n",
              "    <tr>\n",
              "      <th>1</th>\n",
              "      <td>1</td>\n",
              "      <td>2</td>\n",
              "      <td>47</td>\n",
              "      <td>1</td>\n",
              "      <td>26</td>\n",
              "      <td>100</td>\n",
              "      <td>4.582</td>\n",
              "      <td>8.218</td>\n",
              "      <td>0.0</td>\n",
              "      <td>12.8</td>\n",
              "    </tr>\n",
              "    <tr>\n",
              "      <th>2</th>\n",
              "      <td>2</td>\n",
              "      <td>3</td>\n",
              "      <td>33</td>\n",
              "      <td>2</td>\n",
              "      <td>10</td>\n",
              "      <td>57</td>\n",
              "      <td>6.111</td>\n",
              "      <td>5.802</td>\n",
              "      <td>1.0</td>\n",
              "      <td>20.9</td>\n",
              "    </tr>\n",
              "    <tr>\n",
              "      <th>3</th>\n",
              "      <td>3</td>\n",
              "      <td>4</td>\n",
              "      <td>29</td>\n",
              "      <td>2</td>\n",
              "      <td>4</td>\n",
              "      <td>19</td>\n",
              "      <td>0.681</td>\n",
              "      <td>0.516</td>\n",
              "      <td>0.0</td>\n",
              "      <td>6.3</td>\n",
              "    </tr>\n",
              "    <tr>\n",
              "      <th>4</th>\n",
              "      <td>4</td>\n",
              "      <td>5</td>\n",
              "      <td>47</td>\n",
              "      <td>1</td>\n",
              "      <td>31</td>\n",
              "      <td>253</td>\n",
              "      <td>9.308</td>\n",
              "      <td>8.908</td>\n",
              "      <td>0.0</td>\n",
              "      <td>7.2</td>\n",
              "    </tr>\n",
              "  </tbody>\n",
              "</table>\n",
              "</div>\n",
              "      <button class=\"colab-df-convert\" onclick=\"convertToInteractive('df-c5f55fbd-cd54-4679-81d2-b7389d8451c0')\"\n",
              "              title=\"Convert this dataframe to an interactive table.\"\n",
              "              style=\"display:none;\">\n",
              "        \n",
              "  <svg xmlns=\"http://www.w3.org/2000/svg\" height=\"24px\"viewBox=\"0 0 24 24\"\n",
              "       width=\"24px\">\n",
              "    <path d=\"M0 0h24v24H0V0z\" fill=\"none\"/>\n",
              "    <path d=\"M18.56 5.44l.94 2.06.94-2.06 2.06-.94-2.06-.94-.94-2.06-.94 2.06-2.06.94zm-11 1L8.5 8.5l.94-2.06 2.06-.94-2.06-.94L8.5 2.5l-.94 2.06-2.06.94zm10 10l.94 2.06.94-2.06 2.06-.94-2.06-.94-.94-2.06-.94 2.06-2.06.94z\"/><path d=\"M17.41 7.96l-1.37-1.37c-.4-.4-.92-.59-1.43-.59-.52 0-1.04.2-1.43.59L10.3 9.45l-7.72 7.72c-.78.78-.78 2.05 0 2.83L4 21.41c.39.39.9.59 1.41.59.51 0 1.02-.2 1.41-.59l7.78-7.78 2.81-2.81c.8-.78.8-2.07 0-2.86zM5.41 20L4 18.59l7.72-7.72 1.47 1.35L5.41 20z\"/>\n",
              "  </svg>\n",
              "      </button>\n",
              "      \n",
              "  <style>\n",
              "    .colab-df-container {\n",
              "      display:flex;\n",
              "      flex-wrap:wrap;\n",
              "      gap: 12px;\n",
              "    }\n",
              "\n",
              "    .colab-df-convert {\n",
              "      background-color: #E8F0FE;\n",
              "      border: none;\n",
              "      border-radius: 50%;\n",
              "      cursor: pointer;\n",
              "      display: none;\n",
              "      fill: #1967D2;\n",
              "      height: 32px;\n",
              "      padding: 0 0 0 0;\n",
              "      width: 32px;\n",
              "    }\n",
              "\n",
              "    .colab-df-convert:hover {\n",
              "      background-color: #E2EBFA;\n",
              "      box-shadow: 0px 1px 2px rgba(60, 64, 67, 0.3), 0px 1px 3px 1px rgba(60, 64, 67, 0.15);\n",
              "      fill: #174EA6;\n",
              "    }\n",
              "\n",
              "    [theme=dark] .colab-df-convert {\n",
              "      background-color: #3B4455;\n",
              "      fill: #D2E3FC;\n",
              "    }\n",
              "\n",
              "    [theme=dark] .colab-df-convert:hover {\n",
              "      background-color: #434B5C;\n",
              "      box-shadow: 0px 1px 3px 1px rgba(0, 0, 0, 0.15);\n",
              "      filter: drop-shadow(0px 1px 2px rgba(0, 0, 0, 0.3));\n",
              "      fill: #FFFFFF;\n",
              "    }\n",
              "  </style>\n",
              "\n",
              "      <script>\n",
              "        const buttonEl =\n",
              "          document.querySelector('#df-c5f55fbd-cd54-4679-81d2-b7389d8451c0 button.colab-df-convert');\n",
              "        buttonEl.style.display =\n",
              "          google.colab.kernel.accessAllowed ? 'block' : 'none';\n",
              "\n",
              "        async function convertToInteractive(key) {\n",
              "          const element = document.querySelector('#df-c5f55fbd-cd54-4679-81d2-b7389d8451c0');\n",
              "          const dataTable =\n",
              "            await google.colab.kernel.invokeFunction('convertToInteractive',\n",
              "                                                     [key], {});\n",
              "          if (!dataTable) return;\n",
              "\n",
              "          const docLinkHtml = 'Like what you see? Visit the ' +\n",
              "            '<a target=\"_blank\" href=https://colab.research.google.com/notebooks/data_table.ipynb>data table notebook</a>'\n",
              "            + ' to learn more about interactive tables.';\n",
              "          element.innerHTML = '';\n",
              "          dataTable['output_type'] = 'display_data';\n",
              "          await google.colab.output.renderOutput(dataTable, element);\n",
              "          const docLink = document.createElement('div');\n",
              "          docLink.innerHTML = docLinkHtml;\n",
              "          element.appendChild(docLink);\n",
              "        }\n",
              "      </script>\n",
              "    </div>\n",
              "  </div>\n",
              "  "
            ]
          },
          "metadata": {},
          "execution_count": 48
        }
      ]
    },
    {
      "cell_type": "markdown",
      "source": [
        "### Clean and process the data"
      ],
      "metadata": {
        "id": "ZQlav3qCSK7R"
      }
    },
    {
      "cell_type": "code",
      "source": [
        "# Check for duplicates and missing values.\n",
        "print('Duplicates:', df.duplicated().sum())\n",
        "print('Missing Values:', df.isna().sum().sum())"
      ],
      "metadata": {
        "colab": {
          "base_uri": "https://localhost:8080/"
        },
        "id": "pl7qixYoSKGc",
        "outputId": "50c7e26b-3b43-4c2f-8027-c0f22b661472"
      },
      "execution_count": 49,
      "outputs": [
        {
          "output_type": "stream",
          "name": "stdout",
          "text": [
            "Duplicates: 0\n",
            "Missing Values: 150\n"
          ]
        }
      ]
    },
    {
      "cell_type": "code",
      "source": [
        "# Drop the Unnamed: 0 column and the customer id column.\n",
        "df.drop(columns = ['Unnamed: 0', 'Customer Id'], inplace = True)\n",
        "\n",
        "# Make sure the column was dropped.\n",
        "df.head()"
      ],
      "metadata": {
        "colab": {
          "base_uri": "https://localhost:8080/",
          "height": 206
        },
        "id": "H12rXLPUaew_",
        "outputId": "39e577ef-1ae8-4432-8c92-d41113cfe049"
      },
      "execution_count": 50,
      "outputs": [
        {
          "output_type": "execute_result",
          "data": {
            "text/plain": [
              "   Age  Edu  Years Employed  Income  Card Debt  Other Debt  Defaulted  \\\n",
              "0   41    2               6      19      0.124       1.073        0.0   \n",
              "1   47    1              26     100      4.582       8.218        0.0   \n",
              "2   33    2              10      57      6.111       5.802        1.0   \n",
              "3   29    2               4      19      0.681       0.516        0.0   \n",
              "4   47    1              31     253      9.308       8.908        0.0   \n",
              "\n",
              "   DebtIncomeRatio  \n",
              "0              6.3  \n",
              "1             12.8  \n",
              "2             20.9  \n",
              "3              6.3  \n",
              "4              7.2  "
            ],
            "text/html": [
              "\n",
              "  <div id=\"df-c54f3572-73be-45ad-ba00-8437904f67d0\">\n",
              "    <div class=\"colab-df-container\">\n",
              "      <div>\n",
              "<style scoped>\n",
              "    .dataframe tbody tr th:only-of-type {\n",
              "        vertical-align: middle;\n",
              "    }\n",
              "\n",
              "    .dataframe tbody tr th {\n",
              "        vertical-align: top;\n",
              "    }\n",
              "\n",
              "    .dataframe thead th {\n",
              "        text-align: right;\n",
              "    }\n",
              "</style>\n",
              "<table border=\"1\" class=\"dataframe\">\n",
              "  <thead>\n",
              "    <tr style=\"text-align: right;\">\n",
              "      <th></th>\n",
              "      <th>Age</th>\n",
              "      <th>Edu</th>\n",
              "      <th>Years Employed</th>\n",
              "      <th>Income</th>\n",
              "      <th>Card Debt</th>\n",
              "      <th>Other Debt</th>\n",
              "      <th>Defaulted</th>\n",
              "      <th>DebtIncomeRatio</th>\n",
              "    </tr>\n",
              "  </thead>\n",
              "  <tbody>\n",
              "    <tr>\n",
              "      <th>0</th>\n",
              "      <td>41</td>\n",
              "      <td>2</td>\n",
              "      <td>6</td>\n",
              "      <td>19</td>\n",
              "      <td>0.124</td>\n",
              "      <td>1.073</td>\n",
              "      <td>0.0</td>\n",
              "      <td>6.3</td>\n",
              "    </tr>\n",
              "    <tr>\n",
              "      <th>1</th>\n",
              "      <td>47</td>\n",
              "      <td>1</td>\n",
              "      <td>26</td>\n",
              "      <td>100</td>\n",
              "      <td>4.582</td>\n",
              "      <td>8.218</td>\n",
              "      <td>0.0</td>\n",
              "      <td>12.8</td>\n",
              "    </tr>\n",
              "    <tr>\n",
              "      <th>2</th>\n",
              "      <td>33</td>\n",
              "      <td>2</td>\n",
              "      <td>10</td>\n",
              "      <td>57</td>\n",
              "      <td>6.111</td>\n",
              "      <td>5.802</td>\n",
              "      <td>1.0</td>\n",
              "      <td>20.9</td>\n",
              "    </tr>\n",
              "    <tr>\n",
              "      <th>3</th>\n",
              "      <td>29</td>\n",
              "      <td>2</td>\n",
              "      <td>4</td>\n",
              "      <td>19</td>\n",
              "      <td>0.681</td>\n",
              "      <td>0.516</td>\n",
              "      <td>0.0</td>\n",
              "      <td>6.3</td>\n",
              "    </tr>\n",
              "    <tr>\n",
              "      <th>4</th>\n",
              "      <td>47</td>\n",
              "      <td>1</td>\n",
              "      <td>31</td>\n",
              "      <td>253</td>\n",
              "      <td>9.308</td>\n",
              "      <td>8.908</td>\n",
              "      <td>0.0</td>\n",
              "      <td>7.2</td>\n",
              "    </tr>\n",
              "  </tbody>\n",
              "</table>\n",
              "</div>\n",
              "      <button class=\"colab-df-convert\" onclick=\"convertToInteractive('df-c54f3572-73be-45ad-ba00-8437904f67d0')\"\n",
              "              title=\"Convert this dataframe to an interactive table.\"\n",
              "              style=\"display:none;\">\n",
              "        \n",
              "  <svg xmlns=\"http://www.w3.org/2000/svg\" height=\"24px\"viewBox=\"0 0 24 24\"\n",
              "       width=\"24px\">\n",
              "    <path d=\"M0 0h24v24H0V0z\" fill=\"none\"/>\n",
              "    <path d=\"M18.56 5.44l.94 2.06.94-2.06 2.06-.94-2.06-.94-.94-2.06-.94 2.06-2.06.94zm-11 1L8.5 8.5l.94-2.06 2.06-.94-2.06-.94L8.5 2.5l-.94 2.06-2.06.94zm10 10l.94 2.06.94-2.06 2.06-.94-2.06-.94-.94-2.06-.94 2.06-2.06.94z\"/><path d=\"M17.41 7.96l-1.37-1.37c-.4-.4-.92-.59-1.43-.59-.52 0-1.04.2-1.43.59L10.3 9.45l-7.72 7.72c-.78.78-.78 2.05 0 2.83L4 21.41c.39.39.9.59 1.41.59.51 0 1.02-.2 1.41-.59l7.78-7.78 2.81-2.81c.8-.78.8-2.07 0-2.86zM5.41 20L4 18.59l7.72-7.72 1.47 1.35L5.41 20z\"/>\n",
              "  </svg>\n",
              "      </button>\n",
              "      \n",
              "  <style>\n",
              "    .colab-df-container {\n",
              "      display:flex;\n",
              "      flex-wrap:wrap;\n",
              "      gap: 12px;\n",
              "    }\n",
              "\n",
              "    .colab-df-convert {\n",
              "      background-color: #E8F0FE;\n",
              "      border: none;\n",
              "      border-radius: 50%;\n",
              "      cursor: pointer;\n",
              "      display: none;\n",
              "      fill: #1967D2;\n",
              "      height: 32px;\n",
              "      padding: 0 0 0 0;\n",
              "      width: 32px;\n",
              "    }\n",
              "\n",
              "    .colab-df-convert:hover {\n",
              "      background-color: #E2EBFA;\n",
              "      box-shadow: 0px 1px 2px rgba(60, 64, 67, 0.3), 0px 1px 3px 1px rgba(60, 64, 67, 0.15);\n",
              "      fill: #174EA6;\n",
              "    }\n",
              "\n",
              "    [theme=dark] .colab-df-convert {\n",
              "      background-color: #3B4455;\n",
              "      fill: #D2E3FC;\n",
              "    }\n",
              "\n",
              "    [theme=dark] .colab-df-convert:hover {\n",
              "      background-color: #434B5C;\n",
              "      box-shadow: 0px 1px 3px 1px rgba(0, 0, 0, 0.15);\n",
              "      filter: drop-shadow(0px 1px 2px rgba(0, 0, 0, 0.3));\n",
              "      fill: #FFFFFF;\n",
              "    }\n",
              "  </style>\n",
              "\n",
              "      <script>\n",
              "        const buttonEl =\n",
              "          document.querySelector('#df-c54f3572-73be-45ad-ba00-8437904f67d0 button.colab-df-convert');\n",
              "        buttonEl.style.display =\n",
              "          google.colab.kernel.accessAllowed ? 'block' : 'none';\n",
              "\n",
              "        async function convertToInteractive(key) {\n",
              "          const element = document.querySelector('#df-c54f3572-73be-45ad-ba00-8437904f67d0');\n",
              "          const dataTable =\n",
              "            await google.colab.kernel.invokeFunction('convertToInteractive',\n",
              "                                                     [key], {});\n",
              "          if (!dataTable) return;\n",
              "\n",
              "          const docLinkHtml = 'Like what you see? Visit the ' +\n",
              "            '<a target=\"_blank\" href=https://colab.research.google.com/notebooks/data_table.ipynb>data table notebook</a>'\n",
              "            + ' to learn more about interactive tables.';\n",
              "          element.innerHTML = '';\n",
              "          dataTable['output_type'] = 'display_data';\n",
              "          await google.colab.output.renderOutput(dataTable, element);\n",
              "          const docLink = document.createElement('div');\n",
              "          docLink.innerHTML = docLinkHtml;\n",
              "          element.appendChild(docLink);\n",
              "        }\n",
              "      </script>\n",
              "    </div>\n",
              "  </div>\n",
              "  "
            ]
          },
          "metadata": {},
          "execution_count": 50
        }
      ]
    },
    {
      "cell_type": "code",
      "source": [
        "# Check the missing values more carefully\n",
        "print(df.isna().sum())\n",
        "print()\n",
        "df['Defaulted'].value_counts()"
      ],
      "metadata": {
        "colab": {
          "base_uri": "https://localhost:8080/"
        },
        "id": "8v-SWhfUSeVA",
        "outputId": "a58ff43b-983a-47c3-c7e0-6d93fec74105"
      },
      "execution_count": 51,
      "outputs": [
        {
          "output_type": "stream",
          "name": "stdout",
          "text": [
            "Age                  0\n",
            "Edu                  0\n",
            "Years Employed       0\n",
            "Income               0\n",
            "Card Debt            0\n",
            "Other Debt           0\n",
            "Defaulted          150\n",
            "DebtIncomeRatio      0\n",
            "dtype: int64\n",
            "\n"
          ]
        },
        {
          "output_type": "execute_result",
          "data": {
            "text/plain": [
              "0.0    517\n",
              "1.0    183\n",
              "Name: Defaulted, dtype: int64"
            ]
          },
          "metadata": {},
          "execution_count": 51
        }
      ]
    },
    {
      "cell_type": "code",
      "source": [
        "# Impute the missing values in 'Defaulted' with the \n",
        "# most frequent value.\n",
        "df['Defaulted'].fillna(0, inplace = True)\n",
        "\n",
        "# Make sure the values were imputed\n",
        "df.isna().sum()"
      ],
      "metadata": {
        "colab": {
          "base_uri": "https://localhost:8080/"
        },
        "id": "-VTozFlIVys4",
        "outputId": "27e3f8e3-2743-462e-f9e9-a91580714344"
      },
      "execution_count": 52,
      "outputs": [
        {
          "output_type": "execute_result",
          "data": {
            "text/plain": [
              "Age                0\n",
              "Edu                0\n",
              "Years Employed     0\n",
              "Income             0\n",
              "Card Debt          0\n",
              "Other Debt         0\n",
              "Defaulted          0\n",
              "DebtIncomeRatio    0\n",
              "dtype: int64"
            ]
          },
          "metadata": {},
          "execution_count": 52
        }
      ]
    },
    {
      "cell_type": "code",
      "source": [
        "# Create a scaled copy of the data\n",
        "scaler = StandardScaler()\n",
        "scaled_df = scaler.fit_transform(df)"
      ],
      "metadata": {
        "id": "3lX6p2saWase"
      },
      "execution_count": 53,
      "outputs": []
    },
    {
      "cell_type": "markdown",
      "source": [
        "### KMeans"
      ],
      "metadata": {
        "id": "vAzb21fwWREm"
      }
    },
    {
      "cell_type": "code",
      "source": [
        "# Create lists of inertias and silhouette scores\n",
        "inertias = []\n",
        "silhouette_scores = []\n",
        "for k in range(2, 11):\n",
        "  kmeans = KMeans(n_clusters = k, random_state = 42)\n",
        "  kmeans.fit(scaled_df)\n",
        "  inertias.append(kmeans.inertia_)\n",
        "  silhouette_scores.append(silhouette_score(scaled_df, kmeans.labels_))"
      ],
      "metadata": {
        "id": "H_iDTT6oWUdi"
      },
      "execution_count": 54,
      "outputs": []
    },
    {
      "cell_type": "code",
      "source": [
        "# Graph the inertias\n",
        "plt.plot(range(2, 11), inertias, marker = '.');\n",
        "plt.xlabel('Number of Clusters');\n",
        "plt.ylabel('Inertia');"
      ],
      "metadata": {
        "colab": {
          "base_uri": "https://localhost:8080/",
          "height": 279
        },
        "id": "lbz2pT8-XnQG",
        "outputId": "319303f4-dc19-4e3c-f47c-21b2e0d5dfbf"
      },
      "execution_count": 55,
      "outputs": [
        {
          "output_type": "display_data",
          "data": {
            "text/plain": [
              "<Figure size 432x288 with 1 Axes>"
            ],
            "image/png": "[encoded data removed]"
          },
          "metadata": {
            "needs_background": "light"
          }
        }
      ]
    },
    {
      "cell_type": "code",
      "source": [
        "# Graph the silhouette scores\n",
        "plt.plot(range(2, 11), silhouette_scores, marker = '.');\n",
        "plt.xlabel('Number of Clusters');\n",
        "plt.ylabel('Silhouette Scores');"
      ],
      "metadata": {
        "colab": {
          "base_uri": "https://localhost:8080/",
          "height": 279
        },
        "id": "9KX_sPJTYDWd",
        "outputId": "3d077b9d-1417-4cd4-c18e-13bfc62a8fe0"
      },
      "execution_count": 56,
      "outputs": [
        {
          "output_type": "display_data",
          "data": {
            "text/plain": [
              "<Figure size 432x288 with 1 Axes>"
            ],
            "image/png": "[encoded data removed]"
          },
          "metadata": {
            "needs_background": "light"
          }
        }
      ]
    },
    {
      "cell_type": "markdown",
      "source": [
        "### Visualizations"
      ],
      "metadata": {
        "id": "dEDMMpmwdFUc"
      }
    },
    {
      "cell_type": "code",
      "source": [
        "# Create a 3D visulization using 'Age', 'Income', \n",
        "# and 'DebtIncomeRatio' using 2 clusters\n",
        "kmeans = KMeans(n_clusters = 2, random_state = 42)\n",
        "kmeans.fit(scaled_df)\n",
        "df['clusters'] = kmeans.labels_\n",
        "ax = plt.figure().add_subplot(projection = '3d')\n",
        "ax.scatter(df['Age'], df['Income'], df['DebtIncomeRatio'], c = df['clusters'])"
      ],
      "metadata": {
        "colab": {
          "base_uri": "https://localhost:8080/",
          "height": 106
        },
        "id": "s-im6Ua1b691",
        "outputId": "12723a2d-4169-4a38-d142-1e0b4cb980ac"
      },
      "execution_count": 57,
      "outputs": [
        {
          "output_type": "execute_result",
          "data": {
            "text/plain": [
              "<mpl_toolkits.mplot3d.art3d.Path3DCollection at 0x7f5074ee9ed0>"
            ]
          },
          "metadata": {},
          "execution_count": 57
        },
        {
          "output_type": "display_data",
          "data": {
            "text/plain": [
              "<Figure size 432x288 with 1 Axes>"
            ],
            "image/png": "[encoded data removed]"
          },
          "metadata": {
            "needs_background": "light"
          }
        }
      ]
    },
    {
      "cell_type": "code",
      "source": [
        "# Create a 3D visulization using 'Age', 'Income', \n",
        "# and 'DebtIncomeRatio' using 3 clusters\n",
        "kmeans = KMeans(n_clusters = 3, random_state = 42)\n",
        "kmeans.fit(scaled_df)\n",
        "df['clusters'] = kmeans.labels_\n",
        "ax = plt.figure().add_subplot(projection = '3d')\n",
        "ax.scatter(df['Age'], df['Income'], df['DebtIncomeRatio'], c = df['clusters'])"
      ],
      "metadata": {
        "colab": {
          "base_uri": "https://localhost:8080/",
          "height": 106
        },
        "id": "ejmsNh6yeTcR",
        "outputId": "70cecd20-dc54-4953-fd66-a187dd8117e1"
      },
      "execution_count": 58,
      "outputs": [
        {
          "output_type": "execute_result",
          "data": {
            "text/plain": [
              "<mpl_toolkits.mplot3d.art3d.Path3DCollection at 0x7f5074ee1150>"
            ]
          },
          "metadata": {},
          "execution_count": 58
        },
        {
          "output_type": "display_data",
          "data": {
            "text/plain": [
              "<Figure size 432x288 with 1 Axes>"
            ],
            "image/png": "[encoded data removed]"
          },
          "metadata": {
            "needs_background": "light"
          }
        }
      ]
    },
    {
      "cell_type": "code",
      "source": [
        "print(inertias)\n",
        "print(silhouette_scores)"
      ],
      "metadata": {
        "colab": {
          "base_uri": "https://localhost:8080/"
        },
        "id": "MI6aI5Bk66ji",
        "outputId": "8417d8da-ef55-4628-bfc9-abeff8010a1d"
      },
      "execution_count": 59,
      "outputs": [
        {
          "output_type": "stream",
          "name": "stdout",
          "text": [
            "[5194.15394038512, 4339.0172944029855, 3763.026504812752, 3411.07088411223, 3103.9143691629124, 2894.594230034262, 2709.368387077986, 2539.827229596679, 2439.0964883765137]\n",
            "[0.3401172685946081, 0.28738683325129355, 0.2530737177201414, 0.2496481795475487, 0.24311482556962066, 0.2188295528540373, 0.20477301374231435, 0.1998253049929825, 0.2025136554831214]\n"
          ]
        }
      ]
    },
    {
      "cell_type": "markdown",
      "source": [
        "### Final Model\n",
        "\n",
        "While _k_ = 2 gives the best silhouette score, we think _k_ = 3 gives the best compromise between the silhouette score and the inertia. "
      ],
      "metadata": {
        "id": "HIq2CFSW_VJV"
      }
    },
    {
      "cell_type": "code",
      "source": [
        "# Build the final model\n",
        "final_model = KMeans(n_clusters = 3)\n",
        "final_model.fit(scaled_df)\n",
        "print('Intertia:', final_model.inertia_)\n",
        "print('Silhouette Score:', silhouette_score(scaled_df, final_model.labels_))"
      ],
      "metadata": {
        "colab": {
          "base_uri": "https://localhost:8080/"
        },
        "id": "e0WiihdC_fom",
        "outputId": "4fe57e27-59fb-4b56-c528-6855354fcc4a"
      },
      "execution_count": 60,
      "outputs": [
        {
          "output_type": "stream",
          "name": "stdout",
          "text": [
            "Intertia: 4339.0172944029855\n",
            "Silhouette Score: 0.28738683325129355\n"
          ]
        }
      ]
    },
    {
      "cell_type": "markdown",
      "source": [
        "## Bar graphs"
      ],
      "metadata": {
        "id": "6t0dXkl48MqH"
      }
    },
    {
      "cell_type": "code",
      "source": [
        "# Make a DataFrame for the final model.\n",
        "final_df = df.copy()\n",
        "final_df['clusters'] = final_model.labels_\n",
        "\n",
        "# Make a DataFrame grouped by clusters\n",
        "cluster_groups = final_df.groupby('clusters', as_index = False).mean()\n",
        "cluster_groups"
      ],
      "metadata": {
        "colab": {
          "base_uri": "https://localhost:8080/",
          "height": 143
        },
        "id": "XrIev5568Uec",
        "outputId": "5635b5c3-630e-4705-c223-93600e16ac0d"
      },
      "execution_count": 65,
      "outputs": [
        {
          "output_type": "execute_result",
          "data": {
            "text/plain": [
              "   clusters        Age       Edu  Years Employed      Income  Card Debt  \\\n",
              "0         0  43.000000  1.931973       17.197279  101.959184   4.220673   \n",
              "1         1  31.891566  1.861446        3.963855   31.789157   1.576675   \n",
              "2         2  33.817505  1.603352        7.625698   36.143389   0.853128   \n",
              "\n",
              "   Other Debt  Defaulted  DebtIncomeRatio  \n",
              "0    7.954483   0.129252        13.915646  \n",
              "1    2.843355   0.987952        13.994578  \n",
              "2    1.816855   0.000000         7.964991  "
            ],
            "text/html": [
              "\n",
              "  <div id=\"df-fb6688c8-566d-4042-a04e-a32404b2e1b9\">\n",
              "    <div class=\"colab-df-container\">\n",
              "      <div>\n",
              "<style scoped>\n",
              "    .dataframe tbody tr th:only-of-type {\n",
              "        vertical-align: middle;\n",
              "    }\n",
              "\n",
              "    .dataframe tbody tr th {\n",
              "        vertical-align: top;\n",
              "    }\n",
              "\n",
              "    .dataframe thead th {\n",
              "        text-align: right;\n",
              "    }\n",
              "</style>\n",
              "<table border=\"1\" class=\"dataframe\">\n",
              "  <thead>\n",
              "    <tr style=\"text-align: right;\">\n",
              "      <th></th>\n",
              "      <th>clusters</th>\n",
              "      <th>Age</th>\n",
              "      <th>Edu</th>\n",
              "      <th>Years Employed</th>\n",
              "      <th>Income</th>\n",
              "      <th>Card Debt</th>\n",
              "      <th>Other Debt</th>\n",
              "      <th>Defaulted</th>\n",
              "      <th>DebtIncomeRatio</th>\n",
              "    </tr>\n",
              "  </thead>\n",
              "  <tbody>\n",
              "    <tr>\n",
              "      <th>0</th>\n",
              "      <td>0</td>\n",
              "      <td>43.000000</td>\n",
              "      <td>1.931973</td>\n",
              "      <td>17.197279</td>\n",
              "      <td>101.959184</td>\n",
              "      <td>4.220673</td>\n",
              "      <td>7.954483</td>\n",
              "      <td>0.129252</td>\n",
              "      <td>13.915646</td>\n",
              "    </tr>\n",
              "    <tr>\n",
              "      <th>1</th>\n",
              "      <td>1</td>\n",
              "      <td>31.891566</td>\n",
              "      <td>1.861446</td>\n",
              "      <td>3.963855</td>\n",
              "      <td>31.789157</td>\n",
              "      <td>1.576675</td>\n",
              "      <td>2.843355</td>\n",
              "      <td>0.987952</td>\n",
              "      <td>13.994578</td>\n",
              "    </tr>\n",
              "    <tr>\n",
              "      <th>2</th>\n",
              "      <td>2</td>\n",
              "      <td>33.817505</td>\n",
              "      <td>1.603352</td>\n",
              "      <td>7.625698</td>\n",
              "      <td>36.143389</td>\n",
              "      <td>0.853128</td>\n",
              "      <td>1.816855</td>\n",
              "      <td>0.000000</td>\n",
              "      <td>7.964991</td>\n",
              "    </tr>\n",
              "  </tbody>\n",
              "</table>\n",
              "</div>\n",
              "      <button class=\"colab-df-convert\" onclick=\"convertToInteractive('df-fb6688c8-566d-4042-a04e-a32404b2e1b9')\"\n",
              "              title=\"Convert this dataframe to an interactive table.\"\n",
              "              style=\"display:none;\">\n",
              "        \n",
              "  <svg xmlns=\"http://www.w3.org/2000/svg\" height=\"24px\"viewBox=\"0 0 24 24\"\n",
              "       width=\"24px\">\n",
              "    <path d=\"M0 0h24v24H0V0z\" fill=\"none\"/>\n",
              "    <path d=\"M18.56 5.44l.94 2.06.94-2.06 2.06-.94-2.06-.94-.94-2.06-.94 2.06-2.06.94zm-11 1L8.5 8.5l.94-2.06 2.06-.94-2.06-.94L8.5 2.5l-.94 2.06-2.06.94zm10 10l.94 2.06.94-2.06 2.06-.94-2.06-.94-.94-2.06-.94 2.06-2.06.94z\"/><path d=\"M17.41 7.96l-1.37-1.37c-.4-.4-.92-.59-1.43-.59-.52 0-1.04.2-1.43.59L10.3 9.45l-7.72 7.72c-.78.78-.78 2.05 0 2.83L4 21.41c.39.39.9.59 1.41.59.51 0 1.02-.2 1.41-.59l7.78-7.78 2.81-2.81c.8-.78.8-2.07 0-2.86zM5.41 20L4 18.59l7.72-7.72 1.47 1.35L5.41 20z\"/>\n",
              "  </svg>\n",
              "      </button>\n",
              "      \n",
              "  <style>\n",
              "    .colab-df-container {\n",
              "      display:flex;\n",
              "      flex-wrap:wrap;\n",
              "      gap: 12px;\n",
              "    }\n",
              "\n",
              "    .colab-df-convert {\n",
              "      background-color: #E8F0FE;\n",
              "      border: none;\n",
              "      border-radius: 50%;\n",
              "      cursor: pointer;\n",
              "      display: none;\n",
              "      fill: #1967D2;\n",
              "      height: 32px;\n",
              "      padding: 0 0 0 0;\n",
              "      width: 32px;\n",
              "    }\n",
              "\n",
              "    .colab-df-convert:hover {\n",
              "      background-color: #E2EBFA;\n",
              "      box-shadow: 0px 1px 2px rgba(60, 64, 67, 0.3), 0px 1px 3px 1px rgba(60, 64, 67, 0.15);\n",
              "      fill: #174EA6;\n",
              "    }\n",
              "\n",
              "    [theme=dark] .colab-df-convert {\n",
              "      background-color: #3B4455;\n",
              "      fill: #D2E3FC;\n",
              "    }\n",
              "\n",
              "    [theme=dark] .colab-df-convert:hover {\n",
              "      background-color: #434B5C;\n",
              "      box-shadow: 0px 1px 3px 1px rgba(0, 0, 0, 0.15);\n",
              "      filter: drop-shadow(0px 1px 2px rgba(0, 0, 0, 0.3));\n",
              "      fill: #FFFFFF;\n",
              "    }\n",
              "  </style>\n",
              "\n",
              "      <script>\n",
              "        const buttonEl =\n",
              "          document.querySelector('#df-fb6688c8-566d-4042-a04e-a32404b2e1b9 button.colab-df-convert');\n",
              "        buttonEl.style.display =\n",
              "          google.colab.kernel.accessAllowed ? 'block' : 'none';\n",
              "\n",
              "        async function convertToInteractive(key) {\n",
              "          const element = document.querySelector('#df-fb6688c8-566d-4042-a04e-a32404b2e1b9');\n",
              "          const dataTable =\n",
              "            await google.colab.kernel.invokeFunction('convertToInteractive',\n",
              "                                                     [key], {});\n",
              "          if (!dataTable) return;\n",
              "\n",
              "          const docLinkHtml = 'Like what you see? Visit the ' +\n",
              "            '<a target=\"_blank\" href=https://colab.research.google.com/notebooks/data_table.ipynb>data table notebook</a>'\n",
              "            + ' to learn more about interactive tables.';\n",
              "          element.innerHTML = '';\n",
              "          dataTable['output_type'] = 'display_data';\n",
              "          await google.colab.output.renderOutput(dataTable, element);\n",
              "          const docLink = document.createElement('div');\n",
              "          docLink.innerHTML = docLinkHtml;\n",
              "          element.appendChild(docLink);\n",
              "        }\n",
              "      </script>\n",
              "    </div>\n",
              "  </div>\n",
              "  "
            ]
          },
          "metadata": {},
          "execution_count": 65
        }
      ]
    },
    {
      "cell_type": "code",
      "source": [
        "# Make bar charts of each feature by cluster\n",
        "fig, axes = plt.subplots(2, 4, figsize = (16, 8));\n",
        "axes = axes.ravel();\n",
        "for i, col in enumerate(cluster_groups.columns[1:]):\n",
        "  axes[i].bar(cluster_groups['clusters'], cluster_groups[col]);\n",
        "  axes[i].set_title(f'Mean {col}')"
      ],
      "metadata": {
        "colab": {
          "base_uri": "https://localhost:8080/",
          "height": 499
        },
        "id": "r3E73VZ7DArH",
        "outputId": "e11cb813-13eb-480f-a2f5-2b90ac66d1f5"
      },
      "execution_count": 74,
      "outputs": [
        {
          "output_type": "display_data",
          "data": {
            "text/plain": [
              "<Figure size 1152x576 with 8 Axes>"
            ],
            "image/png": "[encoded data removed]"
          },
          "metadata": {
            "needs_background": "light"
          }
        }
      ]
    },
    {
      "cell_type": "markdown",
      "source": [
        "## Analysis of clusters"
      ],
      "metadata": {
        "id": "LdiHW2zkGgsu"
      }
    },
    {
      "cell_type": "markdown",
      "source": [
        "### Cluster 0\n",
        "\n",
        "- Average age of about 42.\n",
        "- Highest level of education among the clusters. (Although there is little difference in the education levels of the clusters.)\n",
        "- Employed the longest with an average years employed of about 17.\n",
        "- Makes the most money with a mean income of \\$100,000.\n",
        "- Highest level of card debt around \\$4,000.\n",
        "- Highest level of 'other' around \\$8,000.\n",
        "- Low defualt rate.\n",
        "- Ties cluster 1 for highest debt income ratio.\n",
        "\n",
        "The members of cluster 0 have high levels of debt, but they make the most money, and have the most job experience. Since their debt to income ratio is about the same as cluster 1, which has the highest default rate, we conjecture that it is the length of employment and higher relative age that explain why cluster 0 has such a low default rate.\n"
      ],
      "metadata": {
        "id": "D4VFcQrcGlQm"
      }
    },
    {
      "cell_type": "markdown",
      "source": [
        "### Cluster 1\n",
        "\n",
        "- Average age of about 31.\n",
        "- High level of education. Only slightly lower than cluster 0.\n",
        "- The least amount of job experience. Average length of employment is about 3 years.\n",
        "- Makes the least amount of money with a mean income of about \\$30,000.\n",
        "- Average card debt is about \\$1,500.\n",
        "- Average other debt is about \\$3,000.\n",
        "- Default rate is close to 1. Nearly every member of this cluster defaulted.\n",
        "- Has a very high debt to income ratio. Almost the same as cluster 0.\n",
        "\n",
        "We conjecture the lower average age as well as the lack of job experience is what explains why this cluster has such a high default rate."
      ],
      "metadata": {
        "id": "v2i6NVUMY9qt"
      }
    },
    {
      "cell_type": "markdown",
      "source": [
        "### Cluster 2\n",
        "\n",
        "- Average age of about 32. Slightly older than cluster 1\n",
        "- Lowest level of education among all the clusters.\n",
        "- Mean length of employment is about 8 years. A typical member of cluster 2 has been employed twice as long as a typical member of cluster 1.\n",
        "- Mean income of about \\$32,000. Only slightly higher than cluster 1.\n",
        "- Lowest average card debt of about \\$800. \n",
        "- Lowest other debt of about \\$1,800.\n",
        "- Best default rate of all the clusters. No member of cluster 2 has defaulted.\n",
        "- Has a debt to income ratio little more than half of the other clusters.\n",
        "\n",
        "Cluster 2 is similar to cluster 1 in many ways. Similar ages and similar incomes. Cluster 2 has less education, however they have less overall debt and a lower debt to income ratio. We strongly feel the lower debt to income ratio explains why nobody from cluster 2 has defaulted."
      ],
      "metadata": {
        "id": "APyvMFc0b_K6"
      }
    }
  ]
}
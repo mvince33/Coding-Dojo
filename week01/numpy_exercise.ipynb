{
  "nbformat": 4,
  "nbformat_minor": 0,
  "metadata": {
    "colab": {
      "name": "numpy_exercise.ipynb",
      "provenance": [],
      "authorship_tag": "ABX9TyOscj8e5Rswu4nChppFrT9Q",
      "include_colab_link": true
    },
    "kernelspec": {
      "name": "python3",
      "display_name": "Python 3"
    },
    "language_info": {
      "name": "python"
    }
  },
  "cells": [
    {
      "cell_type": "markdown",
      "metadata": {
        "id": "view-in-github",
        "colab_type": "text"
      },
      "source": [
        "<a href=\"https://colab.research.google.com/github/mvince33/Coding-Dojo/blob/main/week01/numpy_exercise.ipynb\" target=\"_parent\"><img src=\"https://colab.research.google.com/assets/colab-badge.svg\" alt=\"Open In Colab\"/></a>"
      ]
    },
    {
      "cell_type": "code",
      "execution_count": null,
      "metadata": {
        "colab": {
          "base_uri": "https://localhost:8080/"
        },
        "id": "k9X2ntHKcW35",
        "outputId": "5630e152-95a9-44f9-cf71-59340fd645ac"
      },
      "outputs": [
        {
          "output_type": "stream",
          "name": "stdout",
          "text": [
            "[1.75 0.5  5.  ]\n",
            "[ 9  8 17]\n",
            "[ 2  1 10  7]\n",
            "[ 2.   1.  10.   7.   4.5  3.   4.   9. ]\n",
            "float64\n",
            "[ 2.   1.  10.   7.   4.5  3.   4. ]\n"
          ]
        }
      ],
      "source": [
        "import numpy as np\n",
        "\n",
        "price = [2, 1, 10]\n",
        "type(price)\n",
        "\n",
        "quantity_sold = [17, 40, 1]\n",
        "\n",
        "price_array = np.array(price)\n",
        "quantity_sold_array = np.array(quantity_sold)\n",
        "\n",
        "type(price_array)\n",
        "\n",
        "price_array * quantity_sold_array\n",
        "\n",
        "cost_array = np.array([0.25, 0.5, 5.0])\n",
        "\n",
        "profit_array = price_array - cost_array\n",
        "\n",
        "print(profit_array)\n",
        "\n",
        "profit_array > 2\n",
        "\n",
        "price_array += [7]\n",
        "\n",
        "print(price_array)\n",
        "\n",
        "price_array -= 7\n",
        "price_array = np.append(price_array, 7)\n",
        "print(price_array)\n",
        "\n",
        "price_array = np.append(price_array, [4.5, 3, 4, 9])\n",
        "print(price_array)\n",
        "print(price_array.dtype)\n",
        "\n",
        "price_array = np.delete(price_array, -1)\n",
        "print(price_array)"
      ]
    }
  ]
}
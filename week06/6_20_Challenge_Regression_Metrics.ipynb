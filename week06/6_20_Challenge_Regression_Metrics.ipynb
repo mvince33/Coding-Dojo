{
  "nbformat": 4,
  "nbformat_minor": 0,
  "metadata": {
    "colab": {
      "name": "6_20_Challenge_Regression_Metrics.ipynb",
      "provenance": [],
      "collapsed_sections": [],
      "include_colab_link": true
    },
    "kernelspec": {
      "name": "python3",
      "display_name": "Python 3"
    }
  },
  "cells": [
    {
      "cell_type": "markdown",
      "metadata": {
        "id": "view-in-github",
        "colab_type": "text"
      },
      "source": [
        "<a href=\"https://colab.research.google.com/github/mvince33/Coding-Dojo/blob/main/week06/6_20_Challenge_Regression_Metrics.ipynb\" target=\"_parent\"><img src=\"https://colab.research.google.com/assets/colab-badge.svg\" alt=\"Open In Colab\"/></a>"
      ]
    },
    {
      "cell_type": "markdown",
      "metadata": {
        "id": "M3wwYi6u_VU3"
      },
      "source": [
        "# From data to model\n",
        "\n",
        "In this notebook we will take a dataset and prepare it, train a model, and make a prediction.\n",
        "\n",
        "Steps\n",
        "1. Load and inspect the data\n",
        "2. Clean the data\n",
        "3. Split the data\n",
        "4. Pre-process the data\n",
        "5. Model the Data\n",
        "6. Evaluate the Model\n",
        "\n",
        "Goal : We want to predict the mpg of the car.\n"
      ]
    },
    {
      "cell_type": "markdown",
      "metadata": {
        "id": "_A7msLwr_4TA"
      },
      "source": [
        "Import Libraries"
      ]
    },
    {
      "cell_type": "code",
      "metadata": {
        "id": "1qqHcPH56CaM"
      },
      "source": [
        "# Imports\n",
        "import pandas as pd\n",
        "import numpy as np\n",
        "from sklearn.model_selection import train_test_split\n",
        "from sklearn.compose import make_column_selector, make_column_transformer\n",
        "from sklearn.linear_model import LinearRegression\n",
        "from sklearn.preprocessing import StandardScaler, OneHotEncoder\n",
        "from sklearn.pipeline import make_pipeline\n",
        "from sklearn.dummy import DummyRegressor\n",
        "from sklearn.metrics import mean_absolute_error, mean_squared_error, r2_score\n",
        "from sklearn import set_config\n",
        "set_config(display='diagram')"
      ],
      "execution_count": null,
      "outputs": []
    },
    {
      "cell_type": "code",
      "source": [
        "def eval_regression(true, pred):\n",
        "  \"\"\"Takes true and predicted values (arrays) and prints MAE, MSE, RMSE and R2\"\"\"\n",
        "  mae = mean_absolute_error(true, pred)\n",
        "  mse = mean_squared_error(true, pred)\n",
        "  rmse = np.sqrt(mse)\n",
        "  r2 = r2_score(true, pred)\n",
        "\n",
        "  print(f'MAE {mae},\\n MSE {mse},\\n RMSE: {rmse},\\n R^2: {r2} ')"
      ],
      "metadata": {
        "id": "wCtV3xikjXCM"
      },
      "execution_count": null,
      "outputs": []
    },
    {
      "cell_type": "markdown",
      "metadata": {
        "id": "7Djq4Nz1_5dD"
      },
      "source": [
        "Load Data\n",
        "\n",
        "The link to the data is already provided for you below.  You can just run the cell.\n",
        "\n",
        "**Data Dictionary:**\n",
        "\n",
        "**Attribute** | **Description**  \n",
        "--- | ---\n",
        "model | model of the car\n",
        "price | price car last sold for\n",
        "transmission | transmission type: Automatic or Manual\n",
        "mileage | current mileage of the car\n",
        "fuelType | fuel type the car runs on\n",
        "tax | tax paid on car at last sale\n",
        "mpg | miles per gallon of car (target)\n",
        "engineSize | size of engine in cubic litres"
      ]
    },
    {
      "cell_type": "code",
      "metadata": {
        "id": "x0N_O7tr5WV8",
        "colab": {
          "base_uri": "https://localhost:8080/",
          "height": 206
        },
        "outputId": "c618e207-76a1-42a5-9cc3-8c1ba3d626ee"
      },
      "source": [
        "# Load Data\n",
        "path = 'https://docs.google.com/spreadsheets/d/e/2PACX-1vS2dIT3WEj2j4nSpai7K0wSCwFc_hQBYQR6Xf10VtnyI64EItM9SWxN1UFU_XhrkWdUp6ayrUOoJSgY/pub?output=csv'\n",
        "df = pd.read_csv(path)\n",
        "df.head()"
      ],
      "execution_count": null,
      "outputs": [
        {
          "output_type": "execute_result",
          "data": {
            "text/plain": [
              "      model  year  price transmission  mileage fuelType  tax   mpg  engineSize\n",
              "0       SLK  2005   5200    Automatic    63000   Petrol  325  32.1         1.8\n",
              "1   S Class  2017  34948    Automatic    27000   Hybrid   20  61.4         2.1\n",
              "2  SL CLASS  2016  49948    Automatic     6200   Petrol  555  28.0         5.5\n",
              "3   G Class  2016  61948    Automatic    16000   Petrol  325  30.4         4.0\n",
              "4   G Class  2016  73948    Automatic     4000   Petrol  325  30.1         4.0"
            ],
            "text/html": [
              "\n",
              "  <div id=\"df-49b08aaa-06ae-462e-9828-2e157830c39c\">\n",
              "    <div class=\"colab-df-container\">\n",
              "      <div>\n",
              "<style scoped>\n",
              "    .dataframe tbody tr th:only-of-type {\n",
              "        vertical-align: middle;\n",
              "    }\n",
              "\n",
              "    .dataframe tbody tr th {\n",
              "        vertical-align: top;\n",
              "    }\n",
              "\n",
              "    .dataframe thead th {\n",
              "        text-align: right;\n",
              "    }\n",
              "</style>\n",
              "<table border=\"1\" class=\"dataframe\">\n",
              "  <thead>\n",
              "    <tr style=\"text-align: right;\">\n",
              "      <th></th>\n",
              "      <th>model</th>\n",
              "      <th>year</th>\n",
              "      <th>price</th>\n",
              "      <th>transmission</th>\n",
              "      <th>mileage</th>\n",
              "      <th>fuelType</th>\n",
              "      <th>tax</th>\n",
              "      <th>mpg</th>\n",
              "      <th>engineSize</th>\n",
              "    </tr>\n",
              "  </thead>\n",
              "  <tbody>\n",
              "    <tr>\n",
              "      <th>0</th>\n",
              "      <td>SLK</td>\n",
              "      <td>2005</td>\n",
              "      <td>5200</td>\n",
              "      <td>Automatic</td>\n",
              "      <td>63000</td>\n",
              "      <td>Petrol</td>\n",
              "      <td>325</td>\n",
              "      <td>32.1</td>\n",
              "      <td>1.8</td>\n",
              "    </tr>\n",
              "    <tr>\n",
              "      <th>1</th>\n",
              "      <td>S Class</td>\n",
              "      <td>2017</td>\n",
              "      <td>34948</td>\n",
              "      <td>Automatic</td>\n",
              "      <td>27000</td>\n",
              "      <td>Hybrid</td>\n",
              "      <td>20</td>\n",
              "      <td>61.4</td>\n",
              "      <td>2.1</td>\n",
              "    </tr>\n",
              "    <tr>\n",
              "      <th>2</th>\n",
              "      <td>SL CLASS</td>\n",
              "      <td>2016</td>\n",
              "      <td>49948</td>\n",
              "      <td>Automatic</td>\n",
              "      <td>6200</td>\n",
              "      <td>Petrol</td>\n",
              "      <td>555</td>\n",
              "      <td>28.0</td>\n",
              "      <td>5.5</td>\n",
              "    </tr>\n",
              "    <tr>\n",
              "      <th>3</th>\n",
              "      <td>G Class</td>\n",
              "      <td>2016</td>\n",
              "      <td>61948</td>\n",
              "      <td>Automatic</td>\n",
              "      <td>16000</td>\n",
              "      <td>Petrol</td>\n",
              "      <td>325</td>\n",
              "      <td>30.4</td>\n",
              "      <td>4.0</td>\n",
              "    </tr>\n",
              "    <tr>\n",
              "      <th>4</th>\n",
              "      <td>G Class</td>\n",
              "      <td>2016</td>\n",
              "      <td>73948</td>\n",
              "      <td>Automatic</td>\n",
              "      <td>4000</td>\n",
              "      <td>Petrol</td>\n",
              "      <td>325</td>\n",
              "      <td>30.1</td>\n",
              "      <td>4.0</td>\n",
              "    </tr>\n",
              "  </tbody>\n",
              "</table>\n",
              "</div>\n",
              "      <button class=\"colab-df-convert\" onclick=\"convertToInteractive('df-49b08aaa-06ae-462e-9828-2e157830c39c')\"\n",
              "              title=\"Convert this dataframe to an interactive table.\"\n",
              "              style=\"display:none;\">\n",
              "        \n",
              "  <svg xmlns=\"http://www.w3.org/2000/svg\" height=\"24px\"viewBox=\"0 0 24 24\"\n",
              "       width=\"24px\">\n",
              "    <path d=\"M0 0h24v24H0V0z\" fill=\"none\"/>\n",
              "    <path d=\"M18.56 5.44l.94 2.06.94-2.06 2.06-.94-2.06-.94-.94-2.06-.94 2.06-2.06.94zm-11 1L8.5 8.5l.94-2.06 2.06-.94-2.06-.94L8.5 2.5l-.94 2.06-2.06.94zm10 10l.94 2.06.94-2.06 2.06-.94-2.06-.94-.94-2.06-.94 2.06-2.06.94z\"/><path d=\"M17.41 7.96l-1.37-1.37c-.4-.4-.92-.59-1.43-.59-.52 0-1.04.2-1.43.59L10.3 9.45l-7.72 7.72c-.78.78-.78 2.05 0 2.83L4 21.41c.39.39.9.59 1.41.59.51 0 1.02-.2 1.41-.59l7.78-7.78 2.81-2.81c.8-.78.8-2.07 0-2.86zM5.41 20L4 18.59l7.72-7.72 1.47 1.35L5.41 20z\"/>\n",
              "  </svg>\n",
              "      </button>\n",
              "      \n",
              "  <style>\n",
              "    .colab-df-container {\n",
              "      display:flex;\n",
              "      flex-wrap:wrap;\n",
              "      gap: 12px;\n",
              "    }\n",
              "\n",
              "    .colab-df-convert {\n",
              "      background-color: #E8F0FE;\n",
              "      border: none;\n",
              "      border-radius: 50%;\n",
              "      cursor: pointer;\n",
              "      display: none;\n",
              "      fill: #1967D2;\n",
              "      height: 32px;\n",
              "      padding: 0 0 0 0;\n",
              "      width: 32px;\n",
              "    }\n",
              "\n",
              "    .colab-df-convert:hover {\n",
              "      background-color: #E2EBFA;\n",
              "      box-shadow: 0px 1px 2px rgba(60, 64, 67, 0.3), 0px 1px 3px 1px rgba(60, 64, 67, 0.15);\n",
              "      fill: #174EA6;\n",
              "    }\n",
              "\n",
              "    [theme=dark] .colab-df-convert {\n",
              "      background-color: #3B4455;\n",
              "      fill: #D2E3FC;\n",
              "    }\n",
              "\n",
              "    [theme=dark] .colab-df-convert:hover {\n",
              "      background-color: #434B5C;\n",
              "      box-shadow: 0px 1px 3px 1px rgba(0, 0, 0, 0.15);\n",
              "      filter: drop-shadow(0px 1px 2px rgba(0, 0, 0, 0.3));\n",
              "      fill: #FFFFFF;\n",
              "    }\n",
              "  </style>\n",
              "\n",
              "      <script>\n",
              "        const buttonEl =\n",
              "          document.querySelector('#df-49b08aaa-06ae-462e-9828-2e157830c39c button.colab-df-convert');\n",
              "        buttonEl.style.display =\n",
              "          google.colab.kernel.accessAllowed ? 'block' : 'none';\n",
              "\n",
              "        async function convertToInteractive(key) {\n",
              "          const element = document.querySelector('#df-49b08aaa-06ae-462e-9828-2e157830c39c');\n",
              "          const dataTable =\n",
              "            await google.colab.kernel.invokeFunction('convertToInteractive',\n",
              "                                                     [key], {});\n",
              "          if (!dataTable) return;\n",
              "\n",
              "          const docLinkHtml = 'Like what you see? Visit the ' +\n",
              "            '<a target=\"_blank\" href=https://colab.research.google.com/notebooks/data_table.ipynb>data table notebook</a>'\n",
              "            + ' to learn more about interactive tables.';\n",
              "          element.innerHTML = '';\n",
              "          dataTable['output_type'] = 'display_data';\n",
              "          await google.colab.output.renderOutput(dataTable, element);\n",
              "          const docLink = document.createElement('div');\n",
              "          docLink.innerHTML = docLinkHtml;\n",
              "          element.appendChild(docLink);\n",
              "        }\n",
              "      </script>\n",
              "    </div>\n",
              "  </div>\n",
              "  "
            ]
          },
          "metadata": {},
          "execution_count": 3
        }
      ]
    },
    {
      "cell_type": "code",
      "metadata": {
        "colab": {
          "base_uri": "https://localhost:8080/"
        },
        "id": "t9B91f1WH_AJ",
        "outputId": "3056fdaa-7c78-4c97-a2ae-37f6eced8af1"
      },
      "source": [
        "df.shape"
      ],
      "execution_count": null,
      "outputs": [
        {
          "output_type": "execute_result",
          "data": {
            "text/plain": [
              "(13119, 9)"
            ]
          },
          "metadata": {},
          "execution_count": 4
        }
      ]
    },
    {
      "cell_type": "markdown",
      "metadata": {
        "id": "2ej75b3IxrUI"
      },
      "source": [
        "# 2. Clean the Data"
      ]
    },
    {
      "cell_type": "markdown",
      "metadata": {
        "id": "2Y3eeg5twyGe"
      },
      "source": [
        "### Check for duplicates"
      ]
    },
    {
      "cell_type": "code",
      "metadata": {
        "id": "hoN-7TB-rFY7",
        "colab": {
          "base_uri": "https://localhost:8080/"
        },
        "outputId": "a4d0231a-dd3d-45aa-f21b-940bf4e4ab1a"
      },
      "source": [
        "df.duplicated().sum()"
      ],
      "execution_count": null,
      "outputs": [
        {
          "output_type": "execute_result",
          "data": {
            "text/plain": [
              "259"
            ]
          },
          "metadata": {},
          "execution_count": 5
        }
      ]
    },
    {
      "cell_type": "markdown",
      "metadata": {
        "id": "Dt0hGG0zwOEo"
      },
      "source": [
        "There are some duplicate values here, we will drop them."
      ]
    },
    {
      "cell_type": "code",
      "metadata": {
        "colab": {
          "base_uri": "https://localhost:8080/"
        },
        "id": "qDODZVvrwj-5",
        "outputId": "856a0da7-e5a2-4abb-b7e0-a0a91ab139af"
      },
      "source": [
        "df = df.drop_duplicates()\n",
        "\n",
        "df.duplicated().sum()"
      ],
      "execution_count": null,
      "outputs": [
        {
          "output_type": "execute_result",
          "data": {
            "text/plain": [
              "0"
            ]
          },
          "metadata": {},
          "execution_count": 6
        }
      ]
    },
    {
      "cell_type": "markdown",
      "metadata": {
        "id": "M3cMg8K6WsGU"
      },
      "source": [
        "Check out the datatypes and missing data."
      ]
    },
    {
      "cell_type": "code",
      "metadata": {
        "id": "9ycie_ndWsb2",
        "colab": {
          "base_uri": "https://localhost:8080/"
        },
        "outputId": "3b697d42-9bd8-4aff-c9e7-74b1622581bc"
      },
      "source": [
        "df.info()"
      ],
      "execution_count": null,
      "outputs": [
        {
          "output_type": "stream",
          "name": "stdout",
          "text": [
            "<class 'pandas.core.frame.DataFrame'>\n",
            "Int64Index: 12860 entries, 0 to 13118\n",
            "Data columns (total 9 columns):\n",
            " #   Column        Non-Null Count  Dtype  \n",
            "---  ------        --------------  -----  \n",
            " 0   model         12860 non-null  object \n",
            " 1   year          12860 non-null  int64  \n",
            " 2   price         12860 non-null  int64  \n",
            " 3   transmission  12860 non-null  object \n",
            " 4   mileage       12860 non-null  int64  \n",
            " 5   fuelType      12860 non-null  object \n",
            " 6   tax           12860 non-null  int64  \n",
            " 7   mpg           12860 non-null  float64\n",
            " 8   engineSize    12860 non-null  float64\n",
            "dtypes: float64(2), int64(4), object(3)\n",
            "memory usage: 1004.7+ KB\n"
          ]
        }
      ]
    },
    {
      "cell_type": "markdown",
      "metadata": {
        "id": "mmS4V3qSvWgR"
      },
      "source": [
        "There is no missing data, and all datatypes are as expected\n",
        "\n",
        "Let's inpect the unique values of the categorical columns\n"
      ]
    },
    {
      "cell_type": "code",
      "metadata": {
        "colab": {
          "base_uri": "https://localhost:8080/"
        },
        "id": "BNlHMSJgL5eg",
        "outputId": "6c654866-71c4-4de1-e973-df300b3d8484"
      },
      "source": [
        "print('unique models', df['model'].unique())\n",
        "print('\\n')\n",
        "print('unique transmissions', df['transmission'].unique())\n",
        "print('\\n')\n",
        "print('unique fuel types', df['fuelType'].unique())\n",
        "print('\\n')"
      ],
      "execution_count": null,
      "outputs": [
        {
          "output_type": "stream",
          "name": "stdout",
          "text": [
            "unique models ['SLK' 'S Class' 'SL CLASS' 'G Class' 'GLE Class' 'GLA Class' 'A Class'\n",
            " 'B Class' 'GLC Class' 'C Class' 'E Class' 'GL Class' 'CLS Class'\n",
            " 'CLC Class' 'CLA Class' 'V Class' 'M Class' 'CL Class' 'GLS Class'\n",
            " 'GLB Class' 'X-CLASS' '180' 'CLK' 'R Class' '230' '220' '200']\n",
            "\n",
            "\n",
            "unique transmissions ['Automatic' 'Manual' 'Semi-Auto' 'Other']\n",
            "\n",
            "\n",
            "unique fuel types ['Petrol' 'Hybrid' 'Diesel' 'Other']\n",
            "\n",
            "\n"
          ]
        }
      ]
    },
    {
      "cell_type": "markdown",
      "metadata": {
        "id": "GsoSCfWfMkK1"
      },
      "source": [
        "When we one-hot encode this data there will a column for each one of the above categories with a value for each car of 0 or 1."
      ]
    },
    {
      "cell_type": "markdown",
      "metadata": {
        "id": "4LDOtl5IBKVT"
      },
      "source": [
        "# 3. Split the Data\n",
        "\n",
        "We want to predict the mpg of the car, so that will be our `y` variable.  The rest of the columns are the features our model will use to make that prediction, so those are the `X` variable."
      ]
    },
    {
      "cell_type": "code",
      "metadata": {
        "id": "1DfQnaMQ2Sz_"
      },
      "source": [
        "# split X and y\n",
        "X = df.drop(columns=['mpg'])\n",
        "y = df['mpg']\n",
        "\n",
        "# split training and test\n",
        "# set random_state to 42 for reproducibility\n",
        "X_train, X_test, y_train, y_test = train_test_split(X, y, random_state=42)"
      ],
      "execution_count": null,
      "outputs": []
    },
    {
      "cell_type": "markdown",
      "metadata": {
        "id": "_GS1-guIy2Sg"
      },
      "source": [
        "# 4. Prepare the Data"
      ]
    },
    {
      "cell_type": "markdown",
      "metadata": {
        "id": "VIZAjsq77nA1"
      },
      "source": [
        "### ColumnSelector\n",
        "\n",
        "Remember that we only want to one-hot encode our categorical variables, but not our numeric ones.  We are going to use the OneHotEncoder transformer from sklearn, but that class cannot automatically decide which columns to encode.  After all, maybe we want to encode some integer columns because they are actually nominal categories.  \n",
        "\n",
        "We could make a list of all of the categorical columns to encode.  That sounds like a lot of work, so let's let Python do it for us.\n",
        "\n",
        "We can use the sklearn ColumnSelector class to return a list of names of a particular type.  We will use this to return the categorical columns."
      ]
    },
    {
      "cell_type": "code",
      "metadata": {
        "id": "dPs3aOaQt-Xk"
      },
      "source": [
        "# instantiate the column selectors\n",
        "num_selector = make_column_selector(dtype_include='number')\n",
        "cat_selector = make_column_selector(dtype_include='object')"
      ],
      "execution_count": null,
      "outputs": []
    },
    {
      "cell_type": "markdown",
      "metadata": {
        "id": "BYSDsphd8h90"
      },
      "source": [
        "### OneHotEncoder\n",
        "\n",
        "sklearn includes a class for one-hot encoding nominal variables.  However, we ONLY want to use it on the categorical columns.  If we use it on numeric variables then we will end up with a separate column for each different value in that column (which would be a lot!) and the model will not consider that column as a numeric variable.\n",
        "\n",
        "* We also want to make sure that OneHotEncoder returns a dense array, rather than a compressed kind of array called a 'sparse array', so we set `sparse=False`.\n",
        "\n",
        "* We also want it to ignore any categories in the test data that it doesn't see in the training data, so we set `handle_unkown = 'ignore'`.  Otherwise it will give us an error if there is a category in the test set that it didn't see in the training set.  This could be a problem if we put this model into a production environment where it is making predictions on new data!"
      ]
    },
    {
      "cell_type": "code",
      "metadata": {
        "id": "tB7nRM9Gt-UY"
      },
      "source": [
        "#instantiate the encoder\n",
        "scaler = StandardScaler()\n",
        "encoder = OneHotEncoder(sparse=False, handle_unknown='ignore')"
      ],
      "execution_count": null,
      "outputs": []
    },
    {
      "cell_type": "markdown",
      "metadata": {
        "id": "ZAxHHWIJA8A7"
      },
      "source": [
        "# Setup Tuples\n",
        "\n",
        "We will create a tuple for the standard scaler and the numeric column selector and a categorical tuple for the one hot encoder and the categorical column selector."
      ]
    },
    {
      "cell_type": "code",
      "source": [
        "num_tuple = (scaler, num_selector)\n",
        "cat_tuple = (encoder, cat_selector)"
      ],
      "metadata": {
        "id": "4Ls8U7TlY9fy"
      },
      "execution_count": null,
      "outputs": []
    },
    {
      "cell_type": "markdown",
      "metadata": {
        "id": "TGVWrSqi9sSE"
      },
      "source": [
        "### ColumnTransformer\n",
        "\n",
        "sklearn has another class that allows us to apply certain preprocessing steps, such as imputers, scalers, or encoders, to certain columns and not others.  This is much easier than splitting them up by hand and joining them again after processing.\n",
        "\n",
        "ColumnTransformer takes a list of tuples.  The columns can be a list of columns, or it can be a ColumnSelector class object like we made above.\n",
        "\n",
        "By default it won't include any columns that haven't been selected, so we have to set `remainder='passthrough'`"
      ]
    },
    {
      "cell_type": "code",
      "source": [
        "preprocessor = make_column_transformer(num_tuple, cat_tuple, remainder = 'drop')"
      ],
      "metadata": {
        "id": "kJPxKm2qZJmv"
      },
      "execution_count": null,
      "outputs": []
    },
    {
      "cell_type": "markdown",
      "source": [
        "### Baseline Model\n",
        "Define a baseline model with DummyRegressor using the 'mean' strategy.\n",
        "Put your Columntransformer and the baseline model into a pipeline.\n",
        "Fit your pipe onto the training data.\n"
      ],
      "metadata": {
        "id": "K6GsTSNXzCHh"
      }
    },
    {
      "cell_type": "code",
      "source": [
        "# instantiate a baseline model\n",
        "dummy_reg = DummyRegressor(strategy='mean')\n",
        "\n",
        "# create model pipeline\n",
        "dummy_pipe = make_pipeline(preprocessor, dummy_reg)\n",
        "\n",
        "dummy_pipe.fit(X_train, y_train)"
      ],
      "metadata": {
        "id": "Bf49iMOYTd4a",
        "colab": {
          "base_uri": "https://localhost:8080/",
          "height": 192
        },
        "outputId": "fdc2da2f-addc-4d71-9a0f-f7215c2b89c1"
      },
      "execution_count": null,
      "outputs": [
        {
          "output_type": "execute_result",
          "data": {
            "text/plain": [
              "Pipeline(steps=[('columntransformer',\n",
              "                 ColumnTransformer(transformers=[('standardscaler',\n",
              "                                                  StandardScaler(),\n",
              "                                                  <sklearn.compose._column_transformer.make_column_selector object at 0x7f66faf312d0>),\n",
              "                                                 ('onehotencoder',\n",
              "                                                  OneHotEncoder(handle_unknown='ignore',\n",
              "                                                                sparse=False),\n",
              "                                                  <sklearn.compose._column_transformer.make_column_selector object at 0x7f66faf31c10>)])),\n",
              "                ('dummyregressor', DummyRegressor())])"
            ],
            "text/html": [
              "<style>#sk-f2d27d2a-65a2-4ba2-86c2-ff5fb0b2da2a {color: black;background-color: white;}#sk-f2d27d2a-65a2-4ba2-86c2-ff5fb0b2da2a pre{padding: 0;}#sk-f2d27d2a-65a2-4ba2-86c2-ff5fb0b2da2a div.sk-toggleable {background-color: white;}#sk-f2d27d2a-65a2-4ba2-86c2-ff5fb0b2da2a label.sk-toggleable__label {cursor: pointer;display: block;width: 100%;margin-bottom: 0;padding: 0.3em;box-sizing: border-box;text-align: center;}#sk-f2d27d2a-65a2-4ba2-86c2-ff5fb0b2da2a label.sk-toggleable__label-arrow:before {content: \"▸\";float: left;margin-right: 0.25em;color: #696969;}#sk-f2d27d2a-65a2-4ba2-86c2-ff5fb0b2da2a label.sk-toggleable__label-arrow:hover:before {color: black;}#sk-f2d27d2a-65a2-4ba2-86c2-ff5fb0b2da2a div.sk-estimator:hover label.sk-toggleable__label-arrow:before {color: black;}#sk-f2d27d2a-65a2-4ba2-86c2-ff5fb0b2da2a div.sk-toggleable__content {max-height: 0;max-width: 0;overflow: hidden;text-align: left;background-color: #f0f8ff;}#sk-f2d27d2a-65a2-4ba2-86c2-ff5fb0b2da2a div.sk-toggleable__content pre {margin: 0.2em;color: black;border-radius: 0.25em;background-color: #f0f8ff;}#sk-f2d27d2a-65a2-4ba2-86c2-ff5fb0b2da2a input.sk-toggleable__control:checked~div.sk-toggleable__content {max-height: 200px;max-width: 100%;overflow: auto;}#sk-f2d27d2a-65a2-4ba2-86c2-ff5fb0b2da2a input.sk-toggleable__control:checked~label.sk-toggleable__label-arrow:before {content: \"▾\";}#sk-f2d27d2a-65a2-4ba2-86c2-ff5fb0b2da2a div.sk-estimator input.sk-toggleable__control:checked~label.sk-toggleable__label {background-color: #d4ebff;}#sk-f2d27d2a-65a2-4ba2-86c2-ff5fb0b2da2a div.sk-label input.sk-toggleable__control:checked~label.sk-toggleable__label {background-color: #d4ebff;}#sk-f2d27d2a-65a2-4ba2-86c2-ff5fb0b2da2a input.sk-hidden--visually {border: 0;clip: rect(1px 1px 1px 1px);clip: rect(1px, 1px, 1px, 1px);height: 1px;margin: -1px;overflow: hidden;padding: 0;position: absolute;width: 1px;}#sk-f2d27d2a-65a2-4ba2-86c2-ff5fb0b2da2a div.sk-estimator {font-family: monospace;background-color: #f0f8ff;border: 1px dotted black;border-radius: 0.25em;box-sizing: border-box;margin-bottom: 0.5em;}#sk-f2d27d2a-65a2-4ba2-86c2-ff5fb0b2da2a div.sk-estimator:hover {background-color: #d4ebff;}#sk-f2d27d2a-65a2-4ba2-86c2-ff5fb0b2da2a div.sk-parallel-item::after {content: \"\";width: 100%;border-bottom: 1px solid gray;flex-grow: 1;}#sk-f2d27d2a-65a2-4ba2-86c2-ff5fb0b2da2a div.sk-label:hover label.sk-toggleable__label {background-color: #d4ebff;}#sk-f2d27d2a-65a2-4ba2-86c2-ff5fb0b2da2a div.sk-serial::before {content: \"\";position: absolute;border-left: 1px solid gray;box-sizing: border-box;top: 2em;bottom: 0;left: 50%;}#sk-f2d27d2a-65a2-4ba2-86c2-ff5fb0b2da2a div.sk-serial {display: flex;flex-direction: column;align-items: center;background-color: white;padding-right: 0.2em;padding-left: 0.2em;}#sk-f2d27d2a-65a2-4ba2-86c2-ff5fb0b2da2a div.sk-item {z-index: 1;}#sk-f2d27d2a-65a2-4ba2-86c2-ff5fb0b2da2a div.sk-parallel {display: flex;align-items: stretch;justify-content: center;background-color: white;}#sk-f2d27d2a-65a2-4ba2-86c2-ff5fb0b2da2a div.sk-parallel::before {content: \"\";position: absolute;border-left: 1px solid gray;box-sizing: border-box;top: 2em;bottom: 0;left: 50%;}#sk-f2d27d2a-65a2-4ba2-86c2-ff5fb0b2da2a div.sk-parallel-item {display: flex;flex-direction: column;position: relative;background-color: white;}#sk-f2d27d2a-65a2-4ba2-86c2-ff5fb0b2da2a div.sk-parallel-item:first-child::after {align-self: flex-end;width: 50%;}#sk-f2d27d2a-65a2-4ba2-86c2-ff5fb0b2da2a div.sk-parallel-item:last-child::after {align-self: flex-start;width: 50%;}#sk-f2d27d2a-65a2-4ba2-86c2-ff5fb0b2da2a div.sk-parallel-item:only-child::after {width: 0;}#sk-f2d27d2a-65a2-4ba2-86c2-ff5fb0b2da2a div.sk-dashed-wrapped {border: 1px dashed gray;margin: 0 0.4em 0.5em 0.4em;box-sizing: border-box;padding-bottom: 0.4em;background-color: white;position: relative;}#sk-f2d27d2a-65a2-4ba2-86c2-ff5fb0b2da2a div.sk-label label {font-family: monospace;font-weight: bold;background-color: white;display: inline-block;line-height: 1.2em;}#sk-f2d27d2a-65a2-4ba2-86c2-ff5fb0b2da2a div.sk-label-container {position: relative;z-index: 2;text-align: center;}#sk-f2d27d2a-65a2-4ba2-86c2-ff5fb0b2da2a div.sk-container {/* jupyter's `normalize.less` sets `[hidden] { display: none; }` but bootstrap.min.css set `[hidden] { display: none !important; }` so we also need the `!important` here to be able to override the default hidden behavior on the sphinx rendered scikit-learn.org. See: https://github.com/scikit-learn/scikit-learn/issues/21755 */display: inline-block !important;position: relative;}#sk-f2d27d2a-65a2-4ba2-86c2-ff5fb0b2da2a div.sk-text-repr-fallback {display: none;}</style><div id=\"sk-f2d27d2a-65a2-4ba2-86c2-ff5fb0b2da2a\" class=\"sk-top-container\"><div class=\"sk-text-repr-fallback\"><pre>Pipeline(steps=[(&#x27;columntransformer&#x27;,\n",
              "                 ColumnTransformer(transformers=[(&#x27;standardscaler&#x27;,\n",
              "                                                  StandardScaler(),\n",
              "                                                  &lt;sklearn.compose._column_transformer.make_column_selector object at 0x7f66faf312d0&gt;),\n",
              "                                                 (&#x27;onehotencoder&#x27;,\n",
              "                                                  OneHotEncoder(handle_unknown=&#x27;ignore&#x27;,\n",
              "                                                                sparse=False),\n",
              "                                                  &lt;sklearn.compose._column_transformer.make_column_selector object at 0x7f66faf31c10&gt;)])),\n",
              "                (&#x27;dummyregressor&#x27;, DummyRegressor())])</pre><b>Please rerun this cell to show the HTML repr or trust the notebook.</b></div><div class=\"sk-container\" hidden><div class=\"sk-item sk-dashed-wrapped\"><div class=\"sk-label-container\"><div class=\"sk-label sk-toggleable\"><input class=\"sk-toggleable__control sk-hidden--visually\" id=\"91c4e38a-25d1-40c9-806a-cac2d1fcbac3\" type=\"checkbox\" ><label for=\"91c4e38a-25d1-40c9-806a-cac2d1fcbac3\" class=\"sk-toggleable__label sk-toggleable__label-arrow\">Pipeline</label><div class=\"sk-toggleable__content\"><pre>Pipeline(steps=[(&#x27;columntransformer&#x27;,\n",
              "                 ColumnTransformer(transformers=[(&#x27;standardscaler&#x27;,\n",
              "                                                  StandardScaler(),\n",
              "                                                  &lt;sklearn.compose._column_transformer.make_column_selector object at 0x7f66faf312d0&gt;),\n",
              "                                                 (&#x27;onehotencoder&#x27;,\n",
              "                                                  OneHotEncoder(handle_unknown=&#x27;ignore&#x27;,\n",
              "                                                                sparse=False),\n",
              "                                                  &lt;sklearn.compose._column_transformer.make_column_selector object at 0x7f66faf31c10&gt;)])),\n",
              "                (&#x27;dummyregressor&#x27;, DummyRegressor())])</pre></div></div></div><div class=\"sk-serial\"><div class=\"sk-item sk-dashed-wrapped\"><div class=\"sk-label-container\"><div class=\"sk-label sk-toggleable\"><input class=\"sk-toggleable__control sk-hidden--visually\" id=\"6c385fa6-8b60-4c42-bb6d-d5fe7718664a\" type=\"checkbox\" ><label for=\"6c385fa6-8b60-4c42-bb6d-d5fe7718664a\" class=\"sk-toggleable__label sk-toggleable__label-arrow\">columntransformer: ColumnTransformer</label><div class=\"sk-toggleable__content\"><pre>ColumnTransformer(transformers=[(&#x27;standardscaler&#x27;, StandardScaler(),\n",
              "                                 &lt;sklearn.compose._column_transformer.make_column_selector object at 0x7f66faf312d0&gt;),\n",
              "                                (&#x27;onehotencoder&#x27;,\n",
              "                                 OneHotEncoder(handle_unknown=&#x27;ignore&#x27;,\n",
              "                                               sparse=False),\n",
              "                                 &lt;sklearn.compose._column_transformer.make_column_selector object at 0x7f66faf31c10&gt;)])</pre></div></div></div><div class=\"sk-parallel\"><div class=\"sk-parallel-item\"><div class=\"sk-item\"><div class=\"sk-label-container\"><div class=\"sk-label sk-toggleable\"><input class=\"sk-toggleable__control sk-hidden--visually\" id=\"18175f23-4961-450e-9e10-ac67a5f23fad\" type=\"checkbox\" ><label for=\"18175f23-4961-450e-9e10-ac67a5f23fad\" class=\"sk-toggleable__label sk-toggleable__label-arrow\">standardscaler</label><div class=\"sk-toggleable__content\"><pre>&lt;sklearn.compose._column_transformer.make_column_selector object at 0x7f66faf312d0&gt;</pre></div></div></div><div class=\"sk-serial\"><div class=\"sk-item\"><div class=\"sk-estimator sk-toggleable\"><input class=\"sk-toggleable__control sk-hidden--visually\" id=\"3d0658f6-35e7-431a-99bb-408412ec898b\" type=\"checkbox\" ><label for=\"3d0658f6-35e7-431a-99bb-408412ec898b\" class=\"sk-toggleable__label sk-toggleable__label-arrow\">StandardScaler</label><div class=\"sk-toggleable__content\"><pre>StandardScaler()</pre></div></div></div></div></div></div><div class=\"sk-parallel-item\"><div class=\"sk-item\"><div class=\"sk-label-container\"><div class=\"sk-label sk-toggleable\"><input class=\"sk-toggleable__control sk-hidden--visually\" id=\"038e88e5-cc20-44d8-beee-f8ea893240ab\" type=\"checkbox\" ><label for=\"038e88e5-cc20-44d8-beee-f8ea893240ab\" class=\"sk-toggleable__label sk-toggleable__label-arrow\">onehotencoder</label><div class=\"sk-toggleable__content\"><pre>&lt;sklearn.compose._column_transformer.make_column_selector object at 0x7f66faf31c10&gt;</pre></div></div></div><div class=\"sk-serial\"><div class=\"sk-item\"><div class=\"sk-estimator sk-toggleable\"><input class=\"sk-toggleable__control sk-hidden--visually\" id=\"abd546a2-3a67-4764-9b32-1a91e4e9c576\" type=\"checkbox\" ><label for=\"abd546a2-3a67-4764-9b32-1a91e4e9c576\" class=\"sk-toggleable__label sk-toggleable__label-arrow\">OneHotEncoder</label><div class=\"sk-toggleable__content\"><pre>OneHotEncoder(handle_unknown=&#x27;ignore&#x27;, sparse=False)</pre></div></div></div></div></div></div></div></div><div class=\"sk-item\"><div class=\"sk-estimator sk-toggleable\"><input class=\"sk-toggleable__control sk-hidden--visually\" id=\"e7607db7-96c8-4df1-aec8-84b812966380\" type=\"checkbox\" ><label for=\"e7607db7-96c8-4df1-aec8-84b812966380\" class=\"sk-toggleable__label sk-toggleable__label-arrow\">DummyRegressor</label><div class=\"sk-toggleable__content\"><pre>DummyRegressor()</pre></div></div></div></div></div></div></div>"
            ]
          },
          "metadata": {},
          "execution_count": 14
        }
      ]
    },
    {
      "cell_type": "code",
      "source": [
        "train_pred = dummy_pipe.predict(X_train)\n",
        "test_pred = dummy_pipe.predict(X_test)"
      ],
      "metadata": {
        "id": "b0b862nphKn8"
      },
      "execution_count": null,
      "outputs": []
    },
    {
      "cell_type": "markdown",
      "source": [
        "# Calculating Regression Metrics\n",
        "\n",
        "## Refer to [this lesson](https://login.codingdojo.com/m/213/7197/70300) for instructions on how to calculate regression metrics in Python.\n",
        "\n",
        "The R^2 scores for the baseline model should be at or very close to 0.\n",
        "\n"
      ],
      "metadata": {
        "id": "D4EaiwDCza4w"
      }
    },
    {
      "cell_type": "code",
      "source": [
        "# find MAE, MSE, RMSE and R2 on the baseline model for both the train and test data\n"
      ],
      "metadata": {
        "id": "TAGxjMc3x8SL"
      },
      "execution_count": null,
      "outputs": []
    },
    {
      "cell_type": "markdown",
      "source": [
        "### Linear Regression Model with Pipeline\n",
        "Instantiate a linear regression model. Put your ColumnTransformer and linear regression model into a pipeline. Fit your pipe on the training data."
      ],
      "metadata": {
        "id": "gh9WUuYQzi0R"
      }
    },
    {
      "cell_type": "code",
      "source": [
        "# instantiate a linear regression model\n",
        "\n",
        "# combine the preprocessor object and the linear regression model in a pipeline\n",
        "\n",
        "# fit your pipe on the training data\n"
      ],
      "metadata": {
        "id": "Zcl1DGMQZhRi"
      },
      "execution_count": null,
      "outputs": []
    },
    {
      "cell_type": "code",
      "source": [
        "# find MAE, MSE, RMSE and R2 on the linear regression model for both the train and test data\n"
      ],
      "metadata": {
        "id": "gNpZz9XVrpG4"
      },
      "execution_count": null,
      "outputs": []
    },
    {
      "cell_type": "markdown",
      "source": [
        "# Discuss: What do these metrics tell you?\n",
        "1. Which is better, the baseline or the linear regression?  How do you know?\n",
        "2. Whic is more important in this case, MAE or RMSE?\n",
        "3. Is the linear regression model making a lot of large errors?  How can you tell?\n",
        "4. How much of the variation in the target is your model able to explain?"
      ],
      "metadata": {
        "id": "epP8MTV-UEPw"
      }
    },
    {
      "cell_type": "markdown",
      "source": [
        "# Bonus:\n",
        "If you finish early, test some other types of models on this data to see if they can perform better than the linear regression:\n",
        "\n",
        "Some suggestions:\n",
        "1. [DecisionTreeRegressor](https://scikit-learn.org/stable/modules/generated/sklearn.tree.DecisionTreeRegressor.html)\n",
        "2. [KNeighborsRegressor](https://scikit-learn.org/stable/modules/generated/sklearn.neighbors.KNeighborsRegressor.html)\n",
        "3. [SGDRegressor](https://scikit-learn.org/stable/modules/generated/sklearn.linear_model.SGDRegressor.html#sklearn.linear_model.SGDRegressor)\n",
        "4. Try one from the list of regression models near the bottom of [this article.](https://www.educative.io/blog/scikit-learn-cheat-sheet-classification-regression-methods)"
      ],
      "metadata": {
        "id": "dS9T_burUbwB"
      }
    },
    {
      "cell_type": "code",
      "source": [
        ""
      ],
      "metadata": {
        "id": "6I14DUJtyeME"
      },
      "execution_count": null,
      "outputs": []
    }
  ]
}
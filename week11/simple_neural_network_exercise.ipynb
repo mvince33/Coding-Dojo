{
  "nbformat": 4,
  "nbformat_minor": 0,
  "metadata": {
    "colab": {
      "name": "simple_neural_network_exercise.ipynb",
      "provenance": [],
      "authorship_tag": "ABX9TyNehdn32K3J0xG/DPtaEzuC",
      "include_colab_link": true
    },
    "kernelspec": {
      "name": "python3",
      "display_name": "Python 3"
    },
    "language_info": {
      "name": "python"
    }
  },
  "cells": [
    {
      "cell_type": "markdown",
      "metadata": {
        "id": "view-in-github",
        "colab_type": "text"
      },
      "source": [
        "<a href=\"https://colab.research.google.com/github/mvince33/Coding-Dojo/blob/main/week11/simple_neural_network_exercise.ipynb\" target=\"_parent\"><img src=\"https://colab.research.google.com/assets/colab-badge.svg\" alt=\"Open In Colab\"/></a>"
      ]
    },
    {
      "cell_type": "markdown",
      "source": [
        "# Simple Neural Network Exercise\n",
        "- Michael Vincent\n",
        "- 8/25"
      ],
      "metadata": {
        "id": "pdxYNfZZeLqZ"
      }
    },
    {
      "cell_type": "markdown",
      "source": [
        "## Imports"
      ],
      "metadata": {
        "id": "swDzm83ZeR4V"
      }
    },
    {
      "cell_type": "code",
      "execution_count": 64,
      "metadata": {
        "id": "-OcVxf3oeEWQ"
      },
      "outputs": [],
      "source": [
        "# Imports\n",
        "import numpy as np\n",
        "import pandas as pd\n",
        "import matplotlib.pyplot as plt\n",
        "from sklearn.model_selection import train_test_split\n",
        "from sklearn.preprocessing import StandardScaler, OneHotEncoder\n",
        "from sklearn.compose import make_column_selector, make_column_transformer\n",
        "from tensorflow.keras.models import Sequential\n",
        "from tensorflow.keras.layers import Dense"
      ]
    },
    {
      "cell_type": "markdown",
      "source": [
        "## Load the data"
      ],
      "metadata": {
        "id": "5PHCZ44seW91"
      }
    },
    {
      "cell_type": "code",
      "source": [
        "# Load the data\n",
        "url = 'https://docs.google.com/spreadsheets/d/e/2PACX-1vQPIHj2zduhCmXT44ZMBjUJ6d0CaFmEIheo4D0k-4jJGD-po7W-mebgUCYxxzVfpi3qLI_vKwOp4U3F/pub?output=csv'\n",
        "df = pd.read_csv(url)\n",
        "df.head()"
      ],
      "metadata": {
        "colab": {
          "base_uri": "https://localhost:8080/",
          "height": 270
        },
        "id": "_K5z9MF8eRIC",
        "outputId": "9ef4bac9-aecd-49db-ffd5-bb1a30102cf0"
      },
      "execution_count": 65,
      "outputs": [
        {
          "output_type": "execute_result",
          "data": {
            "text/plain": [
              "   Age Sex ChestPainType  RestingBP  Cholesterol  FastingBS RestingECG  MaxHR  \\\n",
              "0   40   M           ATA        140          289          0     Normal    172   \n",
              "1   49   F           NAP        160          180          0     Normal    156   \n",
              "2   37   M           ATA        130          283          0         ST     98   \n",
              "3   48   F           ASY        138          214          0     Normal    108   \n",
              "4   54   M           NAP        150          195          0     Normal    122   \n",
              "\n",
              "  ExerciseAngina  Oldpeak ST_Slope  HeartDisease  \n",
              "0              N      0.0       Up             0  \n",
              "1              N      1.0     Flat             1  \n",
              "2              N      0.0       Up             0  \n",
              "3              Y      1.5     Flat             1  \n",
              "4              N      0.0       Up             0  "
            ],
            "text/html": [
              "\n",
              "  <div id=\"df-8675da68-a810-42c4-8b54-e5764be89792\">\n",
              "    <div class=\"colab-df-container\">\n",
              "      <div>\n",
              "<style scoped>\n",
              "    .dataframe tbody tr th:only-of-type {\n",
              "        vertical-align: middle;\n",
              "    }\n",
              "\n",
              "    .dataframe tbody tr th {\n",
              "        vertical-align: top;\n",
              "    }\n",
              "\n",
              "    .dataframe thead th {\n",
              "        text-align: right;\n",
              "    }\n",
              "</style>\n",
              "<table border=\"1\" class=\"dataframe\">\n",
              "  <thead>\n",
              "    <tr style=\"text-align: right;\">\n",
              "      <th></th>\n",
              "      <th>Age</th>\n",
              "      <th>Sex</th>\n",
              "      <th>ChestPainType</th>\n",
              "      <th>RestingBP</th>\n",
              "      <th>Cholesterol</th>\n",
              "      <th>FastingBS</th>\n",
              "      <th>RestingECG</th>\n",
              "      <th>MaxHR</th>\n",
              "      <th>ExerciseAngina</th>\n",
              "      <th>Oldpeak</th>\n",
              "      <th>ST_Slope</th>\n",
              "      <th>HeartDisease</th>\n",
              "    </tr>\n",
              "  </thead>\n",
              "  <tbody>\n",
              "    <tr>\n",
              "      <th>0</th>\n",
              "      <td>40</td>\n",
              "      <td>M</td>\n",
              "      <td>ATA</td>\n",
              "      <td>140</td>\n",
              "      <td>289</td>\n",
              "      <td>0</td>\n",
              "      <td>Normal</td>\n",
              "      <td>172</td>\n",
              "      <td>N</td>\n",
              "      <td>0.0</td>\n",
              "      <td>Up</td>\n",
              "      <td>0</td>\n",
              "    </tr>\n",
              "    <tr>\n",
              "      <th>1</th>\n",
              "      <td>49</td>\n",
              "      <td>F</td>\n",
              "      <td>NAP</td>\n",
              "      <td>160</td>\n",
              "      <td>180</td>\n",
              "      <td>0</td>\n",
              "      <td>Normal</td>\n",
              "      <td>156</td>\n",
              "      <td>N</td>\n",
              "      <td>1.0</td>\n",
              "      <td>Flat</td>\n",
              "      <td>1</td>\n",
              "    </tr>\n",
              "    <tr>\n",
              "      <th>2</th>\n",
              "      <td>37</td>\n",
              "      <td>M</td>\n",
              "      <td>ATA</td>\n",
              "      <td>130</td>\n",
              "      <td>283</td>\n",
              "      <td>0</td>\n",
              "      <td>ST</td>\n",
              "      <td>98</td>\n",
              "      <td>N</td>\n",
              "      <td>0.0</td>\n",
              "      <td>Up</td>\n",
              "      <td>0</td>\n",
              "    </tr>\n",
              "    <tr>\n",
              "      <th>3</th>\n",
              "      <td>48</td>\n",
              "      <td>F</td>\n",
              "      <td>ASY</td>\n",
              "      <td>138</td>\n",
              "      <td>214</td>\n",
              "      <td>0</td>\n",
              "      <td>Normal</td>\n",
              "      <td>108</td>\n",
              "      <td>Y</td>\n",
              "      <td>1.5</td>\n",
              "      <td>Flat</td>\n",
              "      <td>1</td>\n",
              "    </tr>\n",
              "    <tr>\n",
              "      <th>4</th>\n",
              "      <td>54</td>\n",
              "      <td>M</td>\n",
              "      <td>NAP</td>\n",
              "      <td>150</td>\n",
              "      <td>195</td>\n",
              "      <td>0</td>\n",
              "      <td>Normal</td>\n",
              "      <td>122</td>\n",
              "      <td>N</td>\n",
              "      <td>0.0</td>\n",
              "      <td>Up</td>\n",
              "      <td>0</td>\n",
              "    </tr>\n",
              "  </tbody>\n",
              "</table>\n",
              "</div>\n",
              "      <button class=\"colab-df-convert\" onclick=\"convertToInteractive('df-8675da68-a810-42c4-8b54-e5764be89792')\"\n",
              "              title=\"Convert this dataframe to an interactive table.\"\n",
              "              style=\"display:none;\">\n",
              "        \n",
              "  <svg xmlns=\"http://www.w3.org/2000/svg\" height=\"24px\"viewBox=\"0 0 24 24\"\n",
              "       width=\"24px\">\n",
              "    <path d=\"M0 0h24v24H0V0z\" fill=\"none\"/>\n",
              "    <path d=\"M18.56 5.44l.94 2.06.94-2.06 2.06-.94-2.06-.94-.94-2.06-.94 2.06-2.06.94zm-11 1L8.5 8.5l.94-2.06 2.06-.94-2.06-.94L8.5 2.5l-.94 2.06-2.06.94zm10 10l.94 2.06.94-2.06 2.06-.94-2.06-.94-.94-2.06-.94 2.06-2.06.94z\"/><path d=\"M17.41 7.96l-1.37-1.37c-.4-.4-.92-.59-1.43-.59-.52 0-1.04.2-1.43.59L10.3 9.45l-7.72 7.72c-.78.78-.78 2.05 0 2.83L4 21.41c.39.39.9.59 1.41.59.51 0 1.02-.2 1.41-.59l7.78-7.78 2.81-2.81c.8-.78.8-2.07 0-2.86zM5.41 20L4 18.59l7.72-7.72 1.47 1.35L5.41 20z\"/>\n",
              "  </svg>\n",
              "      </button>\n",
              "      \n",
              "  <style>\n",
              "    .colab-df-container {\n",
              "      display:flex;\n",
              "      flex-wrap:wrap;\n",
              "      gap: 12px;\n",
              "    }\n",
              "\n",
              "    .colab-df-convert {\n",
              "      background-color: #E8F0FE;\n",
              "      border: none;\n",
              "      border-radius: 50%;\n",
              "      cursor: pointer;\n",
              "      display: none;\n",
              "      fill: #1967D2;\n",
              "      height: 32px;\n",
              "      padding: 0 0 0 0;\n",
              "      width: 32px;\n",
              "    }\n",
              "\n",
              "    .colab-df-convert:hover {\n",
              "      background-color: #E2EBFA;\n",
              "      box-shadow: 0px 1px 2px rgba(60, 64, 67, 0.3), 0px 1px 3px 1px rgba(60, 64, 67, 0.15);\n",
              "      fill: #174EA6;\n",
              "    }\n",
              "\n",
              "    [theme=dark] .colab-df-convert {\n",
              "      background-color: #3B4455;\n",
              "      fill: #D2E3FC;\n",
              "    }\n",
              "\n",
              "    [theme=dark] .colab-df-convert:hover {\n",
              "      background-color: #434B5C;\n",
              "      box-shadow: 0px 1px 3px 1px rgba(0, 0, 0, 0.15);\n",
              "      filter: drop-shadow(0px 1px 2px rgba(0, 0, 0, 0.3));\n",
              "      fill: #FFFFFF;\n",
              "    }\n",
              "  </style>\n",
              "\n",
              "      <script>\n",
              "        const buttonEl =\n",
              "          document.querySelector('#df-8675da68-a810-42c4-8b54-e5764be89792 button.colab-df-convert');\n",
              "        buttonEl.style.display =\n",
              "          google.colab.kernel.accessAllowed ? 'block' : 'none';\n",
              "\n",
              "        async function convertToInteractive(key) {\n",
              "          const element = document.querySelector('#df-8675da68-a810-42c4-8b54-e5764be89792');\n",
              "          const dataTable =\n",
              "            await google.colab.kernel.invokeFunction('convertToInteractive',\n",
              "                                                     [key], {});\n",
              "          if (!dataTable) return;\n",
              "\n",
              "          const docLinkHtml = 'Like what you see? Visit the ' +\n",
              "            '<a target=\"_blank\" href=https://colab.research.google.com/notebooks/data_table.ipynb>data table notebook</a>'\n",
              "            + ' to learn more about interactive tables.';\n",
              "          element.innerHTML = '';\n",
              "          dataTable['output_type'] = 'display_data';\n",
              "          await google.colab.output.renderOutput(dataTable, element);\n",
              "          const docLink = document.createElement('div');\n",
              "          docLink.innerHTML = docLinkHtml;\n",
              "          element.appendChild(docLink);\n",
              "        }\n",
              "      </script>\n",
              "    </div>\n",
              "  </div>\n",
              "  "
            ]
          },
          "metadata": {},
          "execution_count": 65
        }
      ]
    },
    {
      "cell_type": "markdown",
      "source": [
        "## Clean the data"
      ],
      "metadata": {
        "id": "9FjeM5aRjA9j"
      }
    },
    {
      "cell_type": "code",
      "source": [
        "# Check for duplicates and missing values\n",
        "print('Duplicates:', df.duplicated().sum())\n",
        "print('Missing Values:', df.isna().sum().sum())"
      ],
      "metadata": {
        "id": "AdMZLEX4ebaO",
        "outputId": "ece6a2c0-a4aa-4ea2-d93f-98105ac9a2dd",
        "colab": {
          "base_uri": "https://localhost:8080/"
        }
      },
      "execution_count": 66,
      "outputs": [
        {
          "output_type": "stream",
          "name": "stdout",
          "text": [
            "Duplicates: 0\n",
            "Missing Values: 0\n"
          ]
        }
      ]
    },
    {
      "cell_type": "code",
      "source": [
        "# Check for inconsistent labels\n",
        "cat_cols = df.select_dtypes(include = 'object')\n",
        "for col in cat_cols:\n",
        "  print(col)\n",
        "  print(df[col].value_counts())"
      ],
      "metadata": {
        "id": "Pp0L9LoijMJ8",
        "outputId": "20c7cd37-b32f-4e30-fcbc-7417fb8b3995",
        "colab": {
          "base_uri": "https://localhost:8080/"
        }
      },
      "execution_count": 67,
      "outputs": [
        {
          "output_type": "stream",
          "name": "stdout",
          "text": [
            "Sex\n",
            "M    725\n",
            "F    193\n",
            "Name: Sex, dtype: int64\n",
            "ChestPainType\n",
            "ASY    496\n",
            "NAP    203\n",
            "ATA    173\n",
            "TA      46\n",
            "Name: ChestPainType, dtype: int64\n",
            "RestingECG\n",
            "Normal    552\n",
            "LVH       188\n",
            "ST        178\n",
            "Name: RestingECG, dtype: int64\n",
            "ExerciseAngina\n",
            "N    547\n",
            "Y    371\n",
            "Name: ExerciseAngina, dtype: int64\n",
            "ST_Slope\n",
            "Flat    460\n",
            "Up      395\n",
            "Down     63\n",
            "Name: ST_Slope, dtype: int64\n"
          ]
        }
      ]
    },
    {
      "cell_type": "code",
      "source": [
        "# Check the balance\n",
        "df['HeartDisease'].mean()"
      ],
      "metadata": {
        "id": "tSr_J_pIj28j",
        "outputId": "86b16a34-0170-402c-a293-11dc25d0618d",
        "colab": {
          "base_uri": "https://localhost:8080/"
        }
      },
      "execution_count": 68,
      "outputs": [
        {
          "output_type": "execute_result",
          "data": {
            "text/plain": [
              "0.5533769063180828"
            ]
          },
          "metadata": {},
          "execution_count": 68
        }
      ]
    },
    {
      "cell_type": "markdown",
      "source": [
        "> Data looks reasonably clean. We will move on to modeling."
      ],
      "metadata": {
        "id": "aNLdT6sWkAgt"
      }
    },
    {
      "cell_type": "markdown",
      "source": [
        "## Process the data"
      ],
      "metadata": {
        "id": "DL6oYQLEkILY"
      }
    },
    {
      "cell_type": "code",
      "source": [
        "# Set the features and target\n",
        "X = df.drop(columns = 'HeartDisease')\n",
        "y = df['HeartDisease']"
      ],
      "metadata": {
        "id": "Wh_nGg2AkGdY"
      },
      "execution_count": 69,
      "outputs": []
    },
    {
      "cell_type": "code",
      "source": [
        "# Split the data\n",
        "X_train, X_test, y_train, y_test = train_test_split(X, y, random_state = 42)"
      ],
      "metadata": {
        "id": "J1IfLZS-kRDB"
      },
      "execution_count": 70,
      "outputs": []
    },
    {
      "cell_type": "markdown",
      "source": [
        "## Column Transformer"
      ],
      "metadata": {
        "id": "Q3KYyXSNl4MG"
      }
    },
    {
      "cell_type": "code",
      "source": [
        "# Make column selectors\n",
        "cat_selector = make_column_selector(dtype_include = 'object')\n",
        "num_selector = make_column_selector(dtype_include = 'number')"
      ],
      "metadata": {
        "id": "hEXUSDghkmUL"
      },
      "execution_count": 71,
      "outputs": []
    },
    {
      "cell_type": "code",
      "source": [
        "# Make tuples for the column selector\n",
        "cat_tuple = (OneHotEncoder(sparse = False, handle_unknown = 'ignore'), cat_selector)\n",
        "num_tuple = (StandardScaler(), num_selector)"
      ],
      "metadata": {
        "id": "W1O_wgV8mFaV"
      },
      "execution_count": 72,
      "outputs": []
    },
    {
      "cell_type": "code",
      "source": [
        "# Construct the column transformer\n",
        "col_transformer = make_column_transformer(cat_tuple, num_tuple, remainder = 'passthrough')"
      ],
      "metadata": {
        "id": "W7R9gn72mYG_"
      },
      "execution_count": 73,
      "outputs": []
    },
    {
      "cell_type": "code",
      "source": [
        "# Transform the data\n",
        "X_train = col_transformer.fit_transform(X_train)\n",
        "X_test = col_transformer.fit_transform(X_test)"
      ],
      "metadata": {
        "id": "RQlMAnYLq6TW"
      },
      "execution_count": 74,
      "outputs": []
    },
    {
      "cell_type": "markdown",
      "source": [
        "## Model Construction"
      ],
      "metadata": {
        "id": "-b4SrAAkmhgO"
      }
    },
    {
      "cell_type": "code",
      "source": [
        "# Get the number of nodes for the input layer\n",
        "input_nodes = X_train.shape[1]\n",
        "input_nodes"
      ],
      "metadata": {
        "id": "f2Vbjfgwmg2E",
        "outputId": "391ef5f3-a70f-424c-98b1-138252eb42b5",
        "colab": {
          "base_uri": "https://localhost:8080/"
        }
      },
      "execution_count": 75,
      "outputs": [
        {
          "output_type": "execute_result",
          "data": {
            "text/plain": [
              "20"
            ]
          },
          "metadata": {},
          "execution_count": 75
        }
      ]
    },
    {
      "cell_type": "code",
      "source": [
        "# Instantiate a model\n",
        "model = Sequential()"
      ],
      "metadata": {
        "id": "czBhNqmdpdwO"
      },
      "execution_count": 76,
      "outputs": []
    },
    {
      "cell_type": "code",
      "source": [
        "# Add the first hidden layer\n",
        "model.add(Dense(10, \n",
        "                input_dim = input_nodes,\n",
        "                activation = 'relu'))"
      ],
      "metadata": {
        "id": "VLZgA-flpgRj"
      },
      "execution_count": 77,
      "outputs": []
    },
    {
      "cell_type": "code",
      "source": [
        "# Add another hidder layer\n",
        "model.add(Dense(10, activation = 'relu'))"
      ],
      "metadata": {
        "id": "ivcFsdUxp67L"
      },
      "execution_count": 78,
      "outputs": []
    },
    {
      "cell_type": "code",
      "source": [
        "# Add the output layer\n",
        "model.add(Dense(1, activation = 'sigmoid'))"
      ],
      "metadata": {
        "id": "kXUPrCgeqArY"
      },
      "execution_count": 79,
      "outputs": []
    },
    {
      "cell_type": "code",
      "source": [
        "# Compile the model\n",
        "model.compile(loss = 'bce', optimizer = 'adam')"
      ],
      "metadata": {
        "id": "eiAD7OWdqIYI"
      },
      "execution_count": 80,
      "outputs": []
    },
    {
      "cell_type": "code",
      "source": [
        "# Fit the model\n",
        "history = model.fit(X_train, y_train,\n",
        "                    validation_data = (X_test, y_test), \n",
        "                    epochs = 50)"
      ],
      "metadata": {
        "id": "oM5JaoIvqVid",
        "outputId": "03b5357b-2c4c-442c-9242-42e8dbd326de",
        "colab": {
          "base_uri": "https://localhost:8080/"
        }
      },
      "execution_count": 81,
      "outputs": [
        {
          "output_type": "stream",
          "name": "stdout",
          "text": [
            "Epoch 1/50\n",
            "22/22 [==============================] - 1s 9ms/step - loss: 0.6026 - val_loss: 0.5587\n",
            "Epoch 2/50\n",
            "22/22 [==============================] - 0s 4ms/step - loss: 0.5303 - val_loss: 0.4954\n",
            "Epoch 3/50\n",
            "22/22 [==============================] - 0s 3ms/step - loss: 0.4708 - val_loss: 0.4447\n",
            "Epoch 4/50\n",
            "22/22 [==============================] - 0s 3ms/step - loss: 0.4281 - val_loss: 0.4064\n",
            "Epoch 5/50\n",
            "22/22 [==============================] - 0s 3ms/step - loss: 0.3988 - val_loss: 0.3813\n",
            "Epoch 6/50\n",
            "22/22 [==============================] - 0s 4ms/step - loss: 0.3783 - val_loss: 0.3696\n",
            "Epoch 7/50\n",
            "22/22 [==============================] - 0s 3ms/step - loss: 0.3644 - val_loss: 0.3563\n",
            "Epoch 8/50\n",
            "22/22 [==============================] - 0s 3ms/step - loss: 0.3535 - val_loss: 0.3478\n",
            "Epoch 9/50\n",
            "22/22 [==============================] - 0s 3ms/step - loss: 0.3449 - val_loss: 0.3428\n",
            "Epoch 10/50\n",
            "22/22 [==============================] - 0s 4ms/step - loss: 0.3384 - val_loss: 0.3394\n",
            "Epoch 11/50\n",
            "22/22 [==============================] - 0s 4ms/step - loss: 0.3328 - val_loss: 0.3332\n",
            "Epoch 12/50\n",
            "22/22 [==============================] - 0s 4ms/step - loss: 0.3288 - val_loss: 0.3360\n",
            "Epoch 13/50\n",
            "22/22 [==============================] - 0s 4ms/step - loss: 0.3235 - val_loss: 0.3309\n",
            "Epoch 14/50\n",
            "22/22 [==============================] - 0s 4ms/step - loss: 0.3201 - val_loss: 0.3321\n",
            "Epoch 15/50\n",
            "22/22 [==============================] - 0s 3ms/step - loss: 0.3171 - val_loss: 0.3314\n",
            "Epoch 16/50\n",
            "22/22 [==============================] - 0s 3ms/step - loss: 0.3152 - val_loss: 0.3279\n",
            "Epoch 17/50\n",
            "22/22 [==============================] - 0s 3ms/step - loss: 0.3128 - val_loss: 0.3303\n",
            "Epoch 18/50\n",
            "22/22 [==============================] - 0s 3ms/step - loss: 0.3104 - val_loss: 0.3276\n",
            "Epoch 19/50\n",
            "22/22 [==============================] - 0s 3ms/step - loss: 0.3091 - val_loss: 0.3286\n",
            "Epoch 20/50\n",
            "22/22 [==============================] - 0s 3ms/step - loss: 0.3067 - val_loss: 0.3272\n",
            "Epoch 21/50\n",
            "22/22 [==============================] - 0s 3ms/step - loss: 0.3056 - val_loss: 0.3273\n",
            "Epoch 22/50\n",
            "22/22 [==============================] - 0s 3ms/step - loss: 0.3037 - val_loss: 0.3274\n",
            "Epoch 23/50\n",
            "22/22 [==============================] - 0s 4ms/step - loss: 0.3024 - val_loss: 0.3274\n",
            "Epoch 24/50\n",
            "22/22 [==============================] - 0s 4ms/step - loss: 0.3012 - val_loss: 0.3266\n",
            "Epoch 25/50\n",
            "22/22 [==============================] - 0s 4ms/step - loss: 0.3001 - val_loss: 0.3240\n",
            "Epoch 26/50\n",
            "22/22 [==============================] - 0s 3ms/step - loss: 0.2988 - val_loss: 0.3309\n",
            "Epoch 27/50\n",
            "22/22 [==============================] - 0s 3ms/step - loss: 0.2975 - val_loss: 0.3268\n",
            "Epoch 28/50\n",
            "22/22 [==============================] - 0s 3ms/step - loss: 0.2959 - val_loss: 0.3246\n",
            "Epoch 29/50\n",
            "22/22 [==============================] - 0s 3ms/step - loss: 0.2944 - val_loss: 0.3275\n",
            "Epoch 30/50\n",
            "22/22 [==============================] - 0s 4ms/step - loss: 0.2934 - val_loss: 0.3254\n",
            "Epoch 31/50\n",
            "22/22 [==============================] - 0s 4ms/step - loss: 0.2929 - val_loss: 0.3254\n",
            "Epoch 32/50\n",
            "22/22 [==============================] - 0s 3ms/step - loss: 0.2911 - val_loss: 0.3308\n",
            "Epoch 33/50\n",
            "22/22 [==============================] - 0s 3ms/step - loss: 0.2904 - val_loss: 0.3278\n",
            "Epoch 34/50\n",
            "22/22 [==============================] - 0s 4ms/step - loss: 0.2892 - val_loss: 0.3253\n",
            "Epoch 35/50\n",
            "22/22 [==============================] - 0s 3ms/step - loss: 0.2888 - val_loss: 0.3244\n",
            "Epoch 36/50\n",
            "22/22 [==============================] - 0s 3ms/step - loss: 0.2877 - val_loss: 0.3214\n",
            "Epoch 37/50\n",
            "22/22 [==============================] - 0s 3ms/step - loss: 0.2865 - val_loss: 0.3251\n",
            "Epoch 38/50\n",
            "22/22 [==============================] - 0s 4ms/step - loss: 0.2858 - val_loss: 0.3261\n",
            "Epoch 39/50\n",
            "22/22 [==============================] - 0s 3ms/step - loss: 0.2847 - val_loss: 0.3245\n",
            "Epoch 40/50\n",
            "22/22 [==============================] - 0s 3ms/step - loss: 0.2841 - val_loss: 0.3218\n",
            "Epoch 41/50\n",
            "22/22 [==============================] - 0s 4ms/step - loss: 0.2832 - val_loss: 0.3239\n",
            "Epoch 42/50\n",
            "22/22 [==============================] - 0s 3ms/step - loss: 0.2840 - val_loss: 0.3246\n",
            "Epoch 43/50\n",
            "22/22 [==============================] - 0s 4ms/step - loss: 0.2826 - val_loss: 0.3183\n",
            "Epoch 44/50\n",
            "22/22 [==============================] - 0s 4ms/step - loss: 0.2808 - val_loss: 0.3225\n",
            "Epoch 45/50\n",
            "22/22 [==============================] - 0s 4ms/step - loss: 0.2803 - val_loss: 0.3261\n",
            "Epoch 46/50\n",
            "22/22 [==============================] - 0s 3ms/step - loss: 0.2793 - val_loss: 0.3227\n",
            "Epoch 47/50\n",
            "22/22 [==============================] - 0s 4ms/step - loss: 0.2784 - val_loss: 0.3227\n",
            "Epoch 48/50\n",
            "22/22 [==============================] - 0s 3ms/step - loss: 0.2786 - val_loss: 0.3262\n",
            "Epoch 49/50\n",
            "22/22 [==============================] - 0s 3ms/step - loss: 0.2777 - val_loss: 0.3179\n",
            "Epoch 50/50\n",
            "22/22 [==============================] - 0s 4ms/step - loss: 0.2764 - val_loss: 0.3211\n"
          ]
        }
      ]
    },
    {
      "cell_type": "code",
      "source": [
        "# Plot the history\n",
        "plt.plot(history.history['loss'], label = 'Train Loss')\n",
        "plt.plot(history.history['val_loss'], label = 'Test Loss')\n",
        "plt.legend()"
      ],
      "metadata": {
        "id": "TXeN3gKgqg1g",
        "outputId": "63699f0e-c258-4984-c90a-d47375cd622e",
        "colab": {
          "base_uri": "https://localhost:8080/",
          "height": 282
        }
      },
      "execution_count": 82,
      "outputs": [
        {
          "output_type": "execute_result",
          "data": {
            "text/plain": [
              "<matplotlib.legend.Legend at 0x7f1e23cd2850>"
            ]
          },
          "metadata": {},
          "execution_count": 82
        },
        {
          "output_type": "display_data",
          "data": {
            "text/plain": [
              "<Figure size 432x288 with 1 Axes>"
            ],
            "image/png": "[encoded data removed]"
          },
          "metadata": {
            "needs_background": "light"
          }
        }
      ]
    }
  ]
}
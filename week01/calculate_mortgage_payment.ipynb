{
  "nbformat": 4,
  "nbformat_minor": 0,
  "metadata": {
    "colab": {
      "name": "calculate_mortgage_payment.ipynb",
      "provenance": [],
      "authorship_tag": "ABX9TyPdrsGygk14oQ0us1u2fSf8",
      "include_colab_link": true
    },
    "kernelspec": {
      "name": "python3",
      "display_name": "Python 3"
    },
    "language_info": {
      "name": "python"
    }
  },
  "cells": [
    {
      "cell_type": "markdown",
      "metadata": {
        "id": "view-in-github",
        "colab_type": "text"
      },
      "source": [
        "<a href=\"https://colab.research.google.com/github/mvince33/Coding-Dojo/blob/main/week01/calculate_mortgage_payment.ipynb\" target=\"_parent\"><img src=\"https://colab.research.google.com/assets/colab-badge.svg\" alt=\"Open In Colab\"/></a>"
      ]
    },
    {
      "cell_type": "code",
      "execution_count": null,
      "metadata": {
        "colab": {
          "base_uri": "https://localhost:8080/"
        },
        "id": "NqJA9-N_J2Su",
        "outputId": "ded78ebf-e941-4db9-e468-df79aba319c0"
      },
      "outputs": [
        {
          "output_type": "stream",
          "name": "stdout",
          "text": [
            "The mortgage for a rate of 3% is $1686.42.\n",
            "It costs $711.79 more per month if the rate is 6%\n"
          ]
        }
      ],
      "source": [
        "def calc_payment(P, r, n):\n",
        "  return (P * r) / (1 - (1 + r)**(-n))\n",
        "\n",
        "pmnt1 = calc_payment(400000, 0.03 / 12, 360)\n",
        "pmnt2 = calc_payment(400000, 0.06 / 12, 360)\n",
        "\n",
        "print(f\"The mortgage for a rate of 3% is ${round(pmnt1,2)}.\")\n",
        "print(f\"It costs ${round(pmnt2 - pmnt1, 2)} more per month if the rate is 6%\")"
      ]
    },
    {
      "cell_type": "code",
      "source": [
        ""
      ],
      "metadata": {
        "id": "_BsXiXnSKUMI"
      },
      "execution_count": null,
      "outputs": []
    }
  ]
}
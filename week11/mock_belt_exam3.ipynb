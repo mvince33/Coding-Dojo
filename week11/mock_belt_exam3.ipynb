{
  "nbformat": 4,
  "nbformat_minor": 0,
  "metadata": {
    "colab": {
      "name": "mock_belt_exam3.ipynb",
      "provenance": [],
      "authorship_tag": "ABX9TyMN0DdZFX2xK58Zjjk3u07i",
      "include_colab_link": true
    },
    "kernelspec": {
      "name": "python3",
      "display_name": "Python 3"
    },
    "language_info": {
      "name": "python"
    }
  },
  "cells": [
    {
      "cell_type": "markdown",
      "metadata": {
        "id": "view-in-github",
        "colab_type": "text"
      },
      "source": [
        "<a href=\"https://colab.research.google.com/github/mvince33/Coding-Dojo/blob/main/week11/mock_belt_exam3.ipynb\" target=\"_parent\"><img src=\"https://colab.research.google.com/assets/colab-badge.svg\" alt=\"Open In Colab\"/></a>"
      ]
    },
    {
      "cell_type": "code",
      "execution_count": 1,
      "metadata": {
        "id": "03WxLgcZ1WO7"
      },
      "outputs": [],
      "source": [
        "# Imports\n",
        "import numpy as np\n",
        "import pandas as pd\n",
        "import matplotlib.pyplot as plt\n",
        "\n",
        "# Keras\n",
        "\n",
        "# Sci-kit Learn"
      ]
    },
    {
      "cell_type": "code",
      "source": [
        "# Load the data\n",
        "url = ''"
      ],
      "metadata": {
        "id": "HYcDTpPr1gJ4"
      },
      "execution_count": 2,
      "outputs": []
    }
  ]
}
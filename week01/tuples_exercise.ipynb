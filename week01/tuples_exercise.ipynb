{
  "nbformat": 4,
  "nbformat_minor": 0,
  "metadata": {
    "colab": {
      "name": "tuples_exercise.ipynb",
      "provenance": [],
      "collapsed_sections": [],
      "authorship_tag": "ABX9TyPrL/OOhdephs4Jqi7/pG6R",
      "include_colab_link": true
    },
    "kernelspec": {
      "name": "python3",
      "display_name": "Python 3"
    },
    "language_info": {
      "name": "python"
    }
  },
  "cells": [
    {
      "cell_type": "markdown",
      "metadata": {
        "id": "view-in-github",
        "colab_type": "text"
      },
      "source": [
        "<a href=\"https://colab.research.google.com/github/mvince33/Coding-Dojo/blob/main/week01/tuples_exercise.ipynb\" target=\"_parent\"><img src=\"https://colab.research.google.com/assets/colab-badge.svg\" alt=\"Open In Colab\"/></a>"
      ]
    },
    {
      "cell_type": "code",
      "execution_count": null,
      "metadata": {
        "colab": {
          "base_uri": "https://localhost:8080/"
        },
        "id": "5hL6qv6Pc1GI",
        "outputId": "9daadeeb-ff57-4e1b-bb35-02a1109366f4"
      },
      "outputs": [
        {
          "output_type": "stream",
          "name": "stdout",
          "text": [
            "()\n",
            "(3, 7, 4, 2)\n",
            "<class 'tuple'> <class 'tuple'>\n",
            "('Michael',)\n",
            "<class 'tuple'>\n",
            "3\n",
            "2\n",
            "(3, 7)\n",
            "(3, 7)\n",
            "(7, 4, 2)\n",
            "(3, 7, 4)\n",
            "(3, 7, 4)\n",
            "('Dean', 'Gene', 'Claude', 'Dave', 'Glenn')\n",
            "Dean Gene Claude Dave Glenn\n",
            "0 Dean\n",
            "1 Gene\n",
            "2 Claude\n",
            "3 Dave\n",
            "4 Glenn\n",
            "3\n",
            "1\n"
          ]
        }
      ],
      "source": [
        "emptyTuple = ()\n",
        "print(emptyTuple)\n",
        "type(emptyTuple)\n",
        "\n",
        "emptyTuple2 = tuple()\n",
        "type(emptyTuple2)\n",
        "\n",
        "z = (3, 7, 4, 2)\n",
        "print(z)\n",
        "z2 = 3, 7, 4, 2\n",
        "print(type(z), type(z2))\n",
        "\n",
        "tup1 = ('Michael',)\n",
        "print(tup1)\n",
        "type(tup1)\n",
        "tup2 = 'Michael',\n",
        "print(type(tup2))\n",
        "\n",
        "print(z[0])\n",
        "print(z[-1])\n",
        "print(z[0:2])\n",
        "print(z[:2])\n",
        "print(z[1:])\n",
        "print(z[-4:-1])\n",
        "print(z[:-1])\n",
        "\n",
        "a = ('Dean', 'Gene')\n",
        "b = ('Claude', 'Dave', 'Glenn')\n",
        "ween = a + b\n",
        "print(ween)\n",
        "\n",
        "a, b, c, d, e = ween\n",
        "\n",
        "print(a, b, c, d, e)\n",
        "\n",
        "for index, musician in enumerate(ween):\n",
        "  print(index, musician)\n",
        "\n",
        "print(ween.index('Dave'))\n",
        "print(ween.count('Gene'))"
      ]
    }
  ]
}
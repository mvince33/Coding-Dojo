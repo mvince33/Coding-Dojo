{
  "nbformat": 4,
  "nbformat_minor": 0,
  "metadata": {
    "colab": {
      "name": "Challenge Week 2, Day 2.ipynb",
      "provenance": [],
      "collapsed_sections": [],
      "include_colab_link": true
    },
    "kernelspec": {
      "name": "python3",
      "display_name": "Python 3"
    }
  },
  "cells": [
    {
      "cell_type": "markdown",
      "metadata": {
        "id": "view-in-github",
        "colab_type": "text"
      },
      "source": [
        "<a href=\"https://colab.research.google.com/github/mvince33/Coding-Dojo/blob/main/Challenge_Week_2%2C_Day_2.ipynb\" target=\"_parent\"><img src=\"https://colab.research.google.com/assets/colab-badge.svg\" alt=\"Open In Colab\"/></a>"
      ]
    },
    {
      "cell_type": "markdown",
      "metadata": {
        "id": "W126R0Qz5QNm"
      },
      "source": [
        "<center>\n",
        "<img src=\"https://course_report_production.s3.amazonaws.com/rich/rich_files/rich_files/2470/s300/cd-logo-blue-600x600.png\" alt=\"Coding Dojo Logo\" class=\"center\" height=\"50\">\n",
        "\n",
        "# Data Cleaning\n",
        "\n",
        "*Make a copy of this notebook to edit!*\n",
        "```\n",
        "File > Save a copy in Drive\n",
        "```\n",
        "\n",
        "We will use data on the Super Bowls. You can download the data [here](https://drive.google.com/file/d/1kWqIFO9LgVlMsYG9M9boRKCFiizpUB5o/view?usp=sharing).\n",
        "\n",
        "</center>\n",
        "\n",
        "**Why do we need to clean our data?**\n",
        "\n",
        "> Garbage in, garbage out.\n",
        "\n",
        "> Quality data beats fancy algorithms.\n",
        "\n",
        "Overall, incorrect data is either removed, corrected, or imputed. ([*source*](https://towardsdatascience.com/the-ultimate-guide-to-data-cleaning-3969843991d4))\n",
        "\n"
      ]
    },
    {
      "cell_type": "markdown",
      "metadata": {
        "id": "M3wwYi6u_VU3"
      },
      "source": [
        "Mount Data \n",
        "- Use the file URL below instead of mounting google drive. "
      ]
    },
    {
      "cell_type": "code",
      "source": [
        "from google.colab import drive\n",
        "drive.mount('/content/drive')"
      ],
      "metadata": {
        "id": "pFTKcFa0JnMn",
        "colab": {
          "base_uri": "https://localhost:8080/"
        },
        "outputId": "841e0698-983b-48f0-cabb-f2a2cb114e99"
      },
      "execution_count": 1,
      "outputs": [
        {
          "output_type": "stream",
          "name": "stdout",
          "text": [
            "Mounted at /content/drive\n"
          ]
        }
      ]
    },
    {
      "cell_type": "code",
      "metadata": {
        "id": "DEpgQ9ta4BBH"
      },
      "source": [
        "file_url = \"https://docs.google.com/spreadsheets/d/e/2PACX-1vSAwjsA-rwGlz_Bb0yIgC13scmhxQCjayvh-sp0v3lRMxejeem8ntBBcDpr4xbNNMiGzB8VGPKJzGJv/pub?output=csv\""
      ],
      "execution_count": 2,
      "outputs": []
    },
    {
      "cell_type": "markdown",
      "metadata": {
        "id": "_A7msLwr_4TA"
      },
      "source": [
        "**Import Libraries**"
      ]
    },
    {
      "cell_type": "code",
      "metadata": {
        "id": "1qqHcPH56CaM"
      },
      "source": [
        "# Imports\n",
        "import pandas as pd\n",
        "import numpy as np"
      ],
      "execution_count": 3,
      "outputs": []
    },
    {
      "cell_type": "markdown",
      "metadata": {
        "id": "7Djq4Nz1_5dD"
      },
      "source": [
        "**Load Data & view first 5 rows**"
      ]
    },
    {
      "cell_type": "code",
      "metadata": {
        "id": "x0N_O7tr5WV8",
        "colab": {
          "base_uri": "https://localhost:8080/",
          "height": 384
        },
        "outputId": "69f706b2-9d0c-4e8a-89ad-a66fabe477e9"
      },
      "source": [
        "# Load Data\n",
        "df = pd.read_csv(file_url)\n",
        "df.head()"
      ],
      "execution_count": 18,
      "outputs": [
        {
          "output_type": "execute_result",
          "data": {
            "text/plain": [
              "   Unnamed: 0       Date   SB  Attendance                    QB  Winner  \\\n",
              "0           0  15-Jan-67    I       61946                    Bart Starr   \n",
              "1           1  14-Jan-68   II       75546                    Bart Starr   \n",
              "2           2  12-Jan-69  III       75389                    Joe Namath   \n",
              "3           3  11-Jan-70   IV       80562   Len Dawson, Mike Livingston   \n",
              "4           4  17-Jan-71    V       79204  Earl Morrall , Johnny Unitas   \n",
              "\n",
              "     Coach Winner              Winner  Winning Pts  \\\n",
              "0  Vince Lombardi   Green Bay Packers           35   \n",
              "1  Vince Lombardi   Green Bay Packers           33   \n",
              "2     Weeb Ewbank       New York Jets           16   \n",
              "3      Hank Stram  Kansas City Chiefs           23   \n",
              "4  Don McCafferty     Baltimore Colts           16   \n",
              "\n",
              "                      QB Loser Coach Loser  ...         City       State  \\\n",
              "0                   Len Dawson  Hank Stram  ...  Los Angeles  California   \n",
              "1              Daryle Lamonica  John Rauch  ...        Miami     Florida   \n",
              "2  Earl Morrall, Johnny Unitas   Don Shula  ...        Miami     Florida   \n",
              "3                     Joe Kapp   Bud Grant  ...  New Orleans   Louisiana   \n",
              "4                 Craig Morton  Tom Landry  ...        Miami          FL   \n",
              "\n",
              "  Point Difference         Referee          Umpire Head Linesman  Line Judge  \\\n",
              "0               25             NaN             NaN           NaN         NaN   \n",
              "1               19             NaN             NaN           NaN         NaN   \n",
              "2                9             NaN             NaN           NaN         NaN   \n",
              "3               16             NaN             NaN           NaN         NaN   \n",
              "4                3  Norm Schachter  Paul Trepinski     Ed Marion  Jack Fette   \n",
              "\n",
              "  Field Judge   Back Judge Side Judge  \n",
              "0         NaN          NaN        NaN  \n",
              "1         NaN          NaN        NaN  \n",
              "2         NaN          NaN        NaN  \n",
              "3         NaN          NaN        NaN  \n",
              "4  Fritz Graf  Hugh Gamber        NaN  \n",
              "\n",
              "[5 rows x 24 columns]"
            ],
            "text/html": [
              "\n",
              "  <div id=\"df-d63f9b9c-ecdd-40db-9dc1-add5a840067a\">\n",
              "    <div class=\"colab-df-container\">\n",
              "      <div>\n",
              "<style scoped>\n",
              "    .dataframe tbody tr th:only-of-type {\n",
              "        vertical-align: middle;\n",
              "    }\n",
              "\n",
              "    .dataframe tbody tr th {\n",
              "        vertical-align: top;\n",
              "    }\n",
              "\n",
              "    .dataframe thead th {\n",
              "        text-align: right;\n",
              "    }\n",
              "</style>\n",
              "<table border=\"1\" class=\"dataframe\">\n",
              "  <thead>\n",
              "    <tr style=\"text-align: right;\">\n",
              "      <th></th>\n",
              "      <th>Unnamed: 0</th>\n",
              "      <th>Date</th>\n",
              "      <th>SB</th>\n",
              "      <th>Attendance</th>\n",
              "      <th>QB  Winner</th>\n",
              "      <th>Coach Winner</th>\n",
              "      <th>Winner</th>\n",
              "      <th>Winning Pts</th>\n",
              "      <th>QB Loser</th>\n",
              "      <th>Coach Loser</th>\n",
              "      <th>...</th>\n",
              "      <th>City</th>\n",
              "      <th>State</th>\n",
              "      <th>Point Difference</th>\n",
              "      <th>Referee</th>\n",
              "      <th>Umpire</th>\n",
              "      <th>Head Linesman</th>\n",
              "      <th>Line Judge</th>\n",
              "      <th>Field Judge</th>\n",
              "      <th>Back Judge</th>\n",
              "      <th>Side Judge</th>\n",
              "    </tr>\n",
              "  </thead>\n",
              "  <tbody>\n",
              "    <tr>\n",
              "      <th>0</th>\n",
              "      <td>0</td>\n",
              "      <td>15-Jan-67</td>\n",
              "      <td>I</td>\n",
              "      <td>61946</td>\n",
              "      <td>Bart Starr</td>\n",
              "      <td>Vince Lombardi</td>\n",
              "      <td>Green Bay Packers</td>\n",
              "      <td>35</td>\n",
              "      <td>Len Dawson</td>\n",
              "      <td>Hank Stram</td>\n",
              "      <td>...</td>\n",
              "      <td>Los Angeles</td>\n",
              "      <td>California</td>\n",
              "      <td>25</td>\n",
              "      <td>NaN</td>\n",
              "      <td>NaN</td>\n",
              "      <td>NaN</td>\n",
              "      <td>NaN</td>\n",
              "      <td>NaN</td>\n",
              "      <td>NaN</td>\n",
              "      <td>NaN</td>\n",
              "    </tr>\n",
              "    <tr>\n",
              "      <th>1</th>\n",
              "      <td>1</td>\n",
              "      <td>14-Jan-68</td>\n",
              "      <td>II</td>\n",
              "      <td>75546</td>\n",
              "      <td>Bart Starr</td>\n",
              "      <td>Vince Lombardi</td>\n",
              "      <td>Green Bay Packers</td>\n",
              "      <td>33</td>\n",
              "      <td>Daryle Lamonica</td>\n",
              "      <td>John Rauch</td>\n",
              "      <td>...</td>\n",
              "      <td>Miami</td>\n",
              "      <td>Florida</td>\n",
              "      <td>19</td>\n",
              "      <td>NaN</td>\n",
              "      <td>NaN</td>\n",
              "      <td>NaN</td>\n",
              "      <td>NaN</td>\n",
              "      <td>NaN</td>\n",
              "      <td>NaN</td>\n",
              "      <td>NaN</td>\n",
              "    </tr>\n",
              "    <tr>\n",
              "      <th>2</th>\n",
              "      <td>2</td>\n",
              "      <td>12-Jan-69</td>\n",
              "      <td>III</td>\n",
              "      <td>75389</td>\n",
              "      <td>Joe Namath</td>\n",
              "      <td>Weeb Ewbank</td>\n",
              "      <td>New York Jets</td>\n",
              "      <td>16</td>\n",
              "      <td>Earl Morrall, Johnny Unitas</td>\n",
              "      <td>Don Shula</td>\n",
              "      <td>...</td>\n",
              "      <td>Miami</td>\n",
              "      <td>Florida</td>\n",
              "      <td>9</td>\n",
              "      <td>NaN</td>\n",
              "      <td>NaN</td>\n",
              "      <td>NaN</td>\n",
              "      <td>NaN</td>\n",
              "      <td>NaN</td>\n",
              "      <td>NaN</td>\n",
              "      <td>NaN</td>\n",
              "    </tr>\n",
              "    <tr>\n",
              "      <th>3</th>\n",
              "      <td>3</td>\n",
              "      <td>11-Jan-70</td>\n",
              "      <td>IV</td>\n",
              "      <td>80562</td>\n",
              "      <td>Len Dawson, Mike Livingston</td>\n",
              "      <td>Hank Stram</td>\n",
              "      <td>Kansas City Chiefs</td>\n",
              "      <td>23</td>\n",
              "      <td>Joe Kapp</td>\n",
              "      <td>Bud Grant</td>\n",
              "      <td>...</td>\n",
              "      <td>New Orleans</td>\n",
              "      <td>Louisiana</td>\n",
              "      <td>16</td>\n",
              "      <td>NaN</td>\n",
              "      <td>NaN</td>\n",
              "      <td>NaN</td>\n",
              "      <td>NaN</td>\n",
              "      <td>NaN</td>\n",
              "      <td>NaN</td>\n",
              "      <td>NaN</td>\n",
              "    </tr>\n",
              "    <tr>\n",
              "      <th>4</th>\n",
              "      <td>4</td>\n",
              "      <td>17-Jan-71</td>\n",
              "      <td>V</td>\n",
              "      <td>79204</td>\n",
              "      <td>Earl Morrall , Johnny Unitas</td>\n",
              "      <td>Don McCafferty</td>\n",
              "      <td>Baltimore Colts</td>\n",
              "      <td>16</td>\n",
              "      <td>Craig Morton</td>\n",
              "      <td>Tom Landry</td>\n",
              "      <td>...</td>\n",
              "      <td>Miami</td>\n",
              "      <td>FL</td>\n",
              "      <td>3</td>\n",
              "      <td>Norm Schachter</td>\n",
              "      <td>Paul Trepinski</td>\n",
              "      <td>Ed Marion</td>\n",
              "      <td>Jack Fette</td>\n",
              "      <td>Fritz Graf</td>\n",
              "      <td>Hugh Gamber</td>\n",
              "      <td>NaN</td>\n",
              "    </tr>\n",
              "  </tbody>\n",
              "</table>\n",
              "<p>5 rows × 24 columns</p>\n",
              "</div>\n",
              "      <button class=\"colab-df-convert\" onclick=\"convertToInteractive('df-d63f9b9c-ecdd-40db-9dc1-add5a840067a')\"\n",
              "              title=\"Convert this dataframe to an interactive table.\"\n",
              "              style=\"display:none;\">\n",
              "        \n",
              "  <svg xmlns=\"http://www.w3.org/2000/svg\" height=\"24px\"viewBox=\"0 0 24 24\"\n",
              "       width=\"24px\">\n",
              "    <path d=\"M0 0h24v24H0V0z\" fill=\"none\"/>\n",
              "    <path d=\"M18.56 5.44l.94 2.06.94-2.06 2.06-.94-2.06-.94-.94-2.06-.94 2.06-2.06.94zm-11 1L8.5 8.5l.94-2.06 2.06-.94-2.06-.94L8.5 2.5l-.94 2.06-2.06.94zm10 10l.94 2.06.94-2.06 2.06-.94-2.06-.94-.94-2.06-.94 2.06-2.06.94z\"/><path d=\"M17.41 7.96l-1.37-1.37c-.4-.4-.92-.59-1.43-.59-.52 0-1.04.2-1.43.59L10.3 9.45l-7.72 7.72c-.78.78-.78 2.05 0 2.83L4 21.41c.39.39.9.59 1.41.59.51 0 1.02-.2 1.41-.59l7.78-7.78 2.81-2.81c.8-.78.8-2.07 0-2.86zM5.41 20L4 18.59l7.72-7.72 1.47 1.35L5.41 20z\"/>\n",
              "  </svg>\n",
              "      </button>\n",
              "      \n",
              "  <style>\n",
              "    .colab-df-container {\n",
              "      display:flex;\n",
              "      flex-wrap:wrap;\n",
              "      gap: 12px;\n",
              "    }\n",
              "\n",
              "    .colab-df-convert {\n",
              "      background-color: #E8F0FE;\n",
              "      border: none;\n",
              "      border-radius: 50%;\n",
              "      cursor: pointer;\n",
              "      display: none;\n",
              "      fill: #1967D2;\n",
              "      height: 32px;\n",
              "      padding: 0 0 0 0;\n",
              "      width: 32px;\n",
              "    }\n",
              "\n",
              "    .colab-df-convert:hover {\n",
              "      background-color: #E2EBFA;\n",
              "      box-shadow: 0px 1px 2px rgba(60, 64, 67, 0.3), 0px 1px 3px 1px rgba(60, 64, 67, 0.15);\n",
              "      fill: #174EA6;\n",
              "    }\n",
              "\n",
              "    [theme=dark] .colab-df-convert {\n",
              "      background-color: #3B4455;\n",
              "      fill: #D2E3FC;\n",
              "    }\n",
              "\n",
              "    [theme=dark] .colab-df-convert:hover {\n",
              "      background-color: #434B5C;\n",
              "      box-shadow: 0px 1px 3px 1px rgba(0, 0, 0, 0.15);\n",
              "      filter: drop-shadow(0px 1px 2px rgba(0, 0, 0, 0.3));\n",
              "      fill: #FFFFFF;\n",
              "    }\n",
              "  </style>\n",
              "\n",
              "      <script>\n",
              "        const buttonEl =\n",
              "          document.querySelector('#df-d63f9b9c-ecdd-40db-9dc1-add5a840067a button.colab-df-convert');\n",
              "        buttonEl.style.display =\n",
              "          google.colab.kernel.accessAllowed ? 'block' : 'none';\n",
              "\n",
              "        async function convertToInteractive(key) {\n",
              "          const element = document.querySelector('#df-d63f9b9c-ecdd-40db-9dc1-add5a840067a');\n",
              "          const dataTable =\n",
              "            await google.colab.kernel.invokeFunction('convertToInteractive',\n",
              "                                                     [key], {});\n",
              "          if (!dataTable) return;\n",
              "\n",
              "          const docLinkHtml = 'Like what you see? Visit the ' +\n",
              "            '<a target=\"_blank\" href=https://colab.research.google.com/notebooks/data_table.ipynb>data table notebook</a>'\n",
              "            + ' to learn more about interactive tables.';\n",
              "          element.innerHTML = '';\n",
              "          dataTable['output_type'] = 'display_data';\n",
              "          await google.colab.output.renderOutput(dataTable, element);\n",
              "          const docLink = document.createElement('div');\n",
              "          docLink.innerHTML = docLinkHtml;\n",
              "          element.appendChild(docLink);\n",
              "        }\n",
              "      </script>\n",
              "    </div>\n",
              "  </div>\n",
              "  "
            ]
          },
          "metadata": {},
          "execution_count": 18
        }
      ]
    },
    {
      "cell_type": "markdown",
      "metadata": {
        "id": "rR37lF3KUAps"
      },
      "source": [
        "## Irrelevant data\n",
        "\n",
        "Irrelevant data is information that is unnecessary or unrelated to our task.\n",
        "\n",
        "Typically, we want to remove this data - but **only if you are absolutely sure it is irrelevant**. When in doubt, consult a subject matter expert.\n",
        "\n",
        "**What column seems unnecessary in this dataset? Drop it.**"
      ]
    },
    {
      "cell_type": "code",
      "metadata": {
        "id": "wLAFlsWE3K0K",
        "colab": {
          "base_uri": "https://localhost:8080/"
        },
        "outputId": "20b98130-bbb9-416f-eab0-c72b4f19f47c"
      },
      "source": [
        "# List the columns\n",
        "df.columns\n",
        "del_cols = ['Unnamed: 0', \n",
        "            'SB', \n",
        "            'Referee',\n",
        "            'Umpire',\n",
        "            'Head Linesman',\n",
        "            'Line Judge',\n",
        "            'Field Judge',\n",
        "            'Back Judge',\n",
        "            'Side Judge']\n",
        "df.drop(columns = del_cols, inplace = True)\n",
        "df.info()"
      ],
      "execution_count": 19,
      "outputs": [
        {
          "output_type": "stream",
          "name": "stdout",
          "text": [
            "<class 'pandas.core.frame.DataFrame'>\n",
            "RangeIndex: 53 entries, 0 to 52\n",
            "Data columns (total 15 columns):\n",
            " #   Column            Non-Null Count  Dtype \n",
            "---  ------            --------------  ----- \n",
            " 0   Date              53 non-null     object\n",
            " 1   Attendance        53 non-null     int64 \n",
            " 2   QB  Winner        53 non-null     object\n",
            " 3   Coach Winner      53 non-null     object\n",
            " 4   Winner            53 non-null     object\n",
            " 5   Winning Pts       53 non-null     int64 \n",
            " 6   QB Loser          53 non-null     object\n",
            " 7   Coach Loser       53 non-null     object\n",
            " 8   Loser             53 non-null     object\n",
            " 9   Losing Pts        53 non-null     int64 \n",
            " 10  MVP               53 non-null     object\n",
            " 11  Stadium           53 non-null     object\n",
            " 12  City              53 non-null     object\n",
            " 13  State             53 non-null     object\n",
            " 14  Point Difference  53 non-null     int64 \n",
            "dtypes: int64(4), object(11)\n",
            "memory usage: 6.3+ KB\n"
          ]
        }
      ]
    },
    {
      "cell_type": "markdown",
      "metadata": {
        "id": "RYke0g8ZVyeM"
      },
      "source": [
        "## Duplicate data\n",
        "\n",
        "It is common that your data has data points that are repeated. Duplicates should be removed.\n",
        "\n",
        "**Check for and remove any duplicates in this data.**"
      ]
    },
    {
      "cell_type": "code",
      "metadata": {
        "id": "eDeWDzH55SU5",
        "colab": {
          "base_uri": "https://localhost:8080/"
        },
        "outputId": "4d865bd4-408c-40c2-9990-629824505d81"
      },
      "source": [
        "df.duplicated().sum()"
      ],
      "execution_count": 20,
      "outputs": [
        {
          "output_type": "execute_result",
          "data": {
            "text/plain": [
              "1"
            ]
          },
          "metadata": {},
          "execution_count": 20
        }
      ]
    },
    {
      "cell_type": "code",
      "metadata": {
        "id": "4DAHTWio5kBo",
        "colab": {
          "base_uri": "https://localhost:8080/",
          "height": 112
        },
        "outputId": "ededf7fd-8240-4198-df22-bee1c21e9fe8"
      },
      "source": [
        "df[df.duplicated(keep = False)]"
      ],
      "execution_count": 21,
      "outputs": [
        {
          "output_type": "execute_result",
          "data": {
            "text/plain": [
              "         Date  Attendance  QB  Winner   Coach Winner           Winner  \\\n",
              "20  25-Jan-87      101063  Phil Simms  Bill Parcells  New York Giants   \n",
              "52  25-Jan-87      101063  Phil Simms  Bill Parcells  New York Giants   \n",
              "\n",
              "    Winning Pts    QB Loser Coach Loser           Loser  Losing Pts  \\\n",
              "20           39  John Elway  Dan Reeves  Denver Broncos          20   \n",
              "52           39  John Elway  Dan Reeves  Denver Broncos          20   \n",
              "\n",
              "           MVP    Stadium      City       State  Point Difference  \n",
              "20  Phil Simms  Rose Bowl  Pasadena  California                19  \n",
              "52  Phil Simms  Rose Bowl  Pasadena  California                19  "
            ],
            "text/html": [
              "\n",
              "  <div id=\"df-6c8778bd-e6da-4248-b7f1-37eaf6ad6241\">\n",
              "    <div class=\"colab-df-container\">\n",
              "      <div>\n",
              "<style scoped>\n",
              "    .dataframe tbody tr th:only-of-type {\n",
              "        vertical-align: middle;\n",
              "    }\n",
              "\n",
              "    .dataframe tbody tr th {\n",
              "        vertical-align: top;\n",
              "    }\n",
              "\n",
              "    .dataframe thead th {\n",
              "        text-align: right;\n",
              "    }\n",
              "</style>\n",
              "<table border=\"1\" class=\"dataframe\">\n",
              "  <thead>\n",
              "    <tr style=\"text-align: right;\">\n",
              "      <th></th>\n",
              "      <th>Date</th>\n",
              "      <th>Attendance</th>\n",
              "      <th>QB  Winner</th>\n",
              "      <th>Coach Winner</th>\n",
              "      <th>Winner</th>\n",
              "      <th>Winning Pts</th>\n",
              "      <th>QB Loser</th>\n",
              "      <th>Coach Loser</th>\n",
              "      <th>Loser</th>\n",
              "      <th>Losing Pts</th>\n",
              "      <th>MVP</th>\n",
              "      <th>Stadium</th>\n",
              "      <th>City</th>\n",
              "      <th>State</th>\n",
              "      <th>Point Difference</th>\n",
              "    </tr>\n",
              "  </thead>\n",
              "  <tbody>\n",
              "    <tr>\n",
              "      <th>20</th>\n",
              "      <td>25-Jan-87</td>\n",
              "      <td>101063</td>\n",
              "      <td>Phil Simms</td>\n",
              "      <td>Bill Parcells</td>\n",
              "      <td>New York Giants</td>\n",
              "      <td>39</td>\n",
              "      <td>John Elway</td>\n",
              "      <td>Dan Reeves</td>\n",
              "      <td>Denver Broncos</td>\n",
              "      <td>20</td>\n",
              "      <td>Phil Simms</td>\n",
              "      <td>Rose Bowl</td>\n",
              "      <td>Pasadena</td>\n",
              "      <td>California</td>\n",
              "      <td>19</td>\n",
              "    </tr>\n",
              "    <tr>\n",
              "      <th>52</th>\n",
              "      <td>25-Jan-87</td>\n",
              "      <td>101063</td>\n",
              "      <td>Phil Simms</td>\n",
              "      <td>Bill Parcells</td>\n",
              "      <td>New York Giants</td>\n",
              "      <td>39</td>\n",
              "      <td>John Elway</td>\n",
              "      <td>Dan Reeves</td>\n",
              "      <td>Denver Broncos</td>\n",
              "      <td>20</td>\n",
              "      <td>Phil Simms</td>\n",
              "      <td>Rose Bowl</td>\n",
              "      <td>Pasadena</td>\n",
              "      <td>California</td>\n",
              "      <td>19</td>\n",
              "    </tr>\n",
              "  </tbody>\n",
              "</table>\n",
              "</div>\n",
              "      <button class=\"colab-df-convert\" onclick=\"convertToInteractive('df-6c8778bd-e6da-4248-b7f1-37eaf6ad6241')\"\n",
              "              title=\"Convert this dataframe to an interactive table.\"\n",
              "              style=\"display:none;\">\n",
              "        \n",
              "  <svg xmlns=\"http://www.w3.org/2000/svg\" height=\"24px\"viewBox=\"0 0 24 24\"\n",
              "       width=\"24px\">\n",
              "    <path d=\"M0 0h24v24H0V0z\" fill=\"none\"/>\n",
              "    <path d=\"M18.56 5.44l.94 2.06.94-2.06 2.06-.94-2.06-.94-.94-2.06-.94 2.06-2.06.94zm-11 1L8.5 8.5l.94-2.06 2.06-.94-2.06-.94L8.5 2.5l-.94 2.06-2.06.94zm10 10l.94 2.06.94-2.06 2.06-.94-2.06-.94-.94-2.06-.94 2.06-2.06.94z\"/><path d=\"M17.41 7.96l-1.37-1.37c-.4-.4-.92-.59-1.43-.59-.52 0-1.04.2-1.43.59L10.3 9.45l-7.72 7.72c-.78.78-.78 2.05 0 2.83L4 21.41c.39.39.9.59 1.41.59.51 0 1.02-.2 1.41-.59l7.78-7.78 2.81-2.81c.8-.78.8-2.07 0-2.86zM5.41 20L4 18.59l7.72-7.72 1.47 1.35L5.41 20z\"/>\n",
              "  </svg>\n",
              "      </button>\n",
              "      \n",
              "  <style>\n",
              "    .colab-df-container {\n",
              "      display:flex;\n",
              "      flex-wrap:wrap;\n",
              "      gap: 12px;\n",
              "    }\n",
              "\n",
              "    .colab-df-convert {\n",
              "      background-color: #E8F0FE;\n",
              "      border: none;\n",
              "      border-radius: 50%;\n",
              "      cursor: pointer;\n",
              "      display: none;\n",
              "      fill: #1967D2;\n",
              "      height: 32px;\n",
              "      padding: 0 0 0 0;\n",
              "      width: 32px;\n",
              "    }\n",
              "\n",
              "    .colab-df-convert:hover {\n",
              "      background-color: #E2EBFA;\n",
              "      box-shadow: 0px 1px 2px rgba(60, 64, 67, 0.3), 0px 1px 3px 1px rgba(60, 64, 67, 0.15);\n",
              "      fill: #174EA6;\n",
              "    }\n",
              "\n",
              "    [theme=dark] .colab-df-convert {\n",
              "      background-color: #3B4455;\n",
              "      fill: #D2E3FC;\n",
              "    }\n",
              "\n",
              "    [theme=dark] .colab-df-convert:hover {\n",
              "      background-color: #434B5C;\n",
              "      box-shadow: 0px 1px 3px 1px rgba(0, 0, 0, 0.15);\n",
              "      filter: drop-shadow(0px 1px 2px rgba(0, 0, 0, 0.3));\n",
              "      fill: #FFFFFF;\n",
              "    }\n",
              "  </style>\n",
              "\n",
              "      <script>\n",
              "        const buttonEl =\n",
              "          document.querySelector('#df-6c8778bd-e6da-4248-b7f1-37eaf6ad6241 button.colab-df-convert');\n",
              "        buttonEl.style.display =\n",
              "          google.colab.kernel.accessAllowed ? 'block' : 'none';\n",
              "\n",
              "        async function convertToInteractive(key) {\n",
              "          const element = document.querySelector('#df-6c8778bd-e6da-4248-b7f1-37eaf6ad6241');\n",
              "          const dataTable =\n",
              "            await google.colab.kernel.invokeFunction('convertToInteractive',\n",
              "                                                     [key], {});\n",
              "          if (!dataTable) return;\n",
              "\n",
              "          const docLinkHtml = 'Like what you see? Visit the ' +\n",
              "            '<a target=\"_blank\" href=https://colab.research.google.com/notebooks/data_table.ipynb>data table notebook</a>'\n",
              "            + ' to learn more about interactive tables.';\n",
              "          element.innerHTML = '';\n",
              "          dataTable['output_type'] = 'display_data';\n",
              "          await google.colab.output.renderOutput(dataTable, element);\n",
              "          const docLink = document.createElement('div');\n",
              "          docLink.innerHTML = docLinkHtml;\n",
              "          element.appendChild(docLink);\n",
              "        }\n",
              "      </script>\n",
              "    </div>\n",
              "  </div>\n",
              "  "
            ]
          },
          "metadata": {},
          "execution_count": 21
        }
      ]
    },
    {
      "cell_type": "code",
      "source": [
        "df.drop_duplicates(inplace = True)"
      ],
      "metadata": {
        "id": "zlPh9F3PYR5k"
      },
      "execution_count": 22,
      "outputs": []
    },
    {
      "cell_type": "code",
      "source": [
        "df.duplicated().sum()"
      ],
      "metadata": {
        "id": "BtvkZrhEYj7t",
        "colab": {
          "base_uri": "https://localhost:8080/"
        },
        "outputId": "d107bafb-f067-4977-e446-d99bdf09c819"
      },
      "execution_count": 23,
      "outputs": [
        {
          "output_type": "execute_result",
          "data": {
            "text/plain": [
              "0"
            ]
          },
          "metadata": {},
          "execution_count": 23
        }
      ]
    },
    {
      "cell_type": "markdown",
      "metadata": {
        "id": "9-4hHazWVybE"
      },
      "source": [
        "## Data types\n",
        "\n",
        "You want your data to all be correct data types. There may be errors in your data causing numeric types to be read in as objects or dates that need to be converted to datetime objects. Additionally, we may want to convert our categorical variables to numbers.\n",
        "\n",
        "**Check the datatypes & validate that they are what they should be. The `Date` column should be a DateTime type - fix this using `df['Date'] = pd.to_datetime(df['Date'])` if is not the case!**"
      ]
    },
    {
      "cell_type": "code",
      "metadata": {
        "id": "-0XIQ7N16EtE",
        "colab": {
          "base_uri": "https://localhost:8080/"
        },
        "outputId": "112521ad-fcf3-40e8-f4e0-37da557209e1"
      },
      "source": [
        "df.info()"
      ],
      "execution_count": 24,
      "outputs": [
        {
          "output_type": "stream",
          "name": "stdout",
          "text": [
            "<class 'pandas.core.frame.DataFrame'>\n",
            "Int64Index: 52 entries, 0 to 51\n",
            "Data columns (total 15 columns):\n",
            " #   Column            Non-Null Count  Dtype \n",
            "---  ------            --------------  ----- \n",
            " 0   Date              52 non-null     object\n",
            " 1   Attendance        52 non-null     int64 \n",
            " 2   QB  Winner        52 non-null     object\n",
            " 3   Coach Winner      52 non-null     object\n",
            " 4   Winner            52 non-null     object\n",
            " 5   Winning Pts       52 non-null     int64 \n",
            " 6   QB Loser          52 non-null     object\n",
            " 7   Coach Loser       52 non-null     object\n",
            " 8   Loser             52 non-null     object\n",
            " 9   Losing Pts        52 non-null     int64 \n",
            " 10  MVP               52 non-null     object\n",
            " 11  Stadium           52 non-null     object\n",
            " 12  City              52 non-null     object\n",
            " 13  State             52 non-null     object\n",
            " 14  Point Difference  52 non-null     int64 \n",
            "dtypes: int64(4), object(11)\n",
            "memory usage: 6.5+ KB\n"
          ]
        }
      ]
    },
    {
      "cell_type": "code",
      "source": [
        "df['Date'] = pd.to_datetime(df['Date'])\n",
        "date_filter = df['Date'] >= np.datetime64('2020-01-01')\n",
        "df.loc[date_filter, 'Date']"
      ],
      "metadata": {
        "id": "tXHoUSOtYvkS",
        "colab": {
          "base_uri": "https://localhost:8080/"
        },
        "outputId": "7030af4d-33e0-4507-b297-fbe56c19dce0"
      },
      "execution_count": 41,
      "outputs": [
        {
          "output_type": "execute_result",
          "data": {
            "text/plain": [
              "0   2067-01-15\n",
              "1   2068-01-14\n",
              "2   2069-01-12\n",
              "3   2070-01-11\n",
              "4   2071-01-17\n",
              "Name: Date, dtype: datetime64[ns]"
            ]
          },
          "metadata": {},
          "execution_count": 41
        }
      ]
    },
    {
      "cell_type": "code",
      "source": [
        ""
      ],
      "metadata": {
        "id": "YygSbgkRY6AQ"
      },
      "execution_count": null,
      "outputs": []
    },
    {
      "cell_type": "code",
      "source": [
        ""
      ],
      "metadata": {
        "id": "U6udJFq3hkmi"
      },
      "execution_count": null,
      "outputs": []
    },
    {
      "cell_type": "code",
      "source": [
        ""
      ],
      "metadata": {
        "id": "Cwr23lcCZHMb"
      },
      "execution_count": null,
      "outputs": []
    },
    {
      "cell_type": "code",
      "source": [
        ""
      ],
      "metadata": {
        "id": "zTw7_TizZiUz"
      },
      "execution_count": null,
      "outputs": []
    },
    {
      "cell_type": "code",
      "source": [
        ""
      ],
      "metadata": {
        "id": "TXNjtoaBjBfr"
      },
      "execution_count": null,
      "outputs": []
    },
    {
      "cell_type": "markdown",
      "metadata": {
        "id": "6hN8XvTIDaPf"
      },
      "source": [
        "Pandas is usually pretty good at converting date times.  However, when the year is 2 digits it can be ambiguous and Pandas may choose the wrong century.   \n",
        "\n",
        "Check if this happened and if so, fix it.  Don't forget the `df.loc()` method.\n",
        "\n",
        "You may have to convert it to a datetime again.\n",
        "\n",
        "Hint: `df.loc[0, 'Date'] = '1967-01-15'`"
      ]
    },
    {
      "cell_type": "code",
      "source": [
        ""
      ],
      "metadata": {
        "id": "JnecVRdYZxis"
      },
      "execution_count": null,
      "outputs": []
    },
    {
      "cell_type": "code",
      "source": [
        ""
      ],
      "metadata": {
        "id": "qCoPXVy2Ztb4"
      },
      "execution_count": null,
      "outputs": []
    },
    {
      "cell_type": "code",
      "metadata": {
        "id": "tsAv4oy36bdh"
      },
      "source": [
        ""
      ],
      "execution_count": null,
      "outputs": []
    },
    {
      "cell_type": "markdown",
      "metadata": {
        "id": "CpoTTA5QVyYY"
      },
      "source": [
        "## Syntax or spelling errors\n",
        "\n",
        "Common syntax errors include extra white spaces at the beginning or end of strings or column names.\n",
        "\n",
        "There may also be typos or inconsistencies in strings that need to be fixed. For example, if a state name is spelled out in one row and the abbreviation is used in another, we need to ensure consistency.\n",
        "\n",
        "**Check for any inconsistencies in the strings of the `State` column and fix them.**\n",
        "\n",
        "Don't forget the `df.replace()` method"
      ]
    },
    {
      "cell_type": "code",
      "metadata": {
        "id": "pkEVrLUL8hj9"
      },
      "source": [
        ""
      ],
      "execution_count": null,
      "outputs": []
    },
    {
      "cell_type": "code",
      "source": [
        "# Here is a way in which you can store your string columns in a variable to use later in a for loop\n",
        "# This code filters out the object type columns and creates a list of each of the column names as an index\n",
        "data_types = df.dtypes\n",
        "str_cols = data_types[data_types=='object'].index\n",
        "str_cols"
      ],
      "metadata": {
        "id": "ZQVcFyzfhyw9"
      },
      "execution_count": null,
      "outputs": []
    },
    {
      "cell_type": "code",
      "metadata": {
        "id": "et8lpoGd81Eh"
      },
      "source": [
        "# This for loop prints out each column name and then lists each category\n",
        "# in the column along with the counts of each category\n",
        "for col in str_cols:\n",
        "  print(f'- {col}:')\n",
        "  print(df[col].value_counts(dropna=False))\n",
        "  print('\\n\\n')"
      ],
      "execution_count": null,
      "outputs": []
    },
    {
      "cell_type": "code",
      "source": [
        ""
      ],
      "metadata": {
        "id": "NzKrQC0TciPX"
      },
      "execution_count": null,
      "outputs": []
    },
    {
      "cell_type": "code",
      "source": [
        ""
      ],
      "metadata": {
        "id": "v3iUQhBqduBS"
      },
      "execution_count": null,
      "outputs": []
    },
    {
      "cell_type": "code",
      "source": [
        ""
      ],
      "metadata": {
        "id": "G2jEzKYub-lh"
      },
      "execution_count": null,
      "outputs": []
    },
    {
      "cell_type": "code",
      "source": [
        ""
      ],
      "metadata": {
        "id": "MWH_LRqrc8Ck"
      },
      "execution_count": null,
      "outputs": []
    },
    {
      "cell_type": "code",
      "source": [
        ""
      ],
      "metadata": {
        "id": "K1M0tyjy81-h"
      },
      "execution_count": null,
      "outputs": []
    },
    {
      "cell_type": "code",
      "source": [
        ""
      ],
      "metadata": {
        "id": "beeNHokodMxU"
      },
      "execution_count": null,
      "outputs": []
    },
    {
      "cell_type": "markdown",
      "metadata": {
        "id": "plbqf-7JVyR5"
      },
      "source": [
        "## Missing values\n",
        "\n",
        "Missing values are very common and problematic in our data. There is no one right way to handle missing data. A few strategies include:\n",
        "- Drop\n",
        "- Impute\n",
        "\n",
        "### Dropping missing values\n",
        "\n",
        "If there are not very many missing values and they are missing completely at random, the fastest and easiest solution is to drop the rows with missing values.\n",
        "\n",
        "Similarly, if most of a column is missing data and the data is missing completely at random, it may be okay to drop the entire column\n",
        "\n",
        "### Imputing missing values\n",
        "\n",
        "Imputing means filling in the missing values based on some criterion. There are many methods to do this:\n",
        "- Simple imputation including mean, median, or mode, or a specific constant value.\n",
        "\n",
        "### Make sure to explain why you chose the method you did in a text cell.\n",
        "\n",
        "**Check for missing data. Determine the best way to deal with this.**"
      ]
    },
    {
      "cell_type": "code",
      "metadata": {
        "id": "bKsrcdFy__RP"
      },
      "source": [
        ""
      ],
      "execution_count": null,
      "outputs": []
    },
    {
      "cell_type": "code",
      "metadata": {
        "id": "zRFlG4yQAx-S"
      },
      "source": [
        ""
      ],
      "execution_count": null,
      "outputs": []
    },
    {
      "cell_type": "code",
      "source": [
        "import missingno\n",
        "# This output shows you were the missing data is in the dataframe.\n",
        "# This white space represents data that is missing\n",
        "missingno.matrix(df)"
      ],
      "metadata": {
        "id": "3_vjfHs6e_EJ"
      },
      "execution_count": null,
      "outputs": []
    },
    {
      "cell_type": "code",
      "source": [
        ""
      ],
      "metadata": {
        "id": "sKJGRXoUfYlU"
      },
      "execution_count": null,
      "outputs": []
    },
    {
      "cell_type": "markdown",
      "source": [
        "To drop a subset of your data, you may want to use `df2 = df.dropna(subset=['column names'], how = 'all')` to drop a subset of your data."
      ],
      "metadata": {
        "id": "q8JQWnZw0TLO"
      }
    },
    {
      "cell_type": "code",
      "source": [
        ""
      ],
      "metadata": {
        "id": "jZS1u_0hfWUg"
      },
      "execution_count": null,
      "outputs": []
    },
    {
      "cell_type": "markdown",
      "metadata": {
        "id": "ueroRuuAVyO_"
      },
      "source": [
        "## Outliers\n",
        "\n",
        "Outliers are values that are extremely higher or lower than all of the other values in that feature. In general, outliers should not be removed unless you have reason to believe it is an error in the dataset. It is important to investigate outliers, as some models are very sensitive to outliers.\n",
        "\n",
        "**Check for outliers in the numeric columns using df.describe().**\n"
      ]
    },
    {
      "cell_type": "code",
      "metadata": {
        "id": "Q9VQYpfyVgNe"
      },
      "source": [
        ""
      ],
      "execution_count": null,
      "outputs": []
    },
    {
      "cell_type": "code",
      "metadata": {
        "id": "Oc76DSaqE_ND"
      },
      "source": [
        ""
      ],
      "execution_count": null,
      "outputs": []
    },
    {
      "cell_type": "code",
      "metadata": {
        "id": "LpORv_9LFGR5"
      },
      "source": [
        ""
      ],
      "execution_count": null,
      "outputs": []
    },
    {
      "cell_type": "markdown",
      "source": [
        "# Exploratory Data Analysis - Questions to Answer"
      ],
      "metadata": {
        "id": "I2RkCwSge7l2"
      }
    },
    {
      "cell_type": "markdown",
      "source": [
        "- For each question, display on the columns required to answer the question."
      ],
      "metadata": {
        "id": "MLVLYQ_4gQbm"
      }
    },
    {
      "cell_type": "markdown",
      "source": [
        "### Q1. Which 3 Superbowl #'s/years had the largest attendance?\n"
      ],
      "metadata": {
        "id": "1eGD2iLWjj7Y"
      }
    },
    {
      "cell_type": "code",
      "source": [
        ""
      ],
      "metadata": {
        "id": "Ek6bycZEj85D"
      },
      "execution_count": null,
      "outputs": []
    },
    {
      "cell_type": "code",
      "metadata": {
        "id": "EPyLXG4Gjj7Y"
      },
      "source": [
        ""
      ],
      "execution_count": null,
      "outputs": []
    },
    {
      "cell_type": "markdown",
      "source": [
        "- A1: "
      ],
      "metadata": {
        "id": "_RWI4ktKf58f"
      }
    },
    {
      "cell_type": "markdown",
      "source": [
        "\n",
        "### Q2. Which Stadiums hosted the Superbowl with the largest attendance?"
      ],
      "metadata": {
        "id": "fe-x4h3xf34N"
      }
    },
    {
      "cell_type": "code",
      "source": [
        ""
      ],
      "metadata": {
        "id": "RpmxWR_Uj9Zx"
      },
      "execution_count": null,
      "outputs": []
    },
    {
      "cell_type": "code",
      "source": [
        ""
      ],
      "metadata": {
        "id": "NzpZ6w1XfmEc"
      },
      "execution_count": null,
      "outputs": []
    },
    {
      "cell_type": "markdown",
      "source": [
        "- A2: "
      ],
      "metadata": {
        "id": "tkK1PFAygazN"
      }
    },
    {
      "cell_type": "markdown",
      "source": [
        "### Q3: What city has hosted the most number of superbowls? How many?"
      ],
      "metadata": {
        "id": "Lg2pfbs9gfEA"
      }
    },
    {
      "cell_type": "code",
      "source": [
        ""
      ],
      "metadata": {
        "id": "026w_f29j9uV"
      },
      "execution_count": null,
      "outputs": []
    },
    {
      "cell_type": "code",
      "source": [
        ""
      ],
      "metadata": {
        "id": "fumSC2-HgZUP"
      },
      "execution_count": null,
      "outputs": []
    },
    {
      "cell_type": "markdown",
      "source": [
        "- A3:"
      ],
      "metadata": {
        "id": "aXw93Y5lgrco"
      }
    },
    {
      "cell_type": "markdown",
      "source": [
        "### Q4: Of all of the superbowls hosted in the city from Q3, which SB # had the lowest attendance?"
      ],
      "metadata": {
        "id": "yOeqcLrHh_wW"
      }
    },
    {
      "cell_type": "code",
      "source": [
        ""
      ],
      "metadata": {
        "id": "CrYQKfuvj-CH"
      },
      "execution_count": null,
      "outputs": []
    },
    {
      "cell_type": "code",
      "source": [
        ""
      ],
      "metadata": {
        "id": "X5T-qf6EiMQl"
      },
      "execution_count": null,
      "outputs": []
    },
    {
      "cell_type": "markdown",
      "source": [
        "- A4: "
      ],
      "metadata": {
        "id": "NUQcYNO8iLo1"
      }
    },
    {
      "cell_type": "markdown",
      "source": [
        "### Q5: What is the average point difference between teams, for each City? Which city has the highest average Point Difference?"
      ],
      "metadata": {
        "id": "Tz0SEOaThCvf"
      }
    },
    {
      "cell_type": "code",
      "source": [
        ""
      ],
      "metadata": {
        "id": "yxMPg1cZghYA"
      },
      "execution_count": null,
      "outputs": []
    },
    {
      "cell_type": "code",
      "source": [
        ""
      ],
      "metadata": {
        "id": "3k-_XPoQhEkQ"
      },
      "execution_count": null,
      "outputs": []
    },
    {
      "cell_type": "markdown",
      "source": [
        "- A5:"
      ],
      "metadata": {
        "id": "x1GmK85thmmS"
      }
    }
  ]
}
{
  "nbformat": 4,
  "nbformat_minor": 0,
  "metadata": {
    "colab": {
      "name": "logistic_random_forest_or_knn.ipynb",
      "provenance": [],
      "collapsed_sections": [
        "uAJ1kpNAJMoI",
        "8o333gNwJQZS",
        "d-r7_RIDJ56a",
        "ypcIiRNPKM_j",
        "LnD3XSlPT4pK",
        "rcJOOHVFT72Y",
        "YC6sUv26YZEl",
        "eAtSba17rGTd",
        "-JpD-lqbsz0C",
        "NDJ06kixz88F"
      ],
      "authorship_tag": "ABX9TyPj4RIYgqrNjiY8n2mMtgkq",
      "include_colab_link": true
    },
    "kernelspec": {
      "name": "python3",
      "display_name": "Python 3"
    },
    "language_info": {
      "name": "python"
    }
  },
  "cells": [
    {
      "cell_type": "markdown",
      "metadata": {
        "id": "view-in-github",
        "colab_type": "text"
      },
      "source": [
        "<a href=\"https://colab.research.google.com/github/mvince33/Coding-Dojo/blob/main/week07/logistic_random_forest_or_knn.ipynb\" target=\"_parent\"><img src=\"https://colab.research.google.com/assets/colab-badge.svg\" alt=\"Open In Colab\"/></a>"
      ]
    },
    {
      "cell_type": "markdown",
      "source": [
        "# Logistic, Random Forest, or KNN?\n",
        "- Michael Vincent\n",
        "- 8/3/22"
      ],
      "metadata": {
        "id": "PuJrPynrJEaJ"
      }
    },
    {
      "cell_type": "markdown",
      "source": [
        "## Imports"
      ],
      "metadata": {
        "id": "atqFcrZmJK71"
      }
    },
    {
      "cell_type": "code",
      "execution_count": 182,
      "metadata": {
        "id": "F_gtcur0IRHS"
      },
      "outputs": [],
      "source": [
        "# Imports\n",
        "import numpy as np\n",
        "import pandas as pd\n",
        "import matplotlib.pyplot as plt\n",
        "from sklearn.model_selection import train_test_split, GridSearchCV\n",
        "from sklearn.pipeline import make_pipeline\n",
        "from sklearn.preprocessing import StandardScaler\n",
        "from sklearn.linear_model import LogisticRegression\n",
        "from sklearn.neighbors import KNeighborsClassifier\n",
        "from sklearn.ensemble import RandomForestClassifier\n",
        "from sklearn.metrics import accuracy_score, precision_score, recall_score"
      ]
    },
    {
      "cell_type": "markdown",
      "source": [
        "## Load the data"
      ],
      "metadata": {
        "id": "uAJ1kpNAJMoI"
      }
    },
    {
      "cell_type": "code",
      "source": [
        "# Load the data\n",
        "url = 'https://docs.google.com/spreadsheets/d/e/2PACX-1vRoqV0pKzYc2aiS-Oiy2rtEYrK0ocIRJrag3dWIEwSFoZ8RKLBzQsMUuyFe5U_rTXy7_8XinC626rYI/pub?output=csv'\n",
        "df = pd.read_csv(url)\n",
        "df.head()"
      ],
      "metadata": {
        "colab": {
          "base_uri": "https://localhost:8080/",
          "height": 317
        },
        "id": "s8dunnkJI6BE",
        "outputId": "9ea453dd-b429-45e9-8c9c-d1f4053cec06"
      },
      "execution_count": 126,
      "outputs": [
        {
          "output_type": "execute_result",
          "data": {
            "text/plain": [
              "         id diagnosis  radius_mean  texture_mean  perimeter_mean  area_mean  \\\n",
              "0    842302         M        17.99         10.38          122.80     1001.0   \n",
              "1    842517         M        20.57         17.77          132.90     1326.0   \n",
              "2  84300903         M        19.69         21.25          130.00     1203.0   \n",
              "3  84348301         M        11.42         20.38           77.58      386.1   \n",
              "4  84358402         M        20.29         14.34          135.10     1297.0   \n",
              "\n",
              "   smoothness_mean  compactness_mean  concavity_mean  concave points_mean  \\\n",
              "0          0.11840           0.27760          0.3001              0.14710   \n",
              "1          0.08474           0.07864          0.0869              0.07017   \n",
              "2          0.10960           0.15990          0.1974              0.12790   \n",
              "3          0.14250           0.28390          0.2414              0.10520   \n",
              "4          0.10030           0.13280          0.1980              0.10430   \n",
              "\n",
              "   ...  radius_worst  texture_worst  perimeter_worst  area_worst  \\\n",
              "0  ...         25.38          17.33           184.60      2019.0   \n",
              "1  ...         24.99          23.41           158.80      1956.0   \n",
              "2  ...         23.57          25.53           152.50      1709.0   \n",
              "3  ...         14.91          26.50            98.87       567.7   \n",
              "4  ...         22.54          16.67           152.20      1575.0   \n",
              "\n",
              "   smoothness_worst  compactness_worst  concavity_worst  concave points_worst  \\\n",
              "0            0.1622             0.6656           0.7119                0.2654   \n",
              "1            0.1238             0.1866           0.2416                0.1860   \n",
              "2            0.1444             0.4245           0.4504                0.2430   \n",
              "3            0.2098             0.8663           0.6869                0.2575   \n",
              "4            0.1374             0.2050           0.4000                0.1625   \n",
              "\n",
              "   symmetry_worst  fractal_dimension_worst  \n",
              "0          0.4601                  0.11890  \n",
              "1          0.2750                  0.08902  \n",
              "2          0.3613                  0.08758  \n",
              "3          0.6638                  0.17300  \n",
              "4          0.2364                  0.07678  \n",
              "\n",
              "[5 rows x 32 columns]"
            ],
            "text/html": [
              "\n",
              "  <div id=\"df-2f838d58-179e-45a2-98a2-4df0dfd80d6e\">\n",
              "    <div class=\"colab-df-container\">\n",
              "      <div>\n",
              "<style scoped>\n",
              "    .dataframe tbody tr th:only-of-type {\n",
              "        vertical-align: middle;\n",
              "    }\n",
              "\n",
              "    .dataframe tbody tr th {\n",
              "        vertical-align: top;\n",
              "    }\n",
              "\n",
              "    .dataframe thead th {\n",
              "        text-align: right;\n",
              "    }\n",
              "</style>\n",
              "<table border=\"1\" class=\"dataframe\">\n",
              "  <thead>\n",
              "    <tr style=\"text-align: right;\">\n",
              "      <th></th>\n",
              "      <th>id</th>\n",
              "      <th>diagnosis</th>\n",
              "      <th>radius_mean</th>\n",
              "      <th>texture_mean</th>\n",
              "      <th>perimeter_mean</th>\n",
              "      <th>area_mean</th>\n",
              "      <th>smoothness_mean</th>\n",
              "      <th>compactness_mean</th>\n",
              "      <th>concavity_mean</th>\n",
              "      <th>concave points_mean</th>\n",
              "      <th>...</th>\n",
              "      <th>radius_worst</th>\n",
              "      <th>texture_worst</th>\n",
              "      <th>perimeter_worst</th>\n",
              "      <th>area_worst</th>\n",
              "      <th>smoothness_worst</th>\n",
              "      <th>compactness_worst</th>\n",
              "      <th>concavity_worst</th>\n",
              "      <th>concave points_worst</th>\n",
              "      <th>symmetry_worst</th>\n",
              "      <th>fractal_dimension_worst</th>\n",
              "    </tr>\n",
              "  </thead>\n",
              "  <tbody>\n",
              "    <tr>\n",
              "      <th>0</th>\n",
              "      <td>842302</td>\n",
              "      <td>M</td>\n",
              "      <td>17.99</td>\n",
              "      <td>10.38</td>\n",
              "      <td>122.80</td>\n",
              "      <td>1001.0</td>\n",
              "      <td>0.11840</td>\n",
              "      <td>0.27760</td>\n",
              "      <td>0.3001</td>\n",
              "      <td>0.14710</td>\n",
              "      <td>...</td>\n",
              "      <td>25.38</td>\n",
              "      <td>17.33</td>\n",
              "      <td>184.60</td>\n",
              "      <td>2019.0</td>\n",
              "      <td>0.1622</td>\n",
              "      <td>0.6656</td>\n",
              "      <td>0.7119</td>\n",
              "      <td>0.2654</td>\n",
              "      <td>0.4601</td>\n",
              "      <td>0.11890</td>\n",
              "    </tr>\n",
              "    <tr>\n",
              "      <th>1</th>\n",
              "      <td>842517</td>\n",
              "      <td>M</td>\n",
              "      <td>20.57</td>\n",
              "      <td>17.77</td>\n",
              "      <td>132.90</td>\n",
              "      <td>1326.0</td>\n",
              "      <td>0.08474</td>\n",
              "      <td>0.07864</td>\n",
              "      <td>0.0869</td>\n",
              "      <td>0.07017</td>\n",
              "      <td>...</td>\n",
              "      <td>24.99</td>\n",
              "      <td>23.41</td>\n",
              "      <td>158.80</td>\n",
              "      <td>1956.0</td>\n",
              "      <td>0.1238</td>\n",
              "      <td>0.1866</td>\n",
              "      <td>0.2416</td>\n",
              "      <td>0.1860</td>\n",
              "      <td>0.2750</td>\n",
              "      <td>0.08902</td>\n",
              "    </tr>\n",
              "    <tr>\n",
              "      <th>2</th>\n",
              "      <td>84300903</td>\n",
              "      <td>M</td>\n",
              "      <td>19.69</td>\n",
              "      <td>21.25</td>\n",
              "      <td>130.00</td>\n",
              "      <td>1203.0</td>\n",
              "      <td>0.10960</td>\n",
              "      <td>0.15990</td>\n",
              "      <td>0.1974</td>\n",
              "      <td>0.12790</td>\n",
              "      <td>...</td>\n",
              "      <td>23.57</td>\n",
              "      <td>25.53</td>\n",
              "      <td>152.50</td>\n",
              "      <td>1709.0</td>\n",
              "      <td>0.1444</td>\n",
              "      <td>0.4245</td>\n",
              "      <td>0.4504</td>\n",
              "      <td>0.2430</td>\n",
              "      <td>0.3613</td>\n",
              "      <td>0.08758</td>\n",
              "    </tr>\n",
              "    <tr>\n",
              "      <th>3</th>\n",
              "      <td>84348301</td>\n",
              "      <td>M</td>\n",
              "      <td>11.42</td>\n",
              "      <td>20.38</td>\n",
              "      <td>77.58</td>\n",
              "      <td>386.1</td>\n",
              "      <td>0.14250</td>\n",
              "      <td>0.28390</td>\n",
              "      <td>0.2414</td>\n",
              "      <td>0.10520</td>\n",
              "      <td>...</td>\n",
              "      <td>14.91</td>\n",
              "      <td>26.50</td>\n",
              "      <td>98.87</td>\n",
              "      <td>567.7</td>\n",
              "      <td>0.2098</td>\n",
              "      <td>0.8663</td>\n",
              "      <td>0.6869</td>\n",
              "      <td>0.2575</td>\n",
              "      <td>0.6638</td>\n",
              "      <td>0.17300</td>\n",
              "    </tr>\n",
              "    <tr>\n",
              "      <th>4</th>\n",
              "      <td>84358402</td>\n",
              "      <td>M</td>\n",
              "      <td>20.29</td>\n",
              "      <td>14.34</td>\n",
              "      <td>135.10</td>\n",
              "      <td>1297.0</td>\n",
              "      <td>0.10030</td>\n",
              "      <td>0.13280</td>\n",
              "      <td>0.1980</td>\n",
              "      <td>0.10430</td>\n",
              "      <td>...</td>\n",
              "      <td>22.54</td>\n",
              "      <td>16.67</td>\n",
              "      <td>152.20</td>\n",
              "      <td>1575.0</td>\n",
              "      <td>0.1374</td>\n",
              "      <td>0.2050</td>\n",
              "      <td>0.4000</td>\n",
              "      <td>0.1625</td>\n",
              "      <td>0.2364</td>\n",
              "      <td>0.07678</td>\n",
              "    </tr>\n",
              "  </tbody>\n",
              "</table>\n",
              "<p>5 rows × 32 columns</p>\n",
              "</div>\n",
              "      <button class=\"colab-df-convert\" onclick=\"convertToInteractive('df-2f838d58-179e-45a2-98a2-4df0dfd80d6e')\"\n",
              "              title=\"Convert this dataframe to an interactive table.\"\n",
              "              style=\"display:none;\">\n",
              "        \n",
              "  <svg xmlns=\"http://www.w3.org/2000/svg\" height=\"24px\"viewBox=\"0 0 24 24\"\n",
              "       width=\"24px\">\n",
              "    <path d=\"M0 0h24v24H0V0z\" fill=\"none\"/>\n",
              "    <path d=\"M18.56 5.44l.94 2.06.94-2.06 2.06-.94-2.06-.94-.94-2.06-.94 2.06-2.06.94zm-11 1L8.5 8.5l.94-2.06 2.06-.94-2.06-.94L8.5 2.5l-.94 2.06-2.06.94zm10 10l.94 2.06.94-2.06 2.06-.94-2.06-.94-.94-2.06-.94 2.06-2.06.94z\"/><path d=\"M17.41 7.96l-1.37-1.37c-.4-.4-.92-.59-1.43-.59-.52 0-1.04.2-1.43.59L10.3 9.45l-7.72 7.72c-.78.78-.78 2.05 0 2.83L4 21.41c.39.39.9.59 1.41.59.51 0 1.02-.2 1.41-.59l7.78-7.78 2.81-2.81c.8-.78.8-2.07 0-2.86zM5.41 20L4 18.59l7.72-7.72 1.47 1.35L5.41 20z\"/>\n",
              "  </svg>\n",
              "      </button>\n",
              "      \n",
              "  <style>\n",
              "    .colab-df-container {\n",
              "      display:flex;\n",
              "      flex-wrap:wrap;\n",
              "      gap: 12px;\n",
              "    }\n",
              "\n",
              "    .colab-df-convert {\n",
              "      background-color: #E8F0FE;\n",
              "      border: none;\n",
              "      border-radius: 50%;\n",
              "      cursor: pointer;\n",
              "      display: none;\n",
              "      fill: #1967D2;\n",
              "      height: 32px;\n",
              "      padding: 0 0 0 0;\n",
              "      width: 32px;\n",
              "    }\n",
              "\n",
              "    .colab-df-convert:hover {\n",
              "      background-color: #E2EBFA;\n",
              "      box-shadow: 0px 1px 2px rgba(60, 64, 67, 0.3), 0px 1px 3px 1px rgba(60, 64, 67, 0.15);\n",
              "      fill: #174EA6;\n",
              "    }\n",
              "\n",
              "    [theme=dark] .colab-df-convert {\n",
              "      background-color: #3B4455;\n",
              "      fill: #D2E3FC;\n",
              "    }\n",
              "\n",
              "    [theme=dark] .colab-df-convert:hover {\n",
              "      background-color: #434B5C;\n",
              "      box-shadow: 0px 1px 3px 1px rgba(0, 0, 0, 0.15);\n",
              "      filter: drop-shadow(0px 1px 2px rgba(0, 0, 0, 0.3));\n",
              "      fill: #FFFFFF;\n",
              "    }\n",
              "  </style>\n",
              "\n",
              "      <script>\n",
              "        const buttonEl =\n",
              "          document.querySelector('#df-2f838d58-179e-45a2-98a2-4df0dfd80d6e button.colab-df-convert');\n",
              "        buttonEl.style.display =\n",
              "          google.colab.kernel.accessAllowed ? 'block' : 'none';\n",
              "\n",
              "        async function convertToInteractive(key) {\n",
              "          const element = document.querySelector('#df-2f838d58-179e-45a2-98a2-4df0dfd80d6e');\n",
              "          const dataTable =\n",
              "            await google.colab.kernel.invokeFunction('convertToInteractive',\n",
              "                                                     [key], {});\n",
              "          if (!dataTable) return;\n",
              "\n",
              "          const docLinkHtml = 'Like what you see? Visit the ' +\n",
              "            '<a target=\"_blank\" href=https://colab.research.google.com/notebooks/data_table.ipynb>data table notebook</a>'\n",
              "            + ' to learn more about interactive tables.';\n",
              "          element.innerHTML = '';\n",
              "          dataTable['output_type'] = 'display_data';\n",
              "          await google.colab.output.renderOutput(dataTable, element);\n",
              "          const docLink = document.createElement('div');\n",
              "          docLink.innerHTML = docLinkHtml;\n",
              "          element.appendChild(docLink);\n",
              "        }\n",
              "      </script>\n",
              "    </div>\n",
              "  </div>\n",
              "  "
            ]
          },
          "metadata": {},
          "execution_count": 126
        }
      ]
    },
    {
      "cell_type": "markdown",
      "source": [
        "## Explore the data"
      ],
      "metadata": {
        "id": "8o333gNwJQZS"
      }
    },
    {
      "cell_type": "code",
      "source": [
        "# Check for duplicates and missing values\n",
        "print('Duplicates:', df.duplicated().sum())\n",
        "print('Missing Values:', df.isna().sum().sum())"
      ],
      "metadata": {
        "colab": {
          "base_uri": "https://localhost:8080/"
        },
        "id": "PWzSkg_aJCqN",
        "outputId": "547b04b1-948b-44ce-d175-1064f7b51a85"
      },
      "execution_count": 127,
      "outputs": [
        {
          "output_type": "stream",
          "name": "stdout",
          "text": [
            "Duplicates: 0\n",
            "Missing Values: 0\n"
          ]
        }
      ]
    },
    {
      "cell_type": "code",
      "source": [
        "# Check the variable types\n",
        "df.info()"
      ],
      "metadata": {
        "colab": {
          "base_uri": "https://localhost:8080/"
        },
        "id": "YOfnhhiWJfp_",
        "outputId": "1b460c47-cc88-49ec-aead-13176ed02fc2"
      },
      "execution_count": 128,
      "outputs": [
        {
          "output_type": "stream",
          "name": "stdout",
          "text": [
            "<class 'pandas.core.frame.DataFrame'>\n",
            "RangeIndex: 569 entries, 0 to 568\n",
            "Data columns (total 32 columns):\n",
            " #   Column                   Non-Null Count  Dtype  \n",
            "---  ------                   --------------  -----  \n",
            " 0   id                       569 non-null    int64  \n",
            " 1   diagnosis                569 non-null    object \n",
            " 2   radius_mean              569 non-null    float64\n",
            " 3   texture_mean             569 non-null    float64\n",
            " 4   perimeter_mean           569 non-null    float64\n",
            " 5   area_mean                569 non-null    float64\n",
            " 6   smoothness_mean          569 non-null    float64\n",
            " 7   compactness_mean         569 non-null    float64\n",
            " 8   concavity_mean           569 non-null    float64\n",
            " 9   concave points_mean      569 non-null    float64\n",
            " 10  symmetry_mean            569 non-null    float64\n",
            " 11  fractal_dimension_mean   569 non-null    float64\n",
            " 12  radius_se                569 non-null    float64\n",
            " 13  texture_se               569 non-null    float64\n",
            " 14  perimeter_se             569 non-null    float64\n",
            " 15  area_se                  569 non-null    float64\n",
            " 16  smoothness_se            569 non-null    float64\n",
            " 17  compactness_se           569 non-null    float64\n",
            " 18  concavity_se             569 non-null    float64\n",
            " 19  concave points_se        569 non-null    float64\n",
            " 20  symmetry_se              569 non-null    float64\n",
            " 21  fractal_dimension_se     569 non-null    float64\n",
            " 22  radius_worst             569 non-null    float64\n",
            " 23  texture_worst            569 non-null    float64\n",
            " 24  perimeter_worst          569 non-null    float64\n",
            " 25  area_worst               569 non-null    float64\n",
            " 26  smoothness_worst         569 non-null    float64\n",
            " 27  compactness_worst        569 non-null    float64\n",
            " 28  concavity_worst          569 non-null    float64\n",
            " 29  concave points_worst     569 non-null    float64\n",
            " 30  symmetry_worst           569 non-null    float64\n",
            " 31  fractal_dimension_worst  569 non-null    float64\n",
            "dtypes: float64(30), int64(1), object(1)\n",
            "memory usage: 142.4+ KB\n"
          ]
        }
      ]
    },
    {
      "cell_type": "code",
      "source": [
        "# Diagnosis was the only string type. Check for inconsistent\n",
        "# labels in diagnosis.\n",
        "df['diagnosis'].value_counts()"
      ],
      "metadata": {
        "colab": {
          "base_uri": "https://localhost:8080/"
        },
        "id": "F0YFvm-0Jl2B",
        "outputId": "2ad91e13-30e8-41c6-bdb0-6337d4d04342"
      },
      "execution_count": 129,
      "outputs": [
        {
          "output_type": "execute_result",
          "data": {
            "text/plain": [
              "B    357\n",
              "M    212\n",
              "Name: diagnosis, dtype: int64"
            ]
          },
          "metadata": {},
          "execution_count": 129
        }
      ]
    },
    {
      "cell_type": "markdown",
      "source": [
        "> We see from the above that this data set is not balanced between malignant and benign diagnoses."
      ],
      "metadata": {
        "id": "XVsZy0_aLlCK"
      }
    },
    {
      "cell_type": "markdown",
      "source": [
        "## Prepare the data"
      ],
      "metadata": {
        "id": "d-r7_RIDJ56a"
      }
    },
    {
      "cell_type": "code",
      "source": [
        "# A malignant tumor will be our positive class.\n",
        "df['diagnosis'].replace({'B': 0, 'M': 1}, inplace = True)"
      ],
      "metadata": {
        "id": "iyYbD_NULOS_"
      },
      "execution_count": 130,
      "outputs": []
    },
    {
      "cell_type": "code",
      "source": [
        "# Set the features and target\n",
        "X = df.drop(columns = 'diagnosis')\n",
        "y = df['diagnosis']"
      ],
      "metadata": {
        "id": "t44XEFnlJ8_J"
      },
      "execution_count": 131,
      "outputs": []
    },
    {
      "cell_type": "code",
      "source": [
        "# Split the data\n",
        "X_train, X_test, y_train, y_test = train_test_split(X, y, random_state = 42)"
      ],
      "metadata": {
        "id": "TVLmSS88KC_-"
      },
      "execution_count": 132,
      "outputs": []
    },
    {
      "cell_type": "markdown",
      "source": [
        "## Logistic regression"
      ],
      "metadata": {
        "id": "ypcIiRNPKM_j"
      }
    },
    {
      "cell_type": "markdown",
      "source": [
        "### Default model"
      ],
      "metadata": {
        "id": "LnD3XSlPT4pK"
      }
    },
    {
      "cell_type": "code",
      "source": [
        "# Construct a defualt logistic regression model\n",
        "logreg = make_pipeline(StandardScaler(), LogisticRegression())\n",
        "logreg.fit(X_train, y_train)"
      ],
      "metadata": {
        "colab": {
          "base_uri": "https://localhost:8080/"
        },
        "id": "LmGA7SwvLBAr",
        "outputId": "1a4249d0-ded9-419c-9ef2-144f728aa6ad"
      },
      "execution_count": 133,
      "outputs": [
        {
          "output_type": "execute_result",
          "data": {
            "text/plain": [
              "Pipeline(steps=[('standardscaler', StandardScaler()),\n",
              "                ('logisticregression', LogisticRegression())])"
            ]
          },
          "metadata": {},
          "execution_count": 133
        }
      ]
    },
    {
      "cell_type": "code",
      "source": [
        "# Score the default model\n",
        "print('Score on training set:', logreg.score(X_train, y_train))\n",
        "print('Score on test set:', logreg.score(X_test, y_test))"
      ],
      "metadata": {
        "colab": {
          "base_uri": "https://localhost:8080/"
        },
        "id": "4oVWvhUFPjN6",
        "outputId": "a3611f91-2c25-4f2d-c49f-8d2462f957e6"
      },
      "execution_count": 134,
      "outputs": [
        {
          "output_type": "stream",
          "name": "stdout",
          "text": [
            "Score on training set: 0.9882629107981221\n",
            "Score on test set: 0.9790209790209791\n"
          ]
        }
      ]
    },
    {
      "cell_type": "code",
      "source": [
        "# Evaluate metrics on the test set\n",
        "predictions = logreg.predict(X_test)\n",
        "print('Accuracy of default logistic model on the test set:', accuracy_score(y_test, predictions))\n",
        "print('Recall of default logistic model on the test set:', recall_score(y_test, predictions))\n",
        "print('Precision of default logistic model on the test set:', precision_score(y_test, predictions))"
      ],
      "metadata": {
        "colab": {
          "base_uri": "https://localhost:8080/"
        },
        "id": "fESOwjHrPsVo",
        "outputId": "cbfd2dce-9cda-4ffb-9f3a-3d45d14428ba"
      },
      "execution_count": 135,
      "outputs": [
        {
          "output_type": "stream",
          "name": "stdout",
          "text": [
            "Accuracy of default logistic model on the test set: 0.9790209790209791\n",
            "Recall of default logistic model on the test set: 0.9814814814814815\n",
            "Precision of default logistic model on the test set: 0.9636363636363636\n"
          ]
        }
      ]
    },
    {
      "cell_type": "markdown",
      "source": [
        "> The recall score on our default logistic model is higher than the precision. So we expect fewer false negatives than false positives. This is desirable for our model as we want to minimize cases of undetected cancer."
      ],
      "metadata": {
        "id": "GBWi5nBKSNfs"
      }
    },
    {
      "cell_type": "markdown",
      "source": [
        "### L1 tuning"
      ],
      "metadata": {
        "id": "rcJOOHVFT72Y"
      }
    },
    {
      "cell_type": "code",
      "source": [
        "# Construct a logistic model using l1 tuning.\n",
        "\n",
        "# Construct a list of C values and create \n",
        "# lists to store the scores\n",
        "c_values = np.float_power(10, range(-4,4))\n",
        "train_scores = []\n",
        "test_scores = []\n",
        "test_recall_scores = []\n",
        "test_precision_scores = []\n",
        "\n",
        "# Loop through the C values\n",
        "for c in c_values:\n",
        "  # Construct the pipeline\n",
        "  logreg = LogisticRegression(C = c, max_iter = 1000, solver = 'liblinear', penalty = 'l1')\n",
        "  logreg_pipe = make_pipeline(StandardScaler(), logreg)\n",
        "  logreg_pipe.fit(X_train, y_train)\n",
        "  predictions = logreg_pipe.predict(X_test)\n",
        "\n",
        "  # Score the model\n",
        "  train_scores.append(logreg_pipe.score(X_train, y_train))\n",
        "  test_scores.append(logreg_pipe.score(X_test, y_test))\n",
        "  test_recall_scores.append(recall_score(y_test, predictions))\n",
        "  test_precision_scores.append(precision_score(y_test, predictions))"
      ],
      "metadata": {
        "colab": {
          "base_uri": "https://localhost:8080/"
        },
        "id": "5FnD5Rq_SjXp",
        "outputId": "d04f9a97-f99f-4486-b1ee-2bdc91407a1e"
      },
      "execution_count": 136,
      "outputs": [
        {
          "output_type": "stream",
          "name": "stderr",
          "text": [
            "/usr/local/lib/python3.7/dist-packages/sklearn/metrics/_classification.py:1318: UndefinedMetricWarning: Precision is ill-defined and being set to 0.0 due to no predicted samples. Use `zero_division` parameter to control this behavior.\n",
            "  _warn_prf(average, modifier, msg_start, len(result))\n",
            "/usr/local/lib/python3.7/dist-packages/sklearn/metrics/_classification.py:1318: UndefinedMetricWarning: Precision is ill-defined and being set to 0.0 due to no predicted samples. Use `zero_division` parameter to control this behavior.\n",
            "  _warn_prf(average, modifier, msg_start, len(result))\n"
          ]
        }
      ]
    },
    {
      "cell_type": "code",
      "source": [
        "# Graph the scores\n",
        "fig, ax = plt.subplots(1, 1, figsize = (10, 10));\n",
        "ax.plot(c_values, train_scores, label = 'Train Scores');\n",
        "ax.plot(c_values, test_scores, label = 'Test Scores');\n",
        "ax.plot(c_values, test_recall_scores, label = 'Test Recall');\n",
        "ax.plot(c_values, test_precision_scores, label = 'Test Precision')\n",
        "ax.set_xticks(c_values);\n",
        "ax.set_xscale('log');\n",
        "ax.set_title('Accuracy vs. C values with L1 tuning')\n",
        "ax.legend();\n",
        "\n",
        "# Display a dictionary of scores\n",
        "print('Test Accuracy')\n",
        "print({c:score for c, score in zip(c_values, test_scores)})\n",
        "print('\\nTest Recall')\n",
        "print({c:score for c, score in zip(c_values, test_recall_scores)})\n",
        "print('\\nTest Precision')\n",
        "print({c:score for c, score in zip(c_values, test_precision_scores)})"
      ],
      "metadata": {
        "colab": {
          "base_uri": "https://localhost:8080/",
          "height": 193
        },
        "id": "BYhp8PfFVsyB",
        "outputId": "c50263ec-509e-458c-f69e-d09c3a7176ba"
      },
      "execution_count": 137,
      "outputs": [
        {
          "output_type": "stream",
          "name": "stdout",
          "text": [
            "Test Accuracy\n",
            "{0.0001: 0.6223776223776224, 0.001: 0.6223776223776224, 0.01: 0.951048951048951, 0.1: 0.972027972027972, 1.0: 0.972027972027972, 10.0: 0.9440559440559441, 100.0: 0.9370629370629371, 1000.0: 0.9370629370629371}\n",
            "\n",
            "Test Recall\n",
            "{0.0001: 0.0, 0.001: 0.0, 0.01: 1.0, 0.1: 0.9629629629629629, 1.0: 0.9814814814814815, 10.0: 0.9814814814814815, 100.0: 0.9814814814814815, 1000.0: 0.9814814814814815}\n",
            "\n",
            "Test Precision\n",
            "{0.0001: 0.0, 0.001: 0.0, 0.01: 0.8852459016393442, 0.1: 0.9629629629629629, 1.0: 0.9464285714285714, 10.0: 0.8833333333333333, 100.0: 0.8688524590163934, 1000.0: 0.8688524590163934}\n"
          ]
        },
        {
          "output_type": "display_data",
          "data": {
            "text/plain": [
              "<Figure size 720x720 with 1 Axes>"
            ],
            "image/png": "[encoded data removed]"
          },
          "metadata": {
            "needs_background": "light"
          }
        }
      ]
    },
    {
      "cell_type": "markdown",
      "source": [
        "### L2 tuning"
      ],
      "metadata": {
        "id": "YC6sUv26YZEl"
      }
    },
    {
      "cell_type": "code",
      "source": [
        "# Construct a logistic model using l2 tuning.\n",
        "\n",
        "# Construct a list of C values and create \n",
        "# lists to store the scores\n",
        "c_values = np.float_power(10, range(-4,4))\n",
        "train_scores = []\n",
        "test_scores = []\n",
        "test_recall_scores = []\n",
        "test_precision_scores = []\n",
        "\n",
        "# Loop through the C values\n",
        "for c in c_values:\n",
        "  # Construct the pipeline\n",
        "  logreg = LogisticRegression(C = c, max_iter = 1000, solver = 'liblinear', penalty = 'l2')\n",
        "  logreg_pipe = make_pipeline(StandardScaler(), logreg)\n",
        "  logreg_pipe.fit(X_train, y_train)\n",
        "  predictions = logreg_pipe.predict(X_test)\n",
        "\n",
        "  # Score the model\n",
        "  train_scores.append(logreg_pipe.score(X_train, y_train))\n",
        "  test_scores.append(logreg_pipe.score(X_test, y_test))\n",
        "  test_recall_scores.append(recall_score(y_test, predictions))\n",
        "  test_precision_scores.append(precision_score(y_test, predictions))"
      ],
      "metadata": {
        "id": "ItGu3jVyYc8g"
      },
      "execution_count": 138,
      "outputs": []
    },
    {
      "cell_type": "code",
      "source": [
        "# Graph the scores\n",
        "fig, ax = plt.subplots(1, 1, figsize = (10, 10));\n",
        "ax.plot(c_values, train_scores, label = 'Train Accuracy');\n",
        "ax.plot(c_values, test_scores, label = 'Test Accuracy');\n",
        "ax.plot(c_values, test_recall_scores, label = 'Test Recall');\n",
        "ax.plot(c_values, test_precision_scores, label = 'Test Precision')\n",
        "ax.set_xticks(c_values);\n",
        "ax.set_xscale('log');\n",
        "ax.set_title('Accuracy vs. C values with L2 tuning')\n",
        "ax.legend();\n",
        "\n",
        "# Display a dictionary of scores\n",
        "print('Test Accuracy')\n",
        "print({c:score for c, score in zip(c_values, test_scores)})\n",
        "print('\\nTest Recall')\n",
        "print({c:score for c, score in zip(c_values, test_recall_scores)})\n",
        "print('\\nTest Precision')\n",
        "print({c:score for c, score in zip(c_values, test_precision_scores)})\n"
      ],
      "metadata": {
        "colab": {
          "base_uri": "https://localhost:8080/",
          "height": 770
        },
        "id": "HEoqw0AKYnId",
        "outputId": "2aff7831-eb39-47ee-9e8f-221caebfcaa5"
      },
      "execution_count": 139,
      "outputs": [
        {
          "output_type": "stream",
          "name": "stdout",
          "text": [
            "Test Accuracy\n",
            "{0.0001: 0.951048951048951, 0.001: 0.951048951048951, 0.01: 0.9790209790209791, 0.1: 0.993006993006993, 1.0: 0.9790209790209791, 10.0: 0.972027972027972, 100.0: 0.951048951048951, 1000.0: 0.9230769230769231}\n",
            "\n",
            "Test Recall\n",
            "{0.0001: 0.9629629629629629, 0.001: 0.9629629629629629, 0.01: 0.9814814814814815, 0.1: 0.9814814814814815, 1.0: 0.9814814814814815, 10.0: 0.9814814814814815, 100.0: 0.9814814814814815, 1000.0: 0.9814814814814815}\n",
            "\n",
            "Test Precision\n",
            "{0.0001: 0.9122807017543859, 0.001: 0.9122807017543859, 0.01: 0.9636363636363636, 0.1: 1.0, 1.0: 0.9636363636363636, 10.0: 0.9464285714285714, 100.0: 0.8983050847457628, 1000.0: 0.8412698412698413}\n"
          ]
        },
        {
          "output_type": "display_data",
          "data": {
            "text/plain": [
              "<Figure size 720x720 with 1 Axes>"
            ],
            "image/png": "[encoded data removed]"
          },
          "metadata": {
            "needs_background": "light"
          }
        }
      ]
    },
    {
      "cell_type": "markdown",
      "source": [
        ">Our best logistic model used L2 tuning with a C value of 0.1. It got the following scores.\n",
        "- Accuracy: 0.993\n",
        "- Recall: 0.981\n",
        "- Precission: 1.0\n",
        "\n",
        "> While we would prefer a greater recall than precision, we are happy with the overall performance of this model."
      ],
      "metadata": {
        "id": "Z2jRTnf5Y36C"
      }
    },
    {
      "cell_type": "markdown",
      "source": [
        "## K nearest neighbors model"
      ],
      "metadata": {
        "id": "mJK8tWz9eaCR"
      }
    },
    {
      "cell_type": "markdown",
      "source": [
        "### Default model"
      ],
      "metadata": {
        "id": "eAtSba17rGTd"
      }
    },
    {
      "cell_type": "code",
      "source": [
        "# Construct a default k nearest neighbors model\n",
        "knn_pipe = make_pipeline(StandardScaler(), KNeighborsClassifier())\n",
        "knn_pipe.fit(X_train, y_train)"
      ],
      "metadata": {
        "colab": {
          "base_uri": "https://localhost:8080/"
        },
        "id": "8xcqve1CecbW",
        "outputId": "b2fea6b1-0abc-49d7-b55b-5e2c20849b58"
      },
      "execution_count": 145,
      "outputs": [
        {
          "output_type": "execute_result",
          "data": {
            "text/plain": [
              "Pipeline(steps=[('standardscaler', StandardScaler()),\n",
              "                ('kneighborsclassifier', KNeighborsClassifier())])"
            ]
          },
          "metadata": {},
          "execution_count": 145
        }
      ]
    },
    {
      "cell_type": "code",
      "source": [
        "# Score the default model\n",
        "knn_predictions = knn_pipe.predict(X_test)\n",
        "print('Accuracy of default knn model:', knn_pipe.score(X_test, y_test))\n",
        "print('Recall of default knn model:', recall_score(y_test, knn_predictions))\n",
        "print('Precision of default knn model:', precision_score(y_test, knn_predictions))"
      ],
      "metadata": {
        "colab": {
          "base_uri": "https://localhost:8080/"
        },
        "id": "DEf-6LOTrtc_",
        "outputId": "6db5e058-e9cf-430b-8050-3d089ee1b69b"
      },
      "execution_count": 155,
      "outputs": [
        {
          "output_type": "stream",
          "name": "stdout",
          "text": [
            "Accuracy of default knn model: 0.958041958041958\n",
            "Recall of default knn model: 0.9444444444444444\n",
            "Precision of default knn model: 0.9444444444444444\n"
          ]
        }
      ]
    },
    {
      "cell_type": "markdown",
      "source": [
        "> As we can see our default k-nearest neighbors model does not scores as highly as our default logistic regression model. We will try tuning the k-nearest neighbors model using GridSearchCV."
      ],
      "metadata": {
        "id": "wZvE3CYTsg9S"
      }
    },
    {
      "cell_type": "markdown",
      "source": [
        "### Tune the k-nearest neighbors model with GridSearchCV"
      ],
      "metadata": {
        "id": "-JpD-lqbsz0C"
      }
    },
    {
      "cell_type": "code",
      "source": [
        "# Get the hyper parameters of our default model\n",
        "knn_pipe.get_params()"
      ],
      "metadata": {
        "colab": {
          "base_uri": "https://localhost:8080/"
        },
        "id": "Ow_6GBKtsxW6",
        "outputId": "1eb6044b-af37-4bcb-cb3c-5f3e8d4a8415"
      },
      "execution_count": 157,
      "outputs": [
        {
          "output_type": "execute_result",
          "data": {
            "text/plain": [
              "{'kneighborsclassifier': KNeighborsClassifier(),\n",
              " 'kneighborsclassifier__algorithm': 'auto',\n",
              " 'kneighborsclassifier__leaf_size': 30,\n",
              " 'kneighborsclassifier__metric': 'minkowski',\n",
              " 'kneighborsclassifier__metric_params': None,\n",
              " 'kneighborsclassifier__n_jobs': None,\n",
              " 'kneighborsclassifier__n_neighbors': 5,\n",
              " 'kneighborsclassifier__p': 2,\n",
              " 'kneighborsclassifier__weights': 'uniform',\n",
              " 'memory': None,\n",
              " 'standardscaler': StandardScaler(),\n",
              " 'standardscaler__copy': True,\n",
              " 'standardscaler__with_mean': True,\n",
              " 'standardscaler__with_std': True,\n",
              " 'steps': [('standardscaler', StandardScaler()),\n",
              "  ('kneighborsclassifier', KNeighborsClassifier())],\n",
              " 'verbose': False}"
            ]
          },
          "metadata": {},
          "execution_count": 157
        }
      ]
    },
    {
      "cell_type": "code",
      "source": [
        "# Make a dictionary of parameters to tune.\n",
        "grid_param = {'kneighborsclassifier__n_neighbors': range(1, 20),\n",
        "              'kneighborsclassifier__p': range(1, 10),\n",
        "              'kneighborsclassifier__weights': ['distance', 'uniform']}"
      ],
      "metadata": {
        "id": "b0dI8d_At8Pu"
      },
      "execution_count": 178,
      "outputs": []
    },
    {
      "cell_type": "code",
      "source": [
        "# Tune the model\n",
        "knn_pipe_gs = GridSearchCV(knn_pipe, grid_param)\n",
        "knn_pipe_gs.fit(X_train, y_train)"
      ],
      "metadata": {
        "colab": {
          "base_uri": "https://localhost:8080/"
        },
        "id": "41qHQ2y8uaI8",
        "outputId": "79092a0f-4394-4851-ef69-b813a01b548b"
      },
      "execution_count": 179,
      "outputs": [
        {
          "output_type": "execute_result",
          "data": {
            "text/plain": [
              "GridSearchCV(estimator=Pipeline(steps=[('standardscaler', StandardScaler()),\n",
              "                                       ('kneighborsclassifier',\n",
              "                                        KNeighborsClassifier())]),\n",
              "             param_grid={'kneighborsclassifier__n_neighbors': range(1, 20),\n",
              "                         'kneighborsclassifier__p': range(1, 10),\n",
              "                         'kneighborsclassifier__weights': ['distance',\n",
              "                                                           'uniform']})"
            ]
          },
          "metadata": {},
          "execution_count": 179
        }
      ]
    },
    {
      "cell_type": "code",
      "source": [
        "# Get the best parameters\n",
        "print('Best KNN Parameters:')\n",
        "print(knn_pipe_gs.best_params_)\n",
        "\n",
        "# Get the best model\n",
        "best_knn = knn_pipe_gs.best_estimator_"
      ],
      "metadata": {
        "colab": {
          "base_uri": "https://localhost:8080/"
        },
        "id": "ESdh1qWYw1Ft",
        "outputId": "a6d14b78-97b9-4034-d3c6-cd0834ccd78c"
      },
      "execution_count": 180,
      "outputs": [
        {
          "output_type": "stream",
          "name": "stdout",
          "text": [
            "Best KNN Parameters:\n",
            "{'kneighborsclassifier__n_neighbors': 5, 'kneighborsclassifier__p': 4, 'kneighborsclassifier__weights': 'distance'}\n"
          ]
        }
      ]
    },
    {
      "cell_type": "code",
      "source": [
        "# Evaluate the best model\n",
        "knn_predictions = best_knn.predict(X_test)\n",
        "print('Accuray of best KNN model:', best_knn.score(X_test, y_test))\n",
        "print('Recall of best KNN model:', recall_score(y_test, knn_predictions))\n",
        "print('Precision of best KNN model:', precision_score(y_test, knn_predictions))"
      ],
      "metadata": {
        "colab": {
          "base_uri": "https://localhost:8080/"
        },
        "id": "YC-zzgcGw6oY",
        "outputId": "c8fdb232-bfd9-4e0a-8209-056a4af30904"
      },
      "execution_count": 181,
      "outputs": [
        {
          "output_type": "stream",
          "name": "stdout",
          "text": [
            "Accuray of best KNN model: 0.951048951048951\n",
            "Recall of best KNN model: 0.9259259259259259\n",
            "Precision of best KNN model: 0.9433962264150944\n"
          ]
        }
      ]
    },
    {
      "cell_type": "markdown",
      "source": [
        "## Random forest model"
      ],
      "metadata": {
        "id": "qDEVohY8z1c8"
      }
    },
    {
      "cell_type": "markdown",
      "source": [
        "### Default model"
      ],
      "metadata": {
        "id": "NDJ06kixz88F"
      }
    },
    {
      "cell_type": "code",
      "source": [
        "# Construct a default random forest model\n",
        "rf = RandomForestClassifier()\n",
        "rf.fit(X_train, y_train)"
      ],
      "metadata": {
        "colab": {
          "base_uri": "https://localhost:8080/"
        },
        "id": "kYkcJ_-Az3s3",
        "outputId": "33709041-7148-41a7-be18-0e1b2f4ac493"
      },
      "execution_count": 186,
      "outputs": [
        {
          "output_type": "execute_result",
          "data": {
            "text/plain": [
              "RandomForestClassifier()"
            ]
          },
          "metadata": {},
          "execution_count": 186
        }
      ]
    },
    {
      "cell_type": "code",
      "source": [
        "# Evaluate the default model\n",
        "rf_predictions = rf.predict(X_test)\n",
        "print('Accuracy of default random forest:', rf.score(X_test, y_test))\n",
        "print('Recall of default random forest:', recall_score(y_test, rf_predictions))\n",
        "print('Precision of default random forest:', precision_score(y_test, rf_predictions))"
      ],
      "metadata": {
        "colab": {
          "base_uri": "https://localhost:8080/"
        },
        "id": "y51gEQ5i0Plj",
        "outputId": "2b655bcc-57fd-49cb-e31a-d8aa046b3099"
      },
      "execution_count": 189,
      "outputs": [
        {
          "output_type": "stream",
          "name": "stdout",
          "text": [
            "Accuracy of default random forest: 0.965034965034965\n",
            "Recall of default random forest: 0.9444444444444444\n",
            "Precision of default random forest: 0.9622641509433962\n"
          ]
        }
      ]
    },
    {
      "cell_type": "markdown",
      "source": [
        "> The default random forest performs slightly better than the default knn, but does not outperform logistic regression. We will tune the random forest using GridSearchCV"
      ],
      "metadata": {
        "id": "W12EJcl70130"
      }
    },
    {
      "cell_type": "markdown",
      "source": [
        "### Tune the random forest using GridSearchCV"
      ],
      "metadata": {
        "id": "_uvQWUIh1HiX"
      }
    },
    {
      "cell_type": "code",
      "source": [
        "# Get the hyperparameters for the random forest\n",
        "rf.get_params()"
      ],
      "metadata": {
        "colab": {
          "base_uri": "https://localhost:8080/"
        },
        "id": "szhIkHCJ1FGZ",
        "outputId": "9271524a-2a7e-4795-9824-5c08429b7cd5"
      },
      "execution_count": 200,
      "outputs": [
        {
          "output_type": "execute_result",
          "data": {
            "text/plain": [
              "{'bootstrap': True,\n",
              " 'ccp_alpha': 0.0,\n",
              " 'class_weight': None,\n",
              " 'criterion': 'gini',\n",
              " 'max_depth': None,\n",
              " 'max_features': 'auto',\n",
              " 'max_leaf_nodes': None,\n",
              " 'max_samples': None,\n",
              " 'min_impurity_decrease': 0.0,\n",
              " 'min_samples_leaf': 1,\n",
              " 'min_samples_split': 2,\n",
              " 'min_weight_fraction_leaf': 0.0,\n",
              " 'n_estimators': 100,\n",
              " 'n_jobs': None,\n",
              " 'oob_score': False,\n",
              " 'random_state': None,\n",
              " 'verbose': 0,\n",
              " 'warm_start': False}"
            ]
          },
          "metadata": {},
          "execution_count": 200
        }
      ]
    },
    {
      "cell_type": "code",
      "source": [
        "# Construct a grid_param dictionary\n",
        "param_grid = {'max_depth': range(1, 10),\n",
        "              'min_samples_leaf': range(1, 5),\n",
        "              'min_samples_split': [2, 8, 16]}"
      ],
      "metadata": {
        "id": "EUflyEha3fSQ"
      },
      "execution_count": 219,
      "outputs": []
    },
    {
      "cell_type": "code",
      "source": [
        "# Tune the random forest \n",
        "rf_grid_search = GridSearchCV(rf, param_grid)\n",
        "rf_grid_search.fit(X_train, y_train)"
      ],
      "metadata": {
        "colab": {
          "base_uri": "https://localhost:8080/"
        },
        "id": "g8Nq8sUW5HGO",
        "outputId": "a365bf41-f00c-4140-9dee-3d04a92c047b"
      },
      "execution_count": 220,
      "outputs": [
        {
          "output_type": "execute_result",
          "data": {
            "text/plain": [
              "GridSearchCV(estimator=RandomForestClassifier(),\n",
              "             param_grid={'max_depth': range(1, 10),\n",
              "                         'min_samples_leaf': range(1, 5),\n",
              "                         'min_samples_split': [2, 8, 16]})"
            ]
          },
          "metadata": {},
          "execution_count": 220
        }
      ]
    },
    {
      "cell_type": "code",
      "source": [
        "# Get the best parameters\n",
        "rf_grid_search.best_params_"
      ],
      "metadata": {
        "colab": {
          "base_uri": "https://localhost:8080/"
        },
        "id": "-U7X_dib5Ml7",
        "outputId": "228f5d51-7419-41b9-c21a-371ab975b738"
      },
      "execution_count": 221,
      "outputs": [
        {
          "output_type": "execute_result",
          "data": {
            "text/plain": [
              "{'max_depth': 6, 'min_samples_leaf': 1, 'min_samples_split': 2}"
            ]
          },
          "metadata": {},
          "execution_count": 221
        }
      ]
    },
    {
      "cell_type": "code",
      "source": [
        "# Get the best model\n",
        "best_rf = rf_grid_search.best_estimator_"
      ],
      "metadata": {
        "id": "Mdp23dhE57zw"
      },
      "execution_count": 222,
      "outputs": []
    },
    {
      "cell_type": "code",
      "source": [
        "# Evaluate the best model on the test set\n",
        "rf_predictions = best_rf.predict(X_test)\n",
        "print('Accuray of the random forest:', best_rf.score(X_test, y_test))\n",
        "print('Recall of the random forest:', recall_score(y_test, rf_predictions))\n",
        "print('Precision of the random forest:', precision_score(y_test, rf_predictions))"
      ],
      "metadata": {
        "colab": {
          "base_uri": "https://localhost:8080/"
        },
        "id": "XdYeDCwF6ETV",
        "outputId": "3904a75f-27ac-4ca6-95ab-58939ed708e4"
      },
      "execution_count": 223,
      "outputs": [
        {
          "output_type": "stream",
          "name": "stdout",
          "text": [
            "Accuray of the random forest: 0.972027972027972\n",
            "Recall of the random forest: 0.9444444444444444\n",
            "Precision of the random forest: 0.9807692307692307\n"
          ]
        }
      ]
    }
  ]
}
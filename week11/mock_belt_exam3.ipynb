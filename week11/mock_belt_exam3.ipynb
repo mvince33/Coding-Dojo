{
  "nbformat": 4,
  "nbformat_minor": 0,
  "metadata": {
    "colab": {
      "provenance": [],
      "authorship_tag": "ABX9TyNzhONytng340yW9ky+D+Mh",
      "include_colab_link": true
    },
    "kernelspec": {
      "name": "python3",
      "display_name": "Python 3"
    },
    "language_info": {
      "name": "python"
    }
  },
  "cells": [
    {
      "cell_type": "markdown",
      "metadata": {
        "id": "view-in-github",
        "colab_type": "text"
      },
      "source": [
        "<a href=\"https://colab.research.google.com/github/mvince33/Coding-Dojo/blob/main/week11/mock_belt_exam3.ipynb\" target=\"_parent\"><img src=\"https://colab.research.google.com/assets/colab-badge.svg\" alt=\"Open In Colab\"/></a>"
      ]
    },
    {
      "cell_type": "markdown",
      "source": [
        "# Mock Belt Exam 3"
      ],
      "metadata": {
        "id": "VMsrJ2lgr6-P"
      }
    },
    {
      "cell_type": "markdown",
      "source": [
        "## Checklist"
      ],
      "metadata": {
        "id": "yAs7YihvKW1r"
      }
    },
    {
      "cell_type": "markdown",
      "source": [
        "- [x] Clustering data file is correctly loaded\n",
        "- [x] Data is properly cleaned\n",
        "\n",
        "Clustering\n",
        "\n",
        "- [x] Data is properly prepared for clustering\n",
        "- [x] KMeans model is fit on data\n",
        "- [x] Compare inertia over 2-10 clusters\n",
        "- [x] Compare silhouette score over 2-10 clusters\n",
        "- [x] Explain choice of number of clusters based on silhouette score or inertia\n",
        "- [x] 1st explanatory visualization shows a difference between clusters\n",
        "- [x] Interprets 1st visualization to describe a trend in clusters\n",
        "- [x] 2nd explanatory visualization shows a difference between clusters\n",
        "- [x] Interprets 2nd visualization to describe a trend in clusters\n",
        "\n",
        "Modeling\n",
        "\n",
        "- [x] Modeling data file is correctly loaded\n",
        "- [x] Train/test split is performed\n",
        "- [x] Data is prepared for PCA without data leakage\n",
        "- [x] PCA is performed without data leakage\n",
        "- [x] Sequential deep learning model 1 is created and fit on data\n",
        "- [x] Reasons for changes between models 1 and 2 are explained in text\n",
        "- [x] Sequential deep learning model 2 is created and fit on data\n",
        "- [x] Reasons for changes between models 2 and 3 are explained in text\n",
        "- [x] Sequential deep learning model 3 is created and fit on data\n",
        "- [x] Regularization is used with at least 1 model.\n",
        "- [x] Each model's final layer is appropriate to the prediction type\n",
        "- [x] Model loss function is appropriate to prediction type\n",
        "- [x] Final model is chosen\n",
        "- [x] Final model choice is justified in text.\n",
        "- [x] Evaluates final model with multiple appropriate metrics\n",
        "- [x] Summary relates final model performance to business problem\n",
        "\n",
        "Other\n",
        "\n",
        "- [x] File Reqts: Python code for part 1\n",
        "- [x] File Reqts: Python code for part 2\n",
        "- [x] Code: Organization, structure, indentation, comments\n",
        "- [x] Code: Unnecessary code or errors in code\n",
        "- [x] Code: Unnecessary imports\n",
        "- [x] Code: Unnecessary files"
      ],
      "metadata": {
        "id": "Muscmbxprwus"
      }
    },
    {
      "cell_type": "code",
      "source": [
        "# Helper function from the Coding Dojo learning platform to help visualize the \n",
        "# metrics of our models\n",
        "\n",
        "# Learning history plotting function\n",
        "def plot_history(history):\n",
        "  \"\"\"Takes a keras model learning history and plots each metric\"\"\"\n",
        "  \n",
        "  metrics = history.history.keys()\n",
        "  \n",
        "  for metric in metrics:\n",
        "      if not 'val' in metric:\n",
        "        plt.plot(history.history[f'{metric}'], label=f'{metric}')\n",
        "        if f'val_{metric}' in metrics:\n",
        "          plt.plot(history.history[f'val_{metric}'], label=f'val_{metric}')\n",
        "        plt.legend()\n",
        "        plt.title(f'{metric}')\n",
        "        plt.show()"
      ],
      "metadata": {
        "id": "meFrwJ8TC_ae"
      },
      "execution_count": 338,
      "outputs": []
    },
    {
      "cell_type": "markdown",
      "source": [
        "## Imports"
      ],
      "metadata": {
        "id": "21v1uzF-KTiZ"
      }
    },
    {
      "cell_type": "code",
      "execution_count": 339,
      "metadata": {
        "id": "idhDIgThrrtX"
      },
      "outputs": [],
      "source": [
        "# Imports\n",
        "import numpy as np\n",
        "import pandas as pd\n",
        "import matplotlib.pyplot as plt\n",
        "\n",
        "# Sci-kit learn\n",
        "from sklearn.preprocessing import StandardScaler\n",
        "from sklearn.cluster import KMeans\n",
        "from sklearn.metrics import silhouette_score\n",
        "from sklearn.decomposition import PCA\n",
        "from sklearn.model_selection import train_test_split\n",
        "from sklearn.pipeline import make_pipeline\n",
        "from sklearn.metrics import classification_report, ConfusionMatrixDisplay\n",
        "\n",
        "# Keras\n",
        "from tensorflow.keras.models import Sequential\n",
        "from tensorflow.keras.layers import Dense, Dropout\n",
        "from tensorflow.keras import metrics\n",
        "from tensorflow.keras.callbacks import EarlyStopping"
      ]
    },
    {
      "cell_type": "markdown",
      "source": [
        "## Load the data"
      ],
      "metadata": {
        "id": "XaZ2nDyaKRau"
      }
    },
    {
      "cell_type": "code",
      "source": [
        "# Load the data\n",
        "url = 'https://docs.google.com/spreadsheets/d/e/2PACX-1vQUNT3U_YhCjTxSCr9HoAS9TWPWOvs2qxlAN9NOktCv1S8sjzj2rJ81jBX6mLr_8TFwer-Ya2M1fPx8/pub?output=csv'\n",
        "df = pd.read_csv(url)\n",
        "df.head()"
      ],
      "metadata": {
        "id": "FqWU-nKhKIEx",
        "outputId": "a818d549-4456-4496-ca01-9c7df82841b3",
        "colab": {
          "base_uri": "https://localhost:8080/",
          "height": 332
        }
      },
      "execution_count": 340,
      "outputs": [
        {
          "output_type": "execute_result",
          "data": {
            "text/plain": [
              "   Age  Class  Flight Distance  Inflight wifi service  \\\n",
              "0   26      3             2062                      2   \n",
              "1   52      3              680                      5   \n",
              "2   28      1              188                      3   \n",
              "3   54      3              453                      3   \n",
              "4   40      1              775                      4   \n",
              "\n",
              "   Departure/Arrival time convenient  Ease of Online booking  Gate location  \\\n",
              "0                                  3                       3              3   \n",
              "1                                  5                       5              5   \n",
              "2                                  5                       3              4   \n",
              "3                                  5                       5              5   \n",
              "4                                  3                       3              3   \n",
              "\n",
              "   Food and drink  Online boarding  Seat comfort  ...  Baggage handling  \\\n",
              "0               2                2             2  ...                 3   \n",
              "1               3                4             4  ...                 4   \n",
              "2               3                3             3  ...                 4   \n",
              "3               3                4             4  ...                 3   \n",
              "4               4                4             4  ...                 3   \n",
              "\n",
              "   Checkin service  Inflight service  Cleanliness  Departure Delay in Minutes  \\\n",
              "0                3                 3            2                           0   \n",
              "1                4                 4            4                          18   \n",
              "2                4                 5            3                           0   \n",
              "3                4                 3            1                          91   \n",
              "4                3                 3            4                           0   \n",
              "\n",
              "   Arrival Delay in Minutes  Gender_Male  Loyal Customer  Business Travel  \\\n",
              "0                         0            0               1                1   \n",
              "1                         2            0               1                1   \n",
              "2                         0            1               1                0   \n",
              "3                        80            0               1                1   \n",
              "4                         0            1               1                1   \n",
              "\n",
              "   satisfied  \n",
              "0          0  \n",
              "1          1  \n",
              "2          0  \n",
              "3          0  \n",
              "4          0  \n",
              "\n",
              "[5 rows x 23 columns]"
            ],
            "text/html": [
              "\n",
              "  <div id=\"df-150b5d1a-6fd5-420b-9e72-55a5efa911f0\">\n",
              "    <div class=\"colab-df-container\">\n",
              "      <div>\n",
              "<style scoped>\n",
              "    .dataframe tbody tr th:only-of-type {\n",
              "        vertical-align: middle;\n",
              "    }\n",
              "\n",
              "    .dataframe tbody tr th {\n",
              "        vertical-align: top;\n",
              "    }\n",
              "\n",
              "    .dataframe thead th {\n",
              "        text-align: right;\n",
              "    }\n",
              "</style>\n",
              "<table border=\"1\" class=\"dataframe\">\n",
              "  <thead>\n",
              "    <tr style=\"text-align: right;\">\n",
              "      <th></th>\n",
              "      <th>Age</th>\n",
              "      <th>Class</th>\n",
              "      <th>Flight Distance</th>\n",
              "      <th>Inflight wifi service</th>\n",
              "      <th>Departure/Arrival time convenient</th>\n",
              "      <th>Ease of Online booking</th>\n",
              "      <th>Gate location</th>\n",
              "      <th>Food and drink</th>\n",
              "      <th>Online boarding</th>\n",
              "      <th>Seat comfort</th>\n",
              "      <th>...</th>\n",
              "      <th>Baggage handling</th>\n",
              "      <th>Checkin service</th>\n",
              "      <th>Inflight service</th>\n",
              "      <th>Cleanliness</th>\n",
              "      <th>Departure Delay in Minutes</th>\n",
              "      <th>Arrival Delay in Minutes</th>\n",
              "      <th>Gender_Male</th>\n",
              "      <th>Loyal Customer</th>\n",
              "      <th>Business Travel</th>\n",
              "      <th>satisfied</th>\n",
              "    </tr>\n",
              "  </thead>\n",
              "  <tbody>\n",
              "    <tr>\n",
              "      <th>0</th>\n",
              "      <td>26</td>\n",
              "      <td>3</td>\n",
              "      <td>2062</td>\n",
              "      <td>2</td>\n",
              "      <td>3</td>\n",
              "      <td>3</td>\n",
              "      <td>3</td>\n",
              "      <td>2</td>\n",
              "      <td>2</td>\n",
              "      <td>2</td>\n",
              "      <td>...</td>\n",
              "      <td>3</td>\n",
              "      <td>3</td>\n",
              "      <td>3</td>\n",
              "      <td>2</td>\n",
              "      <td>0</td>\n",
              "      <td>0</td>\n",
              "      <td>0</td>\n",
              "      <td>1</td>\n",
              "      <td>1</td>\n",
              "      <td>0</td>\n",
              "    </tr>\n",
              "    <tr>\n",
              "      <th>1</th>\n",
              "      <td>52</td>\n",
              "      <td>3</td>\n",
              "      <td>680</td>\n",
              "      <td>5</td>\n",
              "      <td>5</td>\n",
              "      <td>5</td>\n",
              "      <td>5</td>\n",
              "      <td>3</td>\n",
              "      <td>4</td>\n",
              "      <td>4</td>\n",
              "      <td>...</td>\n",
              "      <td>4</td>\n",
              "      <td>4</td>\n",
              "      <td>4</td>\n",
              "      <td>4</td>\n",
              "      <td>18</td>\n",
              "      <td>2</td>\n",
              "      <td>0</td>\n",
              "      <td>1</td>\n",
              "      <td>1</td>\n",
              "      <td>1</td>\n",
              "    </tr>\n",
              "    <tr>\n",
              "      <th>2</th>\n",
              "      <td>28</td>\n",
              "      <td>1</td>\n",
              "      <td>188</td>\n",
              "      <td>3</td>\n",
              "      <td>5</td>\n",
              "      <td>3</td>\n",
              "      <td>4</td>\n",
              "      <td>3</td>\n",
              "      <td>3</td>\n",
              "      <td>3</td>\n",
              "      <td>...</td>\n",
              "      <td>4</td>\n",
              "      <td>4</td>\n",
              "      <td>5</td>\n",
              "      <td>3</td>\n",
              "      <td>0</td>\n",
              "      <td>0</td>\n",
              "      <td>1</td>\n",
              "      <td>1</td>\n",
              "      <td>0</td>\n",
              "      <td>0</td>\n",
              "    </tr>\n",
              "    <tr>\n",
              "      <th>3</th>\n",
              "      <td>54</td>\n",
              "      <td>3</td>\n",
              "      <td>453</td>\n",
              "      <td>3</td>\n",
              "      <td>5</td>\n",
              "      <td>5</td>\n",
              "      <td>5</td>\n",
              "      <td>3</td>\n",
              "      <td>4</td>\n",
              "      <td>4</td>\n",
              "      <td>...</td>\n",
              "      <td>3</td>\n",
              "      <td>4</td>\n",
              "      <td>3</td>\n",
              "      <td>1</td>\n",
              "      <td>91</td>\n",
              "      <td>80</td>\n",
              "      <td>0</td>\n",
              "      <td>1</td>\n",
              "      <td>1</td>\n",
              "      <td>0</td>\n",
              "    </tr>\n",
              "    <tr>\n",
              "      <th>4</th>\n",
              "      <td>40</td>\n",
              "      <td>1</td>\n",
              "      <td>775</td>\n",
              "      <td>4</td>\n",
              "      <td>3</td>\n",
              "      <td>3</td>\n",
              "      <td>3</td>\n",
              "      <td>4</td>\n",
              "      <td>4</td>\n",
              "      <td>4</td>\n",
              "      <td>...</td>\n",
              "      <td>3</td>\n",
              "      <td>3</td>\n",
              "      <td>3</td>\n",
              "      <td>4</td>\n",
              "      <td>0</td>\n",
              "      <td>0</td>\n",
              "      <td>1</td>\n",
              "      <td>1</td>\n",
              "      <td>1</td>\n",
              "      <td>0</td>\n",
              "    </tr>\n",
              "  </tbody>\n",
              "</table>\n",
              "<p>5 rows × 23 columns</p>\n",
              "</div>\n",
              "      <button class=\"colab-df-convert\" onclick=\"convertToInteractive('df-150b5d1a-6fd5-420b-9e72-55a5efa911f0')\"\n",
              "              title=\"Convert this dataframe to an interactive table.\"\n",
              "              style=\"display:none;\">\n",
              "        \n",
              "  <svg xmlns=\"http://www.w3.org/2000/svg\" height=\"24px\"viewBox=\"0 0 24 24\"\n",
              "       width=\"24px\">\n",
              "    <path d=\"M0 0h24v24H0V0z\" fill=\"none\"/>\n",
              "    <path d=\"M18.56 5.44l.94 2.06.94-2.06 2.06-.94-2.06-.94-.94-2.06-.94 2.06-2.06.94zm-11 1L8.5 8.5l.94-2.06 2.06-.94-2.06-.94L8.5 2.5l-.94 2.06-2.06.94zm10 10l.94 2.06.94-2.06 2.06-.94-2.06-.94-.94-2.06-.94 2.06-2.06.94z\"/><path d=\"M17.41 7.96l-1.37-1.37c-.4-.4-.92-.59-1.43-.59-.52 0-1.04.2-1.43.59L10.3 9.45l-7.72 7.72c-.78.78-.78 2.05 0 2.83L4 21.41c.39.39.9.59 1.41.59.51 0 1.02-.2 1.41-.59l7.78-7.78 2.81-2.81c.8-.78.8-2.07 0-2.86zM5.41 20L4 18.59l7.72-7.72 1.47 1.35L5.41 20z\"/>\n",
              "  </svg>\n",
              "      </button>\n",
              "      \n",
              "  <style>\n",
              "    .colab-df-container {\n",
              "      display:flex;\n",
              "      flex-wrap:wrap;\n",
              "      gap: 12px;\n",
              "    }\n",
              "\n",
              "    .colab-df-convert {\n",
              "      background-color: #E8F0FE;\n",
              "      border: none;\n",
              "      border-radius: 50%;\n",
              "      cursor: pointer;\n",
              "      display: none;\n",
              "      fill: #1967D2;\n",
              "      height: 32px;\n",
              "      padding: 0 0 0 0;\n",
              "      width: 32px;\n",
              "    }\n",
              "\n",
              "    .colab-df-convert:hover {\n",
              "      background-color: #E2EBFA;\n",
              "      box-shadow: 0px 1px 2px rgba(60, 64, 67, 0.3), 0px 1px 3px 1px rgba(60, 64, 67, 0.15);\n",
              "      fill: #174EA6;\n",
              "    }\n",
              "\n",
              "    [theme=dark] .colab-df-convert {\n",
              "      background-color: #3B4455;\n",
              "      fill: #D2E3FC;\n",
              "    }\n",
              "\n",
              "    [theme=dark] .colab-df-convert:hover {\n",
              "      background-color: #434B5C;\n",
              "      box-shadow: 0px 1px 3px 1px rgba(0, 0, 0, 0.15);\n",
              "      filter: drop-shadow(0px 1px 2px rgba(0, 0, 0, 0.3));\n",
              "      fill: #FFFFFF;\n",
              "    }\n",
              "  </style>\n",
              "\n",
              "      <script>\n",
              "        const buttonEl =\n",
              "          document.querySelector('#df-150b5d1a-6fd5-420b-9e72-55a5efa911f0 button.colab-df-convert');\n",
              "        buttonEl.style.display =\n",
              "          google.colab.kernel.accessAllowed ? 'block' : 'none';\n",
              "\n",
              "        async function convertToInteractive(key) {\n",
              "          const element = document.querySelector('#df-150b5d1a-6fd5-420b-9e72-55a5efa911f0');\n",
              "          const dataTable =\n",
              "            await google.colab.kernel.invokeFunction('convertToInteractive',\n",
              "                                                     [key], {});\n",
              "          if (!dataTable) return;\n",
              "\n",
              "          const docLinkHtml = 'Like what you see? Visit the ' +\n",
              "            '<a target=\"_blank\" href=https://colab.research.google.com/notebooks/data_table.ipynb>data table notebook</a>'\n",
              "            + ' to learn more about interactive tables.';\n",
              "          element.innerHTML = '';\n",
              "          dataTable['output_type'] = 'display_data';\n",
              "          await google.colab.output.renderOutput(dataTable, element);\n",
              "          const docLink = document.createElement('div');\n",
              "          docLink.innerHTML = docLinkHtml;\n",
              "          element.appendChild(docLink);\n",
              "        }\n",
              "      </script>\n",
              "    </div>\n",
              "  </div>\n",
              "  "
            ]
          },
          "metadata": {},
          "execution_count": 340
        }
      ]
    },
    {
      "cell_type": "markdown",
      "source": [
        "## Data cleaning"
      ],
      "metadata": {
        "id": "AxgRK3jdKm_y"
      }
    },
    {
      "cell_type": "code",
      "source": [
        "# Check for duplicates and missing values\n",
        "print('Duplicates:', df.duplicated().sum())\n",
        "print('Missing Values:', df.isna().sum().sum())"
      ],
      "metadata": {
        "id": "nxn3TLg0Kn9V",
        "outputId": "50db4036-9407-44f8-8078-bbfde0b0b6f1",
        "colab": {
          "base_uri": "https://localhost:8080/"
        }
      },
      "execution_count": 341,
      "outputs": [
        {
          "output_type": "stream",
          "name": "stdout",
          "text": [
            "Duplicates: 0\n",
            "Missing Values: 0\n"
          ]
        }
      ]
    },
    {
      "cell_type": "markdown",
      "source": [
        "> We see there are no missing values nor duplicates"
      ],
      "metadata": {
        "id": "OaHSIyQDKzz1"
      }
    },
    {
      "cell_type": "code",
      "source": [
        "# Use the info method on the data\n",
        "df.info()"
      ],
      "metadata": {
        "id": "xr8CHR8lKwwL",
        "outputId": "8d8b9448-b2ef-483c-e4e1-757e924cc435",
        "colab": {
          "base_uri": "https://localhost:8080/"
        }
      },
      "execution_count": 342,
      "outputs": [
        {
          "output_type": "stream",
          "name": "stdout",
          "text": [
            "<class 'pandas.core.frame.DataFrame'>\n",
            "RangeIndex: 20000 entries, 0 to 19999\n",
            "Data columns (total 23 columns):\n",
            " #   Column                             Non-Null Count  Dtype\n",
            "---  ------                             --------------  -----\n",
            " 0   Age                                20000 non-null  int64\n",
            " 1   Class                              20000 non-null  int64\n",
            " 2   Flight Distance                    20000 non-null  int64\n",
            " 3   Inflight wifi service              20000 non-null  int64\n",
            " 4   Departure/Arrival time convenient  20000 non-null  int64\n",
            " 5   Ease of Online booking             20000 non-null  int64\n",
            " 6   Gate location                      20000 non-null  int64\n",
            " 7   Food and drink                     20000 non-null  int64\n",
            " 8   Online boarding                    20000 non-null  int64\n",
            " 9   Seat comfort                       20000 non-null  int64\n",
            " 10  Inflight entertainment             20000 non-null  int64\n",
            " 11  On-board service                   20000 non-null  int64\n",
            " 12  Leg room service                   20000 non-null  int64\n",
            " 13  Baggage handling                   20000 non-null  int64\n",
            " 14  Checkin service                    20000 non-null  int64\n",
            " 15  Inflight service                   20000 non-null  int64\n",
            " 16  Cleanliness                        20000 non-null  int64\n",
            " 17  Departure Delay in Minutes         20000 non-null  int64\n",
            " 18  Arrival Delay in Minutes           20000 non-null  int64\n",
            " 19  Gender_Male                        20000 non-null  int64\n",
            " 20  Loyal Customer                     20000 non-null  int64\n",
            " 21  Business Travel                    20000 non-null  int64\n",
            " 22  satisfied                          20000 non-null  int64\n",
            "dtypes: int64(23)\n",
            "memory usage: 3.5 MB\n"
          ]
        }
      ]
    },
    {
      "cell_type": "markdown",
      "source": [
        "> This data is from a satisfaction survey. We see the data is reported as integers. "
      ],
      "metadata": {
        "id": "0DllkYTtLSqv"
      }
    },
    {
      "cell_type": "code",
      "source": [
        "# Get the descriptive statistics of the data\n",
        "df.describe()"
      ],
      "metadata": {
        "id": "RMB8u1dMLR3e",
        "outputId": "f220df34-3ba7-44f8-bd50-ff27df3bda39",
        "colab": {
          "base_uri": "https://localhost:8080/",
          "height": 428
        }
      },
      "execution_count": 343,
      "outputs": [
        {
          "output_type": "execute_result",
          "data": {
            "text/plain": [
              "                Age         Class  Flight Distance  Inflight wifi service  \\\n",
              "count  20000.000000  20000.000000     20000.000000           20000.000000   \n",
              "mean      39.477250      2.027800      1188.548000               2.727950   \n",
              "std       15.108901      0.963054      1001.136957               1.326886   \n",
              "min        7.000000      1.000000        31.000000               0.000000   \n",
              "25%       27.000000      1.000000       414.000000               2.000000   \n",
              "50%       40.000000      2.000000       842.000000               3.000000   \n",
              "75%       51.000000      3.000000      1733.000000               4.000000   \n",
              "max       85.000000      3.000000      4983.000000               5.000000   \n",
              "\n",
              "       Departure/Arrival time convenient  Ease of Online booking  \\\n",
              "count                       20000.000000            20000.000000   \n",
              "mean                            3.056100                2.751100   \n",
              "std                             1.531134                1.396799   \n",
              "min                             0.000000                0.000000   \n",
              "25%                             2.000000                2.000000   \n",
              "50%                             3.000000                3.000000   \n",
              "75%                             4.000000                4.000000   \n",
              "max                             5.000000                5.000000   \n",
              "\n",
              "       Gate location  Food and drink  Online boarding  Seat comfort  ...  \\\n",
              "count   20000.000000    20000.000000     20000.000000  20000.000000  ...   \n",
              "mean        2.971350        3.202100         3.255300      3.439100  ...   \n",
              "std         1.279575        1.332383         1.348485      1.323434  ...   \n",
              "min         0.000000        0.000000         0.000000      1.000000  ...   \n",
              "25%         2.000000        2.000000         2.000000      2.000000  ...   \n",
              "50%         3.000000        3.000000         3.000000      4.000000  ...   \n",
              "75%         4.000000        4.000000         4.000000      5.000000  ...   \n",
              "max         5.000000        5.000000         5.000000      5.000000  ...   \n",
              "\n",
              "       Baggage handling  Checkin service  Inflight service   Cleanliness  \\\n",
              "count      20000.000000     20000.000000      20000.000000  20000.000000   \n",
              "mean           3.623650         3.302850          3.635550      3.282650   \n",
              "std            1.186837         1.259131          1.184017      1.311734   \n",
              "min            1.000000         1.000000          0.000000      0.000000   \n",
              "25%            3.000000         3.000000          3.000000      2.000000   \n",
              "50%            4.000000         3.000000          4.000000      3.000000   \n",
              "75%            5.000000         4.000000          5.000000      4.000000   \n",
              "max            5.000000         5.000000          5.000000      5.000000   \n",
              "\n",
              "       Departure Delay in Minutes  Arrival Delay in Minutes   Gender_Male  \\\n",
              "count                20000.000000              20000.000000  20000.000000   \n",
              "mean                    14.318350                 14.698250      0.490650   \n",
              "std                     36.451829                 36.899857      0.499925   \n",
              "min                      0.000000                  0.000000      0.000000   \n",
              "25%                      0.000000                  0.000000      0.000000   \n",
              "50%                      0.000000                  0.000000      0.000000   \n",
              "75%                     12.000000                 13.000000      1.000000   \n",
              "max                   1305.000000               1280.000000      1.000000   \n",
              "\n",
              "       Loyal Customer  Business Travel    satisfied  \n",
              "count    20000.000000     20000.000000  20000.00000  \n",
              "mean         0.817850         0.687900      0.43305  \n",
              "std          0.385978         0.463362      0.49551  \n",
              "min          0.000000         0.000000      0.00000  \n",
              "25%          1.000000         0.000000      0.00000  \n",
              "50%          1.000000         1.000000      0.00000  \n",
              "75%          1.000000         1.000000      1.00000  \n",
              "max          1.000000         1.000000      1.00000  \n",
              "\n",
              "[8 rows x 23 columns]"
            ],
            "text/html": [
              "\n",
              "  <div id=\"df-728c830e-7435-4d07-9033-e5a9d2ed78b8\">\n",
              "    <div class=\"colab-df-container\">\n",
              "      <div>\n",
              "<style scoped>\n",
              "    .dataframe tbody tr th:only-of-type {\n",
              "        vertical-align: middle;\n",
              "    }\n",
              "\n",
              "    .dataframe tbody tr th {\n",
              "        vertical-align: top;\n",
              "    }\n",
              "\n",
              "    .dataframe thead th {\n",
              "        text-align: right;\n",
              "    }\n",
              "</style>\n",
              "<table border=\"1\" class=\"dataframe\">\n",
              "  <thead>\n",
              "    <tr style=\"text-align: right;\">\n",
              "      <th></th>\n",
              "      <th>Age</th>\n",
              "      <th>Class</th>\n",
              "      <th>Flight Distance</th>\n",
              "      <th>Inflight wifi service</th>\n",
              "      <th>Departure/Arrival time convenient</th>\n",
              "      <th>Ease of Online booking</th>\n",
              "      <th>Gate location</th>\n",
              "      <th>Food and drink</th>\n",
              "      <th>Online boarding</th>\n",
              "      <th>Seat comfort</th>\n",
              "      <th>...</th>\n",
              "      <th>Baggage handling</th>\n",
              "      <th>Checkin service</th>\n",
              "      <th>Inflight service</th>\n",
              "      <th>Cleanliness</th>\n",
              "      <th>Departure Delay in Minutes</th>\n",
              "      <th>Arrival Delay in Minutes</th>\n",
              "      <th>Gender_Male</th>\n",
              "      <th>Loyal Customer</th>\n",
              "      <th>Business Travel</th>\n",
              "      <th>satisfied</th>\n",
              "    </tr>\n",
              "  </thead>\n",
              "  <tbody>\n",
              "    <tr>\n",
              "      <th>count</th>\n",
              "      <td>20000.000000</td>\n",
              "      <td>20000.000000</td>\n",
              "      <td>20000.000000</td>\n",
              "      <td>20000.000000</td>\n",
              "      <td>20000.000000</td>\n",
              "      <td>20000.000000</td>\n",
              "      <td>20000.000000</td>\n",
              "      <td>20000.000000</td>\n",
              "      <td>20000.000000</td>\n",
              "      <td>20000.000000</td>\n",
              "      <td>...</td>\n",
              "      <td>20000.000000</td>\n",
              "      <td>20000.000000</td>\n",
              "      <td>20000.000000</td>\n",
              "      <td>20000.000000</td>\n",
              "      <td>20000.000000</td>\n",
              "      <td>20000.000000</td>\n",
              "      <td>20000.000000</td>\n",
              "      <td>20000.000000</td>\n",
              "      <td>20000.000000</td>\n",
              "      <td>20000.00000</td>\n",
              "    </tr>\n",
              "    <tr>\n",
              "      <th>mean</th>\n",
              "      <td>39.477250</td>\n",
              "      <td>2.027800</td>\n",
              "      <td>1188.548000</td>\n",
              "      <td>2.727950</td>\n",
              "      <td>3.056100</td>\n",
              "      <td>2.751100</td>\n",
              "      <td>2.971350</td>\n",
              "      <td>3.202100</td>\n",
              "      <td>3.255300</td>\n",
              "      <td>3.439100</td>\n",
              "      <td>...</td>\n",
              "      <td>3.623650</td>\n",
              "      <td>3.302850</td>\n",
              "      <td>3.635550</td>\n",
              "      <td>3.282650</td>\n",
              "      <td>14.318350</td>\n",
              "      <td>14.698250</td>\n",
              "      <td>0.490650</td>\n",
              "      <td>0.817850</td>\n",
              "      <td>0.687900</td>\n",
              "      <td>0.43305</td>\n",
              "    </tr>\n",
              "    <tr>\n",
              "      <th>std</th>\n",
              "      <td>15.108901</td>\n",
              "      <td>0.963054</td>\n",
              "      <td>1001.136957</td>\n",
              "      <td>1.326886</td>\n",
              "      <td>1.531134</td>\n",
              "      <td>1.396799</td>\n",
              "      <td>1.279575</td>\n",
              "      <td>1.332383</td>\n",
              "      <td>1.348485</td>\n",
              "      <td>1.323434</td>\n",
              "      <td>...</td>\n",
              "      <td>1.186837</td>\n",
              "      <td>1.259131</td>\n",
              "      <td>1.184017</td>\n",
              "      <td>1.311734</td>\n",
              "      <td>36.451829</td>\n",
              "      <td>36.899857</td>\n",
              "      <td>0.499925</td>\n",
              "      <td>0.385978</td>\n",
              "      <td>0.463362</td>\n",
              "      <td>0.49551</td>\n",
              "    </tr>\n",
              "    <tr>\n",
              "      <th>min</th>\n",
              "      <td>7.000000</td>\n",
              "      <td>1.000000</td>\n",
              "      <td>31.000000</td>\n",
              "      <td>0.000000</td>\n",
              "      <td>0.000000</td>\n",
              "      <td>0.000000</td>\n",
              "      <td>0.000000</td>\n",
              "      <td>0.000000</td>\n",
              "      <td>0.000000</td>\n",
              "      <td>1.000000</td>\n",
              "      <td>...</td>\n",
              "      <td>1.000000</td>\n",
              "      <td>1.000000</td>\n",
              "      <td>0.000000</td>\n",
              "      <td>0.000000</td>\n",
              "      <td>0.000000</td>\n",
              "      <td>0.000000</td>\n",
              "      <td>0.000000</td>\n",
              "      <td>0.000000</td>\n",
              "      <td>0.000000</td>\n",
              "      <td>0.00000</td>\n",
              "    </tr>\n",
              "    <tr>\n",
              "      <th>25%</th>\n",
              "      <td>27.000000</td>\n",
              "      <td>1.000000</td>\n",
              "      <td>414.000000</td>\n",
              "      <td>2.000000</td>\n",
              "      <td>2.000000</td>\n",
              "      <td>2.000000</td>\n",
              "      <td>2.000000</td>\n",
              "      <td>2.000000</td>\n",
              "      <td>2.000000</td>\n",
              "      <td>2.000000</td>\n",
              "      <td>...</td>\n",
              "      <td>3.000000</td>\n",
              "      <td>3.000000</td>\n",
              "      <td>3.000000</td>\n",
              "      <td>2.000000</td>\n",
              "      <td>0.000000</td>\n",
              "      <td>0.000000</td>\n",
              "      <td>0.000000</td>\n",
              "      <td>1.000000</td>\n",
              "      <td>0.000000</td>\n",
              "      <td>0.00000</td>\n",
              "    </tr>\n",
              "    <tr>\n",
              "      <th>50%</th>\n",
              "      <td>40.000000</td>\n",
              "      <td>2.000000</td>\n",
              "      <td>842.000000</td>\n",
              "      <td>3.000000</td>\n",
              "      <td>3.000000</td>\n",
              "      <td>3.000000</td>\n",
              "      <td>3.000000</td>\n",
              "      <td>3.000000</td>\n",
              "      <td>3.000000</td>\n",
              "      <td>4.000000</td>\n",
              "      <td>...</td>\n",
              "      <td>4.000000</td>\n",
              "      <td>3.000000</td>\n",
              "      <td>4.000000</td>\n",
              "      <td>3.000000</td>\n",
              "      <td>0.000000</td>\n",
              "      <td>0.000000</td>\n",
              "      <td>0.000000</td>\n",
              "      <td>1.000000</td>\n",
              "      <td>1.000000</td>\n",
              "      <td>0.00000</td>\n",
              "    </tr>\n",
              "    <tr>\n",
              "      <th>75%</th>\n",
              "      <td>51.000000</td>\n",
              "      <td>3.000000</td>\n",
              "      <td>1733.000000</td>\n",
              "      <td>4.000000</td>\n",
              "      <td>4.000000</td>\n",
              "      <td>4.000000</td>\n",
              "      <td>4.000000</td>\n",
              "      <td>4.000000</td>\n",
              "      <td>4.000000</td>\n",
              "      <td>5.000000</td>\n",
              "      <td>...</td>\n",
              "      <td>5.000000</td>\n",
              "      <td>4.000000</td>\n",
              "      <td>5.000000</td>\n",
              "      <td>4.000000</td>\n",
              "      <td>12.000000</td>\n",
              "      <td>13.000000</td>\n",
              "      <td>1.000000</td>\n",
              "      <td>1.000000</td>\n",
              "      <td>1.000000</td>\n",
              "      <td>1.00000</td>\n",
              "    </tr>\n",
              "    <tr>\n",
              "      <th>max</th>\n",
              "      <td>85.000000</td>\n",
              "      <td>3.000000</td>\n",
              "      <td>4983.000000</td>\n",
              "      <td>5.000000</td>\n",
              "      <td>5.000000</td>\n",
              "      <td>5.000000</td>\n",
              "      <td>5.000000</td>\n",
              "      <td>5.000000</td>\n",
              "      <td>5.000000</td>\n",
              "      <td>5.000000</td>\n",
              "      <td>...</td>\n",
              "      <td>5.000000</td>\n",
              "      <td>5.000000</td>\n",
              "      <td>5.000000</td>\n",
              "      <td>5.000000</td>\n",
              "      <td>1305.000000</td>\n",
              "      <td>1280.000000</td>\n",
              "      <td>1.000000</td>\n",
              "      <td>1.000000</td>\n",
              "      <td>1.000000</td>\n",
              "      <td>1.00000</td>\n",
              "    </tr>\n",
              "  </tbody>\n",
              "</table>\n",
              "<p>8 rows × 23 columns</p>\n",
              "</div>\n",
              "      <button class=\"colab-df-convert\" onclick=\"convertToInteractive('df-728c830e-7435-4d07-9033-e5a9d2ed78b8')\"\n",
              "              title=\"Convert this dataframe to an interactive table.\"\n",
              "              style=\"display:none;\">\n",
              "        \n",
              "  <svg xmlns=\"http://www.w3.org/2000/svg\" height=\"24px\"viewBox=\"0 0 24 24\"\n",
              "       width=\"24px\">\n",
              "    <path d=\"M0 0h24v24H0V0z\" fill=\"none\"/>\n",
              "    <path d=\"M18.56 5.44l.94 2.06.94-2.06 2.06-.94-2.06-.94-.94-2.06-.94 2.06-2.06.94zm-11 1L8.5 8.5l.94-2.06 2.06-.94-2.06-.94L8.5 2.5l-.94 2.06-2.06.94zm10 10l.94 2.06.94-2.06 2.06-.94-2.06-.94-.94-2.06-.94 2.06-2.06.94z\"/><path d=\"M17.41 7.96l-1.37-1.37c-.4-.4-.92-.59-1.43-.59-.52 0-1.04.2-1.43.59L10.3 9.45l-7.72 7.72c-.78.78-.78 2.05 0 2.83L4 21.41c.39.39.9.59 1.41.59.51 0 1.02-.2 1.41-.59l7.78-7.78 2.81-2.81c.8-.78.8-2.07 0-2.86zM5.41 20L4 18.59l7.72-7.72 1.47 1.35L5.41 20z\"/>\n",
              "  </svg>\n",
              "      </button>\n",
              "      \n",
              "  <style>\n",
              "    .colab-df-container {\n",
              "      display:flex;\n",
              "      flex-wrap:wrap;\n",
              "      gap: 12px;\n",
              "    }\n",
              "\n",
              "    .colab-df-convert {\n",
              "      background-color: #E8F0FE;\n",
              "      border: none;\n",
              "      border-radius: 50%;\n",
              "      cursor: pointer;\n",
              "      display: none;\n",
              "      fill: #1967D2;\n",
              "      height: 32px;\n",
              "      padding: 0 0 0 0;\n",
              "      width: 32px;\n",
              "    }\n",
              "\n",
              "    .colab-df-convert:hover {\n",
              "      background-color: #E2EBFA;\n",
              "      box-shadow: 0px 1px 2px rgba(60, 64, 67, 0.3), 0px 1px 3px 1px rgba(60, 64, 67, 0.15);\n",
              "      fill: #174EA6;\n",
              "    }\n",
              "\n",
              "    [theme=dark] .colab-df-convert {\n",
              "      background-color: #3B4455;\n",
              "      fill: #D2E3FC;\n",
              "    }\n",
              "\n",
              "    [theme=dark] .colab-df-convert:hover {\n",
              "      background-color: #434B5C;\n",
              "      box-shadow: 0px 1px 3px 1px rgba(0, 0, 0, 0.15);\n",
              "      filter: drop-shadow(0px 1px 2px rgba(0, 0, 0, 0.3));\n",
              "      fill: #FFFFFF;\n",
              "    }\n",
              "  </style>\n",
              "\n",
              "      <script>\n",
              "        const buttonEl =\n",
              "          document.querySelector('#df-728c830e-7435-4d07-9033-e5a9d2ed78b8 button.colab-df-convert');\n",
              "        buttonEl.style.display =\n",
              "          google.colab.kernel.accessAllowed ? 'block' : 'none';\n",
              "\n",
              "        async function convertToInteractive(key) {\n",
              "          const element = document.querySelector('#df-728c830e-7435-4d07-9033-e5a9d2ed78b8');\n",
              "          const dataTable =\n",
              "            await google.colab.kernel.invokeFunction('convertToInteractive',\n",
              "                                                     [key], {});\n",
              "          if (!dataTable) return;\n",
              "\n",
              "          const docLinkHtml = 'Like what you see? Visit the ' +\n",
              "            '<a target=\"_blank\" href=https://colab.research.google.com/notebooks/data_table.ipynb>data table notebook</a>'\n",
              "            + ' to learn more about interactive tables.';\n",
              "          element.innerHTML = '';\n",
              "          dataTable['output_type'] = 'display_data';\n",
              "          await google.colab.output.renderOutput(dataTable, element);\n",
              "          const docLink = document.createElement('div');\n",
              "          docLink.innerHTML = docLinkHtml;\n",
              "          element.appendChild(docLink);\n",
              "        }\n",
              "      </script>\n",
              "    </div>\n",
              "  </div>\n",
              "  "
            ]
          },
          "metadata": {},
          "execution_count": 343
        }
      ]
    },
    {
      "cell_type": "markdown",
      "source": [
        "> There do not appear to be any outliers in the data columns that were shown."
      ],
      "metadata": {
        "id": "wEhgv2CUL2Bg"
      }
    },
    {
      "cell_type": "code",
      "source": [
        "# Get the descriptive statistics on the data columns we could not see\n",
        "df[['Inflight entertainment', \n",
        "    'On-board service', \n",
        "    'Leg room service']].describe()"
      ],
      "metadata": {
        "id": "Ib8AqNdZLi0t",
        "outputId": "c9580e6c-5d51-454d-899b-1c722b0671b6",
        "colab": {
          "base_uri": "https://localhost:8080/",
          "height": 300
        }
      },
      "execution_count": 344,
      "outputs": [
        {
          "output_type": "execute_result",
          "data": {
            "text/plain": [
              "       Inflight entertainment  On-board service  Leg room service\n",
              "count            20000.000000      20000.000000      20000.000000\n",
              "mean                 3.349100          3.385350          3.350850\n",
              "std                  1.333348          1.278451          1.316602\n",
              "min                  0.000000          0.000000          0.000000\n",
              "25%                  2.000000          2.000000          2.000000\n",
              "50%                  4.000000          4.000000          4.000000\n",
              "75%                  4.000000          4.000000          4.000000\n",
              "max                  5.000000          5.000000          5.000000"
            ],
            "text/html": [
              "\n",
              "  <div id=\"df-7c1ef546-6ab0-4969-bfac-c05c2793f80e\">\n",
              "    <div class=\"colab-df-container\">\n",
              "      <div>\n",
              "<style scoped>\n",
              "    .dataframe tbody tr th:only-of-type {\n",
              "        vertical-align: middle;\n",
              "    }\n",
              "\n",
              "    .dataframe tbody tr th {\n",
              "        vertical-align: top;\n",
              "    }\n",
              "\n",
              "    .dataframe thead th {\n",
              "        text-align: right;\n",
              "    }\n",
              "</style>\n",
              "<table border=\"1\" class=\"dataframe\">\n",
              "  <thead>\n",
              "    <tr style=\"text-align: right;\">\n",
              "      <th></th>\n",
              "      <th>Inflight entertainment</th>\n",
              "      <th>On-board service</th>\n",
              "      <th>Leg room service</th>\n",
              "    </tr>\n",
              "  </thead>\n",
              "  <tbody>\n",
              "    <tr>\n",
              "      <th>count</th>\n",
              "      <td>20000.000000</td>\n",
              "      <td>20000.000000</td>\n",
              "      <td>20000.000000</td>\n",
              "    </tr>\n",
              "    <tr>\n",
              "      <th>mean</th>\n",
              "      <td>3.349100</td>\n",
              "      <td>3.385350</td>\n",
              "      <td>3.350850</td>\n",
              "    </tr>\n",
              "    <tr>\n",
              "      <th>std</th>\n",
              "      <td>1.333348</td>\n",
              "      <td>1.278451</td>\n",
              "      <td>1.316602</td>\n",
              "    </tr>\n",
              "    <tr>\n",
              "      <th>min</th>\n",
              "      <td>0.000000</td>\n",
              "      <td>0.000000</td>\n",
              "      <td>0.000000</td>\n",
              "    </tr>\n",
              "    <tr>\n",
              "      <th>25%</th>\n",
              "      <td>2.000000</td>\n",
              "      <td>2.000000</td>\n",
              "      <td>2.000000</td>\n",
              "    </tr>\n",
              "    <tr>\n",
              "      <th>50%</th>\n",
              "      <td>4.000000</td>\n",
              "      <td>4.000000</td>\n",
              "      <td>4.000000</td>\n",
              "    </tr>\n",
              "    <tr>\n",
              "      <th>75%</th>\n",
              "      <td>4.000000</td>\n",
              "      <td>4.000000</td>\n",
              "      <td>4.000000</td>\n",
              "    </tr>\n",
              "    <tr>\n",
              "      <th>max</th>\n",
              "      <td>5.000000</td>\n",
              "      <td>5.000000</td>\n",
              "      <td>5.000000</td>\n",
              "    </tr>\n",
              "  </tbody>\n",
              "</table>\n",
              "</div>\n",
              "      <button class=\"colab-df-convert\" onclick=\"convertToInteractive('df-7c1ef546-6ab0-4969-bfac-c05c2793f80e')\"\n",
              "              title=\"Convert this dataframe to an interactive table.\"\n",
              "              style=\"display:none;\">\n",
              "        \n",
              "  <svg xmlns=\"http://www.w3.org/2000/svg\" height=\"24px\"viewBox=\"0 0 24 24\"\n",
              "       width=\"24px\">\n",
              "    <path d=\"M0 0h24v24H0V0z\" fill=\"none\"/>\n",
              "    <path d=\"M18.56 5.44l.94 2.06.94-2.06 2.06-.94-2.06-.94-.94-2.06-.94 2.06-2.06.94zm-11 1L8.5 8.5l.94-2.06 2.06-.94-2.06-.94L8.5 2.5l-.94 2.06-2.06.94zm10 10l.94 2.06.94-2.06 2.06-.94-2.06-.94-.94-2.06-.94 2.06-2.06.94z\"/><path d=\"M17.41 7.96l-1.37-1.37c-.4-.4-.92-.59-1.43-.59-.52 0-1.04.2-1.43.59L10.3 9.45l-7.72 7.72c-.78.78-.78 2.05 0 2.83L4 21.41c.39.39.9.59 1.41.59.51 0 1.02-.2 1.41-.59l7.78-7.78 2.81-2.81c.8-.78.8-2.07 0-2.86zM5.41 20L4 18.59l7.72-7.72 1.47 1.35L5.41 20z\"/>\n",
              "  </svg>\n",
              "      </button>\n",
              "      \n",
              "  <style>\n",
              "    .colab-df-container {\n",
              "      display:flex;\n",
              "      flex-wrap:wrap;\n",
              "      gap: 12px;\n",
              "    }\n",
              "\n",
              "    .colab-df-convert {\n",
              "      background-color: #E8F0FE;\n",
              "      border: none;\n",
              "      border-radius: 50%;\n",
              "      cursor: pointer;\n",
              "      display: none;\n",
              "      fill: #1967D2;\n",
              "      height: 32px;\n",
              "      padding: 0 0 0 0;\n",
              "      width: 32px;\n",
              "    }\n",
              "\n",
              "    .colab-df-convert:hover {\n",
              "      background-color: #E2EBFA;\n",
              "      box-shadow: 0px 1px 2px rgba(60, 64, 67, 0.3), 0px 1px 3px 1px rgba(60, 64, 67, 0.15);\n",
              "      fill: #174EA6;\n",
              "    }\n",
              "\n",
              "    [theme=dark] .colab-df-convert {\n",
              "      background-color: #3B4455;\n",
              "      fill: #D2E3FC;\n",
              "    }\n",
              "\n",
              "    [theme=dark] .colab-df-convert:hover {\n",
              "      background-color: #434B5C;\n",
              "      box-shadow: 0px 1px 3px 1px rgba(0, 0, 0, 0.15);\n",
              "      filter: drop-shadow(0px 1px 2px rgba(0, 0, 0, 0.3));\n",
              "      fill: #FFFFFF;\n",
              "    }\n",
              "  </style>\n",
              "\n",
              "      <script>\n",
              "        const buttonEl =\n",
              "          document.querySelector('#df-7c1ef546-6ab0-4969-bfac-c05c2793f80e button.colab-df-convert');\n",
              "        buttonEl.style.display =\n",
              "          google.colab.kernel.accessAllowed ? 'block' : 'none';\n",
              "\n",
              "        async function convertToInteractive(key) {\n",
              "          const element = document.querySelector('#df-7c1ef546-6ab0-4969-bfac-c05c2793f80e');\n",
              "          const dataTable =\n",
              "            await google.colab.kernel.invokeFunction('convertToInteractive',\n",
              "                                                     [key], {});\n",
              "          if (!dataTable) return;\n",
              "\n",
              "          const docLinkHtml = 'Like what you see? Visit the ' +\n",
              "            '<a target=\"_blank\" href=https://colab.research.google.com/notebooks/data_table.ipynb>data table notebook</a>'\n",
              "            + ' to learn more about interactive tables.';\n",
              "          element.innerHTML = '';\n",
              "          dataTable['output_type'] = 'display_data';\n",
              "          await google.colab.output.renderOutput(dataTable, element);\n",
              "          const docLink = document.createElement('div');\n",
              "          docLink.innerHTML = docLinkHtml;\n",
              "          element.appendChild(docLink);\n",
              "        }\n",
              "      </script>\n",
              "    </div>\n",
              "  </div>\n",
              "  "
            ]
          },
          "metadata": {},
          "execution_count": 344
        }
      ]
    },
    {
      "cell_type": "markdown",
      "source": [
        "> Nothing seems amiss with these values. When constructing visulizations we will keep in mind that 1 is for male and 0 is for female in the gender_male column."
      ],
      "metadata": {
        "id": "xehWWiAAMSvk"
      }
    },
    {
      "cell_type": "code",
      "source": [
        "# Make a copy of the data frame for modeling\n",
        "ml_df = df.copy()"
      ],
      "metadata": {
        "id": "RtvCeHt4pI_y"
      },
      "execution_count": 345,
      "outputs": []
    },
    {
      "cell_type": "code",
      "source": [
        "# Scale the data\n",
        "scaler = StandardScaler()\n",
        "scaled_df = scaler.fit_transform(df)"
      ],
      "metadata": {
        "id": "v36hbLnfNTcF"
      },
      "execution_count": 346,
      "outputs": []
    },
    {
      "cell_type": "markdown",
      "source": [
        "> Data has been cleaned and scaled. We are ready for k-means analysis."
      ],
      "metadata": {
        "id": "wzDSi3HbNuIC"
      }
    },
    {
      "cell_type": "markdown",
      "source": [
        "## KMeans"
      ],
      "metadata": {
        "id": "cO6yki3jOEKF"
      }
    },
    {
      "cell_type": "code",
      "source": [
        "# Get the inertias and silhouette scores\n",
        "inertias = []\n",
        "sils = []\n",
        "ks = range(2, 11)\n",
        "\n",
        "for k in ks:\n",
        "  kmeans = KMeans(n_clusters = k, random_state = 42)\n",
        "  kmeans.fit(scaled_df)\n",
        "  inertias.append(kmeans.inertia_)\n",
        "  sils.append(silhouette_score(scaled_df, kmeans.labels_))"
      ],
      "metadata": {
        "id": "LizxkMiqOFLx"
      },
      "execution_count": 347,
      "outputs": []
    },
    {
      "cell_type": "code",
      "source": [
        "# Plot the inertias and silhouette scores\n",
        "plt.plot(ks, inertias, marker = '.');\n",
        "plt.xlabel('Numebr of Clusters');\n",
        "plt.ylabel('Inertia');\n",
        "print()\n",
        "plt.show();\n",
        "plt.plot(ks, sils, marker = '.');\n",
        "plt.xlabel('Number of Clusters')\n",
        "plt.ylabel('Silhouette Score')"
      ],
      "metadata": {
        "id": "U-8WhwIzOi0s",
        "outputId": "b91db02f-a2b5-4452-a609-b4f485a105f2",
        "colab": {
          "base_uri": "https://localhost:8080/",
          "height": 578
        }
      },
      "execution_count": 348,
      "outputs": [
        {
          "output_type": "stream",
          "name": "stdout",
          "text": [
            "\n"
          ]
        },
        {
          "output_type": "display_data",
          "data": {
            "text/plain": [
              "<Figure size 432x288 with 1 Axes>"
            ],
            "image/png": "[encoded data removed]"
          },
          "metadata": {
            "needs_background": "light"
          }
        },
        {
          "output_type": "execute_result",
          "data": {
            "text/plain": [
              "Text(0, 0.5, 'Silhouette Score')"
            ]
          },
          "metadata": {},
          "execution_count": 348
        },
        {
          "output_type": "display_data",
          "data": {
            "text/plain": [
              "<Figure size 432x288 with 1 Axes>"
            ],
            "image/png": "[encoded data removed]"
          },
          "metadata": {
            "needs_background": "light"
          }
        }
      ]
    },
    {
      "cell_type": "markdown",
      "source": [
        "> We will use 8 clusters. We feel 8 clusters gives the best elbow on the inertia plot and has a reasonably high silhouette score."
      ],
      "metadata": {
        "id": "-xush8-iPpry"
      }
    },
    {
      "cell_type": "markdown",
      "source": [
        "### Visualizations"
      ],
      "metadata": {
        "id": "keibFqOdRUCC"
      }
    },
    {
      "cell_type": "code",
      "source": [
        "# Build a model with seven clusters\n",
        "kmeans = KMeans(n_clusters = 8, random_state = 42)\n",
        "kmeans.fit(scaled_df)"
      ],
      "metadata": {
        "id": "m2qA_Oc0RZXE",
        "outputId": "abd1ba36-86d8-421c-c0f4-ce1b5370618b",
        "colab": {
          "base_uri": "https://localhost:8080/"
        }
      },
      "execution_count": 349,
      "outputs": [
        {
          "output_type": "execute_result",
          "data": {
            "text/plain": [
              "KMeans(random_state=42)"
            ]
          },
          "metadata": {},
          "execution_count": 349
        }
      ]
    },
    {
      "cell_type": "code",
      "source": [
        "# Add the cluster labels to the original data frame\n",
        "df['clusters'] = kmeans.labels_"
      ],
      "metadata": {
        "id": "g7hpF_muRhfO"
      },
      "execution_count": 350,
      "outputs": []
    },
    {
      "cell_type": "code",
      "source": [
        "# Group the clusters by mean\n",
        "clusters_by_mean = df.groupby('clusters', as_index = False).mean()\n",
        "# Get the dimensions to determine how many subplots we need\n",
        "clusters_by_mean.shape"
      ],
      "metadata": {
        "id": "QddTgJYnR1SP",
        "outputId": "b3c67c51-67b6-4d37-843c-7979e4525cd1",
        "colab": {
          "base_uri": "https://localhost:8080/"
        }
      },
      "execution_count": 351,
      "outputs": [
        {
          "output_type": "execute_result",
          "data": {
            "text/plain": [
              "(8, 24)"
            ]
          },
          "metadata": {},
          "execution_count": 351
        }
      ]
    },
    {
      "cell_type": "code",
      "source": [
        "# Plot the mean values by cluster\n",
        "fig, axes = plt.subplots(6, 4, figsize = (16, 24));\n",
        "axes = axes.ravel()\n",
        "for i, col in enumerate(clusters_by_mean.columns[1:]):\n",
        "  axes[i].bar(clusters_by_mean['clusters'], clusters_by_mean[col]);\n",
        "  axes[i].set_title(f'Mean {col}')"
      ],
      "metadata": {
        "id": "Ko2I3ygYSyX1",
        "outputId": "fc42ae8b-655c-4024-be4c-4c382cb3b251",
        "colab": {
          "base_uri": "https://localhost:8080/",
          "height": 1000
        }
      },
      "execution_count": 352,
      "outputs": [
        {
          "output_type": "display_data",
          "data": {
            "text/plain": [
              "<Figure size 1152x1728 with 24 Axes>"
            ],
            "image/png": "[encoded data removed]"
          },
          "metadata": {
            "needs_background": "light"
          }
        }
      ]
    },
    {
      "cell_type": "code",
      "source": [
        "clusters_by_mean"
      ],
      "metadata": {
        "id": "bsV7NjFnpymr",
        "outputId": "54580e1a-615b-4f6e-a1ab-1b954e6dd5b6",
        "colab": {
          "base_uri": "https://localhost:8080/",
          "height": 428
        }
      },
      "execution_count": 353,
      "outputs": [
        {
          "output_type": "execute_result",
          "data": {
            "text/plain": [
              "   clusters        Age     Class  Flight Distance  Inflight wifi service  \\\n",
              "0         0  44.261719  2.861886      1857.098772               2.109654   \n",
              "1         1  30.050289  1.648555       676.851445               2.278035   \n",
              "2         2  30.078520  1.872161       721.100584               2.879948   \n",
              "3         3  47.117117  2.105002      1276.230817               2.440199   \n",
              "4         4  42.351012  2.590248      1517.252638               4.418591   \n",
              "5         5  38.198444  1.996109      1238.665370               2.776265   \n",
              "6         6  33.196057  1.399781       861.191676               2.243885   \n",
              "7         7  38.477574  1.213519       760.669299               2.430512   \n",
              "\n",
              "   Departure/Arrival time convenient  Ease of Online booking  Gate location  \\\n",
              "0                           1.903739                1.980748       1.946429   \n",
              "1                           2.046243                2.223699       2.987283   \n",
              "2                           2.443219                2.861129       2.949384   \n",
              "3                           2.849332                2.672880       2.805219   \n",
              "4                           4.234674                4.282578       4.191617   \n",
              "5                           3.138132                2.776265       3.147860   \n",
              "6                           3.391384                2.587806       2.998540   \n",
              "7                           3.812066                2.378080       2.898610   \n",
              "\n",
              "   Food and drink  Online boarding  ...  Baggage handling  Checkin service  \\\n",
              "0        3.581194         4.181362  ...          4.224888         3.720145   \n",
              "1        4.060694         2.267052  ...          3.545087         3.072254   \n",
              "2        1.731343         2.856587  ...          3.792343         3.234263   \n",
              "3        3.112147         3.362224  ...          2.144144         2.750854   \n",
              "4        3.692900         4.166809  ...          4.064728         3.582264   \n",
              "5        3.060311         3.317121  ...          3.657588         3.270428   \n",
              "6        1.670318         2.161738  ...          3.643666         3.041621   \n",
              "7        3.915666         2.758686  ...          3.896715         3.472836   \n",
              "\n",
              "   Inflight service  Cleanliness  Departure Delay in Minutes  \\\n",
              "0          4.244141     3.852400                    8.716797   \n",
              "1          3.589595     4.080925                   10.415029   \n",
              "2          3.776768     1.728099                   10.128488   \n",
              "3          2.132961     3.031376                   11.237030   \n",
              "4          4.048760     3.876818                    8.808383   \n",
              "5          3.262646     3.330739                  182.916342   \n",
              "6          3.693684     1.655714                   10.387003   \n",
              "7          3.983260     3.955148                   10.097284   \n",
              "\n",
              "   Arrival Delay in Minutes  Gender_Male  Loyal Customer  Business Travel  \\\n",
              "0                  8.903181     0.493304        0.998047         0.998884   \n",
              "1                 10.669364     0.445087        0.026012         0.994798   \n",
              "2                 10.621025     0.452304        0.000649         0.994809   \n",
              "3                 11.935073     0.389873        0.990370         0.719167   \n",
              "4                  8.725691     0.518392        0.920730         0.944682   \n",
              "5                185.984436     0.490272        0.819066         0.702335   \n",
              "6                 10.922965     0.611172        0.999635         0.322380   \n",
              "7                 10.327543     0.498737        0.997473         0.016425   \n",
              "\n",
              "   satisfied  \n",
              "0   0.967913  \n",
              "1   0.119653  \n",
              "2   0.250487  \n",
              "3   0.219633  \n",
              "4   0.929855  \n",
              "5   0.377432  \n",
              "6   0.092004  \n",
              "7   0.058433  \n",
              "\n",
              "[8 rows x 24 columns]"
            ],
            "text/html": [
              "\n",
              "  <div id=\"df-303d873a-08f4-4b39-a4f3-8119c33733cd\">\n",
              "    <div class=\"colab-df-container\">\n",
              "      <div>\n",
              "<style scoped>\n",
              "    .dataframe tbody tr th:only-of-type {\n",
              "        vertical-align: middle;\n",
              "    }\n",
              "\n",
              "    .dataframe tbody tr th {\n",
              "        vertical-align: top;\n",
              "    }\n",
              "\n",
              "    .dataframe thead th {\n",
              "        text-align: right;\n",
              "    }\n",
              "</style>\n",
              "<table border=\"1\" class=\"dataframe\">\n",
              "  <thead>\n",
              "    <tr style=\"text-align: right;\">\n",
              "      <th></th>\n",
              "      <th>clusters</th>\n",
              "      <th>Age</th>\n",
              "      <th>Class</th>\n",
              "      <th>Flight Distance</th>\n",
              "      <th>Inflight wifi service</th>\n",
              "      <th>Departure/Arrival time convenient</th>\n",
              "      <th>Ease of Online booking</th>\n",
              "      <th>Gate location</th>\n",
              "      <th>Food and drink</th>\n",
              "      <th>Online boarding</th>\n",
              "      <th>...</th>\n",
              "      <th>Baggage handling</th>\n",
              "      <th>Checkin service</th>\n",
              "      <th>Inflight service</th>\n",
              "      <th>Cleanliness</th>\n",
              "      <th>Departure Delay in Minutes</th>\n",
              "      <th>Arrival Delay in Minutes</th>\n",
              "      <th>Gender_Male</th>\n",
              "      <th>Loyal Customer</th>\n",
              "      <th>Business Travel</th>\n",
              "      <th>satisfied</th>\n",
              "    </tr>\n",
              "  </thead>\n",
              "  <tbody>\n",
              "    <tr>\n",
              "      <th>0</th>\n",
              "      <td>0</td>\n",
              "      <td>44.261719</td>\n",
              "      <td>2.861886</td>\n",
              "      <td>1857.098772</td>\n",
              "      <td>2.109654</td>\n",
              "      <td>1.903739</td>\n",
              "      <td>1.980748</td>\n",
              "      <td>1.946429</td>\n",
              "      <td>3.581194</td>\n",
              "      <td>4.181362</td>\n",
              "      <td>...</td>\n",
              "      <td>4.224888</td>\n",
              "      <td>3.720145</td>\n",
              "      <td>4.244141</td>\n",
              "      <td>3.852400</td>\n",
              "      <td>8.716797</td>\n",
              "      <td>8.903181</td>\n",
              "      <td>0.493304</td>\n",
              "      <td>0.998047</td>\n",
              "      <td>0.998884</td>\n",
              "      <td>0.967913</td>\n",
              "    </tr>\n",
              "    <tr>\n",
              "      <th>1</th>\n",
              "      <td>1</td>\n",
              "      <td>30.050289</td>\n",
              "      <td>1.648555</td>\n",
              "      <td>676.851445</td>\n",
              "      <td>2.278035</td>\n",
              "      <td>2.046243</td>\n",
              "      <td>2.223699</td>\n",
              "      <td>2.987283</td>\n",
              "      <td>4.060694</td>\n",
              "      <td>2.267052</td>\n",
              "      <td>...</td>\n",
              "      <td>3.545087</td>\n",
              "      <td>3.072254</td>\n",
              "      <td>3.589595</td>\n",
              "      <td>4.080925</td>\n",
              "      <td>10.415029</td>\n",
              "      <td>10.669364</td>\n",
              "      <td>0.445087</td>\n",
              "      <td>0.026012</td>\n",
              "      <td>0.994798</td>\n",
              "      <td>0.119653</td>\n",
              "    </tr>\n",
              "    <tr>\n",
              "      <th>2</th>\n",
              "      <td>2</td>\n",
              "      <td>30.078520</td>\n",
              "      <td>1.872161</td>\n",
              "      <td>721.100584</td>\n",
              "      <td>2.879948</td>\n",
              "      <td>2.443219</td>\n",
              "      <td>2.861129</td>\n",
              "      <td>2.949384</td>\n",
              "      <td>1.731343</td>\n",
              "      <td>2.856587</td>\n",
              "      <td>...</td>\n",
              "      <td>3.792343</td>\n",
              "      <td>3.234263</td>\n",
              "      <td>3.776768</td>\n",
              "      <td>1.728099</td>\n",
              "      <td>10.128488</td>\n",
              "      <td>10.621025</td>\n",
              "      <td>0.452304</td>\n",
              "      <td>0.000649</td>\n",
              "      <td>0.994809</td>\n",
              "      <td>0.250487</td>\n",
              "    </tr>\n",
              "    <tr>\n",
              "      <th>3</th>\n",
              "      <td>3</td>\n",
              "      <td>47.117117</td>\n",
              "      <td>2.105002</td>\n",
              "      <td>1276.230817</td>\n",
              "      <td>2.440199</td>\n",
              "      <td>2.849332</td>\n",
              "      <td>2.672880</td>\n",
              "      <td>2.805219</td>\n",
              "      <td>3.112147</td>\n",
              "      <td>3.362224</td>\n",
              "      <td>...</td>\n",
              "      <td>2.144144</td>\n",
              "      <td>2.750854</td>\n",
              "      <td>2.132961</td>\n",
              "      <td>3.031376</td>\n",
              "      <td>11.237030</td>\n",
              "      <td>11.935073</td>\n",
              "      <td>0.389873</td>\n",
              "      <td>0.990370</td>\n",
              "      <td>0.719167</td>\n",
              "      <td>0.219633</td>\n",
              "    </tr>\n",
              "    <tr>\n",
              "      <th>4</th>\n",
              "      <td>4</td>\n",
              "      <td>42.351012</td>\n",
              "      <td>2.590248</td>\n",
              "      <td>1517.252638</td>\n",
              "      <td>4.418591</td>\n",
              "      <td>4.234674</td>\n",
              "      <td>4.282578</td>\n",
              "      <td>4.191617</td>\n",
              "      <td>3.692900</td>\n",
              "      <td>4.166809</td>\n",
              "      <td>...</td>\n",
              "      <td>4.064728</td>\n",
              "      <td>3.582264</td>\n",
              "      <td>4.048760</td>\n",
              "      <td>3.876818</td>\n",
              "      <td>8.808383</td>\n",
              "      <td>8.725691</td>\n",
              "      <td>0.518392</td>\n",
              "      <td>0.920730</td>\n",
              "      <td>0.944682</td>\n",
              "      <td>0.929855</td>\n",
              "    </tr>\n",
              "    <tr>\n",
              "      <th>5</th>\n",
              "      <td>5</td>\n",
              "      <td>38.198444</td>\n",
              "      <td>1.996109</td>\n",
              "      <td>1238.665370</td>\n",
              "      <td>2.776265</td>\n",
              "      <td>3.138132</td>\n",
              "      <td>2.776265</td>\n",
              "      <td>3.147860</td>\n",
              "      <td>3.060311</td>\n",
              "      <td>3.317121</td>\n",
              "      <td>...</td>\n",
              "      <td>3.657588</td>\n",
              "      <td>3.270428</td>\n",
              "      <td>3.262646</td>\n",
              "      <td>3.330739</td>\n",
              "      <td>182.916342</td>\n",
              "      <td>185.984436</td>\n",
              "      <td>0.490272</td>\n",
              "      <td>0.819066</td>\n",
              "      <td>0.702335</td>\n",
              "      <td>0.377432</td>\n",
              "    </tr>\n",
              "    <tr>\n",
              "      <th>6</th>\n",
              "      <td>6</td>\n",
              "      <td>33.196057</td>\n",
              "      <td>1.399781</td>\n",
              "      <td>861.191676</td>\n",
              "      <td>2.243885</td>\n",
              "      <td>3.391384</td>\n",
              "      <td>2.587806</td>\n",
              "      <td>2.998540</td>\n",
              "      <td>1.670318</td>\n",
              "      <td>2.161738</td>\n",
              "      <td>...</td>\n",
              "      <td>3.643666</td>\n",
              "      <td>3.041621</td>\n",
              "      <td>3.693684</td>\n",
              "      <td>1.655714</td>\n",
              "      <td>10.387003</td>\n",
              "      <td>10.922965</td>\n",
              "      <td>0.611172</td>\n",
              "      <td>0.999635</td>\n",
              "      <td>0.322380</td>\n",
              "      <td>0.092004</td>\n",
              "    </tr>\n",
              "    <tr>\n",
              "      <th>7</th>\n",
              "      <td>7</td>\n",
              "      <td>38.477574</td>\n",
              "      <td>1.213519</td>\n",
              "      <td>760.669299</td>\n",
              "      <td>2.430512</td>\n",
              "      <td>3.812066</td>\n",
              "      <td>2.378080</td>\n",
              "      <td>2.898610</td>\n",
              "      <td>3.915666</td>\n",
              "      <td>2.758686</td>\n",
              "      <td>...</td>\n",
              "      <td>3.896715</td>\n",
              "      <td>3.472836</td>\n",
              "      <td>3.983260</td>\n",
              "      <td>3.955148</td>\n",
              "      <td>10.097284</td>\n",
              "      <td>10.327543</td>\n",
              "      <td>0.498737</td>\n",
              "      <td>0.997473</td>\n",
              "      <td>0.016425</td>\n",
              "      <td>0.058433</td>\n",
              "    </tr>\n",
              "  </tbody>\n",
              "</table>\n",
              "<p>8 rows × 24 columns</p>\n",
              "</div>\n",
              "      <button class=\"colab-df-convert\" onclick=\"convertToInteractive('df-303d873a-08f4-4b39-a4f3-8119c33733cd')\"\n",
              "              title=\"Convert this dataframe to an interactive table.\"\n",
              "              style=\"display:none;\">\n",
              "        \n",
              "  <svg xmlns=\"http://www.w3.org/2000/svg\" height=\"24px\"viewBox=\"0 0 24 24\"\n",
              "       width=\"24px\">\n",
              "    <path d=\"M0 0h24v24H0V0z\" fill=\"none\"/>\n",
              "    <path d=\"M18.56 5.44l.94 2.06.94-2.06 2.06-.94-2.06-.94-.94-2.06-.94 2.06-2.06.94zm-11 1L8.5 8.5l.94-2.06 2.06-.94-2.06-.94L8.5 2.5l-.94 2.06-2.06.94zm10 10l.94 2.06.94-2.06 2.06-.94-2.06-.94-.94-2.06-.94 2.06-2.06.94z\"/><path d=\"M17.41 7.96l-1.37-1.37c-.4-.4-.92-.59-1.43-.59-.52 0-1.04.2-1.43.59L10.3 9.45l-7.72 7.72c-.78.78-.78 2.05 0 2.83L4 21.41c.39.39.9.59 1.41.59.51 0 1.02-.2 1.41-.59l7.78-7.78 2.81-2.81c.8-.78.8-2.07 0-2.86zM5.41 20L4 18.59l7.72-7.72 1.47 1.35L5.41 20z\"/>\n",
              "  </svg>\n",
              "      </button>\n",
              "      \n",
              "  <style>\n",
              "    .colab-df-container {\n",
              "      display:flex;\n",
              "      flex-wrap:wrap;\n",
              "      gap: 12px;\n",
              "    }\n",
              "\n",
              "    .colab-df-convert {\n",
              "      background-color: #E8F0FE;\n",
              "      border: none;\n",
              "      border-radius: 50%;\n",
              "      cursor: pointer;\n",
              "      display: none;\n",
              "      fill: #1967D2;\n",
              "      height: 32px;\n",
              "      padding: 0 0 0 0;\n",
              "      width: 32px;\n",
              "    }\n",
              "\n",
              "    .colab-df-convert:hover {\n",
              "      background-color: #E2EBFA;\n",
              "      box-shadow: 0px 1px 2px rgba(60, 64, 67, 0.3), 0px 1px 3px 1px rgba(60, 64, 67, 0.15);\n",
              "      fill: #174EA6;\n",
              "    }\n",
              "\n",
              "    [theme=dark] .colab-df-convert {\n",
              "      background-color: #3B4455;\n",
              "      fill: #D2E3FC;\n",
              "    }\n",
              "\n",
              "    [theme=dark] .colab-df-convert:hover {\n",
              "      background-color: #434B5C;\n",
              "      box-shadow: 0px 1px 3px 1px rgba(0, 0, 0, 0.15);\n",
              "      filter: drop-shadow(0px 1px 2px rgba(0, 0, 0, 0.3));\n",
              "      fill: #FFFFFF;\n",
              "    }\n",
              "  </style>\n",
              "\n",
              "      <script>\n",
              "        const buttonEl =\n",
              "          document.querySelector('#df-303d873a-08f4-4b39-a4f3-8119c33733cd button.colab-df-convert');\n",
              "        buttonEl.style.display =\n",
              "          google.colab.kernel.accessAllowed ? 'block' : 'none';\n",
              "\n",
              "        async function convertToInteractive(key) {\n",
              "          const element = document.querySelector('#df-303d873a-08f4-4b39-a4f3-8119c33733cd');\n",
              "          const dataTable =\n",
              "            await google.colab.kernel.invokeFunction('convertToInteractive',\n",
              "                                                     [key], {});\n",
              "          if (!dataTable) return;\n",
              "\n",
              "          const docLinkHtml = 'Like what you see? Visit the ' +\n",
              "            '<a target=\"_blank\" href=https://colab.research.google.com/notebooks/data_table.ipynb>data table notebook</a>'\n",
              "            + ' to learn more about interactive tables.';\n",
              "          element.innerHTML = '';\n",
              "          dataTable['output_type'] = 'display_data';\n",
              "          await google.colab.output.renderOutput(dataTable, element);\n",
              "          const docLink = document.createElement('div');\n",
              "          docLink.innerHTML = docLinkHtml;\n",
              "          element.appendChild(docLink);\n",
              "        }\n",
              "      </script>\n",
              "    </div>\n",
              "  </div>\n",
              "  "
            ]
          },
          "metadata": {},
          "execution_count": 353
        }
      ]
    },
    {
      "cell_type": "markdown",
      "source": [
        "Cluster descriptions\n",
        "\n",
        "- Cluster 0: Cluster 0 has an average age of about 42. They tend to ride third class. (Coach? I couldn't find a data dictionary.) Their flights tend to be the longest with an average flight distance of about 1850 miles. They are balanced between the genders. They are loyal customers and are primarily business travel. They are the most satisfied of all the clusters.\n",
        "\n",
        "- Cluster 1: Cluster 1 has an average age of 30. They tend to travel class 1 or class 2. Their flights tend to be the shortest with an average flight distance of about 700 miles. They're fairly balanced by gender. They are not loyal customers and are primarily travelling for business. They are not satisfied customers with a mean satisfaction of 0.12.\n",
        "\n",
        "- Cluster 2: Cluster 2 has an average age of 30. They tend to travel class 1 or 2, and have an average flight distance of 700 miles. They are fairly balanced by gender. They are not loyal customers and travel primarily for business. They have a low satisfaction score with a mean satsifaction of 0.25\n",
        "\n",
        "- Cluster 3: Cluster 3 has an average age of 47. They tend to travel class 2 with an average filght distance of 1300 miles. They are about 40% male. They are loyal customers, and about 72% of their flights are for business. They have a low satisfaction with a mean satisfaciton of 0.22.\n",
        "\n",
        "- Cluster 4: Cluste 4 has an average age of 42. They tend to travel class 2 or 3. Their mean flight distance is 1500 miles. They are fairly balanced by gender. About 92% of cluster 4 are loyal customers. They primarily travel for business. They have a mean satisfaction of 0.93\n",
        "\n",
        "- Cluster 5: Cluster 5 has an average age of 38. They tend to travel class 2. Their mean flight distance is 1250 miles. They're balanced by gender and 80% of them are loyal customers. 70% of cluster 5 travels for business. Their mean satisfaction is 0.37.\n",
        "\n",
        "- Cluster 6: Cluster 6 has an average age of 33. They tend to travel class 1 and have an average flight distance of 850 miles. They are about 60% male. They are loyal customers. About 32% of their flights are for business. They rank low on satisfaction with a mean satisfaction of 0.09.\n",
        "\n",
        "- Cluster 7: Cluster 7 has an average age of 38. They tend to travel class 1, and have an average flight distance of 750 miles. They are balanced by gender and are loyal customers. They rarely fly for business and are the least satisfied of all clusters with a mean satisfaction of 0.06."
      ],
      "metadata": {
        "id": "FV4Rmqy7pstN"
      }
    },
    {
      "cell_type": "markdown",
      "source": [
        "#### First Visualization"
      ],
      "metadata": {
        "id": "trkaW801YZ9a"
      }
    },
    {
      "cell_type": "code",
      "source": [
        "# Graph mean seat comfort\n",
        "plt.figure(figsize = (8, 5));\n",
        "plt.bar(clusters_by_mean['clusters'], \n",
        "        clusters_by_mean['Seat comfort']);\n",
        "plt.xlabel('Cluster');\n",
        "plt.ylabel('Mean Satisfaction');\n",
        "plt.title('Satisfaction With Seat Comfort');"
      ],
      "metadata": {
        "id": "RqCsdiTEYcUT",
        "outputId": "29d8cc51-5ba4-4b0f-c9f5-4ef2ee23ff8b",
        "colab": {
          "base_uri": "https://localhost:8080/",
          "height": 350
        }
      },
      "execution_count": 354,
      "outputs": [
        {
          "output_type": "display_data",
          "data": {
            "text/plain": [
              "<Figure size 576x360 with 1 Axes>"
            ],
            "image/png": "[encoded data removed]"
          },
          "metadata": {
            "needs_background": "light"
          }
        }
      ]
    },
    {
      "cell_type": "markdown",
      "source": [
        "> Cluster 2 is overall dissatisfied with your airline and are not loyal customers. The above graph shows they score your airline very poorly on seat comfort. Investing in new seats, or providing extra pillows and cushions in-flight may raise the overall satisfaction of cluster 2. Cluster 2 primarily travels for business, and is not disgruntled. (They don't give your airline low marks across the board.) We feel this is a cluster that is worth courting."
      ],
      "metadata": {
        "id": "CuP2ChB-htV8"
      }
    },
    {
      "cell_type": "markdown",
      "source": [
        "#### Second Visualization"
      ],
      "metadata": {
        "id": "HDhRbWyF0S8l"
      }
    },
    {
      "cell_type": "code",
      "source": [
        "# Graph mean ease of online booking\n",
        "plt.figure(figsize = (8, 5));\n",
        "plt.bar(clusters_by_mean['clusters'], \n",
        "        clusters_by_mean['Ease of Online booking']);\n",
        "plt.xlabel('Cluster');\n",
        "plt.ylabel('Mean Satisfaction');\n",
        "plt.title('Satisfaction With Ease of Online Booking');"
      ],
      "metadata": {
        "id": "MbcTuNuP0Vqp",
        "outputId": "eecb249f-02e2-47c0-ee3b-6adebbcfc9b8",
        "colab": {
          "base_uri": "https://localhost:8080/",
          "height": 350
        }
      },
      "execution_count": 355,
      "outputs": [
        {
          "output_type": "display_data",
          "data": {
            "text/plain": [
              "<Figure size 576x360 with 1 Axes>"
            ],
            "image/png": "[encoded data removed]"
          },
          "metadata": {
            "needs_background": "light"
          }
        }
      ]
    },
    {
      "cell_type": "markdown",
      "source": [
        "> Cluster 0 ranks the lowest in online booking. Cluster 0 are loyal customers that overall are very satisfied with your airline. It would be worth updating your web services to make online booking easier. This would be a good investment, since only one cluster gives your airline high ratings on ease of online booking."
      ],
      "metadata": {
        "id": "rVq_FyKZ1GX9"
      }
    },
    {
      "cell_type": "markdown",
      "source": [
        "## Neural Networks"
      ],
      "metadata": {
        "id": "30Cy1Mi8joO9"
      }
    },
    {
      "cell_type": "markdown",
      "source": [
        "### Data processing"
      ],
      "metadata": {
        "id": "Sv-p6R4vpPBw"
      }
    },
    {
      "cell_type": "code",
      "source": [
        "# The data has already been cleaned so we can go straight to setting the target\n",
        "# and features.\n",
        "X = ml_df.drop(columns = 'satisfied')\n",
        "y = ml_df['satisfied']"
      ],
      "metadata": {
        "id": "BSNB7agFpAY9"
      },
      "execution_count": 356,
      "outputs": []
    },
    {
      "cell_type": "markdown",
      "source": [
        "### Principal component **analysis**"
      ],
      "metadata": {
        "id": "TtiDEcTRj6zl"
      }
    },
    {
      "cell_type": "code",
      "source": [
        "# Make a pca pipeline\n",
        "pca_pipe = make_pipeline(StandardScaler(), PCA())\n",
        "# Transform the data with our pipeline. This will be used only for the \n",
        "# purpose of getting the number of principal components\n",
        "X_pca = pca_pipe.fit_transform(X)"
      ],
      "metadata": {
        "id": "NF_9upsgjpUJ"
      },
      "execution_count": 357,
      "outputs": []
    },
    {
      "cell_type": "code",
      "source": [
        "# Plot the cumulative variance for each component\n",
        "\n",
        "# Get the number of features\n",
        "num_feat = X_pca.shape[1]\n",
        "\n",
        "# Plot the cumulative variance\n",
        "plt.figure(figsize = (13, 8));\n",
        "plt.plot(range(1, num_feat + 1), \n",
        "               pca.explained_variance_ratio_.cumsum(), \n",
        "         marker = '.');\n",
        "plt.grid();\n",
        "plt.xticks(range(1, num_feat + 1));"
      ],
      "metadata": {
        "id": "FuJ_TTg0m8o_",
        "outputId": "ca4fec73-a142-4d44-81fd-8c8b73e33198",
        "colab": {
          "base_uri": "https://localhost:8080/",
          "height": 483
        }
      },
      "execution_count": 358,
      "outputs": [
        {
          "output_type": "display_data",
          "data": {
            "text/plain": [
              "<Figure size 936x576 with 1 Axes>"
            ],
            "image/png": "[encoded data removed]"
          },
          "metadata": {
            "needs_background": "light"
          }
        }
      ]
    },
    {
      "cell_type": "markdown",
      "source": [
        "> We see from the above graph two principle components explains over 99.95% of the variance in the data."
      ],
      "metadata": {
        "id": "D7kFN720sfaY"
      }
    },
    {
      "cell_type": "code",
      "source": [
        "# Look at the variance explained by the principal components more carefully.\n",
        "pca.explained_variance_ratio_.cumsum()"
      ],
      "metadata": {
        "id": "_TEw3CKNwpay",
        "outputId": "9f62f9d4-2f83-4006-f413-c123e44708a5",
        "colab": {
          "base_uri": "https://localhost:8080/"
        }
      },
      "execution_count": 359,
      "outputs": [
        {
          "output_type": "execute_result",
          "data": {
            "text/plain": [
              "array([0.18372425, 0.29162059, 0.39324734, 0.48260755, 0.56681812,\n",
              "       0.63436298, 0.68101349, 0.72447697, 0.76721663, 0.80466994,\n",
              "       0.83611219, 0.85948029, 0.88135164, 0.9024631 , 0.92158039,\n",
              "       0.93794852, 0.95270883, 0.96599111, 0.97908164, 0.99033111,\n",
              "       0.99833934, 1.        ])"
            ]
          },
          "metadata": {},
          "execution_count": 359
        }
      ]
    },
    {
      "cell_type": "markdown",
      "source": [
        "> We will use 17 principal components as that will account for 95% of the variance in the data."
      ],
      "metadata": {
        "id": "l7HmiZyvw4Dq"
      }
    },
    {
      "cell_type": "code",
      "source": [
        "# Make a processing pipeline that using 17 principal components\n",
        "pca_pipe = make_pipeline(StandardScaler(), PCA(n_components = 0.95))"
      ],
      "metadata": {
        "id": "RfYQxRA_wxjB"
      },
      "execution_count": 360,
      "outputs": []
    },
    {
      "cell_type": "code",
      "source": [
        "# Split the data\n",
        "X_train, X_test, y_train, y_test = train_test_split(X, y, random_state = 42)"
      ],
      "metadata": {
        "id": "vlmT_qCY-1Sf"
      },
      "execution_count": 361,
      "outputs": []
    },
    {
      "cell_type": "code",
      "source": [
        "# Process the data\n",
        "X_train_proc = pca_pipe.fit_transform(X_train)\n",
        "X_test_proc = pca_pipe.transform(X_test)"
      ],
      "metadata": {
        "id": "-tG5BLqs-698"
      },
      "execution_count": 362,
      "outputs": []
    },
    {
      "cell_type": "code",
      "source": [
        "# Find how many columns pca reduced the daty by\n",
        "print('Number of columns in the original data set:', X_train.shape[1])\n",
        "print('Number of columns after applying PCA:', X_train_proc.shape[1])"
      ],
      "metadata": {
        "id": "J0VH9Rc4XZSu",
        "outputId": "5d593b8b-d98f-4457-8848-3bf2f154c13c",
        "colab": {
          "base_uri": "https://localhost:8080/"
        }
      },
      "execution_count": 363,
      "outputs": [
        {
          "output_type": "stream",
          "name": "stdout",
          "text": [
            "Number of columns in the original data set: 22\n",
            "Number of columns after applying PCA: 17\n"
          ]
        }
      ]
    },
    {
      "cell_type": "markdown",
      "source": [
        "> We see that using 17 principal components explains 95% of the variance in the data.\n",
        ">\n",
        "> Our data is now processed and is ready for modeling."
      ],
      "metadata": {
        "id": "bXsVQyvG1RML"
      }
    },
    {
      "cell_type": "markdown",
      "source": [
        "### Modeling"
      ],
      "metadata": {
        "id": "z2IRloxP1ZBL"
      }
    },
    {
      "cell_type": "markdown",
      "source": [
        "#### Model 1"
      ],
      "metadata": {
        "id": "IFqGLdnu3_Ak"
      }
    },
    {
      "cell_type": "code",
      "source": [
        "# Instantiate a neural network\n",
        "model1 = Sequential()\n",
        "# Get the number of inpute nodes\n",
        "input_dim = X_train_proc.shape[1]\n",
        "input_dim"
      ],
      "metadata": {
        "id": "jG_wSeffxwyb",
        "outputId": "26052ec9-dff0-413f-e465-0fa6d1722d88",
        "colab": {
          "base_uri": "https://localhost:8080/"
        }
      },
      "execution_count": 364,
      "outputs": [
        {
          "output_type": "execute_result",
          "data": {
            "text/plain": [
              "17"
            ]
          },
          "metadata": {},
          "execution_count": 364
        }
      ]
    },
    {
      "cell_type": "code",
      "source": [
        "# Add hidden layers. The number of nodes in the first layer will be equal to the\n",
        "# number of features\n",
        "model1.add(Dense(input_dim, input_dim = input_dim, activation = 'relu'))\n",
        "# This is a classification problem so we use sigmoid for the activation function\n",
        "model1.add(Dense(1, activation = 'sigmoid'))\n",
        "model1.summary()"
      ],
      "metadata": {
        "id": "K9l3HZGe2cb8",
        "outputId": "eff6357a-4ce9-4ec4-9d23-52354ca2ebe8",
        "colab": {
          "base_uri": "https://localhost:8080/"
        }
      },
      "execution_count": 365,
      "outputs": [
        {
          "output_type": "stream",
          "name": "stdout",
          "text": [
            "Model: \"sequential_22\"\n",
            "_________________________________________________________________\n",
            " Layer (type)                Output Shape              Param #   \n",
            "=================================================================\n",
            " dense_62 (Dense)            (None, 17)                306       \n",
            "                                                                 \n",
            " dense_63 (Dense)            (None, 1)                 18        \n",
            "                                                                 \n",
            "=================================================================\n",
            "Total params: 324\n",
            "Trainable params: 324\n",
            "Non-trainable params: 0\n",
            "_________________________________________________________________\n"
          ]
        }
      ]
    },
    {
      "cell_type": "code",
      "source": [
        "# Compile the model\n",
        "model1.compile(loss = 'bce', \n",
        "               optimizer = 'adam',\n",
        "               metrics = [metrics.Recall(),\n",
        "                          metrics.Precision()])"
      ],
      "metadata": {
        "id": "QCTof2W43JB6"
      },
      "execution_count": 366,
      "outputs": []
    },
    {
      "cell_type": "code",
      "source": [
        "# Train the model\n",
        "history1 = model1.fit(X_train_proc, y_train,\n",
        "                      validation_data = (X_test_proc, y_test),\n",
        "                      epochs = 100,\n",
        "                      verbose = 0)"
      ],
      "metadata": {
        "id": "iyte5_1o4Sia"
      },
      "execution_count": 367,
      "outputs": []
    },
    {
      "cell_type": "code",
      "source": [
        "# Plot the history\n",
        "plot_history(history1)"
      ],
      "metadata": {
        "id": "bVXroly94crZ",
        "outputId": "5137b2e4-9085-452b-b2b6-6bcc00041cfa",
        "colab": {
          "base_uri": "https://localhost:8080/",
          "height": 809
        }
      },
      "execution_count": 368,
      "outputs": [
        {
          "output_type": "display_data",
          "data": {
            "text/plain": [
              "<Figure size 432x288 with 1 Axes>"
            ],
            "image/png": "[encoded data removed]"
          },
          "metadata": {
            "needs_background": "light"
          }
        },
        {
          "output_type": "display_data",
          "data": {
            "text/plain": [
              "<Figure size 432x288 with 1 Axes>"
            ],
            "image/png": "[encoded data removed]"
          },
          "metadata": {
            "needs_background": "light"
          }
        },
        {
          "output_type": "display_data",
          "data": {
            "text/plain": [
              "<Figure size 432x288 with 1 Axes>"
            ],
            "image/png": "[encoded data removed]"
          },
          "metadata": {
            "needs_background": "light"
          }
        }
      ]
    },
    {
      "cell_type": "markdown",
      "source": [
        "> The graph for the loss indicates our model is underfit. Our model has better precision than recall so it is giving a lower rate for false negatives. This means our model is more likely to incorrectly label a customer as 'unsatisfied'. This is okay from a business standpoint. Our stakeholder would prefer to label satisfied customers as 'unsatisfied' instead of labeling unsatisfied customers as 'satisfied'.\n",
        ">\n",
        "> Since our model is underfitting we will add an additional hidden layer to the next model."
      ],
      "metadata": {
        "id": "t-Vo3jQR_kGd"
      }
    },
    {
      "cell_type": "markdown",
      "source": [
        "#### Model 2"
      ],
      "metadata": {
        "id": "v6GMzlxXACrj"
      }
    },
    {
      "cell_type": "code",
      "source": [
        "# Instantiate the second model\n",
        "model2 = Sequential()"
      ],
      "metadata": {
        "id": "yjvVOZVkABds"
      },
      "execution_count": 369,
      "outputs": []
    },
    {
      "cell_type": "code",
      "source": [
        "# Add the hidden layers\n",
        "model2.add(Dense(input_dim, input_dim = input_dim, activation = 'relu'))\n",
        "model2.add(Dense(input_dim, activation = 'relu'))\n",
        "# Add the output layer\n",
        "model2.add(Dense(1, activation = 'sigmoid'))"
      ],
      "metadata": {
        "id": "RUe6VO4cAJN_"
      },
      "execution_count": 370,
      "outputs": []
    },
    {
      "cell_type": "code",
      "source": [
        "# Compile the model\n",
        "model2.compile(loss = 'bce', \n",
        "               optimizer = 'adam',\n",
        "               metrics = [metrics.Precision(),\n",
        "                          metrics.Recall()])"
      ],
      "metadata": {
        "id": "0wdTHCnVAeZ4"
      },
      "execution_count": 371,
      "outputs": []
    },
    {
      "cell_type": "code",
      "source": [
        "# Train the model\n",
        "history2 = model2.fit(X_train_proc, y_train,\n",
        "                      validation_data = (X_test_proc, y_test),\n",
        "                      epochs = 100,\n",
        "                      verbose = 0)"
      ],
      "metadata": {
        "id": "A4V7DwKaAnee"
      },
      "execution_count": 372,
      "outputs": []
    },
    {
      "cell_type": "code",
      "source": [
        "# Plot the history\n",
        "plot_history(history2)"
      ],
      "metadata": {
        "id": "GJZbiLtIAuTd",
        "outputId": "c7a4687b-1ec1-45b9-8baa-e2be51fd8d87",
        "colab": {
          "base_uri": "https://localhost:8080/",
          "height": 809
        }
      },
      "execution_count": 373,
      "outputs": [
        {
          "output_type": "display_data",
          "data": {
            "text/plain": [
              "<Figure size 432x288 with 1 Axes>"
            ],
            "image/png": "[encoded data removed]"
          },
          "metadata": {
            "needs_background": "light"
          }
        },
        {
          "output_type": "display_data",
          "data": {
            "text/plain": [
              "<Figure size 432x288 with 1 Axes>"
            ],
            "image/png": "[encoded data removed]"
          },
          "metadata": {
            "needs_background": "light"
          }
        },
        {
          "output_type": "display_data",
          "data": {
            "text/plain": [
              "<Figure size 432x288 with 1 Axes>"
            ],
            "image/png": "[encoded data removed]"
          },
          "metadata": {
            "needs_background": "light"
          }
        }
      ]
    },
    {
      "cell_type": "markdown",
      "source": [
        "> We see from the loss graph that our model is now overfit. We will add some dropout to the next model to try and compensate for this. We see a lot of oscillations in our precision and recall."
      ],
      "metadata": {
        "id": "r4FgFxSyC_SE"
      }
    },
    {
      "cell_type": "markdown",
      "source": [
        "#### Model 3"
      ],
      "metadata": {
        "id": "-_Q1A5JoDvzB"
      }
    },
    {
      "cell_type": "code",
      "source": [
        "# Instantiate the third model\n",
        "model3 = Sequential()"
      ],
      "metadata": {
        "id": "T-01rRFmDw5y"
      },
      "execution_count": 374,
      "outputs": []
    },
    {
      "cell_type": "code",
      "source": [
        "# Add hidden layers and dropout\n",
        "model3.add(Dense(input_dim, input_dim = input_dim, activation = 'relu'))\n",
        "model3.add(Dropout(0.3))\n",
        "model3.add(Dense(input_dim, activation = 'relu'))\n",
        "model3.add(Dropout(0.3))\n",
        "# Add the output layer\n",
        "model3.add(Dense(1, activation = 'sigmoid'))"
      ],
      "metadata": {
        "id": "b5uyEiNoDz_P"
      },
      "execution_count": 375,
      "outputs": []
    },
    {
      "cell_type": "code",
      "source": [
        "# Compile the model\n",
        "model3.compile(loss = 'bce', \n",
        "               optimizer = 'adam',\n",
        "               metrics = [metrics.Precision(),\n",
        "                          metrics.Recall()])"
      ],
      "metadata": {
        "id": "Zsn7uXqnEZdW"
      },
      "execution_count": 376,
      "outputs": []
    },
    {
      "cell_type": "code",
      "source": [
        "# Train the model with early stopping\n",
        "history3 = model3.fit(X_train_proc, y_train,\n",
        "                      validation_data = (X_test_proc, y_test),\n",
        "                      epochs = 100,\n",
        "                      verbose = 0)"
      ],
      "metadata": {
        "id": "blj0HRNuEAa0"
      },
      "execution_count": 377,
      "outputs": []
    },
    {
      "cell_type": "code",
      "source": [
        "# Plot the history\n",
        "plot_history(history3)"
      ],
      "metadata": {
        "id": "euqf3TbbEYOE",
        "outputId": "d49ef62a-28e2-485b-9e48-770dddb4deb3",
        "colab": {
          "base_uri": "https://localhost:8080/",
          "height": 809
        }
      },
      "execution_count": 378,
      "outputs": [
        {
          "output_type": "display_data",
          "data": {
            "text/plain": [
              "<Figure size 432x288 with 1 Axes>"
            ],
            "image/png": "[encoded data removed]"
          },
          "metadata": {
            "needs_background": "light"
          }
        },
        {
          "output_type": "display_data",
          "data": {
            "text/plain": [
              "<Figure size 432x288 with 1 Axes>"
            ],
            "image/png": "[encoded data removed]"
          },
          "metadata": {
            "needs_background": "light"
          }
        },
        {
          "output_type": "display_data",
          "data": {
            "text/plain": [
              "<Figure size 432x288 with 1 Axes>"
            ],
            "image/png": "[encoded data removed]"
          },
          "metadata": {
            "needs_background": "light"
          }
        }
      ]
    },
    {
      "cell_type": "markdown",
      "source": [
        "> The dropout has caused our test scores to be better than our training scores. We see only a marginal improvement in the loss, however there are fewer oscillations in our test precision and recall so we will choose this model as our final model."
      ],
      "metadata": {
        "id": "QD8uKB6YJDrl"
      }
    },
    {
      "cell_type": "markdown",
      "source": [
        "#### Final model"
      ],
      "metadata": {
        "id": "ZGWArIq6INQX"
      }
    },
    {
      "cell_type": "code",
      "source": [
        "# We choose the third model as our final model. We are building it from scratch\n",
        "# so we can add early stopping\n",
        "final_model = Sequential()"
      ],
      "metadata": {
        "id": "Uxb4HydtIOaa"
      },
      "execution_count": 379,
      "outputs": []
    },
    {
      "cell_type": "code",
      "source": [
        "# Add hidden layers and dropout\n",
        "final_model.add(Dense(input_dim, input_dim = input_dim, activation = 'relu'))\n",
        "final_model.add(Dropout(0.3))\n",
        "final_model.add(Dense(input_dim, activation = 'relu'))\n",
        "final_model.add(Dropout(0.3))\n",
        "# Add the output layer\n",
        "final_model.add(Dense(1, activation = 'sigmoid'))"
      ],
      "metadata": {
        "id": "j9JBZgcSLaNR"
      },
      "execution_count": 380,
      "outputs": []
    },
    {
      "cell_type": "code",
      "source": [
        "# Compile the model\n",
        "final_model.compile(loss = 'bce',\n",
        "                    optimizer = 'adam',\n",
        "                    metrics = [metrics.Recall(),\n",
        "                               metrics.Precision()])"
      ],
      "metadata": {
        "id": "QcrzSr7qK0nZ"
      },
      "execution_count": 381,
      "outputs": []
    },
    {
      "cell_type": "code",
      "source": [
        "# Train the final model using early stopping\n",
        "earlystopper = EarlyStopping(patience = 5)\n",
        "history = final_model.fit(X_train_proc, y_train,\n",
        "                          validation_data = (X_test_proc, y_test),\n",
        "                          epochs = 50,\n",
        "                          verbose = 0,\n",
        "                          callbacks = [earlystopper])"
      ],
      "metadata": {
        "id": "pH40W7pUJxVp"
      },
      "execution_count": 382,
      "outputs": []
    },
    {
      "cell_type": "code",
      "source": [
        "# Plot the history\n",
        "plot_history(history)"
      ],
      "metadata": {
        "id": "W6XXu4SwKeAT",
        "outputId": "7a1cbfd9-1bb4-4da9-96c3-9118dad30c5f",
        "colab": {
          "base_uri": "https://localhost:8080/",
          "height": 809
        }
      },
      "execution_count": 383,
      "outputs": [
        {
          "output_type": "display_data",
          "data": {
            "text/plain": [
              "<Figure size 432x288 with 1 Axes>"
            ],
            "image/png": "[encoded data removed]"
          },
          "metadata": {
            "needs_background": "light"
          }
        },
        {
          "output_type": "display_data",
          "data": {
            "text/plain": [
              "<Figure size 432x288 with 1 Axes>"
            ],
            "image/png": "[encoded data removed]"
          },
          "metadata": {
            "needs_background": "light"
          }
        },
        {
          "output_type": "display_data",
          "data": {
            "text/plain": [
              "<Figure size 432x288 with 1 Axes>"
            ],
            "image/png": "[encoded data removed]"
          },
          "metadata": {
            "needs_background": "light"
          }
        }
      ]
    },
    {
      "cell_type": "code",
      "source": [
        "# Evaluate the model\n",
        "train_preds = final_model.predict(X_train_proc)\n",
        "test_preds = final_model.predict(X_test_proc)\n",
        "print('-'*18 + ' Traning Metrics ' + '-'*18)\n",
        "print(classification_report(y_train, np.round(train_preds)))\n",
        "print('\\n' + '-'*19 + ' Test Metrics ' + '-'*20)\n",
        "print(classification_report(y_test, np.round(test_preds)))"
      ],
      "metadata": {
        "id": "A85MdVifNlx-",
        "outputId": "d05d4467-f9f3-4952-911a-fceb1acd9b16",
        "colab": {
          "base_uri": "https://localhost:8080/"
        }
      },
      "execution_count": 384,
      "outputs": [
        {
          "output_type": "stream",
          "name": "stdout",
          "text": [
            "------------------ Traning Metrics ------------------\n",
            "              precision    recall  f1-score   support\n",
            "\n",
            "           0       0.92      0.97      0.94      8482\n",
            "           1       0.95      0.88      0.92      6518\n",
            "\n",
            "    accuracy                           0.93     15000\n",
            "   macro avg       0.93      0.93      0.93     15000\n",
            "weighted avg       0.93      0.93      0.93     15000\n",
            "\n",
            "\n",
            "------------------- Test Metrics --------------------\n",
            "              precision    recall  f1-score   support\n",
            "\n",
            "           0       0.92      0.97      0.94      2857\n",
            "           1       0.95      0.88      0.92      2143\n",
            "\n",
            "    accuracy                           0.93      5000\n",
            "   macro avg       0.94      0.93      0.93      5000\n",
            "weighted avg       0.93      0.93      0.93      5000\n",
            "\n"
          ]
        }
      ]
    },
    {
      "cell_type": "code",
      "source": [
        "# Make a confusion matrix for the test data\n",
        "labels = ['unsatisfied', 'satisfied']\n",
        "ConfusionMatrixDisplay.from_predictions(y_test, np.round(test_preds),\n",
        "                                        display_labels = labels,\n",
        "                                        normalize = 'true',\n",
        "                                        cmap = 'Blues')"
      ],
      "metadata": {
        "id": "ep8V8T5id7Vy",
        "outputId": "e7d6479f-e953-4744-87be-f663252a2a7d",
        "colab": {
          "base_uri": "https://localhost:8080/",
          "height": 296
        }
      },
      "execution_count": 385,
      "outputs": [
        {
          "output_type": "execute_result",
          "data": {
            "text/plain": [
              "<sklearn.metrics._plot.confusion_matrix.ConfusionMatrixDisplay at 0x7f0bafa44f90>"
            ]
          },
          "metadata": {},
          "execution_count": 385
        },
        {
          "output_type": "display_data",
          "data": {
            "text/plain": [
              "<Figure size 432x288 with 2 Axes>"
            ],
            "image/png": "[encoded data removed]"
          },
          "metadata": {
            "needs_background": "light"
          }
        }
      ]
    },
    {
      "cell_type": "markdown",
      "source": [
        "> Our final model does reasonably well. The similarity in our metrics indicates we are not overfitting. The confusion matrix shows us we are more likely to predict a false negative than a false positive. This is okay for our stakeholder as it is better to incorrectly label a satisfied customer than to incorrectly label an unsatisfied customer.\n",
        ">\n",
        "> In the event that our precision was lower, we could increase the threshold to reduce the number of false positives. "
      ],
      "metadata": {
        "id": "jxi_F6-hgRUZ"
      }
    }
  ]
}
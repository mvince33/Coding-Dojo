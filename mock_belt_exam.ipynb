{
  "nbformat": 4,
  "nbformat_minor": 0,
  "metadata": {
    "colab": {
      "name": "mock_belt_exam.ipynb",
      "provenance": [],
      "mount_file_id": "14_Jbtkn_UA4A5NqMySrQxyHntoPjCUSH",
      "authorship_tag": "ABX9TyMq03nkj10RLQrfWzev1Kte",
      "include_colab_link": true
    },
    "kernelspec": {
      "name": "python3",
      "display_name": "Python 3"
    },
    "language_info": {
      "name": "python"
    }
  },
  "cells": [
    {
      "cell_type": "markdown",
      "metadata": {
        "id": "view-in-github",
        "colab_type": "text"
      },
      "source": [
        "<a href=\"https://colab.research.google.com/github/mvince33/Coding-Dojo/blob/main/mock_belt_exam.ipynb\" target=\"_parent\"><img src=\"https://colab.research.google.com/assets/colab-badge.svg\" alt=\"Open In Colab\"/></a>"
      ]
    },
    {
      "cell_type": "code",
      "execution_count": 56,
      "metadata": {
        "id": "c1rKl_dk8V3r"
      },
      "outputs": [],
      "source": [
        "from google.colab import drive\n",
        "import numpy as np\n",
        "import pandas as pd\n",
        "import matplotlib.pyplot as plt"
      ]
    },
    {
      "cell_type": "code",
      "source": [
        "path = '/content/drive/MyDrive/Coding Dojo/03 Week 3: Exploratory Viz/literacy_rates_updated.csv'\n",
        "df = pd.read_csv(path)\n",
        "df.head()"
      ],
      "metadata": {
        "colab": {
          "base_uri": "https://localhost:8080/",
          "height": 206
        },
        "id": "j2qmltnaBglm",
        "outputId": "5a522a73-a152-4ebf-a07d-99b073d757dd"
      },
      "execution_count": 57,
      "outputs": [
        {
          "output_type": "execute_result",
          "data": {
            "text/plain": [
              "                      Region      Country  Year    Age  Gender Literacy rate\n",
              "0  Central and Southern Asia  Afghanistan  2011    <15  female     0.1761206\n",
              "1  Central and Southern Asia  Afghanistan  2011    <15    male      0.454171\n",
              "2                        NaN  Afghanistan  2011  15-24  female     0.3211322\n",
              "3                        NaN  Afghanistan  2011  15-24    male     0.6187907\n",
              "4  Central and Southern Asia  Afghanistan  2011  25-64  female     0.0841276"
            ],
            "text/html": [
              "\n",
              "  <div id=\"df-8b568e8a-c57b-438b-a4c7-f894db5a5187\">\n",
              "    <div class=\"colab-df-container\">\n",
              "      <div>\n",
              "<style scoped>\n",
              "    .dataframe tbody tr th:only-of-type {\n",
              "        vertical-align: middle;\n",
              "    }\n",
              "\n",
              "    .dataframe tbody tr th {\n",
              "        vertical-align: top;\n",
              "    }\n",
              "\n",
              "    .dataframe thead th {\n",
              "        text-align: right;\n",
              "    }\n",
              "</style>\n",
              "<table border=\"1\" class=\"dataframe\">\n",
              "  <thead>\n",
              "    <tr style=\"text-align: right;\">\n",
              "      <th></th>\n",
              "      <th>Region</th>\n",
              "      <th>Country</th>\n",
              "      <th>Year</th>\n",
              "      <th>Age</th>\n",
              "      <th>Gender</th>\n",
              "      <th>Literacy rate</th>\n",
              "    </tr>\n",
              "  </thead>\n",
              "  <tbody>\n",
              "    <tr>\n",
              "      <th>0</th>\n",
              "      <td>Central and Southern Asia</td>\n",
              "      <td>Afghanistan</td>\n",
              "      <td>2011</td>\n",
              "      <td>&lt;15</td>\n",
              "      <td>female</td>\n",
              "      <td>0.1761206</td>\n",
              "    </tr>\n",
              "    <tr>\n",
              "      <th>1</th>\n",
              "      <td>Central and Southern Asia</td>\n",
              "      <td>Afghanistan</td>\n",
              "      <td>2011</td>\n",
              "      <td>&lt;15</td>\n",
              "      <td>male</td>\n",
              "      <td>0.454171</td>\n",
              "    </tr>\n",
              "    <tr>\n",
              "      <th>2</th>\n",
              "      <td>NaN</td>\n",
              "      <td>Afghanistan</td>\n",
              "      <td>2011</td>\n",
              "      <td>15-24</td>\n",
              "      <td>female</td>\n",
              "      <td>0.3211322</td>\n",
              "    </tr>\n",
              "    <tr>\n",
              "      <th>3</th>\n",
              "      <td>NaN</td>\n",
              "      <td>Afghanistan</td>\n",
              "      <td>2011</td>\n",
              "      <td>15-24</td>\n",
              "      <td>male</td>\n",
              "      <td>0.6187907</td>\n",
              "    </tr>\n",
              "    <tr>\n",
              "      <th>4</th>\n",
              "      <td>Central and Southern Asia</td>\n",
              "      <td>Afghanistan</td>\n",
              "      <td>2011</td>\n",
              "      <td>25-64</td>\n",
              "      <td>female</td>\n",
              "      <td>0.0841276</td>\n",
              "    </tr>\n",
              "  </tbody>\n",
              "</table>\n",
              "</div>\n",
              "      <button class=\"colab-df-convert\" onclick=\"convertToInteractive('df-8b568e8a-c57b-438b-a4c7-f894db5a5187')\"\n",
              "              title=\"Convert this dataframe to an interactive table.\"\n",
              "              style=\"display:none;\">\n",
              "        \n",
              "  <svg xmlns=\"http://www.w3.org/2000/svg\" height=\"24px\"viewBox=\"0 0 24 24\"\n",
              "       width=\"24px\">\n",
              "    <path d=\"M0 0h24v24H0V0z\" fill=\"none\"/>\n",
              "    <path d=\"M18.56 5.44l.94 2.06.94-2.06 2.06-.94-2.06-.94-.94-2.06-.94 2.06-2.06.94zm-11 1L8.5 8.5l.94-2.06 2.06-.94-2.06-.94L8.5 2.5l-.94 2.06-2.06.94zm10 10l.94 2.06.94-2.06 2.06-.94-2.06-.94-.94-2.06-.94 2.06-2.06.94z\"/><path d=\"M17.41 7.96l-1.37-1.37c-.4-.4-.92-.59-1.43-.59-.52 0-1.04.2-1.43.59L10.3 9.45l-7.72 7.72c-.78.78-.78 2.05 0 2.83L4 21.41c.39.39.9.59 1.41.59.51 0 1.02-.2 1.41-.59l7.78-7.78 2.81-2.81c.8-.78.8-2.07 0-2.86zM5.41 20L4 18.59l7.72-7.72 1.47 1.35L5.41 20z\"/>\n",
              "  </svg>\n",
              "      </button>\n",
              "      \n",
              "  <style>\n",
              "    .colab-df-container {\n",
              "      display:flex;\n",
              "      flex-wrap:wrap;\n",
              "      gap: 12px;\n",
              "    }\n",
              "\n",
              "    .colab-df-convert {\n",
              "      background-color: #E8F0FE;\n",
              "      border: none;\n",
              "      border-radius: 50%;\n",
              "      cursor: pointer;\n",
              "      display: none;\n",
              "      fill: #1967D2;\n",
              "      height: 32px;\n",
              "      padding: 0 0 0 0;\n",
              "      width: 32px;\n",
              "    }\n",
              "\n",
              "    .colab-df-convert:hover {\n",
              "      background-color: #E2EBFA;\n",
              "      box-shadow: 0px 1px 2px rgba(60, 64, 67, 0.3), 0px 1px 3px 1px rgba(60, 64, 67, 0.15);\n",
              "      fill: #174EA6;\n",
              "    }\n",
              "\n",
              "    [theme=dark] .colab-df-convert {\n",
              "      background-color: #3B4455;\n",
              "      fill: #D2E3FC;\n",
              "    }\n",
              "\n",
              "    [theme=dark] .colab-df-convert:hover {\n",
              "      background-color: #434B5C;\n",
              "      box-shadow: 0px 1px 3px 1px rgba(0, 0, 0, 0.15);\n",
              "      filter: drop-shadow(0px 1px 2px rgba(0, 0, 0, 0.3));\n",
              "      fill: #FFFFFF;\n",
              "    }\n",
              "  </style>\n",
              "\n",
              "      <script>\n",
              "        const buttonEl =\n",
              "          document.querySelector('#df-8b568e8a-c57b-438b-a4c7-f894db5a5187 button.colab-df-convert');\n",
              "        buttonEl.style.display =\n",
              "          google.colab.kernel.accessAllowed ? 'block' : 'none';\n",
              "\n",
              "        async function convertToInteractive(key) {\n",
              "          const element = document.querySelector('#df-8b568e8a-c57b-438b-a4c7-f894db5a5187');\n",
              "          const dataTable =\n",
              "            await google.colab.kernel.invokeFunction('convertToInteractive',\n",
              "                                                     [key], {});\n",
              "          if (!dataTable) return;\n",
              "\n",
              "          const docLinkHtml = 'Like what you see? Visit the ' +\n",
              "            '<a target=\"_blank\" href=https://colab.research.google.com/notebooks/data_table.ipynb>data table notebook</a>'\n",
              "            + ' to learn more about interactive tables.';\n",
              "          element.innerHTML = '';\n",
              "          dataTable['output_type'] = 'display_data';\n",
              "          await google.colab.output.renderOutput(dataTable, element);\n",
              "          const docLink = document.createElement('div');\n",
              "          docLink.innerHTML = docLinkHtml;\n",
              "          element.appendChild(docLink);\n",
              "        }\n",
              "      </script>\n",
              "    </div>\n",
              "  </div>\n",
              "  "
            ]
          },
          "metadata": {},
          "execution_count": 57
        }
      ]
    },
    {
      "cell_type": "code",
      "source": [
        "# Check for duplicates\n",
        "df.duplicated().sum()\n",
        "df[df.duplicated(keep = False)]\n",
        "df.drop_duplicates(inplace = True)\n",
        "df.duplicated().sum()"
      ],
      "metadata": {
        "colab": {
          "base_uri": "https://localhost:8080/"
        },
        "id": "8-tCsu6jB2MJ",
        "outputId": "53906fd4-f1cf-4022-fb1f-39754e07cbbc"
      },
      "execution_count": 58,
      "outputs": [
        {
          "output_type": "execute_result",
          "data": {
            "text/plain": [
              "0"
            ]
          },
          "metadata": {},
          "execution_count": 58
        }
      ]
    },
    {
      "cell_type": "code",
      "source": [
        "# Check for missing values\n",
        "df.isna()\n",
        "df.info()"
      ],
      "metadata": {
        "colab": {
          "base_uri": "https://localhost:8080/"
        },
        "id": "pVzOLenWG-9_",
        "outputId": "00d32bf3-99dd-4c81-cbc3-eac3981f4502"
      },
      "execution_count": 59,
      "outputs": [
        {
          "output_type": "stream",
          "name": "stdout",
          "text": [
            "<class 'pandas.core.frame.DataFrame'>\n",
            "Int64Index: 3303 entries, 0 to 3312\n",
            "Data columns (total 6 columns):\n",
            " #   Column         Non-Null Count  Dtype \n",
            "---  ------         --------------  ----- \n",
            " 0   Region         3299 non-null   object\n",
            " 1   Country        3303 non-null   object\n",
            " 2   Year           3303 non-null   object\n",
            " 3   Age            3303 non-null   object\n",
            " 4   Gender         3303 non-null   object\n",
            " 5   Literacy rate  3298 non-null   object\n",
            "dtypes: object(6)\n",
            "memory usage: 180.6+ KB\n"
          ]
        }
      ]
    },
    {
      "cell_type": "code",
      "source": [
        "# Check the Region column.\n",
        "df.loc[df['Region'].isna(), :]\n",
        "\n",
        "# We can use the entry in 'Country' to determine\n",
        "# what to use for 'Region' for missing values.\n",
        "# All the missing entries in 'Region' should be\n",
        "# 'Central and Southern Asia'\n",
        "df['Region'] = df['Region'].fillna('Central and Southern Asia')\n",
        "df['Region'].isna().sum()"
      ],
      "metadata": {
        "colab": {
          "base_uri": "https://localhost:8080/"
        },
        "id": "4aDstJUla0nH",
        "outputId": "a5ed9843-7421-4aac-d588-a8766616a6af"
      },
      "execution_count": 60,
      "outputs": [
        {
          "output_type": "execute_result",
          "data": {
            "text/plain": [
              "0"
            ]
          },
          "metadata": {},
          "execution_count": 60
        }
      ]
    },
    {
      "cell_type": "code",
      "source": [
        "# Check the 'Literacy rate' column\n",
        "print(df.loc[df['Literacy rate'].isna(), :])\n",
        "\n",
        "# Check the literacy rates of people in Spain less than 65 years old\n",
        "df.loc[(df['Country'] == 'Spain') & (df['Age'] != '65+'), 'Literacy rate'].sort_values()\n",
        "\n",
        "# Check the literacy rates of Europeans between 15 and 64.\n",
        "df.loc[(df['Region'] == 'Europe and Northern America') & (df['Age'] == '15-24'), 'Literacy rate'].sort_values()\n",
        "\n",
        "# Check the literacy rates of people over 65 in Singapore\n",
        "df.loc[(df['Country'] == 'Singapore') & (df['Age'] == '65+'), :].sort_values(by = 'Literacy rate')\n",
        "\n",
        "# The literacy rate in Spain for those under 65 is between 97% and 100%\n",
        "# The literacy rate in Europe and North America for people between 15 and 24 is also between 97% and 100%\n",
        "# So we will impute the missing values in Europe with the average of the literacy\n",
        "# rates in Spain for those under 65 and the average literacy for 15-24 year olds in\n",
        "# Europe and North America.\n",
        "\n",
        "# In 2010 the literace rate for men over 65 was about 94.6% The value in 2015 for men\n",
        "# over 65 in Singapore is missing. The literacy rate for women over 65 in Singapore\n",
        "# increased by about 12%. We will assume that \"the rising tide lifts all boats\" so men\n",
        "# over 65 also enjoyed a significant increase in literacy.\n",
        "\n",
        "# Based on the above observations we will impute the missing values for literacy rates \n",
        "# with the average literacy rate for the region 'Europe and Northern America.'\n",
        "\n",
        "# Get the average literacy rate for the region 'Europe and Northern America'.\n",
        "avg_lit_rate = df.loc[df['Region'] == 'Europe and Northern America', 'Literacy rate'].dropna().astype(float)\n",
        "print()\n",
        "avg_lit_rate = avg_lit_rate.mean()\n",
        "avg_lit_rate\n",
        "\n",
        "# Fill the missing values.\n",
        "df.fillna(avg_lit_rate, inplace = True)"
      ],
      "metadata": {
        "colab": {
          "base_uri": "https://localhost:8080/"
        },
        "id": "cEK3vLxaeLTb",
        "outputId": "d8e6cd85-c24a-4403-e44f-cb427f196db8"
      },
      "execution_count": 61,
      "outputs": [
        {
          "output_type": "stream",
          "name": "stdout",
          "text": [
            "                             Region    Country  Year    Age  Gender  \\\n",
            "498  Eastern and South-Eastern Asia  Singapore  2010    65+    male   \n",
            "608     Europe and Northern America    Albania  2012  15-24  female   \n",
            "753     Europe and Northern America   Portugal  2011  15-24    male   \n",
            "855     Europe and Northern America      Spain  2010    <15  female   \n",
            "884     Europe and Northern America      Spain  2013  25-64    male   \n",
            "\n",
            "    Literacy rate  \n",
            "498           NaN  \n",
            "608           NaN  \n",
            "753           NaN  \n",
            "855           NaN  \n",
            "884           NaN  \n",
            "\n"
          ]
        }
      ]
    },
    {
      "cell_type": "code",
      "source": [
        "# Confirm there are no missing values\n",
        "df.isna().sum()"
      ],
      "metadata": {
        "id": "by4SbjqlnZou",
        "colab": {
          "base_uri": "https://localhost:8080/"
        },
        "outputId": "383caf3c-e727-4af2-f16d-fe8f5279cefb"
      },
      "execution_count": 62,
      "outputs": [
        {
          "output_type": "execute_result",
          "data": {
            "text/plain": [
              "Region           0\n",
              "Country          0\n",
              "Year             0\n",
              "Age              0\n",
              "Gender           0\n",
              "Literacy rate    0\n",
              "dtype: int64"
            ]
          },
          "metadata": {},
          "execution_count": 62
        }
      ]
    },
    {
      "cell_type": "code",
      "source": [
        "# We now ensure each column is of the correct data type\n",
        "df.info()\n",
        "\n",
        "# Fix the literacy rate column.\n",
        "#df['Literacy rate'].astype(float)\n",
        "\n",
        "# In the above step we found an inconsistency in the literacy rate column.\n",
        "filter = df['Literacy rate'].str.contains('%').astype(bool)\n",
        "df[filter]\n",
        "\n",
        "# Not sure why .str.contains('%') included rows without percent signs.\n",
        "# There seems to be only one offending row so we will adjust it manually.\n",
        "df.loc[12, 'Literacy rate'] = 0.4538\n",
        "\n",
        "# Now fix the literacy rate column\n",
        "df['Literacy rate'] = df['Literacy rate'].astype(float)"
      ],
      "metadata": {
        "colab": {
          "base_uri": "https://localhost:8080/"
        },
        "id": "l6N59dhOn0cu",
        "outputId": "c3eb2c69-01ac-4aab-ec5b-59dfd5ca0f92"
      },
      "execution_count": 63,
      "outputs": [
        {
          "output_type": "stream",
          "name": "stdout",
          "text": [
            "<class 'pandas.core.frame.DataFrame'>\n",
            "Int64Index: 3303 entries, 0 to 3312\n",
            "Data columns (total 6 columns):\n",
            " #   Column         Non-Null Count  Dtype \n",
            "---  ------         --------------  ----- \n",
            " 0   Region         3303 non-null   object\n",
            " 1   Country        3303 non-null   object\n",
            " 2   Year           3303 non-null   object\n",
            " 3   Age            3303 non-null   object\n",
            " 4   Gender         3303 non-null   object\n",
            " 5   Literacy rate  3303 non-null   object\n",
            "dtypes: object(6)\n",
            "memory usage: 180.6+ KB\n"
          ]
        }
      ]
    },
    {
      "cell_type": "code",
      "source": [
        "# Check that the Literacy rate column has been fixed\n",
        "df.info()\n",
        "\n",
        "# We need to fix the year column now.\n",
        "#df['Year'] = df['Year'].astype(int)\n",
        "\n",
        "# The above step revealed a year with an inderscore\n",
        "filter = df['Year'].str.contains('_')\n",
        "df.loc[filter, 'Year']\n",
        "\n",
        "# Replace the underscore with an empyt space\n",
        "df['Year'] = df['Year'].str.replace('_', '')\n",
        "\n",
        "# Now convert years to ints\n",
        "df['Year'] = df['Year'].astype(int)"
      ],
      "metadata": {
        "colab": {
          "base_uri": "https://localhost:8080/"
        },
        "id": "LsHu5CsHQn2A",
        "outputId": "285a9ab8-0f85-4bfa-c412-a2991ed11899"
      },
      "execution_count": 64,
      "outputs": [
        {
          "output_type": "stream",
          "name": "stdout",
          "text": [
            "<class 'pandas.core.frame.DataFrame'>\n",
            "Int64Index: 3303 entries, 0 to 3312\n",
            "Data columns (total 6 columns):\n",
            " #   Column         Non-Null Count  Dtype  \n",
            "---  ------         --------------  -----  \n",
            " 0   Region         3303 non-null   object \n",
            " 1   Country        3303 non-null   object \n",
            " 2   Year           3303 non-null   object \n",
            " 3   Age            3303 non-null   object \n",
            " 4   Gender         3303 non-null   object \n",
            " 5   Literacy rate  3303 non-null   float64\n",
            "dtypes: float64(1), object(5)\n",
            "memory usage: 309.7+ KB\n"
          ]
        }
      ]
    },
    {
      "cell_type": "code",
      "source": [
        "df.info()"
      ],
      "metadata": {
        "colab": {
          "base_uri": "https://localhost:8080/"
        },
        "id": "17wZI22uR-mx",
        "outputId": "5fe12816-0562-42fc-b7fd-3a532a2b58a6"
      },
      "execution_count": 65,
      "outputs": [
        {
          "output_type": "stream",
          "name": "stdout",
          "text": [
            "<class 'pandas.core.frame.DataFrame'>\n",
            "Int64Index: 3303 entries, 0 to 3312\n",
            "Data columns (total 6 columns):\n",
            " #   Column         Non-Null Count  Dtype  \n",
            "---  ------         --------------  -----  \n",
            " 0   Region         3303 non-null   object \n",
            " 1   Country        3303 non-null   object \n",
            " 2   Year           3303 non-null   int64  \n",
            " 3   Age            3303 non-null   object \n",
            " 4   Gender         3303 non-null   object \n",
            " 5   Literacy rate  3303 non-null   float64\n",
            "dtypes: float64(1), int64(1), object(4)\n",
            "memory usage: 309.7+ KB\n"
          ]
        }
      ]
    }
  ]
}